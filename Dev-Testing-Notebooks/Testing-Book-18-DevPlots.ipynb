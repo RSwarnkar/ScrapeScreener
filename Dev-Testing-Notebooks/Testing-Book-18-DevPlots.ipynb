{
 "cells": [
  {
   "cell_type": "code",
   "execution_count": 24,
   "id": "48e38a9c-4ec5-4a42-986b-c16e1991e612",
   "metadata": {},
   "outputs": [],
   "source": [
    "import pandas as pd\n",
    "import numpy as np\n",
    "from bs4 import BeautifulSoup\n",
    "import requests as rq\n",
    "import re\n",
    "import datetime\n",
    "import os\n",
    "import time\n",
    "\n",
    "import plotly.offline as pyo \n",
    "import plotly.graph_objects as go\n",
    "from plotly.subplots import make_subplots\n",
    "\n",
    "color_set = {\n",
    "        \"dark_red\"       : \"#6f1926\",\n",
    "        \"red\"            : \"#de324c\",\n",
    "        \"orange\"         : \"#f4895f\",\n",
    "        \"yellow\"         : \"#f8e16f\",\n",
    "        \"bright_green\"   : \"#8bc34a\",\n",
    "        \"dark_green\"     : \"#009688\", #\"#318a01\",\n",
    "        \"blue\"           : \"#369acc\",\n",
    "        \"sky_blue\"       : \"#80d9ff\",\n",
    "        \"dark_blue\"      : \"#0057e5\",\n",
    "        \"violet\"         : \"#9656a2\",\n",
    "        \"purple\"         : \"#7b4fff\",\n",
    "        \"black\"          : \"#212020\",\n",
    "        \"gray\"           : \"#777675\"\n",
    "    }"
   ]
  },
  {
   "cell_type": "code",
   "execution_count": 33,
   "id": "66631e22-bc2b-46eb-a6a0-7fc912d65224",
   "metadata": {},
   "outputs": [],
   "source": [
    "stock_excel_filepath = '../Output/RawReports-05-ScrapeSummerizeStockSet/SummaryReport-20240906-081114.xlsx'\n",
    "stock_excel_filepath = '../Output/RawReports-05-ScrapeSummerizeStockSet/SummaryReport-20240906-084343.xlsx'\n",
    "stock_excel_filepath = '../Output/RawReports-05-ScrapeSummerizeStockSet/SummaryReport-20240906-084944.xlsx'\n",
    "stock_excel_filepath = '../Output/RawReports-05-ScrapeSummerizeStockSet/SummaryReport-20240907-095717.xlsx'"
   ]
  },
  {
   "cell_type": "code",
   "execution_count": 34,
   "id": "b1c1353e-355b-4d2e-8262-6e3ee5f8cf03",
   "metadata": {},
   "outputs": [],
   "source": [
    "xls = pd.ExcelFile(stock_excel_filepath)\n",
    "\n",
    "df_basic_info               = pd.read_excel(xls, \"Basic Info\") # Top Ratios\n",
    "df_top_ratios               = pd.read_excel(xls, \"Top Ratios\") # Top Ratios\n",
    "df_quaterly_results         = pd.read_excel(xls, \"Quarterly Results\") # Quarterly Results\n",
    "df_profit_n_loss            = pd.read_excel(xls, \"Profit & Loss\") # Profit & Loss\n",
    "df_compounded_sales_growth  = pd.read_excel(xls, \"Compounded Sales Growth\") # Compounded Sales Growth\n",
    "df_compounded_profit_growth = pd.read_excel(xls, \"Compounded Profit Growth\") # Compounded Profit Growth\n",
    "df_stock_price_cagr         = pd.read_excel(xls, \"Stock Price CAGR\") # Stock Price CAGR\n",
    "df_return_on_equity         = pd.read_excel(xls, \"Return on Equity\") # Return on Equity\n",
    "df_balance_sheet            = pd.read_excel(xls, \"Balance Sheet\") # Balance Sheet\n",
    "df_cash_flows               = pd.read_excel(xls, \"Cash Flows\") # Cash Flows\n",
    "df_ratios                   = pd.read_excel(xls, \"Ratios\") # Ratios\n",
    "df_shareholding_pattern     = pd.read_excel(xls, \"Shareholding Pattern\") # Shareholding Pattern"
   ]
  },
  {
   "cell_type": "code",
   "execution_count": 56,
   "id": "73e18840-2c6d-4dea-a594-59ad15fc00c5",
   "metadata": {
    "scrolled": true
   },
   "outputs": [
    {
     "data": {
      "text/html": [
       "<div>\n",
       "<style scoped>\n",
       "    .dataframe tbody tr th:only-of-type {\n",
       "        vertical-align: middle;\n",
       "    }\n",
       "\n",
       "    .dataframe tbody tr th {\n",
       "        vertical-align: top;\n",
       "    }\n",
       "\n",
       "    .dataframe thead th {\n",
       "        text-align: right;\n",
       "    }\n",
       "</style>\n",
       "<table border=\"1\" class=\"dataframe\">\n",
       "  <thead>\n",
       "    <tr style=\"text-align: right;\">\n",
       "      <th></th>\n",
       "      <th>Shareholding Pattern</th>\n",
       "      <th>Stockname</th>\n",
       "      <th>Sep 2021</th>\n",
       "      <th>Dec 2021</th>\n",
       "      <th>Mar 2022</th>\n",
       "      <th>Jun 2022</th>\n",
       "      <th>Sep 2022</th>\n",
       "      <th>Dec 2022</th>\n",
       "      <th>Mar 2023</th>\n",
       "      <th>Jun 2023</th>\n",
       "      <th>Sep 2023</th>\n",
       "      <th>Dec 2023</th>\n",
       "      <th>Mar 2024</th>\n",
       "      <th>Jun 2024</th>\n",
       "    </tr>\n",
       "  </thead>\n",
       "  <tbody>\n",
       "    <tr>\n",
       "      <th>0</th>\n",
       "      <td>Promoters</td>\n",
       "      <td>UNITDSPR</td>\n",
       "      <td>56.73</td>\n",
       "      <td>56.73</td>\n",
       "      <td>56.73</td>\n",
       "      <td>56.73</td>\n",
       "      <td>56.74</td>\n",
       "      <td>56.74</td>\n",
       "      <td>56.68</td>\n",
       "      <td>56.68</td>\n",
       "      <td>56.68</td>\n",
       "      <td>56.68</td>\n",
       "      <td>56.68</td>\n",
       "      <td>56.68</td>\n",
       "    </tr>\n",
       "    <tr>\n",
       "      <th>1</th>\n",
       "      <td>FIIs</td>\n",
       "      <td>UNITDSPR</td>\n",
       "      <td>19.08</td>\n",
       "      <td>17.94</td>\n",
       "      <td>17.73</td>\n",
       "      <td>16.76</td>\n",
       "      <td>16.07</td>\n",
       "      <td>15.98</td>\n",
       "      <td>15.38</td>\n",
       "      <td>15.92</td>\n",
       "      <td>16.51</td>\n",
       "      <td>16.23</td>\n",
       "      <td>16.68</td>\n",
       "      <td>15.09</td>\n",
       "    </tr>\n",
       "    <tr>\n",
       "      <th>2</th>\n",
       "      <td>DIIs</td>\n",
       "      <td>UNITDSPR</td>\n",
       "      <td>9.65</td>\n",
       "      <td>10.41</td>\n",
       "      <td>10.41</td>\n",
       "      <td>10.85</td>\n",
       "      <td>11.61</td>\n",
       "      <td>12.08</td>\n",
       "      <td>12.70</td>\n",
       "      <td>12.64</td>\n",
       "      <td>12.32</td>\n",
       "      <td>12.49</td>\n",
       "      <td>12.27</td>\n",
       "      <td>14.00</td>\n",
       "    </tr>\n",
       "    <tr>\n",
       "      <th>3</th>\n",
       "      <td>Government</td>\n",
       "      <td>UNITDSPR</td>\n",
       "      <td>0.01</td>\n",
       "      <td>0.01</td>\n",
       "      <td>0.01</td>\n",
       "      <td>0.01</td>\n",
       "      <td>0.01</td>\n",
       "      <td>0.01</td>\n",
       "      <td>0.01</td>\n",
       "      <td>0.01</td>\n",
       "      <td>0.01</td>\n",
       "      <td>0.01</td>\n",
       "      <td>0.01</td>\n",
       "      <td>0.01</td>\n",
       "    </tr>\n",
       "    <tr>\n",
       "      <th>4</th>\n",
       "      <td>Public</td>\n",
       "      <td>UNITDSPR</td>\n",
       "      <td>14.53</td>\n",
       "      <td>14.92</td>\n",
       "      <td>15.12</td>\n",
       "      <td>15.65</td>\n",
       "      <td>15.58</td>\n",
       "      <td>15.20</td>\n",
       "      <td>15.24</td>\n",
       "      <td>14.77</td>\n",
       "      <td>14.49</td>\n",
       "      <td>14.60</td>\n",
       "      <td>14.37</td>\n",
       "      <td>14.22</td>\n",
       "    </tr>\n",
       "    <tr>\n",
       "      <th>5</th>\n",
       "      <td>No. of Shareholders</td>\n",
       "      <td>UNITDSPR</td>\n",
       "      <td>191699.00</td>\n",
       "      <td>234926.00</td>\n",
       "      <td>241111.00</td>\n",
       "      <td>252264.00</td>\n",
       "      <td>274307.00</td>\n",
       "      <td>258189.00</td>\n",
       "      <td>268993.00</td>\n",
       "      <td>249395.00</td>\n",
       "      <td>249741.00</td>\n",
       "      <td>264583.00</td>\n",
       "      <td>251095.00</td>\n",
       "      <td>252121.00</td>\n",
       "    </tr>\n",
       "    <tr>\n",
       "      <th>6</th>\n",
       "      <td>Promoters</td>\n",
       "      <td>UBL</td>\n",
       "      <td>72.71</td>\n",
       "      <td>72.71</td>\n",
       "      <td>72.71</td>\n",
       "      <td>72.71</td>\n",
       "      <td>72.72</td>\n",
       "      <td>72.72</td>\n",
       "      <td>72.72</td>\n",
       "      <td>72.72</td>\n",
       "      <td>71.00</td>\n",
       "      <td>70.84</td>\n",
       "      <td>70.84</td>\n",
       "      <td>70.84</td>\n",
       "    </tr>\n",
       "    <tr>\n",
       "      <th>7</th>\n",
       "      <td>FIIs</td>\n",
       "      <td>UBL</td>\n",
       "      <td>9.78</td>\n",
       "      <td>9.61</td>\n",
       "      <td>8.70</td>\n",
       "      <td>7.69</td>\n",
       "      <td>6.93</td>\n",
       "      <td>6.94</td>\n",
       "      <td>6.43</td>\n",
       "      <td>6.31</td>\n",
       "      <td>6.70</td>\n",
       "      <td>6.71</td>\n",
       "      <td>6.63</td>\n",
       "      <td>6.43</td>\n",
       "    </tr>\n",
       "    <tr>\n",
       "      <th>8</th>\n",
       "      <td>DIIs</td>\n",
       "      <td>UBL</td>\n",
       "      <td>10.49</td>\n",
       "      <td>10.90</td>\n",
       "      <td>11.92</td>\n",
       "      <td>13.01</td>\n",
       "      <td>13.87</td>\n",
       "      <td>13.91</td>\n",
       "      <td>14.41</td>\n",
       "      <td>14.65</td>\n",
       "      <td>15.97</td>\n",
       "      <td>16.06</td>\n",
       "      <td>16.12</td>\n",
       "      <td>16.38</td>\n",
       "    </tr>\n",
       "    <tr>\n",
       "      <th>9</th>\n",
       "      <td>Government</td>\n",
       "      <td>UBL</td>\n",
       "      <td>1.16</td>\n",
       "      <td>1.16</td>\n",
       "      <td>1.16</td>\n",
       "      <td>1.16</td>\n",
       "      <td>1.16</td>\n",
       "      <td>1.16</td>\n",
       "      <td>1.16</td>\n",
       "      <td>1.16</td>\n",
       "      <td>1.16</td>\n",
       "      <td>1.16</td>\n",
       "      <td>1.16</td>\n",
       "      <td>1.16</td>\n",
       "    </tr>\n",
       "    <tr>\n",
       "      <th>10</th>\n",
       "      <td>Public</td>\n",
       "      <td>UBL</td>\n",
       "      <td>5.86</td>\n",
       "      <td>5.62</td>\n",
       "      <td>5.51</td>\n",
       "      <td>5.43</td>\n",
       "      <td>5.32</td>\n",
       "      <td>5.28</td>\n",
       "      <td>5.27</td>\n",
       "      <td>5.16</td>\n",
       "      <td>5.19</td>\n",
       "      <td>5.22</td>\n",
       "      <td>5.25</td>\n",
       "      <td>5.19</td>\n",
       "    </tr>\n",
       "    <tr>\n",
       "      <th>11</th>\n",
       "      <td>No. of Shareholders</td>\n",
       "      <td>UBL</td>\n",
       "      <td>63301.00</td>\n",
       "      <td>66556.00</td>\n",
       "      <td>66559.00</td>\n",
       "      <td>64675.00</td>\n",
       "      <td>63576.00</td>\n",
       "      <td>61760.00</td>\n",
       "      <td>63475.00</td>\n",
       "      <td>69384.00</td>\n",
       "      <td>67954.00</td>\n",
       "      <td>65418.00</td>\n",
       "      <td>66914.00</td>\n",
       "      <td>67868.00</td>\n",
       "    </tr>\n",
       "    <tr>\n",
       "      <th>12</th>\n",
       "      <td>Promoters</td>\n",
       "      <td>RADICO</td>\n",
       "      <td>40.27</td>\n",
       "      <td>40.27</td>\n",
       "      <td>40.27</td>\n",
       "      <td>40.27</td>\n",
       "      <td>40.27</td>\n",
       "      <td>40.27</td>\n",
       "      <td>40.27</td>\n",
       "      <td>40.27</td>\n",
       "      <td>40.26</td>\n",
       "      <td>40.26</td>\n",
       "      <td>40.26</td>\n",
       "      <td>40.26</td>\n",
       "    </tr>\n",
       "    <tr>\n",
       "      <th>13</th>\n",
       "      <td>FIIs</td>\n",
       "      <td>RADICO</td>\n",
       "      <td>20.06</td>\n",
       "      <td>20.48</td>\n",
       "      <td>19.28</td>\n",
       "      <td>18.35</td>\n",
       "      <td>18.86</td>\n",
       "      <td>18.94</td>\n",
       "      <td>18.63</td>\n",
       "      <td>18.26</td>\n",
       "      <td>18.18</td>\n",
       "      <td>19.01</td>\n",
       "      <td>18.58</td>\n",
       "      <td>18.82</td>\n",
       "    </tr>\n",
       "    <tr>\n",
       "      <th>14</th>\n",
       "      <td>DIIs</td>\n",
       "      <td>RADICO</td>\n",
       "      <td>18.64</td>\n",
       "      <td>18.61</td>\n",
       "      <td>19.24</td>\n",
       "      <td>20.26</td>\n",
       "      <td>22.85</td>\n",
       "      <td>23.23</td>\n",
       "      <td>23.51</td>\n",
       "      <td>23.76</td>\n",
       "      <td>23.92</td>\n",
       "      <td>23.99</td>\n",
       "      <td>24.72</td>\n",
       "      <td>24.47</td>\n",
       "    </tr>\n",
       "    <tr>\n",
       "      <th>15</th>\n",
       "      <td>Government</td>\n",
       "      <td>RADICO</td>\n",
       "      <td>0.02</td>\n",
       "      <td>0.00</td>\n",
       "      <td>0.00</td>\n",
       "      <td>0.00</td>\n",
       "      <td>0.00</td>\n",
       "      <td>0.00</td>\n",
       "      <td>0.00</td>\n",
       "      <td>0.00</td>\n",
       "      <td>0.00</td>\n",
       "      <td>0.00</td>\n",
       "      <td>0.00</td>\n",
       "      <td>0.00</td>\n",
       "    </tr>\n",
       "    <tr>\n",
       "      <th>16</th>\n",
       "      <td>Public</td>\n",
       "      <td>RADICO</td>\n",
       "      <td>21.00</td>\n",
       "      <td>20.64</td>\n",
       "      <td>21.21</td>\n",
       "      <td>21.13</td>\n",
       "      <td>18.01</td>\n",
       "      <td>17.57</td>\n",
       "      <td>17.59</td>\n",
       "      <td>17.71</td>\n",
       "      <td>17.63</td>\n",
       "      <td>16.75</td>\n",
       "      <td>16.45</td>\n",
       "      <td>16.44</td>\n",
       "    </tr>\n",
       "    <tr>\n",
       "      <th>17</th>\n",
       "      <td>No. of Shareholders</td>\n",
       "      <td>RADICO</td>\n",
       "      <td>99384.00</td>\n",
       "      <td>122484.00</td>\n",
       "      <td>146390.00</td>\n",
       "      <td>146986.00</td>\n",
       "      <td>129077.00</td>\n",
       "      <td>125473.00</td>\n",
       "      <td>117089.00</td>\n",
       "      <td>107465.00</td>\n",
       "      <td>115430.00</td>\n",
       "      <td>112800.00</td>\n",
       "      <td>111781.00</td>\n",
       "      <td>114681.00</td>\n",
       "    </tr>\n",
       "    <tr>\n",
       "      <th>18</th>\n",
       "      <td>Promoters</td>\n",
       "      <td>SULA</td>\n",
       "      <td>NaN</td>\n",
       "      <td>NaN</td>\n",
       "      <td>NaN</td>\n",
       "      <td>NaN</td>\n",
       "      <td>NaN</td>\n",
       "      <td>27.33</td>\n",
       "      <td>27.33</td>\n",
       "      <td>27.27</td>\n",
       "      <td>26.27</td>\n",
       "      <td>26.27</td>\n",
       "      <td>26.18</td>\n",
       "      <td>25.47</td>\n",
       "    </tr>\n",
       "    <tr>\n",
       "      <th>19</th>\n",
       "      <td>FIIs</td>\n",
       "      <td>SULA</td>\n",
       "      <td>NaN</td>\n",
       "      <td>NaN</td>\n",
       "      <td>NaN</td>\n",
       "      <td>NaN</td>\n",
       "      <td>NaN</td>\n",
       "      <td>7.42</td>\n",
       "      <td>5.86</td>\n",
       "      <td>6.78</td>\n",
       "      <td>20.61</td>\n",
       "      <td>19.69</td>\n",
       "      <td>13.85</td>\n",
       "      <td>12.03</td>\n",
       "    </tr>\n",
       "    <tr>\n",
       "      <th>20</th>\n",
       "      <td>DIIs</td>\n",
       "      <td>SULA</td>\n",
       "      <td>NaN</td>\n",
       "      <td>NaN</td>\n",
       "      <td>NaN</td>\n",
       "      <td>NaN</td>\n",
       "      <td>NaN</td>\n",
       "      <td>8.86</td>\n",
       "      <td>11.76</td>\n",
       "      <td>10.23</td>\n",
       "      <td>17.52</td>\n",
       "      <td>19.56</td>\n",
       "      <td>22.61</td>\n",
       "      <td>22.23</td>\n",
       "    </tr>\n",
       "    <tr>\n",
       "      <th>21</th>\n",
       "      <td>Public</td>\n",
       "      <td>SULA</td>\n",
       "      <td>NaN</td>\n",
       "      <td>NaN</td>\n",
       "      <td>NaN</td>\n",
       "      <td>NaN</td>\n",
       "      <td>NaN</td>\n",
       "      <td>56.39</td>\n",
       "      <td>55.06</td>\n",
       "      <td>55.73</td>\n",
       "      <td>35.60</td>\n",
       "      <td>34.49</td>\n",
       "      <td>37.36</td>\n",
       "      <td>40.26</td>\n",
       "    </tr>\n",
       "    <tr>\n",
       "      <th>22</th>\n",
       "      <td>No. of Shareholders</td>\n",
       "      <td>SULA</td>\n",
       "      <td>NaN</td>\n",
       "      <td>NaN</td>\n",
       "      <td>NaN</td>\n",
       "      <td>NaN</td>\n",
       "      <td>NaN</td>\n",
       "      <td>208138.00</td>\n",
       "      <td>151880.00</td>\n",
       "      <td>133957.00</td>\n",
       "      <td>153180.00</td>\n",
       "      <td>162109.00</td>\n",
       "      <td>210043.00</td>\n",
       "      <td>229880.00</td>\n",
       "    </tr>\n",
       "  </tbody>\n",
       "</table>\n",
       "</div>"
      ],
      "text/plain": [
       "   Shareholding Pattern Stockname   Sep 2021   Dec 2021   Mar 2022   Jun 2022  \\\n",
       "0             Promoters  UNITDSPR      56.73      56.73      56.73      56.73   \n",
       "1                  FIIs  UNITDSPR      19.08      17.94      17.73      16.76   \n",
       "2                  DIIs  UNITDSPR       9.65      10.41      10.41      10.85   \n",
       "3            Government  UNITDSPR       0.01       0.01       0.01       0.01   \n",
       "4                Public  UNITDSPR      14.53      14.92      15.12      15.65   \n",
       "5   No. of Shareholders  UNITDSPR  191699.00  234926.00  241111.00  252264.00   \n",
       "6             Promoters       UBL      72.71      72.71      72.71      72.71   \n",
       "7                  FIIs       UBL       9.78       9.61       8.70       7.69   \n",
       "8                  DIIs       UBL      10.49      10.90      11.92      13.01   \n",
       "9            Government       UBL       1.16       1.16       1.16       1.16   \n",
       "10               Public       UBL       5.86       5.62       5.51       5.43   \n",
       "11  No. of Shareholders       UBL   63301.00   66556.00   66559.00   64675.00   \n",
       "12            Promoters    RADICO      40.27      40.27      40.27      40.27   \n",
       "13                 FIIs    RADICO      20.06      20.48      19.28      18.35   \n",
       "14                 DIIs    RADICO      18.64      18.61      19.24      20.26   \n",
       "15           Government    RADICO       0.02       0.00       0.00       0.00   \n",
       "16               Public    RADICO      21.00      20.64      21.21      21.13   \n",
       "17  No. of Shareholders    RADICO   99384.00  122484.00  146390.00  146986.00   \n",
       "18            Promoters      SULA        NaN        NaN        NaN        NaN   \n",
       "19                 FIIs      SULA        NaN        NaN        NaN        NaN   \n",
       "20                 DIIs      SULA        NaN        NaN        NaN        NaN   \n",
       "21               Public      SULA        NaN        NaN        NaN        NaN   \n",
       "22  No. of Shareholders      SULA        NaN        NaN        NaN        NaN   \n",
       "\n",
       "     Sep 2022   Dec 2022   Mar 2023   Jun 2023   Sep 2023   Dec 2023  \\\n",
       "0       56.74      56.74      56.68      56.68      56.68      56.68   \n",
       "1       16.07      15.98      15.38      15.92      16.51      16.23   \n",
       "2       11.61      12.08      12.70      12.64      12.32      12.49   \n",
       "3        0.01       0.01       0.01       0.01       0.01       0.01   \n",
       "4       15.58      15.20      15.24      14.77      14.49      14.60   \n",
       "5   274307.00  258189.00  268993.00  249395.00  249741.00  264583.00   \n",
       "6       72.72      72.72      72.72      72.72      71.00      70.84   \n",
       "7        6.93       6.94       6.43       6.31       6.70       6.71   \n",
       "8       13.87      13.91      14.41      14.65      15.97      16.06   \n",
       "9        1.16       1.16       1.16       1.16       1.16       1.16   \n",
       "10       5.32       5.28       5.27       5.16       5.19       5.22   \n",
       "11   63576.00   61760.00   63475.00   69384.00   67954.00   65418.00   \n",
       "12      40.27      40.27      40.27      40.27      40.26      40.26   \n",
       "13      18.86      18.94      18.63      18.26      18.18      19.01   \n",
       "14      22.85      23.23      23.51      23.76      23.92      23.99   \n",
       "15       0.00       0.00       0.00       0.00       0.00       0.00   \n",
       "16      18.01      17.57      17.59      17.71      17.63      16.75   \n",
       "17  129077.00  125473.00  117089.00  107465.00  115430.00  112800.00   \n",
       "18        NaN      27.33      27.33      27.27      26.27      26.27   \n",
       "19        NaN       7.42       5.86       6.78      20.61      19.69   \n",
       "20        NaN       8.86      11.76      10.23      17.52      19.56   \n",
       "21        NaN      56.39      55.06      55.73      35.60      34.49   \n",
       "22        NaN  208138.00  151880.00  133957.00  153180.00  162109.00   \n",
       "\n",
       "     Mar 2024   Jun 2024  \n",
       "0       56.68      56.68  \n",
       "1       16.68      15.09  \n",
       "2       12.27      14.00  \n",
       "3        0.01       0.01  \n",
       "4       14.37      14.22  \n",
       "5   251095.00  252121.00  \n",
       "6       70.84      70.84  \n",
       "7        6.63       6.43  \n",
       "8       16.12      16.38  \n",
       "9        1.16       1.16  \n",
       "10       5.25       5.19  \n",
       "11   66914.00   67868.00  \n",
       "12      40.26      40.26  \n",
       "13      18.58      18.82  \n",
       "14      24.72      24.47  \n",
       "15       0.00       0.00  \n",
       "16      16.45      16.44  \n",
       "17  111781.00  114681.00  \n",
       "18      26.18      25.47  \n",
       "19      13.85      12.03  \n",
       "20      22.61      22.23  \n",
       "21      37.36      40.26  \n",
       "22  210043.00  229880.00  "
      ]
     },
     "execution_count": 56,
     "metadata": {},
     "output_type": "execute_result"
    }
   ],
   "source": [
    "df = df_shareholding_pattern"
   ]
  },
  {
   "cell_type": "code",
   "execution_count": 60,
   "id": "e97942d5-32bb-4e80-a7e1-967717988d44",
   "metadata": {},
   "outputs": [
    {
     "data": {
      "text/html": [
       "<div>\n",
       "<style scoped>\n",
       "    .dataframe tbody tr th:only-of-type {\n",
       "        vertical-align: middle;\n",
       "    }\n",
       "\n",
       "    .dataframe tbody tr th {\n",
       "        vertical-align: top;\n",
       "    }\n",
       "\n",
       "    .dataframe thead th {\n",
       "        text-align: right;\n",
       "    }\n",
       "</style>\n",
       "<table border=\"1\" class=\"dataframe\">\n",
       "  <thead>\n",
       "    <tr style=\"text-align: right;\">\n",
       "      <th></th>\n",
       "      <th>Shareholding Pattern</th>\n",
       "      <th>Stockname</th>\n",
       "      <th>Sep 2021</th>\n",
       "      <th>Dec 2021</th>\n",
       "      <th>Mar 2022</th>\n",
       "      <th>Jun 2022</th>\n",
       "      <th>Sep 2022</th>\n",
       "      <th>Dec 2022</th>\n",
       "      <th>Mar 2023</th>\n",
       "      <th>Jun 2023</th>\n",
       "      <th>Sep 2023</th>\n",
       "      <th>Dec 2023</th>\n",
       "      <th>Mar 2024</th>\n",
       "      <th>Jun 2024</th>\n",
       "    </tr>\n",
       "  </thead>\n",
       "  <tbody>\n",
       "    <tr>\n",
       "      <th>0</th>\n",
       "      <td>Promoters</td>\n",
       "      <td>UNITDSPR</td>\n",
       "      <td>56.73</td>\n",
       "      <td>56.73</td>\n",
       "      <td>56.73</td>\n",
       "      <td>56.73</td>\n",
       "      <td>56.74</td>\n",
       "      <td>56.74</td>\n",
       "      <td>56.68</td>\n",
       "      <td>56.68</td>\n",
       "      <td>56.68</td>\n",
       "      <td>56.68</td>\n",
       "      <td>56.68</td>\n",
       "      <td>56.68</td>\n",
       "    </tr>\n",
       "    <tr>\n",
       "      <th>1</th>\n",
       "      <td>FIIs</td>\n",
       "      <td>UNITDSPR</td>\n",
       "      <td>19.08</td>\n",
       "      <td>17.94</td>\n",
       "      <td>17.73</td>\n",
       "      <td>16.76</td>\n",
       "      <td>16.07</td>\n",
       "      <td>15.98</td>\n",
       "      <td>15.38</td>\n",
       "      <td>15.92</td>\n",
       "      <td>16.51</td>\n",
       "      <td>16.23</td>\n",
       "      <td>16.68</td>\n",
       "      <td>15.09</td>\n",
       "    </tr>\n",
       "    <tr>\n",
       "      <th>2</th>\n",
       "      <td>DIIs</td>\n",
       "      <td>UNITDSPR</td>\n",
       "      <td>9.65</td>\n",
       "      <td>10.41</td>\n",
       "      <td>10.41</td>\n",
       "      <td>10.85</td>\n",
       "      <td>11.61</td>\n",
       "      <td>12.08</td>\n",
       "      <td>12.70</td>\n",
       "      <td>12.64</td>\n",
       "      <td>12.32</td>\n",
       "      <td>12.49</td>\n",
       "      <td>12.27</td>\n",
       "      <td>14.00</td>\n",
       "    </tr>\n",
       "    <tr>\n",
       "      <th>3</th>\n",
       "      <td>Government</td>\n",
       "      <td>UNITDSPR</td>\n",
       "      <td>0.01</td>\n",
       "      <td>0.01</td>\n",
       "      <td>0.01</td>\n",
       "      <td>0.01</td>\n",
       "      <td>0.01</td>\n",
       "      <td>0.01</td>\n",
       "      <td>0.01</td>\n",
       "      <td>0.01</td>\n",
       "      <td>0.01</td>\n",
       "      <td>0.01</td>\n",
       "      <td>0.01</td>\n",
       "      <td>0.01</td>\n",
       "    </tr>\n",
       "    <tr>\n",
       "      <th>4</th>\n",
       "      <td>Public</td>\n",
       "      <td>UNITDSPR</td>\n",
       "      <td>14.53</td>\n",
       "      <td>14.92</td>\n",
       "      <td>15.12</td>\n",
       "      <td>15.65</td>\n",
       "      <td>15.58</td>\n",
       "      <td>15.20</td>\n",
       "      <td>15.24</td>\n",
       "      <td>14.77</td>\n",
       "      <td>14.49</td>\n",
       "      <td>14.60</td>\n",
       "      <td>14.37</td>\n",
       "      <td>14.22</td>\n",
       "    </tr>\n",
       "    <tr>\n",
       "      <th>5</th>\n",
       "      <td>No. of Shareholders</td>\n",
       "      <td>UNITDSPR</td>\n",
       "      <td>191699.00</td>\n",
       "      <td>234926.00</td>\n",
       "      <td>241111.00</td>\n",
       "      <td>252264.00</td>\n",
       "      <td>274307.00</td>\n",
       "      <td>258189.00</td>\n",
       "      <td>268993.00</td>\n",
       "      <td>249395.00</td>\n",
       "      <td>249741.00</td>\n",
       "      <td>264583.00</td>\n",
       "      <td>251095.00</td>\n",
       "      <td>252121.00</td>\n",
       "    </tr>\n",
       "    <tr>\n",
       "      <th>6</th>\n",
       "      <td>Promoters</td>\n",
       "      <td>UBL</td>\n",
       "      <td>72.71</td>\n",
       "      <td>72.71</td>\n",
       "      <td>72.71</td>\n",
       "      <td>72.71</td>\n",
       "      <td>72.72</td>\n",
       "      <td>72.72</td>\n",
       "      <td>72.72</td>\n",
       "      <td>72.72</td>\n",
       "      <td>71.00</td>\n",
       "      <td>70.84</td>\n",
       "      <td>70.84</td>\n",
       "      <td>70.84</td>\n",
       "    </tr>\n",
       "    <tr>\n",
       "      <th>7</th>\n",
       "      <td>FIIs</td>\n",
       "      <td>UBL</td>\n",
       "      <td>9.78</td>\n",
       "      <td>9.61</td>\n",
       "      <td>8.70</td>\n",
       "      <td>7.69</td>\n",
       "      <td>6.93</td>\n",
       "      <td>6.94</td>\n",
       "      <td>6.43</td>\n",
       "      <td>6.31</td>\n",
       "      <td>6.70</td>\n",
       "      <td>6.71</td>\n",
       "      <td>6.63</td>\n",
       "      <td>6.43</td>\n",
       "    </tr>\n",
       "    <tr>\n",
       "      <th>8</th>\n",
       "      <td>DIIs</td>\n",
       "      <td>UBL</td>\n",
       "      <td>10.49</td>\n",
       "      <td>10.90</td>\n",
       "      <td>11.92</td>\n",
       "      <td>13.01</td>\n",
       "      <td>13.87</td>\n",
       "      <td>13.91</td>\n",
       "      <td>14.41</td>\n",
       "      <td>14.65</td>\n",
       "      <td>15.97</td>\n",
       "      <td>16.06</td>\n",
       "      <td>16.12</td>\n",
       "      <td>16.38</td>\n",
       "    </tr>\n",
       "    <tr>\n",
       "      <th>9</th>\n",
       "      <td>Government</td>\n",
       "      <td>UBL</td>\n",
       "      <td>1.16</td>\n",
       "      <td>1.16</td>\n",
       "      <td>1.16</td>\n",
       "      <td>1.16</td>\n",
       "      <td>1.16</td>\n",
       "      <td>1.16</td>\n",
       "      <td>1.16</td>\n",
       "      <td>1.16</td>\n",
       "      <td>1.16</td>\n",
       "      <td>1.16</td>\n",
       "      <td>1.16</td>\n",
       "      <td>1.16</td>\n",
       "    </tr>\n",
       "    <tr>\n",
       "      <th>10</th>\n",
       "      <td>Public</td>\n",
       "      <td>UBL</td>\n",
       "      <td>5.86</td>\n",
       "      <td>5.62</td>\n",
       "      <td>5.51</td>\n",
       "      <td>5.43</td>\n",
       "      <td>5.32</td>\n",
       "      <td>5.28</td>\n",
       "      <td>5.27</td>\n",
       "      <td>5.16</td>\n",
       "      <td>5.19</td>\n",
       "      <td>5.22</td>\n",
       "      <td>5.25</td>\n",
       "      <td>5.19</td>\n",
       "    </tr>\n",
       "    <tr>\n",
       "      <th>11</th>\n",
       "      <td>No. of Shareholders</td>\n",
       "      <td>UBL</td>\n",
       "      <td>63301.00</td>\n",
       "      <td>66556.00</td>\n",
       "      <td>66559.00</td>\n",
       "      <td>64675.00</td>\n",
       "      <td>63576.00</td>\n",
       "      <td>61760.00</td>\n",
       "      <td>63475.00</td>\n",
       "      <td>69384.00</td>\n",
       "      <td>67954.00</td>\n",
       "      <td>65418.00</td>\n",
       "      <td>66914.00</td>\n",
       "      <td>67868.00</td>\n",
       "    </tr>\n",
       "    <tr>\n",
       "      <th>12</th>\n",
       "      <td>Promoters</td>\n",
       "      <td>RADICO</td>\n",
       "      <td>40.27</td>\n",
       "      <td>40.27</td>\n",
       "      <td>40.27</td>\n",
       "      <td>40.27</td>\n",
       "      <td>40.27</td>\n",
       "      <td>40.27</td>\n",
       "      <td>40.27</td>\n",
       "      <td>40.27</td>\n",
       "      <td>40.26</td>\n",
       "      <td>40.26</td>\n",
       "      <td>40.26</td>\n",
       "      <td>40.26</td>\n",
       "    </tr>\n",
       "    <tr>\n",
       "      <th>13</th>\n",
       "      <td>FIIs</td>\n",
       "      <td>RADICO</td>\n",
       "      <td>20.06</td>\n",
       "      <td>20.48</td>\n",
       "      <td>19.28</td>\n",
       "      <td>18.35</td>\n",
       "      <td>18.86</td>\n",
       "      <td>18.94</td>\n",
       "      <td>18.63</td>\n",
       "      <td>18.26</td>\n",
       "      <td>18.18</td>\n",
       "      <td>19.01</td>\n",
       "      <td>18.58</td>\n",
       "      <td>18.82</td>\n",
       "    </tr>\n",
       "    <tr>\n",
       "      <th>14</th>\n",
       "      <td>DIIs</td>\n",
       "      <td>RADICO</td>\n",
       "      <td>18.64</td>\n",
       "      <td>18.61</td>\n",
       "      <td>19.24</td>\n",
       "      <td>20.26</td>\n",
       "      <td>22.85</td>\n",
       "      <td>23.23</td>\n",
       "      <td>23.51</td>\n",
       "      <td>23.76</td>\n",
       "      <td>23.92</td>\n",
       "      <td>23.99</td>\n",
       "      <td>24.72</td>\n",
       "      <td>24.47</td>\n",
       "    </tr>\n",
       "    <tr>\n",
       "      <th>15</th>\n",
       "      <td>Government</td>\n",
       "      <td>RADICO</td>\n",
       "      <td>0.02</td>\n",
       "      <td>0.00</td>\n",
       "      <td>0.00</td>\n",
       "      <td>0.00</td>\n",
       "      <td>0.00</td>\n",
       "      <td>0.00</td>\n",
       "      <td>0.00</td>\n",
       "      <td>0.00</td>\n",
       "      <td>0.00</td>\n",
       "      <td>0.00</td>\n",
       "      <td>0.00</td>\n",
       "      <td>0.00</td>\n",
       "    </tr>\n",
       "    <tr>\n",
       "      <th>16</th>\n",
       "      <td>Public</td>\n",
       "      <td>RADICO</td>\n",
       "      <td>21.00</td>\n",
       "      <td>20.64</td>\n",
       "      <td>21.21</td>\n",
       "      <td>21.13</td>\n",
       "      <td>18.01</td>\n",
       "      <td>17.57</td>\n",
       "      <td>17.59</td>\n",
       "      <td>17.71</td>\n",
       "      <td>17.63</td>\n",
       "      <td>16.75</td>\n",
       "      <td>16.45</td>\n",
       "      <td>16.44</td>\n",
       "    </tr>\n",
       "    <tr>\n",
       "      <th>17</th>\n",
       "      <td>No. of Shareholders</td>\n",
       "      <td>RADICO</td>\n",
       "      <td>99384.00</td>\n",
       "      <td>122484.00</td>\n",
       "      <td>146390.00</td>\n",
       "      <td>146986.00</td>\n",
       "      <td>129077.00</td>\n",
       "      <td>125473.00</td>\n",
       "      <td>117089.00</td>\n",
       "      <td>107465.00</td>\n",
       "      <td>115430.00</td>\n",
       "      <td>112800.00</td>\n",
       "      <td>111781.00</td>\n",
       "      <td>114681.00</td>\n",
       "    </tr>\n",
       "    <tr>\n",
       "      <th>18</th>\n",
       "      <td>Promoters</td>\n",
       "      <td>SULA</td>\n",
       "      <td>NaN</td>\n",
       "      <td>NaN</td>\n",
       "      <td>NaN</td>\n",
       "      <td>NaN</td>\n",
       "      <td>NaN</td>\n",
       "      <td>27.33</td>\n",
       "      <td>27.33</td>\n",
       "      <td>27.27</td>\n",
       "      <td>26.27</td>\n",
       "      <td>26.27</td>\n",
       "      <td>26.18</td>\n",
       "      <td>25.47</td>\n",
       "    </tr>\n",
       "    <tr>\n",
       "      <th>19</th>\n",
       "      <td>FIIs</td>\n",
       "      <td>SULA</td>\n",
       "      <td>NaN</td>\n",
       "      <td>NaN</td>\n",
       "      <td>NaN</td>\n",
       "      <td>NaN</td>\n",
       "      <td>NaN</td>\n",
       "      <td>7.42</td>\n",
       "      <td>5.86</td>\n",
       "      <td>6.78</td>\n",
       "      <td>20.61</td>\n",
       "      <td>19.69</td>\n",
       "      <td>13.85</td>\n",
       "      <td>12.03</td>\n",
       "    </tr>\n",
       "    <tr>\n",
       "      <th>20</th>\n",
       "      <td>DIIs</td>\n",
       "      <td>SULA</td>\n",
       "      <td>NaN</td>\n",
       "      <td>NaN</td>\n",
       "      <td>NaN</td>\n",
       "      <td>NaN</td>\n",
       "      <td>NaN</td>\n",
       "      <td>8.86</td>\n",
       "      <td>11.76</td>\n",
       "      <td>10.23</td>\n",
       "      <td>17.52</td>\n",
       "      <td>19.56</td>\n",
       "      <td>22.61</td>\n",
       "      <td>22.23</td>\n",
       "    </tr>\n",
       "    <tr>\n",
       "      <th>21</th>\n",
       "      <td>Public</td>\n",
       "      <td>SULA</td>\n",
       "      <td>NaN</td>\n",
       "      <td>NaN</td>\n",
       "      <td>NaN</td>\n",
       "      <td>NaN</td>\n",
       "      <td>NaN</td>\n",
       "      <td>56.39</td>\n",
       "      <td>55.06</td>\n",
       "      <td>55.73</td>\n",
       "      <td>35.60</td>\n",
       "      <td>34.49</td>\n",
       "      <td>37.36</td>\n",
       "      <td>40.26</td>\n",
       "    </tr>\n",
       "    <tr>\n",
       "      <th>22</th>\n",
       "      <td>No. of Shareholders</td>\n",
       "      <td>SULA</td>\n",
       "      <td>NaN</td>\n",
       "      <td>NaN</td>\n",
       "      <td>NaN</td>\n",
       "      <td>NaN</td>\n",
       "      <td>NaN</td>\n",
       "      <td>208138.00</td>\n",
       "      <td>151880.00</td>\n",
       "      <td>133957.00</td>\n",
       "      <td>153180.00</td>\n",
       "      <td>162109.00</td>\n",
       "      <td>210043.00</td>\n",
       "      <td>229880.00</td>\n",
       "    </tr>\n",
       "  </tbody>\n",
       "</table>\n",
       "</div>"
      ],
      "text/plain": [
       "   Shareholding Pattern Stockname   Sep 2021   Dec 2021   Mar 2022   Jun 2022  \\\n",
       "0             Promoters  UNITDSPR      56.73      56.73      56.73      56.73   \n",
       "1                  FIIs  UNITDSPR      19.08      17.94      17.73      16.76   \n",
       "2                  DIIs  UNITDSPR       9.65      10.41      10.41      10.85   \n",
       "3            Government  UNITDSPR       0.01       0.01       0.01       0.01   \n",
       "4                Public  UNITDSPR      14.53      14.92      15.12      15.65   \n",
       "5   No. of Shareholders  UNITDSPR  191699.00  234926.00  241111.00  252264.00   \n",
       "6             Promoters       UBL      72.71      72.71      72.71      72.71   \n",
       "7                  FIIs       UBL       9.78       9.61       8.70       7.69   \n",
       "8                  DIIs       UBL      10.49      10.90      11.92      13.01   \n",
       "9            Government       UBL       1.16       1.16       1.16       1.16   \n",
       "10               Public       UBL       5.86       5.62       5.51       5.43   \n",
       "11  No. of Shareholders       UBL   63301.00   66556.00   66559.00   64675.00   \n",
       "12            Promoters    RADICO      40.27      40.27      40.27      40.27   \n",
       "13                 FIIs    RADICO      20.06      20.48      19.28      18.35   \n",
       "14                 DIIs    RADICO      18.64      18.61      19.24      20.26   \n",
       "15           Government    RADICO       0.02       0.00       0.00       0.00   \n",
       "16               Public    RADICO      21.00      20.64      21.21      21.13   \n",
       "17  No. of Shareholders    RADICO   99384.00  122484.00  146390.00  146986.00   \n",
       "18            Promoters      SULA        NaN        NaN        NaN        NaN   \n",
       "19                 FIIs      SULA        NaN        NaN        NaN        NaN   \n",
       "20                 DIIs      SULA        NaN        NaN        NaN        NaN   \n",
       "21               Public      SULA        NaN        NaN        NaN        NaN   \n",
       "22  No. of Shareholders      SULA        NaN        NaN        NaN        NaN   \n",
       "\n",
       "     Sep 2022   Dec 2022   Mar 2023   Jun 2023   Sep 2023   Dec 2023  \\\n",
       "0       56.74      56.74      56.68      56.68      56.68      56.68   \n",
       "1       16.07      15.98      15.38      15.92      16.51      16.23   \n",
       "2       11.61      12.08      12.70      12.64      12.32      12.49   \n",
       "3        0.01       0.01       0.01       0.01       0.01       0.01   \n",
       "4       15.58      15.20      15.24      14.77      14.49      14.60   \n",
       "5   274307.00  258189.00  268993.00  249395.00  249741.00  264583.00   \n",
       "6       72.72      72.72      72.72      72.72      71.00      70.84   \n",
       "7        6.93       6.94       6.43       6.31       6.70       6.71   \n",
       "8       13.87      13.91      14.41      14.65      15.97      16.06   \n",
       "9        1.16       1.16       1.16       1.16       1.16       1.16   \n",
       "10       5.32       5.28       5.27       5.16       5.19       5.22   \n",
       "11   63576.00   61760.00   63475.00   69384.00   67954.00   65418.00   \n",
       "12      40.27      40.27      40.27      40.27      40.26      40.26   \n",
       "13      18.86      18.94      18.63      18.26      18.18      19.01   \n",
       "14      22.85      23.23      23.51      23.76      23.92      23.99   \n",
       "15       0.00       0.00       0.00       0.00       0.00       0.00   \n",
       "16      18.01      17.57      17.59      17.71      17.63      16.75   \n",
       "17  129077.00  125473.00  117089.00  107465.00  115430.00  112800.00   \n",
       "18        NaN      27.33      27.33      27.27      26.27      26.27   \n",
       "19        NaN       7.42       5.86       6.78      20.61      19.69   \n",
       "20        NaN       8.86      11.76      10.23      17.52      19.56   \n",
       "21        NaN      56.39      55.06      55.73      35.60      34.49   \n",
       "22        NaN  208138.00  151880.00  133957.00  153180.00  162109.00   \n",
       "\n",
       "     Mar 2024   Jun 2024  \n",
       "0       56.68      56.68  \n",
       "1       16.68      15.09  \n",
       "2       12.27      14.00  \n",
       "3        0.01       0.01  \n",
       "4       14.37      14.22  \n",
       "5   251095.00  252121.00  \n",
       "6       70.84      70.84  \n",
       "7        6.63       6.43  \n",
       "8       16.12      16.38  \n",
       "9        1.16       1.16  \n",
       "10       5.25       5.19  \n",
       "11   66914.00   67868.00  \n",
       "12      40.26      40.26  \n",
       "13      18.58      18.82  \n",
       "14      24.72      24.47  \n",
       "15       0.00       0.00  \n",
       "16      16.45      16.44  \n",
       "17  111781.00  114681.00  \n",
       "18      26.18      25.47  \n",
       "19      13.85      12.03  \n",
       "20      22.61      22.23  \n",
       "21      37.36      40.26  \n",
       "22  210043.00  229880.00  "
      ]
     },
     "execution_count": 60,
     "metadata": {},
     "output_type": "execute_result"
    }
   ],
   "source": [
    "df = df_shareholding_pattern\n",
    "df"
   ]
  },
  {
   "cell_type": "code",
   "execution_count": 63,
   "id": "0c07d97d-6689-49dd-bdab-aef2c2201af3",
   "metadata": {},
   "outputs": [
    {
     "data": {
      "text/html": [
       "<div>\n",
       "<style scoped>\n",
       "    .dataframe tbody tr th:only-of-type {\n",
       "        vertical-align: middle;\n",
       "    }\n",
       "\n",
       "    .dataframe tbody tr th {\n",
       "        vertical-align: top;\n",
       "    }\n",
       "\n",
       "    .dataframe thead th {\n",
       "        text-align: right;\n",
       "    }\n",
       "</style>\n",
       "<table border=\"1\" class=\"dataframe\">\n",
       "  <thead>\n",
       "    <tr style=\"text-align: right;\">\n",
       "      <th></th>\n",
       "      <th>Shareholding Pattern</th>\n",
       "      <th>Stockname</th>\n",
       "      <th>Sep 2021</th>\n",
       "      <th>Dec 2021</th>\n",
       "      <th>Mar 2022</th>\n",
       "      <th>Jun 2022</th>\n",
       "      <th>Sep 2022</th>\n",
       "      <th>Dec 2022</th>\n",
       "      <th>Mar 2023</th>\n",
       "      <th>Jun 2023</th>\n",
       "      <th>Sep 2023</th>\n",
       "      <th>Dec 2023</th>\n",
       "      <th>Mar 2024</th>\n",
       "      <th>Jun 2024</th>\n",
       "    </tr>\n",
       "  </thead>\n",
       "  <tbody>\n",
       "    <tr>\n",
       "      <th>3</th>\n",
       "      <td>Government</td>\n",
       "      <td>UNITDSPR</td>\n",
       "      <td>0.01</td>\n",
       "      <td>0.01</td>\n",
       "      <td>0.01</td>\n",
       "      <td>0.01</td>\n",
       "      <td>0.01</td>\n",
       "      <td>0.01</td>\n",
       "      <td>0.01</td>\n",
       "      <td>0.01</td>\n",
       "      <td>0.01</td>\n",
       "      <td>0.01</td>\n",
       "      <td>0.01</td>\n",
       "      <td>0.01</td>\n",
       "    </tr>\n",
       "    <tr>\n",
       "      <th>9</th>\n",
       "      <td>Government</td>\n",
       "      <td>UBL</td>\n",
       "      <td>1.16</td>\n",
       "      <td>1.16</td>\n",
       "      <td>1.16</td>\n",
       "      <td>1.16</td>\n",
       "      <td>1.16</td>\n",
       "      <td>1.16</td>\n",
       "      <td>1.16</td>\n",
       "      <td>1.16</td>\n",
       "      <td>1.16</td>\n",
       "      <td>1.16</td>\n",
       "      <td>1.16</td>\n",
       "      <td>1.16</td>\n",
       "    </tr>\n",
       "    <tr>\n",
       "      <th>15</th>\n",
       "      <td>Government</td>\n",
       "      <td>RADICO</td>\n",
       "      <td>0.02</td>\n",
       "      <td>0.00</td>\n",
       "      <td>0.00</td>\n",
       "      <td>0.00</td>\n",
       "      <td>0.00</td>\n",
       "      <td>0.00</td>\n",
       "      <td>0.00</td>\n",
       "      <td>0.00</td>\n",
       "      <td>0.00</td>\n",
       "      <td>0.00</td>\n",
       "      <td>0.00</td>\n",
       "      <td>0.00</td>\n",
       "    </tr>\n",
       "  </tbody>\n",
       "</table>\n",
       "</div>"
      ],
      "text/plain": [
       "   Shareholding Pattern Stockname  Sep 2021  Dec 2021  Mar 2022  Jun 2022  \\\n",
       "3            Government  UNITDSPR      0.01      0.01      0.01      0.01   \n",
       "9            Government       UBL      1.16      1.16      1.16      1.16   \n",
       "15           Government    RADICO      0.02      0.00      0.00      0.00   \n",
       "\n",
       "    Sep 2022  Dec 2022  Mar 2023  Jun 2023  Sep 2023  Dec 2023  Mar 2024  \\\n",
       "3       0.01      0.01      0.01      0.01      0.01      0.01      0.01   \n",
       "9       1.16      1.16      1.16      1.16      1.16      1.16      1.16   \n",
       "15      0.00      0.00      0.00      0.00      0.00      0.00      0.00   \n",
       "\n",
       "    Jun 2024  \n",
       "3       0.01  \n",
       "9       1.16  \n",
       "15      0.00  "
      ]
     },
     "execution_count": 63,
     "metadata": {},
     "output_type": "execute_result"
    }
   ],
   "source": [
    "df[df['Shareholding Pattern'] == 'Government']"
   ]
  },
  {
   "cell_type": "code",
   "execution_count": 67,
   "id": "22fec5e9-0662-44ab-97bf-6fc9ed75dd00",
   "metadata": {},
   "outputs": [],
   "source": [
    "if not df[ (df['Stockname'] == 'SULA') & (df['Shareholding Pattern'] == 'Government') ].empty:\n",
    "    print('What')"
   ]
  },
  {
   "cell_type": "code",
   "execution_count": 42,
   "id": "722e725f-b47e-45fa-8014-d1ee76b68251",
   "metadata": {},
   "outputs": [
    {
     "data": {
      "text/plain": [
       "array(['10 Years', '5 Years', '3 Years', 'TTM'], dtype=object)"
      ]
     },
     "execution_count": 42,
     "metadata": {},
     "output_type": "execute_result"
    }
   ],
   "source": []
  },
  {
   "cell_type": "code",
   "execution_count": 48,
   "id": "24cabc11-3607-4bd4-9b8d-e0eff0b065c6",
   "metadata": {},
   "outputs": [
    {
     "data": {
      "application/vnd.plotly.v1+json": {
       "config": {
        "plotlyServerURL": "https://plot.ly"
       },
       "data": [
        {
         "name": "UNITDSPR",
         "type": "bar",
         "x": [
          "10 Years",
          "5 Years",
          "3 Years",
          "TTM"
         ],
         "y": [
          "10 Years",
          "UNITDSPR",
          1
         ]
        },
        {
         "name": "UBL",
         "type": "bar",
         "x": [
          "10 Years",
          "5 Years",
          "3 Years",
          "TTM"
         ],
         "y": [
          "10 Years",
          "UBL",
          7
         ]
        },
        {
         "name": "RADICO",
         "type": "bar",
         "x": [
          "10 Years",
          "5 Years",
          "3 Years",
          "TTM"
         ],
         "y": [
          "10 Years",
          "RADICO",
          12
         ]
        },
        {
         "name": "SULA",
         "type": "bar",
         "x": [
          "10 Years",
          "5 Years",
          "3 Years",
          "TTM"
         ],
         "y": [
          "10 Years",
          "SULA",
          null
         ]
        },
        {
         "name": "UNITDSPR",
         "type": "bar",
         "x": [
          "10 Years",
          "5 Years",
          "3 Years",
          "TTM"
         ],
         "y": [
          "5 Years",
          "UNITDSPR",
          4
         ]
        },
        {
         "name": "UBL",
         "type": "bar",
         "x": [
          "10 Years",
          "5 Years",
          "3 Years",
          "TTM"
         ],
         "y": [
          "5 Years",
          "UBL",
          5
         ]
        },
        {
         "name": "RADICO",
         "type": "bar",
         "x": [
          "10 Years",
          "5 Years",
          "3 Years",
          "TTM"
         ],
         "y": [
          "5 Years",
          "RADICO",
          15
         ]
        },
        {
         "name": "SULA",
         "type": "bar",
         "x": [
          "10 Years",
          "5 Years",
          "3 Years",
          "TTM"
         ],
         "y": [
          "5 Years",
          "SULA",
          2
         ]
        },
        {
         "name": "UNITDSPR",
         "type": "bar",
         "x": [
          "10 Years",
          "5 Years",
          "3 Years",
          "TTM"
         ],
         "y": [
          "3 Years",
          "UNITDSPR",
          12
         ]
        },
        {
         "name": "UBL",
         "type": "bar",
         "x": [
          "10 Years",
          "5 Years",
          "3 Years",
          "TTM"
         ],
         "y": [
          "3 Years",
          "UBL",
          24
         ]
        },
        {
         "name": "RADICO",
         "type": "bar",
         "x": [
          "10 Years",
          "5 Years",
          "3 Years",
          "TTM"
         ],
         "y": [
          "3 Years",
          "RADICO",
          20
         ]
        },
        {
         "name": "SULA",
         "type": "bar",
         "x": [
          "10 Years",
          "5 Years",
          "3 Years",
          "TTM"
         ],
         "y": [
          "3 Years",
          "SULA",
          21
         ]
        },
        {
         "name": "UNITDSPR",
         "type": "bar",
         "x": [
          "10 Years",
          "5 Years",
          "3 Years",
          "TTM"
         ],
         "y": [
          "TTM",
          "UNITDSPR",
          5
         ]
        },
        {
         "name": "UBL",
         "type": "bar",
         "x": [
          "10 Years",
          "5 Years",
          "3 Years",
          "TTM"
         ],
         "y": [
          "TTM",
          "UBL",
          13
         ]
        },
        {
         "name": "RADICO",
         "type": "bar",
         "x": [
          "10 Years",
          "5 Years",
          "3 Years",
          "TTM"
         ],
         "y": [
          "TTM",
          "RADICO",
          29
         ]
        },
        {
         "name": "SULA",
         "type": "bar",
         "x": [
          "10 Years",
          "5 Years",
          "3 Years",
          "TTM"
         ],
         "y": [
          "TTM",
          "SULA",
          9
         ]
        }
       ],
       "layout": {
        "autosize": true,
        "template": {
         "data": {
          "bar": [
           {
            "error_x": {
             "color": "#2a3f5f"
            },
            "error_y": {
             "color": "#2a3f5f"
            },
            "marker": {
             "line": {
              "color": "#E5ECF6",
              "width": 0.5
             },
             "pattern": {
              "fillmode": "overlay",
              "size": 10,
              "solidity": 0.2
             }
            },
            "type": "bar"
           }
          ],
          "barpolar": [
           {
            "marker": {
             "line": {
              "color": "#E5ECF6",
              "width": 0.5
             },
             "pattern": {
              "fillmode": "overlay",
              "size": 10,
              "solidity": 0.2
             }
            },
            "type": "barpolar"
           }
          ],
          "carpet": [
           {
            "aaxis": {
             "endlinecolor": "#2a3f5f",
             "gridcolor": "white",
             "linecolor": "white",
             "minorgridcolor": "white",
             "startlinecolor": "#2a3f5f"
            },
            "baxis": {
             "endlinecolor": "#2a3f5f",
             "gridcolor": "white",
             "linecolor": "white",
             "minorgridcolor": "white",
             "startlinecolor": "#2a3f5f"
            },
            "type": "carpet"
           }
          ],
          "choropleth": [
           {
            "colorbar": {
             "outlinewidth": 0,
             "ticks": ""
            },
            "type": "choropleth"
           }
          ],
          "contour": [
           {
            "colorbar": {
             "outlinewidth": 0,
             "ticks": ""
            },
            "colorscale": [
             [
              0,
              "#0d0887"
             ],
             [
              0.1111111111111111,
              "#46039f"
             ],
             [
              0.2222222222222222,
              "#7201a8"
             ],
             [
              0.3333333333333333,
              "#9c179e"
             ],
             [
              0.4444444444444444,
              "#bd3786"
             ],
             [
              0.5555555555555556,
              "#d8576b"
             ],
             [
              0.6666666666666666,
              "#ed7953"
             ],
             [
              0.7777777777777778,
              "#fb9f3a"
             ],
             [
              0.8888888888888888,
              "#fdca26"
             ],
             [
              1,
              "#f0f921"
             ]
            ],
            "type": "contour"
           }
          ],
          "contourcarpet": [
           {
            "colorbar": {
             "outlinewidth": 0,
             "ticks": ""
            },
            "type": "contourcarpet"
           }
          ],
          "heatmap": [
           {
            "colorbar": {
             "outlinewidth": 0,
             "ticks": ""
            },
            "colorscale": [
             [
              0,
              "#0d0887"
             ],
             [
              0.1111111111111111,
              "#46039f"
             ],
             [
              0.2222222222222222,
              "#7201a8"
             ],
             [
              0.3333333333333333,
              "#9c179e"
             ],
             [
              0.4444444444444444,
              "#bd3786"
             ],
             [
              0.5555555555555556,
              "#d8576b"
             ],
             [
              0.6666666666666666,
              "#ed7953"
             ],
             [
              0.7777777777777778,
              "#fb9f3a"
             ],
             [
              0.8888888888888888,
              "#fdca26"
             ],
             [
              1,
              "#f0f921"
             ]
            ],
            "type": "heatmap"
           }
          ],
          "heatmapgl": [
           {
            "colorbar": {
             "outlinewidth": 0,
             "ticks": ""
            },
            "colorscale": [
             [
              0,
              "#0d0887"
             ],
             [
              0.1111111111111111,
              "#46039f"
             ],
             [
              0.2222222222222222,
              "#7201a8"
             ],
             [
              0.3333333333333333,
              "#9c179e"
             ],
             [
              0.4444444444444444,
              "#bd3786"
             ],
             [
              0.5555555555555556,
              "#d8576b"
             ],
             [
              0.6666666666666666,
              "#ed7953"
             ],
             [
              0.7777777777777778,
              "#fb9f3a"
             ],
             [
              0.8888888888888888,
              "#fdca26"
             ],
             [
              1,
              "#f0f921"
             ]
            ],
            "type": "heatmapgl"
           }
          ],
          "histogram": [
           {
            "marker": {
             "pattern": {
              "fillmode": "overlay",
              "size": 10,
              "solidity": 0.2
             }
            },
            "type": "histogram"
           }
          ],
          "histogram2d": [
           {
            "colorbar": {
             "outlinewidth": 0,
             "ticks": ""
            },
            "colorscale": [
             [
              0,
              "#0d0887"
             ],
             [
              0.1111111111111111,
              "#46039f"
             ],
             [
              0.2222222222222222,
              "#7201a8"
             ],
             [
              0.3333333333333333,
              "#9c179e"
             ],
             [
              0.4444444444444444,
              "#bd3786"
             ],
             [
              0.5555555555555556,
              "#d8576b"
             ],
             [
              0.6666666666666666,
              "#ed7953"
             ],
             [
              0.7777777777777778,
              "#fb9f3a"
             ],
             [
              0.8888888888888888,
              "#fdca26"
             ],
             [
              1,
              "#f0f921"
             ]
            ],
            "type": "histogram2d"
           }
          ],
          "histogram2dcontour": [
           {
            "colorbar": {
             "outlinewidth": 0,
             "ticks": ""
            },
            "colorscale": [
             [
              0,
              "#0d0887"
             ],
             [
              0.1111111111111111,
              "#46039f"
             ],
             [
              0.2222222222222222,
              "#7201a8"
             ],
             [
              0.3333333333333333,
              "#9c179e"
             ],
             [
              0.4444444444444444,
              "#bd3786"
             ],
             [
              0.5555555555555556,
              "#d8576b"
             ],
             [
              0.6666666666666666,
              "#ed7953"
             ],
             [
              0.7777777777777778,
              "#fb9f3a"
             ],
             [
              0.8888888888888888,
              "#fdca26"
             ],
             [
              1,
              "#f0f921"
             ]
            ],
            "type": "histogram2dcontour"
           }
          ],
          "mesh3d": [
           {
            "colorbar": {
             "outlinewidth": 0,
             "ticks": ""
            },
            "type": "mesh3d"
           }
          ],
          "parcoords": [
           {
            "line": {
             "colorbar": {
              "outlinewidth": 0,
              "ticks": ""
             }
            },
            "type": "parcoords"
           }
          ],
          "pie": [
           {
            "automargin": true,
            "type": "pie"
           }
          ],
          "scatter": [
           {
            "fillpattern": {
             "fillmode": "overlay",
             "size": 10,
             "solidity": 0.2
            },
            "type": "scatter"
           }
          ],
          "scatter3d": [
           {
            "line": {
             "colorbar": {
              "outlinewidth": 0,
              "ticks": ""
             }
            },
            "marker": {
             "colorbar": {
              "outlinewidth": 0,
              "ticks": ""
             }
            },
            "type": "scatter3d"
           }
          ],
          "scattercarpet": [
           {
            "marker": {
             "colorbar": {
              "outlinewidth": 0,
              "ticks": ""
             }
            },
            "type": "scattercarpet"
           }
          ],
          "scattergeo": [
           {
            "marker": {
             "colorbar": {
              "outlinewidth": 0,
              "ticks": ""
             }
            },
            "type": "scattergeo"
           }
          ],
          "scattergl": [
           {
            "marker": {
             "colorbar": {
              "outlinewidth": 0,
              "ticks": ""
             }
            },
            "type": "scattergl"
           }
          ],
          "scattermapbox": [
           {
            "marker": {
             "colorbar": {
              "outlinewidth": 0,
              "ticks": ""
             }
            },
            "type": "scattermapbox"
           }
          ],
          "scatterpolar": [
           {
            "marker": {
             "colorbar": {
              "outlinewidth": 0,
              "ticks": ""
             }
            },
            "type": "scatterpolar"
           }
          ],
          "scatterpolargl": [
           {
            "marker": {
             "colorbar": {
              "outlinewidth": 0,
              "ticks": ""
             }
            },
            "type": "scatterpolargl"
           }
          ],
          "scatterternary": [
           {
            "marker": {
             "colorbar": {
              "outlinewidth": 0,
              "ticks": ""
             }
            },
            "type": "scatterternary"
           }
          ],
          "surface": [
           {
            "colorbar": {
             "outlinewidth": 0,
             "ticks": ""
            },
            "colorscale": [
             [
              0,
              "#0d0887"
             ],
             [
              0.1111111111111111,
              "#46039f"
             ],
             [
              0.2222222222222222,
              "#7201a8"
             ],
             [
              0.3333333333333333,
              "#9c179e"
             ],
             [
              0.4444444444444444,
              "#bd3786"
             ],
             [
              0.5555555555555556,
              "#d8576b"
             ],
             [
              0.6666666666666666,
              "#ed7953"
             ],
             [
              0.7777777777777778,
              "#fb9f3a"
             ],
             [
              0.8888888888888888,
              "#fdca26"
             ],
             [
              1,
              "#f0f921"
             ]
            ],
            "type": "surface"
           }
          ],
          "table": [
           {
            "cells": {
             "fill": {
              "color": "#EBF0F8"
             },
             "line": {
              "color": "white"
             }
            },
            "header": {
             "fill": {
              "color": "#C8D4E3"
             },
             "line": {
              "color": "white"
             }
            },
            "type": "table"
           }
          ]
         },
         "layout": {
          "annotationdefaults": {
           "arrowcolor": "#2a3f5f",
           "arrowhead": 0,
           "arrowwidth": 1
          },
          "autotypenumbers": "strict",
          "coloraxis": {
           "colorbar": {
            "outlinewidth": 0,
            "ticks": ""
           }
          },
          "colorscale": {
           "diverging": [
            [
             0,
             "#8e0152"
            ],
            [
             0.1,
             "#c51b7d"
            ],
            [
             0.2,
             "#de77ae"
            ],
            [
             0.3,
             "#f1b6da"
            ],
            [
             0.4,
             "#fde0ef"
            ],
            [
             0.5,
             "#f7f7f7"
            ],
            [
             0.6,
             "#e6f5d0"
            ],
            [
             0.7,
             "#b8e186"
            ],
            [
             0.8,
             "#7fbc41"
            ],
            [
             0.9,
             "#4d9221"
            ],
            [
             1,
             "#276419"
            ]
           ],
           "sequential": [
            [
             0,
             "#0d0887"
            ],
            [
             0.1111111111111111,
             "#46039f"
            ],
            [
             0.2222222222222222,
             "#7201a8"
            ],
            [
             0.3333333333333333,
             "#9c179e"
            ],
            [
             0.4444444444444444,
             "#bd3786"
            ],
            [
             0.5555555555555556,
             "#d8576b"
            ],
            [
             0.6666666666666666,
             "#ed7953"
            ],
            [
             0.7777777777777778,
             "#fb9f3a"
            ],
            [
             0.8888888888888888,
             "#fdca26"
            ],
            [
             1,
             "#f0f921"
            ]
           ],
           "sequentialminus": [
            [
             0,
             "#0d0887"
            ],
            [
             0.1111111111111111,
             "#46039f"
            ],
            [
             0.2222222222222222,
             "#7201a8"
            ],
            [
             0.3333333333333333,
             "#9c179e"
            ],
            [
             0.4444444444444444,
             "#bd3786"
            ],
            [
             0.5555555555555556,
             "#d8576b"
            ],
            [
             0.6666666666666666,
             "#ed7953"
            ],
            [
             0.7777777777777778,
             "#fb9f3a"
            ],
            [
             0.8888888888888888,
             "#fdca26"
            ],
            [
             1,
             "#f0f921"
            ]
           ]
          },
          "colorway": [
           "#636efa",
           "#EF553B",
           "#00cc96",
           "#ab63fa",
           "#FFA15A",
           "#19d3f3",
           "#FF6692",
           "#B6E880",
           "#FF97FF",
           "#FECB52"
          ],
          "font": {
           "color": "#2a3f5f"
          },
          "geo": {
           "bgcolor": "white",
           "lakecolor": "white",
           "landcolor": "#E5ECF6",
           "showlakes": true,
           "showland": true,
           "subunitcolor": "white"
          },
          "hoverlabel": {
           "align": "left"
          },
          "hovermode": "closest",
          "mapbox": {
           "style": "light"
          },
          "paper_bgcolor": "white",
          "plot_bgcolor": "#E5ECF6",
          "polar": {
           "angularaxis": {
            "gridcolor": "white",
            "linecolor": "white",
            "ticks": ""
           },
           "bgcolor": "#E5ECF6",
           "radialaxis": {
            "gridcolor": "white",
            "linecolor": "white",
            "ticks": ""
           }
          },
          "scene": {
           "xaxis": {
            "backgroundcolor": "#E5ECF6",
            "gridcolor": "white",
            "gridwidth": 2,
            "linecolor": "white",
            "showbackground": true,
            "ticks": "",
            "zerolinecolor": "white"
           },
           "yaxis": {
            "backgroundcolor": "#E5ECF6",
            "gridcolor": "white",
            "gridwidth": 2,
            "linecolor": "white",
            "showbackground": true,
            "ticks": "",
            "zerolinecolor": "white"
           },
           "zaxis": {
            "backgroundcolor": "#E5ECF6",
            "gridcolor": "white",
            "gridwidth": 2,
            "linecolor": "white",
            "showbackground": true,
            "ticks": "",
            "zerolinecolor": "white"
           }
          },
          "shapedefaults": {
           "line": {
            "color": "#2a3f5f"
           }
          },
          "ternary": {
           "aaxis": {
            "gridcolor": "white",
            "linecolor": "white",
            "ticks": ""
           },
           "baxis": {
            "gridcolor": "white",
            "linecolor": "white",
            "ticks": ""
           },
           "bgcolor": "#E5ECF6",
           "caxis": {
            "gridcolor": "white",
            "linecolor": "white",
            "ticks": ""
           }
          },
          "title": {
           "x": 0.05
          },
          "xaxis": {
           "automargin": true,
           "gridcolor": "white",
           "linecolor": "white",
           "ticks": "",
           "title": {
            "standoff": 15
           },
           "zerolinecolor": "white",
           "zerolinewidth": 2
          },
          "yaxis": {
           "automargin": true,
           "gridcolor": "white",
           "linecolor": "white",
           "ticks": "",
           "title": {
            "standoff": 15
           },
           "zerolinecolor": "white",
           "zerolinewidth": 2
          }
         }
        },
        "xaxis": {
         "autorange": true,
         "range": [
          -0.5,
          2.5
         ],
         "type": "category"
        },
        "yaxis": {
         "autorange": true,
         "range": [
          0,
          30.526315789473685
         ],
         "type": "linear"
        }
       }
      },
      "image/png": "[encoded data removed]",
      "text/html": [
       "<div>                            <div id=\"37c254da-ac35-431c-9ed3-756d774195fe\" class=\"plotly-graph-div\" style=\"height:525px; width:100%;\"></div>            <script type=\"text/javascript\">                require([\"plotly\"], function(Plotly) {                    window.PLOTLYENV=window.PLOTLYENV || {};                                    if (document.getElementById(\"37c254da-ac35-431c-9ed3-756d774195fe\")) {                    Plotly.newPlot(                        \"37c254da-ac35-431c-9ed3-756d774195fe\",                        [{\"name\":\"UNITDSPR\",\"x\":[\"10 Years\",\"5 Years\",\"3 Years\",\"TTM\"],\"y\":[\"10 Years\",\"UNITDSPR\",1.0],\"type\":\"bar\"},{\"name\":\"UBL\",\"x\":[\"10 Years\",\"5 Years\",\"3 Years\",\"TTM\"],\"y\":[\"10 Years\",\"UBL\",7.0],\"type\":\"bar\"},{\"name\":\"RADICO\",\"x\":[\"10 Years\",\"5 Years\",\"3 Years\",\"TTM\"],\"y\":[\"10 Years\",\"RADICO\",12.0],\"type\":\"bar\"},{\"name\":\"SULA\",\"x\":[\"10 Years\",\"5 Years\",\"3 Years\",\"TTM\"],\"y\":[\"10 Years\",\"SULA\",null],\"type\":\"bar\"},{\"name\":\"UNITDSPR\",\"x\":[\"10 Years\",\"5 Years\",\"3 Years\",\"TTM\"],\"y\":[\"5 Years\",\"UNITDSPR\",4.0],\"type\":\"bar\"},{\"name\":\"UBL\",\"x\":[\"10 Years\",\"5 Years\",\"3 Years\",\"TTM\"],\"y\":[\"5 Years\",\"UBL\",5.0],\"type\":\"bar\"},{\"name\":\"RADICO\",\"x\":[\"10 Years\",\"5 Years\",\"3 Years\",\"TTM\"],\"y\":[\"5 Years\",\"RADICO\",15.0],\"type\":\"bar\"},{\"name\":\"SULA\",\"x\":[\"10 Years\",\"5 Years\",\"3 Years\",\"TTM\"],\"y\":[\"5 Years\",\"SULA\",2.0],\"type\":\"bar\"},{\"name\":\"UNITDSPR\",\"x\":[\"10 Years\",\"5 Years\",\"3 Years\",\"TTM\"],\"y\":[\"3 Years\",\"UNITDSPR\",12.0],\"type\":\"bar\"},{\"name\":\"UBL\",\"x\":[\"10 Years\",\"5 Years\",\"3 Years\",\"TTM\"],\"y\":[\"3 Years\",\"UBL\",24.0],\"type\":\"bar\"},{\"name\":\"RADICO\",\"x\":[\"10 Years\",\"5 Years\",\"3 Years\",\"TTM\"],\"y\":[\"3 Years\",\"RADICO\",20.0],\"type\":\"bar\"},{\"name\":\"SULA\",\"x\":[\"10 Years\",\"5 Years\",\"3 Years\",\"TTM\"],\"y\":[\"3 Years\",\"SULA\",21.0],\"type\":\"bar\"},{\"name\":\"UNITDSPR\",\"x\":[\"10 Years\",\"5 Years\",\"3 Years\",\"TTM\"],\"y\":[\"TTM\",\"UNITDSPR\",5.0],\"type\":\"bar\"},{\"name\":\"UBL\",\"x\":[\"10 Years\",\"5 Years\",\"3 Years\",\"TTM\"],\"y\":[\"TTM\",\"UBL\",13.0],\"type\":\"bar\"},{\"name\":\"RADICO\",\"x\":[\"10 Years\",\"5 Years\",\"3 Years\",\"TTM\"],\"y\":[\"TTM\",\"RADICO\",29.0],\"type\":\"bar\"},{\"name\":\"SULA\",\"x\":[\"10 Years\",\"5 Years\",\"3 Years\",\"TTM\"],\"y\":[\"TTM\",\"SULA\",9.0],\"type\":\"bar\"}],                        {\"template\":{\"data\":{\"histogram2dcontour\":[{\"type\":\"histogram2dcontour\",\"colorbar\":{\"outlinewidth\":0,\"ticks\":\"\"},\"colorscale\":[[0.0,\"#0d0887\"],[0.1111111111111111,\"#46039f\"],[0.2222222222222222,\"#7201a8\"],[0.3333333333333333,\"#9c179e\"],[0.4444444444444444,\"#bd3786\"],[0.5555555555555556,\"#d8576b\"],[0.6666666666666666,\"#ed7953\"],[0.7777777777777778,\"#fb9f3a\"],[0.8888888888888888,\"#fdca26\"],[1.0,\"#f0f921\"]]}],\"choropleth\":[{\"type\":\"choropleth\",\"colorbar\":{\"outlinewidth\":0,\"ticks\":\"\"}}],\"histogram2d\":[{\"type\":\"histogram2d\",\"colorbar\":{\"outlinewidth\":0,\"ticks\":\"\"},\"colorscale\":[[0.0,\"#0d0887\"],[0.1111111111111111,\"#46039f\"],[0.2222222222222222,\"#7201a8\"],[0.3333333333333333,\"#9c179e\"],[0.4444444444444444,\"#bd3786\"],[0.5555555555555556,\"#d8576b\"],[0.6666666666666666,\"#ed7953\"],[0.7777777777777778,\"#fb9f3a\"],[0.8888888888888888,\"#fdca26\"],[1.0,\"#f0f921\"]]}],\"heatmap\":[{\"type\":\"heatmap\",\"colorbar\":{\"outlinewidth\":0,\"ticks\":\"\"},\"colorscale\":[[0.0,\"#0d0887\"],[0.1111111111111111,\"#46039f\"],[0.2222222222222222,\"#7201a8\"],[0.3333333333333333,\"#9c179e\"],[0.4444444444444444,\"#bd3786\"],[0.5555555555555556,\"#d8576b\"],[0.6666666666666666,\"#ed7953\"],[0.7777777777777778,\"#fb9f3a\"],[0.8888888888888888,\"#fdca26\"],[1.0,\"#f0f921\"]]}],\"heatmapgl\":[{\"type\":\"heatmapgl\",\"colorbar\":{\"outlinewidth\":0,\"ticks\":\"\"},\"colorscale\":[[0.0,\"#0d0887\"],[0.1111111111111111,\"#46039f\"],[0.2222222222222222,\"#7201a8\"],[0.3333333333333333,\"#9c179e\"],[0.4444444444444444,\"#bd3786\"],[0.5555555555555556,\"#d8576b\"],[0.6666666666666666,\"#ed7953\"],[0.7777777777777778,\"#fb9f3a\"],[0.8888888888888888,\"#fdca26\"],[1.0,\"#f0f921\"]]}],\"contourcarpet\":[{\"type\":\"contourcarpet\",\"colorbar\":{\"outlinewidth\":0,\"ticks\":\"\"}}],\"contour\":[{\"type\":\"contour\",\"colorbar\":{\"outlinewidth\":0,\"ticks\":\"\"},\"colorscale\":[[0.0,\"#0d0887\"],[0.1111111111111111,\"#46039f\"],[0.2222222222222222,\"#7201a8\"],[0.3333333333333333,\"#9c179e\"],[0.4444444444444444,\"#bd3786\"],[0.5555555555555556,\"#d8576b\"],[0.6666666666666666,\"#ed7953\"],[0.7777777777777778,\"#fb9f3a\"],[0.8888888888888888,\"#fdca26\"],[1.0,\"#f0f921\"]]}],\"surface\":[{\"type\":\"surface\",\"colorbar\":{\"outlinewidth\":0,\"ticks\":\"\"},\"colorscale\":[[0.0,\"#0d0887\"],[0.1111111111111111,\"#46039f\"],[0.2222222222222222,\"#7201a8\"],[0.3333333333333333,\"#9c179e\"],[0.4444444444444444,\"#bd3786\"],[0.5555555555555556,\"#d8576b\"],[0.6666666666666666,\"#ed7953\"],[0.7777777777777778,\"#fb9f3a\"],[0.8888888888888888,\"#fdca26\"],[1.0,\"#f0f921\"]]}],\"mesh3d\":[{\"type\":\"mesh3d\",\"colorbar\":{\"outlinewidth\":0,\"ticks\":\"\"}}],\"scatter\":[{\"fillpattern\":{\"fillmode\":\"overlay\",\"size\":10,\"solidity\":0.2},\"type\":\"scatter\"}],\"parcoords\":[{\"type\":\"parcoords\",\"line\":{\"colorbar\":{\"outlinewidth\":0,\"ticks\":\"\"}}}],\"scatterpolargl\":[{\"type\":\"scatterpolargl\",\"marker\":{\"colorbar\":{\"outlinewidth\":0,\"ticks\":\"\"}}}],\"bar\":[{\"error_x\":{\"color\":\"#2a3f5f\"},\"error_y\":{\"color\":\"#2a3f5f\"},\"marker\":{\"line\":{\"color\":\"#E5ECF6\",\"width\":0.5},\"pattern\":{\"fillmode\":\"overlay\",\"size\":10,\"solidity\":0.2}},\"type\":\"bar\"}],\"scattergeo\":[{\"type\":\"scattergeo\",\"marker\":{\"colorbar\":{\"outlinewidth\":0,\"ticks\":\"\"}}}],\"scatterpolar\":[{\"type\":\"scatterpolar\",\"marker\":{\"colorbar\":{\"outlinewidth\":0,\"ticks\":\"\"}}}],\"histogram\":[{\"marker\":{\"pattern\":{\"fillmode\":\"overlay\",\"size\":10,\"solidity\":0.2}},\"type\":\"histogram\"}],\"scattergl\":[{\"type\":\"scattergl\",\"marker\":{\"colorbar\":{\"outlinewidth\":0,\"ticks\":\"\"}}}],\"scatter3d\":[{\"type\":\"scatter3d\",\"line\":{\"colorbar\":{\"outlinewidth\":0,\"ticks\":\"\"}},\"marker\":{\"colorbar\":{\"outlinewidth\":0,\"ticks\":\"\"}}}],\"scattermapbox\":[{\"type\":\"scattermapbox\",\"marker\":{\"colorbar\":{\"outlinewidth\":0,\"ticks\":\"\"}}}],\"scatterternary\":[{\"type\":\"scatterternary\",\"marker\":{\"colorbar\":{\"outlinewidth\":0,\"ticks\":\"\"}}}],\"scattercarpet\":[{\"type\":\"scattercarpet\",\"marker\":{\"colorbar\":{\"outlinewidth\":0,\"ticks\":\"\"}}}],\"carpet\":[{\"aaxis\":{\"endlinecolor\":\"#2a3f5f\",\"gridcolor\":\"white\",\"linecolor\":\"white\",\"minorgridcolor\":\"white\",\"startlinecolor\":\"#2a3f5f\"},\"baxis\":{\"endlinecolor\":\"#2a3f5f\",\"gridcolor\":\"white\",\"linecolor\":\"white\",\"minorgridcolor\":\"white\",\"startlinecolor\":\"#2a3f5f\"},\"type\":\"carpet\"}],\"table\":[{\"cells\":{\"fill\":{\"color\":\"#EBF0F8\"},\"line\":{\"color\":\"white\"}},\"header\":{\"fill\":{\"color\":\"#C8D4E3\"},\"line\":{\"color\":\"white\"}},\"type\":\"table\"}],\"barpolar\":[{\"marker\":{\"line\":{\"color\":\"#E5ECF6\",\"width\":0.5},\"pattern\":{\"fillmode\":\"overlay\",\"size\":10,\"solidity\":0.2}},\"type\":\"barpolar\"}],\"pie\":[{\"automargin\":true,\"type\":\"pie\"}]},\"layout\":{\"autotypenumbers\":\"strict\",\"colorway\":[\"#636efa\",\"#EF553B\",\"#00cc96\",\"#ab63fa\",\"#FFA15A\",\"#19d3f3\",\"#FF6692\",\"#B6E880\",\"#FF97FF\",\"#FECB52\"],\"font\":{\"color\":\"#2a3f5f\"},\"hovermode\":\"closest\",\"hoverlabel\":{\"align\":\"left\"},\"paper_bgcolor\":\"white\",\"plot_bgcolor\":\"#E5ECF6\",\"polar\":{\"bgcolor\":\"#E5ECF6\",\"angularaxis\":{\"gridcolor\":\"white\",\"linecolor\":\"white\",\"ticks\":\"\"},\"radialaxis\":{\"gridcolor\":\"white\",\"linecolor\":\"white\",\"ticks\":\"\"}},\"ternary\":{\"bgcolor\":\"#E5ECF6\",\"aaxis\":{\"gridcolor\":\"white\",\"linecolor\":\"white\",\"ticks\":\"\"},\"baxis\":{\"gridcolor\":\"white\",\"linecolor\":\"white\",\"ticks\":\"\"},\"caxis\":{\"gridcolor\":\"white\",\"linecolor\":\"white\",\"ticks\":\"\"}},\"coloraxis\":{\"colorbar\":{\"outlinewidth\":0,\"ticks\":\"\"}},\"colorscale\":{\"sequential\":[[0.0,\"#0d0887\"],[0.1111111111111111,\"#46039f\"],[0.2222222222222222,\"#7201a8\"],[0.3333333333333333,\"#9c179e\"],[0.4444444444444444,\"#bd3786\"],[0.5555555555555556,\"#d8576b\"],[0.6666666666666666,\"#ed7953\"],[0.7777777777777778,\"#fb9f3a\"],[0.8888888888888888,\"#fdca26\"],[1.0,\"#f0f921\"]],\"sequentialminus\":[[0.0,\"#0d0887\"],[0.1111111111111111,\"#46039f\"],[0.2222222222222222,\"#7201a8\"],[0.3333333333333333,\"#9c179e\"],[0.4444444444444444,\"#bd3786\"],[0.5555555555555556,\"#d8576b\"],[0.6666666666666666,\"#ed7953\"],[0.7777777777777778,\"#fb9f3a\"],[0.8888888888888888,\"#fdca26\"],[1.0,\"#f0f921\"]],\"diverging\":[[0,\"#8e0152\"],[0.1,\"#c51b7d\"],[0.2,\"#de77ae\"],[0.3,\"#f1b6da\"],[0.4,\"#fde0ef\"],[0.5,\"#f7f7f7\"],[0.6,\"#e6f5d0\"],[0.7,\"#b8e186\"],[0.8,\"#7fbc41\"],[0.9,\"#4d9221\"],[1,\"#276419\"]]},\"xaxis\":{\"gridcolor\":\"white\",\"linecolor\":\"white\",\"ticks\":\"\",\"title\":{\"standoff\":15},\"zerolinecolor\":\"white\",\"automargin\":true,\"zerolinewidth\":2},\"yaxis\":{\"gridcolor\":\"white\",\"linecolor\":\"white\",\"ticks\":\"\",\"title\":{\"standoff\":15},\"zerolinecolor\":\"white\",\"automargin\":true,\"zerolinewidth\":2},\"scene\":{\"xaxis\":{\"backgroundcolor\":\"#E5ECF6\",\"gridcolor\":\"white\",\"linecolor\":\"white\",\"showbackground\":true,\"ticks\":\"\",\"zerolinecolor\":\"white\",\"gridwidth\":2},\"yaxis\":{\"backgroundcolor\":\"#E5ECF6\",\"gridcolor\":\"white\",\"linecolor\":\"white\",\"showbackground\":true,\"ticks\":\"\",\"zerolinecolor\":\"white\",\"gridwidth\":2},\"zaxis\":{\"backgroundcolor\":\"#E5ECF6\",\"gridcolor\":\"white\",\"linecolor\":\"white\",\"showbackground\":true,\"ticks\":\"\",\"zerolinecolor\":\"white\",\"gridwidth\":2}},\"shapedefaults\":{\"line\":{\"color\":\"#2a3f5f\"}},\"annotationdefaults\":{\"arrowcolor\":\"#2a3f5f\",\"arrowhead\":0,\"arrowwidth\":1},\"geo\":{\"bgcolor\":\"white\",\"landcolor\":\"#E5ECF6\",\"subunitcolor\":\"white\",\"showland\":true,\"showlakes\":true,\"lakecolor\":\"white\"},\"title\":{\"x\":0.05},\"mapbox\":{\"style\":\"light\"}}}},                        {\"responsive\": true}                    ).then(function(){\n",
       "                            \n",
       "var gd = document.getElementById('37c254da-ac35-431c-9ed3-756d774195fe');\n",
       "var x = new MutationObserver(function (mutations, observer) {{\n",
       "        var display = window.getComputedStyle(gd).display;\n",
       "        if (!display || display === 'none') {{\n",
       "            console.log([gd, 'removed!']);\n",
       "            Plotly.purge(gd);\n",
       "            observer.disconnect();\n",
       "        }}\n",
       "}});\n",
       "\n",
       "// Listen for the removal of the full notebook cells\n",
       "var notebookContainer = gd.closest('#notebook-container');\n",
       "if (notebookContainer) {{\n",
       "    x.observe(notebookContainer, {childList: true});\n",
       "}}\n",
       "\n",
       "// Listen for the clearing of the current output cell\n",
       "var outputEl = gd.closest('.output');\n",
       "if (outputEl) {{\n",
       "    x.observe(outputEl, {childList: true});\n",
       "}}\n",
       "\n",
       "                        })                };                });            </script>        </div>"
      ]
     },
     "metadata": {},
     "output_type": "display_data"
    }
   ],
   "source": [
    "\n",
    "fig = go.Figure()\n",
    "\n",
    "\n",
    "# List of quarters\n",
    "x = df['Compounded Sales Growth'].unique()\n",
    "\n",
    "\n",
    "# Add traces for each metric\n",
    "for result in df['Compounded Sales Growth'].unique():\n",
    "    for stock in df['Stockname'].unique():\n",
    "        fig.add_trace(go.Bar(\n",
    "            x=x,\n",
    "            y=df[ (df['Stockname'] == stock) & (df['Compounded Sales Growth'] == result) ].iloc[0,:],\n",
    "            name=f'{stock}'\n",
    "        ))\n",
    "\n",
    "fig.update_layout()\n",
    "fig.show()\n"
   ]
  },
  {
   "cell_type": "code",
   "execution_count": 51,
   "id": "63f174de-2ea5-4a85-9ae1-8b6a8326a131",
   "metadata": {},
   "outputs": [
    {
     "data": {
      "application/vnd.plotly.v1+json": {
       "config": {
        "plotlyServerURL": "https://plot.ly"
       },
       "data": [
        {
         "name": "Stock-1",
         "type": "bar",
         "x": [
          "10 Years",
          "5 Years",
          "3 Years",
          "TTM"
         ],
         "y": [
          "10 Years",
          "Stock-1",
          1
         ]
        },
        {
         "name": "Stock-2",
         "type": "bar",
         "x": [
          "10 Years",
          "5 Years",
          "3 Years",
          "TTM"
         ],
         "y": [
          "10 Years",
          "Stock-2",
          7
         ]
        },
        {
         "name": "Stock-1",
         "type": "bar",
         "x": [
          "10 Years",
          "5 Years",
          "3 Years",
          "TTM"
         ],
         "y": [
          "5 Years",
          "Stock-1",
          4
         ]
        },
        {
         "name": "Stock-2",
         "type": "bar",
         "x": [
          "10 Years",
          "5 Years",
          "3 Years",
          "TTM"
         ],
         "y": [
          "5 Years",
          "Stock-2",
          5
         ]
        },
        {
         "name": "Stock-1",
         "type": "bar",
         "x": [
          "10 Years",
          "5 Years",
          "3 Years",
          "TTM"
         ],
         "y": [
          "3 Years",
          "Stock-1",
          12
         ]
        },
        {
         "name": "Stock-2",
         "type": "bar",
         "x": [
          "10 Years",
          "5 Years",
          "3 Years",
          "TTM"
         ],
         "y": [
          "3 Years",
          "Stock-2",
          24
         ]
        },
        {
         "name": "Stock-1",
         "type": "bar",
         "x": [
          "10 Years",
          "5 Years",
          "3 Years",
          "TTM"
         ],
         "y": [
          "TTM",
          "Stock-1",
          5
         ]
        },
        {
         "name": "Stock-2",
         "type": "bar",
         "x": [
          "10 Years",
          "5 Years",
          "3 Years",
          "TTM"
         ],
         "y": [
          "TTM",
          "Stock-2",
          13
         ]
        }
       ],
       "layout": {
        "autosize": true,
        "template": {
         "data": {
          "bar": [
           {
            "error_x": {
             "color": "#2a3f5f"
            },
            "error_y": {
             "color": "#2a3f5f"
            },
            "marker": {
             "line": {
              "color": "#E5ECF6",
              "width": 0.5
             },
             "pattern": {
              "fillmode": "overlay",
              "size": 10,
              "solidity": 0.2
             }
            },
            "type": "bar"
           }
          ],
          "barpolar": [
           {
            "marker": {
             "line": {
              "color": "#E5ECF6",
              "width": 0.5
             },
             "pattern": {
              "fillmode": "overlay",
              "size": 10,
              "solidity": 0.2
             }
            },
            "type": "barpolar"
           }
          ],
          "carpet": [
           {
            "aaxis": {
             "endlinecolor": "#2a3f5f",
             "gridcolor": "white",
             "linecolor": "white",
             "minorgridcolor": "white",
             "startlinecolor": "#2a3f5f"
            },
            "baxis": {
             "endlinecolor": "#2a3f5f",
             "gridcolor": "white",
             "linecolor": "white",
             "minorgridcolor": "white",
             "startlinecolor": "#2a3f5f"
            },
            "type": "carpet"
           }
          ],
          "choropleth": [
           {
            "colorbar": {
             "outlinewidth": 0,
             "ticks": ""
            },
            "type": "choropleth"
           }
          ],
          "contour": [
           {
            "colorbar": {
             "outlinewidth": 0,
             "ticks": ""
            },
            "colorscale": [
             [
              0,
              "#0d0887"
             ],
             [
              0.1111111111111111,
              "#46039f"
             ],
             [
              0.2222222222222222,
              "#7201a8"
             ],
             [
              0.3333333333333333,
              "#9c179e"
             ],
             [
              0.4444444444444444,
              "#bd3786"
             ],
             [
              0.5555555555555556,
              "#d8576b"
             ],
             [
              0.6666666666666666,
              "#ed7953"
             ],
             [
              0.7777777777777778,
              "#fb9f3a"
             ],
             [
              0.8888888888888888,
              "#fdca26"
             ],
             [
              1,
              "#f0f921"
             ]
            ],
            "type": "contour"
           }
          ],
          "contourcarpet": [
           {
            "colorbar": {
             "outlinewidth": 0,
             "ticks": ""
            },
            "type": "contourcarpet"
           }
          ],
          "heatmap": [
           {
            "colorbar": {
             "outlinewidth": 0,
             "ticks": ""
            },
            "colorscale": [
             [
              0,
              "#0d0887"
             ],
             [
              0.1111111111111111,
              "#46039f"
             ],
             [
              0.2222222222222222,
              "#7201a8"
             ],
             [
              0.3333333333333333,
              "#9c179e"
             ],
             [
              0.4444444444444444,
              "#bd3786"
             ],
             [
              0.5555555555555556,
              "#d8576b"
             ],
             [
              0.6666666666666666,
              "#ed7953"
             ],
             [
              0.7777777777777778,
              "#fb9f3a"
             ],
             [
              0.8888888888888888,
              "#fdca26"
             ],
             [
              1,
              "#f0f921"
             ]
            ],
            "type": "heatmap"
           }
          ],
          "heatmapgl": [
           {
            "colorbar": {
             "outlinewidth": 0,
             "ticks": ""
            },
            "colorscale": [
             [
              0,
              "#0d0887"
             ],
             [
              0.1111111111111111,
              "#46039f"
             ],
             [
              0.2222222222222222,
              "#7201a8"
             ],
             [
              0.3333333333333333,
              "#9c179e"
             ],
             [
              0.4444444444444444,
              "#bd3786"
             ],
             [
              0.5555555555555556,
              "#d8576b"
             ],
             [
              0.6666666666666666,
              "#ed7953"
             ],
             [
              0.7777777777777778,
              "#fb9f3a"
             ],
             [
              0.8888888888888888,
              "#fdca26"
             ],
             [
              1,
              "#f0f921"
             ]
            ],
            "type": "heatmapgl"
           }
          ],
          "histogram": [
           {
            "marker": {
             "pattern": {
              "fillmode": "overlay",
              "size": 10,
              "solidity": 0.2
             }
            },
            "type": "histogram"
           }
          ],
          "histogram2d": [
           {
            "colorbar": {
             "outlinewidth": 0,
             "ticks": ""
            },
            "colorscale": [
             [
              0,
              "#0d0887"
             ],
             [
              0.1111111111111111,
              "#46039f"
             ],
             [
              0.2222222222222222,
              "#7201a8"
             ],
             [
              0.3333333333333333,
              "#9c179e"
             ],
             [
              0.4444444444444444,
              "#bd3786"
             ],
             [
              0.5555555555555556,
              "#d8576b"
             ],
             [
              0.6666666666666666,
              "#ed7953"
             ],
             [
              0.7777777777777778,
              "#fb9f3a"
             ],
             [
              0.8888888888888888,
              "#fdca26"
             ],
             [
              1,
              "#f0f921"
             ]
            ],
            "type": "histogram2d"
           }
          ],
          "histogram2dcontour": [
           {
            "colorbar": {
             "outlinewidth": 0,
             "ticks": ""
            },
            "colorscale": [
             [
              0,
              "#0d0887"
             ],
             [
              0.1111111111111111,
              "#46039f"
             ],
             [
              0.2222222222222222,
              "#7201a8"
             ],
             [
              0.3333333333333333,
              "#9c179e"
             ],
             [
              0.4444444444444444,
              "#bd3786"
             ],
             [
              0.5555555555555556,
              "#d8576b"
             ],
             [
              0.6666666666666666,
              "#ed7953"
             ],
             [
              0.7777777777777778,
              "#fb9f3a"
             ],
             [
              0.8888888888888888,
              "#fdca26"
             ],
             [
              1,
              "#f0f921"
             ]
            ],
            "type": "histogram2dcontour"
           }
          ],
          "mesh3d": [
           {
            "colorbar": {
             "outlinewidth": 0,
             "ticks": ""
            },
            "type": "mesh3d"
           }
          ],
          "parcoords": [
           {
            "line": {
             "colorbar": {
              "outlinewidth": 0,
              "ticks": ""
             }
            },
            "type": "parcoords"
           }
          ],
          "pie": [
           {
            "automargin": true,
            "type": "pie"
           }
          ],
          "scatter": [
           {
            "fillpattern": {
             "fillmode": "overlay",
             "size": 10,
             "solidity": 0.2
            },
            "type": "scatter"
           }
          ],
          "scatter3d": [
           {
            "line": {
             "colorbar": {
              "outlinewidth": 0,
              "ticks": ""
             }
            },
            "marker": {
             "colorbar": {
              "outlinewidth": 0,
              "ticks": ""
             }
            },
            "type": "scatter3d"
           }
          ],
          "scattercarpet": [
           {
            "marker": {
             "colorbar": {
              "outlinewidth": 0,
              "ticks": ""
             }
            },
            "type": "scattercarpet"
           }
          ],
          "scattergeo": [
           {
            "marker": {
             "colorbar": {
              "outlinewidth": 0,
              "ticks": ""
             }
            },
            "type": "scattergeo"
           }
          ],
          "scattergl": [
           {
            "marker": {
             "colorbar": {
              "outlinewidth": 0,
              "ticks": ""
             }
            },
            "type": "scattergl"
           }
          ],
          "scattermapbox": [
           {
            "marker": {
             "colorbar": {
              "outlinewidth": 0,
              "ticks": ""
             }
            },
            "type": "scattermapbox"
           }
          ],
          "scatterpolar": [
           {
            "marker": {
             "colorbar": {
              "outlinewidth": 0,
              "ticks": ""
             }
            },
            "type": "scatterpolar"
           }
          ],
          "scatterpolargl": [
           {
            "marker": {
             "colorbar": {
              "outlinewidth": 0,
              "ticks": ""
             }
            },
            "type": "scatterpolargl"
           }
          ],
          "scatterternary": [
           {
            "marker": {
             "colorbar": {
              "outlinewidth": 0,
              "ticks": ""
             }
            },
            "type": "scatterternary"
           }
          ],
          "surface": [
           {
            "colorbar": {
             "outlinewidth": 0,
             "ticks": ""
            },
            "colorscale": [
             [
              0,
              "#0d0887"
             ],
             [
              0.1111111111111111,
              "#46039f"
             ],
             [
              0.2222222222222222,
              "#7201a8"
             ],
             [
              0.3333333333333333,
              "#9c179e"
             ],
             [
              0.4444444444444444,
              "#bd3786"
             ],
             [
              0.5555555555555556,
              "#d8576b"
             ],
             [
              0.6666666666666666,
              "#ed7953"
             ],
             [
              0.7777777777777778,
              "#fb9f3a"
             ],
             [
              0.8888888888888888,
              "#fdca26"
             ],
             [
              1,
              "#f0f921"
             ]
            ],
            "type": "surface"
           }
          ],
          "table": [
           {
            "cells": {
             "fill": {
              "color": "#EBF0F8"
             },
             "line": {
              "color": "white"
             }
            },
            "header": {
             "fill": {
              "color": "#C8D4E3"
             },
             "line": {
              "color": "white"
             }
            },
            "type": "table"
           }
          ]
         },
         "layout": {
          "annotationdefaults": {
           "arrowcolor": "#2a3f5f",
           "arrowhead": 0,
           "arrowwidth": 1
          },
          "autotypenumbers": "strict",
          "coloraxis": {
           "colorbar": {
            "outlinewidth": 0,
            "ticks": ""
           }
          },
          "colorscale": {
           "diverging": [
            [
             0,
             "#8e0152"
            ],
            [
             0.1,
             "#c51b7d"
            ],
            [
             0.2,
             "#de77ae"
            ],
            [
             0.3,
             "#f1b6da"
            ],
            [
             0.4,
             "#fde0ef"
            ],
            [
             0.5,
             "#f7f7f7"
            ],
            [
             0.6,
             "#e6f5d0"
            ],
            [
             0.7,
             "#b8e186"
            ],
            [
             0.8,
             "#7fbc41"
            ],
            [
             0.9,
             "#4d9221"
            ],
            [
             1,
             "#276419"
            ]
           ],
           "sequential": [
            [
             0,
             "#0d0887"
            ],
            [
             0.1111111111111111,
             "#46039f"
            ],
            [
             0.2222222222222222,
             "#7201a8"
            ],
            [
             0.3333333333333333,
             "#9c179e"
            ],
            [
             0.4444444444444444,
             "#bd3786"
            ],
            [
             0.5555555555555556,
             "#d8576b"
            ],
            [
             0.6666666666666666,
             "#ed7953"
            ],
            [
             0.7777777777777778,
             "#fb9f3a"
            ],
            [
             0.8888888888888888,
             "#fdca26"
            ],
            [
             1,
             "#f0f921"
            ]
           ],
           "sequentialminus": [
            [
             0,
             "#0d0887"
            ],
            [
             0.1111111111111111,
             "#46039f"
            ],
            [
             0.2222222222222222,
             "#7201a8"
            ],
            [
             0.3333333333333333,
             "#9c179e"
            ],
            [
             0.4444444444444444,
             "#bd3786"
            ],
            [
             0.5555555555555556,
             "#d8576b"
            ],
            [
             0.6666666666666666,
             "#ed7953"
            ],
            [
             0.7777777777777778,
             "#fb9f3a"
            ],
            [
             0.8888888888888888,
             "#fdca26"
            ],
            [
             1,
             "#f0f921"
            ]
           ]
          },
          "colorway": [
           "#636efa",
           "#EF553B",
           "#00cc96",
           "#ab63fa",
           "#FFA15A",
           "#19d3f3",
           "#FF6692",
           "#B6E880",
           "#FF97FF",
           "#FECB52"
          ],
          "font": {
           "color": "#2a3f5f"
          },
          "geo": {
           "bgcolor": "white",
           "lakecolor": "white",
           "landcolor": "#E5ECF6",
           "showlakes": true,
           "showland": true,
           "subunitcolor": "white"
          },
          "hoverlabel": {
           "align": "left"
          },
          "hovermode": "closest",
          "mapbox": {
           "style": "light"
          },
          "paper_bgcolor": "white",
          "plot_bgcolor": "#E5ECF6",
          "polar": {
           "angularaxis": {
            "gridcolor": "white",
            "linecolor": "white",
            "ticks": ""
           },
           "bgcolor": "#E5ECF6",
           "radialaxis": {
            "gridcolor": "white",
            "linecolor": "white",
            "ticks": ""
           }
          },
          "scene": {
           "xaxis": {
            "backgroundcolor": "#E5ECF6",
            "gridcolor": "white",
            "gridwidth": 2,
            "linecolor": "white",
            "showbackground": true,
            "ticks": "",
            "zerolinecolor": "white"
           },
           "yaxis": {
            "backgroundcolor": "#E5ECF6",
            "gridcolor": "white",
            "gridwidth": 2,
            "linecolor": "white",
            "showbackground": true,
            "ticks": "",
            "zerolinecolor": "white"
           },
           "zaxis": {
            "backgroundcolor": "#E5ECF6",
            "gridcolor": "white",
            "gridwidth": 2,
            "linecolor": "white",
            "showbackground": true,
            "ticks": "",
            "zerolinecolor": "white"
           }
          },
          "shapedefaults": {
           "line": {
            "color": "#2a3f5f"
           }
          },
          "ternary": {
           "aaxis": {
            "gridcolor": "white",
            "linecolor": "white",
            "ticks": ""
           },
           "baxis": {
            "gridcolor": "white",
            "linecolor": "white",
            "ticks": ""
           },
           "bgcolor": "#E5ECF6",
           "caxis": {
            "gridcolor": "white",
            "linecolor": "white",
            "ticks": ""
           }
          },
          "title": {
           "x": 0.05
          },
          "xaxis": {
           "automargin": true,
           "gridcolor": "white",
           "linecolor": "white",
           "ticks": "",
           "title": {
            "standoff": 15
           },
           "zerolinecolor": "white",
           "zerolinewidth": 2
          },
          "yaxis": {
           "automargin": true,
           "gridcolor": "white",
           "linecolor": "white",
           "ticks": "",
           "title": {
            "standoff": 15
           },
           "zerolinecolor": "white",
           "zerolinewidth": 2
          }
         }
        },
        "xaxis": {
         "autorange": true,
         "range": [
          -0.5,
          2.5
         ],
         "type": "category"
        },
        "yaxis": {
         "autorange": true,
         "range": [
          0,
          25.263157894736842
         ],
         "type": "linear"
        }
       }
      },
      "image/png": "[encoded data removed]",
      "text/html": [
       "<div>                            <div id=\"e0d71d88-6668-4021-9c64-ae0af560f4dc\" class=\"plotly-graph-div\" style=\"height:525px; width:100%;\"></div>            <script type=\"text/javascript\">                require([\"plotly\"], function(Plotly) {                    window.PLOTLYENV=window.PLOTLYENV || {};                                    if (document.getElementById(\"e0d71d88-6668-4021-9c64-ae0af560f4dc\")) {                    Plotly.newPlot(                        \"e0d71d88-6668-4021-9c64-ae0af560f4dc\",                        [{\"name\":\"Stock-1\",\"x\":[\"10 Years\",\"5 Years\",\"3 Years\",\"TTM\"],\"y\":[\"10 Years\",\"Stock-1\",1],\"type\":\"bar\"},{\"name\":\"Stock-2\",\"x\":[\"10 Years\",\"5 Years\",\"3 Years\",\"TTM\"],\"y\":[\"10 Years\",\"Stock-2\",7],\"type\":\"bar\"},{\"name\":\"Stock-1\",\"x\":[\"10 Years\",\"5 Years\",\"3 Years\",\"TTM\"],\"y\":[\"5 Years\",\"Stock-1\",4],\"type\":\"bar\"},{\"name\":\"Stock-2\",\"x\":[\"10 Years\",\"5 Years\",\"3 Years\",\"TTM\"],\"y\":[\"5 Years\",\"Stock-2\",5],\"type\":\"bar\"},{\"name\":\"Stock-1\",\"x\":[\"10 Years\",\"5 Years\",\"3 Years\",\"TTM\"],\"y\":[\"3 Years\",\"Stock-1\",12],\"type\":\"bar\"},{\"name\":\"Stock-2\",\"x\":[\"10 Years\",\"5 Years\",\"3 Years\",\"TTM\"],\"y\":[\"3 Years\",\"Stock-2\",24],\"type\":\"bar\"},{\"name\":\"Stock-1\",\"x\":[\"10 Years\",\"5 Years\",\"3 Years\",\"TTM\"],\"y\":[\"TTM\",\"Stock-1\",5],\"type\":\"bar\"},{\"name\":\"Stock-2\",\"x\":[\"10 Years\",\"5 Years\",\"3 Years\",\"TTM\"],\"y\":[\"TTM\",\"Stock-2\",13],\"type\":\"bar\"}],                        {\"template\":{\"data\":{\"histogram2dcontour\":[{\"type\":\"histogram2dcontour\",\"colorbar\":{\"outlinewidth\":0,\"ticks\":\"\"},\"colorscale\":[[0.0,\"#0d0887\"],[0.1111111111111111,\"#46039f\"],[0.2222222222222222,\"#7201a8\"],[0.3333333333333333,\"#9c179e\"],[0.4444444444444444,\"#bd3786\"],[0.5555555555555556,\"#d8576b\"],[0.6666666666666666,\"#ed7953\"],[0.7777777777777778,\"#fb9f3a\"],[0.8888888888888888,\"#fdca26\"],[1.0,\"#f0f921\"]]}],\"choropleth\":[{\"type\":\"choropleth\",\"colorbar\":{\"outlinewidth\":0,\"ticks\":\"\"}}],\"histogram2d\":[{\"type\":\"histogram2d\",\"colorbar\":{\"outlinewidth\":0,\"ticks\":\"\"},\"colorscale\":[[0.0,\"#0d0887\"],[0.1111111111111111,\"#46039f\"],[0.2222222222222222,\"#7201a8\"],[0.3333333333333333,\"#9c179e\"],[0.4444444444444444,\"#bd3786\"],[0.5555555555555556,\"#d8576b\"],[0.6666666666666666,\"#ed7953\"],[0.7777777777777778,\"#fb9f3a\"],[0.8888888888888888,\"#fdca26\"],[1.0,\"#f0f921\"]]}],\"heatmap\":[{\"type\":\"heatmap\",\"colorbar\":{\"outlinewidth\":0,\"ticks\":\"\"},\"colorscale\":[[0.0,\"#0d0887\"],[0.1111111111111111,\"#46039f\"],[0.2222222222222222,\"#7201a8\"],[0.3333333333333333,\"#9c179e\"],[0.4444444444444444,\"#bd3786\"],[0.5555555555555556,\"#d8576b\"],[0.6666666666666666,\"#ed7953\"],[0.7777777777777778,\"#fb9f3a\"],[0.8888888888888888,\"#fdca26\"],[1.0,\"#f0f921\"]]}],\"heatmapgl\":[{\"type\":\"heatmapgl\",\"colorbar\":{\"outlinewidth\":0,\"ticks\":\"\"},\"colorscale\":[[0.0,\"#0d0887\"],[0.1111111111111111,\"#46039f\"],[0.2222222222222222,\"#7201a8\"],[0.3333333333333333,\"#9c179e\"],[0.4444444444444444,\"#bd3786\"],[0.5555555555555556,\"#d8576b\"],[0.6666666666666666,\"#ed7953\"],[0.7777777777777778,\"#fb9f3a\"],[0.8888888888888888,\"#fdca26\"],[1.0,\"#f0f921\"]]}],\"contourcarpet\":[{\"type\":\"contourcarpet\",\"colorbar\":{\"outlinewidth\":0,\"ticks\":\"\"}}],\"contour\":[{\"type\":\"contour\",\"colorbar\":{\"outlinewidth\":0,\"ticks\":\"\"},\"colorscale\":[[0.0,\"#0d0887\"],[0.1111111111111111,\"#46039f\"],[0.2222222222222222,\"#7201a8\"],[0.3333333333333333,\"#9c179e\"],[0.4444444444444444,\"#bd3786\"],[0.5555555555555556,\"#d8576b\"],[0.6666666666666666,\"#ed7953\"],[0.7777777777777778,\"#fb9f3a\"],[0.8888888888888888,\"#fdca26\"],[1.0,\"#f0f921\"]]}],\"surface\":[{\"type\":\"surface\",\"colorbar\":{\"outlinewidth\":0,\"ticks\":\"\"},\"colorscale\":[[0.0,\"#0d0887\"],[0.1111111111111111,\"#46039f\"],[0.2222222222222222,\"#7201a8\"],[0.3333333333333333,\"#9c179e\"],[0.4444444444444444,\"#bd3786\"],[0.5555555555555556,\"#d8576b\"],[0.6666666666666666,\"#ed7953\"],[0.7777777777777778,\"#fb9f3a\"],[0.8888888888888888,\"#fdca26\"],[1.0,\"#f0f921\"]]}],\"mesh3d\":[{\"type\":\"mesh3d\",\"colorbar\":{\"outlinewidth\":0,\"ticks\":\"\"}}],\"scatter\":[{\"fillpattern\":{\"fillmode\":\"overlay\",\"size\":10,\"solidity\":0.2},\"type\":\"scatter\"}],\"parcoords\":[{\"type\":\"parcoords\",\"line\":{\"colorbar\":{\"outlinewidth\":0,\"ticks\":\"\"}}}],\"scatterpolargl\":[{\"type\":\"scatterpolargl\",\"marker\":{\"colorbar\":{\"outlinewidth\":0,\"ticks\":\"\"}}}],\"bar\":[{\"error_x\":{\"color\":\"#2a3f5f\"},\"error_y\":{\"color\":\"#2a3f5f\"},\"marker\":{\"line\":{\"color\":\"#E5ECF6\",\"width\":0.5},\"pattern\":{\"fillmode\":\"overlay\",\"size\":10,\"solidity\":0.2}},\"type\":\"bar\"}],\"scattergeo\":[{\"type\":\"scattergeo\",\"marker\":{\"colorbar\":{\"outlinewidth\":0,\"ticks\":\"\"}}}],\"scatterpolar\":[{\"type\":\"scatterpolar\",\"marker\":{\"colorbar\":{\"outlinewidth\":0,\"ticks\":\"\"}}}],\"histogram\":[{\"marker\":{\"pattern\":{\"fillmode\":\"overlay\",\"size\":10,\"solidity\":0.2}},\"type\":\"histogram\"}],\"scattergl\":[{\"type\":\"scattergl\",\"marker\":{\"colorbar\":{\"outlinewidth\":0,\"ticks\":\"\"}}}],\"scatter3d\":[{\"type\":\"scatter3d\",\"line\":{\"colorbar\":{\"outlinewidth\":0,\"ticks\":\"\"}},\"marker\":{\"colorbar\":{\"outlinewidth\":0,\"ticks\":\"\"}}}],\"scattermapbox\":[{\"type\":\"scattermapbox\",\"marker\":{\"colorbar\":{\"outlinewidth\":0,\"ticks\":\"\"}}}],\"scatterternary\":[{\"type\":\"scatterternary\",\"marker\":{\"colorbar\":{\"outlinewidth\":0,\"ticks\":\"\"}}}],\"scattercarpet\":[{\"type\":\"scattercarpet\",\"marker\":{\"colorbar\":{\"outlinewidth\":0,\"ticks\":\"\"}}}],\"carpet\":[{\"aaxis\":{\"endlinecolor\":\"#2a3f5f\",\"gridcolor\":\"white\",\"linecolor\":\"white\",\"minorgridcolor\":\"white\",\"startlinecolor\":\"#2a3f5f\"},\"baxis\":{\"endlinecolor\":\"#2a3f5f\",\"gridcolor\":\"white\",\"linecolor\":\"white\",\"minorgridcolor\":\"white\",\"startlinecolor\":\"#2a3f5f\"},\"type\":\"carpet\"}],\"table\":[{\"cells\":{\"fill\":{\"color\":\"#EBF0F8\"},\"line\":{\"color\":\"white\"}},\"header\":{\"fill\":{\"color\":\"#C8D4E3\"},\"line\":{\"color\":\"white\"}},\"type\":\"table\"}],\"barpolar\":[{\"marker\":{\"line\":{\"color\":\"#E5ECF6\",\"width\":0.5},\"pattern\":{\"fillmode\":\"overlay\",\"size\":10,\"solidity\":0.2}},\"type\":\"barpolar\"}],\"pie\":[{\"automargin\":true,\"type\":\"pie\"}]},\"layout\":{\"autotypenumbers\":\"strict\",\"colorway\":[\"#636efa\",\"#EF553B\",\"#00cc96\",\"#ab63fa\",\"#FFA15A\",\"#19d3f3\",\"#FF6692\",\"#B6E880\",\"#FF97FF\",\"#FECB52\"],\"font\":{\"color\":\"#2a3f5f\"},\"hovermode\":\"closest\",\"hoverlabel\":{\"align\":\"left\"},\"paper_bgcolor\":\"white\",\"plot_bgcolor\":\"#E5ECF6\",\"polar\":{\"bgcolor\":\"#E5ECF6\",\"angularaxis\":{\"gridcolor\":\"white\",\"linecolor\":\"white\",\"ticks\":\"\"},\"radialaxis\":{\"gridcolor\":\"white\",\"linecolor\":\"white\",\"ticks\":\"\"}},\"ternary\":{\"bgcolor\":\"#E5ECF6\",\"aaxis\":{\"gridcolor\":\"white\",\"linecolor\":\"white\",\"ticks\":\"\"},\"baxis\":{\"gridcolor\":\"white\",\"linecolor\":\"white\",\"ticks\":\"\"},\"caxis\":{\"gridcolor\":\"white\",\"linecolor\":\"white\",\"ticks\":\"\"}},\"coloraxis\":{\"colorbar\":{\"outlinewidth\":0,\"ticks\":\"\"}},\"colorscale\":{\"sequential\":[[0.0,\"#0d0887\"],[0.1111111111111111,\"#46039f\"],[0.2222222222222222,\"#7201a8\"],[0.3333333333333333,\"#9c179e\"],[0.4444444444444444,\"#bd3786\"],[0.5555555555555556,\"#d8576b\"],[0.6666666666666666,\"#ed7953\"],[0.7777777777777778,\"#fb9f3a\"],[0.8888888888888888,\"#fdca26\"],[1.0,\"#f0f921\"]],\"sequentialminus\":[[0.0,\"#0d0887\"],[0.1111111111111111,\"#46039f\"],[0.2222222222222222,\"#7201a8\"],[0.3333333333333333,\"#9c179e\"],[0.4444444444444444,\"#bd3786\"],[0.5555555555555556,\"#d8576b\"],[0.6666666666666666,\"#ed7953\"],[0.7777777777777778,\"#fb9f3a\"],[0.8888888888888888,\"#fdca26\"],[1.0,\"#f0f921\"]],\"diverging\":[[0,\"#8e0152\"],[0.1,\"#c51b7d\"],[0.2,\"#de77ae\"],[0.3,\"#f1b6da\"],[0.4,\"#fde0ef\"],[0.5,\"#f7f7f7\"],[0.6,\"#e6f5d0\"],[0.7,\"#b8e186\"],[0.8,\"#7fbc41\"],[0.9,\"#4d9221\"],[1,\"#276419\"]]},\"xaxis\":{\"gridcolor\":\"white\",\"linecolor\":\"white\",\"ticks\":\"\",\"title\":{\"standoff\":15},\"zerolinecolor\":\"white\",\"automargin\":true,\"zerolinewidth\":2},\"yaxis\":{\"gridcolor\":\"white\",\"linecolor\":\"white\",\"ticks\":\"\",\"title\":{\"standoff\":15},\"zerolinecolor\":\"white\",\"automargin\":true,\"zerolinewidth\":2},\"scene\":{\"xaxis\":{\"backgroundcolor\":\"#E5ECF6\",\"gridcolor\":\"white\",\"linecolor\":\"white\",\"showbackground\":true,\"ticks\":\"\",\"zerolinecolor\":\"white\",\"gridwidth\":2},\"yaxis\":{\"backgroundcolor\":\"#E5ECF6\",\"gridcolor\":\"white\",\"linecolor\":\"white\",\"showbackground\":true,\"ticks\":\"\",\"zerolinecolor\":\"white\",\"gridwidth\":2},\"zaxis\":{\"backgroundcolor\":\"#E5ECF6\",\"gridcolor\":\"white\",\"linecolor\":\"white\",\"showbackground\":true,\"ticks\":\"\",\"zerolinecolor\":\"white\",\"gridwidth\":2}},\"shapedefaults\":{\"line\":{\"color\":\"#2a3f5f\"}},\"annotationdefaults\":{\"arrowcolor\":\"#2a3f5f\",\"arrowhead\":0,\"arrowwidth\":1},\"geo\":{\"bgcolor\":\"white\",\"landcolor\":\"#E5ECF6\",\"subunitcolor\":\"white\",\"showland\":true,\"showlakes\":true,\"lakecolor\":\"white\"},\"title\":{\"x\":0.05},\"mapbox\":{\"style\":\"light\"}}}},                        {\"responsive\": true}                    ).then(function(){\n",
       "                            \n",
       "var gd = document.getElementById('e0d71d88-6668-4021-9c64-ae0af560f4dc');\n",
       "var x = new MutationObserver(function (mutations, observer) {{\n",
       "        var display = window.getComputedStyle(gd).display;\n",
       "        if (!display || display === 'none') {{\n",
       "            console.log([gd, 'removed!']);\n",
       "            Plotly.purge(gd);\n",
       "            observer.disconnect();\n",
       "        }}\n",
       "}});\n",
       "\n",
       "// Listen for the removal of the full notebook cells\n",
       "var notebookContainer = gd.closest('#notebook-container');\n",
       "if (notebookContainer) {{\n",
       "    x.observe(notebookContainer, {childList: true});\n",
       "}}\n",
       "\n",
       "// Listen for the clearing of the current output cell\n",
       "var outputEl = gd.closest('.output');\n",
       "if (outputEl) {{\n",
       "    x.observe(outputEl, {childList: true});\n",
       "}}\n",
       "\n",
       "                        })                };                });            </script>        </div>"
      ]
     },
     "metadata": {},
     "output_type": "display_data"
    }
   ],
   "source": [
    "mydict = {\n",
    "  'Compounded Sales Growth' : ['10 Years', '5 Years', '3 Years', 'TTM', '10 Years', '5 Years', '3 Years', 'TTM'],\n",
    "  'Stockname' : ['Stock-1','Stock-1','Stock-1','Stock-1','Stock-2','Stock-2','Stock-2','Stock-2'],\n",
    "  'Compounded Sales Growth.1' : [1, 4, 12, 5, 7, 5, 24, 13]\n",
    "}\n",
    "\n",
    "df = pd.DataFrame(mydict)\n",
    "\n",
    "fig = go.Figure()\n",
    "\n",
    "# List of quarters\n",
    "x = df['Compounded Sales Growth'].unique()\n",
    "\n",
    "# Add traces for each metric\n",
    "for result in df['Compounded Sales Growth'].unique():\n",
    "    for stock in df['Stockname'].unique():\n",
    "        fig.add_trace(go.Bar(\n",
    "            x=x,\n",
    "            y=df[ (df['Stockname'] == stock) & (df['Compounded Sales Growth'] == result) ].iloc[0,:],\n",
    "            name=f'{stock}'\n",
    "        ))\n",
    "\n",
    "fig.update_layout()\n",
    "fig.show()"
   ]
  },
  {
   "cell_type": "code",
   "execution_count": null,
   "id": "17652e71-6bbd-4709-8029-06d59cf49ceb",
   "metadata": {},
   "outputs": [],
   "source": []
  }
 ],
 "metadata": {
  "kernelspec": {
   "display_name": "Python 3 (ipykernel)",
   "language": "python",
   "name": "python3"
  },
  "language_info": {
   "codemirror_mode": {
    "name": "ipython",
    "version": 3
   },
   "file_extension": ".py",
   "mimetype": "text/x-python",
   "name": "python",
   "nbconvert_exporter": "python",
   "pygments_lexer": "ipython3",
   "version": "3.11.4"
  }
 },
 "nbformat": 4,
 "nbformat_minor": 5
}
