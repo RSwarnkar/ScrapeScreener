{
 "cells": [
  {
   "cell_type": "code",
   "execution_count": 1,
   "id": "48e38a9c-4ec5-4a42-986b-c16e1991e612",
   "metadata": {},
   "outputs": [],
   "source": [
    "import pandas as pd\n",
    "import numpy as np\n",
    "from bs4 import BeautifulSoup\n",
    "import requests as rq\n",
    "import re\n",
    "import datetime\n",
    "import os\n",
    "import time\n",
    "\n",
    "import plotly.offline as pyo \n",
    "import plotly.graph_objects as go\n",
    "from plotly.subplots import make_subplots"
   ]
  },
  {
   "cell_type": "code",
   "execution_count": 2,
   "id": "66631e22-bc2b-46eb-a6a0-7fc912d65224",
   "metadata": {},
   "outputs": [],
   "source": [
    "stock_excel_filepath = '../Output/RawReports-05-ScrapeSummerizeStockSet/SummaryReport-20240906-081114.xlsx'\n",
    "stock_excel_filepath = '../Output/RawReports-05-ScrapeSummerizeStockSet/SummaryReport-20240906-084343.xlsx'\n",
    "stock_excel_filepath = '../Output/RawReports-05-ScrapeSummerizeStockSet/SummaryReport-20240906-084944.xlsx'"
   ]
  },
  {
   "cell_type": "code",
   "execution_count": 3,
   "id": "b1c1353e-355b-4d2e-8262-6e3ee5f8cf03",
   "metadata": {},
   "outputs": [],
   "source": [
    "xls = pd.ExcelFile(stock_excel_filepath)\n",
    "\n",
    "df_basic_info               = pd.read_excel(xls, \"Basic Info\") # Top Ratios\n",
    "df_top_ratios               = pd.read_excel(xls, \"Top Ratios\") # Top Ratios\n",
    "df_quaterly_results         = pd.read_excel(xls, \"Quarterly Results\") # Quarterly Results\n",
    "df_profit_n_loss            = pd.read_excel(xls, \"Profit & Loss\") # Profit & Loss\n",
    "df_compounded_sales_growth  = pd.read_excel(xls, \"Compounded Sales Growth\") # Compounded Sales Growth\n",
    "df_compounded_profit_growth = pd.read_excel(xls, \"Compounded Profit Growth\") # Compounded Profit Growth\n",
    "df_stock_price_cagr         = pd.read_excel(xls, \"Stock Price CAGR\") # Stock Price CAGR\n",
    "df_return_on_equity         = pd.read_excel(xls, \"Return on Equity\") # Return on Equity\n",
    "df_balance_sheet            = pd.read_excel(xls, \"Balance Sheet\") # Balance Sheet\n",
    "df_cash_flows               = pd.read_excel(xls, \"Cash Flows\") # Cash Flows\n",
    "df_ratios                   = pd.read_excel(xls, \"Ratios\") # Ratios\n",
    "df_shareholding_pattern     = pd.read_excel(xls, \"Shareholding Pattern\") # Shareholding Pattern"
   ]
  },
  {
   "cell_type": "code",
   "execution_count": 17,
   "id": "73e18840-2c6d-4dea-a594-59ad15fc00c5",
   "metadata": {
    "scrolled": true
   },
   "outputs": [
    {
     "data": {
      "text/html": [
       "<div>\n",
       "<style scoped>\n",
       "    .dataframe tbody tr th:only-of-type {\n",
       "        vertical-align: middle;\n",
       "    }\n",
       "\n",
       "    .dataframe tbody tr th {\n",
       "        vertical-align: top;\n",
       "    }\n",
       "\n",
       "    .dataframe thead th {\n",
       "        text-align: right;\n",
       "    }\n",
       "</style>\n",
       "<table border=\"1\" class=\"dataframe\">\n",
       "  <thead>\n",
       "    <tr style=\"text-align: right;\">\n",
       "      <th></th>\n",
       "      <th>Profit and Loss</th>\n",
       "      <th>Stockname</th>\n",
       "      <th>Mar 2013</th>\n",
       "      <th>Mar 2014</th>\n",
       "      <th>Mar 2015</th>\n",
       "      <th>Mar 2016</th>\n",
       "      <th>Mar 2017</th>\n",
       "      <th>Mar 2018</th>\n",
       "      <th>Mar 2019</th>\n",
       "      <th>Mar 2020</th>\n",
       "      <th>Mar 2021</th>\n",
       "      <th>Mar 2022</th>\n",
       "      <th>Mar 2023</th>\n",
       "      <th>Mar 2024</th>\n",
       "      <th>TTM</th>\n",
       "    </tr>\n",
       "  </thead>\n",
       "  <tbody>\n",
       "    <tr>\n",
       "      <th>0</th>\n",
       "      <td>Revenue</td>\n",
       "      <td>HDFCBANK</td>\n",
       "      <td>35065.00</td>\n",
       "      <td>41136.00</td>\n",
       "      <td>48470.00</td>\n",
       "      <td>60221.00</td>\n",
       "      <td>69306.00</td>\n",
       "      <td>80241.00</td>\n",
       "      <td>98972.00</td>\n",
       "      <td>114813.0</td>\n",
       "      <td>120858.00</td>\n",
       "      <td>127753.00</td>\n",
       "      <td>161586.00</td>\n",
       "      <td>258341.00</td>\n",
       "      <td>282787.00</td>\n",
       "    </tr>\n",
       "    <tr>\n",
       "      <th>1</th>\n",
       "      <td>Interest</td>\n",
       "      <td>HDFCBANK</td>\n",
       "      <td>19254.00</td>\n",
       "      <td>22653.00</td>\n",
       "      <td>26074.00</td>\n",
       "      <td>32630.00</td>\n",
       "      <td>36167.00</td>\n",
       "      <td>40146.00</td>\n",
       "      <td>50729.00</td>\n",
       "      <td>58626.0</td>\n",
       "      <td>55979.00</td>\n",
       "      <td>55744.00</td>\n",
       "      <td>74743.00</td>\n",
       "      <td>149808.00</td>\n",
       "      <td>168016.00</td>\n",
       "    </tr>\n",
       "    <tr>\n",
       "      <th>2</th>\n",
       "      <td>Expenses</td>\n",
       "      <td>HDFCBANK</td>\n",
       "      <td>12261.00</td>\n",
       "      <td>12959.00</td>\n",
       "      <td>15407.00</td>\n",
       "      <td>18999.00</td>\n",
       "      <td>22464.00</td>\n",
       "      <td>27712.00</td>\n",
       "      <td>32529.00</td>\n",
       "      <td>41644.0</td>\n",
       "      <td>47123.00</td>\n",
       "      <td>50904.00</td>\n",
       "      <td>57329.00</td>\n",
       "      <td>84068.00</td>\n",
       "      <td>89184.00</td>\n",
       "    </tr>\n",
       "    <tr>\n",
       "      <th>3</th>\n",
       "      <td>Financing Profit</td>\n",
       "      <td>HDFCBANK</td>\n",
       "      <td>3550.00</td>\n",
       "      <td>5524.00</td>\n",
       "      <td>6989.00</td>\n",
       "      <td>8592.00</td>\n",
       "      <td>10676.00</td>\n",
       "      <td>12383.00</td>\n",
       "      <td>15714.00</td>\n",
       "      <td>14542.0</td>\n",
       "      <td>17757.00</td>\n",
       "      <td>21105.00</td>\n",
       "      <td>29513.00</td>\n",
       "      <td>24464.00</td>\n",
       "      <td>25587.00</td>\n",
       "    </tr>\n",
       "    <tr>\n",
       "      <th>4</th>\n",
       "      <td>Financing Margin %</td>\n",
       "      <td>HDFCBANK</td>\n",
       "      <td>10.00</td>\n",
       "      <td>13.00</td>\n",
       "      <td>14.00</td>\n",
       "      <td>14.00</td>\n",
       "      <td>15.00</td>\n",
       "      <td>15.00</td>\n",
       "      <td>16.00</td>\n",
       "      <td>13.0</td>\n",
       "      <td>15.00</td>\n",
       "      <td>17.00</td>\n",
       "      <td>18.00</td>\n",
       "      <td>9.00</td>\n",
       "      <td>9.00</td>\n",
       "    </tr>\n",
       "    <tr>\n",
       "      <th>...</th>\n",
       "      <td>...</td>\n",
       "      <td>...</td>\n",
       "      <td>...</td>\n",
       "      <td>...</td>\n",
       "      <td>...</td>\n",
       "      <td>...</td>\n",
       "      <td>...</td>\n",
       "      <td>...</td>\n",
       "      <td>...</td>\n",
       "      <td>...</td>\n",
       "      <td>...</td>\n",
       "      <td>...</td>\n",
       "      <td>...</td>\n",
       "      <td>...</td>\n",
       "      <td>...</td>\n",
       "    </tr>\n",
       "    <tr>\n",
       "      <th>91</th>\n",
       "      <td>Profit before tax</td>\n",
       "      <td>PNB</td>\n",
       "      <td>6522.00</td>\n",
       "      <td>4691.00</td>\n",
       "      <td>3957.00</td>\n",
       "      <td>-5738.00</td>\n",
       "      <td>2012.00</td>\n",
       "      <td>-19575.00</td>\n",
       "      <td>-15346.00</td>\n",
       "      <td>739.0</td>\n",
       "      <td>3479.00</td>\n",
       "      <td>4316.00</td>\n",
       "      <td>4288.00</td>\n",
       "      <td>13194.00</td>\n",
       "      <td>16460.00</td>\n",
       "    </tr>\n",
       "    <tr>\n",
       "      <th>92</th>\n",
       "      <td>Tax %</td>\n",
       "      <td>PNB</td>\n",
       "      <td>27.00</td>\n",
       "      <td>29.00</td>\n",
       "      <td>23.00</td>\n",
       "      <td>-31.00</td>\n",
       "      <td>34.00</td>\n",
       "      <td>-37.00</td>\n",
       "      <td>-35.00</td>\n",
       "      <td>55.0</td>\n",
       "      <td>42.00</td>\n",
       "      <td>20.00</td>\n",
       "      <td>42.00</td>\n",
       "      <td>38.00</td>\n",
       "      <td>NaN</td>\n",
       "    </tr>\n",
       "    <tr>\n",
       "      <th>93</th>\n",
       "      <td>Net Profit</td>\n",
       "      <td>PNB</td>\n",
       "      <td>4748.00</td>\n",
       "      <td>3343.00</td>\n",
       "      <td>3062.00</td>\n",
       "      <td>-3974.00</td>\n",
       "      <td>1325.00</td>\n",
       "      <td>-12283.00</td>\n",
       "      <td>-9975.00</td>\n",
       "      <td>336.0</td>\n",
       "      <td>2022.00</td>\n",
       "      <td>3457.00</td>\n",
       "      <td>2507.00</td>\n",
       "      <td>8245.00</td>\n",
       "      <td>10241.00</td>\n",
       "    </tr>\n",
       "    <tr>\n",
       "      <th>94</th>\n",
       "      <td>EPS in Rs</td>\n",
       "      <td>PNB</td>\n",
       "      <td>26.86</td>\n",
       "      <td>18.46</td>\n",
       "      <td>16.51</td>\n",
       "      <td>-20.24</td>\n",
       "      <td>6.23</td>\n",
       "      <td>-44.49</td>\n",
       "      <td>-21.67</td>\n",
       "      <td>0.5</td>\n",
       "      <td>1.93</td>\n",
       "      <td>3.14</td>\n",
       "      <td>2.28</td>\n",
       "      <td>7.49</td>\n",
       "      <td>9.29</td>\n",
       "    </tr>\n",
       "    <tr>\n",
       "      <th>95</th>\n",
       "      <td>Dividend Payout %</td>\n",
       "      <td>PNB</td>\n",
       "      <td>20.00</td>\n",
       "      <td>11.00</td>\n",
       "      <td>20.00</td>\n",
       "      <td>0.00</td>\n",
       "      <td>0.00</td>\n",
       "      <td>0.00</td>\n",
       "      <td>0.00</td>\n",
       "      <td>0.0</td>\n",
       "      <td>0.00</td>\n",
       "      <td>20.00</td>\n",
       "      <td>29.00</td>\n",
       "      <td>20.00</td>\n",
       "      <td>NaN</td>\n",
       "    </tr>\n",
       "  </tbody>\n",
       "</table>\n",
       "<p>96 rows × 15 columns</p>\n",
       "</div>"
      ],
      "text/plain": [
       "       Profit and Loss Stockname  Mar 2013  Mar 2014  Mar 2015  Mar 2016  \\\n",
       "0              Revenue  HDFCBANK  35065.00  41136.00  48470.00  60221.00   \n",
       "1             Interest  HDFCBANK  19254.00  22653.00  26074.00  32630.00   \n",
       "2             Expenses  HDFCBANK  12261.00  12959.00  15407.00  18999.00   \n",
       "3     Financing Profit  HDFCBANK   3550.00   5524.00   6989.00   8592.00   \n",
       "4   Financing Margin %  HDFCBANK     10.00     13.00     14.00     14.00   \n",
       "..                 ...       ...       ...       ...       ...       ...   \n",
       "91   Profit before tax       PNB   6522.00   4691.00   3957.00  -5738.00   \n",
       "92               Tax %       PNB     27.00     29.00     23.00    -31.00   \n",
       "93          Net Profit       PNB   4748.00   3343.00   3062.00  -3974.00   \n",
       "94           EPS in Rs       PNB     26.86     18.46     16.51    -20.24   \n",
       "95   Dividend Payout %       PNB     20.00     11.00     20.00      0.00   \n",
       "\n",
       "    Mar 2017  Mar 2018  Mar 2019  Mar 2020   Mar 2021   Mar 2022   Mar 2023  \\\n",
       "0   69306.00  80241.00  98972.00  114813.0  120858.00  127753.00  161586.00   \n",
       "1   36167.00  40146.00  50729.00   58626.0   55979.00   55744.00   74743.00   \n",
       "2   22464.00  27712.00  32529.00   41644.0   47123.00   50904.00   57329.00   \n",
       "3   10676.00  12383.00  15714.00   14542.0   17757.00   21105.00   29513.00   \n",
       "4      15.00     15.00     16.00      13.0      15.00      17.00      18.00   \n",
       "..       ...       ...       ...       ...        ...        ...        ...   \n",
       "91   2012.00 -19575.00 -15346.00     739.0    3479.00    4316.00    4288.00   \n",
       "92     34.00    -37.00    -35.00      55.0      42.00      20.00      42.00   \n",
       "93   1325.00 -12283.00  -9975.00     336.0    2022.00    3457.00    2507.00   \n",
       "94      6.23    -44.49    -21.67       0.5       1.93       3.14       2.28   \n",
       "95      0.00      0.00      0.00       0.0       0.00      20.00      29.00   \n",
       "\n",
       "     Mar 2024        TTM  \n",
       "0   258341.00  282787.00  \n",
       "1   149808.00  168016.00  \n",
       "2    84068.00   89184.00  \n",
       "3    24464.00   25587.00  \n",
       "4        9.00       9.00  \n",
       "..        ...        ...  \n",
       "91   13194.00   16460.00  \n",
       "92      38.00        NaN  \n",
       "93    8245.00   10241.00  \n",
       "94       7.49       9.29  \n",
       "95      20.00        NaN  \n",
       "\n",
       "[96 rows x 15 columns]"
      ]
     },
     "execution_count": 17,
     "metadata": {},
     "output_type": "execute_result"
    }
   ],
   "source": [
    "df_profit_n_loss"
   ]
  },
  {
   "cell_type": "code",
   "execution_count": 16,
   "id": "6a0b0ae8-5bb6-43bc-b0ed-c47eec6c0251",
   "metadata": {},
   "outputs": [
    {
     "data": {
      "application/vnd.plotly.v1+json": {
       "config": {
        "plotlyServerURL": "https://plot.ly"
       },
       "data": [
        {
         "marker": {
          "color": "#0057e5"
         },
         "name": "Market Cap in Cores Rupees",
         "type": "bar",
         "x": [
          "HDFCBANK",
          "ICICIBANK",
          "KOTAKBANK",
          "AXISBANK",
          "INDUSINDBK",
          "SBIN",
          "BANKBARODA",
          "PNB"
         ],
         "xaxis": "x",
         "y": [
          1254384,
          870575,
          353478,
          365055,
          110833,
          730703,
          126104,
          124865
         ],
         "yaxis": "y"
        },
        {
         "marker": {
          "color": "#de324c"
         },
         "name": "PE Ratio",
         "type": "bar",
         "x": [
          "HDFCBANK",
          "ICICIBANK",
          "KOTAKBANK",
          "AXISBANK",
          "INDUSINDBK",
          "SBIN",
          "BANKBARODA",
          "PNB"
         ],
         "xaxis": "x2",
         "y": [
          19.3,
          20.6,
          25.4,
          14.5,
          12.3,
          11,
          6.94,
          12.2
         ],
         "yaxis": "y2"
        },
        {
         "marker": {
          "color": "#9656a2"
         },
         "name": "Book Value in Rupees",
         "type": "bar",
         "x": [
          "HDFCBANK",
          "ICICIBANK",
          "KOTAKBANK",
          "AXISBANK",
          "INDUSINDBK",
          "SBIN",
          "BANKBARODA",
          "PNB"
         ],
         "xaxis": "x3",
         "y": [
          580,
          339,
          487,
          489,
          807,
          423,
          217,
          96.7
         ],
         "yaxis": "y3"
        },
        {
         "marker": {
          "color": "#009688"
         },
         "name": "Dividend Yield %",
         "type": "bar",
         "x": [
          "HDFCBANK",
          "ICICIBANK",
          "KOTAKBANK",
          "AXISBANK",
          "INDUSINDBK",
          "SBIN",
          "BANKBARODA",
          "PNB"
         ],
         "xaxis": "x4",
         "y": [
          1.19,
          0.81,
          0.11,
          0.08,
          1.16,
          1.67,
          3.12,
          1.32
         ],
         "yaxis": "y4"
        },
        {
         "marker": {
          "color": "#369acc"
         },
         "name": "ROCE %",
         "type": "bar",
         "x": [
          "HDFCBANK",
          "ICICIBANK",
          "KOTAKBANK",
          "AXISBANK",
          "INDUSINDBK",
          "SBIN",
          "BANKBARODA",
          "PNB"
         ],
         "xaxis": "x5",
         "y": [
          7.54,
          7.51,
          7.24,
          6.92,
          7.93,
          6.05,
          6.32,
          5.41
         ],
         "yaxis": "y5"
        },
        {
         "marker": {
          "color": "#8bc34a"
         },
         "name": "ROE %",
         "type": "bar",
         "x": [
          "HDFCBANK",
          "ICICIBANK",
          "KOTAKBANK",
          "AXISBANK",
          "INDUSINDBK",
          "SBIN",
          "BANKBARODA",
          "PNB"
         ],
         "xaxis": "x6",
         "y": [
          16.9,
          18.6,
          15.3,
          18,
          15.2,
          17.3,
          16.9,
          7.99
         ],
         "yaxis": "y6"
        }
       ],
       "layout": {
        "annotations": [
         {
          "font": {
           "size": 16
          },
          "showarrow": false,
          "text": "Market Cap in Cores Rupees",
          "x": 0.14444444444444446,
          "xanchor": "center",
          "xref": "paper",
          "y": 1,
          "yanchor": "bottom",
          "yref": "paper"
         },
         {
          "font": {
           "size": 16
          },
          "showarrow": false,
          "text": "Stock PE",
          "x": 0.5,
          "xanchor": "center",
          "xref": "paper",
          "y": 1,
          "yanchor": "bottom",
          "yref": "paper"
         },
         {
          "font": {
           "size": 16
          },
          "showarrow": false,
          "text": "Book Value in Rupees",
          "x": 0.8555555555555556,
          "xanchor": "center",
          "xref": "paper",
          "y": 1,
          "yanchor": "bottom",
          "yref": "paper"
         },
         {
          "font": {
           "size": 16
          },
          "showarrow": false,
          "text": "Dividend Yield %",
          "x": 0.14444444444444446,
          "xanchor": "center",
          "xref": "paper",
          "y": 0.375,
          "yanchor": "bottom",
          "yref": "paper"
         },
         {
          "font": {
           "size": 16
          },
          "showarrow": false,
          "text": "ROCE %",
          "x": 0.5,
          "xanchor": "center",
          "xref": "paper",
          "y": 0.375,
          "yanchor": "bottom",
          "yref": "paper"
         },
         {
          "font": {
           "size": 16
          },
          "showarrow": false,
          "text": "ROE %",
          "x": 0.8555555555555556,
          "xanchor": "center",
          "xref": "paper",
          "y": 0.375,
          "yanchor": "bottom",
          "yref": "paper"
         }
        ],
        "autosize": true,
        "template": {
         "data": {
          "bar": [
           {
            "error_x": {
             "color": "#2a3f5f"
            },
            "error_y": {
             "color": "#2a3f5f"
            },
            "marker": {
             "line": {
              "color": "#E5ECF6",
              "width": 0.5
             },
             "pattern": {
              "fillmode": "overlay",
              "size": 10,
              "solidity": 0.2
             }
            },
            "type": "bar"
           }
          ],
          "barpolar": [
           {
            "marker": {
             "line": {
              "color": "#E5ECF6",
              "width": 0.5
             },
             "pattern": {
              "fillmode": "overlay",
              "size": 10,
              "solidity": 0.2
             }
            },
            "type": "barpolar"
           }
          ],
          "carpet": [
           {
            "aaxis": {
             "endlinecolor": "#2a3f5f",
             "gridcolor": "white",
             "linecolor": "white",
             "minorgridcolor": "white",
             "startlinecolor": "#2a3f5f"
            },
            "baxis": {
             "endlinecolor": "#2a3f5f",
             "gridcolor": "white",
             "linecolor": "white",
             "minorgridcolor": "white",
             "startlinecolor": "#2a3f5f"
            },
            "type": "carpet"
           }
          ],
          "choropleth": [
           {
            "colorbar": {
             "outlinewidth": 0,
             "ticks": ""
            },
            "type": "choropleth"
           }
          ],
          "contour": [
           {
            "colorbar": {
             "outlinewidth": 0,
             "ticks": ""
            },
            "colorscale": [
             [
              0,
              "#0d0887"
             ],
             [
              0.1111111111111111,
              "#46039f"
             ],
             [
              0.2222222222222222,
              "#7201a8"
             ],
             [
              0.3333333333333333,
              "#9c179e"
             ],
             [
              0.4444444444444444,
              "#bd3786"
             ],
             [
              0.5555555555555556,
              "#d8576b"
             ],
             [
              0.6666666666666666,
              "#ed7953"
             ],
             [
              0.7777777777777778,
              "#fb9f3a"
             ],
             [
              0.8888888888888888,
              "#fdca26"
             ],
             [
              1,
              "#f0f921"
             ]
            ],
            "type": "contour"
           }
          ],
          "contourcarpet": [
           {
            "colorbar": {
             "outlinewidth": 0,
             "ticks": ""
            },
            "type": "contourcarpet"
           }
          ],
          "heatmap": [
           {
            "colorbar": {
             "outlinewidth": 0,
             "ticks": ""
            },
            "colorscale": [
             [
              0,
              "#0d0887"
             ],
             [
              0.1111111111111111,
              "#46039f"
             ],
             [
              0.2222222222222222,
              "#7201a8"
             ],
             [
              0.3333333333333333,
              "#9c179e"
             ],
             [
              0.4444444444444444,
              "#bd3786"
             ],
             [
              0.5555555555555556,
              "#d8576b"
             ],
             [
              0.6666666666666666,
              "#ed7953"
             ],
             [
              0.7777777777777778,
              "#fb9f3a"
             ],
             [
              0.8888888888888888,
              "#fdca26"
             ],
             [
              1,
              "#f0f921"
             ]
            ],
            "type": "heatmap"
           }
          ],
          "heatmapgl": [
           {
            "colorbar": {
             "outlinewidth": 0,
             "ticks": ""
            },
            "colorscale": [
             [
              0,
              "#0d0887"
             ],
             [
              0.1111111111111111,
              "#46039f"
             ],
             [
              0.2222222222222222,
              "#7201a8"
             ],
             [
              0.3333333333333333,
              "#9c179e"
             ],
             [
              0.4444444444444444,
              "#bd3786"
             ],
             [
              0.5555555555555556,
              "#d8576b"
             ],
             [
              0.6666666666666666,
              "#ed7953"
             ],
             [
              0.7777777777777778,
              "#fb9f3a"
             ],
             [
              0.8888888888888888,
              "#fdca26"
             ],
             [
              1,
              "#f0f921"
             ]
            ],
            "type": "heatmapgl"
           }
          ],
          "histogram": [
           {
            "marker": {
             "pattern": {
              "fillmode": "overlay",
              "size": 10,
              "solidity": 0.2
             }
            },
            "type": "histogram"
           }
          ],
          "histogram2d": [
           {
            "colorbar": {
             "outlinewidth": 0,
             "ticks": ""
            },
            "colorscale": [
             [
              0,
              "#0d0887"
             ],
             [
              0.1111111111111111,
              "#46039f"
             ],
             [
              0.2222222222222222,
              "#7201a8"
             ],
             [
              0.3333333333333333,
              "#9c179e"
             ],
             [
              0.4444444444444444,
              "#bd3786"
             ],
             [
              0.5555555555555556,
              "#d8576b"
             ],
             [
              0.6666666666666666,
              "#ed7953"
             ],
             [
              0.7777777777777778,
              "#fb9f3a"
             ],
             [
              0.8888888888888888,
              "#fdca26"
             ],
             [
              1,
              "#f0f921"
             ]
            ],
            "type": "histogram2d"
           }
          ],
          "histogram2dcontour": [
           {
            "colorbar": {
             "outlinewidth": 0,
             "ticks": ""
            },
            "colorscale": [
             [
              0,
              "#0d0887"
             ],
             [
              0.1111111111111111,
              "#46039f"
             ],
             [
              0.2222222222222222,
              "#7201a8"
             ],
             [
              0.3333333333333333,
              "#9c179e"
             ],
             [
              0.4444444444444444,
              "#bd3786"
             ],
             [
              0.5555555555555556,
              "#d8576b"
             ],
             [
              0.6666666666666666,
              "#ed7953"
             ],
             [
              0.7777777777777778,
              "#fb9f3a"
             ],
             [
              0.8888888888888888,
              "#fdca26"
             ],
             [
              1,
              "#f0f921"
             ]
            ],
            "type": "histogram2dcontour"
           }
          ],
          "mesh3d": [
           {
            "colorbar": {
             "outlinewidth": 0,
             "ticks": ""
            },
            "type": "mesh3d"
           }
          ],
          "parcoords": [
           {
            "line": {
             "colorbar": {
              "outlinewidth": 0,
              "ticks": ""
             }
            },
            "type": "parcoords"
           }
          ],
          "pie": [
           {
            "automargin": true,
            "type": "pie"
           }
          ],
          "scatter": [
           {
            "fillpattern": {
             "fillmode": "overlay",
             "size": 10,
             "solidity": 0.2
            },
            "type": "scatter"
           }
          ],
          "scatter3d": [
           {
            "line": {
             "colorbar": {
              "outlinewidth": 0,
              "ticks": ""
             }
            },
            "marker": {
             "colorbar": {
              "outlinewidth": 0,
              "ticks": ""
             }
            },
            "type": "scatter3d"
           }
          ],
          "scattercarpet": [
           {
            "marker": {
             "colorbar": {
              "outlinewidth": 0,
              "ticks": ""
             }
            },
            "type": "scattercarpet"
           }
          ],
          "scattergeo": [
           {
            "marker": {
             "colorbar": {
              "outlinewidth": 0,
              "ticks": ""
             }
            },
            "type": "scattergeo"
           }
          ],
          "scattergl": [
           {
            "marker": {
             "colorbar": {
              "outlinewidth": 0,
              "ticks": ""
             }
            },
            "type": "scattergl"
           }
          ],
          "scattermapbox": [
           {
            "marker": {
             "colorbar": {
              "outlinewidth": 0,
              "ticks": ""
             }
            },
            "type": "scattermapbox"
           }
          ],
          "scatterpolar": [
           {
            "marker": {
             "colorbar": {
              "outlinewidth": 0,
              "ticks": ""
             }
            },
            "type": "scatterpolar"
           }
          ],
          "scatterpolargl": [
           {
            "marker": {
             "colorbar": {
              "outlinewidth": 0,
              "ticks": ""
             }
            },
            "type": "scatterpolargl"
           }
          ],
          "scatterternary": [
           {
            "marker": {
             "colorbar": {
              "outlinewidth": 0,
              "ticks": ""
             }
            },
            "type": "scatterternary"
           }
          ],
          "surface": [
           {
            "colorbar": {
             "outlinewidth": 0,
             "ticks": ""
            },
            "colorscale": [
             [
              0,
              "#0d0887"
             ],
             [
              0.1111111111111111,
              "#46039f"
             ],
             [
              0.2222222222222222,
              "#7201a8"
             ],
             [
              0.3333333333333333,
              "#9c179e"
             ],
             [
              0.4444444444444444,
              "#bd3786"
             ],
             [
              0.5555555555555556,
              "#d8576b"
             ],
             [
              0.6666666666666666,
              "#ed7953"
             ],
             [
              0.7777777777777778,
              "#fb9f3a"
             ],
             [
              0.8888888888888888,
              "#fdca26"
             ],
             [
              1,
              "#f0f921"
             ]
            ],
            "type": "surface"
           }
          ],
          "table": [
           {
            "cells": {
             "fill": {
              "color": "#EBF0F8"
             },
             "line": {
              "color": "white"
             }
            },
            "header": {
             "fill": {
              "color": "#C8D4E3"
             },
             "line": {
              "color": "white"
             }
            },
            "type": "table"
           }
          ]
         },
         "layout": {
          "annotationdefaults": {
           "arrowcolor": "#2a3f5f",
           "arrowhead": 0,
           "arrowwidth": 1
          },
          "autotypenumbers": "strict",
          "coloraxis": {
           "colorbar": {
            "outlinewidth": 0,
            "ticks": ""
           }
          },
          "colorscale": {
           "diverging": [
            [
             0,
             "#8e0152"
            ],
            [
             0.1,
             "#c51b7d"
            ],
            [
             0.2,
             "#de77ae"
            ],
            [
             0.3,
             "#f1b6da"
            ],
            [
             0.4,
             "#fde0ef"
            ],
            [
             0.5,
             "#f7f7f7"
            ],
            [
             0.6,
             "#e6f5d0"
            ],
            [
             0.7,
             "#b8e186"
            ],
            [
             0.8,
             "#7fbc41"
            ],
            [
             0.9,
             "#4d9221"
            ],
            [
             1,
             "#276419"
            ]
           ],
           "sequential": [
            [
             0,
             "#0d0887"
            ],
            [
             0.1111111111111111,
             "#46039f"
            ],
            [
             0.2222222222222222,
             "#7201a8"
            ],
            [
             0.3333333333333333,
             "#9c179e"
            ],
            [
             0.4444444444444444,
             "#bd3786"
            ],
            [
             0.5555555555555556,
             "#d8576b"
            ],
            [
             0.6666666666666666,
             "#ed7953"
            ],
            [
             0.7777777777777778,
             "#fb9f3a"
            ],
            [
             0.8888888888888888,
             "#fdca26"
            ],
            [
             1,
             "#f0f921"
            ]
           ],
           "sequentialminus": [
            [
             0,
             "#0d0887"
            ],
            [
             0.1111111111111111,
             "#46039f"
            ],
            [
             0.2222222222222222,
             "#7201a8"
            ],
            [
             0.3333333333333333,
             "#9c179e"
            ],
            [
             0.4444444444444444,
             "#bd3786"
            ],
            [
             0.5555555555555556,
             "#d8576b"
            ],
            [
             0.6666666666666666,
             "#ed7953"
            ],
            [
             0.7777777777777778,
             "#fb9f3a"
            ],
            [
             0.8888888888888888,
             "#fdca26"
            ],
            [
             1,
             "#f0f921"
            ]
           ]
          },
          "colorway": [
           "#636efa",
           "#EF553B",
           "#00cc96",
           "#ab63fa",
           "#FFA15A",
           "#19d3f3",
           "#FF6692",
           "#B6E880",
           "#FF97FF",
           "#FECB52"
          ],
          "font": {
           "color": "#2a3f5f"
          },
          "geo": {
           "bgcolor": "white",
           "lakecolor": "white",
           "landcolor": "#E5ECF6",
           "showlakes": true,
           "showland": true,
           "subunitcolor": "white"
          },
          "hoverlabel": {
           "align": "left"
          },
          "hovermode": "closest",
          "mapbox": {
           "style": "light"
          },
          "paper_bgcolor": "white",
          "plot_bgcolor": "#E5ECF6",
          "polar": {
           "angularaxis": {
            "gridcolor": "white",
            "linecolor": "white",
            "ticks": ""
           },
           "bgcolor": "#E5ECF6",
           "radialaxis": {
            "gridcolor": "white",
            "linecolor": "white",
            "ticks": ""
           }
          },
          "scene": {
           "xaxis": {
            "backgroundcolor": "#E5ECF6",
            "gridcolor": "white",
            "gridwidth": 2,
            "linecolor": "white",
            "showbackground": true,
            "ticks": "",
            "zerolinecolor": "white"
           },
           "yaxis": {
            "backgroundcolor": "#E5ECF6",
            "gridcolor": "white",
            "gridwidth": 2,
            "linecolor": "white",
            "showbackground": true,
            "ticks": "",
            "zerolinecolor": "white"
           },
           "zaxis": {
            "backgroundcolor": "#E5ECF6",
            "gridcolor": "white",
            "gridwidth": 2,
            "linecolor": "white",
            "showbackground": true,
            "ticks": "",
            "zerolinecolor": "white"
           }
          },
          "shapedefaults": {
           "line": {
            "color": "#2a3f5f"
           }
          },
          "ternary": {
           "aaxis": {
            "gridcolor": "white",
            "linecolor": "white",
            "ticks": ""
           },
           "baxis": {
            "gridcolor": "white",
            "linecolor": "white",
            "ticks": ""
           },
           "bgcolor": "#E5ECF6",
           "caxis": {
            "gridcolor": "white",
            "linecolor": "white",
            "ticks": ""
           }
          },
          "title": {
           "x": 0.05
          },
          "xaxis": {
           "automargin": true,
           "gridcolor": "white",
           "linecolor": "white",
           "ticks": "",
           "title": {
            "standoff": 15
           },
           "zerolinecolor": "white",
           "zerolinewidth": 2
          },
          "yaxis": {
           "automargin": true,
           "gridcolor": "white",
           "linecolor": "white",
           "ticks": "",
           "title": {
            "standoff": 15
           },
           "zerolinecolor": "white",
           "zerolinewidth": 2
          }
         }
        },
        "title": {
         "text": "<b>Key figures</b>"
        },
        "xaxis": {
         "anchor": "y",
         "autorange": true,
         "domain": [
          0,
          0.2888888888888889
         ],
         "range": [
          -0.5,
          7.5
         ],
         "type": "category"
        },
        "xaxis2": {
         "anchor": "y2",
         "autorange": true,
         "domain": [
          0.35555555555555557,
          0.6444444444444445
         ],
         "range": [
          -0.5,
          7.5
         ],
         "type": "category"
        },
        "xaxis3": {
         "anchor": "y3",
         "autorange": true,
         "domain": [
          0.7111111111111111,
          1
         ],
         "range": [
          -0.5,
          7.5
         ],
         "type": "category"
        },
        "xaxis4": {
         "anchor": "y4",
         "autorange": true,
         "domain": [
          0,
          0.2888888888888889
         ],
         "range": [
          -0.5,
          7.5
         ],
         "type": "category"
        },
        "xaxis5": {
         "anchor": "y5",
         "autorange": true,
         "domain": [
          0.35555555555555557,
          0.6444444444444445
         ],
         "range": [
          -0.5,
          7.5
         ],
         "type": "category"
        },
        "xaxis6": {
         "anchor": "y6",
         "autorange": true,
         "domain": [
          0.7111111111111111,
          1
         ],
         "range": [
          -0.5,
          7.5
         ],
         "type": "category"
        },
        "yaxis": {
         "anchor": "x",
         "autorange": true,
         "domain": [
          0.625,
          1
         ],
         "range": [
          0,
          1320404.2105263157
         ],
         "type": "linear"
        },
        "yaxis2": {
         "anchor": "x2",
         "autorange": true,
         "domain": [
          0.625,
          1
         ],
         "range": [
          0,
          26.736842105263158
         ],
         "type": "linear"
        },
        "yaxis3": {
         "anchor": "x3",
         "autorange": true,
         "domain": [
          0.625,
          1
         ],
         "range": [
          0,
          849.4736842105264
         ],
         "type": "linear"
        },
        "yaxis4": {
         "anchor": "x4",
         "autorange": true,
         "domain": [
          0,
          0.375
         ],
         "range": [
          0,
          3.2842105263157895
         ],
         "type": "linear"
        },
        "yaxis5": {
         "anchor": "x5",
         "autorange": true,
         "domain": [
          0,
          0.375
         ],
         "range": [
          0,
          8.34736842105263
         ],
         "type": "linear"
        },
        "yaxis6": {
         "anchor": "x6",
         "autorange": true,
         "domain": [
          0,
          0.375
         ],
         "range": [
          0,
          19.578947368421055
         ],
         "type": "linear"
        }
       }
      },
      "image/png": "[encoded data removed]",
      "text/html": [
       "<div>                            <div id=\"3dced62f-2634-477d-9468-906acb0b87f7\" class=\"plotly-graph-div\" style=\"height:525px; width:100%;\"></div>            <script type=\"text/javascript\">                require([\"plotly\"], function(Plotly) {                    window.PLOTLYENV=window.PLOTLYENV || {};                                    if (document.getElementById(\"3dced62f-2634-477d-9468-906acb0b87f7\")) {                    Plotly.newPlot(                        \"3dced62f-2634-477d-9468-906acb0b87f7\",                        [{\"marker\":{\"color\":\"#0057e5\"},\"name\":\"Market Cap in Cores Rupees\",\"x\":[\"HDFCBANK\",\"ICICIBANK\",\"KOTAKBANK\",\"AXISBANK\",\"INDUSINDBK\",\"SBIN\",\"BANKBARODA\",\"PNB\"],\"y\":[1254384,870575,353478,365055,110833,730703,126104,124865],\"type\":\"bar\",\"xaxis\":\"x\",\"yaxis\":\"y\"},{\"marker\":{\"color\":\"#de324c\"},\"name\":\"PE Ratio\",\"x\":[\"HDFCBANK\",\"ICICIBANK\",\"KOTAKBANK\",\"AXISBANK\",\"INDUSINDBK\",\"SBIN\",\"BANKBARODA\",\"PNB\"],\"y\":[19.3,20.6,25.4,14.5,12.3,11.0,6.94,12.2],\"type\":\"bar\",\"xaxis\":\"x2\",\"yaxis\":\"y2\"},{\"marker\":{\"color\":\"#9656a2\"},\"name\":\"Book Value in Rupees\",\"x\":[\"HDFCBANK\",\"ICICIBANK\",\"KOTAKBANK\",\"AXISBANK\",\"INDUSINDBK\",\"SBIN\",\"BANKBARODA\",\"PNB\"],\"y\":[580.0,339.0,487.0,489.0,807.0,423.0,217.0,96.7],\"type\":\"bar\",\"xaxis\":\"x3\",\"yaxis\":\"y3\"},{\"marker\":{\"color\":\"#009688\"},\"name\":\"Dividend Yield %\",\"x\":[\"HDFCBANK\",\"ICICIBANK\",\"KOTAKBANK\",\"AXISBANK\",\"INDUSINDBK\",\"SBIN\",\"BANKBARODA\",\"PNB\"],\"y\":[1.19,0.81,0.11,0.08,1.16,1.67,3.12,1.32],\"type\":\"bar\",\"xaxis\":\"x4\",\"yaxis\":\"y4\"},{\"marker\":{\"color\":\"#369acc\"},\"name\":\"ROCE %\",\"x\":[\"HDFCBANK\",\"ICICIBANK\",\"KOTAKBANK\",\"AXISBANK\",\"INDUSINDBK\",\"SBIN\",\"BANKBARODA\",\"PNB\"],\"y\":[7.54,7.51,7.24,6.92,7.93,6.05,6.32,5.41],\"type\":\"bar\",\"xaxis\":\"x5\",\"yaxis\":\"y5\"},{\"marker\":{\"color\":\"#8bc34a\"},\"name\":\"ROE %\",\"x\":[\"HDFCBANK\",\"ICICIBANK\",\"KOTAKBANK\",\"AXISBANK\",\"INDUSINDBK\",\"SBIN\",\"BANKBARODA\",\"PNB\"],\"y\":[16.9,18.6,15.3,18.0,15.2,17.3,16.9,7.99],\"type\":\"bar\",\"xaxis\":\"x6\",\"yaxis\":\"y6\"}],                        {\"template\":{\"data\":{\"histogram2dcontour\":[{\"type\":\"histogram2dcontour\",\"colorbar\":{\"outlinewidth\":0,\"ticks\":\"\"},\"colorscale\":[[0.0,\"#0d0887\"],[0.1111111111111111,\"#46039f\"],[0.2222222222222222,\"#7201a8\"],[0.3333333333333333,\"#9c179e\"],[0.4444444444444444,\"#bd3786\"],[0.5555555555555556,\"#d8576b\"],[0.6666666666666666,\"#ed7953\"],[0.7777777777777778,\"#fb9f3a\"],[0.8888888888888888,\"#fdca26\"],[1.0,\"#f0f921\"]]}],\"choropleth\":[{\"type\":\"choropleth\",\"colorbar\":{\"outlinewidth\":0,\"ticks\":\"\"}}],\"histogram2d\":[{\"type\":\"histogram2d\",\"colorbar\":{\"outlinewidth\":0,\"ticks\":\"\"},\"colorscale\":[[0.0,\"#0d0887\"],[0.1111111111111111,\"#46039f\"],[0.2222222222222222,\"#7201a8\"],[0.3333333333333333,\"#9c179e\"],[0.4444444444444444,\"#bd3786\"],[0.5555555555555556,\"#d8576b\"],[0.6666666666666666,\"#ed7953\"],[0.7777777777777778,\"#fb9f3a\"],[0.8888888888888888,\"#fdca26\"],[1.0,\"#f0f921\"]]}],\"heatmap\":[{\"type\":\"heatmap\",\"colorbar\":{\"outlinewidth\":0,\"ticks\":\"\"},\"colorscale\":[[0.0,\"#0d0887\"],[0.1111111111111111,\"#46039f\"],[0.2222222222222222,\"#7201a8\"],[0.3333333333333333,\"#9c179e\"],[0.4444444444444444,\"#bd3786\"],[0.5555555555555556,\"#d8576b\"],[0.6666666666666666,\"#ed7953\"],[0.7777777777777778,\"#fb9f3a\"],[0.8888888888888888,\"#fdca26\"],[1.0,\"#f0f921\"]]}],\"heatmapgl\":[{\"type\":\"heatmapgl\",\"colorbar\":{\"outlinewidth\":0,\"ticks\":\"\"},\"colorscale\":[[0.0,\"#0d0887\"],[0.1111111111111111,\"#46039f\"],[0.2222222222222222,\"#7201a8\"],[0.3333333333333333,\"#9c179e\"],[0.4444444444444444,\"#bd3786\"],[0.5555555555555556,\"#d8576b\"],[0.6666666666666666,\"#ed7953\"],[0.7777777777777778,\"#fb9f3a\"],[0.8888888888888888,\"#fdca26\"],[1.0,\"#f0f921\"]]}],\"contourcarpet\":[{\"type\":\"contourcarpet\",\"colorbar\":{\"outlinewidth\":0,\"ticks\":\"\"}}],\"contour\":[{\"type\":\"contour\",\"colorbar\":{\"outlinewidth\":0,\"ticks\":\"\"},\"colorscale\":[[0.0,\"#0d0887\"],[0.1111111111111111,\"#46039f\"],[0.2222222222222222,\"#7201a8\"],[0.3333333333333333,\"#9c179e\"],[0.4444444444444444,\"#bd3786\"],[0.5555555555555556,\"#d8576b\"],[0.6666666666666666,\"#ed7953\"],[0.7777777777777778,\"#fb9f3a\"],[0.8888888888888888,\"#fdca26\"],[1.0,\"#f0f921\"]]}],\"surface\":[{\"type\":\"surface\",\"colorbar\":{\"outlinewidth\":0,\"ticks\":\"\"},\"colorscale\":[[0.0,\"#0d0887\"],[0.1111111111111111,\"#46039f\"],[0.2222222222222222,\"#7201a8\"],[0.3333333333333333,\"#9c179e\"],[0.4444444444444444,\"#bd3786\"],[0.5555555555555556,\"#d8576b\"],[0.6666666666666666,\"#ed7953\"],[0.7777777777777778,\"#fb9f3a\"],[0.8888888888888888,\"#fdca26\"],[1.0,\"#f0f921\"]]}],\"mesh3d\":[{\"type\":\"mesh3d\",\"colorbar\":{\"outlinewidth\":0,\"ticks\":\"\"}}],\"scatter\":[{\"fillpattern\":{\"fillmode\":\"overlay\",\"size\":10,\"solidity\":0.2},\"type\":\"scatter\"}],\"parcoords\":[{\"type\":\"parcoords\",\"line\":{\"colorbar\":{\"outlinewidth\":0,\"ticks\":\"\"}}}],\"scatterpolargl\":[{\"type\":\"scatterpolargl\",\"marker\":{\"colorbar\":{\"outlinewidth\":0,\"ticks\":\"\"}}}],\"bar\":[{\"error_x\":{\"color\":\"#2a3f5f\"},\"error_y\":{\"color\":\"#2a3f5f\"},\"marker\":{\"line\":{\"color\":\"#E5ECF6\",\"width\":0.5},\"pattern\":{\"fillmode\":\"overlay\",\"size\":10,\"solidity\":0.2}},\"type\":\"bar\"}],\"scattergeo\":[{\"type\":\"scattergeo\",\"marker\":{\"colorbar\":{\"outlinewidth\":0,\"ticks\":\"\"}}}],\"scatterpolar\":[{\"type\":\"scatterpolar\",\"marker\":{\"colorbar\":{\"outlinewidth\":0,\"ticks\":\"\"}}}],\"histogram\":[{\"marker\":{\"pattern\":{\"fillmode\":\"overlay\",\"size\":10,\"solidity\":0.2}},\"type\":\"histogram\"}],\"scattergl\":[{\"type\":\"scattergl\",\"marker\":{\"colorbar\":{\"outlinewidth\":0,\"ticks\":\"\"}}}],\"scatter3d\":[{\"type\":\"scatter3d\",\"line\":{\"colorbar\":{\"outlinewidth\":0,\"ticks\":\"\"}},\"marker\":{\"colorbar\":{\"outlinewidth\":0,\"ticks\":\"\"}}}],\"scattermapbox\":[{\"type\":\"scattermapbox\",\"marker\":{\"colorbar\":{\"outlinewidth\":0,\"ticks\":\"\"}}}],\"scatterternary\":[{\"type\":\"scatterternary\",\"marker\":{\"colorbar\":{\"outlinewidth\":0,\"ticks\":\"\"}}}],\"scattercarpet\":[{\"type\":\"scattercarpet\",\"marker\":{\"colorbar\":{\"outlinewidth\":0,\"ticks\":\"\"}}}],\"carpet\":[{\"aaxis\":{\"endlinecolor\":\"#2a3f5f\",\"gridcolor\":\"white\",\"linecolor\":\"white\",\"minorgridcolor\":\"white\",\"startlinecolor\":\"#2a3f5f\"},\"baxis\":{\"endlinecolor\":\"#2a3f5f\",\"gridcolor\":\"white\",\"linecolor\":\"white\",\"minorgridcolor\":\"white\",\"startlinecolor\":\"#2a3f5f\"},\"type\":\"carpet\"}],\"table\":[{\"cells\":{\"fill\":{\"color\":\"#EBF0F8\"},\"line\":{\"color\":\"white\"}},\"header\":{\"fill\":{\"color\":\"#C8D4E3\"},\"line\":{\"color\":\"white\"}},\"type\":\"table\"}],\"barpolar\":[{\"marker\":{\"line\":{\"color\":\"#E5ECF6\",\"width\":0.5},\"pattern\":{\"fillmode\":\"overlay\",\"size\":10,\"solidity\":0.2}},\"type\":\"barpolar\"}],\"pie\":[{\"automargin\":true,\"type\":\"pie\"}]},\"layout\":{\"autotypenumbers\":\"strict\",\"colorway\":[\"#636efa\",\"#EF553B\",\"#00cc96\",\"#ab63fa\",\"#FFA15A\",\"#19d3f3\",\"#FF6692\",\"#B6E880\",\"#FF97FF\",\"#FECB52\"],\"font\":{\"color\":\"#2a3f5f\"},\"hovermode\":\"closest\",\"hoverlabel\":{\"align\":\"left\"},\"paper_bgcolor\":\"white\",\"plot_bgcolor\":\"#E5ECF6\",\"polar\":{\"bgcolor\":\"#E5ECF6\",\"angularaxis\":{\"gridcolor\":\"white\",\"linecolor\":\"white\",\"ticks\":\"\"},\"radialaxis\":{\"gridcolor\":\"white\",\"linecolor\":\"white\",\"ticks\":\"\"}},\"ternary\":{\"bgcolor\":\"#E5ECF6\",\"aaxis\":{\"gridcolor\":\"white\",\"linecolor\":\"white\",\"ticks\":\"\"},\"baxis\":{\"gridcolor\":\"white\",\"linecolor\":\"white\",\"ticks\":\"\"},\"caxis\":{\"gridcolor\":\"white\",\"linecolor\":\"white\",\"ticks\":\"\"}},\"coloraxis\":{\"colorbar\":{\"outlinewidth\":0,\"ticks\":\"\"}},\"colorscale\":{\"sequential\":[[0.0,\"#0d0887\"],[0.1111111111111111,\"#46039f\"],[0.2222222222222222,\"#7201a8\"],[0.3333333333333333,\"#9c179e\"],[0.4444444444444444,\"#bd3786\"],[0.5555555555555556,\"#d8576b\"],[0.6666666666666666,\"#ed7953\"],[0.7777777777777778,\"#fb9f3a\"],[0.8888888888888888,\"#fdca26\"],[1.0,\"#f0f921\"]],\"sequentialminus\":[[0.0,\"#0d0887\"],[0.1111111111111111,\"#46039f\"],[0.2222222222222222,\"#7201a8\"],[0.3333333333333333,\"#9c179e\"],[0.4444444444444444,\"#bd3786\"],[0.5555555555555556,\"#d8576b\"],[0.6666666666666666,\"#ed7953\"],[0.7777777777777778,\"#fb9f3a\"],[0.8888888888888888,\"#fdca26\"],[1.0,\"#f0f921\"]],\"diverging\":[[0,\"#8e0152\"],[0.1,\"#c51b7d\"],[0.2,\"#de77ae\"],[0.3,\"#f1b6da\"],[0.4,\"#fde0ef\"],[0.5,\"#f7f7f7\"],[0.6,\"#e6f5d0\"],[0.7,\"#b8e186\"],[0.8,\"#7fbc41\"],[0.9,\"#4d9221\"],[1,\"#276419\"]]},\"xaxis\":{\"gridcolor\":\"white\",\"linecolor\":\"white\",\"ticks\":\"\",\"title\":{\"standoff\":15},\"zerolinecolor\":\"white\",\"automargin\":true,\"zerolinewidth\":2},\"yaxis\":{\"gridcolor\":\"white\",\"linecolor\":\"white\",\"ticks\":\"\",\"title\":{\"standoff\":15},\"zerolinecolor\":\"white\",\"automargin\":true,\"zerolinewidth\":2},\"scene\":{\"xaxis\":{\"backgroundcolor\":\"#E5ECF6\",\"gridcolor\":\"white\",\"linecolor\":\"white\",\"showbackground\":true,\"ticks\":\"\",\"zerolinecolor\":\"white\",\"gridwidth\":2},\"yaxis\":{\"backgroundcolor\":\"#E5ECF6\",\"gridcolor\":\"white\",\"linecolor\":\"white\",\"showbackground\":true,\"ticks\":\"\",\"zerolinecolor\":\"white\",\"gridwidth\":2},\"zaxis\":{\"backgroundcolor\":\"#E5ECF6\",\"gridcolor\":\"white\",\"linecolor\":\"white\",\"showbackground\":true,\"ticks\":\"\",\"zerolinecolor\":\"white\",\"gridwidth\":2}},\"shapedefaults\":{\"line\":{\"color\":\"#2a3f5f\"}},\"annotationdefaults\":{\"arrowcolor\":\"#2a3f5f\",\"arrowhead\":0,\"arrowwidth\":1},\"geo\":{\"bgcolor\":\"white\",\"landcolor\":\"#E5ECF6\",\"subunitcolor\":\"white\",\"showland\":true,\"showlakes\":true,\"lakecolor\":\"white\"},\"title\":{\"x\":0.05},\"mapbox\":{\"style\":\"light\"}}},\"xaxis\":{\"anchor\":\"y\",\"domain\":[0.0,0.2888888888888889]},\"yaxis\":{\"anchor\":\"x\",\"domain\":[0.625,1.0]},\"xaxis2\":{\"anchor\":\"y2\",\"domain\":[0.35555555555555557,0.6444444444444445]},\"yaxis2\":{\"anchor\":\"x2\",\"domain\":[0.625,1.0]},\"xaxis3\":{\"anchor\":\"y3\",\"domain\":[0.7111111111111111,1.0]},\"yaxis3\":{\"anchor\":\"x3\",\"domain\":[0.625,1.0]},\"xaxis4\":{\"anchor\":\"y4\",\"domain\":[0.0,0.2888888888888889]},\"yaxis4\":{\"anchor\":\"x4\",\"domain\":[0.0,0.375]},\"xaxis5\":{\"anchor\":\"y5\",\"domain\":[0.35555555555555557,0.6444444444444445]},\"yaxis5\":{\"anchor\":\"x5\",\"domain\":[0.0,0.375]},\"xaxis6\":{\"anchor\":\"y6\",\"domain\":[0.7111111111111111,1.0]},\"yaxis6\":{\"anchor\":\"x6\",\"domain\":[0.0,0.375]},\"annotations\":[{\"font\":{\"size\":16},\"showarrow\":false,\"text\":\"Market Cap in Cores Rupees\",\"x\":0.14444444444444446,\"xanchor\":\"center\",\"xref\":\"paper\",\"y\":1.0,\"yanchor\":\"bottom\",\"yref\":\"paper\"},{\"font\":{\"size\":16},\"showarrow\":false,\"text\":\"Stock PE\",\"x\":0.5,\"xanchor\":\"center\",\"xref\":\"paper\",\"y\":1.0,\"yanchor\":\"bottom\",\"yref\":\"paper\"},{\"font\":{\"size\":16},\"showarrow\":false,\"text\":\"Book Value in Rupees\",\"x\":0.8555555555555556,\"xanchor\":\"center\",\"xref\":\"paper\",\"y\":1.0,\"yanchor\":\"bottom\",\"yref\":\"paper\"},{\"font\":{\"size\":16},\"showarrow\":false,\"text\":\"Dividend Yield %\",\"x\":0.14444444444444446,\"xanchor\":\"center\",\"xref\":\"paper\",\"y\":0.375,\"yanchor\":\"bottom\",\"yref\":\"paper\"},{\"font\":{\"size\":16},\"showarrow\":false,\"text\":\"ROCE %\",\"x\":0.5,\"xanchor\":\"center\",\"xref\":\"paper\",\"y\":0.375,\"yanchor\":\"bottom\",\"yref\":\"paper\"},{\"font\":{\"size\":16},\"showarrow\":false,\"text\":\"ROE %\",\"x\":0.8555555555555556,\"xanchor\":\"center\",\"xref\":\"paper\",\"y\":0.375,\"yanchor\":\"bottom\",\"yref\":\"paper\"}],\"title\":{\"text\":\"\\u003cb\\u003eKey figures\\u003c\\u002fb\\u003e\"}},                        {\"responsive\": true}                    ).then(function(){\n",
       "                            \n",
       "var gd = document.getElementById('3dced62f-2634-477d-9468-906acb0b87f7');\n",
       "var x = new MutationObserver(function (mutations, observer) {{\n",
       "        var display = window.getComputedStyle(gd).display;\n",
       "        if (!display || display === 'none') {{\n",
       "            console.log([gd, 'removed!']);\n",
       "            Plotly.purge(gd);\n",
       "            observer.disconnect();\n",
       "        }}\n",
       "}});\n",
       "\n",
       "// Listen for the removal of the full notebook cells\n",
       "var notebookContainer = gd.closest('#notebook-container');\n",
       "if (notebookContainer) {{\n",
       "    x.observe(notebookContainer, {childList: true});\n",
       "}}\n",
       "\n",
       "// Listen for the clearing of the current output cell\n",
       "var outputEl = gd.closest('.output');\n",
       "if (outputEl) {{\n",
       "    x.observe(outputEl, {childList: true});\n",
       "}}\n",
       "\n",
       "                        })                };                });            </script>        </div>"
      ]
     },
     "metadata": {},
     "output_type": "display_data"
    }
   ],
   "source": [
    "color_set = {\n",
    "        \"dark_red\"       : \"#6f1926\",\n",
    "        \"red\"            : \"#de324c\",\n",
    "        \"orange\"         : \"#f4895f\",\n",
    "        \"yellow\"         : \"#f8e16f\",\n",
    "        \"bright_green\"   : \"#8bc34a\",\n",
    "        \"dark_green\"     : \"#009688\", #\"#318a01\",\n",
    "        \"blue\"           : \"#369acc\",\n",
    "        \"sky_blue\"       : \"#80d9ff\",\n",
    "        \"dark_blue\"      : \"#0057e5\",\n",
    "        \"violet\"         : \"#9656a2\",\n",
    "        \"purple\"         : \"#7b4fff\",\n",
    "        \"black\"          : \"#212020\",\n",
    "        \"gray\"           : \"#777675\"\n",
    "    }\n",
    "\n",
    "## Charting\n",
    "fig = go.Figure()\n",
    "\n",
    "x  = df_top_ratios['Stockname']\n",
    "y1 = df_top_ratios['Market Cap in Cores Rupees']\n",
    "y2 = df_top_ratios['Stock PE']\n",
    "y3 = df_top_ratios['Book Value in Rupees']\n",
    "y4 = df_top_ratios['Dividend Yield %']\n",
    "y5 = df_top_ratios['ROCE %']\n",
    "y6 = df_top_ratios['ROE %']\n",
    "\n",
    "\n",
    "fig = make_subplots(\n",
    "        rows=2,\n",
    "        cols=3,\n",
    "        specs=[\n",
    "            [{\"type\": \"bar\"}, {\"type\": \"bar\"},{\"type\": \"bar\"}],\n",
    "            [{\"type\": \"bar\"}, {\"type\": \"bar\"},{\"type\": \"bar\"}],\n",
    "        ],\n",
    "       subplot_titles=('Market Cap in Cores Rupees', 'Stock PE', \n",
    "                       'Book Value in Rupees', 'Dividend Yield %', 'ROCE %', 'ROE %')\n",
    "    )\n",
    "\n",
    "\n",
    "fig.add_trace( go.Bar(x=x, y=y1, name='Market Cap in Cores Rupees', marker_color =color_set.get(\"dark_blue\")), row=1, col=1)\n",
    "fig.add_trace( go.Bar(x=x, y=y2, name='PE Ratio', marker_color =color_set.get(\"red\")), row=1, col=2)\n",
    "fig.add_trace( go.Bar(x=x, y=y3, name='Book Value in Rupees', marker_color =color_set.get(\"violet\")), row=1, col=3)\n",
    "fig.add_trace( go.Bar(x=x, y=y4, name='Dividend Yield %', marker_color =color_set.get(\"dark_green\")), row=2, col=1)\n",
    "fig.add_trace( go.Bar(x=x, y=y5, name='ROCE %', marker_color =color_set.get(\"blue\")), row=2, col=2)\n",
    "fig.add_trace( go.Bar(x=x, y=y6, name='ROE %', marker_color =color_set.get(\"bright_green\")), row=2, col=3)\n",
    "\n",
    "\n",
    " \n",
    "plot_title = '<b>Key figures</b>'\n",
    "\n",
    "fig.update_layout(title=plot_title)\n",
    "\n",
    "pyo.plot(fig, filename=\"key-figures.html\")\n",
    "fig.show()\n",
    "\n"
   ]
  },
  {
   "cell_type": "code",
   "execution_count": null,
   "id": "24cabc11-3607-4bd4-9b8d-e0eff0b065c6",
   "metadata": {},
   "outputs": [],
   "source": [
    "fig = go.Figure()\n",
    "\n",
    "x  = df_top_ratios['Stockname']\n",
    "y1 = df_top_ratios['Market Cap in Cores Rupees']\n",
    "y2 = df_top_ratios['Stock PE']\n",
    "\n",
    "fig.add_trace(go.Bar(x=x, y=y1, name='Market Cap', marker_color =\"#2205a3\"))\n",
    "\n",
    "plot_title = '<b>Market Cap</b>'\n",
    "\n",
    "\n",
    "fig.update_layout(title=plot_title,xaxis_title='Maret Cap',yaxis_title=' Rs. Cr ')\n",
    "\n",
    "\n",
    "fig.show()\n"
   ]
  }
 ],
 "metadata": {
  "kernelspec": {
   "display_name": "Python 3 (ipykernel)",
   "language": "python",
   "name": "python3"
  },
  "language_info": {
   "codemirror_mode": {
    "name": "ipython",
    "version": 3
   },
   "file_extension": ".py",
   "mimetype": "text/x-python",
   "name": "python",
   "nbconvert_exporter": "python",
   "pygments_lexer": "ipython3",
   "version": "3.11.4"
  }
 },
 "nbformat": 4,
 "nbformat_minor": 5
}
