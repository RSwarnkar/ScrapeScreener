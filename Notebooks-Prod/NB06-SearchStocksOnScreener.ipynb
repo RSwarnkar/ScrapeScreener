{
 "cells": [
  {
   "cell_type": "markdown",
   "id": "8ddea3cf-2d6b-4163-baeb-9d9f1971e958",
   "metadata": {},
   "source": [
    "# Search Stock on Screener: \n"
   ]
  },
  {
   "cell_type": "markdown",
   "id": "795bdda4-7d7d-4672-b18d-2239a0185b34",
   "metadata": {},
   "source": [
    "## 1.1 Search Function: "
   ]
  },
  {
   "cell_type": "code",
   "execution_count": 1,
   "id": "deaaafd2-92a6-4e90-a306-76c2d4520d0f",
   "metadata": {},
   "outputs": [],
   "source": [
    "\n",
    "def SearchStocksOnScreener(df, output_folder):\n",
    "    import pandas as pd\n",
    "    import requests as rq\n",
    "    import time\n",
    "    import json\n",
    "    import re\n",
    "    import datetime\n",
    "    \n",
    "    screener_stock_url = \"\"\n",
    "    screener_stock_symbol = \"\"\n",
    "    df_output = df.copy()\n",
    "\n",
    "    for index, row in df.iterrows():\n",
    "        nse_stock_symbol = row[\"Symbol\"]\n",
    "        print(\"Searching : \", nse_stock_symbol)\n",
    "        # \"https://www.screener.in/api/company/search/?q=<Stockname>&v=3&fts=1\"\n",
    "        search_url = \"https://www.screener.in/api/company/search/?q=\" +nse_stock_symbol+ \"&v=3&fts=1\"\n",
    "        response = rq.get(search_url)\n",
    "        time.sleep(1) # Seconds\n",
    "        \n",
    "        response_json = json.loads(response.text)\n",
    "        \n",
    "        if(response_json[0].get('id')==None):\n",
    "            #print(\"Search Not Found\")\n",
    "            screener_stock_symbol = \"<ErrorCode-1>\"\n",
    "            screener_stock_url = \"<ErrorCode-1>\"\n",
    "        else:\n",
    "            #print(\"Search Term Found: \",response_json[0].get('url'))\n",
    "            url_text = response_json[0].get('url')  \n",
    "            if m := re.match(r\"\\/company\\/([A-Z0-9]+)\\/.*\", url_text):\n",
    "                screener_stock_symbol = m.group(1)\n",
    "                screener_stock_url = \"https://www.screener.in\" + url_text\n",
    "            else:\n",
    "                screener_stock_symbol = \"<ErrorCode-2>\"\n",
    "                screener_stock_url = \"<ErrorCode-2>\"\n",
    "                \n",
    "        df_output.loc[index,'Screener Stock Symbol'] = screener_stock_symbol\n",
    "        df_output.loc[index,'Screener Stock Url'] = screener_stock_url\n",
    "\n",
    "    report_name = output_folder + \"/\" + \"StockSymbolSearchReport-\" + datetime.datetime.now().strftime(\"%Y%m%d-%H%M%S\") + \".xlsx\"\n",
    "    writer = pd.ExcelWriter(report_name, engine='xlsxwriter')\n",
    "    df_output.to_excel(writer, sheet_name = 'StockSearch', index=False)\n",
    "    writer.close()\n",
    "    \n",
    "    return report_name "
   ]
  },
  {
   "cell_type": "markdown",
   "id": "1f6632c1-2000-4eac-9afb-a92aaa30350b",
   "metadata": {},
   "source": [
    "## 1.2 Instructions: "
   ]
  },
  {
   "cell_type": "markdown",
   "id": "8571d80a-3673-4216-8110-33930dacd197",
   "metadata": {},
   "source": [
    "### 1. Go to [NSE Website](https://www.nseindia.com/regulations/listing-compliance/nse-market-capitalisation-all-companies)\n",
    "### 2. Download the Excel into Input folder.  \n",
    "### 3. Edit the excel and format the Excel \n"
   ]
  },
  {
   "cell_type": "code",
   "execution_count": 2,
   "id": "7d84edc0-f1e6-429b-89a4-381c5b628763",
   "metadata": {},
   "outputs": [
    {
     "data": {
      "text/html": [
       "<div>\n",
       "<style scoped>\n",
       "    .dataframe tbody tr th:only-of-type {\n",
       "        vertical-align: middle;\n",
       "    }\n",
       "\n",
       "    .dataframe tbody tr th {\n",
       "        vertical-align: top;\n",
       "    }\n",
       "\n",
       "    .dataframe thead th {\n",
       "        text-align: right;\n",
       "    }\n",
       "</style>\n",
       "<table border=\"1\" class=\"dataframe\">\n",
       "  <thead>\n",
       "    <tr style=\"text-align: right;\">\n",
       "      <th></th>\n",
       "      <th>Sr. No.</th>\n",
       "      <th>Symbol</th>\n",
       "      <th>Company Name</th>\n",
       "      <th>Market capitalization as on March 28, 2024\\n(In lakhs)</th>\n",
       "      <th>Screener Stock Symbol</th>\n",
       "      <th>Screener Stock Url</th>\n",
       "    </tr>\n",
       "  </thead>\n",
       "  <tbody>\n",
       "    <tr>\n",
       "      <th>2376</th>\n",
       "      <td>2377.0</td>\n",
       "      <td>VISUINTL</td>\n",
       "      <td>Visu International Limited</td>\n",
       "      <td>*Not available for trading as on March 28, 2024</td>\n",
       "      <td>&lt;Null&gt;</td>\n",
       "      <td>&lt;Null&gt;</td>\n",
       "    </tr>\n",
       "    <tr>\n",
       "      <th>2377</th>\n",
       "      <td>2378.0</td>\n",
       "      <td>VIVIMEDLAB</td>\n",
       "      <td>Vivimed Labs Limited</td>\n",
       "      <td>*Not available for trading as on March 28, 2024</td>\n",
       "      <td>&lt;Null&gt;</td>\n",
       "      <td>&lt;Null&gt;</td>\n",
       "    </tr>\n",
       "    <tr>\n",
       "      <th>2378</th>\n",
       "      <td>2379.0</td>\n",
       "      <td>ZICOM</td>\n",
       "      <td>Zicom Electronic Security Systems Limited</td>\n",
       "      <td>*Not available for trading as on March 28, 2024</td>\n",
       "      <td>&lt;Null&gt;</td>\n",
       "      <td>&lt;Null&gt;</td>\n",
       "    </tr>\n",
       "    <tr>\n",
       "      <th>2379</th>\n",
       "      <td>NaN</td>\n",
       "      <td>NaN</td>\n",
       "      <td>NaN</td>\n",
       "      <td>NaN</td>\n",
       "      <td>&lt;Null&gt;</td>\n",
       "      <td>&lt;Null&gt;</td>\n",
       "    </tr>\n",
       "    <tr>\n",
       "      <th>2380</th>\n",
       "      <td>NaN</td>\n",
       "      <td>Note: Kindly refer regulation 15 to 27 of SEBI...</td>\n",
       "      <td>NaN</td>\n",
       "      <td>NaN</td>\n",
       "      <td>&lt;Null&gt;</td>\n",
       "      <td>&lt;Null&gt;</td>\n",
       "    </tr>\n",
       "  </tbody>\n",
       "</table>\n",
       "</div>"
      ],
      "text/plain": [
       "      Sr. No.                                             Symbol  \\\n",
       "2376   2377.0                                           VISUINTL   \n",
       "2377   2378.0                                         VIVIMEDLAB   \n",
       "2378   2379.0                                              ZICOM   \n",
       "2379      NaN                                                NaN   \n",
       "2380      NaN  Note: Kindly refer regulation 15 to 27 of SEBI...   \n",
       "\n",
       "                                   Company Name  \\\n",
       "2376                 Visu International Limited   \n",
       "2377                       Vivimed Labs Limited   \n",
       "2378  Zicom Electronic Security Systems Limited   \n",
       "2379                                        NaN   \n",
       "2380                                        NaN   \n",
       "\n",
       "     Market capitalization as on March 28, 2024\\n(In lakhs)  \\\n",
       "2376    *Not available for trading as on March 28, 2024       \n",
       "2377    *Not available for trading as on March 28, 2024       \n",
       "2378    *Not available for trading as on March 28, 2024       \n",
       "2379                                                NaN       \n",
       "2380                                                NaN       \n",
       "\n",
       "     Screener Stock Symbol Screener Stock Url  \n",
       "2376                <Null>             <Null>  \n",
       "2377                <Null>             <Null>  \n",
       "2378                <Null>             <Null>  \n",
       "2379                <Null>             <Null>  \n",
       "2380                <Null>             <Null>  "
      ]
     },
     "execution_count": 2,
     "metadata": {},
     "output_type": "execute_result"
    }
   ],
   "source": [
    "import pandas as pd \n",
    "\n",
    "input_excel = \"../Input/MCAP28032024.xlsx\"\n",
    "input_excel = \"../Input/MCAP-NSE.xlsx\"\n",
    "output_folder = \"../Output/06-SearchStocks\"\n",
    "\n",
    "xls = pd.ExcelFile(input_excel)\n",
    "\n",
    "df = pd.read_excel(xls, 'Sheet1')\n",
    "\n",
    "df[\"Screener Stock Symbol\"] = \"<Null>\"\n",
    "df[\"Screener Stock Url\"] = \"<Null>\"\n",
    "\n",
    "## Remove invalid rows from tail of the DF manually\n",
    "df.tail()"
   ]
  },
  {
   "cell_type": "code",
   "execution_count": 5,
   "id": "650fe207-8e24-4b09-b7f7-670514358f4a",
   "metadata": {},
   "outputs": [
    {
     "name": "stdout",
     "output_type": "stream",
     "text": [
      "6\n"
     ]
    }
   ],
   "source": [
    "# https://stackoverflow.com/a/49563326/1176573\n",
    "n = 400\n",
    "df_batch_of_nrows = [df[i:i+n] for i in range(0,df.shape[0],n)]\n",
    "# [i.shape for i in df_batch_of_nrows]\n",
    "print(len(df_batch_of_nrows))"
   ]
  },
  {
   "cell_type": "markdown",
   "id": "498cd3ec-8d33-4847-af8b-dd6b604657e8",
   "metadata": {},
   "source": [
    "### 4. Call Function:"
   ]
  },
  {
   "cell_type": "code",
   "execution_count": null,
   "id": "558af106-6d1e-4ea0-987f-5215e84ef082",
   "metadata": {},
   "outputs": [],
   "source": [
    "SearchStocksOnScreener(df_batch_of_nrows[0],output_folder)"
   ]
  }
 ],
 "metadata": {
  "kernelspec": {
   "display_name": "Python 3 (ipykernel)",
   "language": "python",
   "name": "python3"
  },
  "language_info": {
   "codemirror_mode": {
    "name": "ipython",
    "version": 3
   },
   "file_extension": ".py",
   "mimetype": "text/x-python",
   "name": "python",
   "nbconvert_exporter": "python",
   "pygments_lexer": "ipython3",
   "version": "3.11.4"
  }
 },
 "nbformat": 4,
 "nbformat_minor": 5
}
