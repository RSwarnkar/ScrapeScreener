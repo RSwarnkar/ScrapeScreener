{
 "cells": [
  {
   "cell_type": "code",
   "execution_count": 2,
   "id": "c15ea99b-57eb-45f8-ab06-5cdf510ca45d",
   "metadata": {},
   "outputs": [],
   "source": [
    "import pandas as pd\n",
    "from bs4 import BeautifulSoup\n",
    "import requests as rq\n",
    "import re"
   ]
  },
  {
   "cell_type": "code",
   "execution_count": 7,
   "id": "43bee156-8718-4685-9895-6dd409421bfd",
   "metadata": {},
   "outputs": [
    {
     "name": "stdout",
     "output_type": "stream",
     "text": [
      "Sector:  Finance Industry:  Finance - Term-Lending Institutions\n"
     ]
    }
   ],
   "source": [
    "stock = dict(\n",
    "    stockname = 'IREDA',\n",
    "    stockurl = 'https://www.screener.in/company/IREDA/'\n",
    ")\n",
    "\n",
    "response = rq.get(stock.get('stockurl'))\n",
    "soup = BeautifulSoup(response.content, \"html.parser\")\n",
    "data = soup.findAll('p', attrs={'class':'sub'})[1].text\n",
    "data = ' '.join(data.split())\n",
    "\n",
    "sector = ''\n",
    "industry = ''\n",
    "if m := re.match(r'Sector:\\s*([A-Za-z ]*)Industry:\\s*([A-Za-z- ]*)$', data):  #  Sector:([A-Za-z ]*)Industry:([A-Za-z ]*)$\n",
    "    sector = m.group(1).strip()\n",
    "    industry = m.group(2).strip()\n",
    "else: \n",
    "    sector = 'Null'\n",
    "    industry = 'Null'\n",
    "\n",
    "print(\"Sector: \",sector, \"Industry: \", industry)"
   ]
  },
  {
   "cell_type": "code",
   "execution_count": 4,
   "id": "b864b665-2906-4273-bf6c-8bd7ed72cbd1",
   "metadata": {},
   "outputs": [
    {
     "data": {
      "text/plain": [
       "'\\n              Sector:\\n              Finance\\n\\n              Industry:\\n              \\n                Finance - Term-Lending Institutions\\n              \\n'"
      ]
     },
     "execution_count": 4,
     "metadata": {},
     "output_type": "execute_result"
    }
   ],
   "source": [
    "soup.findAll('p', attrs={'class':'sub'})[1].text"
   ]
  },
  {
   "cell_type": "code",
   "execution_count": 5,
   "id": "c55027b7-dab3-44d0-97a8-6d2bfddca395",
   "metadata": {},
   "outputs": [
    {
     "data": {
      "text/plain": [
       "'Sector: Finance Industry: Finance - Term-Lending Institutions'"
      ]
     },
     "execution_count": 5,
     "metadata": {},
     "output_type": "execute_result"
    }
   ],
   "source": [
    "' '.join(data.split())"
   ]
  },
  {
   "cell_type": "code",
   "execution_count": null,
   "id": "1f840f2e-7841-479a-9b66-3010846d9672",
   "metadata": {},
   "outputs": [],
   "source": []
  }
 ],
 "metadata": {
  "kernelspec": {
   "display_name": "Python 3 (ipykernel)",
   "language": "python",
   "name": "python3"
  },
  "language_info": {
   "codemirror_mode": {
    "name": "ipython",
    "version": 3
   },
   "file_extension": ".py",
   "mimetype": "text/x-python",
   "name": "python",
   "nbconvert_exporter": "python",
   "pygments_lexer": "ipython3",
   "version": "3.11.4"
  }
 },
 "nbformat": 4,
 "nbformat_minor": 5
}
