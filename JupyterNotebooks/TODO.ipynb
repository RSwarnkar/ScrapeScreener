{
 "cells": [
  {
   "cell_type": "markdown",
   "id": "9473cd2e-f9b4-4cb6-99c3-4d652716306a",
   "metadata": {},
   "source": [
    "# TO DO:"
   ]
  },
  {
   "cell_type": "markdown",
   "id": "f5b8f1bf-58a5-4922-8b83-677d968de274",
   "metadata": {},
   "source": [
    "* Prepare a list of consumption stocks by refering to some thematic mutual fund and analyze it "
   ]
  },
  {
   "cell_type": "code",
   "execution_count": null,
   "id": "6fb711d4-7099-4536-8eac-8c0444efc089",
   "metadata": {},
   "outputs": [],
   "source": []
  }
 ],
 "metadata": {
  "kernelspec": {
   "display_name": "rswarnka",
   "language": "python",
   "name": "rswarnka"
  },
  "language_info": {
   "codemirror_mode": {
    "name": "ipython",
    "version": 3
   },
   "file_extension": ".py",
   "mimetype": "text/x-python",
   "name": "python",
   "nbconvert_exporter": "python",
   "pygments_lexer": "ipython3",
   "version": "3.11.4"
  }
 },
 "nbformat": 4,
 "nbformat_minor": 5
}
