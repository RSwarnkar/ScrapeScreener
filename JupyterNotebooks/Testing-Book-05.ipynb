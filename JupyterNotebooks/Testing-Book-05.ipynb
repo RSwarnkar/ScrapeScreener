{
 "cells": [
  {
   "cell_type": "code",
   "execution_count": 19,
   "id": "c4028572-d977-47f0-aa2b-4229b9877632",
   "metadata": {},
   "outputs": [],
   "source": [
    "import plotly.graph_objects as go\n",
    "import pandas as pd \n"
   ]
  },
  {
   "cell_type": "code",
   "execution_count": 20,
   "id": "8722e721-ac6a-4f80-a571-1b54b04e083c",
   "metadata": {},
   "outputs": [
    {
     "data": {
      "text/html": [
       "<div>\n",
       "<style scoped>\n",
       "    .dataframe tbody tr th:only-of-type {\n",
       "        vertical-align: middle;\n",
       "    }\n",
       "\n",
       "    .dataframe tbody tr th {\n",
       "        vertical-align: top;\n",
       "    }\n",
       "\n",
       "    .dataframe thead th {\n",
       "        text-align: right;\n",
       "    }\n",
       "</style>\n",
       "<table border=\"1\" class=\"dataframe\">\n",
       "  <thead>\n",
       "    <tr style=\"text-align: right;\">\n",
       "      <th></th>\n",
       "      <th>Quarters</th>\n",
       "      <th>526433</th>\n",
       "      <th>532407</th>\n",
       "      <th>544021</th>\n",
       "      <th>AARTIDRUGS</th>\n",
       "      <th>AARTIIND</th>\n",
       "      <th>AARTIPHARM</th>\n",
       "      <th>AARTISURF</th>\n",
       "      <th>ABB</th>\n",
       "      <th>ACC</th>\n",
       "      <th>...</th>\n",
       "      <th>UNITDSPR</th>\n",
       "      <th>UNOMINDA</th>\n",
       "      <th>VBL</th>\n",
       "      <th>VINATIORGA</th>\n",
       "      <th>MANYAVAR</th>\n",
       "      <th>VOLTAS</th>\n",
       "      <th>WESTLIFE</th>\n",
       "      <th>WIPRO</th>\n",
       "      <th>YASHO</th>\n",
       "      <th>ZENTEC</th>\n",
       "    </tr>\n",
       "  </thead>\n",
       "  <tbody>\n",
       "    <tr>\n",
       "      <th>0</th>\n",
       "      <td>Mar 2021</td>\n",
       "      <td>NaN</td>\n",
       "      <td>NaN</td>\n",
       "      <td>NaN</td>\n",
       "      <td>NaN</td>\n",
       "      <td>NaN</td>\n",
       "      <td>NaN</td>\n",
       "      <td>NaN</td>\n",
       "      <td>NaN</td>\n",
       "      <td>NaN</td>\n",
       "      <td>...</td>\n",
       "      <td>NaN</td>\n",
       "      <td>NaN</td>\n",
       "      <td>NaN</td>\n",
       "      <td>NaN</td>\n",
       "      <td>NaN</td>\n",
       "      <td>NaN</td>\n",
       "      <td>NaN</td>\n",
       "      <td>NaN</td>\n",
       "      <td>NaN</td>\n",
       "      <td>NaN</td>\n",
       "    </tr>\n",
       "    <tr>\n",
       "      <th>1</th>\n",
       "      <td>Jun 2021</td>\n",
       "      <td>2.99</td>\n",
       "      <td>0.11</td>\n",
       "      <td>NaN</td>\n",
       "      <td>5.27</td>\n",
       "      <td>4.55</td>\n",
       "      <td>NaN</td>\n",
       "      <td>5.32</td>\n",
       "      <td>3.32</td>\n",
       "      <td>30.32</td>\n",
       "      <td>...</td>\n",
       "      <td>0.76</td>\n",
       "      <td>0.28</td>\n",
       "      <td>2.37</td>\n",
       "      <td>7.87</td>\n",
       "      <td>3.65</td>\n",
       "      <td>3.68</td>\n",
       "      <td>-2.14</td>\n",
       "      <td>5.92</td>\n",
       "      <td>10.01</td>\n",
       "      <td>-0.14</td>\n",
       "    </tr>\n",
       "    <tr>\n",
       "      <th>2</th>\n",
       "      <td>Sep 2021</td>\n",
       "      <td>3.77</td>\n",
       "      <td>0.10</td>\n",
       "      <td>NaN</td>\n",
       "      <td>4.60</td>\n",
       "      <td>4.14</td>\n",
       "      <td>NaN</td>\n",
       "      <td>0.98</td>\n",
       "      <td>5.66</td>\n",
       "      <td>23.97</td>\n",
       "      <td>...</td>\n",
       "      <td>4.02</td>\n",
       "      <td>1.66</td>\n",
       "      <td>1.85</td>\n",
       "      <td>7.91</td>\n",
       "      <td>2.20</td>\n",
       "      <td>3.13</td>\n",
       "      <td>-0.28</td>\n",
       "      <td>5.35</td>\n",
       "      <td>12.44</td>\n",
       "      <td>-0.00</td>\n",
       "    </tr>\n",
       "    <tr>\n",
       "      <th>3</th>\n",
       "      <td>Dec 2021</td>\n",
       "      <td>4.30</td>\n",
       "      <td>0.13</td>\n",
       "      <td>NaN</td>\n",
       "      <td>6.29</td>\n",
       "      <td>20.01</td>\n",
       "      <td>NaN</td>\n",
       "      <td>-2.62</td>\n",
       "      <td>8.88</td>\n",
       "      <td>14.95</td>\n",
       "      <td>...</td>\n",
       "      <td>4.12</td>\n",
       "      <td>1.77</td>\n",
       "      <td>0.13</td>\n",
       "      <td>8.10</td>\n",
       "      <td>5.27</td>\n",
       "      <td>2.90</td>\n",
       "      <td>1.34</td>\n",
       "      <td>5.42</td>\n",
       "      <td>12.71</td>\n",
       "      <td>-0.02</td>\n",
       "    </tr>\n",
       "    <tr>\n",
       "      <th>4</th>\n",
       "      <td>Mar 2022</td>\n",
       "      <td>1.54</td>\n",
       "      <td>0.06</td>\n",
       "      <td>NaN</td>\n",
       "      <td>5.98</td>\n",
       "      <td>5.34</td>\n",
       "      <td>NaN</td>\n",
       "      <td>2.79</td>\n",
       "      <td>17.61</td>\n",
       "      <td>21.10</td>\n",
       "      <td>...</td>\n",
       "      <td>2.50</td>\n",
       "      <td>2.53</td>\n",
       "      <td>1.96</td>\n",
       "      <td>9.84</td>\n",
       "      <td>3.65</td>\n",
       "      <td>5.52</td>\n",
       "      <td>0.98</td>\n",
       "      <td>5.63</td>\n",
       "      <td>11.69</td>\n",
       "      <td>0.42</td>\n",
       "    </tr>\n",
       "  </tbody>\n",
       "</table>\n",
       "<p>5 rows × 161 columns</p>\n",
       "</div>"
      ],
      "text/plain": [
       "   Quarters  526433  532407  544021  AARTIDRUGS  AARTIIND  AARTIPHARM  \\\n",
       "0  Mar 2021     NaN     NaN     NaN         NaN       NaN         NaN   \n",
       "1  Jun 2021    2.99    0.11     NaN        5.27      4.55         NaN   \n",
       "2  Sep 2021    3.77    0.10     NaN        4.60      4.14         NaN   \n",
       "3  Dec 2021    4.30    0.13     NaN        6.29     20.01         NaN   \n",
       "4  Mar 2022    1.54    0.06     NaN        5.98      5.34         NaN   \n",
       "\n",
       "   AARTISURF    ABB    ACC  ...  UNITDSPR  UNOMINDA   VBL  VINATIORGA  \\\n",
       "0        NaN    NaN    NaN  ...       NaN       NaN   NaN         NaN   \n",
       "1       5.32   3.32  30.32  ...      0.76      0.28  2.37        7.87   \n",
       "2       0.98   5.66  23.97  ...      4.02      1.66  1.85        7.91   \n",
       "3      -2.62   8.88  14.95  ...      4.12      1.77  0.13        8.10   \n",
       "4       2.79  17.61  21.10  ...      2.50      2.53  1.96        9.84   \n",
       "\n",
       "   MANYAVAR  VOLTAS  WESTLIFE  WIPRO  YASHO  ZENTEC  \n",
       "0       NaN     NaN       NaN    NaN    NaN     NaN  \n",
       "1      3.65    3.68     -2.14   5.92  10.01   -0.14  \n",
       "2      2.20    3.13     -0.28   5.35  12.44   -0.00  \n",
       "3      5.27    2.90      1.34   5.42  12.71   -0.02  \n",
       "4      3.65    5.52      0.98   5.63  11.69    0.42  \n",
       "\n",
       "[5 rows x 161 columns]"
      ]
     },
     "execution_count": 20,
     "metadata": {},
     "output_type": "execute_result"
    }
   ],
   "source": [
    "## CAREFULLY UPDATE THIS. \n",
    "##  ../Output/SummaryReport/Summary02-Quarterly-Results-yyyymmdd-HHMMSS.csv\n",
    "\n",
    "input_cvs_file = \"../Output/SummaryReports/\" + \"Visual01-EPS-20240818-105615.csv\"\n",
    "\n",
    "df = pd.read_csv(input_cvs_file)\n",
    "df.rename( columns={'Unnamed: 0':'Quarters'}, inplace=True )\n",
    "df.head(5)"
   ]
  },
  {
   "cell_type": "code",
   "execution_count": 21,
   "id": "7602cb48-87d8-4ddf-bba9-6cb24337629c",
   "metadata": {},
   "outputs": [],
   "source": [
    "start_limit = 50\n",
    "end_limit = 57"
   ]
  },
  {
   "cell_type": "code",
   "execution_count": 23,
   "id": "78a24706-d170-47a4-9914-dfba6a82e658",
   "metadata": {},
   "outputs": [
    {
     "data": {
      "application/vnd.plotly.v1+json": {
       "config": {
        "plotlyServerURL": "https://plot.ly"
       },
       "data": [
        {
         "name": "FINEORG",
         "type": "bar",
         "x": [
          "Mar 2021",
          "Jun 2021",
          "Sep 2021",
          "Dec 2021",
          "Mar 2022",
          "Jun 2022",
          "Sep 2022",
          "Dec 2022",
          "Mar 2023",
          "Jun 2023",
          "Sep 2023",
          "Dec 2023",
          "Mar 2024",
          "Jun 2024"
         ],
         "y": [
          4.6,
          2.43,
          5.47,
          5.14,
          6.57,
          6.33,
          5.91,
          3.06,
          5.62,
          3.04,
          3.34,
          2.82,
          2.43,
          null
         ]
        },
        {
         "name": "GMMPFAUDLR",
         "type": "bar",
         "x": [
          "Mar 2021",
          "Jun 2021",
          "Sep 2021",
          "Dec 2021",
          "Mar 2022",
          "Jun 2022",
          "Sep 2022",
          "Dec 2022",
          "Mar 2023",
          "Jun 2023",
          "Sep 2023",
          "Dec 2023",
          "Mar 2024",
          "Jun 2024"
         ],
         "y": [
          4.6,
          2.43,
          5.47,
          5.14,
          6.57,
          6.33,
          5.91,
          3.06,
          5.62,
          3.04,
          3.34,
          2.82,
          2.43,
          null
         ]
        },
        {
         "name": "GODREJPROP",
         "type": "bar",
         "x": [
          "Mar 2021",
          "Jun 2021",
          "Sep 2021",
          "Dec 2021",
          "Mar 2022",
          "Jun 2022",
          "Sep 2022",
          "Dec 2022",
          "Mar 2023",
          "Jun 2023",
          "Sep 2023",
          "Dec 2023",
          "Mar 2024",
          "Jun 2024"
         ],
         "y": [
          4.6,
          2.43,
          5.47,
          5.14,
          6.57,
          6.33,
          5.91,
          3.06,
          5.62,
          3.04,
          3.34,
          2.82,
          2.43,
          null
         ]
        },
        {
         "name": "GREENLAM",
         "type": "bar",
         "x": [
          "Mar 2021",
          "Jun 2021",
          "Sep 2021",
          "Dec 2021",
          "Mar 2022",
          "Jun 2022",
          "Sep 2022",
          "Dec 2022",
          "Mar 2023",
          "Jun 2023",
          "Sep 2023",
          "Dec 2023",
          "Mar 2024",
          "Jun 2024"
         ],
         "y": [
          4.6,
          2.43,
          5.47,
          5.14,
          6.57,
          6.33,
          5.91,
          3.06,
          5.62,
          3.04,
          3.34,
          2.82,
          2.43,
          null
         ]
        },
        {
         "name": "GREENPANEL",
         "type": "bar",
         "x": [
          "Mar 2021",
          "Jun 2021",
          "Sep 2021",
          "Dec 2021",
          "Mar 2022",
          "Jun 2022",
          "Sep 2022",
          "Dec 2022",
          "Mar 2023",
          "Jun 2023",
          "Sep 2023",
          "Dec 2023",
          "Mar 2024",
          "Jun 2024"
         ],
         "y": [
          4.6,
          2.43,
          5.47,
          5.14,
          6.57,
          6.33,
          5.91,
          3.06,
          5.62,
          3.04,
          3.34,
          2.82,
          2.43,
          null
         ]
        },
        {
         "name": "GRSE",
         "type": "bar",
         "x": [
          "Mar 2021",
          "Jun 2021",
          "Sep 2021",
          "Dec 2021",
          "Mar 2022",
          "Jun 2022",
          "Sep 2022",
          "Dec 2022",
          "Mar 2023",
          "Jun 2023",
          "Sep 2023",
          "Dec 2023",
          "Mar 2024",
          "Jun 2024"
         ],
         "y": [
          4.6,
          2.43,
          5.47,
          5.14,
          6.57,
          6.33,
          5.91,
          3.06,
          5.62,
          3.04,
          3.34,
          2.82,
          2.43,
          null
         ]
        },
        {
         "name": "HAL",
         "type": "bar",
         "x": [
          "Mar 2021",
          "Jun 2021",
          "Sep 2021",
          "Dec 2021",
          "Mar 2022",
          "Jun 2022",
          "Sep 2022",
          "Dec 2022",
          "Mar 2023",
          "Jun 2023",
          "Sep 2023",
          "Dec 2023",
          "Mar 2024",
          "Jun 2024"
         ],
         "y": [
          4.6,
          2.43,
          5.47,
          5.14,
          6.57,
          6.33,
          5.91,
          3.06,
          5.62,
          3.04,
          3.34,
          2.82,
          2.43,
          null
         ]
        }
       ],
       "layout": {
        "autosize": true,
        "template": {
         "data": {
          "bar": [
           {
            "error_x": {
             "color": "#2a3f5f"
            },
            "error_y": {
             "color": "#2a3f5f"
            },
            "marker": {
             "line": {
              "color": "#E5ECF6",
              "width": 0.5
             },
             "pattern": {
              "fillmode": "overlay",
              "size": 10,
              "solidity": 0.2
             }
            },
            "type": "bar"
           }
          ],
          "barpolar": [
           {
            "marker": {
             "line": {
              "color": "#E5ECF6",
              "width": 0.5
             },
             "pattern": {
              "fillmode": "overlay",
              "size": 10,
              "solidity": 0.2
             }
            },
            "type": "barpolar"
           }
          ],
          "carpet": [
           {
            "aaxis": {
             "endlinecolor": "#2a3f5f",
             "gridcolor": "white",
             "linecolor": "white",
             "minorgridcolor": "white",
             "startlinecolor": "#2a3f5f"
            },
            "baxis": {
             "endlinecolor": "#2a3f5f",
             "gridcolor": "white",
             "linecolor": "white",
             "minorgridcolor": "white",
             "startlinecolor": "#2a3f5f"
            },
            "type": "carpet"
           }
          ],
          "choropleth": [
           {
            "colorbar": {
             "outlinewidth": 0,
             "ticks": ""
            },
            "type": "choropleth"
           }
          ],
          "contour": [
           {
            "colorbar": {
             "outlinewidth": 0,
             "ticks": ""
            },
            "colorscale": [
             [
              0,
              "#0d0887"
             ],
             [
              0.1111111111111111,
              "#46039f"
             ],
             [
              0.2222222222222222,
              "#7201a8"
             ],
             [
              0.3333333333333333,
              "#9c179e"
             ],
             [
              0.4444444444444444,
              "#bd3786"
             ],
             [
              0.5555555555555556,
              "#d8576b"
             ],
             [
              0.6666666666666666,
              "#ed7953"
             ],
             [
              0.7777777777777778,
              "#fb9f3a"
             ],
             [
              0.8888888888888888,
              "#fdca26"
             ],
             [
              1,
              "#f0f921"
             ]
            ],
            "type": "contour"
           }
          ],
          "contourcarpet": [
           {
            "colorbar": {
             "outlinewidth": 0,
             "ticks": ""
            },
            "type": "contourcarpet"
           }
          ],
          "heatmap": [
           {
            "colorbar": {
             "outlinewidth": 0,
             "ticks": ""
            },
            "colorscale": [
             [
              0,
              "#0d0887"
             ],
             [
              0.1111111111111111,
              "#46039f"
             ],
             [
              0.2222222222222222,
              "#7201a8"
             ],
             [
              0.3333333333333333,
              "#9c179e"
             ],
             [
              0.4444444444444444,
              "#bd3786"
             ],
             [
              0.5555555555555556,
              "#d8576b"
             ],
             [
              0.6666666666666666,
              "#ed7953"
             ],
             [
              0.7777777777777778,
              "#fb9f3a"
             ],
             [
              0.8888888888888888,
              "#fdca26"
             ],
             [
              1,
              "#f0f921"
             ]
            ],
            "type": "heatmap"
           }
          ],
          "heatmapgl": [
           {
            "colorbar": {
             "outlinewidth": 0,
             "ticks": ""
            },
            "colorscale": [
             [
              0,
              "#0d0887"
             ],
             [
              0.1111111111111111,
              "#46039f"
             ],
             [
              0.2222222222222222,
              "#7201a8"
             ],
             [
              0.3333333333333333,
              "#9c179e"
             ],
             [
              0.4444444444444444,
              "#bd3786"
             ],
             [
              0.5555555555555556,
              "#d8576b"
             ],
             [
              0.6666666666666666,
              "#ed7953"
             ],
             [
              0.7777777777777778,
              "#fb9f3a"
             ],
             [
              0.8888888888888888,
              "#fdca26"
             ],
             [
              1,
              "#f0f921"
             ]
            ],
            "type": "heatmapgl"
           }
          ],
          "histogram": [
           {
            "marker": {
             "pattern": {
              "fillmode": "overlay",
              "size": 10,
              "solidity": 0.2
             }
            },
            "type": "histogram"
           }
          ],
          "histogram2d": [
           {
            "colorbar": {
             "outlinewidth": 0,
             "ticks": ""
            },
            "colorscale": [
             [
              0,
              "#0d0887"
             ],
             [
              0.1111111111111111,
              "#46039f"
             ],
             [
              0.2222222222222222,
              "#7201a8"
             ],
             [
              0.3333333333333333,
              "#9c179e"
             ],
             [
              0.4444444444444444,
              "#bd3786"
             ],
             [
              0.5555555555555556,
              "#d8576b"
             ],
             [
              0.6666666666666666,
              "#ed7953"
             ],
             [
              0.7777777777777778,
              "#fb9f3a"
             ],
             [
              0.8888888888888888,
              "#fdca26"
             ],
             [
              1,
              "#f0f921"
             ]
            ],
            "type": "histogram2d"
           }
          ],
          "histogram2dcontour": [
           {
            "colorbar": {
             "outlinewidth": 0,
             "ticks": ""
            },
            "colorscale": [
             [
              0,
              "#0d0887"
             ],
             [
              0.1111111111111111,
              "#46039f"
             ],
             [
              0.2222222222222222,
              "#7201a8"
             ],
             [
              0.3333333333333333,
              "#9c179e"
             ],
             [
              0.4444444444444444,
              "#bd3786"
             ],
             [
              0.5555555555555556,
              "#d8576b"
             ],
             [
              0.6666666666666666,
              "#ed7953"
             ],
             [
              0.7777777777777778,
              "#fb9f3a"
             ],
             [
              0.8888888888888888,
              "#fdca26"
             ],
             [
              1,
              "#f0f921"
             ]
            ],
            "type": "histogram2dcontour"
           }
          ],
          "mesh3d": [
           {
            "colorbar": {
             "outlinewidth": 0,
             "ticks": ""
            },
            "type": "mesh3d"
           }
          ],
          "parcoords": [
           {
            "line": {
             "colorbar": {
              "outlinewidth": 0,
              "ticks": ""
             }
            },
            "type": "parcoords"
           }
          ],
          "pie": [
           {
            "automargin": true,
            "type": "pie"
           }
          ],
          "scatter": [
           {
            "fillpattern": {
             "fillmode": "overlay",
             "size": 10,
             "solidity": 0.2
            },
            "type": "scatter"
           }
          ],
          "scatter3d": [
           {
            "line": {
             "colorbar": {
              "outlinewidth": 0,
              "ticks": ""
             }
            },
            "marker": {
             "colorbar": {
              "outlinewidth": 0,
              "ticks": ""
             }
            },
            "type": "scatter3d"
           }
          ],
          "scattercarpet": [
           {
            "marker": {
             "colorbar": {
              "outlinewidth": 0,
              "ticks": ""
             }
            },
            "type": "scattercarpet"
           }
          ],
          "scattergeo": [
           {
            "marker": {
             "colorbar": {
              "outlinewidth": 0,
              "ticks": ""
             }
            },
            "type": "scattergeo"
           }
          ],
          "scattergl": [
           {
            "marker": {
             "colorbar": {
              "outlinewidth": 0,
              "ticks": ""
             }
            },
            "type": "scattergl"
           }
          ],
          "scattermapbox": [
           {
            "marker": {
             "colorbar": {
              "outlinewidth": 0,
              "ticks": ""
             }
            },
            "type": "scattermapbox"
           }
          ],
          "scatterpolar": [
           {
            "marker": {
             "colorbar": {
              "outlinewidth": 0,
              "ticks": ""
             }
            },
            "type": "scatterpolar"
           }
          ],
          "scatterpolargl": [
           {
            "marker": {
             "colorbar": {
              "outlinewidth": 0,
              "ticks": ""
             }
            },
            "type": "scatterpolargl"
           }
          ],
          "scatterternary": [
           {
            "marker": {
             "colorbar": {
              "outlinewidth": 0,
              "ticks": ""
             }
            },
            "type": "scatterternary"
           }
          ],
          "surface": [
           {
            "colorbar": {
             "outlinewidth": 0,
             "ticks": ""
            },
            "colorscale": [
             [
              0,
              "#0d0887"
             ],
             [
              0.1111111111111111,
              "#46039f"
             ],
             [
              0.2222222222222222,
              "#7201a8"
             ],
             [
              0.3333333333333333,
              "#9c179e"
             ],
             [
              0.4444444444444444,
              "#bd3786"
             ],
             [
              0.5555555555555556,
              "#d8576b"
             ],
             [
              0.6666666666666666,
              "#ed7953"
             ],
             [
              0.7777777777777778,
              "#fb9f3a"
             ],
             [
              0.8888888888888888,
              "#fdca26"
             ],
             [
              1,
              "#f0f921"
             ]
            ],
            "type": "surface"
           }
          ],
          "table": [
           {
            "cells": {
             "fill": {
              "color": "#EBF0F8"
             },
             "line": {
              "color": "white"
             }
            },
            "header": {
             "fill": {
              "color": "#C8D4E3"
             },
             "line": {
              "color": "white"
             }
            },
            "type": "table"
           }
          ]
         },
         "layout": {
          "annotationdefaults": {
           "arrowcolor": "#2a3f5f",
           "arrowhead": 0,
           "arrowwidth": 1
          },
          "autotypenumbers": "strict",
          "coloraxis": {
           "colorbar": {
            "outlinewidth": 0,
            "ticks": ""
           }
          },
          "colorscale": {
           "diverging": [
            [
             0,
             "#8e0152"
            ],
            [
             0.1,
             "#c51b7d"
            ],
            [
             0.2,
             "#de77ae"
            ],
            [
             0.3,
             "#f1b6da"
            ],
            [
             0.4,
             "#fde0ef"
            ],
            [
             0.5,
             "#f7f7f7"
            ],
            [
             0.6,
             "#e6f5d0"
            ],
            [
             0.7,
             "#b8e186"
            ],
            [
             0.8,
             "#7fbc41"
            ],
            [
             0.9,
             "#4d9221"
            ],
            [
             1,
             "#276419"
            ]
           ],
           "sequential": [
            [
             0,
             "#0d0887"
            ],
            [
             0.1111111111111111,
             "#46039f"
            ],
            [
             0.2222222222222222,
             "#7201a8"
            ],
            [
             0.3333333333333333,
             "#9c179e"
            ],
            [
             0.4444444444444444,
             "#bd3786"
            ],
            [
             0.5555555555555556,
             "#d8576b"
            ],
            [
             0.6666666666666666,
             "#ed7953"
            ],
            [
             0.7777777777777778,
             "#fb9f3a"
            ],
            [
             0.8888888888888888,
             "#fdca26"
            ],
            [
             1,
             "#f0f921"
            ]
           ],
           "sequentialminus": [
            [
             0,
             "#0d0887"
            ],
            [
             0.1111111111111111,
             "#46039f"
            ],
            [
             0.2222222222222222,
             "#7201a8"
            ],
            [
             0.3333333333333333,
             "#9c179e"
            ],
            [
             0.4444444444444444,
             "#bd3786"
            ],
            [
             0.5555555555555556,
             "#d8576b"
            ],
            [
             0.6666666666666666,
             "#ed7953"
            ],
            [
             0.7777777777777778,
             "#fb9f3a"
            ],
            [
             0.8888888888888888,
             "#fdca26"
            ],
            [
             1,
             "#f0f921"
            ]
           ]
          },
          "colorway": [
           "#636efa",
           "#EF553B",
           "#00cc96",
           "#ab63fa",
           "#FFA15A",
           "#19d3f3",
           "#FF6692",
           "#B6E880",
           "#FF97FF",
           "#FECB52"
          ],
          "font": {
           "color": "#2a3f5f"
          },
          "geo": {
           "bgcolor": "white",
           "lakecolor": "white",
           "landcolor": "#E5ECF6",
           "showlakes": true,
           "showland": true,
           "subunitcolor": "white"
          },
          "hoverlabel": {
           "align": "left"
          },
          "hovermode": "closest",
          "mapbox": {
           "style": "light"
          },
          "paper_bgcolor": "white",
          "plot_bgcolor": "#E5ECF6",
          "polar": {
           "angularaxis": {
            "gridcolor": "white",
            "linecolor": "white",
            "ticks": ""
           },
           "bgcolor": "#E5ECF6",
           "radialaxis": {
            "gridcolor": "white",
            "linecolor": "white",
            "ticks": ""
           }
          },
          "scene": {
           "xaxis": {
            "backgroundcolor": "#E5ECF6",
            "gridcolor": "white",
            "gridwidth": 2,
            "linecolor": "white",
            "showbackground": true,
            "ticks": "",
            "zerolinecolor": "white"
           },
           "yaxis": {
            "backgroundcolor": "#E5ECF6",
            "gridcolor": "white",
            "gridwidth": 2,
            "linecolor": "white",
            "showbackground": true,
            "ticks": "",
            "zerolinecolor": "white"
           },
           "zaxis": {
            "backgroundcolor": "#E5ECF6",
            "gridcolor": "white",
            "gridwidth": 2,
            "linecolor": "white",
            "showbackground": true,
            "ticks": "",
            "zerolinecolor": "white"
           }
          },
          "shapedefaults": {
           "line": {
            "color": "#2a3f5f"
           }
          },
          "ternary": {
           "aaxis": {
            "gridcolor": "white",
            "linecolor": "white",
            "ticks": ""
           },
           "baxis": {
            "gridcolor": "white",
            "linecolor": "white",
            "ticks": ""
           },
           "bgcolor": "#E5ECF6",
           "caxis": {
            "gridcolor": "white",
            "linecolor": "white",
            "ticks": ""
           }
          },
          "title": {
           "x": 0.05
          },
          "xaxis": {
           "automargin": true,
           "gridcolor": "white",
           "linecolor": "white",
           "ticks": "",
           "title": {
            "standoff": 15
           },
           "zerolinecolor": "white",
           "zerolinewidth": 2
          },
          "yaxis": {
           "automargin": true,
           "gridcolor": "white",
           "linecolor": "white",
           "ticks": "",
           "title": {
            "standoff": 15
           },
           "zerolinecolor": "white",
           "zerolinewidth": 2
          }
         }
        },
        "updatemenus": [
         {
          "active": 4,
          "buttons": [
           {
            "args": [
             {
              "x": [
               [
                "Mar 2021",
                "Jun 2021",
                "Sep 2021",
                "Dec 2021",
                "Mar 2022",
                "Jun 2022",
                "Sep 2022",
                "Dec 2022",
                "Mar 2023",
                "Jun 2023",
                "Sep 2023",
                "Dec 2023",
                "Mar 2024",
                "Jun 2024"
               ]
              ],
              "y": [
               [
                null,
                11.71,
                16.27,
                16.95,
                39.74,
                52.12,
                66.09,
                34.65,
                48.74,
                32.54,
                33.71,
                30.73,
                37.36,
                36.94
               ]
              ]
             }
            ],
            "label": "FINEORG",
            "method": "restyle"
           },
           {
            "args": [
             {
              "x": [
               [
                "Mar 2021",
                "Jun 2021",
                "Sep 2021",
                "Dec 2021",
                "Mar 2022",
                "Jun 2022",
                "Sep 2022",
                "Dec 2022",
                "Mar 2023",
                "Jun 2023",
                "Sep 2023",
                "Dec 2023",
                "Mar 2024",
                "Jun 2024"
               ]
              ],
              "y": [
               [
                null,
                0.59,
                7.88,
                7.25,
                3.65,
                10.14,
                14.45,
                4.15,
                7.86,
                11.27,
                15.82,
                6.43,
                6.91,
                5.62
               ]
              ]
             }
            ],
            "label": "GMMPFAUDLR",
            "method": "restyle"
           },
           {
            "args": [
             {
              "x": [
               [
                "Mar 2021",
                "Jun 2021",
                "Sep 2021",
                "Dec 2021",
                "Mar 2022",
                "Jun 2022",
                "Sep 2022",
                "Dec 2022",
                "Mar 2023",
                "Jun 2023",
                "Sep 2023",
                "Dec 2023",
                "Mar 2024",
                "Jun 2024"
               ]
              ],
              "y": [
               [
                null,
                0.61,
                1.29,
                1.4,
                9.37,
                1.64,
                1.98,
                2.11,
                14.82,
                4.49,
                2.4,
                2.24,
                16.95,
                18.7
               ]
              ]
             }
            ],
            "label": "GODREJPROP",
            "method": "restyle"
           },
           {
            "args": [
             {
              "x": [
               [
                "Mar 2021",
                "Jun 2021",
                "Sep 2021",
                "Dec 2021",
                "Mar 2022",
                "Jun 2022",
                "Sep 2022",
                "Dec 2022",
                "Mar 2023",
                "Jun 2023",
                "Sep 2023",
                "Dec 2023",
                "Mar 2024",
                "Jun 2024"
               ]
              ],
              "y": [
               [
                null,
                1.44,
                1.72,
                2.23,
                2.12,
                2.05,
                2.3,
                2.26,
                3.63,
                2.61,
                3.07,
                1.98,
                3.21,
                1.59
               ]
              ]
             }
            ],
            "label": "GREENLAM",
            "method": "restyle"
           },
           {
            "args": [
             {
              "x": [
               [
                "Mar 2021",
                "Jun 2021",
                "Sep 2021",
                "Dec 2021",
                "Mar 2022",
                "Jun 2022",
                "Sep 2022",
                "Dec 2022",
                "Mar 2023",
                "Jun 2023",
                "Sep 2023",
                "Dec 2023",
                "Mar 2024",
                "Jun 2024"
               ]
              ],
              "y": [
               [
                4.6,
                2.43,
                5.47,
                5.14,
                6.57,
                6.33,
                5.91,
                3.06,
                5.62,
                3.04,
                3.34,
                2.82,
                2.43,
                null
               ]
              ]
             }
            ],
            "label": "GREENPANEL",
            "method": "restyle"
           },
           {
            "args": [
             {
              "x": [
               [
                "Mar 2021",
                "Jun 2021",
                "Sep 2021",
                "Dec 2021",
                "Mar 2022",
                "Jun 2022",
                "Sep 2022",
                "Dec 2022",
                "Mar 2023",
                "Jun 2023",
                "Sep 2023",
                "Dec 2023",
                "Mar 2024",
                "Jun 2024"
               ]
              ],
              "y": [
               [
                null,
                1.8,
                5.13,
                5.5,
                4.12,
                4.38,
                5.13,
                5.58,
                4.83,
                6.69,
                7.05,
                7.7,
                9.74,
                7.61
               ]
              ]
             }
            ],
            "label": "GRSE",
            "method": "restyle"
           },
           {
            "args": [
             {
              "x": [
               [
                "Mar 2021",
                "Jun 2021",
                "Sep 2021",
                "Dec 2021",
                "Mar 2022",
                "Jun 2022",
                "Sep 2022",
                "Dec 2022",
                "Mar 2023",
                "Jun 2023",
                "Sep 2023",
                "Dec 2023",
                "Mar 2024",
                "Jun 2024"
               ]
              ],
              "y": [
               [
                null,
                2.91,
                12.66,
                13.96,
                46.43,
                9.27,
                18.26,
                17.27,
                42.33,
                12.17,
                18.49,
                18.86,
                64.43,
                21.49
               ]
              ]
             }
            ],
            "label": "HAL",
            "method": "restyle"
           }
          ],
          "direction": "down",
          "showactive": false
         }
        ],
        "xaxis": {
         "autorange": true,
         "range": [
          -0.5,
          13.5
         ],
         "type": "category"
        },
        "yaxis": {
         "autorange": true,
         "range": [
          0,
          6.915789473684211
         ],
         "type": "linear"
        }
       }
      },
      "image/png": "[encoded data removed]",
      "text/html": [
       "<div>                            <div id=\"3e9e206f-a725-4c74-a8ff-6fe9899671f4\" class=\"plotly-graph-div\" style=\"height:525px; width:100%;\"></div>            <script type=\"text/javascript\">                require([\"plotly\"], function(Plotly) {                    window.PLOTLYENV=window.PLOTLYENV || {};                                    if (document.getElementById(\"3e9e206f-a725-4c74-a8ff-6fe9899671f4\")) {                    Plotly.newPlot(                        \"3e9e206f-a725-4c74-a8ff-6fe9899671f4\",                        [{\"name\":\"FINEORG\",\"x\":[\"Mar 2021\",\"Jun 2021\",\"Sep 2021\",\"Dec 2021\",\"Mar 2022\",\"Jun 2022\",\"Sep 2022\",\"Dec 2022\",\"Mar 2023\",\"Jun 2023\",\"Sep 2023\",\"Dec 2023\",\"Mar 2024\",\"Jun 2024\"],\"y\":[null,11.71,16.27,16.95,39.74,52.12,66.09,34.65,48.74,32.54,33.71,30.73,37.36,36.94],\"type\":\"bar\"},{\"name\":\"GMMPFAUDLR\",\"x\":[\"Mar 2021\",\"Jun 2021\",\"Sep 2021\",\"Dec 2021\",\"Mar 2022\",\"Jun 2022\",\"Sep 2022\",\"Dec 2022\",\"Mar 2023\",\"Jun 2023\",\"Sep 2023\",\"Dec 2023\",\"Mar 2024\",\"Jun 2024\"],\"y\":[null,0.59,7.88,7.25,3.65,10.14,14.45,4.15,7.86,11.27,15.82,6.43,6.91,5.62],\"type\":\"bar\"},{\"name\":\"GODREJPROP\",\"x\":[\"Mar 2021\",\"Jun 2021\",\"Sep 2021\",\"Dec 2021\",\"Mar 2022\",\"Jun 2022\",\"Sep 2022\",\"Dec 2022\",\"Mar 2023\",\"Jun 2023\",\"Sep 2023\",\"Dec 2023\",\"Mar 2024\",\"Jun 2024\"],\"y\":[null,0.61,1.29,1.4,9.37,1.64,1.98,2.11,14.82,4.49,2.4,2.24,16.95,18.7],\"type\":\"bar\"},{\"name\":\"GREENLAM\",\"x\":[\"Mar 2021\",\"Jun 2021\",\"Sep 2021\",\"Dec 2021\",\"Mar 2022\",\"Jun 2022\",\"Sep 2022\",\"Dec 2022\",\"Mar 2023\",\"Jun 2023\",\"Sep 2023\",\"Dec 2023\",\"Mar 2024\",\"Jun 2024\"],\"y\":[null,1.44,1.72,2.23,2.12,2.05,2.3,2.26,3.63,2.61,3.07,1.98,3.21,1.59],\"type\":\"bar\"},{\"name\":\"GREENPANEL\",\"x\":[\"Mar 2021\",\"Jun 2021\",\"Sep 2021\",\"Dec 2021\",\"Mar 2022\",\"Jun 2022\",\"Sep 2022\",\"Dec 2022\",\"Mar 2023\",\"Jun 2023\",\"Sep 2023\",\"Dec 2023\",\"Mar 2024\",\"Jun 2024\"],\"y\":[4.6,2.43,5.47,5.14,6.57,6.33,5.91,3.06,5.62,3.04,3.34,2.82,2.43,null],\"type\":\"bar\"},{\"name\":\"GRSE\",\"x\":[\"Mar 2021\",\"Jun 2021\",\"Sep 2021\",\"Dec 2021\",\"Mar 2022\",\"Jun 2022\",\"Sep 2022\",\"Dec 2022\",\"Mar 2023\",\"Jun 2023\",\"Sep 2023\",\"Dec 2023\",\"Mar 2024\",\"Jun 2024\"],\"y\":[null,1.8,5.13,5.5,4.12,4.38,5.13,5.58,4.83,6.69,7.05,7.7,9.74,7.61],\"type\":\"bar\"},{\"name\":\"HAL\",\"x\":[\"Mar 2021\",\"Jun 2021\",\"Sep 2021\",\"Dec 2021\",\"Mar 2022\",\"Jun 2022\",\"Sep 2022\",\"Dec 2022\",\"Mar 2023\",\"Jun 2023\",\"Sep 2023\",\"Dec 2023\",\"Mar 2024\",\"Jun 2024\"],\"y\":[null,2.91,12.66,13.96,46.43,9.27,18.26,17.27,42.33,12.17,18.49,18.86,64.43,21.49],\"type\":\"bar\"}],                        {\"template\":{\"data\":{\"histogram2dcontour\":[{\"type\":\"histogram2dcontour\",\"colorbar\":{\"outlinewidth\":0,\"ticks\":\"\"},\"colorscale\":[[0.0,\"#0d0887\"],[0.1111111111111111,\"#46039f\"],[0.2222222222222222,\"#7201a8\"],[0.3333333333333333,\"#9c179e\"],[0.4444444444444444,\"#bd3786\"],[0.5555555555555556,\"#d8576b\"],[0.6666666666666666,\"#ed7953\"],[0.7777777777777778,\"#fb9f3a\"],[0.8888888888888888,\"#fdca26\"],[1.0,\"#f0f921\"]]}],\"choropleth\":[{\"type\":\"choropleth\",\"colorbar\":{\"outlinewidth\":0,\"ticks\":\"\"}}],\"histogram2d\":[{\"type\":\"histogram2d\",\"colorbar\":{\"outlinewidth\":0,\"ticks\":\"\"},\"colorscale\":[[0.0,\"#0d0887\"],[0.1111111111111111,\"#46039f\"],[0.2222222222222222,\"#7201a8\"],[0.3333333333333333,\"#9c179e\"],[0.4444444444444444,\"#bd3786\"],[0.5555555555555556,\"#d8576b\"],[0.6666666666666666,\"#ed7953\"],[0.7777777777777778,\"#fb9f3a\"],[0.8888888888888888,\"#fdca26\"],[1.0,\"#f0f921\"]]}],\"heatmap\":[{\"type\":\"heatmap\",\"colorbar\":{\"outlinewidth\":0,\"ticks\":\"\"},\"colorscale\":[[0.0,\"#0d0887\"],[0.1111111111111111,\"#46039f\"],[0.2222222222222222,\"#7201a8\"],[0.3333333333333333,\"#9c179e\"],[0.4444444444444444,\"#bd3786\"],[0.5555555555555556,\"#d8576b\"],[0.6666666666666666,\"#ed7953\"],[0.7777777777777778,\"#fb9f3a\"],[0.8888888888888888,\"#fdca26\"],[1.0,\"#f0f921\"]]}],\"heatmapgl\":[{\"type\":\"heatmapgl\",\"colorbar\":{\"outlinewidth\":0,\"ticks\":\"\"},\"colorscale\":[[0.0,\"#0d0887\"],[0.1111111111111111,\"#46039f\"],[0.2222222222222222,\"#7201a8\"],[0.3333333333333333,\"#9c179e\"],[0.4444444444444444,\"#bd3786\"],[0.5555555555555556,\"#d8576b\"],[0.6666666666666666,\"#ed7953\"],[0.7777777777777778,\"#fb9f3a\"],[0.8888888888888888,\"#fdca26\"],[1.0,\"#f0f921\"]]}],\"contourcarpet\":[{\"type\":\"contourcarpet\",\"colorbar\":{\"outlinewidth\":0,\"ticks\":\"\"}}],\"contour\":[{\"type\":\"contour\",\"colorbar\":{\"outlinewidth\":0,\"ticks\":\"\"},\"colorscale\":[[0.0,\"#0d0887\"],[0.1111111111111111,\"#46039f\"],[0.2222222222222222,\"#7201a8\"],[0.3333333333333333,\"#9c179e\"],[0.4444444444444444,\"#bd3786\"],[0.5555555555555556,\"#d8576b\"],[0.6666666666666666,\"#ed7953\"],[0.7777777777777778,\"#fb9f3a\"],[0.8888888888888888,\"#fdca26\"],[1.0,\"#f0f921\"]]}],\"surface\":[{\"type\":\"surface\",\"colorbar\":{\"outlinewidth\":0,\"ticks\":\"\"},\"colorscale\":[[0.0,\"#0d0887\"],[0.1111111111111111,\"#46039f\"],[0.2222222222222222,\"#7201a8\"],[0.3333333333333333,\"#9c179e\"],[0.4444444444444444,\"#bd3786\"],[0.5555555555555556,\"#d8576b\"],[0.6666666666666666,\"#ed7953\"],[0.7777777777777778,\"#fb9f3a\"],[0.8888888888888888,\"#fdca26\"],[1.0,\"#f0f921\"]]}],\"mesh3d\":[{\"type\":\"mesh3d\",\"colorbar\":{\"outlinewidth\":0,\"ticks\":\"\"}}],\"scatter\":[{\"fillpattern\":{\"fillmode\":\"overlay\",\"size\":10,\"solidity\":0.2},\"type\":\"scatter\"}],\"parcoords\":[{\"type\":\"parcoords\",\"line\":{\"colorbar\":{\"outlinewidth\":0,\"ticks\":\"\"}}}],\"scatterpolargl\":[{\"type\":\"scatterpolargl\",\"marker\":{\"colorbar\":{\"outlinewidth\":0,\"ticks\":\"\"}}}],\"bar\":[{\"error_x\":{\"color\":\"#2a3f5f\"},\"error_y\":{\"color\":\"#2a3f5f\"},\"marker\":{\"line\":{\"color\":\"#E5ECF6\",\"width\":0.5},\"pattern\":{\"fillmode\":\"overlay\",\"size\":10,\"solidity\":0.2}},\"type\":\"bar\"}],\"scattergeo\":[{\"type\":\"scattergeo\",\"marker\":{\"colorbar\":{\"outlinewidth\":0,\"ticks\":\"\"}}}],\"scatterpolar\":[{\"type\":\"scatterpolar\",\"marker\":{\"colorbar\":{\"outlinewidth\":0,\"ticks\":\"\"}}}],\"histogram\":[{\"marker\":{\"pattern\":{\"fillmode\":\"overlay\",\"size\":10,\"solidity\":0.2}},\"type\":\"histogram\"}],\"scattergl\":[{\"type\":\"scattergl\",\"marker\":{\"colorbar\":{\"outlinewidth\":0,\"ticks\":\"\"}}}],\"scatter3d\":[{\"type\":\"scatter3d\",\"line\":{\"colorbar\":{\"outlinewidth\":0,\"ticks\":\"\"}},\"marker\":{\"colorbar\":{\"outlinewidth\":0,\"ticks\":\"\"}}}],\"scattermapbox\":[{\"type\":\"scattermapbox\",\"marker\":{\"colorbar\":{\"outlinewidth\":0,\"ticks\":\"\"}}}],\"scatterternary\":[{\"type\":\"scatterternary\",\"marker\":{\"colorbar\":{\"outlinewidth\":0,\"ticks\":\"\"}}}],\"scattercarpet\":[{\"type\":\"scattercarpet\",\"marker\":{\"colorbar\":{\"outlinewidth\":0,\"ticks\":\"\"}}}],\"carpet\":[{\"aaxis\":{\"endlinecolor\":\"#2a3f5f\",\"gridcolor\":\"white\",\"linecolor\":\"white\",\"minorgridcolor\":\"white\",\"startlinecolor\":\"#2a3f5f\"},\"baxis\":{\"endlinecolor\":\"#2a3f5f\",\"gridcolor\":\"white\",\"linecolor\":\"white\",\"minorgridcolor\":\"white\",\"startlinecolor\":\"#2a3f5f\"},\"type\":\"carpet\"}],\"table\":[{\"cells\":{\"fill\":{\"color\":\"#EBF0F8\"},\"line\":{\"color\":\"white\"}},\"header\":{\"fill\":{\"color\":\"#C8D4E3\"},\"line\":{\"color\":\"white\"}},\"type\":\"table\"}],\"barpolar\":[{\"marker\":{\"line\":{\"color\":\"#E5ECF6\",\"width\":0.5},\"pattern\":{\"fillmode\":\"overlay\",\"size\":10,\"solidity\":0.2}},\"type\":\"barpolar\"}],\"pie\":[{\"automargin\":true,\"type\":\"pie\"}]},\"layout\":{\"autotypenumbers\":\"strict\",\"colorway\":[\"#636efa\",\"#EF553B\",\"#00cc96\",\"#ab63fa\",\"#FFA15A\",\"#19d3f3\",\"#FF6692\",\"#B6E880\",\"#FF97FF\",\"#FECB52\"],\"font\":{\"color\":\"#2a3f5f\"},\"hovermode\":\"closest\",\"hoverlabel\":{\"align\":\"left\"},\"paper_bgcolor\":\"white\",\"plot_bgcolor\":\"#E5ECF6\",\"polar\":{\"bgcolor\":\"#E5ECF6\",\"angularaxis\":{\"gridcolor\":\"white\",\"linecolor\":\"white\",\"ticks\":\"\"},\"radialaxis\":{\"gridcolor\":\"white\",\"linecolor\":\"white\",\"ticks\":\"\"}},\"ternary\":{\"bgcolor\":\"#E5ECF6\",\"aaxis\":{\"gridcolor\":\"white\",\"linecolor\":\"white\",\"ticks\":\"\"},\"baxis\":{\"gridcolor\":\"white\",\"linecolor\":\"white\",\"ticks\":\"\"},\"caxis\":{\"gridcolor\":\"white\",\"linecolor\":\"white\",\"ticks\":\"\"}},\"coloraxis\":{\"colorbar\":{\"outlinewidth\":0,\"ticks\":\"\"}},\"colorscale\":{\"sequential\":[[0.0,\"#0d0887\"],[0.1111111111111111,\"#46039f\"],[0.2222222222222222,\"#7201a8\"],[0.3333333333333333,\"#9c179e\"],[0.4444444444444444,\"#bd3786\"],[0.5555555555555556,\"#d8576b\"],[0.6666666666666666,\"#ed7953\"],[0.7777777777777778,\"#fb9f3a\"],[0.8888888888888888,\"#fdca26\"],[1.0,\"#f0f921\"]],\"sequentialminus\":[[0.0,\"#0d0887\"],[0.1111111111111111,\"#46039f\"],[0.2222222222222222,\"#7201a8\"],[0.3333333333333333,\"#9c179e\"],[0.4444444444444444,\"#bd3786\"],[0.5555555555555556,\"#d8576b\"],[0.6666666666666666,\"#ed7953\"],[0.7777777777777778,\"#fb9f3a\"],[0.8888888888888888,\"#fdca26\"],[1.0,\"#f0f921\"]],\"diverging\":[[0,\"#8e0152\"],[0.1,\"#c51b7d\"],[0.2,\"#de77ae\"],[0.3,\"#f1b6da\"],[0.4,\"#fde0ef\"],[0.5,\"#f7f7f7\"],[0.6,\"#e6f5d0\"],[0.7,\"#b8e186\"],[0.8,\"#7fbc41\"],[0.9,\"#4d9221\"],[1,\"#276419\"]]},\"xaxis\":{\"gridcolor\":\"white\",\"linecolor\":\"white\",\"ticks\":\"\",\"title\":{\"standoff\":15},\"zerolinecolor\":\"white\",\"automargin\":true,\"zerolinewidth\":2},\"yaxis\":{\"gridcolor\":\"white\",\"linecolor\":\"white\",\"ticks\":\"\",\"title\":{\"standoff\":15},\"zerolinecolor\":\"white\",\"automargin\":true,\"zerolinewidth\":2},\"scene\":{\"xaxis\":{\"backgroundcolor\":\"#E5ECF6\",\"gridcolor\":\"white\",\"linecolor\":\"white\",\"showbackground\":true,\"ticks\":\"\",\"zerolinecolor\":\"white\",\"gridwidth\":2},\"yaxis\":{\"backgroundcolor\":\"#E5ECF6\",\"gridcolor\":\"white\",\"linecolor\":\"white\",\"showbackground\":true,\"ticks\":\"\",\"zerolinecolor\":\"white\",\"gridwidth\":2},\"zaxis\":{\"backgroundcolor\":\"#E5ECF6\",\"gridcolor\":\"white\",\"linecolor\":\"white\",\"showbackground\":true,\"ticks\":\"\",\"zerolinecolor\":\"white\",\"gridwidth\":2}},\"shapedefaults\":{\"line\":{\"color\":\"#2a3f5f\"}},\"annotationdefaults\":{\"arrowcolor\":\"#2a3f5f\",\"arrowhead\":0,\"arrowwidth\":1},\"geo\":{\"bgcolor\":\"white\",\"landcolor\":\"#E5ECF6\",\"subunitcolor\":\"white\",\"showland\":true,\"showlakes\":true,\"lakecolor\":\"white\"},\"title\":{\"x\":0.05},\"mapbox\":{\"style\":\"light\"}}},\"updatemenus\":[{\"buttons\":[{\"args\":[{\"x\":[[\"Mar 2021\",\"Jun 2021\",\"Sep 2021\",\"Dec 2021\",\"Mar 2022\",\"Jun 2022\",\"Sep 2022\",\"Dec 2022\",\"Mar 2023\",\"Jun 2023\",\"Sep 2023\",\"Dec 2023\",\"Mar 2024\",\"Jun 2024\"]],\"y\":[[null,11.71,16.27,16.95,39.74,52.12,66.09,34.65,48.74,32.54,33.71,30.73,37.36,36.94]]}],\"label\":\"FINEORG\",\"method\":\"restyle\"},{\"args\":[{\"x\":[[\"Mar 2021\",\"Jun 2021\",\"Sep 2021\",\"Dec 2021\",\"Mar 2022\",\"Jun 2022\",\"Sep 2022\",\"Dec 2022\",\"Mar 2023\",\"Jun 2023\",\"Sep 2023\",\"Dec 2023\",\"Mar 2024\",\"Jun 2024\"]],\"y\":[[null,0.59,7.88,7.25,3.65,10.14,14.45,4.15,7.86,11.27,15.82,6.43,6.91,5.62]]}],\"label\":\"GMMPFAUDLR\",\"method\":\"restyle\"},{\"args\":[{\"x\":[[\"Mar 2021\",\"Jun 2021\",\"Sep 2021\",\"Dec 2021\",\"Mar 2022\",\"Jun 2022\",\"Sep 2022\",\"Dec 2022\",\"Mar 2023\",\"Jun 2023\",\"Sep 2023\",\"Dec 2023\",\"Mar 2024\",\"Jun 2024\"]],\"y\":[[null,0.61,1.29,1.4,9.37,1.64,1.98,2.11,14.82,4.49,2.4,2.24,16.95,18.7]]}],\"label\":\"GODREJPROP\",\"method\":\"restyle\"},{\"args\":[{\"x\":[[\"Mar 2021\",\"Jun 2021\",\"Sep 2021\",\"Dec 2021\",\"Mar 2022\",\"Jun 2022\",\"Sep 2022\",\"Dec 2022\",\"Mar 2023\",\"Jun 2023\",\"Sep 2023\",\"Dec 2023\",\"Mar 2024\",\"Jun 2024\"]],\"y\":[[null,1.44,1.72,2.23,2.12,2.05,2.3,2.26,3.63,2.61,3.07,1.98,3.21,1.59]]}],\"label\":\"GREENLAM\",\"method\":\"restyle\"},{\"args\":[{\"x\":[[\"Mar 2021\",\"Jun 2021\",\"Sep 2021\",\"Dec 2021\",\"Mar 2022\",\"Jun 2022\",\"Sep 2022\",\"Dec 2022\",\"Mar 2023\",\"Jun 2023\",\"Sep 2023\",\"Dec 2023\",\"Mar 2024\",\"Jun 2024\"]],\"y\":[[4.6,2.43,5.47,5.14,6.57,6.33,5.91,3.06,5.62,3.04,3.34,2.82,2.43,null]]}],\"label\":\"GREENPANEL\",\"method\":\"restyle\"},{\"args\":[{\"x\":[[\"Mar 2021\",\"Jun 2021\",\"Sep 2021\",\"Dec 2021\",\"Mar 2022\",\"Jun 2022\",\"Sep 2022\",\"Dec 2022\",\"Mar 2023\",\"Jun 2023\",\"Sep 2023\",\"Dec 2023\",\"Mar 2024\",\"Jun 2024\"]],\"y\":[[null,1.8,5.13,5.5,4.12,4.38,5.13,5.58,4.83,6.69,7.05,7.7,9.74,7.61]]}],\"label\":\"GRSE\",\"method\":\"restyle\"},{\"args\":[{\"x\":[[\"Mar 2021\",\"Jun 2021\",\"Sep 2021\",\"Dec 2021\",\"Mar 2022\",\"Jun 2022\",\"Sep 2022\",\"Dec 2022\",\"Mar 2023\",\"Jun 2023\",\"Sep 2023\",\"Dec 2023\",\"Mar 2024\",\"Jun 2024\"]],\"y\":[[null,2.91,12.66,13.96,46.43,9.27,18.26,17.27,42.33,12.17,18.49,18.86,64.43,21.49]]}],\"label\":\"HAL\",\"method\":\"restyle\"}],\"direction\":\"down\",\"showactive\":false}]},                        {\"responsive\": true}                    ).then(function(){\n",
       "                            \n",
       "var gd = document.getElementById('3e9e206f-a725-4c74-a8ff-6fe9899671f4');\n",
       "var x = new MutationObserver(function (mutations, observer) {{\n",
       "        var display = window.getComputedStyle(gd).display;\n",
       "        if (!display || display === 'none') {{\n",
       "            console.log([gd, 'removed!']);\n",
       "            Plotly.purge(gd);\n",
       "            observer.disconnect();\n",
       "        }}\n",
       "}});\n",
       "\n",
       "// Listen for the removal of the full notebook cells\n",
       "var notebookContainer = gd.closest('#notebook-container');\n",
       "if (notebookContainer) {{\n",
       "    x.observe(notebookContainer, {childList: true});\n",
       "}}\n",
       "\n",
       "// Listen for the clearing of the current output cell\n",
       "var outputEl = gd.closest('.output');\n",
       "if (outputEl) {{\n",
       "    x.observe(outputEl, {childList: true});\n",
       "}}\n",
       "\n",
       "                        })                };                });            </script>        </div>"
      ]
     },
     "metadata": {},
     "output_type": "display_data"
    }
   ],
   "source": [
    "# https://stackoverflow.com/a/45391884/1176573\n",
    "\n",
    "# plotly setup\n",
    "fig = go.Figure()\n",
    "\n",
    "# Add traces, starting from First Column. Each column is a stock data.\n",
    "for mycolumn in df.columns[start_limit:end_limit]:\n",
    "    #fig.add_traces( go.Scatter(x=list(df.Quarters), y=list(df[mycolumn]), name=mycolumn,) )\n",
    "    fig.add_traces( go.Bar(x=list(df.Quarters), y=list(df[mycolumn]), name=mycolumn,) )\n",
    "\n",
    "button_list = []\n",
    "\n",
    "for mycolumn in df.columns[start_limit:end_limit]:\n",
    "    button_list.append(\n",
    "        {\n",
    "            'method': 'restyle', # restyle , update\n",
    "            'label': mycolumn,\n",
    "            'args': [ { 'x': [list(df['Quarters'])]  , 'y': [list(df[mycolumn])]  } ]\n",
    "        }\n",
    "    )\n",
    "\n",
    "updatemenus = [\n",
    "    { 'buttons':  button_list,\n",
    "      'direction': 'down',\n",
    "      'showactive': False,\n",
    "    }\n",
    "]\n",
    "\n",
    "# update layout with buttons, and show the figure\n",
    "fig.update_layout(updatemenus=updatemenus)\n",
    "fig.show()\n"
   ]
  },
  {
   "cell_type": "code",
   "execution_count": 16,
   "id": "99b4fb8a-dca4-4264-aab8-cf1dabeda4fd",
   "metadata": {},
   "outputs": [],
   "source": []
  },
  {
   "cell_type": "code",
   "execution_count": null,
   "id": "eb3a9735-e9b1-4bc2-bfe6-a439efaa0c65",
   "metadata": {},
   "outputs": [],
   "source": []
  }
 ],
 "metadata": {
  "kernelspec": {
   "display_name": "rswarnka",
   "language": "python",
   "name": "rswarnka"
  },
  "language_info": {
   "codemirror_mode": {
    "name": "ipython",
    "version": 3
   },
   "file_extension": ".py",
   "mimetype": "text/x-python",
   "name": "python",
   "nbconvert_exporter": "python",
   "pygments_lexer": "ipython3",
   "version": "3.11.4"
  }
 },
 "nbformat": 4,
 "nbformat_minor": 5
}
