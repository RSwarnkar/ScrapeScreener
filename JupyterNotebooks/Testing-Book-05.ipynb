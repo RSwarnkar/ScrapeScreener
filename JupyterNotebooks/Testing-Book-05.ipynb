{
 "cells": [
  {
   "cell_type": "code",
   "execution_count": 19,
   "id": "c4028572-d977-47f0-aa2b-4229b9877632",
   "metadata": {},
   "outputs": [],
   "source": [
    "import plotly.graph_objects as go\n",
    "import pandas as pd \n"
   ]
  },
  {
   "cell_type": "code",
   "execution_count": 20,
   "id": "8722e721-ac6a-4f80-a571-1b54b04e083c",
   "metadata": {},
   "outputs": [
    {
     "data": {
      "text/html": [
       "<div>\n",
       "<style scoped>\n",
       "    .dataframe tbody tr th:only-of-type {\n",
       "        vertical-align: middle;\n",
       "    }\n",
       "\n",
       "    .dataframe tbody tr th {\n",
       "        vertical-align: top;\n",
       "    }\n",
       "\n",
       "    .dataframe thead th {\n",
       "        text-align: right;\n",
       "    }\n",
       "</style>\n",
       "<table border=\"1\" class=\"dataframe\">\n",
       "  <thead>\n",
       "    <tr style=\"text-align: right;\">\n",
       "      <th></th>\n",
       "      <th>Quarters</th>\n",
       "      <th>526433</th>\n",
       "      <th>532407</th>\n",
       "      <th>544021</th>\n",
       "      <th>AARTIDRUGS</th>\n",
       "      <th>AARTIIND</th>\n",
       "      <th>AARTIPHARM</th>\n",
       "      <th>AARTISURF</th>\n",
       "      <th>ABB</th>\n",
       "      <th>ACC</th>\n",
       "      <th>...</th>\n",
       "      <th>UNITDSPR</th>\n",
       "      <th>UNOMINDA</th>\n",
       "      <th>VBL</th>\n",
       "      <th>VINATIORGA</th>\n",
       "      <th>MANYAVAR</th>\n",
       "      <th>VOLTAS</th>\n",
       "      <th>WESTLIFE</th>\n",
       "      <th>WIPRO</th>\n",
       "      <th>YASHO</th>\n",
       "      <th>ZENTEC</th>\n",
       "    </tr>\n",
       "  </thead>\n",
       "  <tbody>\n",
       "    <tr>\n",
       "      <th>0</th>\n",
       "      <td>Mar 2021</td>\n",
       "      <td>NaN</td>\n",
       "      <td>NaN</td>\n",
       "      <td>NaN</td>\n",
       "      <td>NaN</td>\n",
       "      <td>NaN</td>\n",
       "      <td>NaN</td>\n",
       "      <td>NaN</td>\n",
       "      <td>NaN</td>\n",
       "      <td>NaN</td>\n",
       "      <td>...</td>\n",
       "      <td>NaN</td>\n",
       "      <td>NaN</td>\n",
       "      <td>NaN</td>\n",
       "      <td>NaN</td>\n",
       "      <td>NaN</td>\n",
       "      <td>NaN</td>\n",
       "      <td>NaN</td>\n",
       "      <td>NaN</td>\n",
       "      <td>NaN</td>\n",
       "      <td>NaN</td>\n",
       "    </tr>\n",
       "    <tr>\n",
       "      <th>1</th>\n",
       "      <td>Jun 2021</td>\n",
       "      <td>2.99</td>\n",
       "      <td>0.11</td>\n",
       "      <td>NaN</td>\n",
       "      <td>5.27</td>\n",
       "      <td>4.55</td>\n",
       "      <td>NaN</td>\n",
       "      <td>5.32</td>\n",
       "      <td>3.32</td>\n",
       "      <td>30.32</td>\n",
       "      <td>...</td>\n",
       "      <td>0.76</td>\n",
       "      <td>0.28</td>\n",
       "      <td>2.37</td>\n",
       "      <td>7.87</td>\n",
       "      <td>3.65</td>\n",
       "      <td>3.68</td>\n",
       "      <td>-2.14</td>\n",
       "      <td>5.92</td>\n",
       "      <td>10.01</td>\n",
       "      <td>-0.14</td>\n",
       "    </tr>\n",
       "    <tr>\n",
       "      <th>2</th>\n",
       "      <td>Sep 2021</td>\n",
       "      <td>3.77</td>\n",
       "      <td>0.10</td>\n",
       "      <td>NaN</td>\n",
       "      <td>4.60</td>\n",
       "      <td>4.14</td>\n",
       "      <td>NaN</td>\n",
       "      <td>0.98</td>\n",
       "      <td>5.66</td>\n",
       "      <td>23.97</td>\n",
       "      <td>...</td>\n",
       "      <td>4.02</td>\n",
       "      <td>1.66</td>\n",
       "      <td>1.85</td>\n",
       "      <td>7.91</td>\n",
       "      <td>2.20</td>\n",
       "      <td>3.13</td>\n",
       "      <td>-0.28</td>\n",
       "      <td>5.35</td>\n",
       "      <td>12.44</td>\n",
       "      <td>-0.00</td>\n",
       "    </tr>\n",
       "    <tr>\n",
       "      <th>3</th>\n",
       "      <td>Dec 2021</td>\n",
       "      <td>4.30</td>\n",
       "      <td>0.13</td>\n",
       "      <td>NaN</td>\n",
       "      <td>6.29</td>\n",
       "      <td>20.01</td>\n",
       "      <td>NaN</td>\n",
       "      <td>-2.62</td>\n",
       "      <td>8.88</td>\n",
       "      <td>14.95</td>\n",
       "      <td>...</td>\n",
       "      <td>4.12</td>\n",
       "      <td>1.77</td>\n",
       "      <td>0.13</td>\n",
       "      <td>8.10</td>\n",
       "      <td>5.27</td>\n",
       "      <td>2.90</td>\n",
       "      <td>1.34</td>\n",
       "      <td>5.42</td>\n",
       "      <td>12.71</td>\n",
       "      <td>-0.02</td>\n",
       "    </tr>\n",
       "    <tr>\n",
       "      <th>4</th>\n",
       "      <td>Mar 2022</td>\n",
       "      <td>1.54</td>\n",
       "      <td>0.06</td>\n",
       "      <td>NaN</td>\n",
       "      <td>5.98</td>\n",
       "      <td>5.34</td>\n",
       "      <td>NaN</td>\n",
       "      <td>2.79</td>\n",
       "      <td>17.61</td>\n",
       "      <td>21.10</td>\n",
       "      <td>...</td>\n",
       "      <td>2.50</td>\n",
       "      <td>2.53</td>\n",
       "      <td>1.96</td>\n",
       "      <td>9.84</td>\n",
       "      <td>3.65</td>\n",
       "      <td>5.52</td>\n",
       "      <td>0.98</td>\n",
       "      <td>5.63</td>\n",
       "      <td>11.69</td>\n",
       "      <td>0.42</td>\n",
       "    </tr>\n",
       "  </tbody>\n",
       "</table>\n",
       "<p>5 rows × 161 columns</p>\n",
       "</div>"
      ],
      "text/plain": [
       "   Quarters  526433  532407  544021  AARTIDRUGS  AARTIIND  AARTIPHARM  \\\n",
       "0  Mar 2021     NaN     NaN     NaN         NaN       NaN         NaN   \n",
       "1  Jun 2021    2.99    0.11     NaN        5.27      4.55         NaN   \n",
       "2  Sep 2021    3.77    0.10     NaN        4.60      4.14         NaN   \n",
       "3  Dec 2021    4.30    0.13     NaN        6.29     20.01         NaN   \n",
       "4  Mar 2022    1.54    0.06     NaN        5.98      5.34         NaN   \n",
       "\n",
       "   AARTISURF    ABB    ACC  ...  UNITDSPR  UNOMINDA   VBL  VINATIORGA  \\\n",
       "0        NaN    NaN    NaN  ...       NaN       NaN   NaN         NaN   \n",
       "1       5.32   3.32  30.32  ...      0.76      0.28  2.37        7.87   \n",
       "2       0.98   5.66  23.97  ...      4.02      1.66  1.85        7.91   \n",
       "3      -2.62   8.88  14.95  ...      4.12      1.77  0.13        8.10   \n",
       "4       2.79  17.61  21.10  ...      2.50      2.53  1.96        9.84   \n",
       "\n",
       "   MANYAVAR  VOLTAS  WESTLIFE  WIPRO  YASHO  ZENTEC  \n",
       "0       NaN     NaN       NaN    NaN    NaN     NaN  \n",
       "1      3.65    3.68     -2.14   5.92  10.01   -0.14  \n",
       "2      2.20    3.13     -0.28   5.35  12.44   -0.00  \n",
       "3      5.27    2.90      1.34   5.42  12.71   -0.02  \n",
       "4      3.65    5.52      0.98   5.63  11.69    0.42  \n",
       "\n",
       "[5 rows x 161 columns]"
      ]
     },
     "execution_count": 20,
     "metadata": {},
     "output_type": "execute_result"
    }
   ],
   "source": [
    "## CAREFULLY UPDATE THIS. \n",
    "##  ../Output/SummaryReport/Summary02-Quarterly-Results-yyyymmdd-HHMMSS.csv\n",
    "\n",
    "input_cvs_file = \"../Output/SummaryReports/\" + \"Visual01-EPS-20240818-105615.csv\"\n",
    "\n",
    "df = pd.read_csv(input_cvs_file)\n",
    "df.rename( columns={'Unnamed: 0':'Quarters'}, inplace=True )\n",
    "df.head(5)"
   ]
  },
  {
   "cell_type": "code",
   "execution_count": 21,
   "id": "7602cb48-87d8-4ddf-bba9-6cb24337629c",
   "metadata": {},
   "outputs": [],
   "source": [
    "start_limit = 50\n",
    "end_limit = 57"
   ]
  },
  {
   "cell_type": "code",
   "execution_count": 26,
   "id": "78a24706-d170-47a4-9914-dfba6a82e658",
   "metadata": {},
   "outputs": [
    {
     "data": {
      "application/vnd.plotly.v1+json": {
       "config": {
        "plotlyServerURL": "https://plot.ly"
       },
       "data": [
        {
         "name": "FINEORG",
         "type": "bar",
         "x": [
          "Mar 2021",
          "Jun 2021",
          "Sep 2021",
          "Dec 2021",
          "Mar 2022",
          "Jun 2022",
          "Sep 2022",
          "Dec 2022",
          "Mar 2023",
          "Jun 2023",
          "Sep 2023",
          "Dec 2023",
          "Mar 2024",
          "Jun 2024"
         ],
         "y": [
          null,
          1.8,
          5.13,
          5.5,
          4.12,
          4.38,
          5.13,
          5.58,
          4.83,
          6.69,
          7.05,
          7.7,
          9.74,
          7.61
         ]
        },
        {
         "name": "GMMPFAUDLR",
         "type": "bar",
         "x": [
          "Mar 2021",
          "Jun 2021",
          "Sep 2021",
          "Dec 2021",
          "Mar 2022",
          "Jun 2022",
          "Sep 2022",
          "Dec 2022",
          "Mar 2023",
          "Jun 2023",
          "Sep 2023",
          "Dec 2023",
          "Mar 2024",
          "Jun 2024"
         ],
         "y": [
          null,
          1.8,
          5.13,
          5.5,
          4.12,
          4.38,
          5.13,
          5.58,
          4.83,
          6.69,
          7.05,
          7.7,
          9.74,
          7.61
         ]
        },
        {
         "name": "GODREJPROP",
         "type": "bar",
         "x": [
          "Mar 2021",
          "Jun 2021",
          "Sep 2021",
          "Dec 2021",
          "Mar 2022",
          "Jun 2022",
          "Sep 2022",
          "Dec 2022",
          "Mar 2023",
          "Jun 2023",
          "Sep 2023",
          "Dec 2023",
          "Mar 2024",
          "Jun 2024"
         ],
         "y": [
          null,
          1.8,
          5.13,
          5.5,
          4.12,
          4.38,
          5.13,
          5.58,
          4.83,
          6.69,
          7.05,
          7.7,
          9.74,
          7.61
         ]
        },
        {
         "name": "GREENLAM",
         "type": "bar",
         "x": [
          "Mar 2021",
          "Jun 2021",
          "Sep 2021",
          "Dec 2021",
          "Mar 2022",
          "Jun 2022",
          "Sep 2022",
          "Dec 2022",
          "Mar 2023",
          "Jun 2023",
          "Sep 2023",
          "Dec 2023",
          "Mar 2024",
          "Jun 2024"
         ],
         "y": [
          null,
          1.8,
          5.13,
          5.5,
          4.12,
          4.38,
          5.13,
          5.58,
          4.83,
          6.69,
          7.05,
          7.7,
          9.74,
          7.61
         ]
        },
        {
         "name": "GREENPANEL",
         "type": "bar",
         "x": [
          "Mar 2021",
          "Jun 2021",
          "Sep 2021",
          "Dec 2021",
          "Mar 2022",
          "Jun 2022",
          "Sep 2022",
          "Dec 2022",
          "Mar 2023",
          "Jun 2023",
          "Sep 2023",
          "Dec 2023",
          "Mar 2024",
          "Jun 2024"
         ],
         "y": [
          null,
          1.8,
          5.13,
          5.5,
          4.12,
          4.38,
          5.13,
          5.58,
          4.83,
          6.69,
          7.05,
          7.7,
          9.74,
          7.61
         ]
        },
        {
         "name": "GRSE",
         "type": "bar",
         "x": [
          "Mar 2021",
          "Jun 2021",
          "Sep 2021",
          "Dec 2021",
          "Mar 2022",
          "Jun 2022",
          "Sep 2022",
          "Dec 2022",
          "Mar 2023",
          "Jun 2023",
          "Sep 2023",
          "Dec 2023",
          "Mar 2024",
          "Jun 2024"
         ],
         "y": [
          null,
          1.8,
          5.13,
          5.5,
          4.12,
          4.38,
          5.13,
          5.58,
          4.83,
          6.69,
          7.05,
          7.7,
          9.74,
          7.61
         ]
        },
        {
         "name": "HAL",
         "type": "bar",
         "x": [
          "Mar 2021",
          "Jun 2021",
          "Sep 2021",
          "Dec 2021",
          "Mar 2022",
          "Jun 2022",
          "Sep 2022",
          "Dec 2022",
          "Mar 2023",
          "Jun 2023",
          "Sep 2023",
          "Dec 2023",
          "Mar 2024",
          "Jun 2024"
         ],
         "y": [
          null,
          1.8,
          5.13,
          5.5,
          4.12,
          4.38,
          5.13,
          5.58,
          4.83,
          6.69,
          7.05,
          7.7,
          9.74,
          7.61
         ]
        }
       ],
       "layout": {
        "autosize": true,
        "template": {
         "data": {
          "bar": [
           {
            "error_x": {
             "color": "#2a3f5f"
            },
            "error_y": {
             "color": "#2a3f5f"
            },
            "marker": {
             "line": {
              "color": "#E5ECF6",
              "width": 0.5
             },
             "pattern": {
              "fillmode": "overlay",
              "size": 10,
              "solidity": 0.2
             }
            },
            "type": "bar"
           }
          ],
          "barpolar": [
           {
            "marker": {
             "line": {
              "color": "#E5ECF6",
              "width": 0.5
             },
             "pattern": {
              "fillmode": "overlay",
              "size": 10,
              "solidity": 0.2
             }
            },
            "type": "barpolar"
           }
          ],
          "carpet": [
           {
            "aaxis": {
             "endlinecolor": "#2a3f5f",
             "gridcolor": "white",
             "linecolor": "white",
             "minorgridcolor": "white",
             "startlinecolor": "#2a3f5f"
            },
            "baxis": {
             "endlinecolor": "#2a3f5f",
             "gridcolor": "white",
             "linecolor": "white",
             "minorgridcolor": "white",
             "startlinecolor": "#2a3f5f"
            },
            "type": "carpet"
           }
          ],
          "choropleth": [
           {
            "colorbar": {
             "outlinewidth": 0,
             "ticks": ""
            },
            "type": "choropleth"
           }
          ],
          "contour": [
           {
            "colorbar": {
             "outlinewidth": 0,
             "ticks": ""
            },
            "colorscale": [
             [
              0,
              "#0d0887"
             ],
             [
              0.1111111111111111,
              "#46039f"
             ],
             [
              0.2222222222222222,
              "#7201a8"
             ],
             [
              0.3333333333333333,
              "#9c179e"
             ],
             [
              0.4444444444444444,
              "#bd3786"
             ],
             [
              0.5555555555555556,
              "#d8576b"
             ],
             [
              0.6666666666666666,
              "#ed7953"
             ],
             [
              0.7777777777777778,
              "#fb9f3a"
             ],
             [
              0.8888888888888888,
              "#fdca26"
             ],
             [
              1,
              "#f0f921"
             ]
            ],
            "type": "contour"
           }
          ],
          "contourcarpet": [
           {
            "colorbar": {
             "outlinewidth": 0,
             "ticks": ""
            },
            "type": "contourcarpet"
           }
          ],
          "heatmap": [
           {
            "colorbar": {
             "outlinewidth": 0,
             "ticks": ""
            },
            "colorscale": [
             [
              0,
              "#0d0887"
             ],
             [
              0.1111111111111111,
              "#46039f"
             ],
             [
              0.2222222222222222,
              "#7201a8"
             ],
             [
              0.3333333333333333,
              "#9c179e"
             ],
             [
              0.4444444444444444,
              "#bd3786"
             ],
             [
              0.5555555555555556,
              "#d8576b"
             ],
             [
              0.6666666666666666,
              "#ed7953"
             ],
             [
              0.7777777777777778,
              "#fb9f3a"
             ],
             [
              0.8888888888888888,
              "#fdca26"
             ],
             [
              1,
              "#f0f921"
             ]
            ],
            "type": "heatmap"
           }
          ],
          "heatmapgl": [
           {
            "colorbar": {
             "outlinewidth": 0,
             "ticks": ""
            },
            "colorscale": [
             [
              0,
              "#0d0887"
             ],
             [
              0.1111111111111111,
              "#46039f"
             ],
             [
              0.2222222222222222,
              "#7201a8"
             ],
             [
              0.3333333333333333,
              "#9c179e"
             ],
             [
              0.4444444444444444,
              "#bd3786"
             ],
             [
              0.5555555555555556,
              "#d8576b"
             ],
             [
              0.6666666666666666,
              "#ed7953"
             ],
             [
              0.7777777777777778,
              "#fb9f3a"
             ],
             [
              0.8888888888888888,
              "#fdca26"
             ],
             [
              1,
              "#f0f921"
             ]
            ],
            "type": "heatmapgl"
           }
          ],
          "histogram": [
           {
            "marker": {
             "pattern": {
              "fillmode": "overlay",
              "size": 10,
              "solidity": 0.2
             }
            },
            "type": "histogram"
           }
          ],
          "histogram2d": [
           {
            "colorbar": {
             "outlinewidth": 0,
             "ticks": ""
            },
            "colorscale": [
             [
              0,
              "#0d0887"
             ],
             [
              0.1111111111111111,
              "#46039f"
             ],
             [
              0.2222222222222222,
              "#7201a8"
             ],
             [
              0.3333333333333333,
              "#9c179e"
             ],
             [
              0.4444444444444444,
              "#bd3786"
             ],
             [
              0.5555555555555556,
              "#d8576b"
             ],
             [
              0.6666666666666666,
              "#ed7953"
             ],
             [
              0.7777777777777778,
              "#fb9f3a"
             ],
             [
              0.8888888888888888,
              "#fdca26"
             ],
             [
              1,
              "#f0f921"
             ]
            ],
            "type": "histogram2d"
           }
          ],
          "histogram2dcontour": [
           {
            "colorbar": {
             "outlinewidth": 0,
             "ticks": ""
            },
            "colorscale": [
             [
              0,
              "#0d0887"
             ],
             [
              0.1111111111111111,
              "#46039f"
             ],
             [
              0.2222222222222222,
              "#7201a8"
             ],
             [
              0.3333333333333333,
              "#9c179e"
             ],
             [
              0.4444444444444444,
              "#bd3786"
             ],
             [
              0.5555555555555556,
              "#d8576b"
             ],
             [
              0.6666666666666666,
              "#ed7953"
             ],
             [
              0.7777777777777778,
              "#fb9f3a"
             ],
             [
              0.8888888888888888,
              "#fdca26"
             ],
             [
              1,
              "#f0f921"
             ]
            ],
            "type": "histogram2dcontour"
           }
          ],
          "mesh3d": [
           {
            "colorbar": {
             "outlinewidth": 0,
             "ticks": ""
            },
            "type": "mesh3d"
           }
          ],
          "parcoords": [
           {
            "line": {
             "colorbar": {
              "outlinewidth": 0,
              "ticks": ""
             }
            },
            "type": "parcoords"
           }
          ],
          "pie": [
           {
            "automargin": true,
            "type": "pie"
           }
          ],
          "scatter": [
           {
            "fillpattern": {
             "fillmode": "overlay",
             "size": 10,
             "solidity": 0.2
            },
            "type": "scatter"
           }
          ],
          "scatter3d": [
           {
            "line": {
             "colorbar": {
              "outlinewidth": 0,
              "ticks": ""
             }
            },
            "marker": {
             "colorbar": {
              "outlinewidth": 0,
              "ticks": ""
             }
            },
            "type": "scatter3d"
           }
          ],
          "scattercarpet": [
           {
            "marker": {
             "colorbar": {
              "outlinewidth": 0,
              "ticks": ""
             }
            },
            "type": "scattercarpet"
           }
          ],
          "scattergeo": [
           {
            "marker": {
             "colorbar": {
              "outlinewidth": 0,
              "ticks": ""
             }
            },
            "type": "scattergeo"
           }
          ],
          "scattergl": [
           {
            "marker": {
             "colorbar": {
              "outlinewidth": 0,
              "ticks": ""
             }
            },
            "type": "scattergl"
           }
          ],
          "scattermapbox": [
           {
            "marker": {
             "colorbar": {
              "outlinewidth": 0,
              "ticks": ""
             }
            },
            "type": "scattermapbox"
           }
          ],
          "scatterpolar": [
           {
            "marker": {
             "colorbar": {
              "outlinewidth": 0,
              "ticks": ""
             }
            },
            "type": "scatterpolar"
           }
          ],
          "scatterpolargl": [
           {
            "marker": {
             "colorbar": {
              "outlinewidth": 0,
              "ticks": ""
             }
            },
            "type": "scatterpolargl"
           }
          ],
          "scatterternary": [
           {
            "marker": {
             "colorbar": {
              "outlinewidth": 0,
              "ticks": ""
             }
            },
            "type": "scatterternary"
           }
          ],
          "surface": [
           {
            "colorbar": {
             "outlinewidth": 0,
             "ticks": ""
            },
            "colorscale": [
             [
              0,
              "#0d0887"
             ],
             [
              0.1111111111111111,
              "#46039f"
             ],
             [
              0.2222222222222222,
              "#7201a8"
             ],
             [
              0.3333333333333333,
              "#9c179e"
             ],
             [
              0.4444444444444444,
              "#bd3786"
             ],
             [
              0.5555555555555556,
              "#d8576b"
             ],
             [
              0.6666666666666666,
              "#ed7953"
             ],
             [
              0.7777777777777778,
              "#fb9f3a"
             ],
             [
              0.8888888888888888,
              "#fdca26"
             ],
             [
              1,
              "#f0f921"
             ]
            ],
            "type": "surface"
           }
          ],
          "table": [
           {
            "cells": {
             "fill": {
              "color": "#EBF0F8"
             },
             "line": {
              "color": "white"
             }
            },
            "header": {
             "fill": {
              "color": "#C8D4E3"
             },
             "line": {
              "color": "white"
             }
            },
            "type": "table"
           }
          ]
         },
         "layout": {
          "annotationdefaults": {
           "arrowcolor": "#2a3f5f",
           "arrowhead": 0,
           "arrowwidth": 1
          },
          "autotypenumbers": "strict",
          "coloraxis": {
           "colorbar": {
            "outlinewidth": 0,
            "ticks": ""
           }
          },
          "colorscale": {
           "diverging": [
            [
             0,
             "#8e0152"
            ],
            [
             0.1,
             "#c51b7d"
            ],
            [
             0.2,
             "#de77ae"
            ],
            [
             0.3,
             "#f1b6da"
            ],
            [
             0.4,
             "#fde0ef"
            ],
            [
             0.5,
             "#f7f7f7"
            ],
            [
             0.6,
             "#e6f5d0"
            ],
            [
             0.7,
             "#b8e186"
            ],
            [
             0.8,
             "#7fbc41"
            ],
            [
             0.9,
             "#4d9221"
            ],
            [
             1,
             "#276419"
            ]
           ],
           "sequential": [
            [
             0,
             "#0d0887"
            ],
            [
             0.1111111111111111,
             "#46039f"
            ],
            [
             0.2222222222222222,
             "#7201a8"
            ],
            [
             0.3333333333333333,
             "#9c179e"
            ],
            [
             0.4444444444444444,
             "#bd3786"
            ],
            [
             0.5555555555555556,
             "#d8576b"
            ],
            [
             0.6666666666666666,
             "#ed7953"
            ],
            [
             0.7777777777777778,
             "#fb9f3a"
            ],
            [
             0.8888888888888888,
             "#fdca26"
            ],
            [
             1,
             "#f0f921"
            ]
           ],
           "sequentialminus": [
            [
             0,
             "#0d0887"
            ],
            [
             0.1111111111111111,
             "#46039f"
            ],
            [
             0.2222222222222222,
             "#7201a8"
            ],
            [
             0.3333333333333333,
             "#9c179e"
            ],
            [
             0.4444444444444444,
             "#bd3786"
            ],
            [
             0.5555555555555556,
             "#d8576b"
            ],
            [
             0.6666666666666666,
             "#ed7953"
            ],
            [
             0.7777777777777778,
             "#fb9f3a"
            ],
            [
             0.8888888888888888,
             "#fdca26"
            ],
            [
             1,
             "#f0f921"
            ]
           ]
          },
          "colorway": [
           "#636efa",
           "#EF553B",
           "#00cc96",
           "#ab63fa",
           "#FFA15A",
           "#19d3f3",
           "#FF6692",
           "#B6E880",
           "#FF97FF",
           "#FECB52"
          ],
          "font": {
           "color": "#2a3f5f"
          },
          "geo": {
           "bgcolor": "white",
           "lakecolor": "white",
           "landcolor": "#E5ECF6",
           "showlakes": true,
           "showland": true,
           "subunitcolor": "white"
          },
          "hoverlabel": {
           "align": "left"
          },
          "hovermode": "closest",
          "mapbox": {
           "style": "light"
          },
          "paper_bgcolor": "white",
          "plot_bgcolor": "#E5ECF6",
          "polar": {
           "angularaxis": {
            "gridcolor": "white",
            "linecolor": "white",
            "ticks": ""
           },
           "bgcolor": "#E5ECF6",
           "radialaxis": {
            "gridcolor": "white",
            "linecolor": "white",
            "ticks": ""
           }
          },
          "scene": {
           "xaxis": {
            "backgroundcolor": "#E5ECF6",
            "gridcolor": "white",
            "gridwidth": 2,
            "linecolor": "white",
            "showbackground": true,
            "ticks": "",
            "zerolinecolor": "white"
           },
           "yaxis": {
            "backgroundcolor": "#E5ECF6",
            "gridcolor": "white",
            "gridwidth": 2,
            "linecolor": "white",
            "showbackground": true,
            "ticks": "",
            "zerolinecolor": "white"
           },
           "zaxis": {
            "backgroundcolor": "#E5ECF6",
            "gridcolor": "white",
            "gridwidth": 2,
            "linecolor": "white",
            "showbackground": true,
            "ticks": "",
            "zerolinecolor": "white"
           }
          },
          "shapedefaults": {
           "line": {
            "color": "#2a3f5f"
           }
          },
          "ternary": {
           "aaxis": {
            "gridcolor": "white",
            "linecolor": "white",
            "ticks": ""
           },
           "baxis": {
            "gridcolor": "white",
            "linecolor": "white",
            "ticks": ""
           },
           "bgcolor": "#E5ECF6",
           "caxis": {
            "gridcolor": "white",
            "linecolor": "white",
            "ticks": ""
           }
          },
          "title": {
           "x": 0.05
          },
          "xaxis": {
           "automargin": true,
           "gridcolor": "white",
           "linecolor": "white",
           "ticks": "",
           "title": {
            "standoff": 15
           },
           "zerolinecolor": "white",
           "zerolinewidth": 2
          },
          "yaxis": {
           "automargin": true,
           "gridcolor": "white",
           "linecolor": "white",
           "ticks": "",
           "title": {
            "standoff": 15
           },
           "zerolinecolor": "white",
           "zerolinewidth": 2
          }
         }
        },
        "updatemenus": [
         {
          "active": 5,
          "buttons": [
           {
            "args": [
             {
              "x": [
               [
                "Mar 2021",
                "Jun 2021",
                "Sep 2021",
                "Dec 2021",
                "Mar 2022",
                "Jun 2022",
                "Sep 2022",
                "Dec 2022",
                "Mar 2023",
                "Jun 2023",
                "Sep 2023",
                "Dec 2023",
                "Mar 2024",
                "Jun 2024"
               ]
              ],
              "y": [
               [
                null,
                11.71,
                16.27,
                16.95,
                39.74,
                52.12,
                66.09,
                34.65,
                48.74,
                32.54,
                33.71,
                30.73,
                37.36,
                36.94
               ]
              ]
             }
            ],
            "label": "FINEORG",
            "method": "restyle"
           },
           {
            "args": [
             {
              "x": [
               [
                "Mar 2021",
                "Jun 2021",
                "Sep 2021",
                "Dec 2021",
                "Mar 2022",
                "Jun 2022",
                "Sep 2022",
                "Dec 2022",
                "Mar 2023",
                "Jun 2023",
                "Sep 2023",
                "Dec 2023",
                "Mar 2024",
                "Jun 2024"
               ]
              ],
              "y": [
               [
                null,
                0.59,
                7.88,
                7.25,
                3.65,
                10.14,
                14.45,
                4.15,
                7.86,
                11.27,
                15.82,
                6.43,
                6.91,
                5.62
               ]
              ]
             }
            ],
            "label": "GMMPFAUDLR",
            "method": "restyle"
           },
           {
            "args": [
             {
              "x": [
               [
                "Mar 2021",
                "Jun 2021",
                "Sep 2021",
                "Dec 2021",
                "Mar 2022",
                "Jun 2022",
                "Sep 2022",
                "Dec 2022",
                "Mar 2023",
                "Jun 2023",
                "Sep 2023",
                "Dec 2023",
                "Mar 2024",
                "Jun 2024"
               ]
              ],
              "y": [
               [
                null,
                0.61,
                1.29,
                1.4,
                9.37,
                1.64,
                1.98,
                2.11,
                14.82,
                4.49,
                2.4,
                2.24,
                16.95,
                18.7
               ]
              ]
             }
            ],
            "label": "GODREJPROP",
            "method": "restyle"
           },
           {
            "args": [
             {
              "x": [
               [
                "Mar 2021",
                "Jun 2021",
                "Sep 2021",
                "Dec 2021",
                "Mar 2022",
                "Jun 2022",
                "Sep 2022",
                "Dec 2022",
                "Mar 2023",
                "Jun 2023",
                "Sep 2023",
                "Dec 2023",
                "Mar 2024",
                "Jun 2024"
               ]
              ],
              "y": [
               [
                null,
                1.44,
                1.72,
                2.23,
                2.12,
                2.05,
                2.3,
                2.26,
                3.63,
                2.61,
                3.07,
                1.98,
                3.21,
                1.59
               ]
              ]
             }
            ],
            "label": "GREENLAM",
            "method": "restyle"
           },
           {
            "args": [
             {
              "x": [
               [
                "Mar 2021",
                "Jun 2021",
                "Sep 2021",
                "Dec 2021",
                "Mar 2022",
                "Jun 2022",
                "Sep 2022",
                "Dec 2022",
                "Mar 2023",
                "Jun 2023",
                "Sep 2023",
                "Dec 2023",
                "Mar 2024",
                "Jun 2024"
               ]
              ],
              "y": [
               [
                4.6,
                2.43,
                5.47,
                5.14,
                6.57,
                6.33,
                5.91,
                3.06,
                5.62,
                3.04,
                3.34,
                2.82,
                2.43,
                null
               ]
              ]
             }
            ],
            "label": "GREENPANEL",
            "method": "restyle"
           },
           {
            "args": [
             {
              "x": [
               [
                "Mar 2021",
                "Jun 2021",
                "Sep 2021",
                "Dec 2021",
                "Mar 2022",
                "Jun 2022",
                "Sep 2022",
                "Dec 2022",
                "Mar 2023",
                "Jun 2023",
                "Sep 2023",
                "Dec 2023",
                "Mar 2024",
                "Jun 2024"
               ]
              ],
              "y": [
               [
                null,
                1.8,
                5.13,
                5.5,
                4.12,
                4.38,
                5.13,
                5.58,
                4.83,
                6.69,
                7.05,
                7.7,
                9.74,
                7.61
               ]
              ]
             }
            ],
            "label": "GRSE",
            "method": "restyle"
           },
           {
            "args": [
             {
              "x": [
               [
                "Mar 2021",
                "Jun 2021",
                "Sep 2021",
                "Dec 2021",
                "Mar 2022",
                "Jun 2022",
                "Sep 2022",
                "Dec 2022",
                "Mar 2023",
                "Jun 2023",
                "Sep 2023",
                "Dec 2023",
                "Mar 2024",
                "Jun 2024"
               ]
              ],
              "y": [
               [
                null,
                2.91,
                12.66,
                13.96,
                46.43,
                9.27,
                18.26,
                17.27,
                42.33,
                12.17,
                18.49,
                18.86,
                64.43,
                21.49
               ]
              ]
             }
            ],
            "label": "HAL",
            "method": "restyle"
           }
          ],
          "direction": "down",
          "showactive": false
         }
        ],
        "xaxis": {
         "autorange": true,
         "range": [
          -0.5,
          13.5
         ],
         "type": "category"
        },
        "yaxis": {
         "autorange": true,
         "range": [
          0,
          10.25263157894737
         ],
         "type": "linear"
        }
       }
      },
      "image/png": "[encoded data removed]",
      "text/html": [
       "<div>                            <div id=\"accbe282-7686-4eb7-90ac-5d1123111c5b\" class=\"plotly-graph-div\" style=\"height:525px; width:100%;\"></div>            <script type=\"text/javascript\">                require([\"plotly\"], function(Plotly) {                    window.PLOTLYENV=window.PLOTLYENV || {};                                    if (document.getElementById(\"accbe282-7686-4eb7-90ac-5d1123111c5b\")) {                    Plotly.newPlot(                        \"accbe282-7686-4eb7-90ac-5d1123111c5b\",                        [{\"name\":\"FINEORG\",\"x\":[\"Mar 2021\",\"Jun 2021\",\"Sep 2021\",\"Dec 2021\",\"Mar 2022\",\"Jun 2022\",\"Sep 2022\",\"Dec 2022\",\"Mar 2023\",\"Jun 2023\",\"Sep 2023\",\"Dec 2023\",\"Mar 2024\",\"Jun 2024\"],\"y\":[null,11.71,16.27,16.95,39.74,52.12,66.09,34.65,48.74,32.54,33.71,30.73,37.36,36.94],\"type\":\"bar\"},{\"name\":\"GMMPFAUDLR\",\"x\":[\"Mar 2021\",\"Jun 2021\",\"Sep 2021\",\"Dec 2021\",\"Mar 2022\",\"Jun 2022\",\"Sep 2022\",\"Dec 2022\",\"Mar 2023\",\"Jun 2023\",\"Sep 2023\",\"Dec 2023\",\"Mar 2024\",\"Jun 2024\"],\"y\":[null,0.59,7.88,7.25,3.65,10.14,14.45,4.15,7.86,11.27,15.82,6.43,6.91,5.62],\"type\":\"bar\"},{\"name\":\"GODREJPROP\",\"x\":[\"Mar 2021\",\"Jun 2021\",\"Sep 2021\",\"Dec 2021\",\"Mar 2022\",\"Jun 2022\",\"Sep 2022\",\"Dec 2022\",\"Mar 2023\",\"Jun 2023\",\"Sep 2023\",\"Dec 2023\",\"Mar 2024\",\"Jun 2024\"],\"y\":[null,0.61,1.29,1.4,9.37,1.64,1.98,2.11,14.82,4.49,2.4,2.24,16.95,18.7],\"type\":\"bar\"},{\"name\":\"GREENLAM\",\"x\":[\"Mar 2021\",\"Jun 2021\",\"Sep 2021\",\"Dec 2021\",\"Mar 2022\",\"Jun 2022\",\"Sep 2022\",\"Dec 2022\",\"Mar 2023\",\"Jun 2023\",\"Sep 2023\",\"Dec 2023\",\"Mar 2024\",\"Jun 2024\"],\"y\":[null,1.44,1.72,2.23,2.12,2.05,2.3,2.26,3.63,2.61,3.07,1.98,3.21,1.59],\"type\":\"bar\"},{\"name\":\"GREENPANEL\",\"x\":[\"Mar 2021\",\"Jun 2021\",\"Sep 2021\",\"Dec 2021\",\"Mar 2022\",\"Jun 2022\",\"Sep 2022\",\"Dec 2022\",\"Mar 2023\",\"Jun 2023\",\"Sep 2023\",\"Dec 2023\",\"Mar 2024\",\"Jun 2024\"],\"y\":[4.6,2.43,5.47,5.14,6.57,6.33,5.91,3.06,5.62,3.04,3.34,2.82,2.43,null],\"type\":\"bar\"},{\"name\":\"GRSE\",\"x\":[\"Mar 2021\",\"Jun 2021\",\"Sep 2021\",\"Dec 2021\",\"Mar 2022\",\"Jun 2022\",\"Sep 2022\",\"Dec 2022\",\"Mar 2023\",\"Jun 2023\",\"Sep 2023\",\"Dec 2023\",\"Mar 2024\",\"Jun 2024\"],\"y\":[null,1.8,5.13,5.5,4.12,4.38,5.13,5.58,4.83,6.69,7.05,7.7,9.74,7.61],\"type\":\"bar\"},{\"name\":\"HAL\",\"x\":[\"Mar 2021\",\"Jun 2021\",\"Sep 2021\",\"Dec 2021\",\"Mar 2022\",\"Jun 2022\",\"Sep 2022\",\"Dec 2022\",\"Mar 2023\",\"Jun 2023\",\"Sep 2023\",\"Dec 2023\",\"Mar 2024\",\"Jun 2024\"],\"y\":[null,2.91,12.66,13.96,46.43,9.27,18.26,17.27,42.33,12.17,18.49,18.86,64.43,21.49],\"type\":\"bar\"}],                        {\"template\":{\"data\":{\"histogram2dcontour\":[{\"type\":\"histogram2dcontour\",\"colorbar\":{\"outlinewidth\":0,\"ticks\":\"\"},\"colorscale\":[[0.0,\"#0d0887\"],[0.1111111111111111,\"#46039f\"],[0.2222222222222222,\"#7201a8\"],[0.3333333333333333,\"#9c179e\"],[0.4444444444444444,\"#bd3786\"],[0.5555555555555556,\"#d8576b\"],[0.6666666666666666,\"#ed7953\"],[0.7777777777777778,\"#fb9f3a\"],[0.8888888888888888,\"#fdca26\"],[1.0,\"#f0f921\"]]}],\"choropleth\":[{\"type\":\"choropleth\",\"colorbar\":{\"outlinewidth\":0,\"ticks\":\"\"}}],\"histogram2d\":[{\"type\":\"histogram2d\",\"colorbar\":{\"outlinewidth\":0,\"ticks\":\"\"},\"colorscale\":[[0.0,\"#0d0887\"],[0.1111111111111111,\"#46039f\"],[0.2222222222222222,\"#7201a8\"],[0.3333333333333333,\"#9c179e\"],[0.4444444444444444,\"#bd3786\"],[0.5555555555555556,\"#d8576b\"],[0.6666666666666666,\"#ed7953\"],[0.7777777777777778,\"#fb9f3a\"],[0.8888888888888888,\"#fdca26\"],[1.0,\"#f0f921\"]]}],\"heatmap\":[{\"type\":\"heatmap\",\"colorbar\":{\"outlinewidth\":0,\"ticks\":\"\"},\"colorscale\":[[0.0,\"#0d0887\"],[0.1111111111111111,\"#46039f\"],[0.2222222222222222,\"#7201a8\"],[0.3333333333333333,\"#9c179e\"],[0.4444444444444444,\"#bd3786\"],[0.5555555555555556,\"#d8576b\"],[0.6666666666666666,\"#ed7953\"],[0.7777777777777778,\"#fb9f3a\"],[0.8888888888888888,\"#fdca26\"],[1.0,\"#f0f921\"]]}],\"heatmapgl\":[{\"type\":\"heatmapgl\",\"colorbar\":{\"outlinewidth\":0,\"ticks\":\"\"},\"colorscale\":[[0.0,\"#0d0887\"],[0.1111111111111111,\"#46039f\"],[0.2222222222222222,\"#7201a8\"],[0.3333333333333333,\"#9c179e\"],[0.4444444444444444,\"#bd3786\"],[0.5555555555555556,\"#d8576b\"],[0.6666666666666666,\"#ed7953\"],[0.7777777777777778,\"#fb9f3a\"],[0.8888888888888888,\"#fdca26\"],[1.0,\"#f0f921\"]]}],\"contourcarpet\":[{\"type\":\"contourcarpet\",\"colorbar\":{\"outlinewidth\":0,\"ticks\":\"\"}}],\"contour\":[{\"type\":\"contour\",\"colorbar\":{\"outlinewidth\":0,\"ticks\":\"\"},\"colorscale\":[[0.0,\"#0d0887\"],[0.1111111111111111,\"#46039f\"],[0.2222222222222222,\"#7201a8\"],[0.3333333333333333,\"#9c179e\"],[0.4444444444444444,\"#bd3786\"],[0.5555555555555556,\"#d8576b\"],[0.6666666666666666,\"#ed7953\"],[0.7777777777777778,\"#fb9f3a\"],[0.8888888888888888,\"#fdca26\"],[1.0,\"#f0f921\"]]}],\"surface\":[{\"type\":\"surface\",\"colorbar\":{\"outlinewidth\":0,\"ticks\":\"\"},\"colorscale\":[[0.0,\"#0d0887\"],[0.1111111111111111,\"#46039f\"],[0.2222222222222222,\"#7201a8\"],[0.3333333333333333,\"#9c179e\"],[0.4444444444444444,\"#bd3786\"],[0.5555555555555556,\"#d8576b\"],[0.6666666666666666,\"#ed7953\"],[0.7777777777777778,\"#fb9f3a\"],[0.8888888888888888,\"#fdca26\"],[1.0,\"#f0f921\"]]}],\"mesh3d\":[{\"type\":\"mesh3d\",\"colorbar\":{\"outlinewidth\":0,\"ticks\":\"\"}}],\"scatter\":[{\"fillpattern\":{\"fillmode\":\"overlay\",\"size\":10,\"solidity\":0.2},\"type\":\"scatter\"}],\"parcoords\":[{\"type\":\"parcoords\",\"line\":{\"colorbar\":{\"outlinewidth\":0,\"ticks\":\"\"}}}],\"scatterpolargl\":[{\"type\":\"scatterpolargl\",\"marker\":{\"colorbar\":{\"outlinewidth\":0,\"ticks\":\"\"}}}],\"bar\":[{\"error_x\":{\"color\":\"#2a3f5f\"},\"error_y\":{\"color\":\"#2a3f5f\"},\"marker\":{\"line\":{\"color\":\"#E5ECF6\",\"width\":0.5},\"pattern\":{\"fillmode\":\"overlay\",\"size\":10,\"solidity\":0.2}},\"type\":\"bar\"}],\"scattergeo\":[{\"type\":\"scattergeo\",\"marker\":{\"colorbar\":{\"outlinewidth\":0,\"ticks\":\"\"}}}],\"scatterpolar\":[{\"type\":\"scatterpolar\",\"marker\":{\"colorbar\":{\"outlinewidth\":0,\"ticks\":\"\"}}}],\"histogram\":[{\"marker\":{\"pattern\":{\"fillmode\":\"overlay\",\"size\":10,\"solidity\":0.2}},\"type\":\"histogram\"}],\"scattergl\":[{\"type\":\"scattergl\",\"marker\":{\"colorbar\":{\"outlinewidth\":0,\"ticks\":\"\"}}}],\"scatter3d\":[{\"type\":\"scatter3d\",\"line\":{\"colorbar\":{\"outlinewidth\":0,\"ticks\":\"\"}},\"marker\":{\"colorbar\":{\"outlinewidth\":0,\"ticks\":\"\"}}}],\"scattermapbox\":[{\"type\":\"scattermapbox\",\"marker\":{\"colorbar\":{\"outlinewidth\":0,\"ticks\":\"\"}}}],\"scatterternary\":[{\"type\":\"scatterternary\",\"marker\":{\"colorbar\":{\"outlinewidth\":0,\"ticks\":\"\"}}}],\"scattercarpet\":[{\"type\":\"scattercarpet\",\"marker\":{\"colorbar\":{\"outlinewidth\":0,\"ticks\":\"\"}}}],\"carpet\":[{\"aaxis\":{\"endlinecolor\":\"#2a3f5f\",\"gridcolor\":\"white\",\"linecolor\":\"white\",\"minorgridcolor\":\"white\",\"startlinecolor\":\"#2a3f5f\"},\"baxis\":{\"endlinecolor\":\"#2a3f5f\",\"gridcolor\":\"white\",\"linecolor\":\"white\",\"minorgridcolor\":\"white\",\"startlinecolor\":\"#2a3f5f\"},\"type\":\"carpet\"}],\"table\":[{\"cells\":{\"fill\":{\"color\":\"#EBF0F8\"},\"line\":{\"color\":\"white\"}},\"header\":{\"fill\":{\"color\":\"#C8D4E3\"},\"line\":{\"color\":\"white\"}},\"type\":\"table\"}],\"barpolar\":[{\"marker\":{\"line\":{\"color\":\"#E5ECF6\",\"width\":0.5},\"pattern\":{\"fillmode\":\"overlay\",\"size\":10,\"solidity\":0.2}},\"type\":\"barpolar\"}],\"pie\":[{\"automargin\":true,\"type\":\"pie\"}]},\"layout\":{\"autotypenumbers\":\"strict\",\"colorway\":[\"#636efa\",\"#EF553B\",\"#00cc96\",\"#ab63fa\",\"#FFA15A\",\"#19d3f3\",\"#FF6692\",\"#B6E880\",\"#FF97FF\",\"#FECB52\"],\"font\":{\"color\":\"#2a3f5f\"},\"hovermode\":\"closest\",\"hoverlabel\":{\"align\":\"left\"},\"paper_bgcolor\":\"white\",\"plot_bgcolor\":\"#E5ECF6\",\"polar\":{\"bgcolor\":\"#E5ECF6\",\"angularaxis\":{\"gridcolor\":\"white\",\"linecolor\":\"white\",\"ticks\":\"\"},\"radialaxis\":{\"gridcolor\":\"white\",\"linecolor\":\"white\",\"ticks\":\"\"}},\"ternary\":{\"bgcolor\":\"#E5ECF6\",\"aaxis\":{\"gridcolor\":\"white\",\"linecolor\":\"white\",\"ticks\":\"\"},\"baxis\":{\"gridcolor\":\"white\",\"linecolor\":\"white\",\"ticks\":\"\"},\"caxis\":{\"gridcolor\":\"white\",\"linecolor\":\"white\",\"ticks\":\"\"}},\"coloraxis\":{\"colorbar\":{\"outlinewidth\":0,\"ticks\":\"\"}},\"colorscale\":{\"sequential\":[[0.0,\"#0d0887\"],[0.1111111111111111,\"#46039f\"],[0.2222222222222222,\"#7201a8\"],[0.3333333333333333,\"#9c179e\"],[0.4444444444444444,\"#bd3786\"],[0.5555555555555556,\"#d8576b\"],[0.6666666666666666,\"#ed7953\"],[0.7777777777777778,\"#fb9f3a\"],[0.8888888888888888,\"#fdca26\"],[1.0,\"#f0f921\"]],\"sequentialminus\":[[0.0,\"#0d0887\"],[0.1111111111111111,\"#46039f\"],[0.2222222222222222,\"#7201a8\"],[0.3333333333333333,\"#9c179e\"],[0.4444444444444444,\"#bd3786\"],[0.5555555555555556,\"#d8576b\"],[0.6666666666666666,\"#ed7953\"],[0.7777777777777778,\"#fb9f3a\"],[0.8888888888888888,\"#fdca26\"],[1.0,\"#f0f921\"]],\"diverging\":[[0,\"#8e0152\"],[0.1,\"#c51b7d\"],[0.2,\"#de77ae\"],[0.3,\"#f1b6da\"],[0.4,\"#fde0ef\"],[0.5,\"#f7f7f7\"],[0.6,\"#e6f5d0\"],[0.7,\"#b8e186\"],[0.8,\"#7fbc41\"],[0.9,\"#4d9221\"],[1,\"#276419\"]]},\"xaxis\":{\"gridcolor\":\"white\",\"linecolor\":\"white\",\"ticks\":\"\",\"title\":{\"standoff\":15},\"zerolinecolor\":\"white\",\"automargin\":true,\"zerolinewidth\":2},\"yaxis\":{\"gridcolor\":\"white\",\"linecolor\":\"white\",\"ticks\":\"\",\"title\":{\"standoff\":15},\"zerolinecolor\":\"white\",\"automargin\":true,\"zerolinewidth\":2},\"scene\":{\"xaxis\":{\"backgroundcolor\":\"#E5ECF6\",\"gridcolor\":\"white\",\"linecolor\":\"white\",\"showbackground\":true,\"ticks\":\"\",\"zerolinecolor\":\"white\",\"gridwidth\":2},\"yaxis\":{\"backgroundcolor\":\"#E5ECF6\",\"gridcolor\":\"white\",\"linecolor\":\"white\",\"showbackground\":true,\"ticks\":\"\",\"zerolinecolor\":\"white\",\"gridwidth\":2},\"zaxis\":{\"backgroundcolor\":\"#E5ECF6\",\"gridcolor\":\"white\",\"linecolor\":\"white\",\"showbackground\":true,\"ticks\":\"\",\"zerolinecolor\":\"white\",\"gridwidth\":2}},\"shapedefaults\":{\"line\":{\"color\":\"#2a3f5f\"}},\"annotationdefaults\":{\"arrowcolor\":\"#2a3f5f\",\"arrowhead\":0,\"arrowwidth\":1},\"geo\":{\"bgcolor\":\"white\",\"landcolor\":\"#E5ECF6\",\"subunitcolor\":\"white\",\"showland\":true,\"showlakes\":true,\"lakecolor\":\"white\"},\"title\":{\"x\":0.05},\"mapbox\":{\"style\":\"light\"}}},\"updatemenus\":[{\"buttons\":[{\"args\":[{\"x\":[[\"Mar 2021\",\"Jun 2021\",\"Sep 2021\",\"Dec 2021\",\"Mar 2022\",\"Jun 2022\",\"Sep 2022\",\"Dec 2022\",\"Mar 2023\",\"Jun 2023\",\"Sep 2023\",\"Dec 2023\",\"Mar 2024\",\"Jun 2024\"]],\"y\":[[null,11.71,16.27,16.95,39.74,52.12,66.09,34.65,48.74,32.54,33.71,30.73,37.36,36.94]]}],\"label\":\"FINEORG\",\"method\":\"restyle\"},{\"args\":[{\"x\":[[\"Mar 2021\",\"Jun 2021\",\"Sep 2021\",\"Dec 2021\",\"Mar 2022\",\"Jun 2022\",\"Sep 2022\",\"Dec 2022\",\"Mar 2023\",\"Jun 2023\",\"Sep 2023\",\"Dec 2023\",\"Mar 2024\",\"Jun 2024\"]],\"y\":[[null,0.59,7.88,7.25,3.65,10.14,14.45,4.15,7.86,11.27,15.82,6.43,6.91,5.62]]}],\"label\":\"GMMPFAUDLR\",\"method\":\"restyle\"},{\"args\":[{\"x\":[[\"Mar 2021\",\"Jun 2021\",\"Sep 2021\",\"Dec 2021\",\"Mar 2022\",\"Jun 2022\",\"Sep 2022\",\"Dec 2022\",\"Mar 2023\",\"Jun 2023\",\"Sep 2023\",\"Dec 2023\",\"Mar 2024\",\"Jun 2024\"]],\"y\":[[null,0.61,1.29,1.4,9.37,1.64,1.98,2.11,14.82,4.49,2.4,2.24,16.95,18.7]]}],\"label\":\"GODREJPROP\",\"method\":\"restyle\"},{\"args\":[{\"x\":[[\"Mar 2021\",\"Jun 2021\",\"Sep 2021\",\"Dec 2021\",\"Mar 2022\",\"Jun 2022\",\"Sep 2022\",\"Dec 2022\",\"Mar 2023\",\"Jun 2023\",\"Sep 2023\",\"Dec 2023\",\"Mar 2024\",\"Jun 2024\"]],\"y\":[[null,1.44,1.72,2.23,2.12,2.05,2.3,2.26,3.63,2.61,3.07,1.98,3.21,1.59]]}],\"label\":\"GREENLAM\",\"method\":\"restyle\"},{\"args\":[{\"x\":[[\"Mar 2021\",\"Jun 2021\",\"Sep 2021\",\"Dec 2021\",\"Mar 2022\",\"Jun 2022\",\"Sep 2022\",\"Dec 2022\",\"Mar 2023\",\"Jun 2023\",\"Sep 2023\",\"Dec 2023\",\"Mar 2024\",\"Jun 2024\"]],\"y\":[[4.6,2.43,5.47,5.14,6.57,6.33,5.91,3.06,5.62,3.04,3.34,2.82,2.43,null]]}],\"label\":\"GREENPANEL\",\"method\":\"restyle\"},{\"args\":[{\"x\":[[\"Mar 2021\",\"Jun 2021\",\"Sep 2021\",\"Dec 2021\",\"Mar 2022\",\"Jun 2022\",\"Sep 2022\",\"Dec 2022\",\"Mar 2023\",\"Jun 2023\",\"Sep 2023\",\"Dec 2023\",\"Mar 2024\",\"Jun 2024\"]],\"y\":[[null,1.8,5.13,5.5,4.12,4.38,5.13,5.58,4.83,6.69,7.05,7.7,9.74,7.61]]}],\"label\":\"GRSE\",\"method\":\"restyle\"},{\"args\":[{\"x\":[[\"Mar 2021\",\"Jun 2021\",\"Sep 2021\",\"Dec 2021\",\"Mar 2022\",\"Jun 2022\",\"Sep 2022\",\"Dec 2022\",\"Mar 2023\",\"Jun 2023\",\"Sep 2023\",\"Dec 2023\",\"Mar 2024\",\"Jun 2024\"]],\"y\":[[null,2.91,12.66,13.96,46.43,9.27,18.26,17.27,42.33,12.17,18.49,18.86,64.43,21.49]]}],\"label\":\"HAL\",\"method\":\"restyle\"}],\"direction\":\"down\",\"showactive\":false}]},                        {\"responsive\": true}                    ).then(function(){\n",
       "                            \n",
       "var gd = document.getElementById('accbe282-7686-4eb7-90ac-5d1123111c5b');\n",
       "var x = new MutationObserver(function (mutations, observer) {{\n",
       "        var display = window.getComputedStyle(gd).display;\n",
       "        if (!display || display === 'none') {{\n",
       "            console.log([gd, 'removed!']);\n",
       "            Plotly.purge(gd);\n",
       "            observer.disconnect();\n",
       "        }}\n",
       "}});\n",
       "\n",
       "// Listen for the removal of the full notebook cells\n",
       "var notebookContainer = gd.closest('#notebook-container');\n",
       "if (notebookContainer) {{\n",
       "    x.observe(notebookContainer, {childList: true});\n",
       "}}\n",
       "\n",
       "// Listen for the clearing of the current output cell\n",
       "var outputEl = gd.closest('.output');\n",
       "if (outputEl) {{\n",
       "    x.observe(outputEl, {childList: true});\n",
       "}}\n",
       "\n",
       "                        })                };                });            </script>        </div>"
      ]
     },
     "metadata": {},
     "output_type": "display_data"
    }
   ],
   "source": [
    "# https://stackoverflow.com/a/45391884/1176573\n",
    "import plotly.graph_objects as go\n",
    "import pandas as pd \n",
    "\n",
    "\n",
    "start_limit = 50\n",
    "end_limit = 57\n",
    "\n",
    "df = pd.read_csv(input_cvs_file)\n",
    "df.rename( columns={'Unnamed: 0':'Quarters'}, inplace=True )\n",
    "df.head(5)\n",
    "\n",
    "start_limit = 50\n",
    "end_limit = 57\n",
    "\n",
    "# plotly setup\n",
    "fig = go.Figure()\n",
    "\n",
    "# Add traces, starting from First Column. Each column is a stock data.\n",
    "for mycolumn in df.columns[start_limit:end_limit]:\n",
    "    #fig.add_traces( go.Scatter(x=list(df.Quarters), y=list(df[mycolumn]), name=mycolumn,) )\n",
    "    fig.add_traces( go.Bar(x=list(df.Quarters), y=list(df[mycolumn]), name=mycolumn,) )\n",
    "\n",
    "button_list = []\n",
    "\n",
    "for mycolumn in df.columns[start_limit:end_limit]:\n",
    "    button_list.append(\n",
    "        {\n",
    "            'method': 'restyle', # restyle , update\n",
    "            'label': mycolumn,\n",
    "            'args': [ { 'x': [list(df['Quarters'])]  , 'y': [list(df[mycolumn])]  } ]\n",
    "        }\n",
    "    )\n",
    "\n",
    "# updatemenus = []\n",
    "# i = 0\n",
    "# for mycolumn in df.columns[start_limit:end_limit]:\n",
    "#     updatemenus.append(\n",
    "#         { \n",
    "#             'buttons':  button_list[i],\n",
    "#             'direction': 'down',\n",
    "#             'showactive': True,\n",
    "#         }\n",
    "#     )\n",
    "#     i = i + 1\n",
    "\n",
    "updatemenus = [\n",
    "    { 'buttons':  button_list,\n",
    "      'direction': 'down',\n",
    "      'showactive': False,\n",
    "    }\n",
    "]\n",
    "\n",
    "# update layout with buttons, and show the figure\n",
    "fig.update_layout(updatemenus=updatemenus)\n",
    "fig.show()\n"
   ]
  },
  {
   "cell_type": "code",
   "execution_count": 28,
   "id": "99b4fb8a-dca4-4264-aab8-cf1dabeda4fd",
   "metadata": {},
   "outputs": [
    {
     "data": {
      "application/vnd.plotly.v1+json": {
       "config": {
        "plotlyServerURL": "https://plot.ly"
       },
       "data": [
        {
         "type": "bar",
         "x": [
          "Mar 2021",
          "Jun 2021",
          "Sep 2021",
          "Dec 2021",
          "Mar 2022",
          "Jun 2022",
          "Sep 2022",
          "Dec 2022",
          "Mar 2023",
          "Jun 2023",
          "Sep 2023",
          "Dec 2023",
          "Mar 2024",
          "Jun 2024"
         ],
         "y": [
          null,
          0.65,
          2.08,
          2.07,
          1.69,
          0.78,
          1.72,
          1,
          2.34,
          1.2,
          2.12,
          1.94,
          2.42,
          1.52
         ]
        }
       ],
       "layout": {
        "autosize": true,
        "template": {
         "data": {
          "bar": [
           {
            "error_x": {
             "color": "#2a3f5f"
            },
            "error_y": {
             "color": "#2a3f5f"
            },
            "marker": {
             "line": {
              "color": "#E5ECF6",
              "width": 0.5
             },
             "pattern": {
              "fillmode": "overlay",
              "size": 10,
              "solidity": 0.2
             }
            },
            "type": "bar"
           }
          ],
          "barpolar": [
           {
            "marker": {
             "line": {
              "color": "#E5ECF6",
              "width": 0.5
             },
             "pattern": {
              "fillmode": "overlay",
              "size": 10,
              "solidity": 0.2
             }
            },
            "type": "barpolar"
           }
          ],
          "carpet": [
           {
            "aaxis": {
             "endlinecolor": "#2a3f5f",
             "gridcolor": "white",
             "linecolor": "white",
             "minorgridcolor": "white",
             "startlinecolor": "#2a3f5f"
            },
            "baxis": {
             "endlinecolor": "#2a3f5f",
             "gridcolor": "white",
             "linecolor": "white",
             "minorgridcolor": "white",
             "startlinecolor": "#2a3f5f"
            },
            "type": "carpet"
           }
          ],
          "choropleth": [
           {
            "colorbar": {
             "outlinewidth": 0,
             "ticks": ""
            },
            "type": "choropleth"
           }
          ],
          "contour": [
           {
            "colorbar": {
             "outlinewidth": 0,
             "ticks": ""
            },
            "colorscale": [
             [
              0,
              "#0d0887"
             ],
             [
              0.1111111111111111,
              "#46039f"
             ],
             [
              0.2222222222222222,
              "#7201a8"
             ],
             [
              0.3333333333333333,
              "#9c179e"
             ],
             [
              0.4444444444444444,
              "#bd3786"
             ],
             [
              0.5555555555555556,
              "#d8576b"
             ],
             [
              0.6666666666666666,
              "#ed7953"
             ],
             [
              0.7777777777777778,
              "#fb9f3a"
             ],
             [
              0.8888888888888888,
              "#fdca26"
             ],
             [
              1,
              "#f0f921"
             ]
            ],
            "type": "contour"
           }
          ],
          "contourcarpet": [
           {
            "colorbar": {
             "outlinewidth": 0,
             "ticks": ""
            },
            "type": "contourcarpet"
           }
          ],
          "heatmap": [
           {
            "colorbar": {
             "outlinewidth": 0,
             "ticks": ""
            },
            "colorscale": [
             [
              0,
              "#0d0887"
             ],
             [
              0.1111111111111111,
              "#46039f"
             ],
             [
              0.2222222222222222,
              "#7201a8"
             ],
             [
              0.3333333333333333,
              "#9c179e"
             ],
             [
              0.4444444444444444,
              "#bd3786"
             ],
             [
              0.5555555555555556,
              "#d8576b"
             ],
             [
              0.6666666666666666,
              "#ed7953"
             ],
             [
              0.7777777777777778,
              "#fb9f3a"
             ],
             [
              0.8888888888888888,
              "#fdca26"
             ],
             [
              1,
              "#f0f921"
             ]
            ],
            "type": "heatmap"
           }
          ],
          "heatmapgl": [
           {
            "colorbar": {
             "outlinewidth": 0,
             "ticks": ""
            },
            "colorscale": [
             [
              0,
              "#0d0887"
             ],
             [
              0.1111111111111111,
              "#46039f"
             ],
             [
              0.2222222222222222,
              "#7201a8"
             ],
             [
              0.3333333333333333,
              "#9c179e"
             ],
             [
              0.4444444444444444,
              "#bd3786"
             ],
             [
              0.5555555555555556,
              "#d8576b"
             ],
             [
              0.6666666666666666,
              "#ed7953"
             ],
             [
              0.7777777777777778,
              "#fb9f3a"
             ],
             [
              0.8888888888888888,
              "#fdca26"
             ],
             [
              1,
              "#f0f921"
             ]
            ],
            "type": "heatmapgl"
           }
          ],
          "histogram": [
           {
            "marker": {
             "pattern": {
              "fillmode": "overlay",
              "size": 10,
              "solidity": 0.2
             }
            },
            "type": "histogram"
           }
          ],
          "histogram2d": [
           {
            "colorbar": {
             "outlinewidth": 0,
             "ticks": ""
            },
            "colorscale": [
             [
              0,
              "#0d0887"
             ],
             [
              0.1111111111111111,
              "#46039f"
             ],
             [
              0.2222222222222222,
              "#7201a8"
             ],
             [
              0.3333333333333333,
              "#9c179e"
             ],
             [
              0.4444444444444444,
              "#bd3786"
             ],
             [
              0.5555555555555556,
              "#d8576b"
             ],
             [
              0.6666666666666666,
              "#ed7953"
             ],
             [
              0.7777777777777778,
              "#fb9f3a"
             ],
             [
              0.8888888888888888,
              "#fdca26"
             ],
             [
              1,
              "#f0f921"
             ]
            ],
            "type": "histogram2d"
           }
          ],
          "histogram2dcontour": [
           {
            "colorbar": {
             "outlinewidth": 0,
             "ticks": ""
            },
            "colorscale": [
             [
              0,
              "#0d0887"
             ],
             [
              0.1111111111111111,
              "#46039f"
             ],
             [
              0.2222222222222222,
              "#7201a8"
             ],
             [
              0.3333333333333333,
              "#9c179e"
             ],
             [
              0.4444444444444444,
              "#bd3786"
             ],
             [
              0.5555555555555556,
              "#d8576b"
             ],
             [
              0.6666666666666666,
              "#ed7953"
             ],
             [
              0.7777777777777778,
              "#fb9f3a"
             ],
             [
              0.8888888888888888,
              "#fdca26"
             ],
             [
              1,
              "#f0f921"
             ]
            ],
            "type": "histogram2dcontour"
           }
          ],
          "mesh3d": [
           {
            "colorbar": {
             "outlinewidth": 0,
             "ticks": ""
            },
            "type": "mesh3d"
           }
          ],
          "parcoords": [
           {
            "line": {
             "colorbar": {
              "outlinewidth": 0,
              "ticks": ""
             }
            },
            "type": "parcoords"
           }
          ],
          "pie": [
           {
            "automargin": true,
            "type": "pie"
           }
          ],
          "scatter": [
           {
            "fillpattern": {
             "fillmode": "overlay",
             "size": 10,
             "solidity": 0.2
            },
            "type": "scatter"
           }
          ],
          "scatter3d": [
           {
            "line": {
             "colorbar": {
              "outlinewidth": 0,
              "ticks": ""
             }
            },
            "marker": {
             "colorbar": {
              "outlinewidth": 0,
              "ticks": ""
             }
            },
            "type": "scatter3d"
           }
          ],
          "scattercarpet": [
           {
            "marker": {
             "colorbar": {
              "outlinewidth": 0,
              "ticks": ""
             }
            },
            "type": "scattercarpet"
           }
          ],
          "scattergeo": [
           {
            "marker": {
             "colorbar": {
              "outlinewidth": 0,
              "ticks": ""
             }
            },
            "type": "scattergeo"
           }
          ],
          "scattergl": [
           {
            "marker": {
             "colorbar": {
              "outlinewidth": 0,
              "ticks": ""
             }
            },
            "type": "scattergl"
           }
          ],
          "scattermapbox": [
           {
            "marker": {
             "colorbar": {
              "outlinewidth": 0,
              "ticks": ""
             }
            },
            "type": "scattermapbox"
           }
          ],
          "scatterpolar": [
           {
            "marker": {
             "colorbar": {
              "outlinewidth": 0,
              "ticks": ""
             }
            },
            "type": "scatterpolar"
           }
          ],
          "scatterpolargl": [
           {
            "marker": {
             "colorbar": {
              "outlinewidth": 0,
              "ticks": ""
             }
            },
            "type": "scatterpolargl"
           }
          ],
          "scatterternary": [
           {
            "marker": {
             "colorbar": {
              "outlinewidth": 0,
              "ticks": ""
             }
            },
            "type": "scatterternary"
           }
          ],
          "surface": [
           {
            "colorbar": {
             "outlinewidth": 0,
             "ticks": ""
            },
            "colorscale": [
             [
              0,
              "#0d0887"
             ],
             [
              0.1111111111111111,
              "#46039f"
             ],
             [
              0.2222222222222222,
              "#7201a8"
             ],
             [
              0.3333333333333333,
              "#9c179e"
             ],
             [
              0.4444444444444444,
              "#bd3786"
             ],
             [
              0.5555555555555556,
              "#d8576b"
             ],
             [
              0.6666666666666666,
              "#ed7953"
             ],
             [
              0.7777777777777778,
              "#fb9f3a"
             ],
             [
              0.8888888888888888,
              "#fdca26"
             ],
             [
              1,
              "#f0f921"
             ]
            ],
            "type": "surface"
           }
          ],
          "table": [
           {
            "cells": {
             "fill": {
              "color": "#EBF0F8"
             },
             "line": {
              "color": "white"
             }
            },
            "header": {
             "fill": {
              "color": "#C8D4E3"
             },
             "line": {
              "color": "white"
             }
            },
            "type": "table"
           }
          ]
         },
         "layout": {
          "annotationdefaults": {
           "arrowcolor": "#2a3f5f",
           "arrowhead": 0,
           "arrowwidth": 1
          },
          "autotypenumbers": "strict",
          "coloraxis": {
           "colorbar": {
            "outlinewidth": 0,
            "ticks": ""
           }
          },
          "colorscale": {
           "diverging": [
            [
             0,
             "#8e0152"
            ],
            [
             0.1,
             "#c51b7d"
            ],
            [
             0.2,
             "#de77ae"
            ],
            [
             0.3,
             "#f1b6da"
            ],
            [
             0.4,
             "#fde0ef"
            ],
            [
             0.5,
             "#f7f7f7"
            ],
            [
             0.6,
             "#e6f5d0"
            ],
            [
             0.7,
             "#b8e186"
            ],
            [
             0.8,
             "#7fbc41"
            ],
            [
             0.9,
             "#4d9221"
            ],
            [
             1,
             "#276419"
            ]
           ],
           "sequential": [
            [
             0,
             "#0d0887"
            ],
            [
             0.1111111111111111,
             "#46039f"
            ],
            [
             0.2222222222222222,
             "#7201a8"
            ],
            [
             0.3333333333333333,
             "#9c179e"
            ],
            [
             0.4444444444444444,
             "#bd3786"
            ],
            [
             0.5555555555555556,
             "#d8576b"
            ],
            [
             0.6666666666666666,
             "#ed7953"
            ],
            [
             0.7777777777777778,
             "#fb9f3a"
            ],
            [
             0.8888888888888888,
             "#fdca26"
            ],
            [
             1,
             "#f0f921"
            ]
           ],
           "sequentialminus": [
            [
             0,
             "#0d0887"
            ],
            [
             0.1111111111111111,
             "#46039f"
            ],
            [
             0.2222222222222222,
             "#7201a8"
            ],
            [
             0.3333333333333333,
             "#9c179e"
            ],
            [
             0.4444444444444444,
             "#bd3786"
            ],
            [
             0.5555555555555556,
             "#d8576b"
            ],
            [
             0.6666666666666666,
             "#ed7953"
            ],
            [
             0.7777777777777778,
             "#fb9f3a"
            ],
            [
             0.8888888888888888,
             "#fdca26"
            ],
            [
             1,
             "#f0f921"
            ]
           ]
          },
          "colorway": [
           "#636efa",
           "#EF553B",
           "#00cc96",
           "#ab63fa",
           "#FFA15A",
           "#19d3f3",
           "#FF6692",
           "#B6E880",
           "#FF97FF",
           "#FECB52"
          ],
          "font": {
           "color": "#2a3f5f"
          },
          "geo": {
           "bgcolor": "white",
           "lakecolor": "white",
           "landcolor": "#E5ECF6",
           "showlakes": true,
           "showland": true,
           "subunitcolor": "white"
          },
          "hoverlabel": {
           "align": "left"
          },
          "hovermode": "closest",
          "mapbox": {
           "style": "light"
          },
          "paper_bgcolor": "white",
          "plot_bgcolor": "#E5ECF6",
          "polar": {
           "angularaxis": {
            "gridcolor": "white",
            "linecolor": "white",
            "ticks": ""
           },
           "bgcolor": "#E5ECF6",
           "radialaxis": {
            "gridcolor": "white",
            "linecolor": "white",
            "ticks": ""
           }
          },
          "scene": {
           "xaxis": {
            "backgroundcolor": "#E5ECF6",
            "gridcolor": "white",
            "gridwidth": 2,
            "linecolor": "white",
            "showbackground": true,
            "ticks": "",
            "zerolinecolor": "white"
           },
           "yaxis": {
            "backgroundcolor": "#E5ECF6",
            "gridcolor": "white",
            "gridwidth": 2,
            "linecolor": "white",
            "showbackground": true,
            "ticks": "",
            "zerolinecolor": "white"
           },
           "zaxis": {
            "backgroundcolor": "#E5ECF6",
            "gridcolor": "white",
            "gridwidth": 2,
            "linecolor": "white",
            "showbackground": true,
            "ticks": "",
            "zerolinecolor": "white"
           }
          },
          "shapedefaults": {
           "line": {
            "color": "#2a3f5f"
           }
          },
          "ternary": {
           "aaxis": {
            "gridcolor": "white",
            "linecolor": "white",
            "ticks": ""
           },
           "baxis": {
            "gridcolor": "white",
            "linecolor": "white",
            "ticks": ""
           },
           "bgcolor": "#E5ECF6",
           "caxis": {
            "gridcolor": "white",
            "linecolor": "white",
            "ticks": ""
           }
          },
          "title": {
           "x": 0.05
          },
          "xaxis": {
           "automargin": true,
           "gridcolor": "white",
           "linecolor": "white",
           "ticks": "",
           "title": {
            "standoff": 15
           },
           "zerolinecolor": "white",
           "zerolinewidth": 2
          },
          "yaxis": {
           "automargin": true,
           "gridcolor": "white",
           "linecolor": "white",
           "ticks": "",
           "title": {
            "standoff": 15
           },
           "zerolinecolor": "white",
           "zerolinewidth": 2
          }
         }
        },
        "updatemenus": [
         {
          "active": 120,
          "buttons": [
           {
            "args": [
             {
              "y": [
               [
                null,
                2.99,
                3.77,
                4.3,
                1.54,
                3.35,
                2.84,
                2.25,
                0.25,
                0.36,
                -1.59,
                -0.19,
                -2.59,
                2.83
               ]
              ]
             }
            ],
            "label": "526433",
            "method": "update"
           },
           {
            "args": [
             {
              "y": [
               [
                null,
                0.11,
                0.1,
                0.13,
                0.06,
                0.1,
                0.08,
                0.11,
                0.09,
                0.18,
                0.2,
                0.12,
                0.05,
                0.21
               ]
              ]
             }
            ],
            "label": "532407",
            "method": "update"
           },
           {
            "args": [
             {
              "y": [
               [
                null,
                null,
                null,
                null,
                null,
                5.28,
                6.38,
                7.06,
                7.82,
                7.96,
                8.1,
                3.77,
                4.77,
                5.21
               ]
              ]
             }
            ],
            "label": "544021",
            "method": "update"
           },
           {
            "args": [
             {
              "y": [
               [
                null,
                5.27,
                4.6,
                6.29,
                5.98,
                3.76,
                4.18,
                3.96,
                6.06,
                5.17,
                4.31,
                3.99,
                5.15,
                3.62
               ]
              ]
             }
            ],
            "label": "AARTIDRUGS",
            "method": "update"
           },
           {
            "args": [
             {
              "y": [
               [
                null,
                4.55,
                4.14,
                20.01,
                5.34,
                3.75,
                3.42,
                3.77,
                4.11,
                1.93,
                2.51,
                3.42,
                3.64,
                3.78
               ]
              ]
             }
            ],
            "label": "AARTIIND",
            "method": "update"
           },
           {
            "args": [
             {
              "y": [
               [
                null,
                null,
                null,
                null,
                null,
                null,
                null,
                5.26,
                4.73,
                5.2,
                5.72,
                5.82,
                7.2,
                6.12
               ]
              ]
             }
            ],
            "label": "AARTIPHARM",
            "method": "update"
           },
           {
            "args": [
             {
              "y": [
               [
                null,
                5.32,
                0.98,
                -2.62,
                2.79,
                4.36,
                0.38,
                4.68,
                5.52,
                6.18,
                5.58,
                7.86,
                5.5,
                2.62
               ]
              ]
             }
            ],
            "label": "AARTISURF",
            "method": "update"
           },
           {
            "args": [
             {
              "y": [
               [
                null,
                3.32,
                5.66,
                8.88,
                17.61,
                6.62,
                9.32,
                14.41,
                11.56,
                13.95,
                17.12,
                15.98,
                21.67,
                20.93
               ]
              ]
             }
            ],
            "label": "ABB",
            "method": "update"
           },
           {
            "args": [
             {
              "y": [
               [
                null,
                30.32,
                23.97,
                14.95,
                21.1,
                12.11,
                -4.65,
                6.03,
                12.55,
                24.82,
                20.65,
                28.63,
                50.31,
                19.24
               ]
              ]
             }
            ],
            "label": "ACC",
            "method": "update"
           },
           {
            "args": [
             {
              "y": [
               [
                null,
                2.47,
                1.93,
                -0.11,
                2.77,
                4.12,
                4.04,
                7.19,
                6.34,
                5.91,
                2,
                16.57,
                3.95,
                12.76
               ]
              ]
             }
            ],
            "label": "ADANIENT",
            "method": "update"
           },
           {
            "args": [
             {
              "y": [
               [
                null,
                2.68,
                3.57,
                4.66,
                5.14,
                4.09,
                4.4,
                5.18,
                4.68,
                4.97,
                5.01,
                5.48,
                6.24,
                6.18
               ]
              ]
             }
            ],
            "label": "AFFLE",
            "method": "update"
           },
           {
            "args": [
             {
              "y": [
               [
                null,
                15.38,
                10.59,
                8.98,
                9.09,
                16.03,
                10.26,
                8.94,
                9.52,
                9.74,
                5.33,
                6.54,
                7.52,
                9.56
               ]
              ]
             }
            ],
            "label": "ALKYLAMINE",
            "method": "update"
           },
           {
            "args": [
             {
              "y": [
               [
                null,
                14.73,
                16.24,
                19.88,
                24.7,
                21.85,
                25.63,
                27.35,
                32,
                26.34,
                36.3,
                31.01,
                40.47,
                32.49
               ]
              ]
             }
            ],
            "label": "ANGELONE",
            "method": "update"
           },
           {
            "args": [
             {
              "y": [
               [
                null,
                7.27,
                8.45,
                8.51,
                5.79,
                7.73,
                11.78,
                12.99,
                8.34,
                11.61,
                13.25,
                15.68,
                12.55,
                13.61
               ]
              ]
             }
            ],
            "label": "ARE&M",
            "method": "update"
           },
           {
            "args": [
             {
              "y": [
               [
                null,
                1.45,
                3.34,
                4.12,
                5.27,
                4.4,
                4.33,
                3.45,
                2.84,
                4.27,
                3.57,
                2.61,
                3.04,
                3.21
               ]
              ]
             }
            ],
            "label": "ASAHIINDIA",
            "method": "update"
           },
           {
            "args": [
             {
              "y": [
               [
                null,
                -0.93,
                -0.35,
                -0.41,
                0.48,
                0.02,
                0.56,
                1.09,
                2.56,
                1.85,
                1.79,
                1.91,
                2.91,
                1.73
               ]
              ]
             }
            ],
            "label": "ASHOKLEY",
            "method": "update"
           },
           {
            "args": [
             {
              "y": [
               [
                null,
                5.93,
                6.21,
                10.59,
                8.87,
                10.6,
                8.16,
                11.18,
                12.87,
                16.16,
                12.57,
                15.09,
                13.1,
                12.2
               ]
              ]
             }
            ],
            "label": "ASIANPAINT",
            "method": "update"
           },
           {
            "args": [
             {
              "y": [
               [
                null,
                2.76,
                5.27,
                4.75,
                5.28,
                3.32,
                2.57,
                3.46,
                7.66,
                4.46,
                4.88,
                4.23,
                6.76,
                4.48
               ]
              ]
             }
            ],
            "label": "ASTRAL",
            "method": "update"
           },
           {
            "args": [
             {
              "y": [
               [
                null,
                7.69,
                11.05,
                12.9,
                14.39,
                14.26,
                18.27,
                20.12,
                -17.43,
                19.78,
                20.13,
                21.05,
                24.62,
                20.83
               ]
              ]
             }
            ],
            "label": "AXISBANK",
            "method": "update"
           },
           {
            "args": [
             {
              "y": [
               [
                null,
                40.44,
                70.49,
                49.41,
                52.74,
                40.2,
                59.42,
                52.05,
                60.25,
                58.11,
                71.39,
                71.78,
                72.05,
                69.55
               ]
              ]
             }
            ],
            "label": "BAJAJ-AUTO",
            "method": "update"
           },
           {
            "args": [
             {
              "y": [
               [
                null,
                -1.91,
                5.48,
                4.2,
                3.42,
                3.74,
                5.24,
                5.31,
                4.52,
                3.23,
                2.37,
                3.25,
                2.54,
                2.44
               ]
              ]
             }
            ],
            "label": "BAJAJELEC",
            "method": "update"
           },
           {
            "args": [
             {
              "y": [
               [
                null,
                5.23,
                7.05,
                7.89,
                8.46,
                8.23,
                9.77,
                11.19,
                11.11,
                12.2,
                12.09,
                13.52,
                13.28,
                13.39
               ]
              ]
             }
            ],
            "label": "BAJAJFINSV",
            "method": "update"
           },
           {
            "args": [
             {
              "y": [
               [
                null,
                16.61,
                24.54,
                35.21,
                39.96,
                42.88,
                45.93,
                49.11,
                52.16,
                56.72,
                58.6,
                58.88,
                61.79,
                63.2
               ]
              ]
             }
            ],
            "label": "BAJFINANCE",
            "method": "update"
           },
           {
            "args": [
             {
              "y": [
               [
                null,
                27.89,
                24.61,
                27.64,
                33.55,
                37.95,
                28.57,
                19.31,
                14.63,
                16.27,
                10.71,
                15.24,
                21,
                13.36
               ]
              ]
             }
            ],
            "label": "BALAMINES",
            "method": "update"
           },
           {
            "args": [
             {
              "y": [
               [
                null,
                -5.41,
                2.89,
                5.63,
                4.9,
                9.29,
                4.27,
                6.47,
                5.11,
                8.32,
                2.64,
                4.51,
                4.95,
                13.54
               ]
              ]
             }
            ],
            "label": "BATAINDIA",
            "method": "update"
           },
           {
            "args": [
             {
              "y": [
               [
                null,
                0.03,
                0.85,
                0.82,
                1.58,
                0.5,
                0.85,
                0.84,
                1.89,
                0.74,
                1.08,
                1.18,
                2.46,
                1.08
               ]
              ]
             }
            ],
            "label": "BEL",
            "method": "update"
           },
           {
            "args": [
             {
              "y": [
               [
                null,
                1.21,
                1.88,
                2.17,
                1.89,
                2.17,
                1.88,
                1.72,
                1.59,
                3.04,
                2.5,
                2.57,
                1.91,
                3.03
               ]
              ]
             }
            ],
            "label": "BERGEPAINT",
            "method": "update"
           },
           {
            "args": [
             {
              "y": [
               [
                null,
                0.48,
                1.93,
                1.41,
                3.41,
                2.73,
                3.86,
                2.85,
                5.39,
                2.89,
                2.39,
                4.34,
                3.66,
                7.31
               ]
              ]
             }
            ],
            "label": "BHARTIARTL",
            "method": "update"
           },
           {
            "args": [
             {
              "y": [
               [
                null,
                -0.21,
                2.35,
                2.17,
                3.02,
                1.69,
                2.2,
                1.39,
                0.28,
                0.63,
                1.62,
                3.25,
                0.44,
                0.78
               ]
              ]
             }
            ],
            "label": "BOROLTD",
            "method": "update"
           },
           {
            "args": [
             {
              "y": [
               [
                null,
                16.17,
                15.95,
                15.41,
                15.77,
                14.01,
                20.48,
                38.71,
                23.19,
                19,
                24.39,
                23.1,
                22.35,
                20.99
               ]
              ]
             }
            ],
            "label": "BRITANNIA",
            "method": "update"
           },
           {
            "args": [
             {
              "y": [
               [
                null,
                3.95,
                4.82,
                4.53,
                5.51,
                3.25,
                2.5,
                3.81,
                6.73,
                32.68,
                8.9,
                7.99,
                7.91,
                19.58
               ]
              ]
             }
            ],
            "label": "BSE",
            "method": "update"
           },
           {
            "args": [
             {
              "y": [
               [
                null,
                12.95,
                14.86,
                15.81,
                15.1,
                13.24,
                14.72,
                15.05,
                15.23,
                15.58,
                17.2,
                18.17,
                21.06,
                22
               ]
              ]
             }
            ],
            "label": "CAMS",
            "method": "update"
           },
           {
            "args": [
             {
              "y": [
               [
                0.66,
                0.13,
                null,
                1.8,
                1.3,
                0.94,
                null,
                null,
                null,
                null,
                null,
                null,
                null,
                null
               ]
              ]
             }
            ],
            "label": "CAMPUS",
            "method": "update"
           },
           {
            "args": [
             {
              "y": [
               [
                null,
                6.11,
                8.22,
                8.01,
                7.43,
                5.53,
                7.69,
                7.14,
                6.04,
                7.04,
                10.42,
                10.28,
                12.37,
                12.84
               ]
              ]
             }
            ],
            "label": "CDSL",
            "method": "update"
           },
           {
            "args": [
             {
              "y": [
               [
                null,
                -26.9,
                -0.5,
                2.73,
                -4.94,
                -1.99,
                -5.32,
                -7.5,
                20.02,
                1.13,
                -3.54,
                5.63,
                -5.35,
                -2.98
               ]
              ]
             }
            ],
            "label": "CENTUM",
            "method": "update"
           },
           {
            "args": [
             {
              "y": [
               [
                null,
                0.4,
                1.49,
                4.03,
                0.77,
                0.85,
                1.17,
                1.49,
                2.79,
                1.33,
                1.59,
                4.89,
                1.53,
                1.58
               ]
              ]
             }
            ],
            "label": "CGPOWER",
            "method": "update"
           },
           {
            "args": [
             {
              "y": [
               [
                null,
                1.09,
                4.99,
                4.92,
                10.44,
                1.6,
                4.29,
                4.2,
                1.5,
                3.75,
                6.9,
                9.29,
                9.84,
                6.62
               ]
              ]
             }
            ],
            "label": "COCHINSHIP",
            "method": "update"
           },
           {
            "args": [
             {
              "y": [
               [
                null,
                20.4,
                24.2,
                30.17,
                34.1,
                24.58,
                32.99,
                37.37,
                18.79,
                27.06,
                29.41,
                38.54,
                36.19,
                19.97
               ]
              ]
             }
            ],
            "label": "COFORGE",
            "method": "update"
           },
           {
            "args": [
             {
              "y": [
               [
                null,
                4.25,
                4.16,
                4.67,
                4.25,
                4.88,
                4.98,
                4.83,
                4.58,
                4.03,
                6.03,
                5.43,
                5.2,
                4.24
               ]
              ]
             }
            ],
            "label": "CONCOR",
            "method": "update"
           },
           {
            "args": [
             {
              "y": [
               [
                null,
                10.44,
                11.01,
                11.95,
                13.98,
                10.52,
                7.16,
                14.12,
                14.76,
                15.2,
                16.1,
                13.28,
                17.06,
                12.97
               ]
              ]
             }
            ],
            "label": "CYIENT",
            "method": "update"
           },
           {
            "args": [
             {
              "y": [
               [
                null,
                2.47,
                2.85,
                2.85,
                1.66,
                2.49,
                2.77,
                2.69,
                1.7,
                2.62,
                2.91,
                2.9,
                1.97,
                2.82
               ]
              ]
             }
            ],
            "label": "DABUR",
            "method": "update"
           },
           {
            "args": [
             {
              "y": [
               [
                null,
                22.19,
                18.65,
                17.78,
                19.59,
                17.2,
                12.79,
                15.33,
                17.15,
                10.99,
                15.04,
                14.81,
                18.61,
                14.85
               ]
              ]
             }
            ],
            "label": "DEEPAKNTR",
            "method": "update"
           },
           {
            "args": [
             {
              "y": [
               [
                null,
                20.99,
                22.84,
                33.99,
                33.7,
                26.44,
                18.57,
                11.53,
                12.09,
                13.41,
                13.11,
                13.49,
                20.27,
                16.2
               ]
              ]
             }
            ],
            "label": "DIVISLAB",
            "method": "update"
           },
           {
            "args": [
             {
              "y": [
               [
                null,
                3.1,
                10.68,
                7.82,
                10.61,
                7.7,
                13.02,
                8.72,
                13.54,
                11.55,
                18.02,
                16.12,
                15.91,
                22.34
               ]
              ]
             }
            ],
            "label": "DIXON",
            "method": "update"
           },
           {
            "args": [
             {
              "y": [
               [
                null,
                1.47,
                6.45,
                8.53,
                6.59,
                9.93,
                10.59,
                9.1,
                7.1,
                10.12,
                9.58,
                10.61,
                8.66,
                11.89
               ]
              ]
             }
            ],
            "label": "DMART",
            "method": "update"
           },
           {
            "args": [
             {
              "y": [
               [
                null,
                22.87,
                59.84,
                42.62,
                5.83,
                71.44,
                66.93,
                74.7,
                57.65,
                84.36,
                88.87,
                82.78,
                78.52,
                83.46
               ]
              ]
             }
            ],
            "label": "DRREDDY",
            "method": "update"
           },
           {
            "args": [
             {
              "y": [
               [
                null,
                8.67,
                13.65,
                16.68,
                22.31,
                22.33,
                24.02,
                27.09,
                33.11,
                33.58,
                37.12,
                36.38,
                39.1,
                40.2
               ]
              ]
             }
            ],
            "label": "EICHERMOT",
            "method": "update"
           },
           {
            "args": [
             {
              "y": [
               [
                null,
                0.46,
                1.45,
                6.42,
                4.11,
                5.48,
                5.81,
                8.85,
                5.69,
                7.78,
                7.96,
                10.42,
                8.59,
                9.31
               ]
              ]
             }
            ],
            "label": "ETHOSLTD",
            "method": "update"
           },
           {
            "args": [
             {
              "y": [
               [
                null,
                0.39,
                2.31,
                2.1,
                46.58,
                2.39,
                2.84,
                2.34,
                2.12,
                2.62,
                3.17,
                2.36,
                2.17,
                2.59
               ]
              ]
             }
            ],
            "label": "EXIDEIND",
            "method": "update"
           },
           {
            "args": [
             {
              "y": [
               [
                null,
                11.71,
                16.27,
                16.95,
                39.74,
                52.12,
                66.09,
                34.65,
                48.74,
                32.54,
                33.71,
                30.73,
                37.36,
                36.94
               ]
              ]
             }
            ],
            "label": "FINEORG",
            "method": "update"
           },
           {
            "args": [
             {
              "y": [
               [
                null,
                0.59,
                7.88,
                7.25,
                3.65,
                10.14,
                14.45,
                4.15,
                7.86,
                11.27,
                15.82,
                6.43,
                6.91,
                5.62
               ]
              ]
             }
            ],
            "label": "GMMPFAUDLR",
            "method": "update"
           },
           {
            "args": [
             {
              "y": [
               [
                null,
                0.61,
                1.29,
                1.4,
                9.37,
                1.64,
                1.98,
                2.11,
                14.82,
                4.49,
                2.4,
                2.24,
                16.95,
                18.7
               ]
              ]
             }
            ],
            "label": "GODREJPROP",
            "method": "update"
           },
           {
            "args": [
             {
              "y": [
               [
                null,
                1.44,
                1.72,
                2.23,
                2.12,
                2.05,
                2.3,
                2.26,
                3.63,
                2.61,
                3.07,
                1.98,
                3.21,
                1.59
               ]
              ]
             }
            ],
            "label": "GREENLAM",
            "method": "update"
           },
           {
            "args": [
             {
              "y": [
               [
                4.6,
                2.43,
                5.47,
                5.14,
                6.57,
                6.33,
                5.91,
                3.06,
                5.62,
                3.04,
                3.34,
                2.82,
                2.43,
                null
               ]
              ]
             }
            ],
            "label": "GREENPANEL",
            "method": "update"
           },
           {
            "args": [
             {
              "y": [
               [
                null,
                1.8,
                5.13,
                5.5,
                4.12,
                4.38,
                5.13,
                5.58,
                4.83,
                6.69,
                7.05,
                7.7,
                9.74,
                7.61
               ]
              ]
             }
            ],
            "label": "GRSE",
            "method": "update"
           },
           {
            "args": [
             {
              "y": [
               [
                null,
                2.91,
                12.66,
                13.96,
                46.43,
                9.27,
                18.26,
                17.27,
                42.33,
                12.17,
                18.49,
                18.86,
                64.43,
                21.49
               ]
              ]
             }
            ],
            "label": "HAL",
            "method": "update"
           },
           {
            "args": [
             {
              "y": [
               [
                null,
                2.43,
                3.03,
                3.33,
                3.55,
                3.84,
                4.05,
                3.92,
                3.93,
                3.97,
                3.84,
                3.92,
                4.73,
                3.35
               ]
              ]
             }
            ],
            "label": "HAPPSTMNDS",
            "method": "update"
           },
           {
            "args": [
             {
              "y": [
               [
                null,
                3.76,
                4.83,
                4.88,
                5.63,
                3.88,
                2.98,
                4.53,
                5.71,
                4.58,
                3.97,
                4.59,
                7.13,
                6.51
               ]
              ]
             }
            ],
            "label": "HAVELLS",
            "method": "update"
           },
           {
            "args": [
             {
              "y": [
               [
                null,
                11.81,
                12.01,
                12.68,
                13.24,
                12.1,
                12.86,
                15.09,
                14.68,
                13.02,
                14.12,
                16.03,
                14.69,
                15.69
               ]
              ]
             }
            ],
            "label": "HCLTECH",
            "method": "update"
           },
           {
            "args": [
             {
              "y": [
               [
                null,
                null,
                null,
                null,
                null,
                null,
                17.06,
                17.3,
                17.63,
                22.36,
                20.45,
                22.86,
                25.33,
                28.27
               ]
              ]
             }
            ],
            "label": "HDFCAMC",
            "method": "update"
           },
           {
            "args": [
             {
              "y": [
               [
                null,
                14.33,
                16.43,
                19.11,
                18.83,
                17.25,
                19.97,
                22.77,
                22.57,
                22.12,
                22.17,
                22.73,
                23.2,
                21.65
               ]
              ]
             }
            ],
            "label": "HDFCBANK",
            "method": "update"
           },
           {
            "args": [
             {
              "y": [
               [
                null,
                1.33,
                1.36,
                1.36,
                2.4,
                1.71,
                1.53,
                1.47,
                1.68,
                1.94,
                1.76,
                1.71,
                1.91,
                2.23
               ]
              ]
             }
            ],
            "label": "HDFCLIFE",
            "method": "update"
           },
           {
            "args": [
             {
              "y": [
               [
                null,
                3.26,
                3.53,
                2.24,
                1.37,
                0.78,
                2.05,
                1.48,
                1.93,
                1.8,
                2.41,
                2.9,
                4.36,
                6.3
               ]
              ]
             }
            ],
            "label": "HERITGFOOD",
            "method": "update"
           },
           {
            "args": [
             {
              "y": [
               [
                null,
                12.82,
                37.32,
                35.22,
                30.6,
                29.55,
                34.45,
                36.33,
                40.29,
                35.53,
                50.35,
                54.7,
                46.77,
                52.31
               ]
              ]
             }
            ],
            "label": "HEROMOTOCO",
            "method": "update"
           },
           {
            "args": [
             {
              "y": [
               [
                null,
                8.92,
                9.28,
                9.78,
                9.81,
                10.13,
                11.34,
                10.53,
                11.07,
                10.87,
                11.3,
                10.68,
                10.89,
                11.11
               ]
              ]
             }
            ],
            "label": "HINDUNILVR",
            "method": "update"
           },
           {
            "args": [
             {
              "y": [
               [
                null,
                2.11,
                1.9,
                1.13,
                3.41,
                2.25,
                2.84,
                1.8,
                3.34,
                1.36,
                1.47,
                0.44,
                1.45,
                0.5
               ]
              ]
             }
            ],
            "label": "HLEGLAS",
            "method": "update"
           },
           {
            "args": [
             {
              "y": [
               [
                null,
                0.96,
                1.03,
                1.1,
                1.09,
                1.32,
                1.68,
                1.51,
                1.79,
                2.07,
                2.19,
                1.95,
                2,
                2.38
               ]
              ]
             }
            ],
            "label": "HNDFDS",
            "method": "update"
           },
           {
            "args": [
             {
              "y": [
               [
                null,
                6.88,
                8.78,
                9.41,
                11.11,
                10.62,
                11.49,
                12.6,
                14.11,
                15.2,
                15.56,
                15.76,
                16.62,
                16.62
               ]
              ]
             }
            ],
            "label": "ICICIBANK",
            "method": "update"
           },
           {
            "args": [
             {
              "y": [
               [
                null,
                4.27,
                9.11,
                6.47,
                6.37,
                7.11,
                12.02,
                7.18,
                8.9,
                7.95,
                11.75,
                8.76,
                10.54,
                11.77
               ]
              ]
             }
            ],
            "label": "ICICIGI",
            "method": "update"
           },
           {
            "args": [
             {
              "y": [
               [
                null,
                -1.29,
                3.1,
                2.17,
                1.3,
                1.09,
                1.39,
                1.54,
                1.64,
                1.43,
                1.69,
                1.58,
                1.21,
                1.56
               ]
              ]
             }
            ],
            "label": "ICICIPRULI",
            "method": "update"
           },
           {
            "args": [
             {
              "y": [
               [
                null,
                null,
                null,
                null,
                null,
                4552.98,
                438.19,
                -3.73,
                -2.54,
                4.95,
                0.21,
                3.45,
                2.41,
                0.27
               ]
              ]
             }
            ],
            "label": "IDEAFORGE",
            "method": "update"
           },
           {
            "args": [
             {
              "y": [
               [
                null,
                -1,
                0.18,
                0.47,
                0.57,
                0.78,
                0.91,
                0.99,
                1.23,
                1.1,
                1.11,
                1.04,
                1.04,
                0.91
               ]
              ]
             }
            ],
            "label": "IDFCFIRSTB",
            "method": "update"
           },
           {
            "args": [
             {
              "y": [
               [
                null,
                -82.47,
                -37.28,
                3.37,
                -43.65,
                -27.62,
                -41.08,
                36.91,
                23.84,
                80.16,
                4.9,
                77.68,
                49.09,
                70.7
               ]
              ]
             }
            ],
            "label": "INDIGO",
            "method": "update"
           },
           {
            "args": [
             {
              "y": [
               [
                null,
                null,
                null,
                null,
                null,
                4.19,
                7.8,
                5.52,
                10.23,
                6.52,
                5.32,
                7.82,
                11.27,
                5.5
               ]
              ]
             }
            ],
            "label": "INDIGOPNTS",
            "method": "update"
           },
           {
            "args": [
             {
              "y": [
               [
                null,
                12.2,
                12.89,
                13.81,
                13.52,
                12.74,
                14.31,
                15.7,
                14.77,
                14.32,
                14.97,
                14.71,
                19.2,
                15.34
               ]
              ]
             }
            ],
            "label": "INFY",
            "method": "update"
           },
           {
            "args": [
             {
              "y": [
               [
                null,
                0.95,
                1.34,
                1.44,
                2.57,
                1.54,
                1.85,
                2.02,
                2.73,
                1.99,
                2.67,
                2.6,
                2.62,
                2.38
               ]
              ]
             }
            ],
            "label": "IRCON",
            "method": "update"
           },
           {
            "args": [
             {
              "y": [
               [
                null,
                null,
                null,
                null,
                null,
                null,
                null,
                null,
                3.48,
                2.9,
                null,
                3.75,
                3.55,
                3.85
               ]
              ]
             }
            ],
            "label": "IRCTC",
            "method": "update"
           },
           {
            "args": [
             {
              "y": [
               [
                null,
                null,
                null,
                null,
                null,
                null,
                null,
                0.88,
                1.11,
                1.29,
                1.25,
                1.25,
                1.26,
                1.43
               ]
              ]
             }
            ],
            "label": "IREDA",
            "method": "update"
           },
           {
            "args": [
             {
              "y": [
               [
                null,
                2.66,
                3.01,
                3.29,
                3.4,
                3.56,
                3.73,
                4.03,
                4.16,
                4.1,
                3.93,
                4.28,
                4.1,
                4.08
               ]
              ]
             }
            ],
            "label": "ITC",
            "method": "update"
           },
           {
            "args": [
             {
              "y": [
               [
                null,
                null,
                null,
                null,
                null,
                null,
                null,
                null,
                null,
                null,
                1.05,
                0.46,
                0.49,
                0.49
               ]
              ]
             }
            ],
            "label": "JIOFIN",
            "method": "update"
           },
           {
            "args": [
             {
              "y": [
               [
                null,
                1.05,
                1.82,
                2.03,
                1.47,
                1.71,
                1.99,
                1.22,
                0.43,
                0.44,
                1.47,
                1,
                3.14,
                0.85
               ]
              ]
             }
            ],
            "label": "JUBLFOOD",
            "method": "update"
           },
           {
            "args": [
             {
              "y": [
               [
                null,
                -0.5,
                0.67,
                1.31,
                0.7,
                1.05,
                1.03,
                1.44,
                0.68,
                1.4,
                1.31,
                1.75,
                1.34,
                1.72
               ]
              ]
             }
            ],
            "label": "KALYANKJIL",
            "method": "update"
           },
           {
            "args": [
             {
              "y": [
               [
                null,
                null,
                null,
                13.96,
                4.3,
                2.18,
                null,
                3.93,
                7.1,
                4.24,
                5.56,
                7.07,
                12.71,
                7.94
               ]
              ]
             }
            ],
            "label": "KAYNES",
            "method": "update"
           },
           {
            "args": [
             {
              "y": [
               [
                null,
                7.45,
                10.18,
                11.23,
                12.87,
                11.52,
                11.85,
                14.26,
                15.31,
                13.46,
                15.54,
                16.7,
                18.67,
                16.65
               ]
              ]
             }
            ],
            "label": "KEI",
            "method": "update"
           },
           {
            "args": [
             {
              "y": [
               [
                null,
                9.11,
                15.07,
                17.15,
                19.61,
                13.88,
                18.17,
                20.12,
                22.99,
                20.88,
                22.45,
                21.46,
                26.85,
                37.47
               ]
              ]
             }
            ],
            "label": "KOTAKBANK",
            "method": "update"
           },
           {
            "args": [
             {
              "y": [
               [
                null,
                0.74,
                1.13,
                1.21,
                0.91,
                2.05,
                1.95,
                3.18,
                2.93,
                3.07,
                3.2,
                4.2,
                3.57,
                5.48
               ]
              ]
             }
            ],
            "label": "KPIGREEN",
            "method": "update"
           },
           {
            "args": [
             {
              "y": [
               [
                null,
                2.2,
                2.37,
                2.55,
                2.88,
                3.12,
                3.05,
                3.67,
                4.07,
                4.89,
                5.14,
                5.67,
                6,
                7.45
               ]
              ]
             }
            ],
            "label": "KPITTECH",
            "method": "update"
           },
           {
            "args": [
             {
              "y": [
               [
                null,
                33.77,
                2.19,
                1.31,
                -2.02,
                41.81,
                0.91,
                6.81,
                -2.77,
                48.91,
                2.45,
                2.11,
                -0.05,
                56.28
               ]
              ]
             }
            ],
            "label": "KSCL",
            "method": "update"
           },
           {
            "args": [
             {
              "y": [
               [
                null,
                15.74,
                11.4,
                6.88,
                7.35,
                6.92,
                8.6,
                6.33,
                6.8,
                9.9,
                13.09,
                9.74,
                10.12,
                12.75
               ]
              ]
             }
            ],
            "label": "LALPATHLAB",
            "method": "update"
           },
           {
            "args": [
             {
              "y": [
               [
                null,
                27.39,
                1.25,
                2.52,
                1.77,
                1.57,
                1.86,
                2.58,
                1.67,
                1.6,
                1.66,
                2.26,
                2.2,
                1.91
               ]
              ]
             }
            ],
            "label": "LATENTVIEW",
            "method": "update"
           },
           {
            "args": [
             {
              "y": [
               [
                null,
                8.36,
                12.95,
                14.63,
                25.77,
                12.11,
                15.86,
                18.17,
                28.37,
                17.74,
                23.45,
                21.44,
                31.98,
                20.26
               ]
              ]
             }
            ],
            "label": "LT",
            "method": "update"
           },
           {
            "args": [
             {
              "y": [
               [
                null,
                28.39,
                31.48,
                34.93,
                36.34,
                63.06,
                40.18,
                33.82,
                37.65,
                38.92,
                39.26,
                39.49,
                37.14,
                38.28
               ]
              ]
             }
            ],
            "label": "LTIM",
            "method": "update"
           },
           {
            "args": [
             {
              "y": [
               [
                null,
                20.58,
                21.87,
                23.59,
                24.83,
                26.09,
                28.41,
                28.11,
                32.2,
                29.44,
                29.84,
                31.79,
                32.24,
                29.63
               ]
              ]
             }
            ],
            "label": "LTTS",
            "method": "update"
           },
           {
            "args": [
             {
              "y": [
               [
                null,
                3.88,
                0.55,
                3.11,
                2.65,
                2.43,
                0.32,
                1.03,
                0.92,
                1.44,
                0.4,
                0.99,
                1.61,
                1.24
               ]
              ]
             }
            ],
            "label": "LXCHEM",
            "method": "update"
           },
           {
            "args": [
             {
              "y": [
               [
                null,
                3.41,
                15.51,
                15.99,
                18,
                17.66,
                22.3,
                21.53,
                21.2,
                28.21,
                18.88,
                21.38,
                22.15,
                26.4
               ]
              ]
             }
            ],
            "label": "M&M",
            "method": "update"
           },
           {
            "args": [
             {
              "y": [
               [
                null,
                null,
                null,
                null,
                4.75,
                7.3,
                10.48,
                7.09,
                7.13,
                12.15,
                12.51,
                11.33,
                11.76,
                13.39
               ]
              ]
             }
            ],
            "label": "MANKIND",
            "method": "update"
           },
           {
            "args": [
             {
              "y": [
               [
                null,
                53.18,
                6.36,
                3.48,
                4.23,
                4.54,
                4.74,
                5.52,
                5.22,
                6,
                6.11,
                5.69,
                7.02,
                6.62
               ]
              ]
             }
            ],
            "label": "MAPMYINDIA",
            "method": "update"
           },
           {
            "args": [
             {
              "y": [
               [
                null,
                2.76,
                2.39,
                2.4,
                1.94,
                2.87,
                2.33,
                2.54,
                2.34,
                3.3,
                2.73,
                2.96,
                2.46,
                3.58
               ]
              ]
             }
            ],
            "label": "MARICO",
            "method": "update"
           },
           {
            "args": [
             {
              "y": [
               [
                null,
                15.72,
                16.12,
                34.49,
                62.1,
                34.3,
                69.93,
                79.65,
                88.97,
                84.18,
                125.33,
                102,
                125.71,
                119.58
               ]
              ]
             }
            ],
            "label": "MARUTI",
            "method": "update"
           },
           {
            "args": [
             {
              "y": [
               [
                null,
                5.04,
                6.69,
                10.67,
                7.88,
                11.14,
                10.61,
                17.56,
                16.17,
                15.59,
                16.5,
                31.08,
                32.87,
                34.51
               ]
              ]
             }
            ],
            "label": "MAZDOCK",
            "method": "update"
           },
           {
            "args": [
             {
              "y": [
               [
                1.69,
                null,
                1.89,
                3.69,
                2.49,
                3.8,
                2.72,
                4.22,
                2.44,
                3.91,
                2.92,
                3.52,
                6.05,
                3.4
               ]
              ]
             }
            ],
            "label": "METROBRAND",
            "method": "update"
           },
           {
            "args": [
             {
              "y": [
               [
                null,
                1.16,
                1.3,
                0.59,
                1.67,
                1.1,
                2.43,
                3.26,
                3.58,
                2.21,
                2.86,
                2.47,
                2.26,
                1.81
               ]
              ]
             }
            ],
            "label": "MOLDTECH",
            "method": "update"
           },
           {
            "args": [
             {
              "y": [
               [
                null,
                4.32,
                6.24,
                5.51,
                5.54,
                6.55,
                5.86,
                4.92,
                6.94,
                5.65,
                4.73,
                4.28,
                5.41,
                4.97
               ]
              ]
             }
            ],
            "label": "MOLDTKPAC",
            "method": "update"
           },
           {
            "args": [
             {
              "y": [
               [
                null,
                0.61,
                0.46,
                0.52,
                0.18,
                0.21,
                0.36,
                0.67,
                0.97,
                0.89,
                0.3,
                0.8,
                2.02,
                1.47
               ]
              ]
             }
            ],
            "label": "MOTHERSON",
            "method": "update"
           },
           {
            "args": [
             {
              "y": [
               [
                null,
                2.83,
                6.19,
                4.33,
                6.44,
                5.27,
                8.03,
                10.22,
                10.1,
                6.61,
                6.65,
                3.4,
                1.58,
                1.44
               ]
              ]
             }
            ],
            "label": "MTARTECH",
            "method": "update"
           },
           {
            "args": [
             {
              "y": [
               [
                null,
                null,
                null,
                null,
                null,
                null,
                80.9,
                60.25,
                67.43,
                1.33,
                4.35,
                2.42,
                1.1,
                1.51
               ]
              ]
             }
            ],
            "label": "MUFTI",
            "method": "update"
           },
           {
            "args": [
             {
              "y": [
               [
                null,
                24.37,
                24.97,
                25.91,
                24.84,
                20.41,
                22.22,
                23.11,
                24.25,
                25.46,
                26.39,
                27.49,
                28.37,
                28.99
               ]
              ]
             }
            ],
            "label": "MUTHOOTFIN",
            "method": "update"
           },
           {
            "args": [
             {
              "y": [
               [
                null,
                11.83,
                572.37,
                357.33,
                48.83,
                13.87,
                7.99,
                -9.02,
                -21.12,
                12.28,
                15.88,
                11.68,
                4.67,
                18
               ]
              ]
             }
            ],
            "label": "NAUKRI",
            "method": "update"
           },
           {
            "args": [
             {
              "y": [
               [
                null,
                11.29,
                12.77,
                13.88,
                15.17,
                15.02,
                11.67,
                21.5,
                27.5,
                12.41,
                12.22,
                15.74,
                14.19,
                10.32
               ]
              ]
             }
            ],
            "label": "NAVINFLUOR",
            "method": "update"
           },
           {
            "args": [
             {
              "y": [
               [
                null,
                0.87,
                1.71,
                1.58,
                0.34,
                1.75,
                1.55,
                2.49,
                0.39,
                2.95,
                3,
                3.51,
                1.11,
                2.96
               ]
              ]
             }
            ],
            "label": "NAZARA",
            "method": "update"
           },
           {
            "args": [
             {
              "y": [
               [
                null,
                3.15,
                4.79,
                4.48,
                6.27,
                4.45,
                3.96,
                5.89,
                5.74,
                3.91,
                3.18,
                0.4,
                6.42,
                4.35
               ]
              ]
             }
            ],
            "label": "NEOGEN",
            "method": "update"
           },
           {
            "args": [
             {
              "y": [
               [
                null,
                5.59,
                6.4,
                3.94,
                6.13,
                5.29,
                6.86,
                6.51,
                7.64,
                7.24,
                9.42,
                6.8,
                9.69,
                7.74
               ]
              ]
             }
            ],
            "label": "NESTLEIND",
            "method": "update"
           },
           {
            "args": [
             {
              "y": [
               [
                null,
                null,
                null,
                null,
                null,
                9.91,
                16.14,
                38.32,
                2.07,
                0.98,
                2.7,
                4.64,
                5.26,
                2.74
               ]
              ]
             }
            ],
            "label": "NETWEB",
            "method": "update"
           },
           {
            "args": [
             {
              "y": [
               [
                null,
                9.82,
                143.89,
                156.51,
                170.81,
                185.62,
                145.36,
                110.93,
                70.24,
                141.98,
                134.73,
                136.59,
                97.01,
                148.13
               ]
              ]
             }
            ],
            "label": "PAGEIND",
            "method": "update"
           },
           {
            "args": [
             {
              "y": [
               [
                null,
                0.33,
                2.07,
                1.97,
                2.64,
                1.81,
                2.17,
                2.5,
                2.76,
                1.54,
                2.42,
                1.71,
                2.56,
                3.81
               ]
              ]
             }
            ],
            "label": "PARAS",
            "method": "update"
           },
           {
            "args": [
             {
              "y": [
               [
                null,
                9.89,
                10.58,
                11.54,
                13.15,
                13.84,
                14.39,
                15.56,
                16.45,
                14.86,
                17.11,
                18.59,
                20.47,
                19.89
               ]
              ]
             }
            ],
            "label": "PERSISTENT",
            "method": "update"
           },
           {
            "args": [
             {
              "y": [
               [
                null,
                4.33,
                7.37,
                7.05,
                5,
                6.96,
                6.54,
                5.98,
                5.57,
                9.21,
                8.85,
                10.04,
                5.91,
                11.15
               ]
              ]
             }
            ],
            "label": "PIDILITIND",
            "method": "update"
           },
           {
            "args": [
             {
              "y": [
               [
                null,
                12.34,
                15.13,
                14.67,
                13.47,
                17.3,
                22.07,
                23.19,
                18.49,
                25.24,
                31.67,
                29.57,
                24.35,
                29.58
               ]
              ]
             }
            ],
            "label": "PIIND",
            "method": "update"
           },
           {
            "args": [
             {
              "y": [
               [
                null,
                4.96,
                13.26,
                21.05,
                21.56,
                14.69,
                17.91,
                23.89,
                28.38,
                26.67,
                28.37,
                27.49,
                36.34,
                26.34
               ]
              ]
             }
            ],
            "label": "POLYCAB",
            "method": "update"
           },
           {
            "args": [
             {
              "y": [
               [
                null,
                1.61,
                6.92,
                6.09,
                7.98,
                1.45,
                -2.18,
                3.2,
                8.51,
                1.77,
                6.39,
                3.4,
                4.94,
                2.23
               ]
              ]
             }
            ],
            "label": "PRINCEPIPE",
            "method": "update"
           },
           {
            "args": [
             {
              "y": [
               [
                null,
                0.65,
                2.08,
                2.07,
                1.69,
                0.78,
                1.72,
                1,
                2.34,
                1.2,
                2.12,
                1.94,
                2.42,
                1.52
               ]
              ]
             }
            ],
            "label": "RAILTEL",
            "method": "update"
           },
           {
            "args": [
             {
              "y": [
               [
                null,
                -23.5,
                8,
                15.06,
                39.54,
                12.15,
                23.85,
                14.24,
                29.18,
                159.95,
                23.99,
                27.55,
                34.42,
                1106.08
               ]
              ]
             }
            ],
            "label": "RAYMOND",
            "method": "update"
           },
           {
            "args": [
             {
              "y": [
               [
                null,
                null,
                null,
                null,
                null,
                null,
                null,
                null,
                2.5,
                3.38,
                2.01,
                4.4,
                2.96,
                2.22
               ]
              ]
             }
            ],
            "label": "REDTAPE",
            "method": "update"
           },
           {
            "args": [
             {
              "y": [
               [
                null,
                1.25,
                2.76,
                2.82,
                2.53,
                1.55,
                0.9,
                1.21,
                2.54,
                2.26,
                1.78,
                1.55,
                2.47,
                1.78
               ]
              ]
             }
            ],
            "label": "RELAXO",
            "method": "update"
           },
           {
            "args": [
             {
              "y": [
               [
                null,
                19.36,
                21.58,
                27.42,
                23.95,
                26.54,
                20.19,
                23.34,
                28.53,
                23.67,
                25.71,
                25.52,
                28.01,
                22.37
               ]
              ]
             }
            ],
            "label": "RELIANCE",
            "method": "update"
           },
           {
            "args": [
             {
              "y": [
               [
                null,
                4.46,
                4.76,
                4.14,
                4.37,
                5.21,
                4.34,
                4.66,
                5.25,
                5.3,
                5.97,
                6.23,
                6.18,
                6.32
               ]
              ]
             }
            ],
            "label": "ROSSARI",
            "method": "update"
           },
           {
            "args": [
             {
              "y": [
               [
                null,
                5.86,
                7.28,
                7.08,
                7.25,
                11.01,
                11.84,
                13.23,
                16.27,
                14.8,
                14.18,
                16.89,
                14.03,
                12.51
               ]
              ]
             }
            ],
            "label": "ROUTE",
            "method": "update"
           },
           {
            "args": [
             {
              "y": [
               [
                null,
                1.11,
                1.34,
                1.41,
                1.81,
                1.43,
                1.83,
                1.83,
                1.72,
                1.64,
                1.89,
                1.72,
                2.3,
                1.07
               ]
              ]
             }
            ],
            "label": "RVNL",
            "method": "update"
           },
           {
            "args": [
             {
              "y": [
               [
                null,
                3.24,
                3.66,
                4.09,
                6.16,
                6.65,
                5.57,
                5.39,
                6.3,
                6.27,
                6.37,
                5.78,
                6.97,
                6.25
               ]
              ]
             }
            ],
            "label": "SBICARD",
            "method": "update"
           },
           {
            "args": [
             {
              "y": [
               [
                null,
                8.27,
                9.96,
                10.71,
                10.7,
                8.21,
                16.53,
                17.34,
                20.27,
                20.77,
                18.04,
                12.4,
                23.96,
                21.65
               ]
              ]
             }
            ],
            "label": "SBIN",
            "method": "update"
           },
           {
            "args": [
             {
              "y": [
               [
                null,
                3.98,
                8.99,
                7.02,
                9.55,
                8.44,
                18.32,
                12.99,
                13.24,
                12.79,
                16.04,
                14.19,
                22.53,
                16.22
               ]
              ]
             }
            ],
            "label": "SIEMENS",
            "method": "update"
           },
           {
            "args": [
             {
              "y": [
               [
                null,
                1.41,
                1.51,
                1.48,
                1.79,
                1.3,
                1.58,
                1.83,
                2.05,
                1.91,
                2.12,
                2.26,
                2.54,
                2.42
               ]
              ]
             }
            ],
            "label": "SONACOMS",
            "method": "update"
           },
           {
            "args": [
             {
              "y": [
               [
                null,
                -0.78,
                -0.38,
                -0.22,
                -1.35,
                0.36,
                0.32,
                -1.92,
                0.82,
                -0.88,
                -0.81,
                -0.92,
                -1.03,
                -0.78
               ]
              ]
             }
            ],
            "label": "SPICELEC",
            "method": "update"
           },
           {
            "args": [
             {
              "y": [
               [
                null,
                13.35,
                12.91,
                17.05,
                20.43,
                20.51,
                16.23,
                17.24,
                18.97,
                12.12,
                10.15,
                8.55,
                14.24,
                8.51
               ]
              ]
             }
            ],
            "label": "SRF",
            "method": "update"
           },
           {
            "args": [
             {
              "y": [
               [
                null,
                6.02,
                8.53,
                8.58,
                -9.49,
                8.59,
                9.43,
                9.03,
                8.27,
                8.43,
                9.9,
                10.52,
                11.06,
                11.82
               ]
              ]
             }
            ],
            "label": "SUNPHARMA",
            "method": "update"
           },
           {
            "args": [
             {
              "y": [
               [
                null,
                1.93,
                2.8,
                2.77,
                2.27,
                2.67,
                3.43,
                3.65,
                2.78,
                3.28,
                3.51,
                2.89,
                2.19,
                2.93
               ]
              ]
             }
            ],
            "label": "TATACONSUM",
            "method": "update"
           },
           {
            "args": [
             {
              "y": [
               [
                null,
                18.21,
                20.12,
                24.24,
                25.69,
                29.66,
                27.98,
                31.26,
                32.36,
                30.32,
                32.15,
                33.15,
                31.62,
                29.56
               ]
              ]
             }
            ],
            "label": "TATAELXSI",
            "method": "update"
           },
           {
            "args": [
             {
              "y": [
               [
                null,
                10.64,
                19.86,
                7.87,
                3.98,
                17.78,
                21.17,
                6.82,
                4.01,
                29.02,
                24.6,
                10.52,
                11.95,
                25.91
               ]
              ]
             }
            ],
            "label": "TATAINVEST",
            "method": "update"
           },
           {
            "args": [
             {
              "y": [
               [
                null,
                -13.41,
                -13.38,
                -4.57,
                -3.11,
                -15.08,
                -2.84,
                8.91,
                16.28,
                9.64,
                11.33,
                21.14,
                52.37,
                16.74
               ]
              ]
             }
            ],
            "label": "TATAMOTORS",
            "method": "update"
           },
           {
            "args": [
             {
              "y": [
               [
                null,
                1.22,
                1.32,
                1.33,
                1.57,
                2.49,
                2.56,
                2.96,
                2.43,
                3.04,
                2.74,
                2.98,
                2.8,
                3.04
               ]
              ]
             }
            ],
            "label": "TATAPOWER",
            "method": "update"
           },
           {
            "args": [
             {
              "y": [
               [
                null,
                null,
                null,
                null,
                null,
                null,
                null,
                36.58,
                5.34,
                4.72,
                3.95,
                4.2,
                3.88,
                3.99
               ]
              ]
             }
            ],
            "label": "TATATECH",
            "method": "update"
           },
           {
            "args": [
             {
              "y": [
               [
                null,
                24.35,
                26.02,
                26.41,
                27.13,
                25.9,
                28.51,
                29.64,
                31.13,
                30.26,
                31,
                30.56,
                34.37,
                33.28
               ]
              ]
             }
            ],
            "label": "TCS",
            "method": "update"
           },
           {
            "args": [
             {
              "y": [
               [
                null,
                13.97,
                13.81,
                14.1,
                15.49,
                11.64,
                13.21,
                13.32,
                11.47,
                7.1,
                5.06,
                5.23,
                6.77,
                8.71
               ]
              ]
             }
            ],
            "label": "TECHM",
            "method": "update"
           },
           {
            "args": [
             {
              "y": [
               [
                null,
                6.22,
                9.65,
                14.46,
                9.27,
                10.08,
                11.08,
                12.19,
                16.14,
                11.14,
                13.62,
                27.5,
                9.8,
                11.64
               ]
              ]
             }
            ],
            "label": "TIINDIA",
            "method": "update"
           },
           {
            "args": [
             {
              "y": [
               [
                null,
                1.46,
                0.48,
                0.12,
                -2.09,
                0.1,
                4.03,
                2.72,
                4.03,
                5.17,
                5.55,
                5.56,
                5.86,
                4.98
               ]
              ]
             }
            ],
            "label": "TITAGARH",
            "method": "update"
           },
           {
            "args": [
             {
              "y": [
               [
                null,
                0.23,
                7.2,
                11.31,
                5.74,
                8.84,
                9.36,
                10.18,
                8.22,
                8.48,
                10.31,
                11.86,
                8.68,
                8.05
               ]
              ]
             }
            ],
            "label": "TITAN",
            "method": "update"
           },
           {
            "args": [
             {
              "y": [
               [
                null,
                9.75,
                9.34,
                7.36,
                -3.49,
                10.46,
                9.22,
                8.63,
                8.48,
                11.17,
                11.41,
                13.09,
                13.27,
                13.5
               ]
              ]
             }
            ],
            "label": "TORNTPHARM",
            "method": "update"
           },
           {
            "args": [
             {
              "y": [
               [
                null,
                -3.56,
                2.6,
                3.93,
                0,
                3.67,
                2.62,
                4.7,
                1.52,
                4.88,
                6.6,
                10.53,
                19.81,
                11.04
               ]
              ]
             }
            ],
            "label": "TRENT",
            "method": "update"
           },
           {
            "args": [
             {
              "y": [
               [
                null,
                -0.22,
                5.1,
                5.21,
                5.84,
                6.43,
                8.13,
                6.33,
                7.07,
                9.14,
                8.13,
                10.08,
                8.15,
                9.7
               ]
              ]
             }
            ],
            "label": "TVSMOTOR",
            "method": "update"
           },
           {
            "args": [
             {
              "y": [
               [
                null,
                1.17,
                3.04,
                3.43,
                6.18,
                6.13,
                5.07,
                -0.07,
                0.37,
                5.15,
                4.06,
                3.23,
                3.07,
                6.56
               ]
              ]
             }
            ],
            "label": "UBL",
            "method": "update"
           },
           {
            "args": [
             {
              "y": [
               [
                null,
                0.76,
                4.02,
                4.12,
                2.5,
                3.66,
                7.61,
                2.95,
                1.41,
                6.56,
                4.66,
                4.81,
                3.31,
                6.67
               ]
              ]
             }
            ],
            "label": "UNITDSPR",
            "method": "update"
           },
           {
            "args": [
             {
              "y": [
               [
                null,
                0.28,
                1.66,
                1.77,
                2.53,
                2.43,
                2.97,
                2.83,
                3.19,
                3.01,
                3.93,
                3.37,
                5.04,
                3.47
               ]
              ]
             }
            ],
            "label": "UNOMINDA",
            "method": "update"
           },
           {
            "args": [
             {
              "y": [
               [
                null,
                2.37,
                1.85,
                0.13,
                1.96,
                6.06,
                2.93,
                0.58,
                3.3,
                7.65,
                3.86,
                1.02,
                4.13,
                9.64
               ]
              ]
             }
            ],
            "label": "VBL",
            "method": "update"
           },
           {
            "args": [
             {
              "y": [
               [
                null,
                7.87,
                7.91,
                8.1,
                9.84,
                9.85,
                11.29,
                10.4,
                10.18,
                6.75,
                7.05,
                7.49,
                10.05,
                8.12
               ]
              ]
             }
            ],
            "label": "VINATIORGA",
            "method": "update"
           },
           {
            "args": [
             {
              "y": [
               [
                null,
                3.65,
                2.2,
                5.27,
                3.65,
                4.16,
                2.84,
                6.19,
                4.48,
                3.79,
                2.01,
                6.49,
                4.77,
                2.57
               ]
              ]
             }
            ],
            "label": "MANYAVAR",
            "method": "update"
           },
           {
            "args": [
             {
              "y": [
               [
                null,
                3.68,
                3.13,
                2.9,
                5.52,
                3.29,
                -0.22,
                -3.34,
                4.35,
                3.91,
                1.11,
                -0.92,
                3.52,
                10.1
               ]
              ]
             }
            ],
            "label": "VOLTAS",
            "method": "update"
           },
           {
            "args": [
             {
              "y": [
               [
                null,
                -2.14,
                -0.28,
                1.34,
                0.98,
                1.51,
                2.02,
                2.33,
                1.29,
                1.85,
                1.43,
                1.11,
                0.05,
                0.21
               ]
              ]
             }
            ],
            "label": "WESTLIFE",
            "method": "update"
           },
           {
            "args": [
             {
              "y": [
               [
                null,
                5.92,
                5.35,
                5.42,
                5.63,
                4.68,
                4.85,
                5.56,
                5.6,
                5.23,
                5.07,
                5.16,
                5.42,
                5.74
               ]
              ]
             }
            ],
            "label": "WIPRO",
            "method": "update"
           },
           {
            "args": [
             {
              "y": [
               [
                null,
                10.01,
                12.44,
                12.71,
                11.69,
                16.99,
                19.61,
                9.18,
                13.76,
                12.97,
                10.23,
                11.88,
                15.74,
                -2.16
               ]
              ]
             }
            ],
            "label": "YASHO",
            "method": "update"
           },
           {
            "args": [
             {
              "y": [
               [
                null,
                -0.14,
                0,
                -0.02,
                0.42,
                0.94,
                0.71,
                1.19,
                2.54,
                5.6,
                1.82,
                3.64,
                4.16,
                9.14
               ]
              ]
             }
            ],
            "label": "ZENTEC",
            "method": "update"
           }
          ],
          "direction": "down",
          "showactive": true
         }
        ],
        "xaxis": {
         "autorange": true,
         "range": [
          -0.5,
          13.5
         ],
         "type": "category"
        },
        "yaxis": {
         "autorange": true,
         "range": [
          0,
          2.5473684210526315
         ],
         "type": "linear"
        }
       }
      },
      "image/png": "[encoded data removed]",
      "text/html": [
       "<div>                            <div id=\"c494d2de-45ea-4ad1-9da5-71bf0a8ecd5a\" class=\"plotly-graph-div\" style=\"height:525px; width:100%;\"></div>            <script type=\"text/javascript\">                require([\"plotly\"], function(Plotly) {                    window.PLOTLYENV=window.PLOTLYENV || {};                                    if (document.getElementById(\"c494d2de-45ea-4ad1-9da5-71bf0a8ecd5a\")) {                    Plotly.newPlot(                        \"c494d2de-45ea-4ad1-9da5-71bf0a8ecd5a\",                        [{\"x\":[\"Mar 2021\",\"Jun 2021\",\"Sep 2021\",\"Dec 2021\",\"Mar 2022\",\"Jun 2022\",\"Sep 2022\",\"Dec 2022\",\"Mar 2023\",\"Jun 2023\",\"Sep 2023\",\"Dec 2023\",\"Mar 2024\",\"Jun 2024\"],\"y\":[null,2.99,3.77,4.3,1.54,3.35,2.84,2.25,0.25,0.36,-1.59,-0.19,-2.59,2.83],\"type\":\"bar\"}],                        {\"template\":{\"data\":{\"histogram2dcontour\":[{\"type\":\"histogram2dcontour\",\"colorbar\":{\"outlinewidth\":0,\"ticks\":\"\"},\"colorscale\":[[0.0,\"#0d0887\"],[0.1111111111111111,\"#46039f\"],[0.2222222222222222,\"#7201a8\"],[0.3333333333333333,\"#9c179e\"],[0.4444444444444444,\"#bd3786\"],[0.5555555555555556,\"#d8576b\"],[0.6666666666666666,\"#ed7953\"],[0.7777777777777778,\"#fb9f3a\"],[0.8888888888888888,\"#fdca26\"],[1.0,\"#f0f921\"]]}],\"choropleth\":[{\"type\":\"choropleth\",\"colorbar\":{\"outlinewidth\":0,\"ticks\":\"\"}}],\"histogram2d\":[{\"type\":\"histogram2d\",\"colorbar\":{\"outlinewidth\":0,\"ticks\":\"\"},\"colorscale\":[[0.0,\"#0d0887\"],[0.1111111111111111,\"#46039f\"],[0.2222222222222222,\"#7201a8\"],[0.3333333333333333,\"#9c179e\"],[0.4444444444444444,\"#bd3786\"],[0.5555555555555556,\"#d8576b\"],[0.6666666666666666,\"#ed7953\"],[0.7777777777777778,\"#fb9f3a\"],[0.8888888888888888,\"#fdca26\"],[1.0,\"#f0f921\"]]}],\"heatmap\":[{\"type\":\"heatmap\",\"colorbar\":{\"outlinewidth\":0,\"ticks\":\"\"},\"colorscale\":[[0.0,\"#0d0887\"],[0.1111111111111111,\"#46039f\"],[0.2222222222222222,\"#7201a8\"],[0.3333333333333333,\"#9c179e\"],[0.4444444444444444,\"#bd3786\"],[0.5555555555555556,\"#d8576b\"],[0.6666666666666666,\"#ed7953\"],[0.7777777777777778,\"#fb9f3a\"],[0.8888888888888888,\"#fdca26\"],[1.0,\"#f0f921\"]]}],\"heatmapgl\":[{\"type\":\"heatmapgl\",\"colorbar\":{\"outlinewidth\":0,\"ticks\":\"\"},\"colorscale\":[[0.0,\"#0d0887\"],[0.1111111111111111,\"#46039f\"],[0.2222222222222222,\"#7201a8\"],[0.3333333333333333,\"#9c179e\"],[0.4444444444444444,\"#bd3786\"],[0.5555555555555556,\"#d8576b\"],[0.6666666666666666,\"#ed7953\"],[0.7777777777777778,\"#fb9f3a\"],[0.8888888888888888,\"#fdca26\"],[1.0,\"#f0f921\"]]}],\"contourcarpet\":[{\"type\":\"contourcarpet\",\"colorbar\":{\"outlinewidth\":0,\"ticks\":\"\"}}],\"contour\":[{\"type\":\"contour\",\"colorbar\":{\"outlinewidth\":0,\"ticks\":\"\"},\"colorscale\":[[0.0,\"#0d0887\"],[0.1111111111111111,\"#46039f\"],[0.2222222222222222,\"#7201a8\"],[0.3333333333333333,\"#9c179e\"],[0.4444444444444444,\"#bd3786\"],[0.5555555555555556,\"#d8576b\"],[0.6666666666666666,\"#ed7953\"],[0.7777777777777778,\"#fb9f3a\"],[0.8888888888888888,\"#fdca26\"],[1.0,\"#f0f921\"]]}],\"surface\":[{\"type\":\"surface\",\"colorbar\":{\"outlinewidth\":0,\"ticks\":\"\"},\"colorscale\":[[0.0,\"#0d0887\"],[0.1111111111111111,\"#46039f\"],[0.2222222222222222,\"#7201a8\"],[0.3333333333333333,\"#9c179e\"],[0.4444444444444444,\"#bd3786\"],[0.5555555555555556,\"#d8576b\"],[0.6666666666666666,\"#ed7953\"],[0.7777777777777778,\"#fb9f3a\"],[0.8888888888888888,\"#fdca26\"],[1.0,\"#f0f921\"]]}],\"mesh3d\":[{\"type\":\"mesh3d\",\"colorbar\":{\"outlinewidth\":0,\"ticks\":\"\"}}],\"scatter\":[{\"fillpattern\":{\"fillmode\":\"overlay\",\"size\":10,\"solidity\":0.2},\"type\":\"scatter\"}],\"parcoords\":[{\"type\":\"parcoords\",\"line\":{\"colorbar\":{\"outlinewidth\":0,\"ticks\":\"\"}}}],\"scatterpolargl\":[{\"type\":\"scatterpolargl\",\"marker\":{\"colorbar\":{\"outlinewidth\":0,\"ticks\":\"\"}}}],\"bar\":[{\"error_x\":{\"color\":\"#2a3f5f\"},\"error_y\":{\"color\":\"#2a3f5f\"},\"marker\":{\"line\":{\"color\":\"#E5ECF6\",\"width\":0.5},\"pattern\":{\"fillmode\":\"overlay\",\"size\":10,\"solidity\":0.2}},\"type\":\"bar\"}],\"scattergeo\":[{\"type\":\"scattergeo\",\"marker\":{\"colorbar\":{\"outlinewidth\":0,\"ticks\":\"\"}}}],\"scatterpolar\":[{\"type\":\"scatterpolar\",\"marker\":{\"colorbar\":{\"outlinewidth\":0,\"ticks\":\"\"}}}],\"histogram\":[{\"marker\":{\"pattern\":{\"fillmode\":\"overlay\",\"size\":10,\"solidity\":0.2}},\"type\":\"histogram\"}],\"scattergl\":[{\"type\":\"scattergl\",\"marker\":{\"colorbar\":{\"outlinewidth\":0,\"ticks\":\"\"}}}],\"scatter3d\":[{\"type\":\"scatter3d\",\"line\":{\"colorbar\":{\"outlinewidth\":0,\"ticks\":\"\"}},\"marker\":{\"colorbar\":{\"outlinewidth\":0,\"ticks\":\"\"}}}],\"scattermapbox\":[{\"type\":\"scattermapbox\",\"marker\":{\"colorbar\":{\"outlinewidth\":0,\"ticks\":\"\"}}}],\"scatterternary\":[{\"type\":\"scatterternary\",\"marker\":{\"colorbar\":{\"outlinewidth\":0,\"ticks\":\"\"}}}],\"scattercarpet\":[{\"type\":\"scattercarpet\",\"marker\":{\"colorbar\":{\"outlinewidth\":0,\"ticks\":\"\"}}}],\"carpet\":[{\"aaxis\":{\"endlinecolor\":\"#2a3f5f\",\"gridcolor\":\"white\",\"linecolor\":\"white\",\"minorgridcolor\":\"white\",\"startlinecolor\":\"#2a3f5f\"},\"baxis\":{\"endlinecolor\":\"#2a3f5f\",\"gridcolor\":\"white\",\"linecolor\":\"white\",\"minorgridcolor\":\"white\",\"startlinecolor\":\"#2a3f5f\"},\"type\":\"carpet\"}],\"table\":[{\"cells\":{\"fill\":{\"color\":\"#EBF0F8\"},\"line\":{\"color\":\"white\"}},\"header\":{\"fill\":{\"color\":\"#C8D4E3\"},\"line\":{\"color\":\"white\"}},\"type\":\"table\"}],\"barpolar\":[{\"marker\":{\"line\":{\"color\":\"#E5ECF6\",\"width\":0.5},\"pattern\":{\"fillmode\":\"overlay\",\"size\":10,\"solidity\":0.2}},\"type\":\"barpolar\"}],\"pie\":[{\"automargin\":true,\"type\":\"pie\"}]},\"layout\":{\"autotypenumbers\":\"strict\",\"colorway\":[\"#636efa\",\"#EF553B\",\"#00cc96\",\"#ab63fa\",\"#FFA15A\",\"#19d3f3\",\"#FF6692\",\"#B6E880\",\"#FF97FF\",\"#FECB52\"],\"font\":{\"color\":\"#2a3f5f\"},\"hovermode\":\"closest\",\"hoverlabel\":{\"align\":\"left\"},\"paper_bgcolor\":\"white\",\"plot_bgcolor\":\"#E5ECF6\",\"polar\":{\"bgcolor\":\"#E5ECF6\",\"angularaxis\":{\"gridcolor\":\"white\",\"linecolor\":\"white\",\"ticks\":\"\"},\"radialaxis\":{\"gridcolor\":\"white\",\"linecolor\":\"white\",\"ticks\":\"\"}},\"ternary\":{\"bgcolor\":\"#E5ECF6\",\"aaxis\":{\"gridcolor\":\"white\",\"linecolor\":\"white\",\"ticks\":\"\"},\"baxis\":{\"gridcolor\":\"white\",\"linecolor\":\"white\",\"ticks\":\"\"},\"caxis\":{\"gridcolor\":\"white\",\"linecolor\":\"white\",\"ticks\":\"\"}},\"coloraxis\":{\"colorbar\":{\"outlinewidth\":0,\"ticks\":\"\"}},\"colorscale\":{\"sequential\":[[0.0,\"#0d0887\"],[0.1111111111111111,\"#46039f\"],[0.2222222222222222,\"#7201a8\"],[0.3333333333333333,\"#9c179e\"],[0.4444444444444444,\"#bd3786\"],[0.5555555555555556,\"#d8576b\"],[0.6666666666666666,\"#ed7953\"],[0.7777777777777778,\"#fb9f3a\"],[0.8888888888888888,\"#fdca26\"],[1.0,\"#f0f921\"]],\"sequentialminus\":[[0.0,\"#0d0887\"],[0.1111111111111111,\"#46039f\"],[0.2222222222222222,\"#7201a8\"],[0.3333333333333333,\"#9c179e\"],[0.4444444444444444,\"#bd3786\"],[0.5555555555555556,\"#d8576b\"],[0.6666666666666666,\"#ed7953\"],[0.7777777777777778,\"#fb9f3a\"],[0.8888888888888888,\"#fdca26\"],[1.0,\"#f0f921\"]],\"diverging\":[[0,\"#8e0152\"],[0.1,\"#c51b7d\"],[0.2,\"#de77ae\"],[0.3,\"#f1b6da\"],[0.4,\"#fde0ef\"],[0.5,\"#f7f7f7\"],[0.6,\"#e6f5d0\"],[0.7,\"#b8e186\"],[0.8,\"#7fbc41\"],[0.9,\"#4d9221\"],[1,\"#276419\"]]},\"xaxis\":{\"gridcolor\":\"white\",\"linecolor\":\"white\",\"ticks\":\"\",\"title\":{\"standoff\":15},\"zerolinecolor\":\"white\",\"automargin\":true,\"zerolinewidth\":2},\"yaxis\":{\"gridcolor\":\"white\",\"linecolor\":\"white\",\"ticks\":\"\",\"title\":{\"standoff\":15},\"zerolinecolor\":\"white\",\"automargin\":true,\"zerolinewidth\":2},\"scene\":{\"xaxis\":{\"backgroundcolor\":\"#E5ECF6\",\"gridcolor\":\"white\",\"linecolor\":\"white\",\"showbackground\":true,\"ticks\":\"\",\"zerolinecolor\":\"white\",\"gridwidth\":2},\"yaxis\":{\"backgroundcolor\":\"#E5ECF6\",\"gridcolor\":\"white\",\"linecolor\":\"white\",\"showbackground\":true,\"ticks\":\"\",\"zerolinecolor\":\"white\",\"gridwidth\":2},\"zaxis\":{\"backgroundcolor\":\"#E5ECF6\",\"gridcolor\":\"white\",\"linecolor\":\"white\",\"showbackground\":true,\"ticks\":\"\",\"zerolinecolor\":\"white\",\"gridwidth\":2}},\"shapedefaults\":{\"line\":{\"color\":\"#2a3f5f\"}},\"annotationdefaults\":{\"arrowcolor\":\"#2a3f5f\",\"arrowhead\":0,\"arrowwidth\":1},\"geo\":{\"bgcolor\":\"white\",\"landcolor\":\"#E5ECF6\",\"subunitcolor\":\"white\",\"showland\":true,\"showlakes\":true,\"lakecolor\":\"white\"},\"title\":{\"x\":0.05},\"mapbox\":{\"style\":\"light\"}}},\"updatemenus\":[{\"buttons\":[{\"args\":[{\"y\":[[null,2.99,3.77,4.3,1.54,3.35,2.84,2.25,0.25,0.36,-1.59,-0.19,-2.59,2.83]]}],\"label\":\"526433\",\"method\":\"update\"},{\"args\":[{\"y\":[[null,0.11,0.1,0.13,0.06,0.1,0.08,0.11,0.09,0.18,0.2,0.12,0.05,0.21]]}],\"label\":\"532407\",\"method\":\"update\"},{\"args\":[{\"y\":[[null,null,null,null,null,5.28,6.38,7.06,7.82,7.96,8.1,3.77,4.77,5.21]]}],\"label\":\"544021\",\"method\":\"update\"},{\"args\":[{\"y\":[[null,5.27,4.6,6.29,5.98,3.76,4.18,3.96,6.06,5.17,4.31,3.99,5.15,3.62]]}],\"label\":\"AARTIDRUGS\",\"method\":\"update\"},{\"args\":[{\"y\":[[null,4.55,4.14,20.01,5.34,3.75,3.42,3.77,4.11,1.93,2.51,3.42,3.64,3.78]]}],\"label\":\"AARTIIND\",\"method\":\"update\"},{\"args\":[{\"y\":[[null,null,null,null,null,null,null,5.26,4.73,5.2,5.72,5.82,7.2,6.12]]}],\"label\":\"AARTIPHARM\",\"method\":\"update\"},{\"args\":[{\"y\":[[null,5.32,0.98,-2.62,2.79,4.36,0.38,4.68,5.52,6.18,5.58,7.86,5.5,2.62]]}],\"label\":\"AARTISURF\",\"method\":\"update\"},{\"args\":[{\"y\":[[null,3.32,5.66,8.88,17.61,6.62,9.32,14.41,11.56,13.95,17.12,15.98,21.67,20.93]]}],\"label\":\"ABB\",\"method\":\"update\"},{\"args\":[{\"y\":[[null,30.32,23.97,14.95,21.1,12.11,-4.65,6.03,12.55,24.82,20.65,28.63,50.31,19.24]]}],\"label\":\"ACC\",\"method\":\"update\"},{\"args\":[{\"y\":[[null,2.47,1.93,-0.11,2.77,4.12,4.04,7.19,6.34,5.91,2.0,16.57,3.95,12.76]]}],\"label\":\"ADANIENT\",\"method\":\"update\"},{\"args\":[{\"y\":[[null,2.68,3.57,4.66,5.14,4.09,4.4,5.18,4.68,4.97,5.01,5.48,6.24,6.18]]}],\"label\":\"AFFLE\",\"method\":\"update\"},{\"args\":[{\"y\":[[null,15.38,10.59,8.98,9.09,16.03,10.26,8.94,9.52,9.74,5.33,6.54,7.52,9.56]]}],\"label\":\"ALKYLAMINE\",\"method\":\"update\"},{\"args\":[{\"y\":[[null,14.73,16.24,19.88,24.7,21.85,25.63,27.35,32.0,26.34,36.3,31.01,40.47,32.49]]}],\"label\":\"ANGELONE\",\"method\":\"update\"},{\"args\":[{\"y\":[[null,7.27,8.45,8.51,5.79,7.73,11.78,12.99,8.34,11.61,13.25,15.68,12.55,13.61]]}],\"label\":\"ARE&M\",\"method\":\"update\"},{\"args\":[{\"y\":[[null,1.45,3.34,4.12,5.27,4.4,4.33,3.45,2.84,4.27,3.57,2.61,3.04,3.21]]}],\"label\":\"ASAHIINDIA\",\"method\":\"update\"},{\"args\":[{\"y\":[[null,-0.93,-0.35,-0.41,0.48,0.02,0.56,1.09,2.56,1.85,1.79,1.91,2.91,1.73]]}],\"label\":\"ASHOKLEY\",\"method\":\"update\"},{\"args\":[{\"y\":[[null,5.93,6.21,10.59,8.87,10.6,8.16,11.18,12.87,16.16,12.57,15.09,13.1,12.2]]}],\"label\":\"ASIANPAINT\",\"method\":\"update\"},{\"args\":[{\"y\":[[null,2.76,5.27,4.75,5.28,3.32,2.57,3.46,7.66,4.46,4.88,4.23,6.76,4.48]]}],\"label\":\"ASTRAL\",\"method\":\"update\"},{\"args\":[{\"y\":[[null,7.69,11.05,12.9,14.39,14.26,18.27,20.12,-17.43,19.78,20.13,21.05,24.62,20.83]]}],\"label\":\"AXISBANK\",\"method\":\"update\"},{\"args\":[{\"y\":[[null,40.44,70.49,49.41,52.74,40.2,59.42,52.05,60.25,58.11,71.39,71.78,72.05,69.55]]}],\"label\":\"BAJAJ-AUTO\",\"method\":\"update\"},{\"args\":[{\"y\":[[null,-1.91,5.48,4.2,3.42,3.74,5.24,5.31,4.52,3.23,2.37,3.25,2.54,2.44]]}],\"label\":\"BAJAJELEC\",\"method\":\"update\"},{\"args\":[{\"y\":[[null,5.23,7.05,7.89,8.46,8.23,9.77,11.19,11.11,12.2,12.09,13.52,13.28,13.39]]}],\"label\":\"BAJAJFINSV\",\"method\":\"update\"},{\"args\":[{\"y\":[[null,16.61,24.54,35.21,39.96,42.88,45.93,49.11,52.16,56.72,58.6,58.88,61.79,63.2]]}],\"label\":\"BAJFINANCE\",\"method\":\"update\"},{\"args\":[{\"y\":[[null,27.89,24.61,27.64,33.55,37.95,28.57,19.31,14.63,16.27,10.71,15.24,21.0,13.36]]}],\"label\":\"BALAMINES\",\"method\":\"update\"},{\"args\":[{\"y\":[[null,-5.41,2.89,5.63,4.9,9.29,4.27,6.47,5.11,8.32,2.64,4.51,4.95,13.54]]}],\"label\":\"BATAINDIA\",\"method\":\"update\"},{\"args\":[{\"y\":[[null,0.03,0.85,0.82,1.58,0.5,0.85,0.84,1.89,0.74,1.08,1.18,2.46,1.08]]}],\"label\":\"BEL\",\"method\":\"update\"},{\"args\":[{\"y\":[[null,1.21,1.88,2.17,1.89,2.17,1.88,1.72,1.59,3.04,2.5,2.57,1.91,3.03]]}],\"label\":\"BERGEPAINT\",\"method\":\"update\"},{\"args\":[{\"y\":[[null,0.48,1.93,1.41,3.41,2.73,3.86,2.85,5.39,2.89,2.39,4.34,3.66,7.31]]}],\"label\":\"BHARTIARTL\",\"method\":\"update\"},{\"args\":[{\"y\":[[null,-0.21,2.35,2.17,3.02,1.69,2.2,1.39,0.28,0.63,1.62,3.25,0.44,0.78]]}],\"label\":\"BOROLTD\",\"method\":\"update\"},{\"args\":[{\"y\":[[null,16.17,15.95,15.41,15.77,14.01,20.48,38.71,23.19,19.0,24.39,23.1,22.35,20.99]]}],\"label\":\"BRITANNIA\",\"method\":\"update\"},{\"args\":[{\"y\":[[null,3.95,4.82,4.53,5.51,3.25,2.5,3.81,6.73,32.68,8.9,7.99,7.91,19.58]]}],\"label\":\"BSE\",\"method\":\"update\"},{\"args\":[{\"y\":[[null,12.95,14.86,15.81,15.1,13.24,14.72,15.05,15.23,15.58,17.2,18.17,21.06,22.0]]}],\"label\":\"CAMS\",\"method\":\"update\"},{\"args\":[{\"y\":[[0.66,0.13,null,1.8,1.3,0.94,null,null,null,null,null,null,null,null]]}],\"label\":\"CAMPUS\",\"method\":\"update\"},{\"args\":[{\"y\":[[null,6.11,8.22,8.01,7.43,5.53,7.69,7.14,6.04,7.04,10.42,10.28,12.37,12.84]]}],\"label\":\"CDSL\",\"method\":\"update\"},{\"args\":[{\"y\":[[null,-26.9,-0.5,2.73,-4.94,-1.99,-5.32,-7.5,20.02,1.13,-3.54,5.63,-5.35,-2.98]]}],\"label\":\"CENTUM\",\"method\":\"update\"},{\"args\":[{\"y\":[[null,0.4,1.49,4.03,0.77,0.85,1.17,1.49,2.79,1.33,1.59,4.89,1.53,1.58]]}],\"label\":\"CGPOWER\",\"method\":\"update\"},{\"args\":[{\"y\":[[null,1.09,4.99,4.92,10.44,1.6,4.29,4.2,1.5,3.75,6.9,9.29,9.84,6.62]]}],\"label\":\"COCHINSHIP\",\"method\":\"update\"},{\"args\":[{\"y\":[[null,20.4,24.2,30.17,34.1,24.58,32.99,37.37,18.79,27.06,29.41,38.54,36.19,19.97]]}],\"label\":\"COFORGE\",\"method\":\"update\"},{\"args\":[{\"y\":[[null,4.25,4.16,4.67,4.25,4.88,4.98,4.83,4.58,4.03,6.03,5.43,5.2,4.24]]}],\"label\":\"CONCOR\",\"method\":\"update\"},{\"args\":[{\"y\":[[null,10.44,11.01,11.95,13.98,10.52,7.16,14.12,14.76,15.2,16.1,13.28,17.06,12.97]]}],\"label\":\"CYIENT\",\"method\":\"update\"},{\"args\":[{\"y\":[[null,2.47,2.85,2.85,1.66,2.49,2.77,2.69,1.7,2.62,2.91,2.9,1.97,2.82]]}],\"label\":\"DABUR\",\"method\":\"update\"},{\"args\":[{\"y\":[[null,22.19,18.65,17.78,19.59,17.2,12.79,15.33,17.15,10.99,15.04,14.81,18.61,14.85]]}],\"label\":\"DEEPAKNTR\",\"method\":\"update\"},{\"args\":[{\"y\":[[null,20.99,22.84,33.99,33.7,26.44,18.57,11.53,12.09,13.41,13.11,13.49,20.27,16.2]]}],\"label\":\"DIVISLAB\",\"method\":\"update\"},{\"args\":[{\"y\":[[null,3.1,10.68,7.82,10.61,7.7,13.02,8.72,13.54,11.55,18.02,16.12,15.91,22.34]]}],\"label\":\"DIXON\",\"method\":\"update\"},{\"args\":[{\"y\":[[null,1.47,6.45,8.53,6.59,9.93,10.59,9.1,7.1,10.12,9.58,10.61,8.66,11.89]]}],\"label\":\"DMART\",\"method\":\"update\"},{\"args\":[{\"y\":[[null,22.87,59.84,42.62,5.83,71.44,66.93,74.7,57.65,84.36,88.87,82.78,78.52,83.46]]}],\"label\":\"DRREDDY\",\"method\":\"update\"},{\"args\":[{\"y\":[[null,8.67,13.65,16.68,22.31,22.33,24.02,27.09,33.11,33.58,37.12,36.38,39.1,40.2]]}],\"label\":\"EICHERMOT\",\"method\":\"update\"},{\"args\":[{\"y\":[[null,0.46,1.45,6.42,4.11,5.48,5.81,8.85,5.69,7.78,7.96,10.42,8.59,9.31]]}],\"label\":\"ETHOSLTD\",\"method\":\"update\"},{\"args\":[{\"y\":[[null,0.39,2.31,2.1,46.58,2.39,2.84,2.34,2.12,2.62,3.17,2.36,2.17,2.59]]}],\"label\":\"EXIDEIND\",\"method\":\"update\"},{\"args\":[{\"y\":[[null,11.71,16.27,16.95,39.74,52.12,66.09,34.65,48.74,32.54,33.71,30.73,37.36,36.94]]}],\"label\":\"FINEORG\",\"method\":\"update\"},{\"args\":[{\"y\":[[null,0.59,7.88,7.25,3.65,10.14,14.45,4.15,7.86,11.27,15.82,6.43,6.91,5.62]]}],\"label\":\"GMMPFAUDLR\",\"method\":\"update\"},{\"args\":[{\"y\":[[null,0.61,1.29,1.4,9.37,1.64,1.98,2.11,14.82,4.49,2.4,2.24,16.95,18.7]]}],\"label\":\"GODREJPROP\",\"method\":\"update\"},{\"args\":[{\"y\":[[null,1.44,1.72,2.23,2.12,2.05,2.3,2.26,3.63,2.61,3.07,1.98,3.21,1.59]]}],\"label\":\"GREENLAM\",\"method\":\"update\"},{\"args\":[{\"y\":[[4.6,2.43,5.47,5.14,6.57,6.33,5.91,3.06,5.62,3.04,3.34,2.82,2.43,null]]}],\"label\":\"GREENPANEL\",\"method\":\"update\"},{\"args\":[{\"y\":[[null,1.8,5.13,5.5,4.12,4.38,5.13,5.58,4.83,6.69,7.05,7.7,9.74,7.61]]}],\"label\":\"GRSE\",\"method\":\"update\"},{\"args\":[{\"y\":[[null,2.91,12.66,13.96,46.43,9.27,18.26,17.27,42.33,12.17,18.49,18.86,64.43,21.49]]}],\"label\":\"HAL\",\"method\":\"update\"},{\"args\":[{\"y\":[[null,2.43,3.03,3.33,3.55,3.84,4.05,3.92,3.93,3.97,3.84,3.92,4.73,3.35]]}],\"label\":\"HAPPSTMNDS\",\"method\":\"update\"},{\"args\":[{\"y\":[[null,3.76,4.83,4.88,5.63,3.88,2.98,4.53,5.71,4.58,3.97,4.59,7.13,6.51]]}],\"label\":\"HAVELLS\",\"method\":\"update\"},{\"args\":[{\"y\":[[null,11.81,12.01,12.68,13.24,12.1,12.86,15.09,14.68,13.02,14.12,16.03,14.69,15.69]]}],\"label\":\"HCLTECH\",\"method\":\"update\"},{\"args\":[{\"y\":[[null,null,null,null,null,null,17.06,17.3,17.63,22.36,20.45,22.86,25.33,28.27]]}],\"label\":\"HDFCAMC\",\"method\":\"update\"},{\"args\":[{\"y\":[[null,14.33,16.43,19.11,18.83,17.25,19.97,22.77,22.57,22.12,22.17,22.73,23.2,21.65]]}],\"label\":\"HDFCBANK\",\"method\":\"update\"},{\"args\":[{\"y\":[[null,1.33,1.36,1.36,2.4,1.71,1.53,1.47,1.68,1.94,1.76,1.71,1.91,2.23]]}],\"label\":\"HDFCLIFE\",\"method\":\"update\"},{\"args\":[{\"y\":[[null,3.26,3.53,2.24,1.37,0.78,2.05,1.48,1.93,1.8,2.41,2.9,4.36,6.3]]}],\"label\":\"HERITGFOOD\",\"method\":\"update\"},{\"args\":[{\"y\":[[null,12.82,37.32,35.22,30.6,29.55,34.45,36.33,40.29,35.53,50.35,54.7,46.77,52.31]]}],\"label\":\"HEROMOTOCO\",\"method\":\"update\"},{\"args\":[{\"y\":[[null,8.92,9.28,9.78,9.81,10.13,11.34,10.53,11.07,10.87,11.3,10.68,10.89,11.11]]}],\"label\":\"HINDUNILVR\",\"method\":\"update\"},{\"args\":[{\"y\":[[null,2.11,1.9,1.13,3.41,2.25,2.84,1.8,3.34,1.36,1.47,0.44,1.45,0.5]]}],\"label\":\"HLEGLAS\",\"method\":\"update\"},{\"args\":[{\"y\":[[null,0.96,1.03,1.1,1.09,1.32,1.68,1.51,1.79,2.07,2.19,1.95,2.0,2.38]]}],\"label\":\"HNDFDS\",\"method\":\"update\"},{\"args\":[{\"y\":[[null,6.88,8.78,9.41,11.11,10.62,11.49,12.6,14.11,15.2,15.56,15.76,16.62,16.62]]}],\"label\":\"ICICIBANK\",\"method\":\"update\"},{\"args\":[{\"y\":[[null,4.27,9.11,6.47,6.37,7.11,12.02,7.18,8.9,7.95,11.75,8.76,10.54,11.77]]}],\"label\":\"ICICIGI\",\"method\":\"update\"},{\"args\":[{\"y\":[[null,-1.29,3.1,2.17,1.3,1.09,1.39,1.54,1.64,1.43,1.69,1.58,1.21,1.56]]}],\"label\":\"ICICIPRULI\",\"method\":\"update\"},{\"args\":[{\"y\":[[null,null,null,null,null,4552.98,438.19,-3.73,-2.54,4.95,0.21,3.45,2.41,0.27]]}],\"label\":\"IDEAFORGE\",\"method\":\"update\"},{\"args\":[{\"y\":[[null,-1.0,0.18,0.47,0.57,0.78,0.91,0.99,1.23,1.1,1.11,1.04,1.04,0.91]]}],\"label\":\"IDFCFIRSTB\",\"method\":\"update\"},{\"args\":[{\"y\":[[null,-82.47,-37.28,3.37,-43.65,-27.62,-41.08,36.91,23.84,80.16,4.9,77.68,49.09,70.7]]}],\"label\":\"INDIGO\",\"method\":\"update\"},{\"args\":[{\"y\":[[null,null,null,null,null,4.19,7.8,5.52,10.23,6.52,5.32,7.82,11.27,5.5]]}],\"label\":\"INDIGOPNTS\",\"method\":\"update\"},{\"args\":[{\"y\":[[null,12.2,12.89,13.81,13.52,12.74,14.31,15.7,14.77,14.32,14.97,14.71,19.2,15.34]]}],\"label\":\"INFY\",\"method\":\"update\"},{\"args\":[{\"y\":[[null,0.95,1.34,1.44,2.57,1.54,1.85,2.02,2.73,1.99,2.67,2.6,2.62,2.38]]}],\"label\":\"IRCON\",\"method\":\"update\"},{\"args\":[{\"y\":[[null,null,null,null,null,null,null,null,3.48,2.9,null,3.75,3.55,3.85]]}],\"label\":\"IRCTC\",\"method\":\"update\"},{\"args\":[{\"y\":[[null,null,null,null,null,null,null,0.88,1.11,1.29,1.25,1.25,1.26,1.43]]}],\"label\":\"IREDA\",\"method\":\"update\"},{\"args\":[{\"y\":[[null,2.66,3.01,3.29,3.4,3.56,3.73,4.03,4.16,4.1,3.93,4.28,4.1,4.08]]}],\"label\":\"ITC\",\"method\":\"update\"},{\"args\":[{\"y\":[[null,null,null,null,null,null,null,null,null,null,1.05,0.46,0.49,0.49]]}],\"label\":\"JIOFIN\",\"method\":\"update\"},{\"args\":[{\"y\":[[null,1.05,1.82,2.03,1.47,1.71,1.99,1.22,0.43,0.44,1.47,1.0,3.14,0.85]]}],\"label\":\"JUBLFOOD\",\"method\":\"update\"},{\"args\":[{\"y\":[[null,-0.5,0.67,1.31,0.7,1.05,1.03,1.44,0.68,1.4,1.31,1.75,1.34,1.72]]}],\"label\":\"KALYANKJIL\",\"method\":\"update\"},{\"args\":[{\"y\":[[null,null,null,13.96,4.3,2.18,null,3.93,7.1,4.24,5.56,7.07,12.71,7.94]]}],\"label\":\"KAYNES\",\"method\":\"update\"},{\"args\":[{\"y\":[[null,7.45,10.18,11.23,12.87,11.52,11.85,14.26,15.31,13.46,15.54,16.7,18.67,16.65]]}],\"label\":\"KEI\",\"method\":\"update\"},{\"args\":[{\"y\":[[null,9.11,15.07,17.15,19.61,13.88,18.17,20.12,22.99,20.88,22.45,21.46,26.85,37.47]]}],\"label\":\"KOTAKBANK\",\"method\":\"update\"},{\"args\":[{\"y\":[[null,0.74,1.13,1.21,0.91,2.05,1.95,3.18,2.93,3.07,3.2,4.2,3.57,5.48]]}],\"label\":\"KPIGREEN\",\"method\":\"update\"},{\"args\":[{\"y\":[[null,2.2,2.37,2.55,2.88,3.12,3.05,3.67,4.07,4.89,5.14,5.67,6.0,7.45]]}],\"label\":\"KPITTECH\",\"method\":\"update\"},{\"args\":[{\"y\":[[null,33.77,2.19,1.31,-2.02,41.81,0.91,6.81,-2.77,48.91,2.45,2.11,-0.05,56.28]]}],\"label\":\"KSCL\",\"method\":\"update\"},{\"args\":[{\"y\":[[null,15.74,11.4,6.88,7.35,6.92,8.6,6.33,6.8,9.9,13.09,9.74,10.12,12.75]]}],\"label\":\"LALPATHLAB\",\"method\":\"update\"},{\"args\":[{\"y\":[[null,27.39,1.25,2.52,1.77,1.57,1.86,2.58,1.67,1.6,1.66,2.26,2.2,1.91]]}],\"label\":\"LATENTVIEW\",\"method\":\"update\"},{\"args\":[{\"y\":[[null,8.36,12.95,14.63,25.77,12.11,15.86,18.17,28.37,17.74,23.45,21.44,31.98,20.26]]}],\"label\":\"LT\",\"method\":\"update\"},{\"args\":[{\"y\":[[null,28.39,31.48,34.93,36.34,63.06,40.18,33.82,37.65,38.92,39.26,39.49,37.14,38.28]]}],\"label\":\"LTIM\",\"method\":\"update\"},{\"args\":[{\"y\":[[null,20.58,21.87,23.59,24.83,26.09,28.41,28.11,32.2,29.44,29.84,31.79,32.24,29.63]]}],\"label\":\"LTTS\",\"method\":\"update\"},{\"args\":[{\"y\":[[null,3.88,0.55,3.11,2.65,2.43,0.32,1.03,0.92,1.44,0.4,0.99,1.61,1.24]]}],\"label\":\"LXCHEM\",\"method\":\"update\"},{\"args\":[{\"y\":[[null,3.41,15.51,15.99,18.0,17.66,22.3,21.53,21.2,28.21,18.88,21.38,22.15,26.4]]}],\"label\":\"M&M\",\"method\":\"update\"},{\"args\":[{\"y\":[[null,null,null,null,4.75,7.3,10.48,7.09,7.13,12.15,12.51,11.33,11.76,13.39]]}],\"label\":\"MANKIND\",\"method\":\"update\"},{\"args\":[{\"y\":[[null,53.18,6.36,3.48,4.23,4.54,4.74,5.52,5.22,6.0,6.11,5.69,7.02,6.62]]}],\"label\":\"MAPMYINDIA\",\"method\":\"update\"},{\"args\":[{\"y\":[[null,2.76,2.39,2.4,1.94,2.87,2.33,2.54,2.34,3.3,2.73,2.96,2.46,3.58]]}],\"label\":\"MARICO\",\"method\":\"update\"},{\"args\":[{\"y\":[[null,15.72,16.12,34.49,62.1,34.3,69.93,79.65,88.97,84.18,125.33,102.0,125.71,119.58]]}],\"label\":\"MARUTI\",\"method\":\"update\"},{\"args\":[{\"y\":[[null,5.04,6.69,10.67,7.88,11.14,10.61,17.56,16.17,15.59,16.5,31.08,32.87,34.51]]}],\"label\":\"MAZDOCK\",\"method\":\"update\"},{\"args\":[{\"y\":[[1.69,null,1.89,3.69,2.49,3.8,2.72,4.22,2.44,3.91,2.92,3.52,6.05,3.4]]}],\"label\":\"METROBRAND\",\"method\":\"update\"},{\"args\":[{\"y\":[[null,1.16,1.3,0.59,1.67,1.1,2.43,3.26,3.58,2.21,2.86,2.47,2.26,1.81]]}],\"label\":\"MOLDTECH\",\"method\":\"update\"},{\"args\":[{\"y\":[[null,4.32,6.24,5.51,5.54,6.55,5.86,4.92,6.94,5.65,4.73,4.28,5.41,4.97]]}],\"label\":\"MOLDTKPAC\",\"method\":\"update\"},{\"args\":[{\"y\":[[null,0.61,0.46,0.52,0.18,0.21,0.36,0.67,0.97,0.89,0.3,0.8,2.02,1.47]]}],\"label\":\"MOTHERSON\",\"method\":\"update\"},{\"args\":[{\"y\":[[null,2.83,6.19,4.33,6.44,5.27,8.03,10.22,10.1,6.61,6.65,3.4,1.58,1.44]]}],\"label\":\"MTARTECH\",\"method\":\"update\"},{\"args\":[{\"y\":[[null,null,null,null,null,null,80.9,60.25,67.43,1.33,4.35,2.42,1.1,1.51]]}],\"label\":\"MUFTI\",\"method\":\"update\"},{\"args\":[{\"y\":[[null,24.37,24.97,25.91,24.84,20.41,22.22,23.11,24.25,25.46,26.39,27.49,28.37,28.99]]}],\"label\":\"MUTHOOTFIN\",\"method\":\"update\"},{\"args\":[{\"y\":[[null,11.83,572.37,357.33,48.83,13.87,7.99,-9.02,-21.12,12.28,15.88,11.68,4.67,18.0]]}],\"label\":\"NAUKRI\",\"method\":\"update\"},{\"args\":[{\"y\":[[null,11.29,12.77,13.88,15.17,15.02,11.67,21.5,27.5,12.41,12.22,15.74,14.19,10.32]]}],\"label\":\"NAVINFLUOR\",\"method\":\"update\"},{\"args\":[{\"y\":[[null,0.87,1.71,1.58,0.34,1.75,1.55,2.49,0.39,2.95,3.0,3.51,1.11,2.96]]}],\"label\":\"NAZARA\",\"method\":\"update\"},{\"args\":[{\"y\":[[null,3.15,4.79,4.48,6.27,4.45,3.96,5.89,5.74,3.91,3.18,0.4,6.42,4.35]]}],\"label\":\"NEOGEN\",\"method\":\"update\"},{\"args\":[{\"y\":[[null,5.59,6.4,3.94,6.13,5.29,6.86,6.51,7.64,7.24,9.42,6.8,9.69,7.74]]}],\"label\":\"NESTLEIND\",\"method\":\"update\"},{\"args\":[{\"y\":[[null,null,null,null,null,9.91,16.14,38.32,2.07,0.98,2.7,4.64,5.26,2.74]]}],\"label\":\"NETWEB\",\"method\":\"update\"},{\"args\":[{\"y\":[[null,9.82,143.89,156.51,170.81,185.62,145.36,110.93,70.24,141.98,134.73,136.59,97.01,148.13]]}],\"label\":\"PAGEIND\",\"method\":\"update\"},{\"args\":[{\"y\":[[null,0.33,2.07,1.97,2.64,1.81,2.17,2.5,2.76,1.54,2.42,1.71,2.56,3.81]]}],\"label\":\"PARAS\",\"method\":\"update\"},{\"args\":[{\"y\":[[null,9.89,10.58,11.54,13.15,13.84,14.39,15.56,16.45,14.86,17.11,18.59,20.47,19.89]]}],\"label\":\"PERSISTENT\",\"method\":\"update\"},{\"args\":[{\"y\":[[null,4.33,7.37,7.05,5.0,6.96,6.54,5.98,5.57,9.21,8.85,10.04,5.91,11.15]]}],\"label\":\"PIDILITIND\",\"method\":\"update\"},{\"args\":[{\"y\":[[null,12.34,15.13,14.67,13.47,17.3,22.07,23.19,18.49,25.24,31.67,29.57,24.35,29.58]]}],\"label\":\"PIIND\",\"method\":\"update\"},{\"args\":[{\"y\":[[null,4.96,13.26,21.05,21.56,14.69,17.91,23.89,28.38,26.67,28.37,27.49,36.34,26.34]]}],\"label\":\"POLYCAB\",\"method\":\"update\"},{\"args\":[{\"y\":[[null,1.61,6.92,6.09,7.98,1.45,-2.18,3.2,8.51,1.77,6.39,3.4,4.94,2.23]]}],\"label\":\"PRINCEPIPE\",\"method\":\"update\"},{\"args\":[{\"y\":[[null,0.65,2.08,2.07,1.69,0.78,1.72,1.0,2.34,1.2,2.12,1.94,2.42,1.52]]}],\"label\":\"RAILTEL\",\"method\":\"update\"},{\"args\":[{\"y\":[[null,-23.5,8.0,15.06,39.54,12.15,23.85,14.24,29.18,159.95,23.99,27.55,34.42,1106.08]]}],\"label\":\"RAYMOND\",\"method\":\"update\"},{\"args\":[{\"y\":[[null,null,null,null,null,null,null,null,2.5,3.38,2.01,4.4,2.96,2.22]]}],\"label\":\"REDTAPE\",\"method\":\"update\"},{\"args\":[{\"y\":[[null,1.25,2.76,2.82,2.53,1.55,0.9,1.21,2.54,2.26,1.78,1.55,2.47,1.78]]}],\"label\":\"RELAXO\",\"method\":\"update\"},{\"args\":[{\"y\":[[null,19.36,21.58,27.42,23.95,26.54,20.19,23.34,28.53,23.67,25.71,25.52,28.01,22.37]]}],\"label\":\"RELIANCE\",\"method\":\"update\"},{\"args\":[{\"y\":[[null,4.46,4.76,4.14,4.37,5.21,4.34,4.66,5.25,5.3,5.97,6.23,6.18,6.32]]}],\"label\":\"ROSSARI\",\"method\":\"update\"},{\"args\":[{\"y\":[[null,5.86,7.28,7.08,7.25,11.01,11.84,13.23,16.27,14.8,14.18,16.89,14.03,12.51]]}],\"label\":\"ROUTE\",\"method\":\"update\"},{\"args\":[{\"y\":[[null,1.11,1.34,1.41,1.81,1.43,1.83,1.83,1.72,1.64,1.89,1.72,2.3,1.07]]}],\"label\":\"RVNL\",\"method\":\"update\"},{\"args\":[{\"y\":[[null,3.24,3.66,4.09,6.16,6.65,5.57,5.39,6.3,6.27,6.37,5.78,6.97,6.25]]}],\"label\":\"SBICARD\",\"method\":\"update\"},{\"args\":[{\"y\":[[null,8.27,9.96,10.71,10.7,8.21,16.53,17.34,20.27,20.77,18.04,12.4,23.96,21.65]]}],\"label\":\"SBIN\",\"method\":\"update\"},{\"args\":[{\"y\":[[null,3.98,8.99,7.02,9.55,8.44,18.32,12.99,13.24,12.79,16.04,14.19,22.53,16.22]]}],\"label\":\"SIEMENS\",\"method\":\"update\"},{\"args\":[{\"y\":[[null,1.41,1.51,1.48,1.79,1.3,1.58,1.83,2.05,1.91,2.12,2.26,2.54,2.42]]}],\"label\":\"SONACOMS\",\"method\":\"update\"},{\"args\":[{\"y\":[[null,-0.78,-0.38,-0.22,-1.35,0.36,0.32,-1.92,0.82,-0.88,-0.81,-0.92,-1.03,-0.78]]}],\"label\":\"SPICELEC\",\"method\":\"update\"},{\"args\":[{\"y\":[[null,13.35,12.91,17.05,20.43,20.51,16.23,17.24,18.97,12.12,10.15,8.55,14.24,8.51]]}],\"label\":\"SRF\",\"method\":\"update\"},{\"args\":[{\"y\":[[null,6.02,8.53,8.58,-9.49,8.59,9.43,9.03,8.27,8.43,9.9,10.52,11.06,11.82]]}],\"label\":\"SUNPHARMA\",\"method\":\"update\"},{\"args\":[{\"y\":[[null,1.93,2.8,2.77,2.27,2.67,3.43,3.65,2.78,3.28,3.51,2.89,2.19,2.93]]}],\"label\":\"TATACONSUM\",\"method\":\"update\"},{\"args\":[{\"y\":[[null,18.21,20.12,24.24,25.69,29.66,27.98,31.26,32.36,30.32,32.15,33.15,31.62,29.56]]}],\"label\":\"TATAELXSI\",\"method\":\"update\"},{\"args\":[{\"y\":[[null,10.64,19.86,7.87,3.98,17.78,21.17,6.82,4.01,29.02,24.6,10.52,11.95,25.91]]}],\"label\":\"TATAINVEST\",\"method\":\"update\"},{\"args\":[{\"y\":[[null,-13.41,-13.38,-4.57,-3.11,-15.08,-2.84,8.91,16.28,9.64,11.33,21.14,52.37,16.74]]}],\"label\":\"TATAMOTORS\",\"method\":\"update\"},{\"args\":[{\"y\":[[null,1.22,1.32,1.33,1.57,2.49,2.56,2.96,2.43,3.04,2.74,2.98,2.8,3.04]]}],\"label\":\"TATAPOWER\",\"method\":\"update\"},{\"args\":[{\"y\":[[null,null,null,null,null,null,null,36.58,5.34,4.72,3.95,4.2,3.88,3.99]]}],\"label\":\"TATATECH\",\"method\":\"update\"},{\"args\":[{\"y\":[[null,24.35,26.02,26.41,27.13,25.9,28.51,29.64,31.13,30.26,31.0,30.56,34.37,33.28]]}],\"label\":\"TCS\",\"method\":\"update\"},{\"args\":[{\"y\":[[null,13.97,13.81,14.1,15.49,11.64,13.21,13.32,11.47,7.1,5.06,5.23,6.77,8.71]]}],\"label\":\"TECHM\",\"method\":\"update\"},{\"args\":[{\"y\":[[null,6.22,9.65,14.46,9.27,10.08,11.08,12.19,16.14,11.14,13.62,27.5,9.8,11.64]]}],\"label\":\"TIINDIA\",\"method\":\"update\"},{\"args\":[{\"y\":[[null,1.46,0.48,0.12,-2.09,0.1,4.03,2.72,4.03,5.17,5.55,5.56,5.86,4.98]]}],\"label\":\"TITAGARH\",\"method\":\"update\"},{\"args\":[{\"y\":[[null,0.23,7.2,11.31,5.74,8.84,9.36,10.18,8.22,8.48,10.31,11.86,8.68,8.05]]}],\"label\":\"TITAN\",\"method\":\"update\"},{\"args\":[{\"y\":[[null,9.75,9.34,7.36,-3.49,10.46,9.22,8.63,8.48,11.17,11.41,13.09,13.27,13.5]]}],\"label\":\"TORNTPHARM\",\"method\":\"update\"},{\"args\":[{\"y\":[[null,-3.56,2.6,3.93,0.0,3.67,2.62,4.7,1.52,4.88,6.6,10.53,19.81,11.04]]}],\"label\":\"TRENT\",\"method\":\"update\"},{\"args\":[{\"y\":[[null,-0.22,5.1,5.21,5.84,6.43,8.13,6.33,7.07,9.14,8.13,10.08,8.15,9.7]]}],\"label\":\"TVSMOTOR\",\"method\":\"update\"},{\"args\":[{\"y\":[[null,1.17,3.04,3.43,6.18,6.13,5.07,-0.07,0.37,5.15,4.06,3.23,3.07,6.56]]}],\"label\":\"UBL\",\"method\":\"update\"},{\"args\":[{\"y\":[[null,0.76,4.02,4.12,2.5,3.66,7.61,2.95,1.41,6.56,4.66,4.81,3.31,6.67]]}],\"label\":\"UNITDSPR\",\"method\":\"update\"},{\"args\":[{\"y\":[[null,0.28,1.66,1.77,2.53,2.43,2.97,2.83,3.19,3.01,3.93,3.37,5.04,3.47]]}],\"label\":\"UNOMINDA\",\"method\":\"update\"},{\"args\":[{\"y\":[[null,2.37,1.85,0.13,1.96,6.06,2.93,0.58,3.3,7.65,3.86,1.02,4.13,9.64]]}],\"label\":\"VBL\",\"method\":\"update\"},{\"args\":[{\"y\":[[null,7.87,7.91,8.1,9.84,9.85,11.29,10.4,10.18,6.75,7.05,7.49,10.05,8.12]]}],\"label\":\"VINATIORGA\",\"method\":\"update\"},{\"args\":[{\"y\":[[null,3.65,2.2,5.27,3.65,4.16,2.84,6.19,4.48,3.79,2.01,6.49,4.77,2.57]]}],\"label\":\"MANYAVAR\",\"method\":\"update\"},{\"args\":[{\"y\":[[null,3.68,3.13,2.9,5.52,3.29,-0.22,-3.34,4.35,3.91,1.11,-0.92,3.52,10.1]]}],\"label\":\"VOLTAS\",\"method\":\"update\"},{\"args\":[{\"y\":[[null,-2.14,-0.28,1.34,0.98,1.51,2.02,2.33,1.29,1.85,1.43,1.11,0.05,0.21]]}],\"label\":\"WESTLIFE\",\"method\":\"update\"},{\"args\":[{\"y\":[[null,5.92,5.35,5.42,5.63,4.68,4.85,5.56,5.6,5.23,5.07,5.16,5.42,5.74]]}],\"label\":\"WIPRO\",\"method\":\"update\"},{\"args\":[{\"y\":[[null,10.01,12.44,12.71,11.69,16.99,19.61,9.18,13.76,12.97,10.23,11.88,15.74,-2.16]]}],\"label\":\"YASHO\",\"method\":\"update\"},{\"args\":[{\"y\":[[null,-0.14,-0.0,-0.02,0.42,0.94,0.71,1.19,2.54,5.6,1.82,3.64,4.16,9.14]]}],\"label\":\"ZENTEC\",\"method\":\"update\"}],\"direction\":\"down\",\"showactive\":true}]},                        {\"responsive\": true}                    ).then(function(){\n",
       "                            \n",
       "var gd = document.getElementById('c494d2de-45ea-4ad1-9da5-71bf0a8ecd5a');\n",
       "var x = new MutationObserver(function (mutations, observer) {{\n",
       "        var display = window.getComputedStyle(gd).display;\n",
       "        if (!display || display === 'none') {{\n",
       "            console.log([gd, 'removed!']);\n",
       "            Plotly.purge(gd);\n",
       "            observer.disconnect();\n",
       "        }}\n",
       "}});\n",
       "\n",
       "// Listen for the removal of the full notebook cells\n",
       "var notebookContainer = gd.closest('#notebook-container');\n",
       "if (notebookContainer) {{\n",
       "    x.observe(notebookContainer, {childList: true});\n",
       "}}\n",
       "\n",
       "// Listen for the clearing of the current output cell\n",
       "var outputEl = gd.closest('.output');\n",
       "if (outputEl) {{\n",
       "    x.observe(outputEl, {childList: true});\n",
       "}}\n",
       "\n",
       "                        })                };                });            </script>        </div>"
      ]
     },
     "metadata": {},
     "output_type": "display_data"
    }
   ],
   "source": [
    "import plotly.graph_objects as go\n",
    "\n",
    "fig = go.Figure()\n",
    "\n",
    "# add trace only for first stock\n",
    "x = df['Quarters']\n",
    "y = df['526433']\n",
    "fig.add_traces(go.Bar(x=x, y=y))\n",
    "\n",
    "# create `list` with a `dict` for each column\n",
    "buttons = [{'method': 'update', 'label': col, 'args': [{'y': [df[col]]}]} \n",
    "           for col in df.iloc[:, 1:]]\n",
    "\n",
    "# add menus\n",
    "updatemenus = [{'buttons': buttons,\n",
    "                'direction': 'down',\n",
    "                'showactive': True,}]\n",
    "\n",
    "# update layout with buttons, and show the figure\n",
    "fig.update_layout(updatemenus=updatemenus)\n",
    "fig.show()"
   ]
  },
  {
   "cell_type": "code",
   "execution_count": null,
   "id": "9e2a0aed-e0fe-48cd-b631-3c6873018678",
   "metadata": {},
   "outputs": [],
   "source": []
  },
  {
   "cell_type": "code",
   "execution_count": 35,
   "id": "eb3a9735-e9b1-4bc2-bfe6-a439efaa0c65",
   "metadata": {},
   "outputs": [
    {
     "data": {
      "application/vnd.plotly.v1+json": {
       "config": {
        "plotlyServerURL": "https://plot.ly"
       },
       "data": [
        {
         "type": "bar",
         "x": [
          "Mar 2021",
          "Jun 2021",
          "Sep 2021",
          "Dec 2021",
          "Mar 2022",
          "Jun 2022",
          "Sep 2022",
          "Dec 2022",
          "Mar 2023",
          "Jun 2023",
          "Sep 2023",
          "Dec 2023",
          "Mar 2024",
          "Jun 2024"
         ],
         "xaxis": "x",
         "y": [
          null,
          0.11,
          0.1,
          0.13,
          0.06,
          0.1,
          0.08,
          0.11,
          0.09,
          0.18,
          0.2,
          0.12,
          0.05,
          0.21
         ],
         "yaxis": "y"
        },
        {
         "type": "bar",
         "x": [
          "Mar 2021",
          "Jun 2021",
          "Sep 2021",
          "Dec 2021",
          "Mar 2022",
          "Jun 2022",
          "Sep 2022",
          "Dec 2022",
          "Mar 2023",
          "Jun 2023",
          "Sep 2023",
          "Dec 2023",
          "Mar 2024",
          "Jun 2024"
         ],
         "xaxis": "x2",
         "y": [
          null,
          0.11,
          0.1,
          0.13,
          0.06,
          0.1,
          0.08,
          0.11,
          0.09,
          0.18,
          0.2,
          0.12,
          0.05,
          0.21
         ],
         "yaxis": "y2"
        }
       ],
       "layout": {
        "autosize": true,
        "template": {
         "data": {
          "bar": [
           {
            "error_x": {
             "color": "#2a3f5f"
            },
            "error_y": {
             "color": "#2a3f5f"
            },
            "marker": {
             "line": {
              "color": "#E5ECF6",
              "width": 0.5
             },
             "pattern": {
              "fillmode": "overlay",
              "size": 10,
              "solidity": 0.2
             }
            },
            "type": "bar"
           }
          ],
          "barpolar": [
           {
            "marker": {
             "line": {
              "color": "#E5ECF6",
              "width": 0.5
             },
             "pattern": {
              "fillmode": "overlay",
              "size": 10,
              "solidity": 0.2
             }
            },
            "type": "barpolar"
           }
          ],
          "carpet": [
           {
            "aaxis": {
             "endlinecolor": "#2a3f5f",
             "gridcolor": "white",
             "linecolor": "white",
             "minorgridcolor": "white",
             "startlinecolor": "#2a3f5f"
            },
            "baxis": {
             "endlinecolor": "#2a3f5f",
             "gridcolor": "white",
             "linecolor": "white",
             "minorgridcolor": "white",
             "startlinecolor": "#2a3f5f"
            },
            "type": "carpet"
           }
          ],
          "choropleth": [
           {
            "colorbar": {
             "outlinewidth": 0,
             "ticks": ""
            },
            "type": "choropleth"
           }
          ],
          "contour": [
           {
            "colorbar": {
             "outlinewidth": 0,
             "ticks": ""
            },
            "colorscale": [
             [
              0,
              "#0d0887"
             ],
             [
              0.1111111111111111,
              "#46039f"
             ],
             [
              0.2222222222222222,
              "#7201a8"
             ],
             [
              0.3333333333333333,
              "#9c179e"
             ],
             [
              0.4444444444444444,
              "#bd3786"
             ],
             [
              0.5555555555555556,
              "#d8576b"
             ],
             [
              0.6666666666666666,
              "#ed7953"
             ],
             [
              0.7777777777777778,
              "#fb9f3a"
             ],
             [
              0.8888888888888888,
              "#fdca26"
             ],
             [
              1,
              "#f0f921"
             ]
            ],
            "type": "contour"
           }
          ],
          "contourcarpet": [
           {
            "colorbar": {
             "outlinewidth": 0,
             "ticks": ""
            },
            "type": "contourcarpet"
           }
          ],
          "heatmap": [
           {
            "colorbar": {
             "outlinewidth": 0,
             "ticks": ""
            },
            "colorscale": [
             [
              0,
              "#0d0887"
             ],
             [
              0.1111111111111111,
              "#46039f"
             ],
             [
              0.2222222222222222,
              "#7201a8"
             ],
             [
              0.3333333333333333,
              "#9c179e"
             ],
             [
              0.4444444444444444,
              "#bd3786"
             ],
             [
              0.5555555555555556,
              "#d8576b"
             ],
             [
              0.6666666666666666,
              "#ed7953"
             ],
             [
              0.7777777777777778,
              "#fb9f3a"
             ],
             [
              0.8888888888888888,
              "#fdca26"
             ],
             [
              1,
              "#f0f921"
             ]
            ],
            "type": "heatmap"
           }
          ],
          "heatmapgl": [
           {
            "colorbar": {
             "outlinewidth": 0,
             "ticks": ""
            },
            "colorscale": [
             [
              0,
              "#0d0887"
             ],
             [
              0.1111111111111111,
              "#46039f"
             ],
             [
              0.2222222222222222,
              "#7201a8"
             ],
             [
              0.3333333333333333,
              "#9c179e"
             ],
             [
              0.4444444444444444,
              "#bd3786"
             ],
             [
              0.5555555555555556,
              "#d8576b"
             ],
             [
              0.6666666666666666,
              "#ed7953"
             ],
             [
              0.7777777777777778,
              "#fb9f3a"
             ],
             [
              0.8888888888888888,
              "#fdca26"
             ],
             [
              1,
              "#f0f921"
             ]
            ],
            "type": "heatmapgl"
           }
          ],
          "histogram": [
           {
            "marker": {
             "pattern": {
              "fillmode": "overlay",
              "size": 10,
              "solidity": 0.2
             }
            },
            "type": "histogram"
           }
          ],
          "histogram2d": [
           {
            "colorbar": {
             "outlinewidth": 0,
             "ticks": ""
            },
            "colorscale": [
             [
              0,
              "#0d0887"
             ],
             [
              0.1111111111111111,
              "#46039f"
             ],
             [
              0.2222222222222222,
              "#7201a8"
             ],
             [
              0.3333333333333333,
              "#9c179e"
             ],
             [
              0.4444444444444444,
              "#bd3786"
             ],
             [
              0.5555555555555556,
              "#d8576b"
             ],
             [
              0.6666666666666666,
              "#ed7953"
             ],
             [
              0.7777777777777778,
              "#fb9f3a"
             ],
             [
              0.8888888888888888,
              "#fdca26"
             ],
             [
              1,
              "#f0f921"
             ]
            ],
            "type": "histogram2d"
           }
          ],
          "histogram2dcontour": [
           {
            "colorbar": {
             "outlinewidth": 0,
             "ticks": ""
            },
            "colorscale": [
             [
              0,
              "#0d0887"
             ],
             [
              0.1111111111111111,
              "#46039f"
             ],
             [
              0.2222222222222222,
              "#7201a8"
             ],
             [
              0.3333333333333333,
              "#9c179e"
             ],
             [
              0.4444444444444444,
              "#bd3786"
             ],
             [
              0.5555555555555556,
              "#d8576b"
             ],
             [
              0.6666666666666666,
              "#ed7953"
             ],
             [
              0.7777777777777778,
              "#fb9f3a"
             ],
             [
              0.8888888888888888,
              "#fdca26"
             ],
             [
              1,
              "#f0f921"
             ]
            ],
            "type": "histogram2dcontour"
           }
          ],
          "mesh3d": [
           {
            "colorbar": {
             "outlinewidth": 0,
             "ticks": ""
            },
            "type": "mesh3d"
           }
          ],
          "parcoords": [
           {
            "line": {
             "colorbar": {
              "outlinewidth": 0,
              "ticks": ""
             }
            },
            "type": "parcoords"
           }
          ],
          "pie": [
           {
            "automargin": true,
            "type": "pie"
           }
          ],
          "scatter": [
           {
            "fillpattern": {
             "fillmode": "overlay",
             "size": 10,
             "solidity": 0.2
            },
            "type": "scatter"
           }
          ],
          "scatter3d": [
           {
            "line": {
             "colorbar": {
              "outlinewidth": 0,
              "ticks": ""
             }
            },
            "marker": {
             "colorbar": {
              "outlinewidth": 0,
              "ticks": ""
             }
            },
            "type": "scatter3d"
           }
          ],
          "scattercarpet": [
           {
            "marker": {
             "colorbar": {
              "outlinewidth": 0,
              "ticks": ""
             }
            },
            "type": "scattercarpet"
           }
          ],
          "scattergeo": [
           {
            "marker": {
             "colorbar": {
              "outlinewidth": 0,
              "ticks": ""
             }
            },
            "type": "scattergeo"
           }
          ],
          "scattergl": [
           {
            "marker": {
             "colorbar": {
              "outlinewidth": 0,
              "ticks": ""
             }
            },
            "type": "scattergl"
           }
          ],
          "scattermapbox": [
           {
            "marker": {
             "colorbar": {
              "outlinewidth": 0,
              "ticks": ""
             }
            },
            "type": "scattermapbox"
           }
          ],
          "scatterpolar": [
           {
            "marker": {
             "colorbar": {
              "outlinewidth": 0,
              "ticks": ""
             }
            },
            "type": "scatterpolar"
           }
          ],
          "scatterpolargl": [
           {
            "marker": {
             "colorbar": {
              "outlinewidth": 0,
              "ticks": ""
             }
            },
            "type": "scatterpolargl"
           }
          ],
          "scatterternary": [
           {
            "marker": {
             "colorbar": {
              "outlinewidth": 0,
              "ticks": ""
             }
            },
            "type": "scatterternary"
           }
          ],
          "surface": [
           {
            "colorbar": {
             "outlinewidth": 0,
             "ticks": ""
            },
            "colorscale": [
             [
              0,
              "#0d0887"
             ],
             [
              0.1111111111111111,
              "#46039f"
             ],
             [
              0.2222222222222222,
              "#7201a8"
             ],
             [
              0.3333333333333333,
              "#9c179e"
             ],
             [
              0.4444444444444444,
              "#bd3786"
             ],
             [
              0.5555555555555556,
              "#d8576b"
             ],
             [
              0.6666666666666666,
              "#ed7953"
             ],
             [
              0.7777777777777778,
              "#fb9f3a"
             ],
             [
              0.8888888888888888,
              "#fdca26"
             ],
             [
              1,
              "#f0f921"
             ]
            ],
            "type": "surface"
           }
          ],
          "table": [
           {
            "cells": {
             "fill": {
              "color": "#EBF0F8"
             },
             "line": {
              "color": "white"
             }
            },
            "header": {
             "fill": {
              "color": "#C8D4E3"
             },
             "line": {
              "color": "white"
             }
            },
            "type": "table"
           }
          ]
         },
         "layout": {
          "annotationdefaults": {
           "arrowcolor": "#2a3f5f",
           "arrowhead": 0,
           "arrowwidth": 1
          },
          "autotypenumbers": "strict",
          "coloraxis": {
           "colorbar": {
            "outlinewidth": 0,
            "ticks": ""
           }
          },
          "colorscale": {
           "diverging": [
            [
             0,
             "#8e0152"
            ],
            [
             0.1,
             "#c51b7d"
            ],
            [
             0.2,
             "#de77ae"
            ],
            [
             0.3,
             "#f1b6da"
            ],
            [
             0.4,
             "#fde0ef"
            ],
            [
             0.5,
             "#f7f7f7"
            ],
            [
             0.6,
             "#e6f5d0"
            ],
            [
             0.7,
             "#b8e186"
            ],
            [
             0.8,
             "#7fbc41"
            ],
            [
             0.9,
             "#4d9221"
            ],
            [
             1,
             "#276419"
            ]
           ],
           "sequential": [
            [
             0,
             "#0d0887"
            ],
            [
             0.1111111111111111,
             "#46039f"
            ],
            [
             0.2222222222222222,
             "#7201a8"
            ],
            [
             0.3333333333333333,
             "#9c179e"
            ],
            [
             0.4444444444444444,
             "#bd3786"
            ],
            [
             0.5555555555555556,
             "#d8576b"
            ],
            [
             0.6666666666666666,
             "#ed7953"
            ],
            [
             0.7777777777777778,
             "#fb9f3a"
            ],
            [
             0.8888888888888888,
             "#fdca26"
            ],
            [
             1,
             "#f0f921"
            ]
           ],
           "sequentialminus": [
            [
             0,
             "#0d0887"
            ],
            [
             0.1111111111111111,
             "#46039f"
            ],
            [
             0.2222222222222222,
             "#7201a8"
            ],
            [
             0.3333333333333333,
             "#9c179e"
            ],
            [
             0.4444444444444444,
             "#bd3786"
            ],
            [
             0.5555555555555556,
             "#d8576b"
            ],
            [
             0.6666666666666666,
             "#ed7953"
            ],
            [
             0.7777777777777778,
             "#fb9f3a"
            ],
            [
             0.8888888888888888,
             "#fdca26"
            ],
            [
             1,
             "#f0f921"
            ]
           ]
          },
          "colorway": [
           "#636efa",
           "#EF553B",
           "#00cc96",
           "#ab63fa",
           "#FFA15A",
           "#19d3f3",
           "#FF6692",
           "#B6E880",
           "#FF97FF",
           "#FECB52"
          ],
          "font": {
           "color": "#2a3f5f"
          },
          "geo": {
           "bgcolor": "white",
           "lakecolor": "white",
           "landcolor": "#E5ECF6",
           "showlakes": true,
           "showland": true,
           "subunitcolor": "white"
          },
          "hoverlabel": {
           "align": "left"
          },
          "hovermode": "closest",
          "mapbox": {
           "style": "light"
          },
          "paper_bgcolor": "white",
          "plot_bgcolor": "#E5ECF6",
          "polar": {
           "angularaxis": {
            "gridcolor": "white",
            "linecolor": "white",
            "ticks": ""
           },
           "bgcolor": "#E5ECF6",
           "radialaxis": {
            "gridcolor": "white",
            "linecolor": "white",
            "ticks": ""
           }
          },
          "scene": {
           "xaxis": {
            "backgroundcolor": "#E5ECF6",
            "gridcolor": "white",
            "gridwidth": 2,
            "linecolor": "white",
            "showbackground": true,
            "ticks": "",
            "zerolinecolor": "white"
           },
           "yaxis": {
            "backgroundcolor": "#E5ECF6",
            "gridcolor": "white",
            "gridwidth": 2,
            "linecolor": "white",
            "showbackground": true,
            "ticks": "",
            "zerolinecolor": "white"
           },
           "zaxis": {
            "backgroundcolor": "#E5ECF6",
            "gridcolor": "white",
            "gridwidth": 2,
            "linecolor": "white",
            "showbackground": true,
            "ticks": "",
            "zerolinecolor": "white"
           }
          },
          "shapedefaults": {
           "line": {
            "color": "#2a3f5f"
           }
          },
          "ternary": {
           "aaxis": {
            "gridcolor": "white",
            "linecolor": "white",
            "ticks": ""
           },
           "baxis": {
            "gridcolor": "white",
            "linecolor": "white",
            "ticks": ""
           },
           "bgcolor": "#E5ECF6",
           "caxis": {
            "gridcolor": "white",
            "linecolor": "white",
            "ticks": ""
           }
          },
          "title": {
           "x": 0.05
          },
          "xaxis": {
           "automargin": true,
           "gridcolor": "white",
           "linecolor": "white",
           "ticks": "",
           "title": {
            "standoff": 15
           },
           "zerolinecolor": "white",
           "zerolinewidth": 2
          },
          "yaxis": {
           "automargin": true,
           "gridcolor": "white",
           "linecolor": "white",
           "ticks": "",
           "title": {
            "standoff": 15
           },
           "zerolinecolor": "white",
           "zerolinewidth": 2
          }
         }
        },
        "updatemenus": [
         {
          "active": 1,
          "buttons": [
           {
            "args": [
             {
              "y": [
               [
                null,
                2.99,
                3.77,
                4.3,
                1.54,
                3.35,
                2.84,
                2.25,
                0.25,
                0.36,
                -1.59,
                -0.19,
                -2.59,
                2.83
               ]
              ]
             }
            ],
            "label": "526433",
            "method": "update"
           },
           {
            "args": [
             {
              "y": [
               [
                null,
                0.11,
                0.1,
                0.13,
                0.06,
                0.1,
                0.08,
                0.11,
                0.09,
                0.18,
                0.2,
                0.12,
                0.05,
                0.21
               ]
              ]
             }
            ],
            "label": "532407",
            "method": "update"
           },
           {
            "args": [
             {
              "y": [
               [
                null,
                null,
                null,
                null,
                null,
                5.28,
                6.38,
                7.06,
                7.82,
                7.96,
                8.1,
                3.77,
                4.77,
                5.21
               ]
              ]
             }
            ],
            "label": "544021",
            "method": "update"
           },
           {
            "args": [
             {
              "y": [
               [
                null,
                5.27,
                4.6,
                6.29,
                5.98,
                3.76,
                4.18,
                3.96,
                6.06,
                5.17,
                4.31,
                3.99,
                5.15,
                3.62
               ]
              ]
             }
            ],
            "label": "AARTIDRUGS",
            "method": "update"
           },
           {
            "args": [
             {
              "y": [
               [
                null,
                4.55,
                4.14,
                20.01,
                5.34,
                3.75,
                3.42,
                3.77,
                4.11,
                1.93,
                2.51,
                3.42,
                3.64,
                3.78
               ]
              ]
             }
            ],
            "label": "AARTIIND",
            "method": "update"
           },
           {
            "args": [
             {
              "y": [
               [
                null,
                null,
                null,
                null,
                null,
                null,
                null,
                5.26,
                4.73,
                5.2,
                5.72,
                5.82,
                7.2,
                6.12
               ]
              ]
             }
            ],
            "label": "AARTIPHARM",
            "method": "update"
           },
           {
            "args": [
             {
              "y": [
               [
                null,
                5.32,
                0.98,
                -2.62,
                2.79,
                4.36,
                0.38,
                4.68,
                5.52,
                6.18,
                5.58,
                7.86,
                5.5,
                2.62
               ]
              ]
             }
            ],
            "label": "AARTISURF",
            "method": "update"
           },
           {
            "args": [
             {
              "y": [
               [
                null,
                3.32,
                5.66,
                8.88,
                17.61,
                6.62,
                9.32,
                14.41,
                11.56,
                13.95,
                17.12,
                15.98,
                21.67,
                20.93
               ]
              ]
             }
            ],
            "label": "ABB",
            "method": "update"
           },
           {
            "args": [
             {
              "y": [
               [
                null,
                30.32,
                23.97,
                14.95,
                21.1,
                12.11,
                -4.65,
                6.03,
                12.55,
                24.82,
                20.65,
                28.63,
                50.31,
                19.24
               ]
              ]
             }
            ],
            "label": "ACC",
            "method": "update"
           },
           {
            "args": [
             {
              "y": [
               [
                null,
                2.47,
                1.93,
                -0.11,
                2.77,
                4.12,
                4.04,
                7.19,
                6.34,
                5.91,
                2,
                16.57,
                3.95,
                12.76
               ]
              ]
             }
            ],
            "label": "ADANIENT",
            "method": "update"
           },
           {
            "args": [
             {
              "y": [
               [
                null,
                2.68,
                3.57,
                4.66,
                5.14,
                4.09,
                4.4,
                5.18,
                4.68,
                4.97,
                5.01,
                5.48,
                6.24,
                6.18
               ]
              ]
             }
            ],
            "label": "AFFLE",
            "method": "update"
           },
           {
            "args": [
             {
              "y": [
               [
                null,
                15.38,
                10.59,
                8.98,
                9.09,
                16.03,
                10.26,
                8.94,
                9.52,
                9.74,
                5.33,
                6.54,
                7.52,
                9.56
               ]
              ]
             }
            ],
            "label": "ALKYLAMINE",
            "method": "update"
           },
           {
            "args": [
             {
              "y": [
               [
                null,
                14.73,
                16.24,
                19.88,
                24.7,
                21.85,
                25.63,
                27.35,
                32,
                26.34,
                36.3,
                31.01,
                40.47,
                32.49
               ]
              ]
             }
            ],
            "label": "ANGELONE",
            "method": "update"
           },
           {
            "args": [
             {
              "y": [
               [
                null,
                7.27,
                8.45,
                8.51,
                5.79,
                7.73,
                11.78,
                12.99,
                8.34,
                11.61,
                13.25,
                15.68,
                12.55,
                13.61
               ]
              ]
             }
            ],
            "label": "ARE&M",
            "method": "update"
           },
           {
            "args": [
             {
              "y": [
               [
                null,
                1.45,
                3.34,
                4.12,
                5.27,
                4.4,
                4.33,
                3.45,
                2.84,
                4.27,
                3.57,
                2.61,
                3.04,
                3.21
               ]
              ]
             }
            ],
            "label": "ASAHIINDIA",
            "method": "update"
           },
           {
            "args": [
             {
              "y": [
               [
                null,
                -0.93,
                -0.35,
                -0.41,
                0.48,
                0.02,
                0.56,
                1.09,
                2.56,
                1.85,
                1.79,
                1.91,
                2.91,
                1.73
               ]
              ]
             }
            ],
            "label": "ASHOKLEY",
            "method": "update"
           },
           {
            "args": [
             {
              "y": [
               [
                null,
                5.93,
                6.21,
                10.59,
                8.87,
                10.6,
                8.16,
                11.18,
                12.87,
                16.16,
                12.57,
                15.09,
                13.1,
                12.2
               ]
              ]
             }
            ],
            "label": "ASIANPAINT",
            "method": "update"
           },
           {
            "args": [
             {
              "y": [
               [
                null,
                2.76,
                5.27,
                4.75,
                5.28,
                3.32,
                2.57,
                3.46,
                7.66,
                4.46,
                4.88,
                4.23,
                6.76,
                4.48
               ]
              ]
             }
            ],
            "label": "ASTRAL",
            "method": "update"
           },
           {
            "args": [
             {
              "y": [
               [
                null,
                7.69,
                11.05,
                12.9,
                14.39,
                14.26,
                18.27,
                20.12,
                -17.43,
                19.78,
                20.13,
                21.05,
                24.62,
                20.83
               ]
              ]
             }
            ],
            "label": "AXISBANK",
            "method": "update"
           },
           {
            "args": [
             {
              "y": [
               [
                null,
                40.44,
                70.49,
                49.41,
                52.74,
                40.2,
                59.42,
                52.05,
                60.25,
                58.11,
                71.39,
                71.78,
                72.05,
                69.55
               ]
              ]
             }
            ],
            "label": "BAJAJ-AUTO",
            "method": "update"
           },
           {
            "args": [
             {
              "y": [
               [
                null,
                -1.91,
                5.48,
                4.2,
                3.42,
                3.74,
                5.24,
                5.31,
                4.52,
                3.23,
                2.37,
                3.25,
                2.54,
                2.44
               ]
              ]
             }
            ],
            "label": "BAJAJELEC",
            "method": "update"
           },
           {
            "args": [
             {
              "y": [
               [
                null,
                5.23,
                7.05,
                7.89,
                8.46,
                8.23,
                9.77,
                11.19,
                11.11,
                12.2,
                12.09,
                13.52,
                13.28,
                13.39
               ]
              ]
             }
            ],
            "label": "BAJAJFINSV",
            "method": "update"
           },
           {
            "args": [
             {
              "y": [
               [
                null,
                16.61,
                24.54,
                35.21,
                39.96,
                42.88,
                45.93,
                49.11,
                52.16,
                56.72,
                58.6,
                58.88,
                61.79,
                63.2
               ]
              ]
             }
            ],
            "label": "BAJFINANCE",
            "method": "update"
           },
           {
            "args": [
             {
              "y": [
               [
                null,
                27.89,
                24.61,
                27.64,
                33.55,
                37.95,
                28.57,
                19.31,
                14.63,
                16.27,
                10.71,
                15.24,
                21,
                13.36
               ]
              ]
             }
            ],
            "label": "BALAMINES",
            "method": "update"
           },
           {
            "args": [
             {
              "y": [
               [
                null,
                -5.41,
                2.89,
                5.63,
                4.9,
                9.29,
                4.27,
                6.47,
                5.11,
                8.32,
                2.64,
                4.51,
                4.95,
                13.54
               ]
              ]
             }
            ],
            "label": "BATAINDIA",
            "method": "update"
           },
           {
            "args": [
             {
              "y": [
               [
                null,
                0.03,
                0.85,
                0.82,
                1.58,
                0.5,
                0.85,
                0.84,
                1.89,
                0.74,
                1.08,
                1.18,
                2.46,
                1.08
               ]
              ]
             }
            ],
            "label": "BEL",
            "method": "update"
           },
           {
            "args": [
             {
              "y": [
               [
                null,
                1.21,
                1.88,
                2.17,
                1.89,
                2.17,
                1.88,
                1.72,
                1.59,
                3.04,
                2.5,
                2.57,
                1.91,
                3.03
               ]
              ]
             }
            ],
            "label": "BERGEPAINT",
            "method": "update"
           },
           {
            "args": [
             {
              "y": [
               [
                null,
                0.48,
                1.93,
                1.41,
                3.41,
                2.73,
                3.86,
                2.85,
                5.39,
                2.89,
                2.39,
                4.34,
                3.66,
                7.31
               ]
              ]
             }
            ],
            "label": "BHARTIARTL",
            "method": "update"
           },
           {
            "args": [
             {
              "y": [
               [
                null,
                -0.21,
                2.35,
                2.17,
                3.02,
                1.69,
                2.2,
                1.39,
                0.28,
                0.63,
                1.62,
                3.25,
                0.44,
                0.78
               ]
              ]
             }
            ],
            "label": "BOROLTD",
            "method": "update"
           },
           {
            "args": [
             {
              "y": [
               [
                null,
                16.17,
                15.95,
                15.41,
                15.77,
                14.01,
                20.48,
                38.71,
                23.19,
                19,
                24.39,
                23.1,
                22.35,
                20.99
               ]
              ]
             }
            ],
            "label": "BRITANNIA",
            "method": "update"
           },
           {
            "args": [
             {
              "y": [
               [
                null,
                3.95,
                4.82,
                4.53,
                5.51,
                3.25,
                2.5,
                3.81,
                6.73,
                32.68,
                8.9,
                7.99,
                7.91,
                19.58
               ]
              ]
             }
            ],
            "label": "BSE",
            "method": "update"
           },
           {
            "args": [
             {
              "y": [
               [
                null,
                12.95,
                14.86,
                15.81,
                15.1,
                13.24,
                14.72,
                15.05,
                15.23,
                15.58,
                17.2,
                18.17,
                21.06,
                22
               ]
              ]
             }
            ],
            "label": "CAMS",
            "method": "update"
           },
           {
            "args": [
             {
              "y": [
               [
                0.66,
                0.13,
                null,
                1.8,
                1.3,
                0.94,
                null,
                null,
                null,
                null,
                null,
                null,
                null,
                null
               ]
              ]
             }
            ],
            "label": "CAMPUS",
            "method": "update"
           },
           {
            "args": [
             {
              "y": [
               [
                null,
                6.11,
                8.22,
                8.01,
                7.43,
                5.53,
                7.69,
                7.14,
                6.04,
                7.04,
                10.42,
                10.28,
                12.37,
                12.84
               ]
              ]
             }
            ],
            "label": "CDSL",
            "method": "update"
           },
           {
            "args": [
             {
              "y": [
               [
                null,
                -26.9,
                -0.5,
                2.73,
                -4.94,
                -1.99,
                -5.32,
                -7.5,
                20.02,
                1.13,
                -3.54,
                5.63,
                -5.35,
                -2.98
               ]
              ]
             }
            ],
            "label": "CENTUM",
            "method": "update"
           },
           {
            "args": [
             {
              "y": [
               [
                null,
                0.4,
                1.49,
                4.03,
                0.77,
                0.85,
                1.17,
                1.49,
                2.79,
                1.33,
                1.59,
                4.89,
                1.53,
                1.58
               ]
              ]
             }
            ],
            "label": "CGPOWER",
            "method": "update"
           },
           {
            "args": [
             {
              "y": [
               [
                null,
                1.09,
                4.99,
                4.92,
                10.44,
                1.6,
                4.29,
                4.2,
                1.5,
                3.75,
                6.9,
                9.29,
                9.84,
                6.62
               ]
              ]
             }
            ],
            "label": "COCHINSHIP",
            "method": "update"
           },
           {
            "args": [
             {
              "y": [
               [
                null,
                20.4,
                24.2,
                30.17,
                34.1,
                24.58,
                32.99,
                37.37,
                18.79,
                27.06,
                29.41,
                38.54,
                36.19,
                19.97
               ]
              ]
             }
            ],
            "label": "COFORGE",
            "method": "update"
           },
           {
            "args": [
             {
              "y": [
               [
                null,
                4.25,
                4.16,
                4.67,
                4.25,
                4.88,
                4.98,
                4.83,
                4.58,
                4.03,
                6.03,
                5.43,
                5.2,
                4.24
               ]
              ]
             }
            ],
            "label": "CONCOR",
            "method": "update"
           },
           {
            "args": [
             {
              "y": [
               [
                null,
                10.44,
                11.01,
                11.95,
                13.98,
                10.52,
                7.16,
                14.12,
                14.76,
                15.2,
                16.1,
                13.28,
                17.06,
                12.97
               ]
              ]
             }
            ],
            "label": "CYIENT",
            "method": "update"
           },
           {
            "args": [
             {
              "y": [
               [
                null,
                2.47,
                2.85,
                2.85,
                1.66,
                2.49,
                2.77,
                2.69,
                1.7,
                2.62,
                2.91,
                2.9,
                1.97,
                2.82
               ]
              ]
             }
            ],
            "label": "DABUR",
            "method": "update"
           },
           {
            "args": [
             {
              "y": [
               [
                null,
                22.19,
                18.65,
                17.78,
                19.59,
                17.2,
                12.79,
                15.33,
                17.15,
                10.99,
                15.04,
                14.81,
                18.61,
                14.85
               ]
              ]
             }
            ],
            "label": "DEEPAKNTR",
            "method": "update"
           },
           {
            "args": [
             {
              "y": [
               [
                null,
                20.99,
                22.84,
                33.99,
                33.7,
                26.44,
                18.57,
                11.53,
                12.09,
                13.41,
                13.11,
                13.49,
                20.27,
                16.2
               ]
              ]
             }
            ],
            "label": "DIVISLAB",
            "method": "update"
           },
           {
            "args": [
             {
              "y": [
               [
                null,
                3.1,
                10.68,
                7.82,
                10.61,
                7.7,
                13.02,
                8.72,
                13.54,
                11.55,
                18.02,
                16.12,
                15.91,
                22.34
               ]
              ]
             }
            ],
            "label": "DIXON",
            "method": "update"
           },
           {
            "args": [
             {
              "y": [
               [
                null,
                1.47,
                6.45,
                8.53,
                6.59,
                9.93,
                10.59,
                9.1,
                7.1,
                10.12,
                9.58,
                10.61,
                8.66,
                11.89
               ]
              ]
             }
            ],
            "label": "DMART",
            "method": "update"
           },
           {
            "args": [
             {
              "y": [
               [
                null,
                22.87,
                59.84,
                42.62,
                5.83,
                71.44,
                66.93,
                74.7,
                57.65,
                84.36,
                88.87,
                82.78,
                78.52,
                83.46
               ]
              ]
             }
            ],
            "label": "DRREDDY",
            "method": "update"
           },
           {
            "args": [
             {
              "y": [
               [
                null,
                8.67,
                13.65,
                16.68,
                22.31,
                22.33,
                24.02,
                27.09,
                33.11,
                33.58,
                37.12,
                36.38,
                39.1,
                40.2
               ]
              ]
             }
            ],
            "label": "EICHERMOT",
            "method": "update"
           },
           {
            "args": [
             {
              "y": [
               [
                null,
                0.46,
                1.45,
                6.42,
                4.11,
                5.48,
                5.81,
                8.85,
                5.69,
                7.78,
                7.96,
                10.42,
                8.59,
                9.31
               ]
              ]
             }
            ],
            "label": "ETHOSLTD",
            "method": "update"
           },
           {
            "args": [
             {
              "y": [
               [
                null,
                0.39,
                2.31,
                2.1,
                46.58,
                2.39,
                2.84,
                2.34,
                2.12,
                2.62,
                3.17,
                2.36,
                2.17,
                2.59
               ]
              ]
             }
            ],
            "label": "EXIDEIND",
            "method": "update"
           },
           {
            "args": [
             {
              "y": [
               [
                null,
                11.71,
                16.27,
                16.95,
                39.74,
                52.12,
                66.09,
                34.65,
                48.74,
                32.54,
                33.71,
                30.73,
                37.36,
                36.94
               ]
              ]
             }
            ],
            "label": "FINEORG",
            "method": "update"
           },
           {
            "args": [
             {
              "y": [
               [
                null,
                0.59,
                7.88,
                7.25,
                3.65,
                10.14,
                14.45,
                4.15,
                7.86,
                11.27,
                15.82,
                6.43,
                6.91,
                5.62
               ]
              ]
             }
            ],
            "label": "GMMPFAUDLR",
            "method": "update"
           },
           {
            "args": [
             {
              "y": [
               [
                null,
                0.61,
                1.29,
                1.4,
                9.37,
                1.64,
                1.98,
                2.11,
                14.82,
                4.49,
                2.4,
                2.24,
                16.95,
                18.7
               ]
              ]
             }
            ],
            "label": "GODREJPROP",
            "method": "update"
           },
           {
            "args": [
             {
              "y": [
               [
                null,
                1.44,
                1.72,
                2.23,
                2.12,
                2.05,
                2.3,
                2.26,
                3.63,
                2.61,
                3.07,
                1.98,
                3.21,
                1.59
               ]
              ]
             }
            ],
            "label": "GREENLAM",
            "method": "update"
           },
           {
            "args": [
             {
              "y": [
               [
                4.6,
                2.43,
                5.47,
                5.14,
                6.57,
                6.33,
                5.91,
                3.06,
                5.62,
                3.04,
                3.34,
                2.82,
                2.43,
                null
               ]
              ]
             }
            ],
            "label": "GREENPANEL",
            "method": "update"
           },
           {
            "args": [
             {
              "y": [
               [
                null,
                1.8,
                5.13,
                5.5,
                4.12,
                4.38,
                5.13,
                5.58,
                4.83,
                6.69,
                7.05,
                7.7,
                9.74,
                7.61
               ]
              ]
             }
            ],
            "label": "GRSE",
            "method": "update"
           },
           {
            "args": [
             {
              "y": [
               [
                null,
                2.91,
                12.66,
                13.96,
                46.43,
                9.27,
                18.26,
                17.27,
                42.33,
                12.17,
                18.49,
                18.86,
                64.43,
                21.49
               ]
              ]
             }
            ],
            "label": "HAL",
            "method": "update"
           },
           {
            "args": [
             {
              "y": [
               [
                null,
                2.43,
                3.03,
                3.33,
                3.55,
                3.84,
                4.05,
                3.92,
                3.93,
                3.97,
                3.84,
                3.92,
                4.73,
                3.35
               ]
              ]
             }
            ],
            "label": "HAPPSTMNDS",
            "method": "update"
           },
           {
            "args": [
             {
              "y": [
               [
                null,
                3.76,
                4.83,
                4.88,
                5.63,
                3.88,
                2.98,
                4.53,
                5.71,
                4.58,
                3.97,
                4.59,
                7.13,
                6.51
               ]
              ]
             }
            ],
            "label": "HAVELLS",
            "method": "update"
           },
           {
            "args": [
             {
              "y": [
               [
                null,
                11.81,
                12.01,
                12.68,
                13.24,
                12.1,
                12.86,
                15.09,
                14.68,
                13.02,
                14.12,
                16.03,
                14.69,
                15.69
               ]
              ]
             }
            ],
            "label": "HCLTECH",
            "method": "update"
           },
           {
            "args": [
             {
              "y": [
               [
                null,
                null,
                null,
                null,
                null,
                null,
                17.06,
                17.3,
                17.63,
                22.36,
                20.45,
                22.86,
                25.33,
                28.27
               ]
              ]
             }
            ],
            "label": "HDFCAMC",
            "method": "update"
           },
           {
            "args": [
             {
              "y": [
               [
                null,
                14.33,
                16.43,
                19.11,
                18.83,
                17.25,
                19.97,
                22.77,
                22.57,
                22.12,
                22.17,
                22.73,
                23.2,
                21.65
               ]
              ]
             }
            ],
            "label": "HDFCBANK",
            "method": "update"
           },
           {
            "args": [
             {
              "y": [
               [
                null,
                1.33,
                1.36,
                1.36,
                2.4,
                1.71,
                1.53,
                1.47,
                1.68,
                1.94,
                1.76,
                1.71,
                1.91,
                2.23
               ]
              ]
             }
            ],
            "label": "HDFCLIFE",
            "method": "update"
           },
           {
            "args": [
             {
              "y": [
               [
                null,
                3.26,
                3.53,
                2.24,
                1.37,
                0.78,
                2.05,
                1.48,
                1.93,
                1.8,
                2.41,
                2.9,
                4.36,
                6.3
               ]
              ]
             }
            ],
            "label": "HERITGFOOD",
            "method": "update"
           },
           {
            "args": [
             {
              "y": [
               [
                null,
                12.82,
                37.32,
                35.22,
                30.6,
                29.55,
                34.45,
                36.33,
                40.29,
                35.53,
                50.35,
                54.7,
                46.77,
                52.31
               ]
              ]
             }
            ],
            "label": "HEROMOTOCO",
            "method": "update"
           },
           {
            "args": [
             {
              "y": [
               [
                null,
                8.92,
                9.28,
                9.78,
                9.81,
                10.13,
                11.34,
                10.53,
                11.07,
                10.87,
                11.3,
                10.68,
                10.89,
                11.11
               ]
              ]
             }
            ],
            "label": "HINDUNILVR",
            "method": "update"
           },
           {
            "args": [
             {
              "y": [
               [
                null,
                2.11,
                1.9,
                1.13,
                3.41,
                2.25,
                2.84,
                1.8,
                3.34,
                1.36,
                1.47,
                0.44,
                1.45,
                0.5
               ]
              ]
             }
            ],
            "label": "HLEGLAS",
            "method": "update"
           },
           {
            "args": [
             {
              "y": [
               [
                null,
                0.96,
                1.03,
                1.1,
                1.09,
                1.32,
                1.68,
                1.51,
                1.79,
                2.07,
                2.19,
                1.95,
                2,
                2.38
               ]
              ]
             }
            ],
            "label": "HNDFDS",
            "method": "update"
           },
           {
            "args": [
             {
              "y": [
               [
                null,
                6.88,
                8.78,
                9.41,
                11.11,
                10.62,
                11.49,
                12.6,
                14.11,
                15.2,
                15.56,
                15.76,
                16.62,
                16.62
               ]
              ]
             }
            ],
            "label": "ICICIBANK",
            "method": "update"
           },
           {
            "args": [
             {
              "y": [
               [
                null,
                4.27,
                9.11,
                6.47,
                6.37,
                7.11,
                12.02,
                7.18,
                8.9,
                7.95,
                11.75,
                8.76,
                10.54,
                11.77
               ]
              ]
             }
            ],
            "label": "ICICIGI",
            "method": "update"
           },
           {
            "args": [
             {
              "y": [
               [
                null,
                -1.29,
                3.1,
                2.17,
                1.3,
                1.09,
                1.39,
                1.54,
                1.64,
                1.43,
                1.69,
                1.58,
                1.21,
                1.56
               ]
              ]
             }
            ],
            "label": "ICICIPRULI",
            "method": "update"
           },
           {
            "args": [
             {
              "y": [
               [
                null,
                null,
                null,
                null,
                null,
                4552.98,
                438.19,
                -3.73,
                -2.54,
                4.95,
                0.21,
                3.45,
                2.41,
                0.27
               ]
              ]
             }
            ],
            "label": "IDEAFORGE",
            "method": "update"
           },
           {
            "args": [
             {
              "y": [
               [
                null,
                -1,
                0.18,
                0.47,
                0.57,
                0.78,
                0.91,
                0.99,
                1.23,
                1.1,
                1.11,
                1.04,
                1.04,
                0.91
               ]
              ]
             }
            ],
            "label": "IDFCFIRSTB",
            "method": "update"
           },
           {
            "args": [
             {
              "y": [
               [
                null,
                -82.47,
                -37.28,
                3.37,
                -43.65,
                -27.62,
                -41.08,
                36.91,
                23.84,
                80.16,
                4.9,
                77.68,
                49.09,
                70.7
               ]
              ]
             }
            ],
            "label": "INDIGO",
            "method": "update"
           },
           {
            "args": [
             {
              "y": [
               [
                null,
                null,
                null,
                null,
                null,
                4.19,
                7.8,
                5.52,
                10.23,
                6.52,
                5.32,
                7.82,
                11.27,
                5.5
               ]
              ]
             }
            ],
            "label": "INDIGOPNTS",
            "method": "update"
           },
           {
            "args": [
             {
              "y": [
               [
                null,
                12.2,
                12.89,
                13.81,
                13.52,
                12.74,
                14.31,
                15.7,
                14.77,
                14.32,
                14.97,
                14.71,
                19.2,
                15.34
               ]
              ]
             }
            ],
            "label": "INFY",
            "method": "update"
           },
           {
            "args": [
             {
              "y": [
               [
                null,
                0.95,
                1.34,
                1.44,
                2.57,
                1.54,
                1.85,
                2.02,
                2.73,
                1.99,
                2.67,
                2.6,
                2.62,
                2.38
               ]
              ]
             }
            ],
            "label": "IRCON",
            "method": "update"
           },
           {
            "args": [
             {
              "y": [
               [
                null,
                null,
                null,
                null,
                null,
                null,
                null,
                null,
                3.48,
                2.9,
                null,
                3.75,
                3.55,
                3.85
               ]
              ]
             }
            ],
            "label": "IRCTC",
            "method": "update"
           },
           {
            "args": [
             {
              "y": [
               [
                null,
                null,
                null,
                null,
                null,
                null,
                null,
                0.88,
                1.11,
                1.29,
                1.25,
                1.25,
                1.26,
                1.43
               ]
              ]
             }
            ],
            "label": "IREDA",
            "method": "update"
           },
           {
            "args": [
             {
              "y": [
               [
                null,
                2.66,
                3.01,
                3.29,
                3.4,
                3.56,
                3.73,
                4.03,
                4.16,
                4.1,
                3.93,
                4.28,
                4.1,
                4.08
               ]
              ]
             }
            ],
            "label": "ITC",
            "method": "update"
           },
           {
            "args": [
             {
              "y": [
               [
                null,
                null,
                null,
                null,
                null,
                null,
                null,
                null,
                null,
                null,
                1.05,
                0.46,
                0.49,
                0.49
               ]
              ]
             }
            ],
            "label": "JIOFIN",
            "method": "update"
           },
           {
            "args": [
             {
              "y": [
               [
                null,
                1.05,
                1.82,
                2.03,
                1.47,
                1.71,
                1.99,
                1.22,
                0.43,
                0.44,
                1.47,
                1,
                3.14,
                0.85
               ]
              ]
             }
            ],
            "label": "JUBLFOOD",
            "method": "update"
           },
           {
            "args": [
             {
              "y": [
               [
                null,
                -0.5,
                0.67,
                1.31,
                0.7,
                1.05,
                1.03,
                1.44,
                0.68,
                1.4,
                1.31,
                1.75,
                1.34,
                1.72
               ]
              ]
             }
            ],
            "label": "KALYANKJIL",
            "method": "update"
           },
           {
            "args": [
             {
              "y": [
               [
                null,
                null,
                null,
                13.96,
                4.3,
                2.18,
                null,
                3.93,
                7.1,
                4.24,
                5.56,
                7.07,
                12.71,
                7.94
               ]
              ]
             }
            ],
            "label": "KAYNES",
            "method": "update"
           },
           {
            "args": [
             {
              "y": [
               [
                null,
                7.45,
                10.18,
                11.23,
                12.87,
                11.52,
                11.85,
                14.26,
                15.31,
                13.46,
                15.54,
                16.7,
                18.67,
                16.65
               ]
              ]
             }
            ],
            "label": "KEI",
            "method": "update"
           },
           {
            "args": [
             {
              "y": [
               [
                null,
                9.11,
                15.07,
                17.15,
                19.61,
                13.88,
                18.17,
                20.12,
                22.99,
                20.88,
                22.45,
                21.46,
                26.85,
                37.47
               ]
              ]
             }
            ],
            "label": "KOTAKBANK",
            "method": "update"
           },
           {
            "args": [
             {
              "y": [
               [
                null,
                0.74,
                1.13,
                1.21,
                0.91,
                2.05,
                1.95,
                3.18,
                2.93,
                3.07,
                3.2,
                4.2,
                3.57,
                5.48
               ]
              ]
             }
            ],
            "label": "KPIGREEN",
            "method": "update"
           },
           {
            "args": [
             {
              "y": [
               [
                null,
                2.2,
                2.37,
                2.55,
                2.88,
                3.12,
                3.05,
                3.67,
                4.07,
                4.89,
                5.14,
                5.67,
                6,
                7.45
               ]
              ]
             }
            ],
            "label": "KPITTECH",
            "method": "update"
           },
           {
            "args": [
             {
              "y": [
               [
                null,
                33.77,
                2.19,
                1.31,
                -2.02,
                41.81,
                0.91,
                6.81,
                -2.77,
                48.91,
                2.45,
                2.11,
                -0.05,
                56.28
               ]
              ]
             }
            ],
            "label": "KSCL",
            "method": "update"
           },
           {
            "args": [
             {
              "y": [
               [
                null,
                15.74,
                11.4,
                6.88,
                7.35,
                6.92,
                8.6,
                6.33,
                6.8,
                9.9,
                13.09,
                9.74,
                10.12,
                12.75
               ]
              ]
             }
            ],
            "label": "LALPATHLAB",
            "method": "update"
           },
           {
            "args": [
             {
              "y": [
               [
                null,
                27.39,
                1.25,
                2.52,
                1.77,
                1.57,
                1.86,
                2.58,
                1.67,
                1.6,
                1.66,
                2.26,
                2.2,
                1.91
               ]
              ]
             }
            ],
            "label": "LATENTVIEW",
            "method": "update"
           },
           {
            "args": [
             {
              "y": [
               [
                null,
                8.36,
                12.95,
                14.63,
                25.77,
                12.11,
                15.86,
                18.17,
                28.37,
                17.74,
                23.45,
                21.44,
                31.98,
                20.26
               ]
              ]
             }
            ],
            "label": "LT",
            "method": "update"
           },
           {
            "args": [
             {
              "y": [
               [
                null,
                28.39,
                31.48,
                34.93,
                36.34,
                63.06,
                40.18,
                33.82,
                37.65,
                38.92,
                39.26,
                39.49,
                37.14,
                38.28
               ]
              ]
             }
            ],
            "label": "LTIM",
            "method": "update"
           },
           {
            "args": [
             {
              "y": [
               [
                null,
                20.58,
                21.87,
                23.59,
                24.83,
                26.09,
                28.41,
                28.11,
                32.2,
                29.44,
                29.84,
                31.79,
                32.24,
                29.63
               ]
              ]
             }
            ],
            "label": "LTTS",
            "method": "update"
           },
           {
            "args": [
             {
              "y": [
               [
                null,
                3.88,
                0.55,
                3.11,
                2.65,
                2.43,
                0.32,
                1.03,
                0.92,
                1.44,
                0.4,
                0.99,
                1.61,
                1.24
               ]
              ]
             }
            ],
            "label": "LXCHEM",
            "method": "update"
           },
           {
            "args": [
             {
              "y": [
               [
                null,
                3.41,
                15.51,
                15.99,
                18,
                17.66,
                22.3,
                21.53,
                21.2,
                28.21,
                18.88,
                21.38,
                22.15,
                26.4
               ]
              ]
             }
            ],
            "label": "M&M",
            "method": "update"
           },
           {
            "args": [
             {
              "y": [
               [
                null,
                null,
                null,
                null,
                4.75,
                7.3,
                10.48,
                7.09,
                7.13,
                12.15,
                12.51,
                11.33,
                11.76,
                13.39
               ]
              ]
             }
            ],
            "label": "MANKIND",
            "method": "update"
           },
           {
            "args": [
             {
              "y": [
               [
                null,
                53.18,
                6.36,
                3.48,
                4.23,
                4.54,
                4.74,
                5.52,
                5.22,
                6,
                6.11,
                5.69,
                7.02,
                6.62
               ]
              ]
             }
            ],
            "label": "MAPMYINDIA",
            "method": "update"
           },
           {
            "args": [
             {
              "y": [
               [
                null,
                2.76,
                2.39,
                2.4,
                1.94,
                2.87,
                2.33,
                2.54,
                2.34,
                3.3,
                2.73,
                2.96,
                2.46,
                3.58
               ]
              ]
             }
            ],
            "label": "MARICO",
            "method": "update"
           },
           {
            "args": [
             {
              "y": [
               [
                null,
                15.72,
                16.12,
                34.49,
                62.1,
                34.3,
                69.93,
                79.65,
                88.97,
                84.18,
                125.33,
                102,
                125.71,
                119.58
               ]
              ]
             }
            ],
            "label": "MARUTI",
            "method": "update"
           },
           {
            "args": [
             {
              "y": [
               [
                null,
                5.04,
                6.69,
                10.67,
                7.88,
                11.14,
                10.61,
                17.56,
                16.17,
                15.59,
                16.5,
                31.08,
                32.87,
                34.51
               ]
              ]
             }
            ],
            "label": "MAZDOCK",
            "method": "update"
           },
           {
            "args": [
             {
              "y": [
               [
                1.69,
                null,
                1.89,
                3.69,
                2.49,
                3.8,
                2.72,
                4.22,
                2.44,
                3.91,
                2.92,
                3.52,
                6.05,
                3.4
               ]
              ]
             }
            ],
            "label": "METROBRAND",
            "method": "update"
           },
           {
            "args": [
             {
              "y": [
               [
                null,
                1.16,
                1.3,
                0.59,
                1.67,
                1.1,
                2.43,
                3.26,
                3.58,
                2.21,
                2.86,
                2.47,
                2.26,
                1.81
               ]
              ]
             }
            ],
            "label": "MOLDTECH",
            "method": "update"
           },
           {
            "args": [
             {
              "y": [
               [
                null,
                4.32,
                6.24,
                5.51,
                5.54,
                6.55,
                5.86,
                4.92,
                6.94,
                5.65,
                4.73,
                4.28,
                5.41,
                4.97
               ]
              ]
             }
            ],
            "label": "MOLDTKPAC",
            "method": "update"
           },
           {
            "args": [
             {
              "y": [
               [
                null,
                0.61,
                0.46,
                0.52,
                0.18,
                0.21,
                0.36,
                0.67,
                0.97,
                0.89,
                0.3,
                0.8,
                2.02,
                1.47
               ]
              ]
             }
            ],
            "label": "MOTHERSON",
            "method": "update"
           },
           {
            "args": [
             {
              "y": [
               [
                null,
                2.83,
                6.19,
                4.33,
                6.44,
                5.27,
                8.03,
                10.22,
                10.1,
                6.61,
                6.65,
                3.4,
                1.58,
                1.44
               ]
              ]
             }
            ],
            "label": "MTARTECH",
            "method": "update"
           },
           {
            "args": [
             {
              "y": [
               [
                null,
                null,
                null,
                null,
                null,
                null,
                80.9,
                60.25,
                67.43,
                1.33,
                4.35,
                2.42,
                1.1,
                1.51
               ]
              ]
             }
            ],
            "label": "MUFTI",
            "method": "update"
           },
           {
            "args": [
             {
              "y": [
               [
                null,
                24.37,
                24.97,
                25.91,
                24.84,
                20.41,
                22.22,
                23.11,
                24.25,
                25.46,
                26.39,
                27.49,
                28.37,
                28.99
               ]
              ]
             }
            ],
            "label": "MUTHOOTFIN",
            "method": "update"
           },
           {
            "args": [
             {
              "y": [
               [
                null,
                11.83,
                572.37,
                357.33,
                48.83,
                13.87,
                7.99,
                -9.02,
                -21.12,
                12.28,
                15.88,
                11.68,
                4.67,
                18
               ]
              ]
             }
            ],
            "label": "NAUKRI",
            "method": "update"
           },
           {
            "args": [
             {
              "y": [
               [
                null,
                11.29,
                12.77,
                13.88,
                15.17,
                15.02,
                11.67,
                21.5,
                27.5,
                12.41,
                12.22,
                15.74,
                14.19,
                10.32
               ]
              ]
             }
            ],
            "label": "NAVINFLUOR",
            "method": "update"
           },
           {
            "args": [
             {
              "y": [
               [
                null,
                0.87,
                1.71,
                1.58,
                0.34,
                1.75,
                1.55,
                2.49,
                0.39,
                2.95,
                3,
                3.51,
                1.11,
                2.96
               ]
              ]
             }
            ],
            "label": "NAZARA",
            "method": "update"
           },
           {
            "args": [
             {
              "y": [
               [
                null,
                3.15,
                4.79,
                4.48,
                6.27,
                4.45,
                3.96,
                5.89,
                5.74,
                3.91,
                3.18,
                0.4,
                6.42,
                4.35
               ]
              ]
             }
            ],
            "label": "NEOGEN",
            "method": "update"
           },
           {
            "args": [
             {
              "y": [
               [
                null,
                5.59,
                6.4,
                3.94,
                6.13,
                5.29,
                6.86,
                6.51,
                7.64,
                7.24,
                9.42,
                6.8,
                9.69,
                7.74
               ]
              ]
             }
            ],
            "label": "NESTLEIND",
            "method": "update"
           },
           {
            "args": [
             {
              "y": [
               [
                null,
                null,
                null,
                null,
                null,
                9.91,
                16.14,
                38.32,
                2.07,
                0.98,
                2.7,
                4.64,
                5.26,
                2.74
               ]
              ]
             }
            ],
            "label": "NETWEB",
            "method": "update"
           },
           {
            "args": [
             {
              "y": [
               [
                null,
                9.82,
                143.89,
                156.51,
                170.81,
                185.62,
                145.36,
                110.93,
                70.24,
                141.98,
                134.73,
                136.59,
                97.01,
                148.13
               ]
              ]
             }
            ],
            "label": "PAGEIND",
            "method": "update"
           },
           {
            "args": [
             {
              "y": [
               [
                null,
                0.33,
                2.07,
                1.97,
                2.64,
                1.81,
                2.17,
                2.5,
                2.76,
                1.54,
                2.42,
                1.71,
                2.56,
                3.81
               ]
              ]
             }
            ],
            "label": "PARAS",
            "method": "update"
           },
           {
            "args": [
             {
              "y": [
               [
                null,
                9.89,
                10.58,
                11.54,
                13.15,
                13.84,
                14.39,
                15.56,
                16.45,
                14.86,
                17.11,
                18.59,
                20.47,
                19.89
               ]
              ]
             }
            ],
            "label": "PERSISTENT",
            "method": "update"
           },
           {
            "args": [
             {
              "y": [
               [
                null,
                4.33,
                7.37,
                7.05,
                5,
                6.96,
                6.54,
                5.98,
                5.57,
                9.21,
                8.85,
                10.04,
                5.91,
                11.15
               ]
              ]
             }
            ],
            "label": "PIDILITIND",
            "method": "update"
           },
           {
            "args": [
             {
              "y": [
               [
                null,
                12.34,
                15.13,
                14.67,
                13.47,
                17.3,
                22.07,
                23.19,
                18.49,
                25.24,
                31.67,
                29.57,
                24.35,
                29.58
               ]
              ]
             }
            ],
            "label": "PIIND",
            "method": "update"
           },
           {
            "args": [
             {
              "y": [
               [
                null,
                4.96,
                13.26,
                21.05,
                21.56,
                14.69,
                17.91,
                23.89,
                28.38,
                26.67,
                28.37,
                27.49,
                36.34,
                26.34
               ]
              ]
             }
            ],
            "label": "POLYCAB",
            "method": "update"
           },
           {
            "args": [
             {
              "y": [
               [
                null,
                1.61,
                6.92,
                6.09,
                7.98,
                1.45,
                -2.18,
                3.2,
                8.51,
                1.77,
                6.39,
                3.4,
                4.94,
                2.23
               ]
              ]
             }
            ],
            "label": "PRINCEPIPE",
            "method": "update"
           },
           {
            "args": [
             {
              "y": [
               [
                null,
                0.65,
                2.08,
                2.07,
                1.69,
                0.78,
                1.72,
                1,
                2.34,
                1.2,
                2.12,
                1.94,
                2.42,
                1.52
               ]
              ]
             }
            ],
            "label": "RAILTEL",
            "method": "update"
           },
           {
            "args": [
             {
              "y": [
               [
                null,
                -23.5,
                8,
                15.06,
                39.54,
                12.15,
                23.85,
                14.24,
                29.18,
                159.95,
                23.99,
                27.55,
                34.42,
                1106.08
               ]
              ]
             }
            ],
            "label": "RAYMOND",
            "method": "update"
           },
           {
            "args": [
             {
              "y": [
               [
                null,
                null,
                null,
                null,
                null,
                null,
                null,
                null,
                2.5,
                3.38,
                2.01,
                4.4,
                2.96,
                2.22
               ]
              ]
             }
            ],
            "label": "REDTAPE",
            "method": "update"
           },
           {
            "args": [
             {
              "y": [
               [
                null,
                1.25,
                2.76,
                2.82,
                2.53,
                1.55,
                0.9,
                1.21,
                2.54,
                2.26,
                1.78,
                1.55,
                2.47,
                1.78
               ]
              ]
             }
            ],
            "label": "RELAXO",
            "method": "update"
           },
           {
            "args": [
             {
              "y": [
               [
                null,
                19.36,
                21.58,
                27.42,
                23.95,
                26.54,
                20.19,
                23.34,
                28.53,
                23.67,
                25.71,
                25.52,
                28.01,
                22.37
               ]
              ]
             }
            ],
            "label": "RELIANCE",
            "method": "update"
           },
           {
            "args": [
             {
              "y": [
               [
                null,
                4.46,
                4.76,
                4.14,
                4.37,
                5.21,
                4.34,
                4.66,
                5.25,
                5.3,
                5.97,
                6.23,
                6.18,
                6.32
               ]
              ]
             }
            ],
            "label": "ROSSARI",
            "method": "update"
           },
           {
            "args": [
             {
              "y": [
               [
                null,
                5.86,
                7.28,
                7.08,
                7.25,
                11.01,
                11.84,
                13.23,
                16.27,
                14.8,
                14.18,
                16.89,
                14.03,
                12.51
               ]
              ]
             }
            ],
            "label": "ROUTE",
            "method": "update"
           },
           {
            "args": [
             {
              "y": [
               [
                null,
                1.11,
                1.34,
                1.41,
                1.81,
                1.43,
                1.83,
                1.83,
                1.72,
                1.64,
                1.89,
                1.72,
                2.3,
                1.07
               ]
              ]
             }
            ],
            "label": "RVNL",
            "method": "update"
           },
           {
            "args": [
             {
              "y": [
               [
                null,
                3.24,
                3.66,
                4.09,
                6.16,
                6.65,
                5.57,
                5.39,
                6.3,
                6.27,
                6.37,
                5.78,
                6.97,
                6.25
               ]
              ]
             }
            ],
            "label": "SBICARD",
            "method": "update"
           },
           {
            "args": [
             {
              "y": [
               [
                null,
                8.27,
                9.96,
                10.71,
                10.7,
                8.21,
                16.53,
                17.34,
                20.27,
                20.77,
                18.04,
                12.4,
                23.96,
                21.65
               ]
              ]
             }
            ],
            "label": "SBIN",
            "method": "update"
           },
           {
            "args": [
             {
              "y": [
               [
                null,
                3.98,
                8.99,
                7.02,
                9.55,
                8.44,
                18.32,
                12.99,
                13.24,
                12.79,
                16.04,
                14.19,
                22.53,
                16.22
               ]
              ]
             }
            ],
            "label": "SIEMENS",
            "method": "update"
           },
           {
            "args": [
             {
              "y": [
               [
                null,
                1.41,
                1.51,
                1.48,
                1.79,
                1.3,
                1.58,
                1.83,
                2.05,
                1.91,
                2.12,
                2.26,
                2.54,
                2.42
               ]
              ]
             }
            ],
            "label": "SONACOMS",
            "method": "update"
           },
           {
            "args": [
             {
              "y": [
               [
                null,
                -0.78,
                -0.38,
                -0.22,
                -1.35,
                0.36,
                0.32,
                -1.92,
                0.82,
                -0.88,
                -0.81,
                -0.92,
                -1.03,
                -0.78
               ]
              ]
             }
            ],
            "label": "SPICELEC",
            "method": "update"
           },
           {
            "args": [
             {
              "y": [
               [
                null,
                13.35,
                12.91,
                17.05,
                20.43,
                20.51,
                16.23,
                17.24,
                18.97,
                12.12,
                10.15,
                8.55,
                14.24,
                8.51
               ]
              ]
             }
            ],
            "label": "SRF",
            "method": "update"
           },
           {
            "args": [
             {
              "y": [
               [
                null,
                6.02,
                8.53,
                8.58,
                -9.49,
                8.59,
                9.43,
                9.03,
                8.27,
                8.43,
                9.9,
                10.52,
                11.06,
                11.82
               ]
              ]
             }
            ],
            "label": "SUNPHARMA",
            "method": "update"
           },
           {
            "args": [
             {
              "y": [
               [
                null,
                1.93,
                2.8,
                2.77,
                2.27,
                2.67,
                3.43,
                3.65,
                2.78,
                3.28,
                3.51,
                2.89,
                2.19,
                2.93
               ]
              ]
             }
            ],
            "label": "TATACONSUM",
            "method": "update"
           },
           {
            "args": [
             {
              "y": [
               [
                null,
                18.21,
                20.12,
                24.24,
                25.69,
                29.66,
                27.98,
                31.26,
                32.36,
                30.32,
                32.15,
                33.15,
                31.62,
                29.56
               ]
              ]
             }
            ],
            "label": "TATAELXSI",
            "method": "update"
           },
           {
            "args": [
             {
              "y": [
               [
                null,
                10.64,
                19.86,
                7.87,
                3.98,
                17.78,
                21.17,
                6.82,
                4.01,
                29.02,
                24.6,
                10.52,
                11.95,
                25.91
               ]
              ]
             }
            ],
            "label": "TATAINVEST",
            "method": "update"
           },
           {
            "args": [
             {
              "y": [
               [
                null,
                -13.41,
                -13.38,
                -4.57,
                -3.11,
                -15.08,
                -2.84,
                8.91,
                16.28,
                9.64,
                11.33,
                21.14,
                52.37,
                16.74
               ]
              ]
             }
            ],
            "label": "TATAMOTORS",
            "method": "update"
           },
           {
            "args": [
             {
              "y": [
               [
                null,
                1.22,
                1.32,
                1.33,
                1.57,
                2.49,
                2.56,
                2.96,
                2.43,
                3.04,
                2.74,
                2.98,
                2.8,
                3.04
               ]
              ]
             }
            ],
            "label": "TATAPOWER",
            "method": "update"
           },
           {
            "args": [
             {
              "y": [
               [
                null,
                null,
                null,
                null,
                null,
                null,
                null,
                36.58,
                5.34,
                4.72,
                3.95,
                4.2,
                3.88,
                3.99
               ]
              ]
             }
            ],
            "label": "TATATECH",
            "method": "update"
           },
           {
            "args": [
             {
              "y": [
               [
                null,
                24.35,
                26.02,
                26.41,
                27.13,
                25.9,
                28.51,
                29.64,
                31.13,
                30.26,
                31,
                30.56,
                34.37,
                33.28
               ]
              ]
             }
            ],
            "label": "TCS",
            "method": "update"
           },
           {
            "args": [
             {
              "y": [
               [
                null,
                13.97,
                13.81,
                14.1,
                15.49,
                11.64,
                13.21,
                13.32,
                11.47,
                7.1,
                5.06,
                5.23,
                6.77,
                8.71
               ]
              ]
             }
            ],
            "label": "TECHM",
            "method": "update"
           },
           {
            "args": [
             {
              "y": [
               [
                null,
                6.22,
                9.65,
                14.46,
                9.27,
                10.08,
                11.08,
                12.19,
                16.14,
                11.14,
                13.62,
                27.5,
                9.8,
                11.64
               ]
              ]
             }
            ],
            "label": "TIINDIA",
            "method": "update"
           },
           {
            "args": [
             {
              "y": [
               [
                null,
                1.46,
                0.48,
                0.12,
                -2.09,
                0.1,
                4.03,
                2.72,
                4.03,
                5.17,
                5.55,
                5.56,
                5.86,
                4.98
               ]
              ]
             }
            ],
            "label": "TITAGARH",
            "method": "update"
           },
           {
            "args": [
             {
              "y": [
               [
                null,
                0.23,
                7.2,
                11.31,
                5.74,
                8.84,
                9.36,
                10.18,
                8.22,
                8.48,
                10.31,
                11.86,
                8.68,
                8.05
               ]
              ]
             }
            ],
            "label": "TITAN",
            "method": "update"
           },
           {
            "args": [
             {
              "y": [
               [
                null,
                9.75,
                9.34,
                7.36,
                -3.49,
                10.46,
                9.22,
                8.63,
                8.48,
                11.17,
                11.41,
                13.09,
                13.27,
                13.5
               ]
              ]
             }
            ],
            "label": "TORNTPHARM",
            "method": "update"
           },
           {
            "args": [
             {
              "y": [
               [
                null,
                -3.56,
                2.6,
                3.93,
                0,
                3.67,
                2.62,
                4.7,
                1.52,
                4.88,
                6.6,
                10.53,
                19.81,
                11.04
               ]
              ]
             }
            ],
            "label": "TRENT",
            "method": "update"
           },
           {
            "args": [
             {
              "y": [
               [
                null,
                -0.22,
                5.1,
                5.21,
                5.84,
                6.43,
                8.13,
                6.33,
                7.07,
                9.14,
                8.13,
                10.08,
                8.15,
                9.7
               ]
              ]
             }
            ],
            "label": "TVSMOTOR",
            "method": "update"
           },
           {
            "args": [
             {
              "y": [
               [
                null,
                1.17,
                3.04,
                3.43,
                6.18,
                6.13,
                5.07,
                -0.07,
                0.37,
                5.15,
                4.06,
                3.23,
                3.07,
                6.56
               ]
              ]
             }
            ],
            "label": "UBL",
            "method": "update"
           },
           {
            "args": [
             {
              "y": [
               [
                null,
                0.76,
                4.02,
                4.12,
                2.5,
                3.66,
                7.61,
                2.95,
                1.41,
                6.56,
                4.66,
                4.81,
                3.31,
                6.67
               ]
              ]
             }
            ],
            "label": "UNITDSPR",
            "method": "update"
           },
           {
            "args": [
             {
              "y": [
               [
                null,
                0.28,
                1.66,
                1.77,
                2.53,
                2.43,
                2.97,
                2.83,
                3.19,
                3.01,
                3.93,
                3.37,
                5.04,
                3.47
               ]
              ]
             }
            ],
            "label": "UNOMINDA",
            "method": "update"
           },
           {
            "args": [
             {
              "y": [
               [
                null,
                2.37,
                1.85,
                0.13,
                1.96,
                6.06,
                2.93,
                0.58,
                3.3,
                7.65,
                3.86,
                1.02,
                4.13,
                9.64
               ]
              ]
             }
            ],
            "label": "VBL",
            "method": "update"
           },
           {
            "args": [
             {
              "y": [
               [
                null,
                7.87,
                7.91,
                8.1,
                9.84,
                9.85,
                11.29,
                10.4,
                10.18,
                6.75,
                7.05,
                7.49,
                10.05,
                8.12
               ]
              ]
             }
            ],
            "label": "VINATIORGA",
            "method": "update"
           },
           {
            "args": [
             {
              "y": [
               [
                null,
                3.65,
                2.2,
                5.27,
                3.65,
                4.16,
                2.84,
                6.19,
                4.48,
                3.79,
                2.01,
                6.49,
                4.77,
                2.57
               ]
              ]
             }
            ],
            "label": "MANYAVAR",
            "method": "update"
           },
           {
            "args": [
             {
              "y": [
               [
                null,
                3.68,
                3.13,
                2.9,
                5.52,
                3.29,
                -0.22,
                -3.34,
                4.35,
                3.91,
                1.11,
                -0.92,
                3.52,
                10.1
               ]
              ]
             }
            ],
            "label": "VOLTAS",
            "method": "update"
           },
           {
            "args": [
             {
              "y": [
               [
                null,
                -2.14,
                -0.28,
                1.34,
                0.98,
                1.51,
                2.02,
                2.33,
                1.29,
                1.85,
                1.43,
                1.11,
                0.05,
                0.21
               ]
              ]
             }
            ],
            "label": "WESTLIFE",
            "method": "update"
           },
           {
            "args": [
             {
              "y": [
               [
                null,
                5.92,
                5.35,
                5.42,
                5.63,
                4.68,
                4.85,
                5.56,
                5.6,
                5.23,
                5.07,
                5.16,
                5.42,
                5.74
               ]
              ]
             }
            ],
            "label": "WIPRO",
            "method": "update"
           },
           {
            "args": [
             {
              "y": [
               [
                null,
                10.01,
                12.44,
                12.71,
                11.69,
                16.99,
                19.61,
                9.18,
                13.76,
                12.97,
                10.23,
                11.88,
                15.74,
                -2.16
               ]
              ]
             }
            ],
            "label": "YASHO",
            "method": "update"
           },
           {
            "args": [
             {
              "y": [
               [
                null,
                -0.14,
                0,
                -0.02,
                0.42,
                0.94,
                0.71,
                1.19,
                2.54,
                5.6,
                1.82,
                3.64,
                4.16,
                9.14
               ]
              ]
             }
            ],
            "label": "ZENTEC",
            "method": "update"
           }
          ],
          "direction": "down",
          "showactive": true
         },
         {
          "active": 1,
          "buttons": [
           {
            "args": [
             {
              "y": [
               [
                null,
                2.99,
                3.77,
                4.3,
                1.54,
                3.35,
                2.84,
                2.25,
                0.25,
                0.36,
                -1.59,
                -0.19,
                -2.59,
                2.83
               ]
              ]
             }
            ],
            "label": "526433",
            "method": "update"
           },
           {
            "args": [
             {
              "y": [
               [
                null,
                0.11,
                0.1,
                0.13,
                0.06,
                0.1,
                0.08,
                0.11,
                0.09,
                0.18,
                0.2,
                0.12,
                0.05,
                0.21
               ]
              ]
             }
            ],
            "label": "532407",
            "method": "update"
           },
           {
            "args": [
             {
              "y": [
               [
                null,
                null,
                null,
                null,
                null,
                5.28,
                6.38,
                7.06,
                7.82,
                7.96,
                8.1,
                3.77,
                4.77,
                5.21
               ]
              ]
             }
            ],
            "label": "544021",
            "method": "update"
           },
           {
            "args": [
             {
              "y": [
               [
                null,
                5.27,
                4.6,
                6.29,
                5.98,
                3.76,
                4.18,
                3.96,
                6.06,
                5.17,
                4.31,
                3.99,
                5.15,
                3.62
               ]
              ]
             }
            ],
            "label": "AARTIDRUGS",
            "method": "update"
           },
           {
            "args": [
             {
              "y": [
               [
                null,
                4.55,
                4.14,
                20.01,
                5.34,
                3.75,
                3.42,
                3.77,
                4.11,
                1.93,
                2.51,
                3.42,
                3.64,
                3.78
               ]
              ]
             }
            ],
            "label": "AARTIIND",
            "method": "update"
           },
           {
            "args": [
             {
              "y": [
               [
                null,
                null,
                null,
                null,
                null,
                null,
                null,
                5.26,
                4.73,
                5.2,
                5.72,
                5.82,
                7.2,
                6.12
               ]
              ]
             }
            ],
            "label": "AARTIPHARM",
            "method": "update"
           },
           {
            "args": [
             {
              "y": [
               [
                null,
                5.32,
                0.98,
                -2.62,
                2.79,
                4.36,
                0.38,
                4.68,
                5.52,
                6.18,
                5.58,
                7.86,
                5.5,
                2.62
               ]
              ]
             }
            ],
            "label": "AARTISURF",
            "method": "update"
           },
           {
            "args": [
             {
              "y": [
               [
                null,
                3.32,
                5.66,
                8.88,
                17.61,
                6.62,
                9.32,
                14.41,
                11.56,
                13.95,
                17.12,
                15.98,
                21.67,
                20.93
               ]
              ]
             }
            ],
            "label": "ABB",
            "method": "update"
           },
           {
            "args": [
             {
              "y": [
               [
                null,
                30.32,
                23.97,
                14.95,
                21.1,
                12.11,
                -4.65,
                6.03,
                12.55,
                24.82,
                20.65,
                28.63,
                50.31,
                19.24
               ]
              ]
             }
            ],
            "label": "ACC",
            "method": "update"
           },
           {
            "args": [
             {
              "y": [
               [
                null,
                2.47,
                1.93,
                -0.11,
                2.77,
                4.12,
                4.04,
                7.19,
                6.34,
                5.91,
                2,
                16.57,
                3.95,
                12.76
               ]
              ]
             }
            ],
            "label": "ADANIENT",
            "method": "update"
           },
           {
            "args": [
             {
              "y": [
               [
                null,
                2.68,
                3.57,
                4.66,
                5.14,
                4.09,
                4.4,
                5.18,
                4.68,
                4.97,
                5.01,
                5.48,
                6.24,
                6.18
               ]
              ]
             }
            ],
            "label": "AFFLE",
            "method": "update"
           },
           {
            "args": [
             {
              "y": [
               [
                null,
                15.38,
                10.59,
                8.98,
                9.09,
                16.03,
                10.26,
                8.94,
                9.52,
                9.74,
                5.33,
                6.54,
                7.52,
                9.56
               ]
              ]
             }
            ],
            "label": "ALKYLAMINE",
            "method": "update"
           },
           {
            "args": [
             {
              "y": [
               [
                null,
                14.73,
                16.24,
                19.88,
                24.7,
                21.85,
                25.63,
                27.35,
                32,
                26.34,
                36.3,
                31.01,
                40.47,
                32.49
               ]
              ]
             }
            ],
            "label": "ANGELONE",
            "method": "update"
           },
           {
            "args": [
             {
              "y": [
               [
                null,
                7.27,
                8.45,
                8.51,
                5.79,
                7.73,
                11.78,
                12.99,
                8.34,
                11.61,
                13.25,
                15.68,
                12.55,
                13.61
               ]
              ]
             }
            ],
            "label": "ARE&M",
            "method": "update"
           },
           {
            "args": [
             {
              "y": [
               [
                null,
                1.45,
                3.34,
                4.12,
                5.27,
                4.4,
                4.33,
                3.45,
                2.84,
                4.27,
                3.57,
                2.61,
                3.04,
                3.21
               ]
              ]
             }
            ],
            "label": "ASAHIINDIA",
            "method": "update"
           },
           {
            "args": [
             {
              "y": [
               [
                null,
                -0.93,
                -0.35,
                -0.41,
                0.48,
                0.02,
                0.56,
                1.09,
                2.56,
                1.85,
                1.79,
                1.91,
                2.91,
                1.73
               ]
              ]
             }
            ],
            "label": "ASHOKLEY",
            "method": "update"
           },
           {
            "args": [
             {
              "y": [
               [
                null,
                5.93,
                6.21,
                10.59,
                8.87,
                10.6,
                8.16,
                11.18,
                12.87,
                16.16,
                12.57,
                15.09,
                13.1,
                12.2
               ]
              ]
             }
            ],
            "label": "ASIANPAINT",
            "method": "update"
           },
           {
            "args": [
             {
              "y": [
               [
                null,
                2.76,
                5.27,
                4.75,
                5.28,
                3.32,
                2.57,
                3.46,
                7.66,
                4.46,
                4.88,
                4.23,
                6.76,
                4.48
               ]
              ]
             }
            ],
            "label": "ASTRAL",
            "method": "update"
           },
           {
            "args": [
             {
              "y": [
               [
                null,
                7.69,
                11.05,
                12.9,
                14.39,
                14.26,
                18.27,
                20.12,
                -17.43,
                19.78,
                20.13,
                21.05,
                24.62,
                20.83
               ]
              ]
             }
            ],
            "label": "AXISBANK",
            "method": "update"
           },
           {
            "args": [
             {
              "y": [
               [
                null,
                40.44,
                70.49,
                49.41,
                52.74,
                40.2,
                59.42,
                52.05,
                60.25,
                58.11,
                71.39,
                71.78,
                72.05,
                69.55
               ]
              ]
             }
            ],
            "label": "BAJAJ-AUTO",
            "method": "update"
           },
           {
            "args": [
             {
              "y": [
               [
                null,
                -1.91,
                5.48,
                4.2,
                3.42,
                3.74,
                5.24,
                5.31,
                4.52,
                3.23,
                2.37,
                3.25,
                2.54,
                2.44
               ]
              ]
             }
            ],
            "label": "BAJAJELEC",
            "method": "update"
           },
           {
            "args": [
             {
              "y": [
               [
                null,
                5.23,
                7.05,
                7.89,
                8.46,
                8.23,
                9.77,
                11.19,
                11.11,
                12.2,
                12.09,
                13.52,
                13.28,
                13.39
               ]
              ]
             }
            ],
            "label": "BAJAJFINSV",
            "method": "update"
           },
           {
            "args": [
             {
              "y": [
               [
                null,
                16.61,
                24.54,
                35.21,
                39.96,
                42.88,
                45.93,
                49.11,
                52.16,
                56.72,
                58.6,
                58.88,
                61.79,
                63.2
               ]
              ]
             }
            ],
            "label": "BAJFINANCE",
            "method": "update"
           },
           {
            "args": [
             {
              "y": [
               [
                null,
                27.89,
                24.61,
                27.64,
                33.55,
                37.95,
                28.57,
                19.31,
                14.63,
                16.27,
                10.71,
                15.24,
                21,
                13.36
               ]
              ]
             }
            ],
            "label": "BALAMINES",
            "method": "update"
           },
           {
            "args": [
             {
              "y": [
               [
                null,
                -5.41,
                2.89,
                5.63,
                4.9,
                9.29,
                4.27,
                6.47,
                5.11,
                8.32,
                2.64,
                4.51,
                4.95,
                13.54
               ]
              ]
             }
            ],
            "label": "BATAINDIA",
            "method": "update"
           },
           {
            "args": [
             {
              "y": [
               [
                null,
                0.03,
                0.85,
                0.82,
                1.58,
                0.5,
                0.85,
                0.84,
                1.89,
                0.74,
                1.08,
                1.18,
                2.46,
                1.08
               ]
              ]
             }
            ],
            "label": "BEL",
            "method": "update"
           },
           {
            "args": [
             {
              "y": [
               [
                null,
                1.21,
                1.88,
                2.17,
                1.89,
                2.17,
                1.88,
                1.72,
                1.59,
                3.04,
                2.5,
                2.57,
                1.91,
                3.03
               ]
              ]
             }
            ],
            "label": "BERGEPAINT",
            "method": "update"
           },
           {
            "args": [
             {
              "y": [
               [
                null,
                0.48,
                1.93,
                1.41,
                3.41,
                2.73,
                3.86,
                2.85,
                5.39,
                2.89,
                2.39,
                4.34,
                3.66,
                7.31
               ]
              ]
             }
            ],
            "label": "BHARTIARTL",
            "method": "update"
           },
           {
            "args": [
             {
              "y": [
               [
                null,
                -0.21,
                2.35,
                2.17,
                3.02,
                1.69,
                2.2,
                1.39,
                0.28,
                0.63,
                1.62,
                3.25,
                0.44,
                0.78
               ]
              ]
             }
            ],
            "label": "BOROLTD",
            "method": "update"
           },
           {
            "args": [
             {
              "y": [
               [
                null,
                16.17,
                15.95,
                15.41,
                15.77,
                14.01,
                20.48,
                38.71,
                23.19,
                19,
                24.39,
                23.1,
                22.35,
                20.99
               ]
              ]
             }
            ],
            "label": "BRITANNIA",
            "method": "update"
           },
           {
            "args": [
             {
              "y": [
               [
                null,
                3.95,
                4.82,
                4.53,
                5.51,
                3.25,
                2.5,
                3.81,
                6.73,
                32.68,
                8.9,
                7.99,
                7.91,
                19.58
               ]
              ]
             }
            ],
            "label": "BSE",
            "method": "update"
           },
           {
            "args": [
             {
              "y": [
               [
                null,
                12.95,
                14.86,
                15.81,
                15.1,
                13.24,
                14.72,
                15.05,
                15.23,
                15.58,
                17.2,
                18.17,
                21.06,
                22
               ]
              ]
             }
            ],
            "label": "CAMS",
            "method": "update"
           },
           {
            "args": [
             {
              "y": [
               [
                0.66,
                0.13,
                null,
                1.8,
                1.3,
                0.94,
                null,
                null,
                null,
                null,
                null,
                null,
                null,
                null
               ]
              ]
             }
            ],
            "label": "CAMPUS",
            "method": "update"
           },
           {
            "args": [
             {
              "y": [
               [
                null,
                6.11,
                8.22,
                8.01,
                7.43,
                5.53,
                7.69,
                7.14,
                6.04,
                7.04,
                10.42,
                10.28,
                12.37,
                12.84
               ]
              ]
             }
            ],
            "label": "CDSL",
            "method": "update"
           },
           {
            "args": [
             {
              "y": [
               [
                null,
                -26.9,
                -0.5,
                2.73,
                -4.94,
                -1.99,
                -5.32,
                -7.5,
                20.02,
                1.13,
                -3.54,
                5.63,
                -5.35,
                -2.98
               ]
              ]
             }
            ],
            "label": "CENTUM",
            "method": "update"
           },
           {
            "args": [
             {
              "y": [
               [
                null,
                0.4,
                1.49,
                4.03,
                0.77,
                0.85,
                1.17,
                1.49,
                2.79,
                1.33,
                1.59,
                4.89,
                1.53,
                1.58
               ]
              ]
             }
            ],
            "label": "CGPOWER",
            "method": "update"
           },
           {
            "args": [
             {
              "y": [
               [
                null,
                1.09,
                4.99,
                4.92,
                10.44,
                1.6,
                4.29,
                4.2,
                1.5,
                3.75,
                6.9,
                9.29,
                9.84,
                6.62
               ]
              ]
             }
            ],
            "label": "COCHINSHIP",
            "method": "update"
           },
           {
            "args": [
             {
              "y": [
               [
                null,
                20.4,
                24.2,
                30.17,
                34.1,
                24.58,
                32.99,
                37.37,
                18.79,
                27.06,
                29.41,
                38.54,
                36.19,
                19.97
               ]
              ]
             }
            ],
            "label": "COFORGE",
            "method": "update"
           },
           {
            "args": [
             {
              "y": [
               [
                null,
                4.25,
                4.16,
                4.67,
                4.25,
                4.88,
                4.98,
                4.83,
                4.58,
                4.03,
                6.03,
                5.43,
                5.2,
                4.24
               ]
              ]
             }
            ],
            "label": "CONCOR",
            "method": "update"
           },
           {
            "args": [
             {
              "y": [
               [
                null,
                10.44,
                11.01,
                11.95,
                13.98,
                10.52,
                7.16,
                14.12,
                14.76,
                15.2,
                16.1,
                13.28,
                17.06,
                12.97
               ]
              ]
             }
            ],
            "label": "CYIENT",
            "method": "update"
           },
           {
            "args": [
             {
              "y": [
               [
                null,
                2.47,
                2.85,
                2.85,
                1.66,
                2.49,
                2.77,
                2.69,
                1.7,
                2.62,
                2.91,
                2.9,
                1.97,
                2.82
               ]
              ]
             }
            ],
            "label": "DABUR",
            "method": "update"
           },
           {
            "args": [
             {
              "y": [
               [
                null,
                22.19,
                18.65,
                17.78,
                19.59,
                17.2,
                12.79,
                15.33,
                17.15,
                10.99,
                15.04,
                14.81,
                18.61,
                14.85
               ]
              ]
             }
            ],
            "label": "DEEPAKNTR",
            "method": "update"
           },
           {
            "args": [
             {
              "y": [
               [
                null,
                20.99,
                22.84,
                33.99,
                33.7,
                26.44,
                18.57,
                11.53,
                12.09,
                13.41,
                13.11,
                13.49,
                20.27,
                16.2
               ]
              ]
             }
            ],
            "label": "DIVISLAB",
            "method": "update"
           },
           {
            "args": [
             {
              "y": [
               [
                null,
                3.1,
                10.68,
                7.82,
                10.61,
                7.7,
                13.02,
                8.72,
                13.54,
                11.55,
                18.02,
                16.12,
                15.91,
                22.34
               ]
              ]
             }
            ],
            "label": "DIXON",
            "method": "update"
           },
           {
            "args": [
             {
              "y": [
               [
                null,
                1.47,
                6.45,
                8.53,
                6.59,
                9.93,
                10.59,
                9.1,
                7.1,
                10.12,
                9.58,
                10.61,
                8.66,
                11.89
               ]
              ]
             }
            ],
            "label": "DMART",
            "method": "update"
           },
           {
            "args": [
             {
              "y": [
               [
                null,
                22.87,
                59.84,
                42.62,
                5.83,
                71.44,
                66.93,
                74.7,
                57.65,
                84.36,
                88.87,
                82.78,
                78.52,
                83.46
               ]
              ]
             }
            ],
            "label": "DRREDDY",
            "method": "update"
           },
           {
            "args": [
             {
              "y": [
               [
                null,
                8.67,
                13.65,
                16.68,
                22.31,
                22.33,
                24.02,
                27.09,
                33.11,
                33.58,
                37.12,
                36.38,
                39.1,
                40.2
               ]
              ]
             }
            ],
            "label": "EICHERMOT",
            "method": "update"
           },
           {
            "args": [
             {
              "y": [
               [
                null,
                0.46,
                1.45,
                6.42,
                4.11,
                5.48,
                5.81,
                8.85,
                5.69,
                7.78,
                7.96,
                10.42,
                8.59,
                9.31
               ]
              ]
             }
            ],
            "label": "ETHOSLTD",
            "method": "update"
           },
           {
            "args": [
             {
              "y": [
               [
                null,
                0.39,
                2.31,
                2.1,
                46.58,
                2.39,
                2.84,
                2.34,
                2.12,
                2.62,
                3.17,
                2.36,
                2.17,
                2.59
               ]
              ]
             }
            ],
            "label": "EXIDEIND",
            "method": "update"
           },
           {
            "args": [
             {
              "y": [
               [
                null,
                11.71,
                16.27,
                16.95,
                39.74,
                52.12,
                66.09,
                34.65,
                48.74,
                32.54,
                33.71,
                30.73,
                37.36,
                36.94
               ]
              ]
             }
            ],
            "label": "FINEORG",
            "method": "update"
           },
           {
            "args": [
             {
              "y": [
               [
                null,
                0.59,
                7.88,
                7.25,
                3.65,
                10.14,
                14.45,
                4.15,
                7.86,
                11.27,
                15.82,
                6.43,
                6.91,
                5.62
               ]
              ]
             }
            ],
            "label": "GMMPFAUDLR",
            "method": "update"
           },
           {
            "args": [
             {
              "y": [
               [
                null,
                0.61,
                1.29,
                1.4,
                9.37,
                1.64,
                1.98,
                2.11,
                14.82,
                4.49,
                2.4,
                2.24,
                16.95,
                18.7
               ]
              ]
             }
            ],
            "label": "GODREJPROP",
            "method": "update"
           },
           {
            "args": [
             {
              "y": [
               [
                null,
                1.44,
                1.72,
                2.23,
                2.12,
                2.05,
                2.3,
                2.26,
                3.63,
                2.61,
                3.07,
                1.98,
                3.21,
                1.59
               ]
              ]
             }
            ],
            "label": "GREENLAM",
            "method": "update"
           },
           {
            "args": [
             {
              "y": [
               [
                4.6,
                2.43,
                5.47,
                5.14,
                6.57,
                6.33,
                5.91,
                3.06,
                5.62,
                3.04,
                3.34,
                2.82,
                2.43,
                null
               ]
              ]
             }
            ],
            "label": "GREENPANEL",
            "method": "update"
           },
           {
            "args": [
             {
              "y": [
               [
                null,
                1.8,
                5.13,
                5.5,
                4.12,
                4.38,
                5.13,
                5.58,
                4.83,
                6.69,
                7.05,
                7.7,
                9.74,
                7.61
               ]
              ]
             }
            ],
            "label": "GRSE",
            "method": "update"
           },
           {
            "args": [
             {
              "y": [
               [
                null,
                2.91,
                12.66,
                13.96,
                46.43,
                9.27,
                18.26,
                17.27,
                42.33,
                12.17,
                18.49,
                18.86,
                64.43,
                21.49
               ]
              ]
             }
            ],
            "label": "HAL",
            "method": "update"
           },
           {
            "args": [
             {
              "y": [
               [
                null,
                2.43,
                3.03,
                3.33,
                3.55,
                3.84,
                4.05,
                3.92,
                3.93,
                3.97,
                3.84,
                3.92,
                4.73,
                3.35
               ]
              ]
             }
            ],
            "label": "HAPPSTMNDS",
            "method": "update"
           },
           {
            "args": [
             {
              "y": [
               [
                null,
                3.76,
                4.83,
                4.88,
                5.63,
                3.88,
                2.98,
                4.53,
                5.71,
                4.58,
                3.97,
                4.59,
                7.13,
                6.51
               ]
              ]
             }
            ],
            "label": "HAVELLS",
            "method": "update"
           },
           {
            "args": [
             {
              "y": [
               [
                null,
                11.81,
                12.01,
                12.68,
                13.24,
                12.1,
                12.86,
                15.09,
                14.68,
                13.02,
                14.12,
                16.03,
                14.69,
                15.69
               ]
              ]
             }
            ],
            "label": "HCLTECH",
            "method": "update"
           },
           {
            "args": [
             {
              "y": [
               [
                null,
                null,
                null,
                null,
                null,
                null,
                17.06,
                17.3,
                17.63,
                22.36,
                20.45,
                22.86,
                25.33,
                28.27
               ]
              ]
             }
            ],
            "label": "HDFCAMC",
            "method": "update"
           },
           {
            "args": [
             {
              "y": [
               [
                null,
                14.33,
                16.43,
                19.11,
                18.83,
                17.25,
                19.97,
                22.77,
                22.57,
                22.12,
                22.17,
                22.73,
                23.2,
                21.65
               ]
              ]
             }
            ],
            "label": "HDFCBANK",
            "method": "update"
           },
           {
            "args": [
             {
              "y": [
               [
                null,
                1.33,
                1.36,
                1.36,
                2.4,
                1.71,
                1.53,
                1.47,
                1.68,
                1.94,
                1.76,
                1.71,
                1.91,
                2.23
               ]
              ]
             }
            ],
            "label": "HDFCLIFE",
            "method": "update"
           },
           {
            "args": [
             {
              "y": [
               [
                null,
                3.26,
                3.53,
                2.24,
                1.37,
                0.78,
                2.05,
                1.48,
                1.93,
                1.8,
                2.41,
                2.9,
                4.36,
                6.3
               ]
              ]
             }
            ],
            "label": "HERITGFOOD",
            "method": "update"
           },
           {
            "args": [
             {
              "y": [
               [
                null,
                12.82,
                37.32,
                35.22,
                30.6,
                29.55,
                34.45,
                36.33,
                40.29,
                35.53,
                50.35,
                54.7,
                46.77,
                52.31
               ]
              ]
             }
            ],
            "label": "HEROMOTOCO",
            "method": "update"
           },
           {
            "args": [
             {
              "y": [
               [
                null,
                8.92,
                9.28,
                9.78,
                9.81,
                10.13,
                11.34,
                10.53,
                11.07,
                10.87,
                11.3,
                10.68,
                10.89,
                11.11
               ]
              ]
             }
            ],
            "label": "HINDUNILVR",
            "method": "update"
           },
           {
            "args": [
             {
              "y": [
               [
                null,
                2.11,
                1.9,
                1.13,
                3.41,
                2.25,
                2.84,
                1.8,
                3.34,
                1.36,
                1.47,
                0.44,
                1.45,
                0.5
               ]
              ]
             }
            ],
            "label": "HLEGLAS",
            "method": "update"
           },
           {
            "args": [
             {
              "y": [
               [
                null,
                0.96,
                1.03,
                1.1,
                1.09,
                1.32,
                1.68,
                1.51,
                1.79,
                2.07,
                2.19,
                1.95,
                2,
                2.38
               ]
              ]
             }
            ],
            "label": "HNDFDS",
            "method": "update"
           },
           {
            "args": [
             {
              "y": [
               [
                null,
                6.88,
                8.78,
                9.41,
                11.11,
                10.62,
                11.49,
                12.6,
                14.11,
                15.2,
                15.56,
                15.76,
                16.62,
                16.62
               ]
              ]
             }
            ],
            "label": "ICICIBANK",
            "method": "update"
           },
           {
            "args": [
             {
              "y": [
               [
                null,
                4.27,
                9.11,
                6.47,
                6.37,
                7.11,
                12.02,
                7.18,
                8.9,
                7.95,
                11.75,
                8.76,
                10.54,
                11.77
               ]
              ]
             }
            ],
            "label": "ICICIGI",
            "method": "update"
           },
           {
            "args": [
             {
              "y": [
               [
                null,
                -1.29,
                3.1,
                2.17,
                1.3,
                1.09,
                1.39,
                1.54,
                1.64,
                1.43,
                1.69,
                1.58,
                1.21,
                1.56
               ]
              ]
             }
            ],
            "label": "ICICIPRULI",
            "method": "update"
           },
           {
            "args": [
             {
              "y": [
               [
                null,
                null,
                null,
                null,
                null,
                4552.98,
                438.19,
                -3.73,
                -2.54,
                4.95,
                0.21,
                3.45,
                2.41,
                0.27
               ]
              ]
             }
            ],
            "label": "IDEAFORGE",
            "method": "update"
           },
           {
            "args": [
             {
              "y": [
               [
                null,
                -1,
                0.18,
                0.47,
                0.57,
                0.78,
                0.91,
                0.99,
                1.23,
                1.1,
                1.11,
                1.04,
                1.04,
                0.91
               ]
              ]
             }
            ],
            "label": "IDFCFIRSTB",
            "method": "update"
           },
           {
            "args": [
             {
              "y": [
               [
                null,
                -82.47,
                -37.28,
                3.37,
                -43.65,
                -27.62,
                -41.08,
                36.91,
                23.84,
                80.16,
                4.9,
                77.68,
                49.09,
                70.7
               ]
              ]
             }
            ],
            "label": "INDIGO",
            "method": "update"
           },
           {
            "args": [
             {
              "y": [
               [
                null,
                null,
                null,
                null,
                null,
                4.19,
                7.8,
                5.52,
                10.23,
                6.52,
                5.32,
                7.82,
                11.27,
                5.5
               ]
              ]
             }
            ],
            "label": "INDIGOPNTS",
            "method": "update"
           },
           {
            "args": [
             {
              "y": [
               [
                null,
                12.2,
                12.89,
                13.81,
                13.52,
                12.74,
                14.31,
                15.7,
                14.77,
                14.32,
                14.97,
                14.71,
                19.2,
                15.34
               ]
              ]
             }
            ],
            "label": "INFY",
            "method": "update"
           },
           {
            "args": [
             {
              "y": [
               [
                null,
                0.95,
                1.34,
                1.44,
                2.57,
                1.54,
                1.85,
                2.02,
                2.73,
                1.99,
                2.67,
                2.6,
                2.62,
                2.38
               ]
              ]
             }
            ],
            "label": "IRCON",
            "method": "update"
           },
           {
            "args": [
             {
              "y": [
               [
                null,
                null,
                null,
                null,
                null,
                null,
                null,
                null,
                3.48,
                2.9,
                null,
                3.75,
                3.55,
                3.85
               ]
              ]
             }
            ],
            "label": "IRCTC",
            "method": "update"
           },
           {
            "args": [
             {
              "y": [
               [
                null,
                null,
                null,
                null,
                null,
                null,
                null,
                0.88,
                1.11,
                1.29,
                1.25,
                1.25,
                1.26,
                1.43
               ]
              ]
             }
            ],
            "label": "IREDA",
            "method": "update"
           },
           {
            "args": [
             {
              "y": [
               [
                null,
                2.66,
                3.01,
                3.29,
                3.4,
                3.56,
                3.73,
                4.03,
                4.16,
                4.1,
                3.93,
                4.28,
                4.1,
                4.08
               ]
              ]
             }
            ],
            "label": "ITC",
            "method": "update"
           },
           {
            "args": [
             {
              "y": [
               [
                null,
                null,
                null,
                null,
                null,
                null,
                null,
                null,
                null,
                null,
                1.05,
                0.46,
                0.49,
                0.49
               ]
              ]
             }
            ],
            "label": "JIOFIN",
            "method": "update"
           },
           {
            "args": [
             {
              "y": [
               [
                null,
                1.05,
                1.82,
                2.03,
                1.47,
                1.71,
                1.99,
                1.22,
                0.43,
                0.44,
                1.47,
                1,
                3.14,
                0.85
               ]
              ]
             }
            ],
            "label": "JUBLFOOD",
            "method": "update"
           },
           {
            "args": [
             {
              "y": [
               [
                null,
                -0.5,
                0.67,
                1.31,
                0.7,
                1.05,
                1.03,
                1.44,
                0.68,
                1.4,
                1.31,
                1.75,
                1.34,
                1.72
               ]
              ]
             }
            ],
            "label": "KALYANKJIL",
            "method": "update"
           },
           {
            "args": [
             {
              "y": [
               [
                null,
                null,
                null,
                13.96,
                4.3,
                2.18,
                null,
                3.93,
                7.1,
                4.24,
                5.56,
                7.07,
                12.71,
                7.94
               ]
              ]
             }
            ],
            "label": "KAYNES",
            "method": "update"
           },
           {
            "args": [
             {
              "y": [
               [
                null,
                7.45,
                10.18,
                11.23,
                12.87,
                11.52,
                11.85,
                14.26,
                15.31,
                13.46,
                15.54,
                16.7,
                18.67,
                16.65
               ]
              ]
             }
            ],
            "label": "KEI",
            "method": "update"
           },
           {
            "args": [
             {
              "y": [
               [
                null,
                9.11,
                15.07,
                17.15,
                19.61,
                13.88,
                18.17,
                20.12,
                22.99,
                20.88,
                22.45,
                21.46,
                26.85,
                37.47
               ]
              ]
             }
            ],
            "label": "KOTAKBANK",
            "method": "update"
           },
           {
            "args": [
             {
              "y": [
               [
                null,
                0.74,
                1.13,
                1.21,
                0.91,
                2.05,
                1.95,
                3.18,
                2.93,
                3.07,
                3.2,
                4.2,
                3.57,
                5.48
               ]
              ]
             }
            ],
            "label": "KPIGREEN",
            "method": "update"
           },
           {
            "args": [
             {
              "y": [
               [
                null,
                2.2,
                2.37,
                2.55,
                2.88,
                3.12,
                3.05,
                3.67,
                4.07,
                4.89,
                5.14,
                5.67,
                6,
                7.45
               ]
              ]
             }
            ],
            "label": "KPITTECH",
            "method": "update"
           },
           {
            "args": [
             {
              "y": [
               [
                null,
                33.77,
                2.19,
                1.31,
                -2.02,
                41.81,
                0.91,
                6.81,
                -2.77,
                48.91,
                2.45,
                2.11,
                -0.05,
                56.28
               ]
              ]
             }
            ],
            "label": "KSCL",
            "method": "update"
           },
           {
            "args": [
             {
              "y": [
               [
                null,
                15.74,
                11.4,
                6.88,
                7.35,
                6.92,
                8.6,
                6.33,
                6.8,
                9.9,
                13.09,
                9.74,
                10.12,
                12.75
               ]
              ]
             }
            ],
            "label": "LALPATHLAB",
            "method": "update"
           },
           {
            "args": [
             {
              "y": [
               [
                null,
                27.39,
                1.25,
                2.52,
                1.77,
                1.57,
                1.86,
                2.58,
                1.67,
                1.6,
                1.66,
                2.26,
                2.2,
                1.91
               ]
              ]
             }
            ],
            "label": "LATENTVIEW",
            "method": "update"
           },
           {
            "args": [
             {
              "y": [
               [
                null,
                8.36,
                12.95,
                14.63,
                25.77,
                12.11,
                15.86,
                18.17,
                28.37,
                17.74,
                23.45,
                21.44,
                31.98,
                20.26
               ]
              ]
             }
            ],
            "label": "LT",
            "method": "update"
           },
           {
            "args": [
             {
              "y": [
               [
                null,
                28.39,
                31.48,
                34.93,
                36.34,
                63.06,
                40.18,
                33.82,
                37.65,
                38.92,
                39.26,
                39.49,
                37.14,
                38.28
               ]
              ]
             }
            ],
            "label": "LTIM",
            "method": "update"
           },
           {
            "args": [
             {
              "y": [
               [
                null,
                20.58,
                21.87,
                23.59,
                24.83,
                26.09,
                28.41,
                28.11,
                32.2,
                29.44,
                29.84,
                31.79,
                32.24,
                29.63
               ]
              ]
             }
            ],
            "label": "LTTS",
            "method": "update"
           },
           {
            "args": [
             {
              "y": [
               [
                null,
                3.88,
                0.55,
                3.11,
                2.65,
                2.43,
                0.32,
                1.03,
                0.92,
                1.44,
                0.4,
                0.99,
                1.61,
                1.24
               ]
              ]
             }
            ],
            "label": "LXCHEM",
            "method": "update"
           },
           {
            "args": [
             {
              "y": [
               [
                null,
                3.41,
                15.51,
                15.99,
                18,
                17.66,
                22.3,
                21.53,
                21.2,
                28.21,
                18.88,
                21.38,
                22.15,
                26.4
               ]
              ]
             }
            ],
            "label": "M&M",
            "method": "update"
           },
           {
            "args": [
             {
              "y": [
               [
                null,
                null,
                null,
                null,
                4.75,
                7.3,
                10.48,
                7.09,
                7.13,
                12.15,
                12.51,
                11.33,
                11.76,
                13.39
               ]
              ]
             }
            ],
            "label": "MANKIND",
            "method": "update"
           },
           {
            "args": [
             {
              "y": [
               [
                null,
                53.18,
                6.36,
                3.48,
                4.23,
                4.54,
                4.74,
                5.52,
                5.22,
                6,
                6.11,
                5.69,
                7.02,
                6.62
               ]
              ]
             }
            ],
            "label": "MAPMYINDIA",
            "method": "update"
           },
           {
            "args": [
             {
              "y": [
               [
                null,
                2.76,
                2.39,
                2.4,
                1.94,
                2.87,
                2.33,
                2.54,
                2.34,
                3.3,
                2.73,
                2.96,
                2.46,
                3.58
               ]
              ]
             }
            ],
            "label": "MARICO",
            "method": "update"
           },
           {
            "args": [
             {
              "y": [
               [
                null,
                15.72,
                16.12,
                34.49,
                62.1,
                34.3,
                69.93,
                79.65,
                88.97,
                84.18,
                125.33,
                102,
                125.71,
                119.58
               ]
              ]
             }
            ],
            "label": "MARUTI",
            "method": "update"
           },
           {
            "args": [
             {
              "y": [
               [
                null,
                5.04,
                6.69,
                10.67,
                7.88,
                11.14,
                10.61,
                17.56,
                16.17,
                15.59,
                16.5,
                31.08,
                32.87,
                34.51
               ]
              ]
             }
            ],
            "label": "MAZDOCK",
            "method": "update"
           },
           {
            "args": [
             {
              "y": [
               [
                1.69,
                null,
                1.89,
                3.69,
                2.49,
                3.8,
                2.72,
                4.22,
                2.44,
                3.91,
                2.92,
                3.52,
                6.05,
                3.4
               ]
              ]
             }
            ],
            "label": "METROBRAND",
            "method": "update"
           },
           {
            "args": [
             {
              "y": [
               [
                null,
                1.16,
                1.3,
                0.59,
                1.67,
                1.1,
                2.43,
                3.26,
                3.58,
                2.21,
                2.86,
                2.47,
                2.26,
                1.81
               ]
              ]
             }
            ],
            "label": "MOLDTECH",
            "method": "update"
           },
           {
            "args": [
             {
              "y": [
               [
                null,
                4.32,
                6.24,
                5.51,
                5.54,
                6.55,
                5.86,
                4.92,
                6.94,
                5.65,
                4.73,
                4.28,
                5.41,
                4.97
               ]
              ]
             }
            ],
            "label": "MOLDTKPAC",
            "method": "update"
           },
           {
            "args": [
             {
              "y": [
               [
                null,
                0.61,
                0.46,
                0.52,
                0.18,
                0.21,
                0.36,
                0.67,
                0.97,
                0.89,
                0.3,
                0.8,
                2.02,
                1.47
               ]
              ]
             }
            ],
            "label": "MOTHERSON",
            "method": "update"
           },
           {
            "args": [
             {
              "y": [
               [
                null,
                2.83,
                6.19,
                4.33,
                6.44,
                5.27,
                8.03,
                10.22,
                10.1,
                6.61,
                6.65,
                3.4,
                1.58,
                1.44
               ]
              ]
             }
            ],
            "label": "MTARTECH",
            "method": "update"
           },
           {
            "args": [
             {
              "y": [
               [
                null,
                null,
                null,
                null,
                null,
                null,
                80.9,
                60.25,
                67.43,
                1.33,
                4.35,
                2.42,
                1.1,
                1.51
               ]
              ]
             }
            ],
            "label": "MUFTI",
            "method": "update"
           },
           {
            "args": [
             {
              "y": [
               [
                null,
                24.37,
                24.97,
                25.91,
                24.84,
                20.41,
                22.22,
                23.11,
                24.25,
                25.46,
                26.39,
                27.49,
                28.37,
                28.99
               ]
              ]
             }
            ],
            "label": "MUTHOOTFIN",
            "method": "update"
           },
           {
            "args": [
             {
              "y": [
               [
                null,
                11.83,
                572.37,
                357.33,
                48.83,
                13.87,
                7.99,
                -9.02,
                -21.12,
                12.28,
                15.88,
                11.68,
                4.67,
                18
               ]
              ]
             }
            ],
            "label": "NAUKRI",
            "method": "update"
           },
           {
            "args": [
             {
              "y": [
               [
                null,
                11.29,
                12.77,
                13.88,
                15.17,
                15.02,
                11.67,
                21.5,
                27.5,
                12.41,
                12.22,
                15.74,
                14.19,
                10.32
               ]
              ]
             }
            ],
            "label": "NAVINFLUOR",
            "method": "update"
           },
           {
            "args": [
             {
              "y": [
               [
                null,
                0.87,
                1.71,
                1.58,
                0.34,
                1.75,
                1.55,
                2.49,
                0.39,
                2.95,
                3,
                3.51,
                1.11,
                2.96
               ]
              ]
             }
            ],
            "label": "NAZARA",
            "method": "update"
           },
           {
            "args": [
             {
              "y": [
               [
                null,
                3.15,
                4.79,
                4.48,
                6.27,
                4.45,
                3.96,
                5.89,
                5.74,
                3.91,
                3.18,
                0.4,
                6.42,
                4.35
               ]
              ]
             }
            ],
            "label": "NEOGEN",
            "method": "update"
           },
           {
            "args": [
             {
              "y": [
               [
                null,
                5.59,
                6.4,
                3.94,
                6.13,
                5.29,
                6.86,
                6.51,
                7.64,
                7.24,
                9.42,
                6.8,
                9.69,
                7.74
               ]
              ]
             }
            ],
            "label": "NESTLEIND",
            "method": "update"
           },
           {
            "args": [
             {
              "y": [
               [
                null,
                null,
                null,
                null,
                null,
                9.91,
                16.14,
                38.32,
                2.07,
                0.98,
                2.7,
                4.64,
                5.26,
                2.74
               ]
              ]
             }
            ],
            "label": "NETWEB",
            "method": "update"
           },
           {
            "args": [
             {
              "y": [
               [
                null,
                9.82,
                143.89,
                156.51,
                170.81,
                185.62,
                145.36,
                110.93,
                70.24,
                141.98,
                134.73,
                136.59,
                97.01,
                148.13
               ]
              ]
             }
            ],
            "label": "PAGEIND",
            "method": "update"
           },
           {
            "args": [
             {
              "y": [
               [
                null,
                0.33,
                2.07,
                1.97,
                2.64,
                1.81,
                2.17,
                2.5,
                2.76,
                1.54,
                2.42,
                1.71,
                2.56,
                3.81
               ]
              ]
             }
            ],
            "label": "PARAS",
            "method": "update"
           },
           {
            "args": [
             {
              "y": [
               [
                null,
                9.89,
                10.58,
                11.54,
                13.15,
                13.84,
                14.39,
                15.56,
                16.45,
                14.86,
                17.11,
                18.59,
                20.47,
                19.89
               ]
              ]
             }
            ],
            "label": "PERSISTENT",
            "method": "update"
           },
           {
            "args": [
             {
              "y": [
               [
                null,
                4.33,
                7.37,
                7.05,
                5,
                6.96,
                6.54,
                5.98,
                5.57,
                9.21,
                8.85,
                10.04,
                5.91,
                11.15
               ]
              ]
             }
            ],
            "label": "PIDILITIND",
            "method": "update"
           },
           {
            "args": [
             {
              "y": [
               [
                null,
                12.34,
                15.13,
                14.67,
                13.47,
                17.3,
                22.07,
                23.19,
                18.49,
                25.24,
                31.67,
                29.57,
                24.35,
                29.58
               ]
              ]
             }
            ],
            "label": "PIIND",
            "method": "update"
           },
           {
            "args": [
             {
              "y": [
               [
                null,
                4.96,
                13.26,
                21.05,
                21.56,
                14.69,
                17.91,
                23.89,
                28.38,
                26.67,
                28.37,
                27.49,
                36.34,
                26.34
               ]
              ]
             }
            ],
            "label": "POLYCAB",
            "method": "update"
           },
           {
            "args": [
             {
              "y": [
               [
                null,
                1.61,
                6.92,
                6.09,
                7.98,
                1.45,
                -2.18,
                3.2,
                8.51,
                1.77,
                6.39,
                3.4,
                4.94,
                2.23
               ]
              ]
             }
            ],
            "label": "PRINCEPIPE",
            "method": "update"
           },
           {
            "args": [
             {
              "y": [
               [
                null,
                0.65,
                2.08,
                2.07,
                1.69,
                0.78,
                1.72,
                1,
                2.34,
                1.2,
                2.12,
                1.94,
                2.42,
                1.52
               ]
              ]
             }
            ],
            "label": "RAILTEL",
            "method": "update"
           },
           {
            "args": [
             {
              "y": [
               [
                null,
                -23.5,
                8,
                15.06,
                39.54,
                12.15,
                23.85,
                14.24,
                29.18,
                159.95,
                23.99,
                27.55,
                34.42,
                1106.08
               ]
              ]
             }
            ],
            "label": "RAYMOND",
            "method": "update"
           },
           {
            "args": [
             {
              "y": [
               [
                null,
                null,
                null,
                null,
                null,
                null,
                null,
                null,
                2.5,
                3.38,
                2.01,
                4.4,
                2.96,
                2.22
               ]
              ]
             }
            ],
            "label": "REDTAPE",
            "method": "update"
           },
           {
            "args": [
             {
              "y": [
               [
                null,
                1.25,
                2.76,
                2.82,
                2.53,
                1.55,
                0.9,
                1.21,
                2.54,
                2.26,
                1.78,
                1.55,
                2.47,
                1.78
               ]
              ]
             }
            ],
            "label": "RELAXO",
            "method": "update"
           },
           {
            "args": [
             {
              "y": [
               [
                null,
                19.36,
                21.58,
                27.42,
                23.95,
                26.54,
                20.19,
                23.34,
                28.53,
                23.67,
                25.71,
                25.52,
                28.01,
                22.37
               ]
              ]
             }
            ],
            "label": "RELIANCE",
            "method": "update"
           },
           {
            "args": [
             {
              "y": [
               [
                null,
                4.46,
                4.76,
                4.14,
                4.37,
                5.21,
                4.34,
                4.66,
                5.25,
                5.3,
                5.97,
                6.23,
                6.18,
                6.32
               ]
              ]
             }
            ],
            "label": "ROSSARI",
            "method": "update"
           },
           {
            "args": [
             {
              "y": [
               [
                null,
                5.86,
                7.28,
                7.08,
                7.25,
                11.01,
                11.84,
                13.23,
                16.27,
                14.8,
                14.18,
                16.89,
                14.03,
                12.51
               ]
              ]
             }
            ],
            "label": "ROUTE",
            "method": "update"
           },
           {
            "args": [
             {
              "y": [
               [
                null,
                1.11,
                1.34,
                1.41,
                1.81,
                1.43,
                1.83,
                1.83,
                1.72,
                1.64,
                1.89,
                1.72,
                2.3,
                1.07
               ]
              ]
             }
            ],
            "label": "RVNL",
            "method": "update"
           },
           {
            "args": [
             {
              "y": [
               [
                null,
                3.24,
                3.66,
                4.09,
                6.16,
                6.65,
                5.57,
                5.39,
                6.3,
                6.27,
                6.37,
                5.78,
                6.97,
                6.25
               ]
              ]
             }
            ],
            "label": "SBICARD",
            "method": "update"
           },
           {
            "args": [
             {
              "y": [
               [
                null,
                8.27,
                9.96,
                10.71,
                10.7,
                8.21,
                16.53,
                17.34,
                20.27,
                20.77,
                18.04,
                12.4,
                23.96,
                21.65
               ]
              ]
             }
            ],
            "label": "SBIN",
            "method": "update"
           },
           {
            "args": [
             {
              "y": [
               [
                null,
                3.98,
                8.99,
                7.02,
                9.55,
                8.44,
                18.32,
                12.99,
                13.24,
                12.79,
                16.04,
                14.19,
                22.53,
                16.22
               ]
              ]
             }
            ],
            "label": "SIEMENS",
            "method": "update"
           },
           {
            "args": [
             {
              "y": [
               [
                null,
                1.41,
                1.51,
                1.48,
                1.79,
                1.3,
                1.58,
                1.83,
                2.05,
                1.91,
                2.12,
                2.26,
                2.54,
                2.42
               ]
              ]
             }
            ],
            "label": "SONACOMS",
            "method": "update"
           },
           {
            "args": [
             {
              "y": [
               [
                null,
                -0.78,
                -0.38,
                -0.22,
                -1.35,
                0.36,
                0.32,
                -1.92,
                0.82,
                -0.88,
                -0.81,
                -0.92,
                -1.03,
                -0.78
               ]
              ]
             }
            ],
            "label": "SPICELEC",
            "method": "update"
           },
           {
            "args": [
             {
              "y": [
               [
                null,
                13.35,
                12.91,
                17.05,
                20.43,
                20.51,
                16.23,
                17.24,
                18.97,
                12.12,
                10.15,
                8.55,
                14.24,
                8.51
               ]
              ]
             }
            ],
            "label": "SRF",
            "method": "update"
           },
           {
            "args": [
             {
              "y": [
               [
                null,
                6.02,
                8.53,
                8.58,
                -9.49,
                8.59,
                9.43,
                9.03,
                8.27,
                8.43,
                9.9,
                10.52,
                11.06,
                11.82
               ]
              ]
             }
            ],
            "label": "SUNPHARMA",
            "method": "update"
           },
           {
            "args": [
             {
              "y": [
               [
                null,
                1.93,
                2.8,
                2.77,
                2.27,
                2.67,
                3.43,
                3.65,
                2.78,
                3.28,
                3.51,
                2.89,
                2.19,
                2.93
               ]
              ]
             }
            ],
            "label": "TATACONSUM",
            "method": "update"
           },
           {
            "args": [
             {
              "y": [
               [
                null,
                18.21,
                20.12,
                24.24,
                25.69,
                29.66,
                27.98,
                31.26,
                32.36,
                30.32,
                32.15,
                33.15,
                31.62,
                29.56
               ]
              ]
             }
            ],
            "label": "TATAELXSI",
            "method": "update"
           },
           {
            "args": [
             {
              "y": [
               [
                null,
                10.64,
                19.86,
                7.87,
                3.98,
                17.78,
                21.17,
                6.82,
                4.01,
                29.02,
                24.6,
                10.52,
                11.95,
                25.91
               ]
              ]
             }
            ],
            "label": "TATAINVEST",
            "method": "update"
           },
           {
            "args": [
             {
              "y": [
               [
                null,
                -13.41,
                -13.38,
                -4.57,
                -3.11,
                -15.08,
                -2.84,
                8.91,
                16.28,
                9.64,
                11.33,
                21.14,
                52.37,
                16.74
               ]
              ]
             }
            ],
            "label": "TATAMOTORS",
            "method": "update"
           },
           {
            "args": [
             {
              "y": [
               [
                null,
                1.22,
                1.32,
                1.33,
                1.57,
                2.49,
                2.56,
                2.96,
                2.43,
                3.04,
                2.74,
                2.98,
                2.8,
                3.04
               ]
              ]
             }
            ],
            "label": "TATAPOWER",
            "method": "update"
           },
           {
            "args": [
             {
              "y": [
               [
                null,
                null,
                null,
                null,
                null,
                null,
                null,
                36.58,
                5.34,
                4.72,
                3.95,
                4.2,
                3.88,
                3.99
               ]
              ]
             }
            ],
            "label": "TATATECH",
            "method": "update"
           },
           {
            "args": [
             {
              "y": [
               [
                null,
                24.35,
                26.02,
                26.41,
                27.13,
                25.9,
                28.51,
                29.64,
                31.13,
                30.26,
                31,
                30.56,
                34.37,
                33.28
               ]
              ]
             }
            ],
            "label": "TCS",
            "method": "update"
           },
           {
            "args": [
             {
              "y": [
               [
                null,
                13.97,
                13.81,
                14.1,
                15.49,
                11.64,
                13.21,
                13.32,
                11.47,
                7.1,
                5.06,
                5.23,
                6.77,
                8.71
               ]
              ]
             }
            ],
            "label": "TECHM",
            "method": "update"
           },
           {
            "args": [
             {
              "y": [
               [
                null,
                6.22,
                9.65,
                14.46,
                9.27,
                10.08,
                11.08,
                12.19,
                16.14,
                11.14,
                13.62,
                27.5,
                9.8,
                11.64
               ]
              ]
             }
            ],
            "label": "TIINDIA",
            "method": "update"
           },
           {
            "args": [
             {
              "y": [
               [
                null,
                1.46,
                0.48,
                0.12,
                -2.09,
                0.1,
                4.03,
                2.72,
                4.03,
                5.17,
                5.55,
                5.56,
                5.86,
                4.98
               ]
              ]
             }
            ],
            "label": "TITAGARH",
            "method": "update"
           },
           {
            "args": [
             {
              "y": [
               [
                null,
                0.23,
                7.2,
                11.31,
                5.74,
                8.84,
                9.36,
                10.18,
                8.22,
                8.48,
                10.31,
                11.86,
                8.68,
                8.05
               ]
              ]
             }
            ],
            "label": "TITAN",
            "method": "update"
           },
           {
            "args": [
             {
              "y": [
               [
                null,
                9.75,
                9.34,
                7.36,
                -3.49,
                10.46,
                9.22,
                8.63,
                8.48,
                11.17,
                11.41,
                13.09,
                13.27,
                13.5
               ]
              ]
             }
            ],
            "label": "TORNTPHARM",
            "method": "update"
           },
           {
            "args": [
             {
              "y": [
               [
                null,
                -3.56,
                2.6,
                3.93,
                0,
                3.67,
                2.62,
                4.7,
                1.52,
                4.88,
                6.6,
                10.53,
                19.81,
                11.04
               ]
              ]
             }
            ],
            "label": "TRENT",
            "method": "update"
           },
           {
            "args": [
             {
              "y": [
               [
                null,
                -0.22,
                5.1,
                5.21,
                5.84,
                6.43,
                8.13,
                6.33,
                7.07,
                9.14,
                8.13,
                10.08,
                8.15,
                9.7
               ]
              ]
             }
            ],
            "label": "TVSMOTOR",
            "method": "update"
           },
           {
            "args": [
             {
              "y": [
               [
                null,
                1.17,
                3.04,
                3.43,
                6.18,
                6.13,
                5.07,
                -0.07,
                0.37,
                5.15,
                4.06,
                3.23,
                3.07,
                6.56
               ]
              ]
             }
            ],
            "label": "UBL",
            "method": "update"
           },
           {
            "args": [
             {
              "y": [
               [
                null,
                0.76,
                4.02,
                4.12,
                2.5,
                3.66,
                7.61,
                2.95,
                1.41,
                6.56,
                4.66,
                4.81,
                3.31,
                6.67
               ]
              ]
             }
            ],
            "label": "UNITDSPR",
            "method": "update"
           },
           {
            "args": [
             {
              "y": [
               [
                null,
                0.28,
                1.66,
                1.77,
                2.53,
                2.43,
                2.97,
                2.83,
                3.19,
                3.01,
                3.93,
                3.37,
                5.04,
                3.47
               ]
              ]
             }
            ],
            "label": "UNOMINDA",
            "method": "update"
           },
           {
            "args": [
             {
              "y": [
               [
                null,
                2.37,
                1.85,
                0.13,
                1.96,
                6.06,
                2.93,
                0.58,
                3.3,
                7.65,
                3.86,
                1.02,
                4.13,
                9.64
               ]
              ]
             }
            ],
            "label": "VBL",
            "method": "update"
           },
           {
            "args": [
             {
              "y": [
               [
                null,
                7.87,
                7.91,
                8.1,
                9.84,
                9.85,
                11.29,
                10.4,
                10.18,
                6.75,
                7.05,
                7.49,
                10.05,
                8.12
               ]
              ]
             }
            ],
            "label": "VINATIORGA",
            "method": "update"
           },
           {
            "args": [
             {
              "y": [
               [
                null,
                3.65,
                2.2,
                5.27,
                3.65,
                4.16,
                2.84,
                6.19,
                4.48,
                3.79,
                2.01,
                6.49,
                4.77,
                2.57
               ]
              ]
             }
            ],
            "label": "MANYAVAR",
            "method": "update"
           },
           {
            "args": [
             {
              "y": [
               [
                null,
                3.68,
                3.13,
                2.9,
                5.52,
                3.29,
                -0.22,
                -3.34,
                4.35,
                3.91,
                1.11,
                -0.92,
                3.52,
                10.1
               ]
              ]
             }
            ],
            "label": "VOLTAS",
            "method": "update"
           },
           {
            "args": [
             {
              "y": [
               [
                null,
                -2.14,
                -0.28,
                1.34,
                0.98,
                1.51,
                2.02,
                2.33,
                1.29,
                1.85,
                1.43,
                1.11,
                0.05,
                0.21
               ]
              ]
             }
            ],
            "label": "WESTLIFE",
            "method": "update"
           },
           {
            "args": [
             {
              "y": [
               [
                null,
                5.92,
                5.35,
                5.42,
                5.63,
                4.68,
                4.85,
                5.56,
                5.6,
                5.23,
                5.07,
                5.16,
                5.42,
                5.74
               ]
              ]
             }
            ],
            "label": "WIPRO",
            "method": "update"
           },
           {
            "args": [
             {
              "y": [
               [
                null,
                10.01,
                12.44,
                12.71,
                11.69,
                16.99,
                19.61,
                9.18,
                13.76,
                12.97,
                10.23,
                11.88,
                15.74,
                -2.16
               ]
              ]
             }
            ],
            "label": "YASHO",
            "method": "update"
           },
           {
            "args": [
             {
              "y": [
               [
                null,
                -0.14,
                0,
                -0.02,
                0.42,
                0.94,
                0.71,
                1.19,
                2.54,
                5.6,
                1.82,
                3.64,
                4.16,
                9.14
               ]
              ]
             }
            ],
            "label": "ZENTEC",
            "method": "update"
           }
          ],
          "direction": "down",
          "showactive": true
         }
        ],
        "xaxis": {
         "anchor": "y",
         "autorange": true,
         "domain": [
          0,
          0.45
         ],
         "range": [
          -0.5,
          13.5
         ],
         "tickangle": 45,
         "type": "category"
        },
        "xaxis2": {
         "anchor": "y2",
         "autorange": true,
         "domain": [
          0.55,
          1
         ],
         "range": [
          -0.5,
          13.5
         ],
         "type": "category"
        },
        "yaxis": {
         "anchor": "x",
         "autorange": true,
         "domain": [
          0,
          1
         ],
         "range": [
          0,
          0.22105263157894736
         ],
         "type": "linear"
        },
        "yaxis2": {
         "anchor": "x2",
         "autorange": true,
         "domain": [
          0,
          1
         ],
         "range": [
          0,
          0.22105263157894736
         ],
         "type": "linear"
        }
       }
      },
      "image/png": "[encoded data removed]",
      "text/html": [
       "<div>                            <div id=\"7c2ca4dd-6a4b-4208-8848-21035b806870\" class=\"plotly-graph-div\" style=\"height:525px; width:100%;\"></div>            <script type=\"text/javascript\">                require([\"plotly\"], function(Plotly) {                    window.PLOTLYENV=window.PLOTLYENV || {};                                    if (document.getElementById(\"7c2ca4dd-6a4b-4208-8848-21035b806870\")) {                    Plotly.newPlot(                        \"7c2ca4dd-6a4b-4208-8848-21035b806870\",                        [{\"x\":[\"Mar 2021\",\"Jun 2021\",\"Sep 2021\",\"Dec 2021\",\"Mar 2022\",\"Jun 2022\",\"Sep 2022\",\"Dec 2022\",\"Mar 2023\",\"Jun 2023\",\"Sep 2023\",\"Dec 2023\",\"Mar 2024\",\"Jun 2024\"],\"y\":[null,2.99,3.77,4.3,1.54,3.35,2.84,2.25,0.25,0.36,-1.59,-0.19,-2.59,2.83],\"type\":\"bar\",\"xaxis\":\"x\",\"yaxis\":\"y\"},{\"x\":[\"Mar 2021\",\"Jun 2021\",\"Sep 2021\",\"Dec 2021\",\"Mar 2022\",\"Jun 2022\",\"Sep 2022\",\"Dec 2022\",\"Mar 2023\",\"Jun 2023\",\"Sep 2023\",\"Dec 2023\",\"Mar 2024\",\"Jun 2024\"],\"y\":[null,2.99,3.77,4.3,1.54,3.35,2.84,2.25,0.25,0.36,-1.59,-0.19,-2.59,2.83],\"type\":\"bar\",\"xaxis\":\"x2\",\"yaxis\":\"y2\"}],                        {\"template\":{\"data\":{\"histogram2dcontour\":[{\"type\":\"histogram2dcontour\",\"colorbar\":{\"outlinewidth\":0,\"ticks\":\"\"},\"colorscale\":[[0.0,\"#0d0887\"],[0.1111111111111111,\"#46039f\"],[0.2222222222222222,\"#7201a8\"],[0.3333333333333333,\"#9c179e\"],[0.4444444444444444,\"#bd3786\"],[0.5555555555555556,\"#d8576b\"],[0.6666666666666666,\"#ed7953\"],[0.7777777777777778,\"#fb9f3a\"],[0.8888888888888888,\"#fdca26\"],[1.0,\"#f0f921\"]]}],\"choropleth\":[{\"type\":\"choropleth\",\"colorbar\":{\"outlinewidth\":0,\"ticks\":\"\"}}],\"histogram2d\":[{\"type\":\"histogram2d\",\"colorbar\":{\"outlinewidth\":0,\"ticks\":\"\"},\"colorscale\":[[0.0,\"#0d0887\"],[0.1111111111111111,\"#46039f\"],[0.2222222222222222,\"#7201a8\"],[0.3333333333333333,\"#9c179e\"],[0.4444444444444444,\"#bd3786\"],[0.5555555555555556,\"#d8576b\"],[0.6666666666666666,\"#ed7953\"],[0.7777777777777778,\"#fb9f3a\"],[0.8888888888888888,\"#fdca26\"],[1.0,\"#f0f921\"]]}],\"heatmap\":[{\"type\":\"heatmap\",\"colorbar\":{\"outlinewidth\":0,\"ticks\":\"\"},\"colorscale\":[[0.0,\"#0d0887\"],[0.1111111111111111,\"#46039f\"],[0.2222222222222222,\"#7201a8\"],[0.3333333333333333,\"#9c179e\"],[0.4444444444444444,\"#bd3786\"],[0.5555555555555556,\"#d8576b\"],[0.6666666666666666,\"#ed7953\"],[0.7777777777777778,\"#fb9f3a\"],[0.8888888888888888,\"#fdca26\"],[1.0,\"#f0f921\"]]}],\"heatmapgl\":[{\"type\":\"heatmapgl\",\"colorbar\":{\"outlinewidth\":0,\"ticks\":\"\"},\"colorscale\":[[0.0,\"#0d0887\"],[0.1111111111111111,\"#46039f\"],[0.2222222222222222,\"#7201a8\"],[0.3333333333333333,\"#9c179e\"],[0.4444444444444444,\"#bd3786\"],[0.5555555555555556,\"#d8576b\"],[0.6666666666666666,\"#ed7953\"],[0.7777777777777778,\"#fb9f3a\"],[0.8888888888888888,\"#fdca26\"],[1.0,\"#f0f921\"]]}],\"contourcarpet\":[{\"type\":\"contourcarpet\",\"colorbar\":{\"outlinewidth\":0,\"ticks\":\"\"}}],\"contour\":[{\"type\":\"contour\",\"colorbar\":{\"outlinewidth\":0,\"ticks\":\"\"},\"colorscale\":[[0.0,\"#0d0887\"],[0.1111111111111111,\"#46039f\"],[0.2222222222222222,\"#7201a8\"],[0.3333333333333333,\"#9c179e\"],[0.4444444444444444,\"#bd3786\"],[0.5555555555555556,\"#d8576b\"],[0.6666666666666666,\"#ed7953\"],[0.7777777777777778,\"#fb9f3a\"],[0.8888888888888888,\"#fdca26\"],[1.0,\"#f0f921\"]]}],\"surface\":[{\"type\":\"surface\",\"colorbar\":{\"outlinewidth\":0,\"ticks\":\"\"},\"colorscale\":[[0.0,\"#0d0887\"],[0.1111111111111111,\"#46039f\"],[0.2222222222222222,\"#7201a8\"],[0.3333333333333333,\"#9c179e\"],[0.4444444444444444,\"#bd3786\"],[0.5555555555555556,\"#d8576b\"],[0.6666666666666666,\"#ed7953\"],[0.7777777777777778,\"#fb9f3a\"],[0.8888888888888888,\"#fdca26\"],[1.0,\"#f0f921\"]]}],\"mesh3d\":[{\"type\":\"mesh3d\",\"colorbar\":{\"outlinewidth\":0,\"ticks\":\"\"}}],\"scatter\":[{\"fillpattern\":{\"fillmode\":\"overlay\",\"size\":10,\"solidity\":0.2},\"type\":\"scatter\"}],\"parcoords\":[{\"type\":\"parcoords\",\"line\":{\"colorbar\":{\"outlinewidth\":0,\"ticks\":\"\"}}}],\"scatterpolargl\":[{\"type\":\"scatterpolargl\",\"marker\":{\"colorbar\":{\"outlinewidth\":0,\"ticks\":\"\"}}}],\"bar\":[{\"error_x\":{\"color\":\"#2a3f5f\"},\"error_y\":{\"color\":\"#2a3f5f\"},\"marker\":{\"line\":{\"color\":\"#E5ECF6\",\"width\":0.5},\"pattern\":{\"fillmode\":\"overlay\",\"size\":10,\"solidity\":0.2}},\"type\":\"bar\"}],\"scattergeo\":[{\"type\":\"scattergeo\",\"marker\":{\"colorbar\":{\"outlinewidth\":0,\"ticks\":\"\"}}}],\"scatterpolar\":[{\"type\":\"scatterpolar\",\"marker\":{\"colorbar\":{\"outlinewidth\":0,\"ticks\":\"\"}}}],\"histogram\":[{\"marker\":{\"pattern\":{\"fillmode\":\"overlay\",\"size\":10,\"solidity\":0.2}},\"type\":\"histogram\"}],\"scattergl\":[{\"type\":\"scattergl\",\"marker\":{\"colorbar\":{\"outlinewidth\":0,\"ticks\":\"\"}}}],\"scatter3d\":[{\"type\":\"scatter3d\",\"line\":{\"colorbar\":{\"outlinewidth\":0,\"ticks\":\"\"}},\"marker\":{\"colorbar\":{\"outlinewidth\":0,\"ticks\":\"\"}}}],\"scattermapbox\":[{\"type\":\"scattermapbox\",\"marker\":{\"colorbar\":{\"outlinewidth\":0,\"ticks\":\"\"}}}],\"scatterternary\":[{\"type\":\"scatterternary\",\"marker\":{\"colorbar\":{\"outlinewidth\":0,\"ticks\":\"\"}}}],\"scattercarpet\":[{\"type\":\"scattercarpet\",\"marker\":{\"colorbar\":{\"outlinewidth\":0,\"ticks\":\"\"}}}],\"carpet\":[{\"aaxis\":{\"endlinecolor\":\"#2a3f5f\",\"gridcolor\":\"white\",\"linecolor\":\"white\",\"minorgridcolor\":\"white\",\"startlinecolor\":\"#2a3f5f\"},\"baxis\":{\"endlinecolor\":\"#2a3f5f\",\"gridcolor\":\"white\",\"linecolor\":\"white\",\"minorgridcolor\":\"white\",\"startlinecolor\":\"#2a3f5f\"},\"type\":\"carpet\"}],\"table\":[{\"cells\":{\"fill\":{\"color\":\"#EBF0F8\"},\"line\":{\"color\":\"white\"}},\"header\":{\"fill\":{\"color\":\"#C8D4E3\"},\"line\":{\"color\":\"white\"}},\"type\":\"table\"}],\"barpolar\":[{\"marker\":{\"line\":{\"color\":\"#E5ECF6\",\"width\":0.5},\"pattern\":{\"fillmode\":\"overlay\",\"size\":10,\"solidity\":0.2}},\"type\":\"barpolar\"}],\"pie\":[{\"automargin\":true,\"type\":\"pie\"}]},\"layout\":{\"autotypenumbers\":\"strict\",\"colorway\":[\"#636efa\",\"#EF553B\",\"#00cc96\",\"#ab63fa\",\"#FFA15A\",\"#19d3f3\",\"#FF6692\",\"#B6E880\",\"#FF97FF\",\"#FECB52\"],\"font\":{\"color\":\"#2a3f5f\"},\"hovermode\":\"closest\",\"hoverlabel\":{\"align\":\"left\"},\"paper_bgcolor\":\"white\",\"plot_bgcolor\":\"#E5ECF6\",\"polar\":{\"bgcolor\":\"#E5ECF6\",\"angularaxis\":{\"gridcolor\":\"white\",\"linecolor\":\"white\",\"ticks\":\"\"},\"radialaxis\":{\"gridcolor\":\"white\",\"linecolor\":\"white\",\"ticks\":\"\"}},\"ternary\":{\"bgcolor\":\"#E5ECF6\",\"aaxis\":{\"gridcolor\":\"white\",\"linecolor\":\"white\",\"ticks\":\"\"},\"baxis\":{\"gridcolor\":\"white\",\"linecolor\":\"white\",\"ticks\":\"\"},\"caxis\":{\"gridcolor\":\"white\",\"linecolor\":\"white\",\"ticks\":\"\"}},\"coloraxis\":{\"colorbar\":{\"outlinewidth\":0,\"ticks\":\"\"}},\"colorscale\":{\"sequential\":[[0.0,\"#0d0887\"],[0.1111111111111111,\"#46039f\"],[0.2222222222222222,\"#7201a8\"],[0.3333333333333333,\"#9c179e\"],[0.4444444444444444,\"#bd3786\"],[0.5555555555555556,\"#d8576b\"],[0.6666666666666666,\"#ed7953\"],[0.7777777777777778,\"#fb9f3a\"],[0.8888888888888888,\"#fdca26\"],[1.0,\"#f0f921\"]],\"sequentialminus\":[[0.0,\"#0d0887\"],[0.1111111111111111,\"#46039f\"],[0.2222222222222222,\"#7201a8\"],[0.3333333333333333,\"#9c179e\"],[0.4444444444444444,\"#bd3786\"],[0.5555555555555556,\"#d8576b\"],[0.6666666666666666,\"#ed7953\"],[0.7777777777777778,\"#fb9f3a\"],[0.8888888888888888,\"#fdca26\"],[1.0,\"#f0f921\"]],\"diverging\":[[0,\"#8e0152\"],[0.1,\"#c51b7d\"],[0.2,\"#de77ae\"],[0.3,\"#f1b6da\"],[0.4,\"#fde0ef\"],[0.5,\"#f7f7f7\"],[0.6,\"#e6f5d0\"],[0.7,\"#b8e186\"],[0.8,\"#7fbc41\"],[0.9,\"#4d9221\"],[1,\"#276419\"]]},\"xaxis\":{\"gridcolor\":\"white\",\"linecolor\":\"white\",\"ticks\":\"\",\"title\":{\"standoff\":15},\"zerolinecolor\":\"white\",\"automargin\":true,\"zerolinewidth\":2},\"yaxis\":{\"gridcolor\":\"white\",\"linecolor\":\"white\",\"ticks\":\"\",\"title\":{\"standoff\":15},\"zerolinecolor\":\"white\",\"automargin\":true,\"zerolinewidth\":2},\"scene\":{\"xaxis\":{\"backgroundcolor\":\"#E5ECF6\",\"gridcolor\":\"white\",\"linecolor\":\"white\",\"showbackground\":true,\"ticks\":\"\",\"zerolinecolor\":\"white\",\"gridwidth\":2},\"yaxis\":{\"backgroundcolor\":\"#E5ECF6\",\"gridcolor\":\"white\",\"linecolor\":\"white\",\"showbackground\":true,\"ticks\":\"\",\"zerolinecolor\":\"white\",\"gridwidth\":2},\"zaxis\":{\"backgroundcolor\":\"#E5ECF6\",\"gridcolor\":\"white\",\"linecolor\":\"white\",\"showbackground\":true,\"ticks\":\"\",\"zerolinecolor\":\"white\",\"gridwidth\":2}},\"shapedefaults\":{\"line\":{\"color\":\"#2a3f5f\"}},\"annotationdefaults\":{\"arrowcolor\":\"#2a3f5f\",\"arrowhead\":0,\"arrowwidth\":1},\"geo\":{\"bgcolor\":\"white\",\"landcolor\":\"#E5ECF6\",\"subunitcolor\":\"white\",\"showland\":true,\"showlakes\":true,\"lakecolor\":\"white\"},\"title\":{\"x\":0.05},\"mapbox\":{\"style\":\"light\"}}},\"xaxis\":{\"anchor\":\"y\",\"domain\":[0.0,0.45],\"tickangle\":45},\"yaxis\":{\"anchor\":\"x\",\"domain\":[0.0,1.0]},\"xaxis2\":{\"anchor\":\"y2\",\"domain\":[0.55,1.0]},\"yaxis2\":{\"anchor\":\"x2\",\"domain\":[0.0,1.0]},\"updatemenus\":[{\"buttons\":[{\"args\":[{\"y\":[[null,2.99,3.77,4.3,1.54,3.35,2.84,2.25,0.25,0.36,-1.59,-0.19,-2.59,2.83]]}],\"label\":\"526433\",\"method\":\"update\"},{\"args\":[{\"y\":[[null,0.11,0.1,0.13,0.06,0.1,0.08,0.11,0.09,0.18,0.2,0.12,0.05,0.21]]}],\"label\":\"532407\",\"method\":\"update\"},{\"args\":[{\"y\":[[null,null,null,null,null,5.28,6.38,7.06,7.82,7.96,8.1,3.77,4.77,5.21]]}],\"label\":\"544021\",\"method\":\"update\"},{\"args\":[{\"y\":[[null,5.27,4.6,6.29,5.98,3.76,4.18,3.96,6.06,5.17,4.31,3.99,5.15,3.62]]}],\"label\":\"AARTIDRUGS\",\"method\":\"update\"},{\"args\":[{\"y\":[[null,4.55,4.14,20.01,5.34,3.75,3.42,3.77,4.11,1.93,2.51,3.42,3.64,3.78]]}],\"label\":\"AARTIIND\",\"method\":\"update\"},{\"args\":[{\"y\":[[null,null,null,null,null,null,null,5.26,4.73,5.2,5.72,5.82,7.2,6.12]]}],\"label\":\"AARTIPHARM\",\"method\":\"update\"},{\"args\":[{\"y\":[[null,5.32,0.98,-2.62,2.79,4.36,0.38,4.68,5.52,6.18,5.58,7.86,5.5,2.62]]}],\"label\":\"AARTISURF\",\"method\":\"update\"},{\"args\":[{\"y\":[[null,3.32,5.66,8.88,17.61,6.62,9.32,14.41,11.56,13.95,17.12,15.98,21.67,20.93]]}],\"label\":\"ABB\",\"method\":\"update\"},{\"args\":[{\"y\":[[null,30.32,23.97,14.95,21.1,12.11,-4.65,6.03,12.55,24.82,20.65,28.63,50.31,19.24]]}],\"label\":\"ACC\",\"method\":\"update\"},{\"args\":[{\"y\":[[null,2.47,1.93,-0.11,2.77,4.12,4.04,7.19,6.34,5.91,2.0,16.57,3.95,12.76]]}],\"label\":\"ADANIENT\",\"method\":\"update\"},{\"args\":[{\"y\":[[null,2.68,3.57,4.66,5.14,4.09,4.4,5.18,4.68,4.97,5.01,5.48,6.24,6.18]]}],\"label\":\"AFFLE\",\"method\":\"update\"},{\"args\":[{\"y\":[[null,15.38,10.59,8.98,9.09,16.03,10.26,8.94,9.52,9.74,5.33,6.54,7.52,9.56]]}],\"label\":\"ALKYLAMINE\",\"method\":\"update\"},{\"args\":[{\"y\":[[null,14.73,16.24,19.88,24.7,21.85,25.63,27.35,32.0,26.34,36.3,31.01,40.47,32.49]]}],\"label\":\"ANGELONE\",\"method\":\"update\"},{\"args\":[{\"y\":[[null,7.27,8.45,8.51,5.79,7.73,11.78,12.99,8.34,11.61,13.25,15.68,12.55,13.61]]}],\"label\":\"ARE&M\",\"method\":\"update\"},{\"args\":[{\"y\":[[null,1.45,3.34,4.12,5.27,4.4,4.33,3.45,2.84,4.27,3.57,2.61,3.04,3.21]]}],\"label\":\"ASAHIINDIA\",\"method\":\"update\"},{\"args\":[{\"y\":[[null,-0.93,-0.35,-0.41,0.48,0.02,0.56,1.09,2.56,1.85,1.79,1.91,2.91,1.73]]}],\"label\":\"ASHOKLEY\",\"method\":\"update\"},{\"args\":[{\"y\":[[null,5.93,6.21,10.59,8.87,10.6,8.16,11.18,12.87,16.16,12.57,15.09,13.1,12.2]]}],\"label\":\"ASIANPAINT\",\"method\":\"update\"},{\"args\":[{\"y\":[[null,2.76,5.27,4.75,5.28,3.32,2.57,3.46,7.66,4.46,4.88,4.23,6.76,4.48]]}],\"label\":\"ASTRAL\",\"method\":\"update\"},{\"args\":[{\"y\":[[null,7.69,11.05,12.9,14.39,14.26,18.27,20.12,-17.43,19.78,20.13,21.05,24.62,20.83]]}],\"label\":\"AXISBANK\",\"method\":\"update\"},{\"args\":[{\"y\":[[null,40.44,70.49,49.41,52.74,40.2,59.42,52.05,60.25,58.11,71.39,71.78,72.05,69.55]]}],\"label\":\"BAJAJ-AUTO\",\"method\":\"update\"},{\"args\":[{\"y\":[[null,-1.91,5.48,4.2,3.42,3.74,5.24,5.31,4.52,3.23,2.37,3.25,2.54,2.44]]}],\"label\":\"BAJAJELEC\",\"method\":\"update\"},{\"args\":[{\"y\":[[null,5.23,7.05,7.89,8.46,8.23,9.77,11.19,11.11,12.2,12.09,13.52,13.28,13.39]]}],\"label\":\"BAJAJFINSV\",\"method\":\"update\"},{\"args\":[{\"y\":[[null,16.61,24.54,35.21,39.96,42.88,45.93,49.11,52.16,56.72,58.6,58.88,61.79,63.2]]}],\"label\":\"BAJFINANCE\",\"method\":\"update\"},{\"args\":[{\"y\":[[null,27.89,24.61,27.64,33.55,37.95,28.57,19.31,14.63,16.27,10.71,15.24,21.0,13.36]]}],\"label\":\"BALAMINES\",\"method\":\"update\"},{\"args\":[{\"y\":[[null,-5.41,2.89,5.63,4.9,9.29,4.27,6.47,5.11,8.32,2.64,4.51,4.95,13.54]]}],\"label\":\"BATAINDIA\",\"method\":\"update\"},{\"args\":[{\"y\":[[null,0.03,0.85,0.82,1.58,0.5,0.85,0.84,1.89,0.74,1.08,1.18,2.46,1.08]]}],\"label\":\"BEL\",\"method\":\"update\"},{\"args\":[{\"y\":[[null,1.21,1.88,2.17,1.89,2.17,1.88,1.72,1.59,3.04,2.5,2.57,1.91,3.03]]}],\"label\":\"BERGEPAINT\",\"method\":\"update\"},{\"args\":[{\"y\":[[null,0.48,1.93,1.41,3.41,2.73,3.86,2.85,5.39,2.89,2.39,4.34,3.66,7.31]]}],\"label\":\"BHARTIARTL\",\"method\":\"update\"},{\"args\":[{\"y\":[[null,-0.21,2.35,2.17,3.02,1.69,2.2,1.39,0.28,0.63,1.62,3.25,0.44,0.78]]}],\"label\":\"BOROLTD\",\"method\":\"update\"},{\"args\":[{\"y\":[[null,16.17,15.95,15.41,15.77,14.01,20.48,38.71,23.19,19.0,24.39,23.1,22.35,20.99]]}],\"label\":\"BRITANNIA\",\"method\":\"update\"},{\"args\":[{\"y\":[[null,3.95,4.82,4.53,5.51,3.25,2.5,3.81,6.73,32.68,8.9,7.99,7.91,19.58]]}],\"label\":\"BSE\",\"method\":\"update\"},{\"args\":[{\"y\":[[null,12.95,14.86,15.81,15.1,13.24,14.72,15.05,15.23,15.58,17.2,18.17,21.06,22.0]]}],\"label\":\"CAMS\",\"method\":\"update\"},{\"args\":[{\"y\":[[0.66,0.13,null,1.8,1.3,0.94,null,null,null,null,null,null,null,null]]}],\"label\":\"CAMPUS\",\"method\":\"update\"},{\"args\":[{\"y\":[[null,6.11,8.22,8.01,7.43,5.53,7.69,7.14,6.04,7.04,10.42,10.28,12.37,12.84]]}],\"label\":\"CDSL\",\"method\":\"update\"},{\"args\":[{\"y\":[[null,-26.9,-0.5,2.73,-4.94,-1.99,-5.32,-7.5,20.02,1.13,-3.54,5.63,-5.35,-2.98]]}],\"label\":\"CENTUM\",\"method\":\"update\"},{\"args\":[{\"y\":[[null,0.4,1.49,4.03,0.77,0.85,1.17,1.49,2.79,1.33,1.59,4.89,1.53,1.58]]}],\"label\":\"CGPOWER\",\"method\":\"update\"},{\"args\":[{\"y\":[[null,1.09,4.99,4.92,10.44,1.6,4.29,4.2,1.5,3.75,6.9,9.29,9.84,6.62]]}],\"label\":\"COCHINSHIP\",\"method\":\"update\"},{\"args\":[{\"y\":[[null,20.4,24.2,30.17,34.1,24.58,32.99,37.37,18.79,27.06,29.41,38.54,36.19,19.97]]}],\"label\":\"COFORGE\",\"method\":\"update\"},{\"args\":[{\"y\":[[null,4.25,4.16,4.67,4.25,4.88,4.98,4.83,4.58,4.03,6.03,5.43,5.2,4.24]]}],\"label\":\"CONCOR\",\"method\":\"update\"},{\"args\":[{\"y\":[[null,10.44,11.01,11.95,13.98,10.52,7.16,14.12,14.76,15.2,16.1,13.28,17.06,12.97]]}],\"label\":\"CYIENT\",\"method\":\"update\"},{\"args\":[{\"y\":[[null,2.47,2.85,2.85,1.66,2.49,2.77,2.69,1.7,2.62,2.91,2.9,1.97,2.82]]}],\"label\":\"DABUR\",\"method\":\"update\"},{\"args\":[{\"y\":[[null,22.19,18.65,17.78,19.59,17.2,12.79,15.33,17.15,10.99,15.04,14.81,18.61,14.85]]}],\"label\":\"DEEPAKNTR\",\"method\":\"update\"},{\"args\":[{\"y\":[[null,20.99,22.84,33.99,33.7,26.44,18.57,11.53,12.09,13.41,13.11,13.49,20.27,16.2]]}],\"label\":\"DIVISLAB\",\"method\":\"update\"},{\"args\":[{\"y\":[[null,3.1,10.68,7.82,10.61,7.7,13.02,8.72,13.54,11.55,18.02,16.12,15.91,22.34]]}],\"label\":\"DIXON\",\"method\":\"update\"},{\"args\":[{\"y\":[[null,1.47,6.45,8.53,6.59,9.93,10.59,9.1,7.1,10.12,9.58,10.61,8.66,11.89]]}],\"label\":\"DMART\",\"method\":\"update\"},{\"args\":[{\"y\":[[null,22.87,59.84,42.62,5.83,71.44,66.93,74.7,57.65,84.36,88.87,82.78,78.52,83.46]]}],\"label\":\"DRREDDY\",\"method\":\"update\"},{\"args\":[{\"y\":[[null,8.67,13.65,16.68,22.31,22.33,24.02,27.09,33.11,33.58,37.12,36.38,39.1,40.2]]}],\"label\":\"EICHERMOT\",\"method\":\"update\"},{\"args\":[{\"y\":[[null,0.46,1.45,6.42,4.11,5.48,5.81,8.85,5.69,7.78,7.96,10.42,8.59,9.31]]}],\"label\":\"ETHOSLTD\",\"method\":\"update\"},{\"args\":[{\"y\":[[null,0.39,2.31,2.1,46.58,2.39,2.84,2.34,2.12,2.62,3.17,2.36,2.17,2.59]]}],\"label\":\"EXIDEIND\",\"method\":\"update\"},{\"args\":[{\"y\":[[null,11.71,16.27,16.95,39.74,52.12,66.09,34.65,48.74,32.54,33.71,30.73,37.36,36.94]]}],\"label\":\"FINEORG\",\"method\":\"update\"},{\"args\":[{\"y\":[[null,0.59,7.88,7.25,3.65,10.14,14.45,4.15,7.86,11.27,15.82,6.43,6.91,5.62]]}],\"label\":\"GMMPFAUDLR\",\"method\":\"update\"},{\"args\":[{\"y\":[[null,0.61,1.29,1.4,9.37,1.64,1.98,2.11,14.82,4.49,2.4,2.24,16.95,18.7]]}],\"label\":\"GODREJPROP\",\"method\":\"update\"},{\"args\":[{\"y\":[[null,1.44,1.72,2.23,2.12,2.05,2.3,2.26,3.63,2.61,3.07,1.98,3.21,1.59]]}],\"label\":\"GREENLAM\",\"method\":\"update\"},{\"args\":[{\"y\":[[4.6,2.43,5.47,5.14,6.57,6.33,5.91,3.06,5.62,3.04,3.34,2.82,2.43,null]]}],\"label\":\"GREENPANEL\",\"method\":\"update\"},{\"args\":[{\"y\":[[null,1.8,5.13,5.5,4.12,4.38,5.13,5.58,4.83,6.69,7.05,7.7,9.74,7.61]]}],\"label\":\"GRSE\",\"method\":\"update\"},{\"args\":[{\"y\":[[null,2.91,12.66,13.96,46.43,9.27,18.26,17.27,42.33,12.17,18.49,18.86,64.43,21.49]]}],\"label\":\"HAL\",\"method\":\"update\"},{\"args\":[{\"y\":[[null,2.43,3.03,3.33,3.55,3.84,4.05,3.92,3.93,3.97,3.84,3.92,4.73,3.35]]}],\"label\":\"HAPPSTMNDS\",\"method\":\"update\"},{\"args\":[{\"y\":[[null,3.76,4.83,4.88,5.63,3.88,2.98,4.53,5.71,4.58,3.97,4.59,7.13,6.51]]}],\"label\":\"HAVELLS\",\"method\":\"update\"},{\"args\":[{\"y\":[[null,11.81,12.01,12.68,13.24,12.1,12.86,15.09,14.68,13.02,14.12,16.03,14.69,15.69]]}],\"label\":\"HCLTECH\",\"method\":\"update\"},{\"args\":[{\"y\":[[null,null,null,null,null,null,17.06,17.3,17.63,22.36,20.45,22.86,25.33,28.27]]}],\"label\":\"HDFCAMC\",\"method\":\"update\"},{\"args\":[{\"y\":[[null,14.33,16.43,19.11,18.83,17.25,19.97,22.77,22.57,22.12,22.17,22.73,23.2,21.65]]}],\"label\":\"HDFCBANK\",\"method\":\"update\"},{\"args\":[{\"y\":[[null,1.33,1.36,1.36,2.4,1.71,1.53,1.47,1.68,1.94,1.76,1.71,1.91,2.23]]}],\"label\":\"HDFCLIFE\",\"method\":\"update\"},{\"args\":[{\"y\":[[null,3.26,3.53,2.24,1.37,0.78,2.05,1.48,1.93,1.8,2.41,2.9,4.36,6.3]]}],\"label\":\"HERITGFOOD\",\"method\":\"update\"},{\"args\":[{\"y\":[[null,12.82,37.32,35.22,30.6,29.55,34.45,36.33,40.29,35.53,50.35,54.7,46.77,52.31]]}],\"label\":\"HEROMOTOCO\",\"method\":\"update\"},{\"args\":[{\"y\":[[null,8.92,9.28,9.78,9.81,10.13,11.34,10.53,11.07,10.87,11.3,10.68,10.89,11.11]]}],\"label\":\"HINDUNILVR\",\"method\":\"update\"},{\"args\":[{\"y\":[[null,2.11,1.9,1.13,3.41,2.25,2.84,1.8,3.34,1.36,1.47,0.44,1.45,0.5]]}],\"label\":\"HLEGLAS\",\"method\":\"update\"},{\"args\":[{\"y\":[[null,0.96,1.03,1.1,1.09,1.32,1.68,1.51,1.79,2.07,2.19,1.95,2.0,2.38]]}],\"label\":\"HNDFDS\",\"method\":\"update\"},{\"args\":[{\"y\":[[null,6.88,8.78,9.41,11.11,10.62,11.49,12.6,14.11,15.2,15.56,15.76,16.62,16.62]]}],\"label\":\"ICICIBANK\",\"method\":\"update\"},{\"args\":[{\"y\":[[null,4.27,9.11,6.47,6.37,7.11,12.02,7.18,8.9,7.95,11.75,8.76,10.54,11.77]]}],\"label\":\"ICICIGI\",\"method\":\"update\"},{\"args\":[{\"y\":[[null,-1.29,3.1,2.17,1.3,1.09,1.39,1.54,1.64,1.43,1.69,1.58,1.21,1.56]]}],\"label\":\"ICICIPRULI\",\"method\":\"update\"},{\"args\":[{\"y\":[[null,null,null,null,null,4552.98,438.19,-3.73,-2.54,4.95,0.21,3.45,2.41,0.27]]}],\"label\":\"IDEAFORGE\",\"method\":\"update\"},{\"args\":[{\"y\":[[null,-1.0,0.18,0.47,0.57,0.78,0.91,0.99,1.23,1.1,1.11,1.04,1.04,0.91]]}],\"label\":\"IDFCFIRSTB\",\"method\":\"update\"},{\"args\":[{\"y\":[[null,-82.47,-37.28,3.37,-43.65,-27.62,-41.08,36.91,23.84,80.16,4.9,77.68,49.09,70.7]]}],\"label\":\"INDIGO\",\"method\":\"update\"},{\"args\":[{\"y\":[[null,null,null,null,null,4.19,7.8,5.52,10.23,6.52,5.32,7.82,11.27,5.5]]}],\"label\":\"INDIGOPNTS\",\"method\":\"update\"},{\"args\":[{\"y\":[[null,12.2,12.89,13.81,13.52,12.74,14.31,15.7,14.77,14.32,14.97,14.71,19.2,15.34]]}],\"label\":\"INFY\",\"method\":\"update\"},{\"args\":[{\"y\":[[null,0.95,1.34,1.44,2.57,1.54,1.85,2.02,2.73,1.99,2.67,2.6,2.62,2.38]]}],\"label\":\"IRCON\",\"method\":\"update\"},{\"args\":[{\"y\":[[null,null,null,null,null,null,null,null,3.48,2.9,null,3.75,3.55,3.85]]}],\"label\":\"IRCTC\",\"method\":\"update\"},{\"args\":[{\"y\":[[null,null,null,null,null,null,null,0.88,1.11,1.29,1.25,1.25,1.26,1.43]]}],\"label\":\"IREDA\",\"method\":\"update\"},{\"args\":[{\"y\":[[null,2.66,3.01,3.29,3.4,3.56,3.73,4.03,4.16,4.1,3.93,4.28,4.1,4.08]]}],\"label\":\"ITC\",\"method\":\"update\"},{\"args\":[{\"y\":[[null,null,null,null,null,null,null,null,null,null,1.05,0.46,0.49,0.49]]}],\"label\":\"JIOFIN\",\"method\":\"update\"},{\"args\":[{\"y\":[[null,1.05,1.82,2.03,1.47,1.71,1.99,1.22,0.43,0.44,1.47,1.0,3.14,0.85]]}],\"label\":\"JUBLFOOD\",\"method\":\"update\"},{\"args\":[{\"y\":[[null,-0.5,0.67,1.31,0.7,1.05,1.03,1.44,0.68,1.4,1.31,1.75,1.34,1.72]]}],\"label\":\"KALYANKJIL\",\"method\":\"update\"},{\"args\":[{\"y\":[[null,null,null,13.96,4.3,2.18,null,3.93,7.1,4.24,5.56,7.07,12.71,7.94]]}],\"label\":\"KAYNES\",\"method\":\"update\"},{\"args\":[{\"y\":[[null,7.45,10.18,11.23,12.87,11.52,11.85,14.26,15.31,13.46,15.54,16.7,18.67,16.65]]}],\"label\":\"KEI\",\"method\":\"update\"},{\"args\":[{\"y\":[[null,9.11,15.07,17.15,19.61,13.88,18.17,20.12,22.99,20.88,22.45,21.46,26.85,37.47]]}],\"label\":\"KOTAKBANK\",\"method\":\"update\"},{\"args\":[{\"y\":[[null,0.74,1.13,1.21,0.91,2.05,1.95,3.18,2.93,3.07,3.2,4.2,3.57,5.48]]}],\"label\":\"KPIGREEN\",\"method\":\"update\"},{\"args\":[{\"y\":[[null,2.2,2.37,2.55,2.88,3.12,3.05,3.67,4.07,4.89,5.14,5.67,6.0,7.45]]}],\"label\":\"KPITTECH\",\"method\":\"update\"},{\"args\":[{\"y\":[[null,33.77,2.19,1.31,-2.02,41.81,0.91,6.81,-2.77,48.91,2.45,2.11,-0.05,56.28]]}],\"label\":\"KSCL\",\"method\":\"update\"},{\"args\":[{\"y\":[[null,15.74,11.4,6.88,7.35,6.92,8.6,6.33,6.8,9.9,13.09,9.74,10.12,12.75]]}],\"label\":\"LALPATHLAB\",\"method\":\"update\"},{\"args\":[{\"y\":[[null,27.39,1.25,2.52,1.77,1.57,1.86,2.58,1.67,1.6,1.66,2.26,2.2,1.91]]}],\"label\":\"LATENTVIEW\",\"method\":\"update\"},{\"args\":[{\"y\":[[null,8.36,12.95,14.63,25.77,12.11,15.86,18.17,28.37,17.74,23.45,21.44,31.98,20.26]]}],\"label\":\"LT\",\"method\":\"update\"},{\"args\":[{\"y\":[[null,28.39,31.48,34.93,36.34,63.06,40.18,33.82,37.65,38.92,39.26,39.49,37.14,38.28]]}],\"label\":\"LTIM\",\"method\":\"update\"},{\"args\":[{\"y\":[[null,20.58,21.87,23.59,24.83,26.09,28.41,28.11,32.2,29.44,29.84,31.79,32.24,29.63]]}],\"label\":\"LTTS\",\"method\":\"update\"},{\"args\":[{\"y\":[[null,3.88,0.55,3.11,2.65,2.43,0.32,1.03,0.92,1.44,0.4,0.99,1.61,1.24]]}],\"label\":\"LXCHEM\",\"method\":\"update\"},{\"args\":[{\"y\":[[null,3.41,15.51,15.99,18.0,17.66,22.3,21.53,21.2,28.21,18.88,21.38,22.15,26.4]]}],\"label\":\"M&M\",\"method\":\"update\"},{\"args\":[{\"y\":[[null,null,null,null,4.75,7.3,10.48,7.09,7.13,12.15,12.51,11.33,11.76,13.39]]}],\"label\":\"MANKIND\",\"method\":\"update\"},{\"args\":[{\"y\":[[null,53.18,6.36,3.48,4.23,4.54,4.74,5.52,5.22,6.0,6.11,5.69,7.02,6.62]]}],\"label\":\"MAPMYINDIA\",\"method\":\"update\"},{\"args\":[{\"y\":[[null,2.76,2.39,2.4,1.94,2.87,2.33,2.54,2.34,3.3,2.73,2.96,2.46,3.58]]}],\"label\":\"MARICO\",\"method\":\"update\"},{\"args\":[{\"y\":[[null,15.72,16.12,34.49,62.1,34.3,69.93,79.65,88.97,84.18,125.33,102.0,125.71,119.58]]}],\"label\":\"MARUTI\",\"method\":\"update\"},{\"args\":[{\"y\":[[null,5.04,6.69,10.67,7.88,11.14,10.61,17.56,16.17,15.59,16.5,31.08,32.87,34.51]]}],\"label\":\"MAZDOCK\",\"method\":\"update\"},{\"args\":[{\"y\":[[1.69,null,1.89,3.69,2.49,3.8,2.72,4.22,2.44,3.91,2.92,3.52,6.05,3.4]]}],\"label\":\"METROBRAND\",\"method\":\"update\"},{\"args\":[{\"y\":[[null,1.16,1.3,0.59,1.67,1.1,2.43,3.26,3.58,2.21,2.86,2.47,2.26,1.81]]}],\"label\":\"MOLDTECH\",\"method\":\"update\"},{\"args\":[{\"y\":[[null,4.32,6.24,5.51,5.54,6.55,5.86,4.92,6.94,5.65,4.73,4.28,5.41,4.97]]}],\"label\":\"MOLDTKPAC\",\"method\":\"update\"},{\"args\":[{\"y\":[[null,0.61,0.46,0.52,0.18,0.21,0.36,0.67,0.97,0.89,0.3,0.8,2.02,1.47]]}],\"label\":\"MOTHERSON\",\"method\":\"update\"},{\"args\":[{\"y\":[[null,2.83,6.19,4.33,6.44,5.27,8.03,10.22,10.1,6.61,6.65,3.4,1.58,1.44]]}],\"label\":\"MTARTECH\",\"method\":\"update\"},{\"args\":[{\"y\":[[null,null,null,null,null,null,80.9,60.25,67.43,1.33,4.35,2.42,1.1,1.51]]}],\"label\":\"MUFTI\",\"method\":\"update\"},{\"args\":[{\"y\":[[null,24.37,24.97,25.91,24.84,20.41,22.22,23.11,24.25,25.46,26.39,27.49,28.37,28.99]]}],\"label\":\"MUTHOOTFIN\",\"method\":\"update\"},{\"args\":[{\"y\":[[null,11.83,572.37,357.33,48.83,13.87,7.99,-9.02,-21.12,12.28,15.88,11.68,4.67,18.0]]}],\"label\":\"NAUKRI\",\"method\":\"update\"},{\"args\":[{\"y\":[[null,11.29,12.77,13.88,15.17,15.02,11.67,21.5,27.5,12.41,12.22,15.74,14.19,10.32]]}],\"label\":\"NAVINFLUOR\",\"method\":\"update\"},{\"args\":[{\"y\":[[null,0.87,1.71,1.58,0.34,1.75,1.55,2.49,0.39,2.95,3.0,3.51,1.11,2.96]]}],\"label\":\"NAZARA\",\"method\":\"update\"},{\"args\":[{\"y\":[[null,3.15,4.79,4.48,6.27,4.45,3.96,5.89,5.74,3.91,3.18,0.4,6.42,4.35]]}],\"label\":\"NEOGEN\",\"method\":\"update\"},{\"args\":[{\"y\":[[null,5.59,6.4,3.94,6.13,5.29,6.86,6.51,7.64,7.24,9.42,6.8,9.69,7.74]]}],\"label\":\"NESTLEIND\",\"method\":\"update\"},{\"args\":[{\"y\":[[null,null,null,null,null,9.91,16.14,38.32,2.07,0.98,2.7,4.64,5.26,2.74]]}],\"label\":\"NETWEB\",\"method\":\"update\"},{\"args\":[{\"y\":[[null,9.82,143.89,156.51,170.81,185.62,145.36,110.93,70.24,141.98,134.73,136.59,97.01,148.13]]}],\"label\":\"PAGEIND\",\"method\":\"update\"},{\"args\":[{\"y\":[[null,0.33,2.07,1.97,2.64,1.81,2.17,2.5,2.76,1.54,2.42,1.71,2.56,3.81]]}],\"label\":\"PARAS\",\"method\":\"update\"},{\"args\":[{\"y\":[[null,9.89,10.58,11.54,13.15,13.84,14.39,15.56,16.45,14.86,17.11,18.59,20.47,19.89]]}],\"label\":\"PERSISTENT\",\"method\":\"update\"},{\"args\":[{\"y\":[[null,4.33,7.37,7.05,5.0,6.96,6.54,5.98,5.57,9.21,8.85,10.04,5.91,11.15]]}],\"label\":\"PIDILITIND\",\"method\":\"update\"},{\"args\":[{\"y\":[[null,12.34,15.13,14.67,13.47,17.3,22.07,23.19,18.49,25.24,31.67,29.57,24.35,29.58]]}],\"label\":\"PIIND\",\"method\":\"update\"},{\"args\":[{\"y\":[[null,4.96,13.26,21.05,21.56,14.69,17.91,23.89,28.38,26.67,28.37,27.49,36.34,26.34]]}],\"label\":\"POLYCAB\",\"method\":\"update\"},{\"args\":[{\"y\":[[null,1.61,6.92,6.09,7.98,1.45,-2.18,3.2,8.51,1.77,6.39,3.4,4.94,2.23]]}],\"label\":\"PRINCEPIPE\",\"method\":\"update\"},{\"args\":[{\"y\":[[null,0.65,2.08,2.07,1.69,0.78,1.72,1.0,2.34,1.2,2.12,1.94,2.42,1.52]]}],\"label\":\"RAILTEL\",\"method\":\"update\"},{\"args\":[{\"y\":[[null,-23.5,8.0,15.06,39.54,12.15,23.85,14.24,29.18,159.95,23.99,27.55,34.42,1106.08]]}],\"label\":\"RAYMOND\",\"method\":\"update\"},{\"args\":[{\"y\":[[null,null,null,null,null,null,null,null,2.5,3.38,2.01,4.4,2.96,2.22]]}],\"label\":\"REDTAPE\",\"method\":\"update\"},{\"args\":[{\"y\":[[null,1.25,2.76,2.82,2.53,1.55,0.9,1.21,2.54,2.26,1.78,1.55,2.47,1.78]]}],\"label\":\"RELAXO\",\"method\":\"update\"},{\"args\":[{\"y\":[[null,19.36,21.58,27.42,23.95,26.54,20.19,23.34,28.53,23.67,25.71,25.52,28.01,22.37]]}],\"label\":\"RELIANCE\",\"method\":\"update\"},{\"args\":[{\"y\":[[null,4.46,4.76,4.14,4.37,5.21,4.34,4.66,5.25,5.3,5.97,6.23,6.18,6.32]]}],\"label\":\"ROSSARI\",\"method\":\"update\"},{\"args\":[{\"y\":[[null,5.86,7.28,7.08,7.25,11.01,11.84,13.23,16.27,14.8,14.18,16.89,14.03,12.51]]}],\"label\":\"ROUTE\",\"method\":\"update\"},{\"args\":[{\"y\":[[null,1.11,1.34,1.41,1.81,1.43,1.83,1.83,1.72,1.64,1.89,1.72,2.3,1.07]]}],\"label\":\"RVNL\",\"method\":\"update\"},{\"args\":[{\"y\":[[null,3.24,3.66,4.09,6.16,6.65,5.57,5.39,6.3,6.27,6.37,5.78,6.97,6.25]]}],\"label\":\"SBICARD\",\"method\":\"update\"},{\"args\":[{\"y\":[[null,8.27,9.96,10.71,10.7,8.21,16.53,17.34,20.27,20.77,18.04,12.4,23.96,21.65]]}],\"label\":\"SBIN\",\"method\":\"update\"},{\"args\":[{\"y\":[[null,3.98,8.99,7.02,9.55,8.44,18.32,12.99,13.24,12.79,16.04,14.19,22.53,16.22]]}],\"label\":\"SIEMENS\",\"method\":\"update\"},{\"args\":[{\"y\":[[null,1.41,1.51,1.48,1.79,1.3,1.58,1.83,2.05,1.91,2.12,2.26,2.54,2.42]]}],\"label\":\"SONACOMS\",\"method\":\"update\"},{\"args\":[{\"y\":[[null,-0.78,-0.38,-0.22,-1.35,0.36,0.32,-1.92,0.82,-0.88,-0.81,-0.92,-1.03,-0.78]]}],\"label\":\"SPICELEC\",\"method\":\"update\"},{\"args\":[{\"y\":[[null,13.35,12.91,17.05,20.43,20.51,16.23,17.24,18.97,12.12,10.15,8.55,14.24,8.51]]}],\"label\":\"SRF\",\"method\":\"update\"},{\"args\":[{\"y\":[[null,6.02,8.53,8.58,-9.49,8.59,9.43,9.03,8.27,8.43,9.9,10.52,11.06,11.82]]}],\"label\":\"SUNPHARMA\",\"method\":\"update\"},{\"args\":[{\"y\":[[null,1.93,2.8,2.77,2.27,2.67,3.43,3.65,2.78,3.28,3.51,2.89,2.19,2.93]]}],\"label\":\"TATACONSUM\",\"method\":\"update\"},{\"args\":[{\"y\":[[null,18.21,20.12,24.24,25.69,29.66,27.98,31.26,32.36,30.32,32.15,33.15,31.62,29.56]]}],\"label\":\"TATAELXSI\",\"method\":\"update\"},{\"args\":[{\"y\":[[null,10.64,19.86,7.87,3.98,17.78,21.17,6.82,4.01,29.02,24.6,10.52,11.95,25.91]]}],\"label\":\"TATAINVEST\",\"method\":\"update\"},{\"args\":[{\"y\":[[null,-13.41,-13.38,-4.57,-3.11,-15.08,-2.84,8.91,16.28,9.64,11.33,21.14,52.37,16.74]]}],\"label\":\"TATAMOTORS\",\"method\":\"update\"},{\"args\":[{\"y\":[[null,1.22,1.32,1.33,1.57,2.49,2.56,2.96,2.43,3.04,2.74,2.98,2.8,3.04]]}],\"label\":\"TATAPOWER\",\"method\":\"update\"},{\"args\":[{\"y\":[[null,null,null,null,null,null,null,36.58,5.34,4.72,3.95,4.2,3.88,3.99]]}],\"label\":\"TATATECH\",\"method\":\"update\"},{\"args\":[{\"y\":[[null,24.35,26.02,26.41,27.13,25.9,28.51,29.64,31.13,30.26,31.0,30.56,34.37,33.28]]}],\"label\":\"TCS\",\"method\":\"update\"},{\"args\":[{\"y\":[[null,13.97,13.81,14.1,15.49,11.64,13.21,13.32,11.47,7.1,5.06,5.23,6.77,8.71]]}],\"label\":\"TECHM\",\"method\":\"update\"},{\"args\":[{\"y\":[[null,6.22,9.65,14.46,9.27,10.08,11.08,12.19,16.14,11.14,13.62,27.5,9.8,11.64]]}],\"label\":\"TIINDIA\",\"method\":\"update\"},{\"args\":[{\"y\":[[null,1.46,0.48,0.12,-2.09,0.1,4.03,2.72,4.03,5.17,5.55,5.56,5.86,4.98]]}],\"label\":\"TITAGARH\",\"method\":\"update\"},{\"args\":[{\"y\":[[null,0.23,7.2,11.31,5.74,8.84,9.36,10.18,8.22,8.48,10.31,11.86,8.68,8.05]]}],\"label\":\"TITAN\",\"method\":\"update\"},{\"args\":[{\"y\":[[null,9.75,9.34,7.36,-3.49,10.46,9.22,8.63,8.48,11.17,11.41,13.09,13.27,13.5]]}],\"label\":\"TORNTPHARM\",\"method\":\"update\"},{\"args\":[{\"y\":[[null,-3.56,2.6,3.93,0.0,3.67,2.62,4.7,1.52,4.88,6.6,10.53,19.81,11.04]]}],\"label\":\"TRENT\",\"method\":\"update\"},{\"args\":[{\"y\":[[null,-0.22,5.1,5.21,5.84,6.43,8.13,6.33,7.07,9.14,8.13,10.08,8.15,9.7]]}],\"label\":\"TVSMOTOR\",\"method\":\"update\"},{\"args\":[{\"y\":[[null,1.17,3.04,3.43,6.18,6.13,5.07,-0.07,0.37,5.15,4.06,3.23,3.07,6.56]]}],\"label\":\"UBL\",\"method\":\"update\"},{\"args\":[{\"y\":[[null,0.76,4.02,4.12,2.5,3.66,7.61,2.95,1.41,6.56,4.66,4.81,3.31,6.67]]}],\"label\":\"UNITDSPR\",\"method\":\"update\"},{\"args\":[{\"y\":[[null,0.28,1.66,1.77,2.53,2.43,2.97,2.83,3.19,3.01,3.93,3.37,5.04,3.47]]}],\"label\":\"UNOMINDA\",\"method\":\"update\"},{\"args\":[{\"y\":[[null,2.37,1.85,0.13,1.96,6.06,2.93,0.58,3.3,7.65,3.86,1.02,4.13,9.64]]}],\"label\":\"VBL\",\"method\":\"update\"},{\"args\":[{\"y\":[[null,7.87,7.91,8.1,9.84,9.85,11.29,10.4,10.18,6.75,7.05,7.49,10.05,8.12]]}],\"label\":\"VINATIORGA\",\"method\":\"update\"},{\"args\":[{\"y\":[[null,3.65,2.2,5.27,3.65,4.16,2.84,6.19,4.48,3.79,2.01,6.49,4.77,2.57]]}],\"label\":\"MANYAVAR\",\"method\":\"update\"},{\"args\":[{\"y\":[[null,3.68,3.13,2.9,5.52,3.29,-0.22,-3.34,4.35,3.91,1.11,-0.92,3.52,10.1]]}],\"label\":\"VOLTAS\",\"method\":\"update\"},{\"args\":[{\"y\":[[null,-2.14,-0.28,1.34,0.98,1.51,2.02,2.33,1.29,1.85,1.43,1.11,0.05,0.21]]}],\"label\":\"WESTLIFE\",\"method\":\"update\"},{\"args\":[{\"y\":[[null,5.92,5.35,5.42,5.63,4.68,4.85,5.56,5.6,5.23,5.07,5.16,5.42,5.74]]}],\"label\":\"WIPRO\",\"method\":\"update\"},{\"args\":[{\"y\":[[null,10.01,12.44,12.71,11.69,16.99,19.61,9.18,13.76,12.97,10.23,11.88,15.74,-2.16]]}],\"label\":\"YASHO\",\"method\":\"update\"},{\"args\":[{\"y\":[[null,-0.14,-0.0,-0.02,0.42,0.94,0.71,1.19,2.54,5.6,1.82,3.64,4.16,9.14]]}],\"label\":\"ZENTEC\",\"method\":\"update\"}],\"direction\":\"down\",\"showactive\":true},{\"buttons\":[{\"args\":[{\"y\":[[null,2.99,3.77,4.3,1.54,3.35,2.84,2.25,0.25,0.36,-1.59,-0.19,-2.59,2.83]]}],\"label\":\"526433\",\"method\":\"update\"},{\"args\":[{\"y\":[[null,0.11,0.1,0.13,0.06,0.1,0.08,0.11,0.09,0.18,0.2,0.12,0.05,0.21]]}],\"label\":\"532407\",\"method\":\"update\"},{\"args\":[{\"y\":[[null,null,null,null,null,5.28,6.38,7.06,7.82,7.96,8.1,3.77,4.77,5.21]]}],\"label\":\"544021\",\"method\":\"update\"},{\"args\":[{\"y\":[[null,5.27,4.6,6.29,5.98,3.76,4.18,3.96,6.06,5.17,4.31,3.99,5.15,3.62]]}],\"label\":\"AARTIDRUGS\",\"method\":\"update\"},{\"args\":[{\"y\":[[null,4.55,4.14,20.01,5.34,3.75,3.42,3.77,4.11,1.93,2.51,3.42,3.64,3.78]]}],\"label\":\"AARTIIND\",\"method\":\"update\"},{\"args\":[{\"y\":[[null,null,null,null,null,null,null,5.26,4.73,5.2,5.72,5.82,7.2,6.12]]}],\"label\":\"AARTIPHARM\",\"method\":\"update\"},{\"args\":[{\"y\":[[null,5.32,0.98,-2.62,2.79,4.36,0.38,4.68,5.52,6.18,5.58,7.86,5.5,2.62]]}],\"label\":\"AARTISURF\",\"method\":\"update\"},{\"args\":[{\"y\":[[null,3.32,5.66,8.88,17.61,6.62,9.32,14.41,11.56,13.95,17.12,15.98,21.67,20.93]]}],\"label\":\"ABB\",\"method\":\"update\"},{\"args\":[{\"y\":[[null,30.32,23.97,14.95,21.1,12.11,-4.65,6.03,12.55,24.82,20.65,28.63,50.31,19.24]]}],\"label\":\"ACC\",\"method\":\"update\"},{\"args\":[{\"y\":[[null,2.47,1.93,-0.11,2.77,4.12,4.04,7.19,6.34,5.91,2.0,16.57,3.95,12.76]]}],\"label\":\"ADANIENT\",\"method\":\"update\"},{\"args\":[{\"y\":[[null,2.68,3.57,4.66,5.14,4.09,4.4,5.18,4.68,4.97,5.01,5.48,6.24,6.18]]}],\"label\":\"AFFLE\",\"method\":\"update\"},{\"args\":[{\"y\":[[null,15.38,10.59,8.98,9.09,16.03,10.26,8.94,9.52,9.74,5.33,6.54,7.52,9.56]]}],\"label\":\"ALKYLAMINE\",\"method\":\"update\"},{\"args\":[{\"y\":[[null,14.73,16.24,19.88,24.7,21.85,25.63,27.35,32.0,26.34,36.3,31.01,40.47,32.49]]}],\"label\":\"ANGELONE\",\"method\":\"update\"},{\"args\":[{\"y\":[[null,7.27,8.45,8.51,5.79,7.73,11.78,12.99,8.34,11.61,13.25,15.68,12.55,13.61]]}],\"label\":\"ARE&M\",\"method\":\"update\"},{\"args\":[{\"y\":[[null,1.45,3.34,4.12,5.27,4.4,4.33,3.45,2.84,4.27,3.57,2.61,3.04,3.21]]}],\"label\":\"ASAHIINDIA\",\"method\":\"update\"},{\"args\":[{\"y\":[[null,-0.93,-0.35,-0.41,0.48,0.02,0.56,1.09,2.56,1.85,1.79,1.91,2.91,1.73]]}],\"label\":\"ASHOKLEY\",\"method\":\"update\"},{\"args\":[{\"y\":[[null,5.93,6.21,10.59,8.87,10.6,8.16,11.18,12.87,16.16,12.57,15.09,13.1,12.2]]}],\"label\":\"ASIANPAINT\",\"method\":\"update\"},{\"args\":[{\"y\":[[null,2.76,5.27,4.75,5.28,3.32,2.57,3.46,7.66,4.46,4.88,4.23,6.76,4.48]]}],\"label\":\"ASTRAL\",\"method\":\"update\"},{\"args\":[{\"y\":[[null,7.69,11.05,12.9,14.39,14.26,18.27,20.12,-17.43,19.78,20.13,21.05,24.62,20.83]]}],\"label\":\"AXISBANK\",\"method\":\"update\"},{\"args\":[{\"y\":[[null,40.44,70.49,49.41,52.74,40.2,59.42,52.05,60.25,58.11,71.39,71.78,72.05,69.55]]}],\"label\":\"BAJAJ-AUTO\",\"method\":\"update\"},{\"args\":[{\"y\":[[null,-1.91,5.48,4.2,3.42,3.74,5.24,5.31,4.52,3.23,2.37,3.25,2.54,2.44]]}],\"label\":\"BAJAJELEC\",\"method\":\"update\"},{\"args\":[{\"y\":[[null,5.23,7.05,7.89,8.46,8.23,9.77,11.19,11.11,12.2,12.09,13.52,13.28,13.39]]}],\"label\":\"BAJAJFINSV\",\"method\":\"update\"},{\"args\":[{\"y\":[[null,16.61,24.54,35.21,39.96,42.88,45.93,49.11,52.16,56.72,58.6,58.88,61.79,63.2]]}],\"label\":\"BAJFINANCE\",\"method\":\"update\"},{\"args\":[{\"y\":[[null,27.89,24.61,27.64,33.55,37.95,28.57,19.31,14.63,16.27,10.71,15.24,21.0,13.36]]}],\"label\":\"BALAMINES\",\"method\":\"update\"},{\"args\":[{\"y\":[[null,-5.41,2.89,5.63,4.9,9.29,4.27,6.47,5.11,8.32,2.64,4.51,4.95,13.54]]}],\"label\":\"BATAINDIA\",\"method\":\"update\"},{\"args\":[{\"y\":[[null,0.03,0.85,0.82,1.58,0.5,0.85,0.84,1.89,0.74,1.08,1.18,2.46,1.08]]}],\"label\":\"BEL\",\"method\":\"update\"},{\"args\":[{\"y\":[[null,1.21,1.88,2.17,1.89,2.17,1.88,1.72,1.59,3.04,2.5,2.57,1.91,3.03]]}],\"label\":\"BERGEPAINT\",\"method\":\"update\"},{\"args\":[{\"y\":[[null,0.48,1.93,1.41,3.41,2.73,3.86,2.85,5.39,2.89,2.39,4.34,3.66,7.31]]}],\"label\":\"BHARTIARTL\",\"method\":\"update\"},{\"args\":[{\"y\":[[null,-0.21,2.35,2.17,3.02,1.69,2.2,1.39,0.28,0.63,1.62,3.25,0.44,0.78]]}],\"label\":\"BOROLTD\",\"method\":\"update\"},{\"args\":[{\"y\":[[null,16.17,15.95,15.41,15.77,14.01,20.48,38.71,23.19,19.0,24.39,23.1,22.35,20.99]]}],\"label\":\"BRITANNIA\",\"method\":\"update\"},{\"args\":[{\"y\":[[null,3.95,4.82,4.53,5.51,3.25,2.5,3.81,6.73,32.68,8.9,7.99,7.91,19.58]]}],\"label\":\"BSE\",\"method\":\"update\"},{\"args\":[{\"y\":[[null,12.95,14.86,15.81,15.1,13.24,14.72,15.05,15.23,15.58,17.2,18.17,21.06,22.0]]}],\"label\":\"CAMS\",\"method\":\"update\"},{\"args\":[{\"y\":[[0.66,0.13,null,1.8,1.3,0.94,null,null,null,null,null,null,null,null]]}],\"label\":\"CAMPUS\",\"method\":\"update\"},{\"args\":[{\"y\":[[null,6.11,8.22,8.01,7.43,5.53,7.69,7.14,6.04,7.04,10.42,10.28,12.37,12.84]]}],\"label\":\"CDSL\",\"method\":\"update\"},{\"args\":[{\"y\":[[null,-26.9,-0.5,2.73,-4.94,-1.99,-5.32,-7.5,20.02,1.13,-3.54,5.63,-5.35,-2.98]]}],\"label\":\"CENTUM\",\"method\":\"update\"},{\"args\":[{\"y\":[[null,0.4,1.49,4.03,0.77,0.85,1.17,1.49,2.79,1.33,1.59,4.89,1.53,1.58]]}],\"label\":\"CGPOWER\",\"method\":\"update\"},{\"args\":[{\"y\":[[null,1.09,4.99,4.92,10.44,1.6,4.29,4.2,1.5,3.75,6.9,9.29,9.84,6.62]]}],\"label\":\"COCHINSHIP\",\"method\":\"update\"},{\"args\":[{\"y\":[[null,20.4,24.2,30.17,34.1,24.58,32.99,37.37,18.79,27.06,29.41,38.54,36.19,19.97]]}],\"label\":\"COFORGE\",\"method\":\"update\"},{\"args\":[{\"y\":[[null,4.25,4.16,4.67,4.25,4.88,4.98,4.83,4.58,4.03,6.03,5.43,5.2,4.24]]}],\"label\":\"CONCOR\",\"method\":\"update\"},{\"args\":[{\"y\":[[null,10.44,11.01,11.95,13.98,10.52,7.16,14.12,14.76,15.2,16.1,13.28,17.06,12.97]]}],\"label\":\"CYIENT\",\"method\":\"update\"},{\"args\":[{\"y\":[[null,2.47,2.85,2.85,1.66,2.49,2.77,2.69,1.7,2.62,2.91,2.9,1.97,2.82]]}],\"label\":\"DABUR\",\"method\":\"update\"},{\"args\":[{\"y\":[[null,22.19,18.65,17.78,19.59,17.2,12.79,15.33,17.15,10.99,15.04,14.81,18.61,14.85]]}],\"label\":\"DEEPAKNTR\",\"method\":\"update\"},{\"args\":[{\"y\":[[null,20.99,22.84,33.99,33.7,26.44,18.57,11.53,12.09,13.41,13.11,13.49,20.27,16.2]]}],\"label\":\"DIVISLAB\",\"method\":\"update\"},{\"args\":[{\"y\":[[null,3.1,10.68,7.82,10.61,7.7,13.02,8.72,13.54,11.55,18.02,16.12,15.91,22.34]]}],\"label\":\"DIXON\",\"method\":\"update\"},{\"args\":[{\"y\":[[null,1.47,6.45,8.53,6.59,9.93,10.59,9.1,7.1,10.12,9.58,10.61,8.66,11.89]]}],\"label\":\"DMART\",\"method\":\"update\"},{\"args\":[{\"y\":[[null,22.87,59.84,42.62,5.83,71.44,66.93,74.7,57.65,84.36,88.87,82.78,78.52,83.46]]}],\"label\":\"DRREDDY\",\"method\":\"update\"},{\"args\":[{\"y\":[[null,8.67,13.65,16.68,22.31,22.33,24.02,27.09,33.11,33.58,37.12,36.38,39.1,40.2]]}],\"label\":\"EICHERMOT\",\"method\":\"update\"},{\"args\":[{\"y\":[[null,0.46,1.45,6.42,4.11,5.48,5.81,8.85,5.69,7.78,7.96,10.42,8.59,9.31]]}],\"label\":\"ETHOSLTD\",\"method\":\"update\"},{\"args\":[{\"y\":[[null,0.39,2.31,2.1,46.58,2.39,2.84,2.34,2.12,2.62,3.17,2.36,2.17,2.59]]}],\"label\":\"EXIDEIND\",\"method\":\"update\"},{\"args\":[{\"y\":[[null,11.71,16.27,16.95,39.74,52.12,66.09,34.65,48.74,32.54,33.71,30.73,37.36,36.94]]}],\"label\":\"FINEORG\",\"method\":\"update\"},{\"args\":[{\"y\":[[null,0.59,7.88,7.25,3.65,10.14,14.45,4.15,7.86,11.27,15.82,6.43,6.91,5.62]]}],\"label\":\"GMMPFAUDLR\",\"method\":\"update\"},{\"args\":[{\"y\":[[null,0.61,1.29,1.4,9.37,1.64,1.98,2.11,14.82,4.49,2.4,2.24,16.95,18.7]]}],\"label\":\"GODREJPROP\",\"method\":\"update\"},{\"args\":[{\"y\":[[null,1.44,1.72,2.23,2.12,2.05,2.3,2.26,3.63,2.61,3.07,1.98,3.21,1.59]]}],\"label\":\"GREENLAM\",\"method\":\"update\"},{\"args\":[{\"y\":[[4.6,2.43,5.47,5.14,6.57,6.33,5.91,3.06,5.62,3.04,3.34,2.82,2.43,null]]}],\"label\":\"GREENPANEL\",\"method\":\"update\"},{\"args\":[{\"y\":[[null,1.8,5.13,5.5,4.12,4.38,5.13,5.58,4.83,6.69,7.05,7.7,9.74,7.61]]}],\"label\":\"GRSE\",\"method\":\"update\"},{\"args\":[{\"y\":[[null,2.91,12.66,13.96,46.43,9.27,18.26,17.27,42.33,12.17,18.49,18.86,64.43,21.49]]}],\"label\":\"HAL\",\"method\":\"update\"},{\"args\":[{\"y\":[[null,2.43,3.03,3.33,3.55,3.84,4.05,3.92,3.93,3.97,3.84,3.92,4.73,3.35]]}],\"label\":\"HAPPSTMNDS\",\"method\":\"update\"},{\"args\":[{\"y\":[[null,3.76,4.83,4.88,5.63,3.88,2.98,4.53,5.71,4.58,3.97,4.59,7.13,6.51]]}],\"label\":\"HAVELLS\",\"method\":\"update\"},{\"args\":[{\"y\":[[null,11.81,12.01,12.68,13.24,12.1,12.86,15.09,14.68,13.02,14.12,16.03,14.69,15.69]]}],\"label\":\"HCLTECH\",\"method\":\"update\"},{\"args\":[{\"y\":[[null,null,null,null,null,null,17.06,17.3,17.63,22.36,20.45,22.86,25.33,28.27]]}],\"label\":\"HDFCAMC\",\"method\":\"update\"},{\"args\":[{\"y\":[[null,14.33,16.43,19.11,18.83,17.25,19.97,22.77,22.57,22.12,22.17,22.73,23.2,21.65]]}],\"label\":\"HDFCBANK\",\"method\":\"update\"},{\"args\":[{\"y\":[[null,1.33,1.36,1.36,2.4,1.71,1.53,1.47,1.68,1.94,1.76,1.71,1.91,2.23]]}],\"label\":\"HDFCLIFE\",\"method\":\"update\"},{\"args\":[{\"y\":[[null,3.26,3.53,2.24,1.37,0.78,2.05,1.48,1.93,1.8,2.41,2.9,4.36,6.3]]}],\"label\":\"HERITGFOOD\",\"method\":\"update\"},{\"args\":[{\"y\":[[null,12.82,37.32,35.22,30.6,29.55,34.45,36.33,40.29,35.53,50.35,54.7,46.77,52.31]]}],\"label\":\"HEROMOTOCO\",\"method\":\"update\"},{\"args\":[{\"y\":[[null,8.92,9.28,9.78,9.81,10.13,11.34,10.53,11.07,10.87,11.3,10.68,10.89,11.11]]}],\"label\":\"HINDUNILVR\",\"method\":\"update\"},{\"args\":[{\"y\":[[null,2.11,1.9,1.13,3.41,2.25,2.84,1.8,3.34,1.36,1.47,0.44,1.45,0.5]]}],\"label\":\"HLEGLAS\",\"method\":\"update\"},{\"args\":[{\"y\":[[null,0.96,1.03,1.1,1.09,1.32,1.68,1.51,1.79,2.07,2.19,1.95,2.0,2.38]]}],\"label\":\"HNDFDS\",\"method\":\"update\"},{\"args\":[{\"y\":[[null,6.88,8.78,9.41,11.11,10.62,11.49,12.6,14.11,15.2,15.56,15.76,16.62,16.62]]}],\"label\":\"ICICIBANK\",\"method\":\"update\"},{\"args\":[{\"y\":[[null,4.27,9.11,6.47,6.37,7.11,12.02,7.18,8.9,7.95,11.75,8.76,10.54,11.77]]}],\"label\":\"ICICIGI\",\"method\":\"update\"},{\"args\":[{\"y\":[[null,-1.29,3.1,2.17,1.3,1.09,1.39,1.54,1.64,1.43,1.69,1.58,1.21,1.56]]}],\"label\":\"ICICIPRULI\",\"method\":\"update\"},{\"args\":[{\"y\":[[null,null,null,null,null,4552.98,438.19,-3.73,-2.54,4.95,0.21,3.45,2.41,0.27]]}],\"label\":\"IDEAFORGE\",\"method\":\"update\"},{\"args\":[{\"y\":[[null,-1.0,0.18,0.47,0.57,0.78,0.91,0.99,1.23,1.1,1.11,1.04,1.04,0.91]]}],\"label\":\"IDFCFIRSTB\",\"method\":\"update\"},{\"args\":[{\"y\":[[null,-82.47,-37.28,3.37,-43.65,-27.62,-41.08,36.91,23.84,80.16,4.9,77.68,49.09,70.7]]}],\"label\":\"INDIGO\",\"method\":\"update\"},{\"args\":[{\"y\":[[null,null,null,null,null,4.19,7.8,5.52,10.23,6.52,5.32,7.82,11.27,5.5]]}],\"label\":\"INDIGOPNTS\",\"method\":\"update\"},{\"args\":[{\"y\":[[null,12.2,12.89,13.81,13.52,12.74,14.31,15.7,14.77,14.32,14.97,14.71,19.2,15.34]]}],\"label\":\"INFY\",\"method\":\"update\"},{\"args\":[{\"y\":[[null,0.95,1.34,1.44,2.57,1.54,1.85,2.02,2.73,1.99,2.67,2.6,2.62,2.38]]}],\"label\":\"IRCON\",\"method\":\"update\"},{\"args\":[{\"y\":[[null,null,null,null,null,null,null,null,3.48,2.9,null,3.75,3.55,3.85]]}],\"label\":\"IRCTC\",\"method\":\"update\"},{\"args\":[{\"y\":[[null,null,null,null,null,null,null,0.88,1.11,1.29,1.25,1.25,1.26,1.43]]}],\"label\":\"IREDA\",\"method\":\"update\"},{\"args\":[{\"y\":[[null,2.66,3.01,3.29,3.4,3.56,3.73,4.03,4.16,4.1,3.93,4.28,4.1,4.08]]}],\"label\":\"ITC\",\"method\":\"update\"},{\"args\":[{\"y\":[[null,null,null,null,null,null,null,null,null,null,1.05,0.46,0.49,0.49]]}],\"label\":\"JIOFIN\",\"method\":\"update\"},{\"args\":[{\"y\":[[null,1.05,1.82,2.03,1.47,1.71,1.99,1.22,0.43,0.44,1.47,1.0,3.14,0.85]]}],\"label\":\"JUBLFOOD\",\"method\":\"update\"},{\"args\":[{\"y\":[[null,-0.5,0.67,1.31,0.7,1.05,1.03,1.44,0.68,1.4,1.31,1.75,1.34,1.72]]}],\"label\":\"KALYANKJIL\",\"method\":\"update\"},{\"args\":[{\"y\":[[null,null,null,13.96,4.3,2.18,null,3.93,7.1,4.24,5.56,7.07,12.71,7.94]]}],\"label\":\"KAYNES\",\"method\":\"update\"},{\"args\":[{\"y\":[[null,7.45,10.18,11.23,12.87,11.52,11.85,14.26,15.31,13.46,15.54,16.7,18.67,16.65]]}],\"label\":\"KEI\",\"method\":\"update\"},{\"args\":[{\"y\":[[null,9.11,15.07,17.15,19.61,13.88,18.17,20.12,22.99,20.88,22.45,21.46,26.85,37.47]]}],\"label\":\"KOTAKBANK\",\"method\":\"update\"},{\"args\":[{\"y\":[[null,0.74,1.13,1.21,0.91,2.05,1.95,3.18,2.93,3.07,3.2,4.2,3.57,5.48]]}],\"label\":\"KPIGREEN\",\"method\":\"update\"},{\"args\":[{\"y\":[[null,2.2,2.37,2.55,2.88,3.12,3.05,3.67,4.07,4.89,5.14,5.67,6.0,7.45]]}],\"label\":\"KPITTECH\",\"method\":\"update\"},{\"args\":[{\"y\":[[null,33.77,2.19,1.31,-2.02,41.81,0.91,6.81,-2.77,48.91,2.45,2.11,-0.05,56.28]]}],\"label\":\"KSCL\",\"method\":\"update\"},{\"args\":[{\"y\":[[null,15.74,11.4,6.88,7.35,6.92,8.6,6.33,6.8,9.9,13.09,9.74,10.12,12.75]]}],\"label\":\"LALPATHLAB\",\"method\":\"update\"},{\"args\":[{\"y\":[[null,27.39,1.25,2.52,1.77,1.57,1.86,2.58,1.67,1.6,1.66,2.26,2.2,1.91]]}],\"label\":\"LATENTVIEW\",\"method\":\"update\"},{\"args\":[{\"y\":[[null,8.36,12.95,14.63,25.77,12.11,15.86,18.17,28.37,17.74,23.45,21.44,31.98,20.26]]}],\"label\":\"LT\",\"method\":\"update\"},{\"args\":[{\"y\":[[null,28.39,31.48,34.93,36.34,63.06,40.18,33.82,37.65,38.92,39.26,39.49,37.14,38.28]]}],\"label\":\"LTIM\",\"method\":\"update\"},{\"args\":[{\"y\":[[null,20.58,21.87,23.59,24.83,26.09,28.41,28.11,32.2,29.44,29.84,31.79,32.24,29.63]]}],\"label\":\"LTTS\",\"method\":\"update\"},{\"args\":[{\"y\":[[null,3.88,0.55,3.11,2.65,2.43,0.32,1.03,0.92,1.44,0.4,0.99,1.61,1.24]]}],\"label\":\"LXCHEM\",\"method\":\"update\"},{\"args\":[{\"y\":[[null,3.41,15.51,15.99,18.0,17.66,22.3,21.53,21.2,28.21,18.88,21.38,22.15,26.4]]}],\"label\":\"M&M\",\"method\":\"update\"},{\"args\":[{\"y\":[[null,null,null,null,4.75,7.3,10.48,7.09,7.13,12.15,12.51,11.33,11.76,13.39]]}],\"label\":\"MANKIND\",\"method\":\"update\"},{\"args\":[{\"y\":[[null,53.18,6.36,3.48,4.23,4.54,4.74,5.52,5.22,6.0,6.11,5.69,7.02,6.62]]}],\"label\":\"MAPMYINDIA\",\"method\":\"update\"},{\"args\":[{\"y\":[[null,2.76,2.39,2.4,1.94,2.87,2.33,2.54,2.34,3.3,2.73,2.96,2.46,3.58]]}],\"label\":\"MARICO\",\"method\":\"update\"},{\"args\":[{\"y\":[[null,15.72,16.12,34.49,62.1,34.3,69.93,79.65,88.97,84.18,125.33,102.0,125.71,119.58]]}],\"label\":\"MARUTI\",\"method\":\"update\"},{\"args\":[{\"y\":[[null,5.04,6.69,10.67,7.88,11.14,10.61,17.56,16.17,15.59,16.5,31.08,32.87,34.51]]}],\"label\":\"MAZDOCK\",\"method\":\"update\"},{\"args\":[{\"y\":[[1.69,null,1.89,3.69,2.49,3.8,2.72,4.22,2.44,3.91,2.92,3.52,6.05,3.4]]}],\"label\":\"METROBRAND\",\"method\":\"update\"},{\"args\":[{\"y\":[[null,1.16,1.3,0.59,1.67,1.1,2.43,3.26,3.58,2.21,2.86,2.47,2.26,1.81]]}],\"label\":\"MOLDTECH\",\"method\":\"update\"},{\"args\":[{\"y\":[[null,4.32,6.24,5.51,5.54,6.55,5.86,4.92,6.94,5.65,4.73,4.28,5.41,4.97]]}],\"label\":\"MOLDTKPAC\",\"method\":\"update\"},{\"args\":[{\"y\":[[null,0.61,0.46,0.52,0.18,0.21,0.36,0.67,0.97,0.89,0.3,0.8,2.02,1.47]]}],\"label\":\"MOTHERSON\",\"method\":\"update\"},{\"args\":[{\"y\":[[null,2.83,6.19,4.33,6.44,5.27,8.03,10.22,10.1,6.61,6.65,3.4,1.58,1.44]]}],\"label\":\"MTARTECH\",\"method\":\"update\"},{\"args\":[{\"y\":[[null,null,null,null,null,null,80.9,60.25,67.43,1.33,4.35,2.42,1.1,1.51]]}],\"label\":\"MUFTI\",\"method\":\"update\"},{\"args\":[{\"y\":[[null,24.37,24.97,25.91,24.84,20.41,22.22,23.11,24.25,25.46,26.39,27.49,28.37,28.99]]}],\"label\":\"MUTHOOTFIN\",\"method\":\"update\"},{\"args\":[{\"y\":[[null,11.83,572.37,357.33,48.83,13.87,7.99,-9.02,-21.12,12.28,15.88,11.68,4.67,18.0]]}],\"label\":\"NAUKRI\",\"method\":\"update\"},{\"args\":[{\"y\":[[null,11.29,12.77,13.88,15.17,15.02,11.67,21.5,27.5,12.41,12.22,15.74,14.19,10.32]]}],\"label\":\"NAVINFLUOR\",\"method\":\"update\"},{\"args\":[{\"y\":[[null,0.87,1.71,1.58,0.34,1.75,1.55,2.49,0.39,2.95,3.0,3.51,1.11,2.96]]}],\"label\":\"NAZARA\",\"method\":\"update\"},{\"args\":[{\"y\":[[null,3.15,4.79,4.48,6.27,4.45,3.96,5.89,5.74,3.91,3.18,0.4,6.42,4.35]]}],\"label\":\"NEOGEN\",\"method\":\"update\"},{\"args\":[{\"y\":[[null,5.59,6.4,3.94,6.13,5.29,6.86,6.51,7.64,7.24,9.42,6.8,9.69,7.74]]}],\"label\":\"NESTLEIND\",\"method\":\"update\"},{\"args\":[{\"y\":[[null,null,null,null,null,9.91,16.14,38.32,2.07,0.98,2.7,4.64,5.26,2.74]]}],\"label\":\"NETWEB\",\"method\":\"update\"},{\"args\":[{\"y\":[[null,9.82,143.89,156.51,170.81,185.62,145.36,110.93,70.24,141.98,134.73,136.59,97.01,148.13]]}],\"label\":\"PAGEIND\",\"method\":\"update\"},{\"args\":[{\"y\":[[null,0.33,2.07,1.97,2.64,1.81,2.17,2.5,2.76,1.54,2.42,1.71,2.56,3.81]]}],\"label\":\"PARAS\",\"method\":\"update\"},{\"args\":[{\"y\":[[null,9.89,10.58,11.54,13.15,13.84,14.39,15.56,16.45,14.86,17.11,18.59,20.47,19.89]]}],\"label\":\"PERSISTENT\",\"method\":\"update\"},{\"args\":[{\"y\":[[null,4.33,7.37,7.05,5.0,6.96,6.54,5.98,5.57,9.21,8.85,10.04,5.91,11.15]]}],\"label\":\"PIDILITIND\",\"method\":\"update\"},{\"args\":[{\"y\":[[null,12.34,15.13,14.67,13.47,17.3,22.07,23.19,18.49,25.24,31.67,29.57,24.35,29.58]]}],\"label\":\"PIIND\",\"method\":\"update\"},{\"args\":[{\"y\":[[null,4.96,13.26,21.05,21.56,14.69,17.91,23.89,28.38,26.67,28.37,27.49,36.34,26.34]]}],\"label\":\"POLYCAB\",\"method\":\"update\"},{\"args\":[{\"y\":[[null,1.61,6.92,6.09,7.98,1.45,-2.18,3.2,8.51,1.77,6.39,3.4,4.94,2.23]]}],\"label\":\"PRINCEPIPE\",\"method\":\"update\"},{\"args\":[{\"y\":[[null,0.65,2.08,2.07,1.69,0.78,1.72,1.0,2.34,1.2,2.12,1.94,2.42,1.52]]}],\"label\":\"RAILTEL\",\"method\":\"update\"},{\"args\":[{\"y\":[[null,-23.5,8.0,15.06,39.54,12.15,23.85,14.24,29.18,159.95,23.99,27.55,34.42,1106.08]]}],\"label\":\"RAYMOND\",\"method\":\"update\"},{\"args\":[{\"y\":[[null,null,null,null,null,null,null,null,2.5,3.38,2.01,4.4,2.96,2.22]]}],\"label\":\"REDTAPE\",\"method\":\"update\"},{\"args\":[{\"y\":[[null,1.25,2.76,2.82,2.53,1.55,0.9,1.21,2.54,2.26,1.78,1.55,2.47,1.78]]}],\"label\":\"RELAXO\",\"method\":\"update\"},{\"args\":[{\"y\":[[null,19.36,21.58,27.42,23.95,26.54,20.19,23.34,28.53,23.67,25.71,25.52,28.01,22.37]]}],\"label\":\"RELIANCE\",\"method\":\"update\"},{\"args\":[{\"y\":[[null,4.46,4.76,4.14,4.37,5.21,4.34,4.66,5.25,5.3,5.97,6.23,6.18,6.32]]}],\"label\":\"ROSSARI\",\"method\":\"update\"},{\"args\":[{\"y\":[[null,5.86,7.28,7.08,7.25,11.01,11.84,13.23,16.27,14.8,14.18,16.89,14.03,12.51]]}],\"label\":\"ROUTE\",\"method\":\"update\"},{\"args\":[{\"y\":[[null,1.11,1.34,1.41,1.81,1.43,1.83,1.83,1.72,1.64,1.89,1.72,2.3,1.07]]}],\"label\":\"RVNL\",\"method\":\"update\"},{\"args\":[{\"y\":[[null,3.24,3.66,4.09,6.16,6.65,5.57,5.39,6.3,6.27,6.37,5.78,6.97,6.25]]}],\"label\":\"SBICARD\",\"method\":\"update\"},{\"args\":[{\"y\":[[null,8.27,9.96,10.71,10.7,8.21,16.53,17.34,20.27,20.77,18.04,12.4,23.96,21.65]]}],\"label\":\"SBIN\",\"method\":\"update\"},{\"args\":[{\"y\":[[null,3.98,8.99,7.02,9.55,8.44,18.32,12.99,13.24,12.79,16.04,14.19,22.53,16.22]]}],\"label\":\"SIEMENS\",\"method\":\"update\"},{\"args\":[{\"y\":[[null,1.41,1.51,1.48,1.79,1.3,1.58,1.83,2.05,1.91,2.12,2.26,2.54,2.42]]}],\"label\":\"SONACOMS\",\"method\":\"update\"},{\"args\":[{\"y\":[[null,-0.78,-0.38,-0.22,-1.35,0.36,0.32,-1.92,0.82,-0.88,-0.81,-0.92,-1.03,-0.78]]}],\"label\":\"SPICELEC\",\"method\":\"update\"},{\"args\":[{\"y\":[[null,13.35,12.91,17.05,20.43,20.51,16.23,17.24,18.97,12.12,10.15,8.55,14.24,8.51]]}],\"label\":\"SRF\",\"method\":\"update\"},{\"args\":[{\"y\":[[null,6.02,8.53,8.58,-9.49,8.59,9.43,9.03,8.27,8.43,9.9,10.52,11.06,11.82]]}],\"label\":\"SUNPHARMA\",\"method\":\"update\"},{\"args\":[{\"y\":[[null,1.93,2.8,2.77,2.27,2.67,3.43,3.65,2.78,3.28,3.51,2.89,2.19,2.93]]}],\"label\":\"TATACONSUM\",\"method\":\"update\"},{\"args\":[{\"y\":[[null,18.21,20.12,24.24,25.69,29.66,27.98,31.26,32.36,30.32,32.15,33.15,31.62,29.56]]}],\"label\":\"TATAELXSI\",\"method\":\"update\"},{\"args\":[{\"y\":[[null,10.64,19.86,7.87,3.98,17.78,21.17,6.82,4.01,29.02,24.6,10.52,11.95,25.91]]}],\"label\":\"TATAINVEST\",\"method\":\"update\"},{\"args\":[{\"y\":[[null,-13.41,-13.38,-4.57,-3.11,-15.08,-2.84,8.91,16.28,9.64,11.33,21.14,52.37,16.74]]}],\"label\":\"TATAMOTORS\",\"method\":\"update\"},{\"args\":[{\"y\":[[null,1.22,1.32,1.33,1.57,2.49,2.56,2.96,2.43,3.04,2.74,2.98,2.8,3.04]]}],\"label\":\"TATAPOWER\",\"method\":\"update\"},{\"args\":[{\"y\":[[null,null,null,null,null,null,null,36.58,5.34,4.72,3.95,4.2,3.88,3.99]]}],\"label\":\"TATATECH\",\"method\":\"update\"},{\"args\":[{\"y\":[[null,24.35,26.02,26.41,27.13,25.9,28.51,29.64,31.13,30.26,31.0,30.56,34.37,33.28]]}],\"label\":\"TCS\",\"method\":\"update\"},{\"args\":[{\"y\":[[null,13.97,13.81,14.1,15.49,11.64,13.21,13.32,11.47,7.1,5.06,5.23,6.77,8.71]]}],\"label\":\"TECHM\",\"method\":\"update\"},{\"args\":[{\"y\":[[null,6.22,9.65,14.46,9.27,10.08,11.08,12.19,16.14,11.14,13.62,27.5,9.8,11.64]]}],\"label\":\"TIINDIA\",\"method\":\"update\"},{\"args\":[{\"y\":[[null,1.46,0.48,0.12,-2.09,0.1,4.03,2.72,4.03,5.17,5.55,5.56,5.86,4.98]]}],\"label\":\"TITAGARH\",\"method\":\"update\"},{\"args\":[{\"y\":[[null,0.23,7.2,11.31,5.74,8.84,9.36,10.18,8.22,8.48,10.31,11.86,8.68,8.05]]}],\"label\":\"TITAN\",\"method\":\"update\"},{\"args\":[{\"y\":[[null,9.75,9.34,7.36,-3.49,10.46,9.22,8.63,8.48,11.17,11.41,13.09,13.27,13.5]]}],\"label\":\"TORNTPHARM\",\"method\":\"update\"},{\"args\":[{\"y\":[[null,-3.56,2.6,3.93,0.0,3.67,2.62,4.7,1.52,4.88,6.6,10.53,19.81,11.04]]}],\"label\":\"TRENT\",\"method\":\"update\"},{\"args\":[{\"y\":[[null,-0.22,5.1,5.21,5.84,6.43,8.13,6.33,7.07,9.14,8.13,10.08,8.15,9.7]]}],\"label\":\"TVSMOTOR\",\"method\":\"update\"},{\"args\":[{\"y\":[[null,1.17,3.04,3.43,6.18,6.13,5.07,-0.07,0.37,5.15,4.06,3.23,3.07,6.56]]}],\"label\":\"UBL\",\"method\":\"update\"},{\"args\":[{\"y\":[[null,0.76,4.02,4.12,2.5,3.66,7.61,2.95,1.41,6.56,4.66,4.81,3.31,6.67]]}],\"label\":\"UNITDSPR\",\"method\":\"update\"},{\"args\":[{\"y\":[[null,0.28,1.66,1.77,2.53,2.43,2.97,2.83,3.19,3.01,3.93,3.37,5.04,3.47]]}],\"label\":\"UNOMINDA\",\"method\":\"update\"},{\"args\":[{\"y\":[[null,2.37,1.85,0.13,1.96,6.06,2.93,0.58,3.3,7.65,3.86,1.02,4.13,9.64]]}],\"label\":\"VBL\",\"method\":\"update\"},{\"args\":[{\"y\":[[null,7.87,7.91,8.1,9.84,9.85,11.29,10.4,10.18,6.75,7.05,7.49,10.05,8.12]]}],\"label\":\"VINATIORGA\",\"method\":\"update\"},{\"args\":[{\"y\":[[null,3.65,2.2,5.27,3.65,4.16,2.84,6.19,4.48,3.79,2.01,6.49,4.77,2.57]]}],\"label\":\"MANYAVAR\",\"method\":\"update\"},{\"args\":[{\"y\":[[null,3.68,3.13,2.9,5.52,3.29,-0.22,-3.34,4.35,3.91,1.11,-0.92,3.52,10.1]]}],\"label\":\"VOLTAS\",\"method\":\"update\"},{\"args\":[{\"y\":[[null,-2.14,-0.28,1.34,0.98,1.51,2.02,2.33,1.29,1.85,1.43,1.11,0.05,0.21]]}],\"label\":\"WESTLIFE\",\"method\":\"update\"},{\"args\":[{\"y\":[[null,5.92,5.35,5.42,5.63,4.68,4.85,5.56,5.6,5.23,5.07,5.16,5.42,5.74]]}],\"label\":\"WIPRO\",\"method\":\"update\"},{\"args\":[{\"y\":[[null,10.01,12.44,12.71,11.69,16.99,19.61,9.18,13.76,12.97,10.23,11.88,15.74,-2.16]]}],\"label\":\"YASHO\",\"method\":\"update\"},{\"args\":[{\"y\":[[null,-0.14,-0.0,-0.02,0.42,0.94,0.71,1.19,2.54,5.6,1.82,3.64,4.16,9.14]]}],\"label\":\"ZENTEC\",\"method\":\"update\"}],\"direction\":\"down\",\"showactive\":true}]},                        {\"responsive\": true}                    ).then(function(){\n",
       "                            \n",
       "var gd = document.getElementById('7c2ca4dd-6a4b-4208-8848-21035b806870');\n",
       "var x = new MutationObserver(function (mutations, observer) {{\n",
       "        var display = window.getComputedStyle(gd).display;\n",
       "        if (!display || display === 'none') {{\n",
       "            console.log([gd, 'removed!']);\n",
       "            Plotly.purge(gd);\n",
       "            observer.disconnect();\n",
       "        }}\n",
       "}});\n",
       "\n",
       "// Listen for the removal of the full notebook cells\n",
       "var notebookContainer = gd.closest('#notebook-container');\n",
       "if (notebookContainer) {{\n",
       "    x.observe(notebookContainer, {childList: true});\n",
       "}}\n",
       "\n",
       "// Listen for the clearing of the current output cell\n",
       "var outputEl = gd.closest('.output');\n",
       "if (outputEl) {{\n",
       "    x.observe(outputEl, {childList: true});\n",
       "}}\n",
       "\n",
       "                        })                };                });            </script>        </div>"
      ]
     },
     "metadata": {},
     "output_type": "display_data"
    }
   ],
   "source": [
    "import plotly.graph_objects as go\n",
    "from plotly.subplots import make_subplots\n",
    "\n",
    "fig = go.Figure()\n",
    "fig = make_subplots(rows=1, cols=2)\n",
    "\n",
    "# add trace only for first stock\n",
    "x = df['Quarters']\n",
    "y1 = df['526433']\n",
    "y2 = df['526433']\n",
    "\n",
    "trace1 = go.Bar(x=x,y=y1)\n",
    "trace2 = go.Bar(x=x,y=y2)\n",
    "\n",
    "fig.add_traces(trace1,rows=1, cols=1)\n",
    "fig.add_traces(trace2,rows=1, cols=2)\n",
    "\n",
    "# create `list` with a `dict` for each column\n",
    "buttons = [{'method': 'update', 'label': col, 'args': [{'y': [df[col]]}]} \n",
    "           for col in df.iloc[:, 1:]]\n",
    "\n",
    "# add menus\n",
    "updatemenus = [{'buttons': buttons,\n",
    "                'direction': 'down',\n",
    "                'showactive': True,},\n",
    "              {'buttons': buttons,\n",
    "                'direction': 'down',\n",
    "                'showactive': True,}\n",
    "              ]\n",
    "\n",
    "# update layout with buttons, and show the figure\n",
    "fig.update_layout(updatemenus=updatemenus, xaxis=dict(tickangle=45))\n",
    "fig.show()\n"
   ]
  },
  {
   "cell_type": "code",
   "execution_count": null,
   "id": "08f69ee3-6e48-4ac6-8740-7a56b109937c",
   "metadata": {},
   "outputs": [],
   "source": [
    "\n",
    "# create `list` with a `dict` for each column\n",
    "buttons = [{'method': 'update', 'label': col, 'args': [{'y': [df[col]]}]} \n",
    "           for col in df.iloc[:, 1:]]\n",
    "\n",
    "# add menus\n",
    "updatemenus = [{'buttons': buttons,\n",
    "                'direction': 'down',\n",
    "                'showactive': True,}]\n",
    "\n",
    "# update layout with buttons, and show the figure\n",
    "fig.update_layout(updatemenus=updatemenus)\n",
    "fig.show()\n",
    "\n",
    "\n",
    "fig = make_subplots(rows=1, cols=2)\n",
    "fig.add_trace(trace1, row=1, col=1)\n",
    "fig.add_trace(trace2, row=1, col=2)\n",
    "\n",
    "fig.update_layout(xaxis=dict(tickangle=90))\n",
    "fig.show()"
   ]
  }
 ],
 "metadata": {
  "kernelspec": {
   "display_name": "rswarnka",
   "language": "python",
   "name": "rswarnka"
  },
  "language_info": {
   "codemirror_mode": {
    "name": "ipython",
    "version": 3
   },
   "file_extension": ".py",
   "mimetype": "text/x-python",
   "name": "python",
   "nbconvert_exporter": "python",
   "pygments_lexer": "ipython3",
   "version": "3.11.4"
  }
 },
 "nbformat": 4,
 "nbformat_minor": 5
}
