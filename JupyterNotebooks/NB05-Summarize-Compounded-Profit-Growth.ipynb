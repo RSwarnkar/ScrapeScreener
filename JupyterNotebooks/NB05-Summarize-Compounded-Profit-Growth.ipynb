{
 "cells": [
  {
   "cell_type": "markdown",
   "id": "1a058afb-05ca-4f5d-b5be-e73b9cbfb596",
   "metadata": {},
   "source": [
    "# Summerize Shareholding:"
   ]
  },
  {
   "cell_type": "markdown",
   "id": "87e57418-6cec-4850-bffe-15718ac9b834",
   "metadata": {},
   "source": [
    "#### Summerize: \n",
    "\n",
    "- For all stocks from RawReports folder, read specific Excels sheet into dataframe  \n",
    "- Add stock name column to df \n",
    "- Transform the df \n",
    "- Consolidate the df \n",
    "\n",
    "#### Analyze:\n",
    "\n",
    "- Compute something\n",
    "- Write the computed new data \n",
    "- Analyze or visualize the new data "
   ]
  },
  {
   "cell_type": "markdown",
   "id": "bfd32917-795b-43d8-a162-562659401f27",
   "metadata": {},
   "source": [
    "#### Summary Report File Name Convention: \n",
    "- Summary01-Top-Ratios \n",
    "- Summary02-Quarterly-Results\n",
    "- Summary03-Profit-And-Loss\n",
    "- Summary04-Compounded-Sales-Growth\n",
    "- Summary05-Compounded-Profit-Growth\n",
    "- Summary06-Stock-Price-CAGR \n",
    "- Summary07-Return-on-Equity\n",
    "- Summary08-Balance-Sheet\n",
    "- Summary09-Cash-Flows\n",
    "- Summary10-Ratios\n",
    "- Summary11-Shareholding-Pattern"
   ]
  },
  {
   "cell_type": "markdown",
   "id": "801105ea-3132-41ac-9d41-a12cc7a2fc56",
   "metadata": {},
   "source": [
    "## 1.1 Imports:"
   ]
  },
  {
   "cell_type": "code",
   "execution_count": 1,
   "id": "ea8f7429-7b5f-43ed-a27d-0dbba2b5937c",
   "metadata": {},
   "outputs": [],
   "source": [
    "import requests as rq\n",
    "import pandas as pd \n",
    "import time\n",
    "import datetime\n",
    "from bs4 import BeautifulSoup\n",
    "import re\n",
    "import os\n"
   ]
  },
  {
   "cell_type": "markdown",
   "id": "d3487d60-721a-4a22-a8b2-ac5a3b63149f",
   "metadata": {},
   "source": [
    "## 1.2 Define Inputs:"
   ]
  },
  {
   "cell_type": "markdown",
   "id": "995645f8-2ec8-42a8-8557-80d6808ea240",
   "metadata": {},
   "source": [
    ">  ⚠️ <span style=\"color:red\"> **Update the CSV File below to read as needed:**</span>"
   ]
  },
  {
   "cell_type": "code",
   "execution_count": 2,
   "id": "3df03c99-e31e-4baf-b578-41e40d2e140c",
   "metadata": {},
   "outputs": [],
   "source": [
    "## CAREFULLY UPDATE THIS. This should be same as what specified in RawReport notebook\n",
    "\n",
    "# For My Watchlisted stocks\n",
    "input_cvs_file = \"../Input/\" + \"stocks-watchlisted.csv\"\n",
    "# For PSU stocks\n",
    "input_cvs_file = \"../Input/\" + \"stocks-psu.csv\"\n",
    "\n",
    "input_cvs_file = \"../Input/\" + \"stocks-watchlisted.csv\"\n",
    "\n",
    "## UPDATE THIS. The folder is in  ../Output/RawReports/. This is where raw reports are read and summerized\n",
    "\n",
    "raw_report_folder_name     = \"20240817-132127\"\n"
   ]
  },
  {
   "cell_type": "code",
   "execution_count": 3,
   "id": "d1409029-7f7e-4ae9-9222-331f1f822297",
   "metadata": {},
   "outputs": [
    {
     "data": {
      "text/html": [
       "<div>\n",
       "<style scoped>\n",
       "    .dataframe tbody tr th:only-of-type {\n",
       "        vertical-align: middle;\n",
       "    }\n",
       "\n",
       "    .dataframe tbody tr th {\n",
       "        vertical-align: top;\n",
       "    }\n",
       "\n",
       "    .dataframe thead th {\n",
       "        text-align: right;\n",
       "    }\n",
       "</style>\n",
       "<table border=\"1\" class=\"dataframe\">\n",
       "  <thead>\n",
       "    <tr style=\"text-align: right;\">\n",
       "      <th></th>\n",
       "      <th>Screener Stock Symbol</th>\n",
       "      <th>Url Segment</th>\n",
       "    </tr>\n",
       "  </thead>\n",
       "  <tbody>\n",
       "    <tr>\n",
       "      <th>0</th>\n",
       "      <td>526433</td>\n",
       "      <td>consolidated</td>\n",
       "    </tr>\n",
       "    <tr>\n",
       "      <th>1</th>\n",
       "      <td>532407</td>\n",
       "      <td>consolidated</td>\n",
       "    </tr>\n",
       "    <tr>\n",
       "      <th>2</th>\n",
       "      <td>544021</td>\n",
       "      <td>consolidated</td>\n",
       "    </tr>\n",
       "    <tr>\n",
       "      <th>3</th>\n",
       "      <td>AARTIDRUGS</td>\n",
       "      <td>consolidated</td>\n",
       "    </tr>\n",
       "    <tr>\n",
       "      <th>4</th>\n",
       "      <td>AARTIIND</td>\n",
       "      <td>consolidated</td>\n",
       "    </tr>\n",
       "  </tbody>\n",
       "</table>\n",
       "</div>"
      ],
      "text/plain": [
       "  Screener Stock Symbol   Url Segment\n",
       "0                526433  consolidated\n",
       "1                532407  consolidated\n",
       "2                544021  consolidated\n",
       "3            AARTIDRUGS  consolidated\n",
       "4              AARTIIND  consolidated"
      ]
     },
     "execution_count": 3,
     "metadata": {},
     "output_type": "execute_result"
    }
   ],
   "source": [
    "raw_report_folder_path = \"../Output/RawReports/\" + raw_report_folder_name\n",
    "\n",
    "df = pd.read_csv(input_cvs_file)\n",
    "df.head(5)\n"
   ]
  },
  {
   "cell_type": "markdown",
   "id": "7dee687f-ca35-4608-b27a-465700fbd01d",
   "metadata": {},
   "source": [
    "## 1.3 Process reports:"
   ]
  },
  {
   "cell_type": "code",
   "execution_count": 4,
   "id": "f97614b4-bb08-4a36-aaa7-fcb6dea98165",
   "metadata": {},
   "outputs": [
    {
     "name": "stdout",
     "output_type": "stream",
     "text": [
      "Processing stock  526433\n",
      "Processing stock  532407\n",
      "Processing stock  544021\n",
      "Processing stock  AARTIDRUGS\n",
      "Processing stock  AARTIIND\n",
      "Processing stock  AARTIPHARM\n",
      "Processing stock  AARTISURF\n",
      "Processing stock  ABB\n",
      "Processing stock  ACC\n",
      "Processing stock  ADANIENT\n",
      "Processing stock  AFFLE\n",
      "Processing stock  ALKYLAMINE\n",
      "Processing stock  ANGELONE\n",
      "Processing stock  ARE&M\n",
      "Processing stock  ASAHIINDIA\n",
      "Processing stock  ASHOKLEY\n",
      "Processing stock  ASIANPAINT\n",
      "Processing stock  ASTRAL\n",
      "Processing stock  AXISBANK\n",
      "Processing stock  BAJAJ-AUTO\n",
      "Processing stock  BAJAJELEC\n",
      "Processing stock  BAJAJFINSV\n",
      "Processing stock  BAJFINANCE\n",
      "Processing stock  BALAMINES\n",
      "Processing stock  BATAINDIA\n",
      "Processing stock  BEL\n",
      "Processing stock  BERGEPAINT\n",
      "Processing stock  BHARTIARTL\n",
      "Processing stock  BOROLTD\n",
      "Processing stock  BRITANNIA\n",
      "Processing stock  BSE\n",
      "Processing stock  CAMS\n",
      "Processing stock  CAMPUS\n",
      "Processing stock  CDSL\n",
      "Processing stock  CENTUM\n",
      "Processing stock  CGPOWER\n",
      "Processing stock  COCHINSHIP\n",
      "Processing stock  COFORGE\n",
      "Processing stock  CONCOR\n",
      "Processing stock  CYIENT\n",
      "Processing stock  DABUR\n",
      "Processing stock  DEEPAKNTR\n",
      "Processing stock  DIVISLAB\n",
      "Processing stock  DIXON\n",
      "Processing stock  DMART\n",
      "Processing stock  DRREDDY\n",
      "Processing stock  EICHERMOT\n",
      "Processing stock  ETHOSLTD\n",
      "Processing stock  EXIDEIND\n",
      "Processing stock  FINEORG\n",
      "Processing stock  GMMPFAUDLR\n",
      "Processing stock  GODREJPROP\n",
      "Processing stock  GREENLAM\n",
      "Processing stock  GREENPANEL\n",
      "Processing stock  GRSE\n",
      "Processing stock  HAL\n",
      "Processing stock  HAPPSTMNDS\n",
      "Processing stock  HAVELLS\n",
      "Processing stock  HCLTECH\n",
      "Processing stock  HDFCAMC\n",
      "Processing stock  HDFCBANK\n",
      "Processing stock  HDFCLIFE\n",
      "Processing stock  HERITGFOOD\n",
      "Processing stock  HEROMOTOCO\n",
      "Processing stock  HINDUNILVR\n",
      "Processing stock  HLEGLAS\n",
      "Processing stock  HNDFDS\n",
      "Processing stock  ICICIBANK\n",
      "Processing stock  ICICIGI\n",
      "Processing stock  ICICIPRULI\n",
      "Processing stock  IDEAFORGE\n",
      "Processing stock  IDFCFIRSTB\n",
      "Processing stock  INDIGO\n",
      "Processing stock  INDIGOPNTS\n",
      "Processing stock  INFY\n",
      "Processing stock  IRCON\n",
      "Processing stock  IRCTC\n",
      "Processing stock  IREDA\n",
      "Processing stock  ITC\n",
      "Processing stock  JIOFIN\n",
      "Processing stock  JUBLFOOD\n",
      "Processing stock  KALYANKJIL\n",
      "Processing stock  KAYNES\n",
      "Processing stock  KEI\n",
      "Processing stock  KOTAKBANK\n",
      "Processing stock  KPIGREEN\n",
      "Processing stock  KPITTECH\n",
      "Processing stock  KSCL\n",
      "Processing stock  LALPATHLAB\n",
      "Processing stock  LATENTVIEW\n",
      "Processing stock  LT\n",
      "Processing stock  LTIM\n",
      "Processing stock  LTTS\n",
      "Processing stock  LXCHEM\n",
      "Processing stock  M&M\n",
      "Processing stock  MANKIND\n",
      "Processing stock  MAPMYINDIA\n",
      "Processing stock  MARICO\n",
      "Processing stock  MARUTI\n",
      "Processing stock  MAZDOCK\n",
      "Processing stock  METROBRAND\n",
      "Processing stock  MOLDTECH\n",
      "Processing stock  MOLDTKPAC\n",
      "Processing stock  MOTHERSON\n",
      "Processing stock  MTARTECH\n",
      "Processing stock  MUFTI\n",
      "Processing stock  MUTHOOTFIN\n",
      "Processing stock  NAUKRI\n",
      "Processing stock  NAVINFLUOR\n",
      "Processing stock  NAZARA\n",
      "Processing stock  NEOGEN\n",
      "Processing stock  NESTLEIND\n",
      "Processing stock  NETWEB\n",
      "Processing stock  PAGEIND\n",
      "Processing stock  PARAS\n",
      "Processing stock  PERSISTENT\n",
      "Processing stock  PIDILITIND\n",
      "Processing stock  PIIND\n",
      "Processing stock  POLYCAB\n",
      "Processing stock  PRINCEPIPE\n",
      "Processing stock  RAILTEL\n",
      "Processing stock  RAYMOND\n",
      "Processing stock  REDTAPE\n",
      "Processing stock  RELAXO\n",
      "Processing stock  RELIANCE\n",
      "Processing stock  ROSSARI\n",
      "Processing stock  ROUTE\n",
      "Processing stock  RVNL\n",
      "Processing stock  SBICARD\n",
      "Processing stock  SBIN\n",
      "Processing stock  SIEMENS\n",
      "Processing stock  SONACOMS\n",
      "Processing stock  SPICELEC\n",
      "Processing stock  SRF\n",
      "Processing stock  SUNPHARMA\n",
      "Processing stock  TATACONSUM\n",
      "Processing stock  TATAELXSI\n",
      "Processing stock  TATAINVEST\n",
      "Processing stock  TATAMOTORS\n",
      "Processing stock  TATAPOWER\n",
      "Processing stock  TATATECH\n",
      "Processing stock  TCS\n",
      "Processing stock  TECHM\n",
      "Processing stock  TIINDIA\n",
      "Processing stock  TITAGARH\n",
      "Processing stock  TITAN\n",
      "Processing stock  TORNTPHARM\n",
      "Processing stock  TRENT\n",
      "Processing stock  TVSMOTOR\n",
      "Processing stock  UBL\n",
      "Processing stock  UNITDSPR\n",
      "Processing stock  UNOMINDA\n",
      "Processing stock  VBL\n",
      "Processing stock  VINATIORGA\n",
      "Processing stock  MANYAVAR\n",
      "Processing stock  VOLTAS\n",
      "Processing stock  WESTLIFE\n",
      "Processing stock  WIPRO\n",
      "Processing stock  YASHO\n",
      "Processing stock  ZENTEC\n",
      "All done!\n"
     ]
    }
   ],
   "source": [
    "df_compounded_profit_growth = pd.DataFrame([])\n",
    "\n",
    "for index, row in df.iterrows():\n",
    "    stock_symbol = row[\"Screener Stock Symbol\"]\n",
    "    filepath = raw_report_folder_path + \"/\" + stock_symbol + \".xlsx\"\n",
    "    df_data =  pd.read_excel(filepath, sheet_name=\"Compounded Profit Growth\")\n",
    "    print(\"Processing stock \",stock_symbol)\n",
    "    # Add stockname column and move into 2nd position: \n",
    "    df_data['Stockname'] = stock_symbol\n",
    "    column_to_move = df_data.pop(\"Stockname\")\n",
    "    df_data.insert(1, \"Stockname\", column_to_move)\n",
    "    df_compounded_profit_growth = pd.concat([df_compounded_profit_growth, df_data], ignore_index=True, sort=False)\n",
    "    \n",
    "print(\"All done!\")    "
   ]
  },
  {
   "cell_type": "markdown",
   "id": "9c07151b-cc01-4c30-bad4-bd30cf60d666",
   "metadata": {},
   "source": [
    "## 1.5 Inspect dataframe:"
   ]
  },
  {
   "cell_type": "code",
   "execution_count": 5,
   "id": "5b4e8d1e-3690-43f8-b15f-4d8cd66ac2d9",
   "metadata": {},
   "outputs": [
    {
     "name": "stdout",
     "output_type": "stream",
     "text": [
      "640\n"
     ]
    }
   ],
   "source": [
    "print(len(df_compounded_profit_growth))"
   ]
  },
  {
   "cell_type": "code",
   "execution_count": 6,
   "id": "e0a31f95-d793-4889-aa34-72c9f3ac17c7",
   "metadata": {},
   "outputs": [
    {
     "data": {
      "text/html": [
       "<div>\n",
       "<style scoped>\n",
       "    .dataframe tbody tr th:only-of-type {\n",
       "        vertical-align: middle;\n",
       "    }\n",
       "\n",
       "    .dataframe tbody tr th {\n",
       "        vertical-align: top;\n",
       "    }\n",
       "\n",
       "    .dataframe thead th {\n",
       "        text-align: right;\n",
       "    }\n",
       "</style>\n",
       "<table border=\"1\" class=\"dataframe\">\n",
       "  <thead>\n",
       "    <tr style=\"text-align: right;\">\n",
       "      <th></th>\n",
       "      <th>Compounded Profit Growth</th>\n",
       "      <th>Stockname</th>\n",
       "      <th>Compounded Profit Growth.1</th>\n",
       "    </tr>\n",
       "  </thead>\n",
       "  <tbody>\n",
       "    <tr>\n",
       "      <th>count</th>\n",
       "      <td>640</td>\n",
       "      <td>640</td>\n",
       "      <td>640</td>\n",
       "    </tr>\n",
       "    <tr>\n",
       "      <th>unique</th>\n",
       "      <td>4</td>\n",
       "      <td>160</td>\n",
       "      <td>140</td>\n",
       "    </tr>\n",
       "    <tr>\n",
       "      <th>top</th>\n",
       "      <td>10 Years</td>\n",
       "      <td>526433</td>\n",
       "      <td>%</td>\n",
       "    </tr>\n",
       "    <tr>\n",
       "      <th>freq</th>\n",
       "      <td>160</td>\n",
       "      <td>4</td>\n",
       "      <td>85</td>\n",
       "    </tr>\n",
       "  </tbody>\n",
       "</table>\n",
       "</div>"
      ],
      "text/plain": [
       "       Compounded Profit Growth Stockname Compounded Profit Growth.1\n",
       "count                       640       640                        640\n",
       "unique                        4       160                        140\n",
       "top                    10 Years    526433                          %\n",
       "freq                        160         4                         85"
      ]
     },
     "execution_count": 6,
     "metadata": {},
     "output_type": "execute_result"
    }
   ],
   "source": [
    "df_compounded_profit_growth.describe()"
   ]
  },
  {
   "cell_type": "code",
   "execution_count": 7,
   "id": "8635c95b-02ea-4aca-8874-ad06cff03ba3",
   "metadata": {},
   "outputs": [
    {
     "data": {
      "text/plain": [
       "Index(['Compounded Profit Growth', 'Stockname', 'Compounded Profit Growth.1'], dtype='object')"
      ]
     },
     "execution_count": 7,
     "metadata": {},
     "output_type": "execute_result"
    }
   ],
   "source": [
    "df_compounded_profit_growth.columns"
   ]
  },
  {
   "cell_type": "markdown",
   "id": "a48cea78-3467-4c02-a838-39e9788da7e4",
   "metadata": {},
   "source": [
    "## 1.6 Sort column ordering:"
   ]
  },
  {
   "cell_type": "code",
   "execution_count": 8,
   "id": "62187dc8-f8cb-457d-98e5-b5b1983d6383",
   "metadata": {},
   "outputs": [],
   "source": [
    "date = '1970-01-01'\n",
    "df_compounded_profit_growth = df_compounded_profit_growth.sort_index(\n",
    "    axis=1, \n",
    "    key=lambda x: pd.to_datetime(x, errors='coerce', format='mixed').fillna(date)\n",
    ")"
   ]
  },
  {
   "cell_type": "code",
   "execution_count": 9,
   "id": "9c895741-dceb-4497-a463-1c963e30dabc",
   "metadata": {},
   "outputs": [
    {
     "data": {
      "text/plain": [
       "Index(['Compounded Profit Growth', 'Stockname', 'Compounded Profit Growth.1'], dtype='object')"
      ]
     },
     "execution_count": 9,
     "metadata": {},
     "output_type": "execute_result"
    }
   ],
   "source": [
    "df_compounded_profit_growth.columns"
   ]
  },
  {
   "cell_type": "code",
   "execution_count": 10,
   "id": "44d784ee-f422-4463-8d0d-41a299bd5ef2",
   "metadata": {},
   "outputs": [
    {
     "data": {
      "text/html": [
       "<div>\n",
       "<style scoped>\n",
       "    .dataframe tbody tr th:only-of-type {\n",
       "        vertical-align: middle;\n",
       "    }\n",
       "\n",
       "    .dataframe tbody tr th {\n",
       "        vertical-align: top;\n",
       "    }\n",
       "\n",
       "    .dataframe thead th {\n",
       "        text-align: right;\n",
       "    }\n",
       "</style>\n",
       "<table border=\"1\" class=\"dataframe\">\n",
       "  <thead>\n",
       "    <tr style=\"text-align: right;\">\n",
       "      <th></th>\n",
       "      <th>Compounded Profit Growth</th>\n",
       "      <th>Stockname</th>\n",
       "      <th>Compounded Profit Growth.1</th>\n",
       "    </tr>\n",
       "  </thead>\n",
       "  <tbody>\n",
       "    <tr>\n",
       "      <th>0</th>\n",
       "      <td>10 Years</td>\n",
       "      <td>526433</td>\n",
       "      <td>%</td>\n",
       "    </tr>\n",
       "    <tr>\n",
       "      <th>1</th>\n",
       "      <td>5 Years</td>\n",
       "      <td>526433</td>\n",
       "      <td>%</td>\n",
       "    </tr>\n",
       "    <tr>\n",
       "      <th>2</th>\n",
       "      <td>3 Years</td>\n",
       "      <td>526433</td>\n",
       "      <td>%</td>\n",
       "    </tr>\n",
       "    <tr>\n",
       "      <th>3</th>\n",
       "      <td>TTM</td>\n",
       "      <td>526433</td>\n",
       "      <td>-162%</td>\n",
       "    </tr>\n",
       "    <tr>\n",
       "      <th>4</th>\n",
       "      <td>10 Years</td>\n",
       "      <td>532407</td>\n",
       "      <td>12%</td>\n",
       "    </tr>\n",
       "  </tbody>\n",
       "</table>\n",
       "</div>"
      ],
      "text/plain": [
       "  Compounded Profit Growth Stockname Compounded Profit Growth.1\n",
       "0                 10 Years    526433                          %\n",
       "1                  5 Years    526433                          %\n",
       "2                  3 Years    526433                          %\n",
       "3                      TTM    526433                      -162%\n",
       "4                 10 Years    532407                        12%"
      ]
     },
     "execution_count": 10,
     "metadata": {},
     "output_type": "execute_result"
    }
   ],
   "source": [
    "df_compounded_profit_growth.head(5)"
   ]
  },
  {
   "cell_type": "markdown",
   "id": "ead37944-76e7-4111-b763-a689cf1b0f21",
   "metadata": {},
   "source": [
    "## 1.7 Save summary report:"
   ]
  },
  {
   "cell_type": "code",
   "execution_count": 11,
   "id": "63272804-6f8d-40a2-baa7-777789f128ae",
   "metadata": {},
   "outputs": [],
   "source": [
    "output_path = \"../Output/SummaryReports/\"+\"Summary05-Compounded-Profit-Growth-\"+datetime.datetime.now().strftime(\"%Y%m%d-%H%M%S\")+\".csv\"\n",
    "\n",
    "df_compounded_profit_growth.to_csv(output_path,index=False,sep=\",\")"
   ]
  },
  {
   "cell_type": "code",
   "execution_count": null,
   "id": "e4366d30-2df7-4a1a-9b56-644ac9a630f8",
   "metadata": {},
   "outputs": [],
   "source": []
  }
 ],
 "metadata": {
  "kernelspec": {
   "display_name": "rswarnka",
   "language": "python",
   "name": "rswarnka"
  },
  "language_info": {
   "codemirror_mode": {
    "name": "ipython",
    "version": 3
   },
   "file_extension": ".py",
   "mimetype": "text/x-python",
   "name": "python",
   "nbconvert_exporter": "python",
   "pygments_lexer": "ipython3",
   "version": "3.11.4"
  }
 },
 "nbformat": 4,
 "nbformat_minor": 5
}
