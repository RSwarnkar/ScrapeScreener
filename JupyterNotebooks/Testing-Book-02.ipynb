{
 "cells": [
  {
   "cell_type": "markdown",
   "id": "9473cd2e-f9b4-4cb6-99c3-4d652716306a",
   "metadata": {},
   "source": [
    "# Testing Book: "
   ]
  },
  {
   "cell_type": "markdown",
   "id": "f5b8f1bf-58a5-4922-8b83-677d968de274",
   "metadata": {},
   "source": [
    "## Scraping List Items: "
   ]
  },
  {
   "cell_type": "code",
   "execution_count": 6,
   "id": "af4286aa-25d2-4535-958f-f13252cb39b7",
   "metadata": {},
   "outputs": [],
   "source": [
    "import requests as rq\n",
    "import pandas as pd \n",
    "from bs4 import BeautifulSoup\n",
    "import re\n"
   ]
  },
  {
   "cell_type": "code",
   "execution_count": 7,
   "id": "6c823328-403d-4136-92fb-33db88c16e55",
   "metadata": {},
   "outputs": [
    {
     "name": "stdout",
     "output_type": "stream",
     "text": [
      " Market Cap ₹ 3,22,783 Cr. \n",
      " Current Price ₹ 4,960 \n",
      " High / Low ₹ 5,220 / 3,500 \n",
      " Stock P/E 122 \n",
      " Book Value ₹ 287 \n",
      " Dividend Yield 0.00 % \n",
      " ROCE 19.4 % \n",
      " ROE 14.5 % \n",
      " Face Value ₹ 10.0 \n"
     ]
    }
   ],
   "source": [
    "stock_symbol = \"DMART\"\n",
    "url = \"https://www.screener.in/company/\"+stock_symbol+\"/consolidated/\"\n",
    "\n",
    "response = rq.get(url)\n",
    "# Parse the HTML content\n",
    "soup = BeautifulSoup(response.content, \"html.parser\")\n",
    "# Find the unordered list\n",
    "ul = soup.find(\"ul#top-ratios\")  # You might need to use a more specific selector like ul.my-list\n",
    "for ul in soup.findAll('ul', id='top-ratios'):\n",
    "    for li in ul.findAll('li'):\n",
    "        li_parsed_text = li.text\n",
    "        print(re.sub('[\\s ]+', ' ', li_parsed_text))\n",
    "        #print(li_parsed_text)"
   ]
  },
  {
   "cell_type": "code",
   "execution_count": null,
   "id": "6fb711d4-7099-4536-8eac-8c0444efc089",
   "metadata": {},
   "outputs": [],
   "source": []
  }
 ],
 "metadata": {
  "kernelspec": {
   "display_name": "rswarnka",
   "language": "python",
   "name": "rswarnka"
  },
  "language_info": {
   "codemirror_mode": {
    "name": "ipython",
    "version": 3
   },
   "file_extension": ".py",
   "mimetype": "text/x-python",
   "name": "python",
   "nbconvert_exporter": "python",
   "pygments_lexer": "ipython3",
   "version": "3.11.4"
  }
 },
 "nbformat": 4,
 "nbformat_minor": 5
}
