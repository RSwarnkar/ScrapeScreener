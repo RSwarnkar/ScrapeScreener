{
 "cells": [
  {
   "cell_type": "markdown",
   "id": "1a058afb-05ca-4f5d-b5be-e73b9cbfb596",
   "metadata": {},
   "source": [
    "# Summerize Shareholding:"
   ]
  },
  {
   "cell_type": "markdown",
   "id": "87e57418-6cec-4850-bffe-15718ac9b834",
   "metadata": {},
   "source": [
    "#### Summerize: \n",
    "\n",
    "- For all stocks from RawReports folder, read specific Excels sheet into dataframe  \n",
    "- Add stock name column to df \n",
    "- Transform the df \n",
    "- Consolidate the df \n",
    "\n",
    "#### Analyze:\n",
    "\n",
    "- Compute something\n",
    "- Write the computed new data \n",
    "- Analyze or visualize the new data "
   ]
  },
  {
   "cell_type": "markdown",
   "id": "bfd32917-795b-43d8-a162-562659401f27",
   "metadata": {},
   "source": [
    "#### Summary Report File Name Convention: \n",
    "- Summary01-Top-Ratios \n",
    "- Summary02-Quarterly-Results\n",
    "- Summary03-Profit-And-Loss\n",
    "- Summary04-Compounded-Sales-Growth\n",
    "- Summary05-Compounded-Profit-Growth\n",
    "- Summary06-Stock-Price-CAGR \n",
    "- Summary07-Return-on-Equity\n",
    "- Summary08-Balance-Sheet\n",
    "- Summary09-Cash-Flows\n",
    "- Summary10-Ratios\n",
    "- Summary11-Shareholding-Pattern"
   ]
  },
  {
   "cell_type": "markdown",
   "id": "801105ea-3132-41ac-9d41-a12cc7a2fc56",
   "metadata": {},
   "source": [
    "## 1.1 Imports:"
   ]
  },
  {
   "cell_type": "code",
   "execution_count": 1,
   "id": "ea8f7429-7b5f-43ed-a27d-0dbba2b5937c",
   "metadata": {},
   "outputs": [],
   "source": [
    "import requests as rq\n",
    "import pandas as pd \n",
    "import time\n",
    "import datetime\n",
    "from bs4 import BeautifulSoup\n",
    "import re\n",
    "import os\n"
   ]
  },
  {
   "cell_type": "markdown",
   "id": "d3487d60-721a-4a22-a8b2-ac5a3b63149f",
   "metadata": {},
   "source": [
    "## 1.2 Define Inputs:"
   ]
  },
  {
   "cell_type": "markdown",
   "id": "995645f8-2ec8-42a8-8557-80d6808ea240",
   "metadata": {},
   "source": [
    ">  ⚠️ <span style=\"color:red\"> **Update the CSV File below to read as needed:**</span>"
   ]
  },
  {
   "cell_type": "code",
   "execution_count": 2,
   "id": "3df03c99-e31e-4baf-b578-41e40d2e140c",
   "metadata": {},
   "outputs": [],
   "source": [
    "## CAREFULLY UPDATE THIS. This should be same as what specified in RawReport notebook\n",
    "\n",
    "# For My Watchlisted stocks\n",
    "input_cvs_file = \"../Input/\" + \"stocks-watchlisted.csv\"\n",
    "# For PSU stocks\n",
    "input_cvs_file = \"../Input/\" + \"stocks-psu.csv\"\n",
    "\n",
    "input_cvs_file = \"../Input/\" + \"stocks-psu.csv\"\n",
    "\n",
    "## UPDATE THIS. The folder is in  ../Output/RawReports/. This is where raw reports are read and summerized\n",
    "\n",
    "raw_report_folder_name     = \"20240816-085421\"\n"
   ]
  },
  {
   "cell_type": "code",
   "execution_count": 3,
   "id": "d1409029-7f7e-4ae9-9222-331f1f822297",
   "metadata": {},
   "outputs": [
    {
     "data": {
      "text/html": [
       "<div>\n",
       "<style scoped>\n",
       "    .dataframe tbody tr th:only-of-type {\n",
       "        vertical-align: middle;\n",
       "    }\n",
       "\n",
       "    .dataframe tbody tr th {\n",
       "        vertical-align: top;\n",
       "    }\n",
       "\n",
       "    .dataframe thead th {\n",
       "        text-align: right;\n",
       "    }\n",
       "</style>\n",
       "<table border=\"1\" class=\"dataframe\">\n",
       "  <thead>\n",
       "    <tr style=\"text-align: right;\">\n",
       "      <th></th>\n",
       "      <th>Screener Stock Symbol</th>\n",
       "      <th>Url Segment</th>\n",
       "    </tr>\n",
       "  </thead>\n",
       "  <tbody>\n",
       "    <tr>\n",
       "      <th>0</th>\n",
       "      <td>BANKBARODA</td>\n",
       "      <td>Consolidated</td>\n",
       "    </tr>\n",
       "    <tr>\n",
       "      <th>1</th>\n",
       "      <td>BANKINDIA</td>\n",
       "      <td>Consolidated</td>\n",
       "    </tr>\n",
       "    <tr>\n",
       "      <th>2</th>\n",
       "      <td>BDL</td>\n",
       "      <td>Null</td>\n",
       "    </tr>\n",
       "    <tr>\n",
       "      <th>3</th>\n",
       "      <td>BEL</td>\n",
       "      <td>Consolidated</td>\n",
       "    </tr>\n",
       "    <tr>\n",
       "      <th>4</th>\n",
       "      <td>BHEL</td>\n",
       "      <td>Consolidated</td>\n",
       "    </tr>\n",
       "  </tbody>\n",
       "</table>\n",
       "</div>"
      ],
      "text/plain": [
       "  Screener Stock Symbol   Url Segment\n",
       "0            BANKBARODA  Consolidated\n",
       "1             BANKINDIA  Consolidated\n",
       "2                   BDL          Null\n",
       "3                   BEL  Consolidated\n",
       "4                  BHEL  Consolidated"
      ]
     },
     "execution_count": 3,
     "metadata": {},
     "output_type": "execute_result"
    }
   ],
   "source": [
    "raw_report_folder_path = \"../Output/RawReports/\" + raw_report_folder_name\n",
    "\n",
    "df = pd.read_csv(input_cvs_file)\n",
    "df.head(5)\n"
   ]
  },
  {
   "cell_type": "markdown",
   "id": "7dee687f-ca35-4608-b27a-465700fbd01d",
   "metadata": {},
   "source": [
    "## 1.3 Process reports:"
   ]
  },
  {
   "cell_type": "code",
   "execution_count": 4,
   "id": "f97614b4-bb08-4a36-aaa7-fcb6dea98165",
   "metadata": {},
   "outputs": [
    {
     "name": "stdout",
     "output_type": "stream",
     "text": [
      "Processing stock  BANKBARODA\n",
      "Processing stock  BANKINDIA\n",
      "Processing stock  BDL\n",
      "Processing stock  BEL\n",
      "Processing stock  BHEL\n",
      "Processing stock  BPCL\n",
      "Processing stock  CANBK\n",
      "Processing stock  CENTRALBK\n",
      "Processing stock  COALINDIA\n",
      "Processing stock  COCHINSHIP\n",
      "Processing stock  CONCOR\n",
      "Processing stock  ENGINERSIN\n",
      "Processing stock  GAIL\n",
      "Processing stock  GICRE\n",
      "Processing stock  GUJGASLTD\n",
      "Processing stock  HAL\n",
      "Processing stock  HINDCOPPER\n",
      "Processing stock  HINDPETRO\n",
      "Processing stock  HUDCO\n",
      "Processing stock  INDIANB\n",
      "Processing stock  IOB\n",
      "Processing stock  IOC\n",
      "Processing stock  IRCON\n",
      "Processing stock  IRCTC\n",
      "Processing stock  IRFC\n",
      "Processing stock  ITI\n",
      "Processing stock  KIOCL\n",
      "Processing stock  LICI\n",
      "Processing stock  MAHABANK\n",
      "Processing stock  MAZDOCK\n",
      "Processing stock  MIDHANI\n",
      "Processing stock  MMTC\n",
      "Processing stock  MRPL\n",
      "Processing stock  NATIONALUM\n",
      "Processing stock  NBCC\n",
      "Processing stock  NHPC\n",
      "Processing stock  NIACL\n",
      "Processing stock  NLCINDIA\n",
      "Processing stock  NMDC\n",
      "Processing stock  NTPC\n",
      "Processing stock  OIL\n",
      "Processing stock  ONGC\n",
      "Processing stock  PFC\n",
      "Processing stock  PNB\n",
      "Processing stock  POWERGRID\n",
      "Processing stock  PSB\n",
      "Processing stock  RCF\n",
      "Processing stock  RECLTD\n",
      "Processing stock  RITES\n",
      "Processing stock  RVNL\n",
      "Processing stock  SAIL\n",
      "Processing stock  SBIN\n",
      "Processing stock  SCI\n",
      "Processing stock  SJVN\n",
      "Processing stock  UCOBANK\n",
      "Processing stock  UNIONBANK\n",
      "All done!\n"
     ]
    }
   ],
   "source": [
    "df_shareholding_pattern = pd.DataFrame([])\n",
    "\n",
    "for index, row in df.iterrows():\n",
    "    stock_symbol = row[\"Screener Stock Symbol\"]\n",
    "    filepath = raw_report_folder_path + \"/\" + stock_symbol + \".xlsx\"\n",
    "    df_data =  pd.read_excel(filepath, sheet_name=\"Shareholding Pattern\")\n",
    "    print(\"Processing stock \",stock_symbol)\n",
    "    # Add stockname column and move into 2nd position: \n",
    "    df_data['Stockname'] = stock_symbol\n",
    "    column_to_move = df_data.pop(\"Stockname\")\n",
    "    df_data.insert(1, \"Stockname\", column_to_move)\n",
    "    df_shareholding_pattern = pd.concat([df_shareholding_pattern, df_data], ignore_index=True, sort=False)\n",
    "    \n",
    "print(\"All done!\")    "
   ]
  },
  {
   "cell_type": "markdown",
   "id": "9c07151b-cc01-4c30-bad4-bd30cf60d666",
   "metadata": {},
   "source": [
    "## 1.5 Inspect dataframe:"
   ]
  },
  {
   "cell_type": "code",
   "execution_count": 5,
   "id": "5b4e8d1e-3690-43f8-b15f-4d8cd66ac2d9",
   "metadata": {},
   "outputs": [
    {
     "name": "stdout",
     "output_type": "stream",
     "text": [
      "302\n"
     ]
    }
   ],
   "source": [
    "print(len(df_shareholding_pattern))"
   ]
  },
  {
   "cell_type": "code",
   "execution_count": 6,
   "id": "e0a31f95-d793-4889-aa34-72c9f3ac17c7",
   "metadata": {},
   "outputs": [
    {
     "data": {
      "text/html": [
       "<div>\n",
       "<style scoped>\n",
       "    .dataframe tbody tr th:only-of-type {\n",
       "        vertical-align: middle;\n",
       "    }\n",
       "\n",
       "    .dataframe tbody tr th {\n",
       "        vertical-align: top;\n",
       "    }\n",
       "\n",
       "    .dataframe thead th {\n",
       "        text-align: right;\n",
       "    }\n",
       "</style>\n",
       "<table border=\"1\" class=\"dataframe\">\n",
       "  <thead>\n",
       "    <tr style=\"text-align: right;\">\n",
       "      <th></th>\n",
       "      <th>Shareholding Pattern</th>\n",
       "      <th>Stockname</th>\n",
       "      <th>Sep 2021</th>\n",
       "      <th>Dec 2021</th>\n",
       "      <th>Mar 2022</th>\n",
       "      <th>Jun 2022</th>\n",
       "      <th>Sep 2022</th>\n",
       "      <th>Dec 2022</th>\n",
       "      <th>Mar 2023</th>\n",
       "      <th>Jun 2023</th>\n",
       "      <th>Sep 2023</th>\n",
       "      <th>Dec 2023</th>\n",
       "      <th>Mar 2024</th>\n",
       "      <th>Jun 2024</th>\n",
       "      <th>Jul 2024</th>\n",
       "    </tr>\n",
       "  </thead>\n",
       "  <tbody>\n",
       "    <tr>\n",
       "      <th>count</th>\n",
       "      <td>302</td>\n",
       "      <td>302</td>\n",
       "      <td>291</td>\n",
       "      <td>297</td>\n",
       "      <td>297</td>\n",
       "      <td>302</td>\n",
       "      <td>302</td>\n",
       "      <td>302</td>\n",
       "      <td>302</td>\n",
       "      <td>302</td>\n",
       "      <td>302</td>\n",
       "      <td>302</td>\n",
       "      <td>302</td>\n",
       "      <td>302</td>\n",
       "      <td>6</td>\n",
       "    </tr>\n",
       "    <tr>\n",
       "      <th>unique</th>\n",
       "      <td>7</td>\n",
       "      <td>56</td>\n",
       "      <td>267</td>\n",
       "      <td>272</td>\n",
       "      <td>275</td>\n",
       "      <td>282</td>\n",
       "      <td>285</td>\n",
       "      <td>286</td>\n",
       "      <td>279</td>\n",
       "      <td>283</td>\n",
       "      <td>286</td>\n",
       "      <td>283</td>\n",
       "      <td>283</td>\n",
       "      <td>279</td>\n",
       "      <td>6</td>\n",
       "    </tr>\n",
       "    <tr>\n",
       "      <th>top</th>\n",
       "      <td>Promoters</td>\n",
       "      <td>BPCL</td>\n",
       "      <td>0.00%</td>\n",
       "      <td>0.00%</td>\n",
       "      <td>0.00%</td>\n",
       "      <td>0.00%</td>\n",
       "      <td>0.00%</td>\n",
       "      <td>0.00%</td>\n",
       "      <td>0.00%</td>\n",
       "      <td>0.00%</td>\n",
       "      <td>0.00%</td>\n",
       "      <td>0.00%</td>\n",
       "      <td>0.00%</td>\n",
       "      <td>0.00%</td>\n",
       "      <td>56.66%</td>\n",
       "    </tr>\n",
       "    <tr>\n",
       "      <th>freq</th>\n",
       "      <td>56</td>\n",
       "      <td>7</td>\n",
       "      <td>11</td>\n",
       "      <td>12</td>\n",
       "      <td>14</td>\n",
       "      <td>13</td>\n",
       "      <td>8</td>\n",
       "      <td>7</td>\n",
       "      <td>6</td>\n",
       "      <td>7</td>\n",
       "      <td>5</td>\n",
       "      <td>6</td>\n",
       "      <td>4</td>\n",
       "      <td>6</td>\n",
       "      <td>1</td>\n",
       "    </tr>\n",
       "  </tbody>\n",
       "</table>\n",
       "</div>"
      ],
      "text/plain": [
       "       Shareholding Pattern Stockname Sep 2021 Dec 2021 Mar 2022 Jun 2022  \\\n",
       "count                   302       302      291      297      297      302   \n",
       "unique                    7        56      267      272      275      282   \n",
       "top               Promoters      BPCL    0.00%    0.00%    0.00%    0.00%   \n",
       "freq                     56         7       11       12       14       13   \n",
       "\n",
       "       Sep 2022 Dec 2022 Mar 2023 Jun 2023 Sep 2023 Dec 2023 Mar 2024  \\\n",
       "count       302      302      302      302      302      302      302   \n",
       "unique      285      286      279      283      286      283      283   \n",
       "top       0.00%    0.00%    0.00%    0.00%    0.00%    0.00%    0.00%   \n",
       "freq          8        7        6        7        5        6        4   \n",
       "\n",
       "       Jun 2024 Jul 2024  \n",
       "count       302        6  \n",
       "unique      279        6  \n",
       "top       0.00%   56.66%  \n",
       "freq          6        1  "
      ]
     },
     "execution_count": 6,
     "metadata": {},
     "output_type": "execute_result"
    }
   ],
   "source": [
    "df_shareholding_pattern.describe()"
   ]
  },
  {
   "cell_type": "code",
   "execution_count": 7,
   "id": "8635c95b-02ea-4aca-8874-ad06cff03ba3",
   "metadata": {},
   "outputs": [
    {
     "data": {
      "text/plain": [
       "Index(['Shareholding Pattern', 'Stockname', 'Sep 2021', 'Dec 2021', 'Mar 2022',\n",
       "       'Jun 2022', 'Sep 2022', 'Dec 2022', 'Mar 2023', 'Jun 2023', 'Sep 2023',\n",
       "       'Dec 2023', 'Mar 2024', 'Jun 2024', 'Jul 2024'],\n",
       "      dtype='object')"
      ]
     },
     "execution_count": 7,
     "metadata": {},
     "output_type": "execute_result"
    }
   ],
   "source": [
    "df_shareholding_pattern.columns"
   ]
  },
  {
   "cell_type": "markdown",
   "id": "a48cea78-3467-4c02-a838-39e9788da7e4",
   "metadata": {},
   "source": [
    "## 1.6 Sort column ordering:"
   ]
  },
  {
   "cell_type": "code",
   "execution_count": 8,
   "id": "62187dc8-f8cb-457d-98e5-b5b1983d6383",
   "metadata": {},
   "outputs": [],
   "source": [
    "date = '1970-01-01'\n",
    "df_shareholding_pattern = df_shareholding_pattern.sort_index(\n",
    "    axis=1, \n",
    "    key=lambda x: pd.to_datetime(x, errors='coerce', format='mixed').fillna(date)\n",
    ")"
   ]
  },
  {
   "cell_type": "code",
   "execution_count": 9,
   "id": "9c895741-dceb-4497-a463-1c963e30dabc",
   "metadata": {},
   "outputs": [
    {
     "data": {
      "text/plain": [
       "Index(['Shareholding Pattern', 'Stockname', 'Sep 2021', 'Dec 2021', 'Mar 2022',\n",
       "       'Jun 2022', 'Sep 2022', 'Dec 2022', 'Mar 2023', 'Jun 2023', 'Sep 2023',\n",
       "       'Dec 2023', 'Mar 2024', 'Jun 2024', 'Jul 2024'],\n",
       "      dtype='object')"
      ]
     },
     "execution_count": 9,
     "metadata": {},
     "output_type": "execute_result"
    }
   ],
   "source": [
    "df_shareholding_pattern.columns"
   ]
  },
  {
   "cell_type": "code",
   "execution_count": 10,
   "id": "44d784ee-f422-4463-8d0d-41a299bd5ef2",
   "metadata": {},
   "outputs": [
    {
     "data": {
      "text/html": [
       "<div>\n",
       "<style scoped>\n",
       "    .dataframe tbody tr th:only-of-type {\n",
       "        vertical-align: middle;\n",
       "    }\n",
       "\n",
       "    .dataframe tbody tr th {\n",
       "        vertical-align: top;\n",
       "    }\n",
       "\n",
       "    .dataframe thead th {\n",
       "        text-align: right;\n",
       "    }\n",
       "</style>\n",
       "<table border=\"1\" class=\"dataframe\">\n",
       "  <thead>\n",
       "    <tr style=\"text-align: right;\">\n",
       "      <th></th>\n",
       "      <th>Shareholding Pattern</th>\n",
       "      <th>Stockname</th>\n",
       "      <th>Sep 2021</th>\n",
       "      <th>Dec 2021</th>\n",
       "      <th>Mar 2022</th>\n",
       "      <th>Jun 2022</th>\n",
       "      <th>Sep 2022</th>\n",
       "      <th>Dec 2022</th>\n",
       "      <th>Mar 2023</th>\n",
       "      <th>Jun 2023</th>\n",
       "      <th>Sep 2023</th>\n",
       "      <th>Dec 2023</th>\n",
       "      <th>Mar 2024</th>\n",
       "      <th>Jun 2024</th>\n",
       "      <th>Jul 2024</th>\n",
       "    </tr>\n",
       "  </thead>\n",
       "  <tbody>\n",
       "    <tr>\n",
       "      <th>0</th>\n",
       "      <td>Promoters</td>\n",
       "      <td>BANKBARODA</td>\n",
       "      <td>63.97%</td>\n",
       "      <td>63.97%</td>\n",
       "      <td>63.97%</td>\n",
       "      <td>63.97%</td>\n",
       "      <td>63.97%</td>\n",
       "      <td>63.97%</td>\n",
       "      <td>63.97%</td>\n",
       "      <td>63.97%</td>\n",
       "      <td>63.97%</td>\n",
       "      <td>63.97%</td>\n",
       "      <td>63.97%</td>\n",
       "      <td>63.97%</td>\n",
       "      <td>NaN</td>\n",
       "    </tr>\n",
       "    <tr>\n",
       "      <th>1</th>\n",
       "      <td>FIIs</td>\n",
       "      <td>BANKBARODA</td>\n",
       "      <td>7.82%</td>\n",
       "      <td>7.37%</td>\n",
       "      <td>9.14%</td>\n",
       "      <td>8.23%</td>\n",
       "      <td>8.93%</td>\n",
       "      <td>9.97%</td>\n",
       "      <td>10.93%</td>\n",
       "      <td>12.29%</td>\n",
       "      <td>12.39%</td>\n",
       "      <td>12.27%</td>\n",
       "      <td>12.40%</td>\n",
       "      <td>11.45%</td>\n",
       "      <td>NaN</td>\n",
       "    </tr>\n",
       "    <tr>\n",
       "      <th>2</th>\n",
       "      <td>DIIs</td>\n",
       "      <td>BANKBARODA</td>\n",
       "      <td>14.70%</td>\n",
       "      <td>14.65%</td>\n",
       "      <td>15.08%</td>\n",
       "      <td>16.85%</td>\n",
       "      <td>18.64%</td>\n",
       "      <td>17.69%</td>\n",
       "      <td>16.74%</td>\n",
       "      <td>15.77%</td>\n",
       "      <td>15.74%</td>\n",
       "      <td>15.75%</td>\n",
       "      <td>16.04%</td>\n",
       "      <td>15.77%</td>\n",
       "      <td>NaN</td>\n",
       "    </tr>\n",
       "    <tr>\n",
       "      <th>3</th>\n",
       "      <td>Government</td>\n",
       "      <td>BANKBARODA</td>\n",
       "      <td>0.00%</td>\n",
       "      <td>0.00%</td>\n",
       "      <td>0.00%</td>\n",
       "      <td>0.00%</td>\n",
       "      <td>0.26%</td>\n",
       "      <td>0.26%</td>\n",
       "      <td>0.26%</td>\n",
       "      <td>0.26%</td>\n",
       "      <td>0.26%</td>\n",
       "      <td>0.26%</td>\n",
       "      <td>0.26%</td>\n",
       "      <td>0.26%</td>\n",
       "      <td>NaN</td>\n",
       "    </tr>\n",
       "    <tr>\n",
       "      <th>4</th>\n",
       "      <td>Public</td>\n",
       "      <td>BANKBARODA</td>\n",
       "      <td>13.50%</td>\n",
       "      <td>14.00%</td>\n",
       "      <td>11.81%</td>\n",
       "      <td>10.95%</td>\n",
       "      <td>8.21%</td>\n",
       "      <td>8.12%</td>\n",
       "      <td>8.10%</td>\n",
       "      <td>7.70%</td>\n",
       "      <td>7.64%</td>\n",
       "      <td>7.76%</td>\n",
       "      <td>7.32%</td>\n",
       "      <td>8.55%</td>\n",
       "      <td>NaN</td>\n",
       "    </tr>\n",
       "  </tbody>\n",
       "</table>\n",
       "</div>"
      ],
      "text/plain": [
       "  Shareholding Pattern   Stockname Sep 2021 Dec 2021 Mar 2022 Jun 2022  \\\n",
       "0            Promoters  BANKBARODA   63.97%   63.97%   63.97%   63.97%   \n",
       "1                 FIIs  BANKBARODA    7.82%    7.37%    9.14%    8.23%   \n",
       "2                 DIIs  BANKBARODA   14.70%   14.65%   15.08%   16.85%   \n",
       "3           Government  BANKBARODA    0.00%    0.00%    0.00%    0.00%   \n",
       "4               Public  BANKBARODA   13.50%   14.00%   11.81%   10.95%   \n",
       "\n",
       "  Sep 2022 Dec 2022 Mar 2023 Jun 2023 Sep 2023 Dec 2023 Mar 2024 Jun 2024  \\\n",
       "0   63.97%   63.97%   63.97%   63.97%   63.97%   63.97%   63.97%   63.97%   \n",
       "1    8.93%    9.97%   10.93%   12.29%   12.39%   12.27%   12.40%   11.45%   \n",
       "2   18.64%   17.69%   16.74%   15.77%   15.74%   15.75%   16.04%   15.77%   \n",
       "3    0.26%    0.26%    0.26%    0.26%    0.26%    0.26%    0.26%    0.26%   \n",
       "4    8.21%    8.12%    8.10%    7.70%    7.64%    7.76%    7.32%    8.55%   \n",
       "\n",
       "  Jul 2024  \n",
       "0      NaN  \n",
       "1      NaN  \n",
       "2      NaN  \n",
       "3      NaN  \n",
       "4      NaN  "
      ]
     },
     "execution_count": 10,
     "metadata": {},
     "output_type": "execute_result"
    }
   ],
   "source": [
    "df_shareholding_pattern.head(5)"
   ]
  },
  {
   "cell_type": "markdown",
   "id": "ead37944-76e7-4111-b763-a689cf1b0f21",
   "metadata": {},
   "source": [
    "## 1.7 Save summary report:"
   ]
  },
  {
   "cell_type": "code",
   "execution_count": 12,
   "id": "63272804-6f8d-40a2-baa7-777789f128ae",
   "metadata": {},
   "outputs": [],
   "source": [
    "output_path = \"../Output/SummaryReports/\"+\"Summary11-Shareholding-Pattern-\"+datetime.datetime.now().strftime(\"%Y%m%d-%H%M%S\")+\".csv\"\n",
    "\n",
    "df_shareholding_pattern.to_csv(output_path,index=False,sep=\",\")"
   ]
  },
  {
   "cell_type": "code",
   "execution_count": null,
   "id": "e4366d30-2df7-4a1a-9b56-644ac9a630f8",
   "metadata": {},
   "outputs": [],
   "source": []
  }
 ],
 "metadata": {
  "kernelspec": {
   "display_name": "rswarnka",
   "language": "python",
   "name": "rswarnka"
  },
  "language_info": {
   "codemirror_mode": {
    "name": "ipython",
    "version": 3
   },
   "file_extension": ".py",
   "mimetype": "text/x-python",
   "name": "python",
   "nbconvert_exporter": "python",
   "pygments_lexer": "ipython3",
   "version": "3.11.4"
  }
 },
 "nbformat": 4,
 "nbformat_minor": 5
}
