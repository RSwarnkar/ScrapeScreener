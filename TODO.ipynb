{
 "cells": [
  {
   "cell_type": "markdown",
   "id": "9473cd2e-f9b4-4cb6-99c3-4d652716306a",
   "metadata": {},
   "source": [
    "# TO DO:"
   ]
  },
  {
   "cell_type": "markdown",
   "id": "f5b8f1bf-58a5-4922-8b83-677d968de274",
   "metadata": {},
   "source": [
    "* Prepare a list of consumption stocks by refering to some thematic mutual fund and analyze it\n",
    "* Filter or identify the stocks which do not have any earning growth for last 3 years (2021) but the public shareholding have increased \r\n",
    "and thestock price  isdoubled or tripled (Stock price CAGR for last 3 year is >=33%) "
   ]
  },
  {
   "cell_type": "code",
   "execution_count": 2,
   "id": "6fb711d4-7099-4536-8eac-8c0444efc089",
   "metadata": {},
   "outputs": [],
   "source": [
    "# https://stackoverflow.com/a/59869358/1176573 "
   ]
  },
  {
   "cell_type": "markdown",
   "id": "9d407726-0892-495a-9b31-a4a990a24bdc",
   "metadata": {},
   "source": [
    "Refer to this book for ploting important ratios: \n",
    "                  \n",
    "https://www.amazon.in/Financial-Ratios-Executives-Strength-Decisions/dp/1484207327\n",
    "\n"
   ]
  },
  {
   "cell_type": "code",
   "execution_count": 1,
   "id": "95ec896e-c05b-4346-9416-0574aea40766",
   "metadata": {},
   "outputs": [],
   "source": [
    "# Create Dupont analysis dashboard by refering to Thoughtful investor \n"
   ]
  },
  {
   "cell_type": "code",
   "execution_count": null,
   "id": "cec85c00-e28a-401f-b870-1937f59bd4eb",
   "metadata": {},
   "outputs": [],
   "source": []
  }
 ],
 "metadata": {
  "kernelspec": {
   "display_name": "rswarnka",
   "language": "python",
   "name": "rswarnka"
  },
  "language_info": {
   "codemirror_mode": {
    "name": "ipython",
    "version": 3
   },
   "file_extension": ".py",
   "mimetype": "text/x-python",
   "name": "python",
   "nbconvert_exporter": "python",
   "pygments_lexer": "ipython3",
   "version": "3.11.4"
  }
 },
 "nbformat": 4,
 "nbformat_minor": 5
}
