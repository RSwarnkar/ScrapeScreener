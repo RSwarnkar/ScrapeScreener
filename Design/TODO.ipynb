{
 "cells": [
  {
   "cell_type": "markdown",
   "id": "9473cd2e-f9b4-4cb6-99c3-4d652716306a",
   "metadata": {},
   "source": [
    "# TO DO:"
   ]
  },
  {
   "cell_type": "markdown",
   "id": "f5b8f1bf-58a5-4922-8b83-677d968de274",
   "metadata": {},
   "source": [
    "1. Prepare a list of consumption stocks by refering to some thematic mutual fund and analyze it\n",
    "2. Filter or identify the stocks which do not have any earning growth for last 3 years (2021) but the public shareholding have increased \r\n",
    "and thestock price  isdoubled or tripled (Stock price CAGR for last 3 year is >=33%\n",
    "3. Refer to this book for ploting important ratios: [Financial Ratios for Executives](https://www.amazon.in/Financial-Ratios-Executives-Strength-Decisions/dp/1484207327)\n",
    "4. Create Dupont analysis dashboard by refering to Thoughtful investor\n",
    "5. Create Comparative bar graphs    "
   ]
  }
 ],
 "metadata": {
  "kernelspec": {
   "display_name": "rswarnka",
   "language": "python",
   "name": "rswarnka"
  },
  "language_info": {
   "codemirror_mode": {
    "name": "ipython",
    "version": 3
   },
   "file_extension": ".py",
   "mimetype": "text/x-python",
   "name": "python",
   "nbconvert_exporter": "python",
   "pygments_lexer": "ipython3",
   "version": "3.11.4"
  }
 },
 "nbformat": 4,
 "nbformat_minor": 5
}
