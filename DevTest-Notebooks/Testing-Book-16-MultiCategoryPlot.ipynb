{
 "cells": [
  {
   "cell_type": "code",
   "execution_count": 1,
   "id": "9da2624f-c806-44a1-9de4-3b277f15082d",
   "metadata": {},
   "outputs": [],
   "source": [
    "#https://stackoverflow.com/questions/78919675/how-to-plot-bar-graph-with-button-for-multiple-categories\n",
    "\n",
    "import pandas as pd\n",
    "import numpy as np\n",
    "from bs4 import BeautifulSoup\n",
    "import requests as rq\n",
    "import re\n",
    "import datetime\n",
    "import os\n",
    "import time\n",
    "\n",
    "import plotly.offline as pyo \n",
    "import plotly.graph_objects as go\n",
    "from plotly.subplots import make_subplots"
   ]
  },
  {
   "cell_type": "code",
   "execution_count": 2,
   "id": "7802c6d5-6310-40d6-837c-90c64430973e",
   "metadata": {},
   "outputs": [],
   "source": [
    "stock_excel_filepath = '../Output/RawReports-05-ScrapeSummerizeStockSet/SummaryReport-20240906-081114.xlsx'\n",
    "stock_excel_filepath = '../Output/RawReports-05-ScrapeSummerizeStockSet/SummaryReport-20240906-084343.xlsx'\n",
    "stock_excel_filepath = '../Output/RawReports-05-ScrapeSummerizeStockSet/SummaryReport-20240906-084944.xlsx'"
   ]
  },
  {
   "cell_type": "code",
   "execution_count": 3,
   "id": "436b43bc-7830-4278-b2c5-744ca9b73647",
   "metadata": {},
   "outputs": [],
   "source": [
    "xls = pd.ExcelFile(stock_excel_filepath)"
   ]
  },
  {
   "cell_type": "code",
   "execution_count": 4,
   "id": "ac12cc78-4b37-4875-9284-efd5c5c29208",
   "metadata": {},
   "outputs": [],
   "source": [
    "df_basic_info               = pd.read_excel(xls, \"Basic Info\") # Top Ratios\n",
    "df_top_ratios               = pd.read_excel(xls, \"Top Ratios\") # Top Ratios\n",
    "df_quaterly_results         = pd.read_excel(xls, \"Quarterly Results\") # Quarterly Results\n",
    "df_profit_n_loss            = pd.read_excel(xls, \"Profit & Loss\") # Profit & Loss\n",
    "df_compounded_sales_growth  = pd.read_excel(xls, \"Compounded Sales Growth\") # Compounded Sales Growth\n",
    "df_compounded_profit_growth = pd.read_excel(xls, \"Compounded Profit Growth\") # Compounded Profit Growth\n",
    "df_stock_price_cagr         = pd.read_excel(xls, \"Stock Price CAGR\") # Stock Price CAGR\n",
    "df_return_on_equity         = pd.read_excel(xls, \"Return on Equity\") # Return on Equity\n",
    "df_balance_sheet            = pd.read_excel(xls, \"Balance Sheet\") # Balance Sheet\n",
    "df_cash_flows               = pd.read_excel(xls, \"Cash Flows\") # Cash Flows\n",
    "df_ratios                   = pd.read_excel(xls, \"Ratios\") # Ratios\n",
    "df_shareholding_pattern     = pd.read_excel(xls, \"Shareholding Pattern\") # Shareholding Pattern"
   ]
  },
  {
   "cell_type": "code",
   "execution_count": 5,
   "id": "eb9558e9-8254-456e-9d9e-8ed42a8fc045",
   "metadata": {},
   "outputs": [
    {
     "data": {
      "text/html": [
       "<div>\n",
       "<style scoped>\n",
       "    .dataframe tbody tr th:only-of-type {\n",
       "        vertical-align: middle;\n",
       "    }\n",
       "\n",
       "    .dataframe tbody tr th {\n",
       "        vertical-align: top;\n",
       "    }\n",
       "\n",
       "    .dataframe thead th {\n",
       "        text-align: right;\n",
       "    }\n",
       "</style>\n",
       "<table border=\"1\" class=\"dataframe\">\n",
       "  <thead>\n",
       "    <tr style=\"text-align: right;\">\n",
       "      <th></th>\n",
       "      <th>Stockname</th>\n",
       "      <th>Market Cap in Cores Rupees</th>\n",
       "      <th>Current Price in Rupees</th>\n",
       "      <th>High in Rupees</th>\n",
       "      <th>Low in Rupees</th>\n",
       "      <th>Stock PE</th>\n",
       "      <th>Book Value in Rupees</th>\n",
       "      <th>Dividend Yield %</th>\n",
       "      <th>ROCE %</th>\n",
       "      <th>ROE %</th>\n",
       "      <th>Face Value in Rupees</th>\n",
       "    </tr>\n",
       "  </thead>\n",
       "  <tbody>\n",
       "    <tr>\n",
       "      <th>0</th>\n",
       "      <td>HDFCBANK</td>\n",
       "      <td>1254384</td>\n",
       "      <td>1645</td>\n",
       "      <td>1794</td>\n",
       "      <td>1363.0</td>\n",
       "      <td>19.30</td>\n",
       "      <td>580.0</td>\n",
       "      <td>1.19</td>\n",
       "      <td>7.54</td>\n",
       "      <td>16.90</td>\n",
       "      <td>1</td>\n",
       "    </tr>\n",
       "    <tr>\n",
       "      <th>1</th>\n",
       "      <td>ICICIBANK</td>\n",
       "      <td>870575</td>\n",
       "      <td>1236</td>\n",
       "      <td>1258</td>\n",
       "      <td>899.0</td>\n",
       "      <td>20.60</td>\n",
       "      <td>339.0</td>\n",
       "      <td>0.81</td>\n",
       "      <td>7.51</td>\n",
       "      <td>18.60</td>\n",
       "      <td>2</td>\n",
       "    </tr>\n",
       "    <tr>\n",
       "      <th>2</th>\n",
       "      <td>KOTAKBANK</td>\n",
       "      <td>353478</td>\n",
       "      <td>1778</td>\n",
       "      <td>1926</td>\n",
       "      <td>1544.0</td>\n",
       "      <td>25.40</td>\n",
       "      <td>487.0</td>\n",
       "      <td>0.11</td>\n",
       "      <td>7.24</td>\n",
       "      <td>15.30</td>\n",
       "      <td>5</td>\n",
       "    </tr>\n",
       "    <tr>\n",
       "      <th>3</th>\n",
       "      <td>AXISBANK</td>\n",
       "      <td>365055</td>\n",
       "      <td>1181</td>\n",
       "      <td>1340</td>\n",
       "      <td>951.0</td>\n",
       "      <td>14.50</td>\n",
       "      <td>489.0</td>\n",
       "      <td>0.08</td>\n",
       "      <td>6.92</td>\n",
       "      <td>18.00</td>\n",
       "      <td>2</td>\n",
       "    </tr>\n",
       "    <tr>\n",
       "      <th>4</th>\n",
       "      <td>INDUSINDBK</td>\n",
       "      <td>110833</td>\n",
       "      <td>1423</td>\n",
       "      <td>1694</td>\n",
       "      <td>1329.0</td>\n",
       "      <td>12.30</td>\n",
       "      <td>807.0</td>\n",
       "      <td>1.16</td>\n",
       "      <td>7.93</td>\n",
       "      <td>15.20</td>\n",
       "      <td>10</td>\n",
       "    </tr>\n",
       "    <tr>\n",
       "      <th>5</th>\n",
       "      <td>SBIN</td>\n",
       "      <td>730703</td>\n",
       "      <td>819</td>\n",
       "      <td>912</td>\n",
       "      <td>543.0</td>\n",
       "      <td>11.00</td>\n",
       "      <td>423.0</td>\n",
       "      <td>1.67</td>\n",
       "      <td>6.05</td>\n",
       "      <td>17.30</td>\n",
       "      <td>1</td>\n",
       "    </tr>\n",
       "    <tr>\n",
       "      <th>6</th>\n",
       "      <td>BANKBARODA</td>\n",
       "      <td>126104</td>\n",
       "      <td>244</td>\n",
       "      <td>300</td>\n",
       "      <td>188.0</td>\n",
       "      <td>6.94</td>\n",
       "      <td>217.0</td>\n",
       "      <td>3.12</td>\n",
       "      <td>6.32</td>\n",
       "      <td>16.90</td>\n",
       "      <td>2</td>\n",
       "    </tr>\n",
       "    <tr>\n",
       "      <th>7</th>\n",
       "      <td>PNB</td>\n",
       "      <td>124865</td>\n",
       "      <td>113</td>\n",
       "      <td>143</td>\n",
       "      <td>66.2</td>\n",
       "      <td>12.20</td>\n",
       "      <td>96.7</td>\n",
       "      <td>1.32</td>\n",
       "      <td>5.41</td>\n",
       "      <td>7.99</td>\n",
       "      <td>2</td>\n",
       "    </tr>\n",
       "  </tbody>\n",
       "</table>\n",
       "</div>"
      ],
      "text/plain": [
       "    Stockname  Market Cap in Cores Rupees  Current Price in Rupees  \\\n",
       "0    HDFCBANK                     1254384                     1645   \n",
       "1   ICICIBANK                      870575                     1236   \n",
       "2   KOTAKBANK                      353478                     1778   \n",
       "3    AXISBANK                      365055                     1181   \n",
       "4  INDUSINDBK                      110833                     1423   \n",
       "5        SBIN                      730703                      819   \n",
       "6  BANKBARODA                      126104                      244   \n",
       "7         PNB                      124865                      113   \n",
       "\n",
       "   High in Rupees  Low in Rupees  Stock PE  Book Value in Rupees  \\\n",
       "0            1794         1363.0     19.30                 580.0   \n",
       "1            1258          899.0     20.60                 339.0   \n",
       "2            1926         1544.0     25.40                 487.0   \n",
       "3            1340          951.0     14.50                 489.0   \n",
       "4            1694         1329.0     12.30                 807.0   \n",
       "5             912          543.0     11.00                 423.0   \n",
       "6             300          188.0      6.94                 217.0   \n",
       "7             143           66.2     12.20                  96.7   \n",
       "\n",
       "   Dividend Yield %  ROCE %  ROE %  Face Value in Rupees  \n",
       "0              1.19    7.54  16.90                     1  \n",
       "1              0.81    7.51  18.60                     2  \n",
       "2              0.11    7.24  15.30                     5  \n",
       "3              0.08    6.92  18.00                     2  \n",
       "4              1.16    7.93  15.20                    10  \n",
       "5              1.67    6.05  17.30                     1  \n",
       "6              3.12    6.32  16.90                     2  \n",
       "7              1.32    5.41   7.99                     2  "
      ]
     },
     "execution_count": 5,
     "metadata": {},
     "output_type": "execute_result"
    }
   ],
   "source": [
    "df_top_ratios"
   ]
  },
  {
   "cell_type": "code",
   "execution_count": 55,
   "id": "4876c3d1-a648-41fd-99f5-ec55c2ea7f14",
   "metadata": {},
   "outputs": [],
   "source": [
    "df = df_quaterly_results\n",
    "\n",
    "df.drop(df[df['Quarterly Results'] == 'Raw PDF'].index, inplace=True)\n",
    "\n"
   ]
  },
  {
   "cell_type": "code",
   "execution_count": 56,
   "id": "ad84cc9a-d8de-4e59-9cc6-a7ed3b46d792",
   "metadata": {},
   "outputs": [
    {
     "data": {
      "application/vnd.plotly.v1+json": {
       "config": {
        "plotlyServerURL": "https://plot.ly"
       },
       "data": [
        {
         "name": "HDFCBANK Revenue",
         "type": "bar",
         "x": [
          "Jun 2021",
          "Sep 2021",
          "Dec 2021",
          "Mar 2022",
          "Jun 2022",
          "Sep 2022",
          "Dec 2022",
          "Mar 2023",
          "Jun 2023",
          "Sep 2023",
          "Dec 2023",
          "Mar 2024",
          "Jun 2024"
         ],
         "y": [
          30483,
          31353,
          32468,
          33449,
          35172,
          38586,
          42708,
          45119,
          48587,
          67698,
          70583,
          71473,
          73033
         ]
        },
        {
         "name": "ICICIBANK Revenue",
         "type": "bar",
         "x": [
          "Jun 2021",
          "Sep 2021",
          "Dec 2021",
          "Mar 2022",
          "Jun 2022",
          "Sep 2022",
          "Dec 2022",
          "Mar 2023",
          "Jun 2023",
          "Sep 2023",
          "Dec 2023",
          "Mar 2024",
          "Jun 2024"
         ],
         "y": [
          20383,
          21234,
          22083,
          22675,
          23672,
          26033,
          28506,
          31021,
          33328,
          34920,
          36695,
          37948,
          38996
         ]
        },
        {
         "name": "KOTAKBANK Revenue",
         "type": "bar",
         "x": [
          "Jun 2021",
          "Sep 2021",
          "Dec 2021",
          "Mar 2022",
          "Jun 2022",
          "Sep 2022",
          "Dec 2022",
          "Mar 2023",
          "Jun 2023",
          "Sep 2023",
          "Dec 2023",
          "Mar 2024",
          "Jun 2024"
         ],
         "y": [
          6480,
          6596,
          6897,
          7066,
          7338,
          8093,
          8999,
          9821,
          10500,
          11193,
          11799,
          12307,
          12746
         ]
        },
        {
         "name": "AXISBANK Revenue",
         "type": "bar",
         "x": [
          "Jun 2021",
          "Sep 2021",
          "Dec 2021",
          "Mar 2022",
          "Jun 2022",
          "Sep 2022",
          "Dec 2022",
          "Mar 2023",
          "Jun 2023",
          "Sep 2023",
          "Dec 2023",
          "Mar 2024",
          "Jun 2024"
         ],
         "y": [
          16003,
          16336,
          17261,
          17776,
          18729,
          20239,
          22226,
          23970,
          25557,
          26626,
          27961,
          29225,
          30061
         ]
        },
        {
         "name": "INDUSINDBK Revenue",
         "type": "bar",
         "x": [
          "Jun 2021",
          "Sep 2021",
          "Dec 2021",
          "Mar 2022",
          "Jun 2022",
          "Sep 2022",
          "Dec 2022",
          "Mar 2023",
          "Jun 2023",
          "Sep 2023",
          "Dec 2023",
          "Mar 2024",
          "Jun 2024"
         ],
         "y": [
          7575,
          7650,
          7737,
          7860,
          8182,
          8708,
          9457,
          10021,
          10730,
          11248,
          11572,
          12199,
          12547
         ]
        },
        {
         "name": "SBIN Revenue",
         "type": "bar",
         "x": [
          "Jun 2021",
          "Sep 2021",
          "Dec 2021",
          "Mar 2022",
          "Jun 2022",
          "Sep 2022",
          "Dec 2022",
          "Mar 2023",
          "Jun 2023",
          "Sep 2023",
          "Dec 2023",
          "Mar 2024",
          "Jun 2024"
         ],
         "y": [
          65564,
          69481,
          69678,
          70733,
          72676,
          79860,
          86616,
          92951,
          95975,
          101379,
          106734,
          111043,
          111526
         ]
        },
        {
         "name": "BANKBARODA Revenue",
         "type": "bar",
         "x": [
          "Jun 2021",
          "Sep 2021",
          "Dec 2021",
          "Mar 2022",
          "Jun 2022",
          "Sep 2022",
          "Dec 2022",
          "Mar 2023",
          "Jun 2023",
          "Sep 2023",
          "Dec 2023",
          "Mar 2024",
          "Jun 2024"
         ],
         "y": [
          17053,
          16692,
          17963,
          18174,
          18937,
          21254,
          23540,
          25857,
          26556,
          27862,
          28605,
          29583,
          29629
         ]
        },
        {
         "name": "PNB Revenue",
         "type": "bar",
         "x": [
          "Jun 2021",
          "Sep 2021",
          "Dec 2021",
          "Mar 2022",
          "Jun 2022",
          "Sep 2022",
          "Dec 2022",
          "Mar 2023",
          "Jun 2023",
          "Sep 2023",
          "Dec 2023",
          "Mar 2024",
          "Jun 2024"
         ],
         "y": [
          18929,
          17980,
          19325,
          18645,
          18757,
          20154,
          22384,
          23849,
          25145,
          26355,
          27288,
          28113,
          28556
         ]
        },
        {
         "name": "HDFCBANK Interest",
         "type": "bar",
         "x": [
          "Jun 2021",
          "Sep 2021",
          "Dec 2021",
          "Mar 2022",
          "Jun 2022",
          "Sep 2022",
          "Dec 2022",
          "Mar 2023",
          "Jun 2023",
          "Sep 2023",
          "Dec 2023",
          "Mar 2024",
          "Jun 2024"
         ],
         "y": [
          13474,
          13669,
          14025,
          14576,
          15691,
          17565,
          19720,
          21768,
          24988,
          40313,
          42111,
          42396,
          43196
         ]
        },
        {
         "name": "ICICIBANK Interest",
         "type": "bar",
         "x": [
          "Jun 2021",
          "Sep 2021",
          "Dec 2021",
          "Mar 2022",
          "Jun 2022",
          "Sep 2022",
          "Dec 2022",
          "Mar 2023",
          "Jun 2023",
          "Sep 2023",
          "Dec 2023",
          "Mar 2024",
          "Jun 2024"
         ],
         "y": [
          9448,
          9544,
          9847,
          10070,
          10462,
          11246,
          12041,
          13354,
          15101,
          16612,
          18016,
          18856,
          19443
         ]
        },
        {
         "name": "KOTAKBANK Interest",
         "type": "bar",
         "x": [
          "Jun 2021",
          "Sep 2021",
          "Dec 2021",
          "Mar 2022",
          "Jun 2022",
          "Sep 2022",
          "Dec 2022",
          "Mar 2023",
          "Jun 2023",
          "Sep 2023",
          "Dec 2023",
          "Mar 2024",
          "Jun 2024"
         ],
         "y": [
          2538,
          2576,
          2563,
          2545,
          2641,
          2993,
          3346,
          3718,
          4266,
          4896,
          5246,
          5398,
          5904
         ]
        },
        {
         "name": "AXISBANK Interest",
         "type": "bar",
         "x": [
          "Jun 2021",
          "Sep 2021",
          "Dec 2021",
          "Mar 2022",
          "Jun 2022",
          "Sep 2022",
          "Dec 2022",
          "Mar 2023",
          "Jun 2023",
          "Sep 2023",
          "Dec 2023",
          "Mar 2024",
          "Jun 2024"
         ],
         "y": [
          8243,
          8436,
          8609,
          8957,
          9345,
          9879,
          10767,
          12228,
          13598,
          14312,
          15429,
          16136,
          16612
         ]
        },
        {
         "name": "INDUSINDBK Interest",
         "type": "bar",
         "x": [
          "Jun 2021",
          "Sep 2021",
          "Dec 2021",
          "Mar 2022",
          "Jun 2022",
          "Sep 2022",
          "Dec 2022",
          "Mar 2023",
          "Jun 2023",
          "Sep 2023",
          "Dec 2023",
          "Mar 2024",
          "Jun 2024"
         ],
         "y": [
          4011,
          3992,
          3944,
          3875,
          4057,
          4406,
          4962,
          5351,
          5863,
          6171,
          6277,
          6822,
          7139
         ]
        },
        {
         "name": "SBIN Interest",
         "type": "bar",
         "x": [
          "Jun 2021",
          "Sep 2021",
          "Dec 2021",
          "Mar 2022",
          "Jun 2022",
          "Sep 2022",
          "Dec 2022",
          "Mar 2023",
          "Jun 2023",
          "Sep 2023",
          "Dec 2023",
          "Mar 2024",
          "Jun 2024"
         ],
         "y": [
          37926,
          38298,
          38991,
          39535,
          41480,
          44676,
          48547,
          52559,
          57070,
          61879,
          66918,
          69387,
          70401
         ]
        },
        {
         "name": "BANKBARODA Interest",
         "type": "bar",
         "x": [
          "Jun 2021",
          "Sep 2021",
          "Dec 2021",
          "Mar 2022",
          "Jun 2022",
          "Sep 2022",
          "Dec 2022",
          "Mar 2023",
          "Jun 2023",
          "Sep 2023",
          "Dec 2023",
          "Mar 2024",
          "Jun 2024"
         ],
         "y": [
          9161,
          9126,
          9411,
          9562,
          10099,
          11080,
          12722,
          14332,
          15559,
          17031,
          17504,
          17791,
          18029
         ]
        },
        {
         "name": "PNB Interest",
         "type": "bar",
         "x": [
          "Jun 2021",
          "Sep 2021",
          "Dec 2021",
          "Mar 2022",
          "Jun 2022",
          "Sep 2022",
          "Dec 2022",
          "Mar 2023",
          "Jun 2023",
          "Sep 2023",
          "Dec 2023",
          "Mar 2024",
          "Jun 2024"
         ],
         "y": [
          11694,
          11628,
          11522,
          11341,
          11214,
          11883,
          13205,
          14350,
          15641,
          16432,
          16995,
          17750,
          18080
         ]
        },
        {
         "name": "HDFCBANK Expenses",
         "type": "bar",
         "x": [
          "Jun 2021",
          "Sep 2021",
          "Dec 2021",
          "Mar 2022",
          "Jun 2022",
          "Sep 2022",
          "Dec 2022",
          "Mar 2023",
          "Jun 2023",
          "Sep 2023",
          "Dec 2023",
          "Mar 2024",
          "Jun 2024"
         ],
         "y": [
          12991,
          13203,
          12845,
          13465,
          13690,
          14465,
          15270,
          16147,
          16917,
          18303,
          20178,
          31480,
          19223
         ]
        },
        {
         "name": "ICICIBANK Expenses",
         "type": "bar",
         "x": [
          "Jun 2021",
          "Sep 2021",
          "Dec 2021",
          "Mar 2022",
          "Jun 2022",
          "Sep 2022",
          "Dec 2022",
          "Mar 2023",
          "Jun 2023",
          "Sep 2023",
          "Dec 2023",
          "Mar 2024",
          "Jun 2024"
         ],
         "y": [
          8889,
          9286,
          9082,
          8118,
          8710,
          9806,
          10475,
          10548,
          10815,
          10438,
          11101,
          10421,
          11862
         ]
        },
        {
         "name": "KOTAKBANK Expenses",
         "type": "bar",
         "x": [
          "Jun 2021",
          "Sep 2021",
          "Dec 2021",
          "Mar 2022",
          "Jun 2022",
          "Sep 2022",
          "Dec 2022",
          "Mar 2023",
          "Jun 2023",
          "Sep 2023",
          "Dec 2023",
          "Mar 2024",
          "Jun 2024"
         ],
         "y": [
          3107,
          3137,
          2865,
          2579,
          3181,
          3501,
          3900,
          3789,
          4332,
          4368,
          4863,
          4690,
          5096
         ]
        },
        {
         "name": "AXISBANK Expenses",
         "type": "bar",
         "x": [
          "Jun 2021",
          "Sep 2021",
          "Dec 2021",
          "Mar 2022",
          "Jun 2022",
          "Sep 2022",
          "Dec 2022",
          "Mar 2023",
          "Jun 2023",
          "Sep 2023",
          "Dec 2023",
          "Mar 2024",
          "Jun 2024"
         ],
         "y": [
          8235,
          7506,
          7666,
          7564,
          6785,
          7049,
          8191,
          7668,
          9267,
          9531,
          9974,
          10504,
          11165
         ]
        },
        {
         "name": "INDUSINDBK Expenses",
         "type": "bar",
         "x": [
          "Jun 2021",
          "Sep 2021",
          "Dec 2021",
          "Mar 2022",
          "Jun 2022",
          "Sep 2022",
          "Dec 2022",
          "Mar 2023",
          "Jun 2023",
          "Sep 2023",
          "Dec 2023",
          "Mar 2024",
          "Jun 2024"
         ],
         "y": [
          3994,
          4028,
          4119,
          4020,
          3911,
          3934,
          3956,
          4097,
          4238,
          4451,
          4623,
          4749,
          4972
         ]
        },
        {
         "name": "SBIN Expenses",
         "type": "bar",
         "x": [
          "Jun 2021",
          "Sep 2021",
          "Dec 2021",
          "Mar 2022",
          "Jun 2022",
          "Sep 2022",
          "Dec 2022",
          "Mar 2023",
          "Jun 2023",
          "Sep 2023",
          "Dec 2023",
          "Mar 2024",
          "Jun 2024"
         ],
         "y": [
          30518,
          21501,
          27813,
          30599,
          25148,
          25976,
          30078,
          33049,
          28173,
          30989,
          31626,
          31887,
          29288
         ]
        },
        {
         "name": "BANKBARODA Expenses",
         "type": "bar",
         "x": [
          "Jun 2021",
          "Sep 2021",
          "Dec 2021",
          "Mar 2022",
          "Jun 2022",
          "Sep 2022",
          "Dec 2022",
          "Mar 2023",
          "Jun 2023",
          "Sep 2023",
          "Dec 2023",
          "Mar 2024",
          "Jun 2024"
         ],
         "y": [
          9159,
          8229,
          8095,
          9235,
          7178,
          7597,
          8542,
          8339,
          8441,
          9143,
          7563,
          9180,
          7937
         ]
        },
        {
         "name": "PNB Expenses",
         "type": "bar",
         "x": [
          "Jun 2021",
          "Sep 2021",
          "Dec 2021",
          "Mar 2022",
          "Jun 2022",
          "Sep 2022",
          "Dec 2022",
          "Mar 2023",
          "Jun 2023",
          "Sep 2023",
          "Dec 2023",
          "Mar 2024",
          "Jun 2024"
         ],
         "y": [
          9701,
          8875,
          8781,
          9341,
          9491,
          10457,
          11515,
          10883,
          10935,
          10179,
          9375,
          9783,
          8817
         ]
        },
        {
         "name": "HDFCBANK Financing Profit",
         "type": "bar",
         "x": [
          "Jun 2021",
          "Sep 2021",
          "Dec 2021",
          "Mar 2022",
          "Jun 2022",
          "Sep 2022",
          "Dec 2022",
          "Mar 2023",
          "Jun 2023",
          "Sep 2023",
          "Dec 2023",
          "Mar 2024",
          "Jun 2024"
         ],
         "y": [
          4018,
          4482,
          5598,
          5408,
          5792,
          6556,
          7718,
          7204,
          6682,
          9082,
          8294,
          -2404,
          10614
         ]
        },
        {
         "name": "ICICIBANK Financing Profit",
         "type": "bar",
         "x": [
          "Jun 2021",
          "Sep 2021",
          "Dec 2021",
          "Mar 2022",
          "Jun 2022",
          "Sep 2022",
          "Dec 2022",
          "Mar 2023",
          "Jun 2023",
          "Sep 2023",
          "Dec 2023",
          "Mar 2024",
          "Jun 2024"
         ],
         "y": [
          2047,
          2404,
          3154,
          4487,
          4500,
          4981,
          5990,
          7119,
          7411,
          7870,
          7577,
          8671,
          7691
         ]
        },
        {
         "name": "KOTAKBANK Financing Profit",
         "type": "bar",
         "x": [
          "Jun 2021",
          "Sep 2021",
          "Dec 2021",
          "Mar 2022",
          "Jun 2022",
          "Sep 2022",
          "Dec 2022",
          "Mar 2023",
          "Jun 2023",
          "Sep 2023",
          "Dec 2023",
          "Mar 2024",
          "Jun 2024"
         ],
         "y": [
          835,
          884,
          1469,
          1942,
          1516,
          1598,
          1753,
          2314,
          1902,
          1929,
          1690,
          2220,
          1747
         ]
        },
        {
         "name": "AXISBANK Financing Profit",
         "type": "bar",
         "x": [
          "Jun 2021",
          "Sep 2021",
          "Dec 2021",
          "Mar 2022",
          "Jun 2022",
          "Sep 2022",
          "Dec 2022",
          "Mar 2023",
          "Jun 2023",
          "Sep 2023",
          "Dec 2023",
          "Mar 2024",
          "Jun 2024"
         ],
         "y": [
          -474,
          395,
          986,
          1255,
          2599,
          3311,
          3268,
          4074,
          2692,
          2783,
          2558,
          2585,
          2283
         ]
        },
        {
         "name": "INDUSINDBK Financing Profit",
         "type": "bar",
         "x": [
          "Jun 2021",
          "Sep 2021",
          "Dec 2021",
          "Mar 2022",
          "Jun 2022",
          "Sep 2022",
          "Dec 2022",
          "Mar 2023",
          "Jun 2023",
          "Sep 2023",
          "Dec 2023",
          "Mar 2024",
          "Jun 2024"
         ],
         "y": [
          -430,
          -370,
          -326,
          -35,
          214,
          368,
          539,
          572,
          629,
          625,
          672,
          628,
          436
         ]
        },
        {
         "name": "SBIN Financing Profit",
         "type": "bar",
         "x": [
          "Jun 2021",
          "Sep 2021",
          "Dec 2021",
          "Mar 2022",
          "Jun 2022",
          "Sep 2022",
          "Dec 2022",
          "Mar 2023",
          "Jun 2023",
          "Sep 2023",
          "Dec 2023",
          "Mar 2024",
          "Jun 2024"
         ],
         "y": [
          -2880,
          9683,
          2874,
          599,
          6048,
          9207,
          7991,
          7344,
          10732,
          8511,
          8189,
          9769,
          11837
         ]
        },
        {
         "name": "BANKBARODA Financing Profit",
         "type": "bar",
         "x": [
          "Jun 2021",
          "Sep 2021",
          "Dec 2021",
          "Mar 2022",
          "Jun 2022",
          "Sep 2022",
          "Dec 2022",
          "Mar 2023",
          "Jun 2023",
          "Sep 2023",
          "Dec 2023",
          "Mar 2024",
          "Jun 2024"
         ],
         "y": [
          -1268,
          -663,
          457,
          -624,
          1661,
          2578,
          2276,
          3186,
          2555,
          1688,
          3538,
          2613,
          3663
         ]
        },
        {
         "name": "PNB Financing Profit",
         "type": "bar",
         "x": [
          "Jun 2021",
          "Sep 2021",
          "Dec 2021",
          "Mar 2022",
          "Jun 2022",
          "Sep 2022",
          "Dec 2022",
          "Mar 2023",
          "Jun 2023",
          "Sep 2023",
          "Dec 2023",
          "Mar 2024",
          "Jun 2024"
         ],
         "y": [
          -2467,
          -2522,
          -978,
          -2037,
          -1948,
          -2186,
          -2335,
          -1384,
          -1431,
          -256,
          918,
          580,
          1659
         ]
        },
        {
         "name": "HDFCBANK Financing Margin %",
         "type": "bar",
         "x": [
          "Jun 2021",
          "Sep 2021",
          "Dec 2021",
          "Mar 2022",
          "Jun 2022",
          "Sep 2022",
          "Dec 2022",
          "Mar 2023",
          "Jun 2023",
          "Sep 2023",
          "Dec 2023",
          "Mar 2024",
          "Jun 2024"
         ],
         "y": [
          13,
          14,
          17,
          16,
          16,
          17,
          18,
          16,
          14,
          13,
          12,
          -3,
          15
         ]
        },
        {
         "name": "ICICIBANK Financing Margin %",
         "type": "bar",
         "x": [
          "Jun 2021",
          "Sep 2021",
          "Dec 2021",
          "Mar 2022",
          "Jun 2022",
          "Sep 2022",
          "Dec 2022",
          "Mar 2023",
          "Jun 2023",
          "Sep 2023",
          "Dec 2023",
          "Mar 2024",
          "Jun 2024"
         ],
         "y": [
          10,
          11,
          14,
          20,
          19,
          19,
          21,
          23,
          22,
          23,
          21,
          23,
          20
         ]
        },
        {
         "name": "KOTAKBANK Financing Margin %",
         "type": "bar",
         "x": [
          "Jun 2021",
          "Sep 2021",
          "Dec 2021",
          "Mar 2022",
          "Jun 2022",
          "Sep 2022",
          "Dec 2022",
          "Mar 2023",
          "Jun 2023",
          "Sep 2023",
          "Dec 2023",
          "Mar 2024",
          "Jun 2024"
         ],
         "y": [
          13,
          13,
          21,
          27,
          21,
          20,
          19,
          24,
          18,
          17,
          14,
          18,
          14
         ]
        },
        {
         "name": "AXISBANK Financing Margin %",
         "type": "bar",
         "x": [
          "Jun 2021",
          "Sep 2021",
          "Dec 2021",
          "Mar 2022",
          "Jun 2022",
          "Sep 2022",
          "Dec 2022",
          "Mar 2023",
          "Jun 2023",
          "Sep 2023",
          "Dec 2023",
          "Mar 2024",
          "Jun 2024"
         ],
         "y": [
          -3,
          2,
          6,
          7,
          14,
          16,
          15,
          17,
          11,
          10,
          9,
          9,
          8
         ]
        },
        {
         "name": "INDUSINDBK Financing Margin %",
         "type": "bar",
         "x": [
          "Jun 2021",
          "Sep 2021",
          "Dec 2021",
          "Mar 2022",
          "Jun 2022",
          "Sep 2022",
          "Dec 2022",
          "Mar 2023",
          "Jun 2023",
          "Sep 2023",
          "Dec 2023",
          "Mar 2024",
          "Jun 2024"
         ],
         "y": [
          -6,
          -5,
          -4,
          0,
          3,
          4,
          6,
          6,
          6,
          6,
          6,
          5,
          3
         ]
        },
        {
         "name": "SBIN Financing Margin %",
         "type": "bar",
         "x": [
          "Jun 2021",
          "Sep 2021",
          "Dec 2021",
          "Mar 2022",
          "Jun 2022",
          "Sep 2022",
          "Dec 2022",
          "Mar 2023",
          "Jun 2023",
          "Sep 2023",
          "Dec 2023",
          "Mar 2024",
          "Jun 2024"
         ],
         "y": [
          -4,
          14,
          4,
          1,
          8,
          12,
          9,
          8,
          11,
          8,
          8,
          9,
          11
         ]
        },
        {
         "name": "BANKBARODA Financing Margin %",
         "type": "bar",
         "x": [
          "Jun 2021",
          "Sep 2021",
          "Dec 2021",
          "Mar 2022",
          "Jun 2022",
          "Sep 2022",
          "Dec 2022",
          "Mar 2023",
          "Jun 2023",
          "Sep 2023",
          "Dec 2023",
          "Mar 2024",
          "Jun 2024"
         ],
         "y": [
          -7,
          -4,
          3,
          -3,
          9,
          12,
          10,
          12,
          10,
          6,
          12,
          9,
          12
         ]
        },
        {
         "name": "PNB Financing Margin %",
         "type": "bar",
         "x": [
          "Jun 2021",
          "Sep 2021",
          "Dec 2021",
          "Mar 2022",
          "Jun 2022",
          "Sep 2022",
          "Dec 2022",
          "Mar 2023",
          "Jun 2023",
          "Sep 2023",
          "Dec 2023",
          "Mar 2024",
          "Jun 2024"
         ],
         "y": [
          -13,
          -14,
          -5,
          -11,
          -10,
          -11,
          -10,
          -6,
          -6,
          -1,
          3,
          2,
          6
         ]
        },
        {
         "name": "HDFCBANK Other Income",
         "type": "bar",
         "x": [
          "Jun 2021",
          "Sep 2021",
          "Dec 2021",
          "Mar 2022",
          "Jun 2022",
          "Sep 2022",
          "Dec 2022",
          "Mar 2023",
          "Jun 2023",
          "Sep 2023",
          "Dec 2023",
          "Mar 2024",
          "Jun 2024"
         ],
         "y": [
          6288,
          7401,
          8184,
          7637,
          6388,
          7596,
          8500,
          8731,
          9230,
          10708,
          11137,
          18166,
          10668
         ]
        },
        {
         "name": "ICICIBANK Other Income",
         "type": "bar",
         "x": [
          "Jun 2021",
          "Sep 2021",
          "Dec 2021",
          "Mar 2022",
          "Jun 2022",
          "Sep 2022",
          "Dec 2022",
          "Mar 2023",
          "Jun 2023",
          "Sep 2023",
          "Dec 2023",
          "Mar 2024",
          "Jun 2024"
         ],
         "y": [
          3996,
          4797,
          4987,
          4737,
          4665,
          5055,
          5024,
          5088,
          5435,
          5777,
          6097,
          5649,
          7002
         ]
        },
        {
         "name": "KOTAKBANK Other Income",
         "type": "bar",
         "x": [
          "Jun 2021",
          "Sep 2021",
          "Dec 2021",
          "Mar 2022",
          "Jun 2022",
          "Sep 2022",
          "Dec 2022",
          "Mar 2023",
          "Jun 2023",
          "Sep 2023",
          "Dec 2023",
          "Mar 2024",
          "Jun 2024"
         ],
         "y": [
          1352,
          1813,
          1364,
          1704,
          1244,
          1832,
          1948,
          2186,
          2683,
          2315,
          2297,
          2978,
          6449
         ]
        },
        {
         "name": "AXISBANK Other Income",
         "type": "bar",
         "x": [
          "Jun 2021",
          "Sep 2021",
          "Dec 2021",
          "Mar 2022",
          "Jun 2022",
          "Sep 2022",
          "Dec 2022",
          "Mar 2023",
          "Jun 2023",
          "Sep 2023",
          "Dec 2023",
          "Mar 2024",
          "Jun 2024"
         ],
         "y": [
          3358,
          3798,
          3840,
          4223,
          2928,
          3855,
          4572,
          -7702,
          5087,
          5034,
          5555,
          6766,
          5783
         ]
        },
        {
         "name": "INDUSINDBK Other Income",
         "type": "bar",
         "x": [
          "Jun 2021",
          "Sep 2021",
          "Dec 2021",
          "Mar 2022",
          "Jun 2022",
          "Sep 2022",
          "Dec 2022",
          "Mar 2023",
          "Jun 2023",
          "Sep 2023",
          "Dec 2023",
          "Mar 2024",
          "Jun 2024"
         ],
         "y": [
          1716,
          1841,
          1877,
          1900,
          1929,
          2011,
          2076,
          2151,
          2210,
          2282,
          2396,
          2500,
          2441
         ]
        },
        {
         "name": "SBIN Other Income",
         "type": "bar",
         "x": [
          "Jun 2021",
          "Sep 2021",
          "Dec 2021",
          "Mar 2022",
          "Jun 2022",
          "Sep 2022",
          "Dec 2022",
          "Mar 2023",
          "Jun 2023",
          "Sep 2023",
          "Dec 2023",
          "Mar 2024",
          "Jun 2024"
         ],
         "y": [
          11803,
          789,
          8673,
          11880,
          2312,
          8874,
          11468,
          13961,
          12063,
          10791,
          4359,
          17369,
          11162
         ]
        },
        {
         "name": "BANKBARODA Other Income",
         "type": "bar",
         "x": [
          "Jun 2021",
          "Sep 2021",
          "Dec 2021",
          "Mar 2022",
          "Jun 2022",
          "Sep 2022",
          "Dec 2022",
          "Mar 2023",
          "Jun 2023",
          "Sep 2023",
          "Dec 2023",
          "Mar 2024",
          "Jun 2024"
         ],
         "y": [
          2863,
          3579,
          2519,
          2522,
          1182,
          1826,
          3552,
          3466,
          3322,
          4171,
          2810,
          4191,
          2487
         ]
        },
        {
         "name": "PNB Other Income",
         "type": "bar",
         "x": [
          "Jun 2021",
          "Sep 2021",
          "Dec 2021",
          "Mar 2022",
          "Jun 2022",
          "Sep 2022",
          "Dec 2022",
          "Mar 2023",
          "Jun 2023",
          "Sep 2023",
          "Dec 2023",
          "Mar 2024",
          "Jun 2024"
         ],
         "y": [
          3887,
          3282,
          2701,
          2450,
          2537,
          2847,
          3338,
          3420,
          3434,
          3028,
          2674,
          4248,
          3610
         ]
        },
        {
         "name": "HDFCBANK Depreciation",
         "type": "bar",
         "x": [
          "Jun 2021",
          "Sep 2021",
          "Dec 2021",
          "Mar 2022",
          "Jun 2022",
          "Sep 2022",
          "Dec 2022",
          "Mar 2023",
          "Jun 2023",
          "Sep 2023",
          "Dec 2023",
          "Mar 2024",
          "Jun 2024"
         ],
         "y": [
          0,
          0,
          0,
          0,
          0,
          0,
          0,
          0,
          0,
          0,
          0,
          0,
          0
         ]
        },
        {
         "name": "ICICIBANK Depreciation",
         "type": "bar",
         "x": [
          "Jun 2021",
          "Sep 2021",
          "Dec 2021",
          "Mar 2022",
          "Jun 2022",
          "Sep 2022",
          "Dec 2022",
          "Mar 2023",
          "Jun 2023",
          "Sep 2023",
          "Dec 2023",
          "Mar 2024",
          "Jun 2024"
         ],
         "y": [
          0,
          0,
          0,
          0,
          0,
          0,
          0,
          0,
          0,
          0,
          0,
          0,
          0
         ]
        },
        {
         "name": "KOTAKBANK Depreciation",
         "type": "bar",
         "x": [
          "Jun 2021",
          "Sep 2021",
          "Dec 2021",
          "Mar 2022",
          "Jun 2022",
          "Sep 2022",
          "Dec 2022",
          "Mar 2023",
          "Jun 2023",
          "Sep 2023",
          "Dec 2023",
          "Mar 2024",
          "Jun 2024"
         ],
         "y": [
          0,
          0,
          0,
          0,
          0,
          0,
          0,
          0,
          0,
          0,
          0,
          0,
          0
         ]
        },
        {
         "name": "AXISBANK Depreciation",
         "type": "bar",
         "x": [
          "Jun 2021",
          "Sep 2021",
          "Dec 2021",
          "Mar 2022",
          "Jun 2022",
          "Sep 2022",
          "Dec 2022",
          "Mar 2023",
          "Jun 2023",
          "Sep 2023",
          "Dec 2023",
          "Mar 2024",
          "Jun 2024"
         ],
         "y": [
          0,
          0,
          0,
          0,
          0,
          0,
          0,
          0,
          0,
          0,
          0,
          0,
          0
         ]
        },
        {
         "name": "INDUSINDBK Depreciation",
         "type": "bar",
         "x": [
          "Jun 2021",
          "Sep 2021",
          "Dec 2021",
          "Mar 2022",
          "Jun 2022",
          "Sep 2022",
          "Dec 2022",
          "Mar 2023",
          "Jun 2023",
          "Sep 2023",
          "Dec 2023",
          "Mar 2024",
          "Jun 2024"
         ],
         "y": [
          0,
          0,
          0,
          0,
          0,
          0,
          0,
          0,
          0,
          0,
          0,
          0,
          0
         ]
        },
        {
         "name": "SBIN Depreciation",
         "type": "bar",
         "x": [
          "Jun 2021",
          "Sep 2021",
          "Dec 2021",
          "Mar 2022",
          "Jun 2022",
          "Sep 2022",
          "Dec 2022",
          "Mar 2023",
          "Jun 2023",
          "Sep 2023",
          "Dec 2023",
          "Mar 2024",
          "Jun 2024"
         ],
         "y": [
          0,
          0,
          0,
          0,
          0,
          0,
          0,
          0,
          0,
          0,
          0,
          0,
          0
         ]
        },
        {
         "name": "BANKBARODA Depreciation",
         "type": "bar",
         "x": [
          "Jun 2021",
          "Sep 2021",
          "Dec 2021",
          "Mar 2022",
          "Jun 2022",
          "Sep 2022",
          "Dec 2022",
          "Mar 2023",
          "Jun 2023",
          "Sep 2023",
          "Dec 2023",
          "Mar 2024",
          "Jun 2024"
         ],
         "y": [
          0,
          0,
          0,
          0,
          0,
          0,
          0,
          0,
          0,
          0,
          0,
          0,
          0
         ]
        },
        {
         "name": "PNB Depreciation",
         "type": "bar",
         "x": [
          "Jun 2021",
          "Sep 2021",
          "Dec 2021",
          "Mar 2022",
          "Jun 2022",
          "Sep 2022",
          "Dec 2022",
          "Mar 2023",
          "Jun 2023",
          "Sep 2023",
          "Dec 2023",
          "Mar 2024",
          "Jun 2024"
         ],
         "y": [
          0,
          0,
          0,
          0,
          0,
          0,
          0,
          0,
          0,
          0,
          0,
          0,
          0
         ]
        },
        {
         "name": "HDFCBANK Profit before tax",
         "type": "bar",
         "x": [
          "Jun 2021",
          "Sep 2021",
          "Dec 2021",
          "Mar 2022",
          "Jun 2022",
          "Sep 2022",
          "Dec 2022",
          "Mar 2023",
          "Jun 2023",
          "Sep 2023",
          "Dec 2023",
          "Mar 2024",
          "Jun 2024"
         ],
         "y": [
          10306,
          11883,
          13782,
          13045,
          12180,
          14152,
          16218,
          15936,
          15912,
          19790,
          19431,
          15763,
          21283
         ]
        },
        {
         "name": "ICICIBANK Profit before tax",
         "type": "bar",
         "x": [
          "Jun 2021",
          "Sep 2021",
          "Dec 2021",
          "Mar 2022",
          "Jun 2022",
          "Sep 2022",
          "Dec 2022",
          "Mar 2023",
          "Jun 2023",
          "Sep 2023",
          "Dec 2023",
          "Mar 2024",
          "Jun 2024"
         ],
         "y": [
          6043,
          7201,
          8141,
          9224,
          9165,
          10036,
          11014,
          12207,
          12847,
          13647,
          13674,
          14320,
          14693
         ]
        },
        {
         "name": "KOTAKBANK Profit before tax",
         "type": "bar",
         "x": [
          "Jun 2021",
          "Sep 2021",
          "Dec 2021",
          "Mar 2022",
          "Jun 2022",
          "Sep 2022",
          "Dec 2022",
          "Mar 2023",
          "Jun 2023",
          "Sep 2023",
          "Dec 2023",
          "Mar 2024",
          "Jun 2024"
         ],
         "y": [
          2186,
          2696,
          2833,
          3646,
          2760,
          3431,
          3701,
          4500,
          4585,
          4244,
          3987,
          5198,
          8196
         ]
        },
        {
         "name": "AXISBANK Profit before tax",
         "type": "bar",
         "x": [
          "Jun 2021",
          "Sep 2021",
          "Dec 2021",
          "Mar 2022",
          "Jun 2022",
          "Sep 2022",
          "Dec 2022",
          "Mar 2023",
          "Jun 2023",
          "Sep 2023",
          "Dec 2023",
          "Mar 2024",
          "Jun 2024"
         ],
         "y": [
          2884,
          4193,
          4827,
          5479,
          5528,
          7166,
          7840,
          -3628,
          7779,
          7817,
          8113,
          9350,
          8067
         ]
        },
        {
         "name": "INDUSINDBK Profit before tax",
         "type": "bar",
         "x": [
          "Jun 2021",
          "Sep 2021",
          "Dec 2021",
          "Mar 2022",
          "Jun 2022",
          "Sep 2022",
          "Dec 2022",
          "Mar 2023",
          "Jun 2023",
          "Sep 2023",
          "Dec 2023",
          "Mar 2024",
          "Jun 2024"
         ],
         "y": [
          1287,
          1471,
          1551,
          1865,
          2143,
          2379,
          2616,
          2723,
          2838,
          2907,
          3068,
          3128,
          2877
         ]
        },
        {
         "name": "SBIN Profit before tax",
         "type": "bar",
         "x": [
          "Jun 2021",
          "Sep 2021",
          "Dec 2021",
          "Mar 2022",
          "Jun 2022",
          "Sep 2022",
          "Dec 2022",
          "Mar 2023",
          "Jun 2023",
          "Sep 2023",
          "Dec 2023",
          "Mar 2024",
          "Jun 2024"
         ],
         "y": [
          8923,
          10472,
          11548,
          12479,
          8360,
          18081,
          19459,
          21305,
          22796,
          19301,
          12548,
          27138,
          22999
         ]
        },
        {
         "name": "BANKBARODA Profit before tax",
         "type": "bar",
         "x": [
          "Jun 2021",
          "Sep 2021",
          "Dec 2021",
          "Mar 2022",
          "Jun 2022",
          "Sep 2022",
          "Dec 2022",
          "Mar 2023",
          "Jun 2023",
          "Sep 2023",
          "Dec 2023",
          "Mar 2024",
          "Jun 2024"
         ],
         "y": [
          1595,
          2916,
          2976,
          1899,
          2843,
          4403,
          5828,
          6652,
          5878,
          5859,
          6349,
          6804,
          6151
         ]
        },
        {
         "name": "PNB Profit before tax",
         "type": "bar",
         "x": [
          "Jun 2021",
          "Sep 2021",
          "Dec 2021",
          "Mar 2022",
          "Jun 2022",
          "Sep 2022",
          "Dec 2022",
          "Mar 2023",
          "Jun 2023",
          "Sep 2023",
          "Dec 2023",
          "Mar 2024",
          "Jun 2024"
         ],
         "y": [
          1421,
          760,
          1723,
          413,
          589,
          661,
          1003,
          2036,
          2003,
          2772,
          3592,
          4828,
          5269
         ]
        },
        {
         "name": "HDFCBANK Tax %",
         "type": "bar",
         "x": [
          "Jun 2021",
          "Sep 2021",
          "Dec 2021",
          "Mar 2022",
          "Jun 2022",
          "Sep 2022",
          "Dec 2022",
          "Mar 2023",
          "Jun 2023",
          "Sep 2023",
          "Dec 2023",
          "Mar 2024",
          "Jun 2024"
         ],
         "y": [
          25,
          26,
          25,
          23,
          24,
          25,
          24,
          24,
          25,
          19,
          16,
          -5,
          24
         ]
        },
        {
         "name": "ICICIBANK Tax %",
         "type": "bar",
         "x": [
          "Jun 2021",
          "Sep 2021",
          "Dec 2021",
          "Mar 2022",
          "Jun 2022",
          "Sep 2022",
          "Dec 2022",
          "Mar 2023",
          "Jun 2023",
          "Sep 2023",
          "Dec 2023",
          "Mar 2024",
          "Jun 2024"
         ],
         "y": [
          24,
          23,
          24,
          24,
          25,
          25,
          25,
          25,
          25,
          25,
          25,
          25,
          25
         ]
        },
        {
         "name": "KOTAKBANK Tax %",
         "type": "bar",
         "x": [
          "Jun 2021",
          "Sep 2021",
          "Dec 2021",
          "Mar 2022",
          "Jun 2022",
          "Sep 2022",
          "Dec 2022",
          "Mar 2023",
          "Jun 2023",
          "Sep 2023",
          "Dec 2023",
          "Mar 2024",
          "Jun 2024"
         ],
         "y": [
          25,
          25,
          25,
          24,
          25,
          25,
          25,
          22,
          25,
          25,
          25,
          20,
          24
         ]
        },
        {
         "name": "AXISBANK Tax %",
         "type": "bar",
         "x": [
          "Jun 2021",
          "Sep 2021",
          "Dec 2021",
          "Mar 2022",
          "Jun 2022",
          "Sep 2022",
          "Dec 2022",
          "Mar 2023",
          "Jun 2023",
          "Sep 2023",
          "Dec 2023",
          "Mar 2024",
          "Jun 2024"
         ],
         "y": [
          25,
          25,
          25,
          25,
          25,
          26,
          25,
          58,
          25,
          25,
          25,
          24,
          25
         ]
        },
        {
         "name": "INDUSINDBK Tax %",
         "type": "bar",
         "x": [
          "Jun 2021",
          "Sep 2021",
          "Dec 2021",
          "Mar 2022",
          "Jun 2022",
          "Sep 2022",
          "Dec 2022",
          "Mar 2023",
          "Jun 2023",
          "Sep 2023",
          "Dec 2023",
          "Mar 2024",
          "Jun 2024"
         ],
         "y": [
          24,
          24,
          25,
          27,
          25,
          25,
          25,
          25,
          25,
          25,
          25,
          25,
          25
         ]
        },
        {
         "name": "SBIN Tax %",
         "type": "bar",
         "x": [
          "Jun 2021",
          "Sep 2021",
          "Dec 2021",
          "Mar 2022",
          "Jun 2022",
          "Sep 2022",
          "Dec 2022",
          "Mar 2023",
          "Jun 2023",
          "Sep 2023",
          "Dec 2023",
          "Mar 2024",
          "Jun 2024"
         ],
         "y": [
          27,
          27,
          27,
          27,
          27,
          27,
          27,
          22,
          26,
          26,
          27,
          24,
          26
         ]
        },
        {
         "name": "BANKBARODA Tax %",
         "type": "bar",
         "x": [
          "Jun 2021",
          "Sep 2021",
          "Dec 2021",
          "Mar 2022",
          "Jun 2022",
          "Sep 2022",
          "Dec 2022",
          "Mar 2023",
          "Jun 2023",
          "Sep 2023",
          "Dec 2023",
          "Mar 2024",
          "Jun 2024"
         ],
         "y": [
          24,
          28,
          26,
          6,
          24,
          25,
          34,
          28,
          31,
          27,
          28,
          28,
          28
         ]
        },
        {
         "name": "PNB Tax %",
         "type": "bar",
         "x": [
          "Jun 2021",
          "Sep 2021",
          "Dec 2021",
          "Mar 2022",
          "Jun 2022",
          "Sep 2022",
          "Dec 2022",
          "Mar 2023",
          "Jun 2023",
          "Sep 2023",
          "Dec 2023",
          "Mar 2024",
          "Jun 2024"
         ],
         "y": [
          28,
          -45,
          35,
          51,
          48,
          38,
          37,
          43,
          37,
          37,
          38,
          38,
          38
         ]
        },
        {
         "name": "HDFCBANK Net Profit",
         "type": "bar",
         "x": [
          "Jun 2021",
          "Sep 2021",
          "Dec 2021",
          "Mar 2022",
          "Jun 2022",
          "Sep 2022",
          "Dec 2022",
          "Mar 2023",
          "Jun 2023",
          "Sep 2023",
          "Dec 2023",
          "Mar 2024",
          "Jun 2024"
         ],
         "y": [
          7730,
          8834,
          10342,
          10055,
          9196,
          10606,
          12259,
          12047,
          11952,
          15976,
          16373,
          16512,
          16175
         ]
        },
        {
         "name": "ICICIBANK Net Profit",
         "type": "bar",
         "x": [
          "Jun 2021",
          "Sep 2021",
          "Dec 2021",
          "Mar 2022",
          "Jun 2022",
          "Sep 2022",
          "Dec 2022",
          "Mar 2023",
          "Jun 2023",
          "Sep 2023",
          "Dec 2023",
          "Mar 2024",
          "Jun 2024"
         ],
         "y": [
          4616,
          5511,
          6194,
          7019,
          6905,
          7558,
          8312,
          9122,
          9648,
          10261,
          10272,
          10708,
          11059
         ]
        },
        {
         "name": "KOTAKBANK Net Profit",
         "type": "bar",
         "x": [
          "Jun 2021",
          "Sep 2021",
          "Dec 2021",
          "Mar 2022",
          "Jun 2022",
          "Sep 2022",
          "Dec 2022",
          "Mar 2023",
          "Jun 2023",
          "Sep 2023",
          "Dec 2023",
          "Mar 2024",
          "Jun 2024"
         ],
         "y": [
          1642,
          2032,
          2131,
          2767,
          2071,
          2581,
          2792,
          3496,
          3452,
          3191,
          3005,
          4133,
          6250
         ]
        },
        {
         "name": "AXISBANK Net Profit",
         "type": "bar",
         "x": [
          "Jun 2021",
          "Sep 2021",
          "Dec 2021",
          "Mar 2022",
          "Jun 2022",
          "Sep 2022",
          "Dec 2022",
          "Mar 2023",
          "Jun 2023",
          "Sep 2023",
          "Dec 2023",
          "Mar 2024",
          "Jun 2024"
         ],
         "y": [
          2160,
          3133,
          3614,
          4118,
          4125,
          5330,
          5853,
          -5728,
          5797,
          5864,
          6071,
          7130,
          6035
         ]
        },
        {
         "name": "INDUSINDBK Net Profit",
         "type": "bar",
         "x": [
          "Jun 2021",
          "Sep 2021",
          "Dec 2021",
          "Mar 2022",
          "Jun 2022",
          "Sep 2022",
          "Dec 2022",
          "Mar 2023",
          "Jun 2023",
          "Sep 2023",
          "Dec 2023",
          "Mar 2024",
          "Jun 2024"
         ],
         "y": [
          975,
          1114,
          1161,
          1361,
          1603,
          1787,
          1959,
          2041,
          2124,
          2181,
          2298,
          2347,
          2152
         ]
        },
        {
         "name": "SBIN Net Profit",
         "type": "bar",
         "x": [
          "Jun 2021",
          "Sep 2021",
          "Dec 2021",
          "Mar 2022",
          "Jun 2022",
          "Sep 2022",
          "Dec 2022",
          "Mar 2023",
          "Jun 2023",
          "Sep 2023",
          "Dec 2023",
          "Mar 2024",
          "Jun 2024"
         ],
         "y": [
          6504,
          7627,
          8432,
          9114,
          6068,
          13265,
          14205,
          16695,
          16884,
          14330,
          9164,
          20698,
          17035
         ]
        },
        {
         "name": "BANKBARODA Net Profit",
         "type": "bar",
         "x": [
          "Jun 2021",
          "Sep 2021",
          "Dec 2021",
          "Mar 2022",
          "Jun 2022",
          "Sep 2022",
          "Dec 2022",
          "Mar 2023",
          "Jun 2023",
          "Sep 2023",
          "Dec 2023",
          "Mar 2024",
          "Jun 2024"
         ],
         "y": [
          1209,
          2088,
          2197,
          1779,
          2168,
          3313,
          3853,
          4775,
          4070,
          4253,
          4579,
          4886,
          4458
         ]
        },
        {
         "name": "PNB Net Profit",
         "type": "bar",
         "x": [
          "Jun 2021",
          "Sep 2021",
          "Dec 2021",
          "Mar 2022",
          "Jun 2022",
          "Sep 2022",
          "Dec 2022",
          "Mar 2023",
          "Jun 2023",
          "Sep 2023",
          "Dec 2023",
          "Mar 2024",
          "Jun 2024"
         ],
         "y": [
          1023,
          1105,
          1127,
          202,
          308,
          411,
          629,
          1159,
          1255,
          1756,
          2223,
          3010,
          3252
         ]
        },
        {
         "name": "HDFCBANK EPS in Rs",
         "type": "bar",
         "x": [
          "Jun 2021",
          "Sep 2021",
          "Dec 2021",
          "Mar 2022",
          "Jun 2022",
          "Sep 2022",
          "Dec 2022",
          "Mar 2023",
          "Jun 2023",
          "Sep 2023",
          "Dec 2023",
          "Mar 2024",
          "Jun 2024"
         ],
         "y": [
          13.99,
          15.95,
          18.66,
          18.13,
          16.56,
          19.04,
          21.98,
          21.59,
          21.37,
          21.07,
          21.56,
          21.73,
          21.26
         ]
        },
        {
         "name": "ICICIBANK EPS in Rs",
         "type": "bar",
         "x": [
          "Jun 2021",
          "Sep 2021",
          "Dec 2021",
          "Mar 2022",
          "Jun 2022",
          "Sep 2022",
          "Dec 2022",
          "Mar 2023",
          "Jun 2023",
          "Sep 2023",
          "Dec 2023",
          "Mar 2024",
          "Jun 2024"
         ],
         "y": [
          6.67,
          7.95,
          8.92,
          10.1,
          9.93,
          10.85,
          11.91,
          13.06,
          13.79,
          14.65,
          14.64,
          15.25,
          15.72
         ]
        },
        {
         "name": "KOTAKBANK EPS in Rs",
         "type": "bar",
         "x": [
          "Jun 2021",
          "Sep 2021",
          "Dec 2021",
          "Mar 2022",
          "Jun 2022",
          "Sep 2022",
          "Dec 2022",
          "Mar 2023",
          "Jun 2023",
          "Sep 2023",
          "Dec 2023",
          "Mar 2024",
          "Jun 2024"
         ],
         "y": [
          8.28,
          10.25,
          10.74,
          13.94,
          10.43,
          13,
          14.06,
          17.6,
          17.37,
          16.06,
          15.12,
          20.79,
          31.44
         ]
        },
        {
         "name": "AXISBANK EPS in Rs",
         "type": "bar",
         "x": [
          "Jun 2021",
          "Sep 2021",
          "Dec 2021",
          "Mar 2022",
          "Jun 2022",
          "Sep 2022",
          "Dec 2022",
          "Mar 2023",
          "Jun 2023",
          "Sep 2023",
          "Dec 2023",
          "Mar 2024",
          "Jun 2024"
         ],
         "y": [
          7.05,
          10.22,
          11.78,
          13.41,
          13.43,
          17.35,
          19.03,
          -18.62,
          18.82,
          19.03,
          19.69,
          23.1,
          19.53
         ]
        },
        {
         "name": "INDUSINDBK EPS in Rs",
         "type": "bar",
         "x": [
          "Jun 2021",
          "Sep 2021",
          "Dec 2021",
          "Mar 2022",
          "Jun 2022",
          "Sep 2022",
          "Dec 2022",
          "Mar 2023",
          "Jun 2023",
          "Sep 2023",
          "Dec 2023",
          "Mar 2024",
          "Jun 2024"
         ],
         "y": [
          12.6,
          14.38,
          14.99,
          17.57,
          20.68,
          23.05,
          25.27,
          26.3,
          27.37,
          28.07,
          29.55,
          30.15,
          27.64
         ]
        },
        {
         "name": "SBIN EPS in Rs",
         "type": "bar",
         "x": [
          "Jun 2021",
          "Sep 2021",
          "Dec 2021",
          "Mar 2022",
          "Jun 2022",
          "Sep 2022",
          "Dec 2022",
          "Mar 2023",
          "Jun 2023",
          "Sep 2023",
          "Dec 2023",
          "Mar 2024",
          "Jun 2024"
         ],
         "y": [
          7.29,
          8.55,
          9.45,
          10.21,
          6.8,
          14.86,
          15.92,
          18.71,
          18.92,
          16.06,
          10.27,
          23.19,
          19.09
         ]
        },
        {
         "name": "BANKBARODA EPS in Rs",
         "type": "bar",
         "x": [
          "Jun 2021",
          "Sep 2021",
          "Dec 2021",
          "Mar 2022",
          "Jun 2022",
          "Sep 2022",
          "Dec 2022",
          "Mar 2023",
          "Jun 2023",
          "Sep 2023",
          "Dec 2023",
          "Mar 2024",
          "Jun 2024"
         ],
         "y": [
          2.34,
          4.04,
          4.25,
          3.44,
          4.19,
          6.41,
          7.45,
          9.23,
          7.87,
          8.22,
          8.86,
          9.45,
          8.62
         ]
        },
        {
         "name": "PNB EPS in Rs",
         "type": "bar",
         "x": [
          "Jun 2021",
          "Sep 2021",
          "Dec 2021",
          "Mar 2022",
          "Jun 2022",
          "Sep 2022",
          "Dec 2022",
          "Mar 2023",
          "Jun 2023",
          "Sep 2023",
          "Dec 2023",
          "Mar 2024",
          "Jun 2024"
         ],
         "y": [
          0.93,
          1,
          1.02,
          0.18,
          0.28,
          0.37,
          0.57,
          1.05,
          1.14,
          1.59,
          2.02,
          2.73,
          2.95
         ]
        },
        {
         "name": "HDFCBANK Gross NPA %",
         "type": "bar",
         "x": [
          "Jun 2021",
          "Sep 2021",
          "Dec 2021",
          "Mar 2022",
          "Jun 2022",
          "Sep 2022",
          "Dec 2022",
          "Mar 2023",
          "Jun 2023",
          "Sep 2023",
          "Dec 2023",
          "Mar 2024",
          "Jun 2024"
         ],
         "y": [
          1.47,
          1.35,
          1.26,
          1.17,
          1.28,
          1.23,
          1.23,
          1.12,
          1.17,
          1.34,
          1.26,
          1.24,
          1.33
         ]
        },
        {
         "name": "ICICIBANK Gross NPA %",
         "type": "bar",
         "x": [
          "Jun 2021",
          "Sep 2021",
          "Dec 2021",
          "Mar 2022",
          "Jun 2022",
          "Sep 2022",
          "Dec 2022",
          "Mar 2023",
          "Jun 2023",
          "Sep 2023",
          "Dec 2023",
          "Mar 2024",
          "Jun 2024"
         ],
         "y": [
          5.15,
          4.82,
          4.13,
          3.6,
          3.41,
          3.19,
          3.07,
          2.81,
          2.76,
          2.48,
          2.3,
          2.16,
          2.15
         ]
        },
        {
         "name": "KOTAKBANK Gross NPA %",
         "type": "bar",
         "x": [
          "Jun 2021",
          "Sep 2021",
          "Dec 2021",
          "Mar 2022",
          "Jun 2022",
          "Sep 2022",
          "Dec 2022",
          "Mar 2023",
          "Jun 2023",
          "Sep 2023",
          "Dec 2023",
          "Mar 2024",
          "Jun 2024"
         ],
         "y": [
          3.56,
          3.19,
          2.71,
          2.34,
          2.24,
          2.08,
          1.9,
          1.78,
          1.77,
          1.72,
          1.73,
          1.39,
          1.39
         ]
        },
        {
         "name": "AXISBANK Gross NPA %",
         "type": "bar",
         "x": [
          "Jun 2021",
          "Sep 2021",
          "Dec 2021",
          "Mar 2022",
          "Jun 2022",
          "Sep 2022",
          "Dec 2022",
          "Mar 2023",
          "Jun 2023",
          "Sep 2023",
          "Dec 2023",
          "Mar 2024",
          "Jun 2024"
         ],
         "y": [
          3.85,
          3.53,
          3.17,
          2.82,
          2.76,
          2.5,
          2.38,
          2.02,
          1.96,
          1.73,
          1.58,
          1.43,
          1.54
         ]
        },
        {
         "name": "INDUSINDBK Gross NPA %",
         "type": "bar",
         "x": [
          "Jun 2021",
          "Sep 2021",
          "Dec 2021",
          "Mar 2022",
          "Jun 2022",
          "Sep 2022",
          "Dec 2022",
          "Mar 2023",
          "Jun 2023",
          "Sep 2023",
          "Dec 2023",
          "Mar 2024",
          "Jun 2024"
         ],
         "y": [
          2.88,
          2.77,
          2.48,
          2.27,
          2.35,
          2.11,
          2.06,
          1.98,
          1.94,
          1.93,
          1.92,
          1.92,
          2.02
         ]
        },
        {
         "name": "SBIN Gross NPA %",
         "type": "bar",
         "x": [
          "Jun 2021",
          "Sep 2021",
          "Dec 2021",
          "Mar 2022",
          "Jun 2022",
          "Sep 2022",
          "Dec 2022",
          "Mar 2023",
          "Jun 2023",
          "Sep 2023",
          "Dec 2023",
          "Mar 2024",
          "Jun 2024"
         ],
         "y": [
          5.32,
          4.9,
          4.5,
          3.97,
          3.91,
          3.52,
          3.14,
          2.78,
          2.76,
          2.55,
          2.42,
          2.24,
          2.21
         ]
        },
        {
         "name": "BANKBARODA Gross NPA %",
         "type": "bar",
         "x": [
          "Jun 2021",
          "Sep 2021",
          "Dec 2021",
          "Mar 2022",
          "Jun 2022",
          "Sep 2022",
          "Dec 2022",
          "Mar 2023",
          "Jun 2023",
          "Sep 2023",
          "Dec 2023",
          "Mar 2024",
          "Jun 2024"
         ],
         "y": [
          8.86,
          8.11,
          7.25,
          6.61,
          6.26,
          5.31,
          4.53,
          3.79,
          3.51,
          3.32,
          3.08,
          2.92,
          2.88
         ]
        },
        {
         "name": "PNB Gross NPA %",
         "type": "bar",
         "x": [
          "Jun 2021",
          "Sep 2021",
          "Dec 2021",
          "Mar 2022",
          "Jun 2022",
          "Sep 2022",
          "Dec 2022",
          "Mar 2023",
          "Jun 2023",
          "Sep 2023",
          "Dec 2023",
          "Mar 2024",
          "Jun 2024"
         ],
         "y": [
          14.33,
          13.63,
          12.88,
          11.78,
          11.27,
          10.48,
          9.76,
          8.74,
          7.73,
          6.96,
          6.24,
          5.73,
          4.98
         ]
        },
        {
         "name": "HDFCBANK Net NPA %",
         "type": "bar",
         "x": [
          "Jun 2021",
          "Sep 2021",
          "Dec 2021",
          "Mar 2022",
          "Jun 2022",
          "Sep 2022",
          "Dec 2022",
          "Mar 2023",
          "Jun 2023",
          "Sep 2023",
          "Dec 2023",
          "Mar 2024",
          "Jun 2024"
         ],
         "y": [
          0.48,
          0.4,
          0.37,
          0.32,
          0.35,
          0.33,
          0.33,
          0.27,
          0.3,
          0.35,
          0.31,
          0.33,
          0.39
         ]
        },
        {
         "name": "ICICIBANK Net NPA %",
         "type": "bar",
         "x": [
          "Jun 2021",
          "Sep 2021",
          "Dec 2021",
          "Mar 2022",
          "Jun 2022",
          "Sep 2022",
          "Dec 2022",
          "Mar 2023",
          "Jun 2023",
          "Sep 2023",
          "Dec 2023",
          "Mar 2024",
          "Jun 2024"
         ],
         "y": [
          1.16,
          0.99,
          0.85,
          0.76,
          0.7,
          0.61,
          0.55,
          0.48,
          0.48,
          0.43,
          0.44,
          0.42,
          0.43
         ]
        },
        {
         "name": "KOTAKBANK Net NPA %",
         "type": "bar",
         "x": [
          "Jun 2021",
          "Sep 2021",
          "Dec 2021",
          "Mar 2022",
          "Jun 2022",
          "Sep 2022",
          "Dec 2022",
          "Mar 2023",
          "Jun 2023",
          "Sep 2023",
          "Dec 2023",
          "Mar 2024",
          "Jun 2024"
         ],
         "y": [
          1.28,
          1.06,
          0.79,
          0.64,
          0.62,
          0.55,
          0.43,
          0.37,
          0.4,
          0.37,
          0.34,
          0.34,
          0.35
         ]
        },
        {
         "name": "AXISBANK Net NPA %",
         "type": "bar",
         "x": [
          "Jun 2021",
          "Sep 2021",
          "Dec 2021",
          "Mar 2022",
          "Jun 2022",
          "Sep 2022",
          "Dec 2022",
          "Mar 2023",
          "Jun 2023",
          "Sep 2023",
          "Dec 2023",
          "Mar 2024",
          "Jun 2024"
         ],
         "y": [
          1.2,
          1.08,
          0.91,
          0.73,
          0.64,
          0.51,
          0.47,
          0.39,
          0.41,
          0.36,
          0.36,
          0.31,
          0.34
         ]
        },
        {
         "name": "INDUSINDBK Net NPA %",
         "type": "bar",
         "x": [
          "Jun 2021",
          "Sep 2021",
          "Dec 2021",
          "Mar 2022",
          "Jun 2022",
          "Sep 2022",
          "Dec 2022",
          "Mar 2023",
          "Jun 2023",
          "Sep 2023",
          "Dec 2023",
          "Mar 2024",
          "Jun 2024"
         ],
         "y": [
          0.84,
          0.8,
          0.71,
          0.64,
          0.67,
          0.61,
          0.62,
          0.59,
          0.58,
          0.57,
          0.57,
          0.57,
          0.6
         ]
        },
        {
         "name": "SBIN Net NPA %",
         "type": "bar",
         "x": [
          "Jun 2021",
          "Sep 2021",
          "Dec 2021",
          "Mar 2022",
          "Jun 2022",
          "Sep 2022",
          "Dec 2022",
          "Mar 2023",
          "Jun 2023",
          "Sep 2023",
          "Dec 2023",
          "Mar 2024",
          "Jun 2024"
         ],
         "y": [
          1.77,
          1.52,
          1.34,
          1.02,
          1,
          0.8,
          0.77,
          0.67,
          0.71,
          0.64,
          0.64,
          0.57,
          0.57
         ]
        },
        {
         "name": "BANKBARODA Net NPA %",
         "type": "bar",
         "x": [
          "Jun 2021",
          "Sep 2021",
          "Dec 2021",
          "Mar 2022",
          "Jun 2022",
          "Sep 2022",
          "Dec 2022",
          "Mar 2023",
          "Jun 2023",
          "Sep 2023",
          "Dec 2023",
          "Mar 2024",
          "Jun 2024"
         ],
         "y": [
          3.03,
          2.83,
          2.25,
          1.72,
          1.58,
          1.16,
          0.99,
          0.89,
          0.78,
          0.76,
          0.7,
          0.68,
          0.69
         ]
        },
        {
         "name": "PNB Net NPA %",
         "type": "bar",
         "x": [
          "Jun 2021",
          "Sep 2021",
          "Dec 2021",
          "Mar 2022",
          "Jun 2022",
          "Sep 2022",
          "Dec 2022",
          "Mar 2023",
          "Jun 2023",
          "Sep 2023",
          "Dec 2023",
          "Mar 2024",
          "Jun 2024"
         ],
         "y": [
          5.84,
          5.49,
          4.9,
          4.8,
          4.28,
          3.8,
          3.3,
          2.72,
          1.98,
          1.47,
          0.96,
          0.73,
          0.6
         ]
        }
       ],
       "layout": {
        "autosize": true,
        "template": {
         "data": {
          "bar": [
           {
            "error_x": {
             "color": "#2a3f5f"
            },
            "error_y": {
             "color": "#2a3f5f"
            },
            "marker": {
             "line": {
              "color": "#E5ECF6",
              "width": 0.5
             },
             "pattern": {
              "fillmode": "overlay",
              "size": 10,
              "solidity": 0.2
             }
            },
            "type": "bar"
           }
          ],
          "barpolar": [
           {
            "marker": {
             "line": {
              "color": "#E5ECF6",
              "width": 0.5
             },
             "pattern": {
              "fillmode": "overlay",
              "size": 10,
              "solidity": 0.2
             }
            },
            "type": "barpolar"
           }
          ],
          "carpet": [
           {
            "aaxis": {
             "endlinecolor": "#2a3f5f",
             "gridcolor": "white",
             "linecolor": "white",
             "minorgridcolor": "white",
             "startlinecolor": "#2a3f5f"
            },
            "baxis": {
             "endlinecolor": "#2a3f5f",
             "gridcolor": "white",
             "linecolor": "white",
             "minorgridcolor": "white",
             "startlinecolor": "#2a3f5f"
            },
            "type": "carpet"
           }
          ],
          "choropleth": [
           {
            "colorbar": {
             "outlinewidth": 0,
             "ticks": ""
            },
            "type": "choropleth"
           }
          ],
          "contour": [
           {
            "colorbar": {
             "outlinewidth": 0,
             "ticks": ""
            },
            "colorscale": [
             [
              0,
              "#0d0887"
             ],
             [
              0.1111111111111111,
              "#46039f"
             ],
             [
              0.2222222222222222,
              "#7201a8"
             ],
             [
              0.3333333333333333,
              "#9c179e"
             ],
             [
              0.4444444444444444,
              "#bd3786"
             ],
             [
              0.5555555555555556,
              "#d8576b"
             ],
             [
              0.6666666666666666,
              "#ed7953"
             ],
             [
              0.7777777777777778,
              "#fb9f3a"
             ],
             [
              0.8888888888888888,
              "#fdca26"
             ],
             [
              1,
              "#f0f921"
             ]
            ],
            "type": "contour"
           }
          ],
          "contourcarpet": [
           {
            "colorbar": {
             "outlinewidth": 0,
             "ticks": ""
            },
            "type": "contourcarpet"
           }
          ],
          "heatmap": [
           {
            "colorbar": {
             "outlinewidth": 0,
             "ticks": ""
            },
            "colorscale": [
             [
              0,
              "#0d0887"
             ],
             [
              0.1111111111111111,
              "#46039f"
             ],
             [
              0.2222222222222222,
              "#7201a8"
             ],
             [
              0.3333333333333333,
              "#9c179e"
             ],
             [
              0.4444444444444444,
              "#bd3786"
             ],
             [
              0.5555555555555556,
              "#d8576b"
             ],
             [
              0.6666666666666666,
              "#ed7953"
             ],
             [
              0.7777777777777778,
              "#fb9f3a"
             ],
             [
              0.8888888888888888,
              "#fdca26"
             ],
             [
              1,
              "#f0f921"
             ]
            ],
            "type": "heatmap"
           }
          ],
          "heatmapgl": [
           {
            "colorbar": {
             "outlinewidth": 0,
             "ticks": ""
            },
            "colorscale": [
             [
              0,
              "#0d0887"
             ],
             [
              0.1111111111111111,
              "#46039f"
             ],
             [
              0.2222222222222222,
              "#7201a8"
             ],
             [
              0.3333333333333333,
              "#9c179e"
             ],
             [
              0.4444444444444444,
              "#bd3786"
             ],
             [
              0.5555555555555556,
              "#d8576b"
             ],
             [
              0.6666666666666666,
              "#ed7953"
             ],
             [
              0.7777777777777778,
              "#fb9f3a"
             ],
             [
              0.8888888888888888,
              "#fdca26"
             ],
             [
              1,
              "#f0f921"
             ]
            ],
            "type": "heatmapgl"
           }
          ],
          "histogram": [
           {
            "marker": {
             "pattern": {
              "fillmode": "overlay",
              "size": 10,
              "solidity": 0.2
             }
            },
            "type": "histogram"
           }
          ],
          "histogram2d": [
           {
            "colorbar": {
             "outlinewidth": 0,
             "ticks": ""
            },
            "colorscale": [
             [
              0,
              "#0d0887"
             ],
             [
              0.1111111111111111,
              "#46039f"
             ],
             [
              0.2222222222222222,
              "#7201a8"
             ],
             [
              0.3333333333333333,
              "#9c179e"
             ],
             [
              0.4444444444444444,
              "#bd3786"
             ],
             [
              0.5555555555555556,
              "#d8576b"
             ],
             [
              0.6666666666666666,
              "#ed7953"
             ],
             [
              0.7777777777777778,
              "#fb9f3a"
             ],
             [
              0.8888888888888888,
              "#fdca26"
             ],
             [
              1,
              "#f0f921"
             ]
            ],
            "type": "histogram2d"
           }
          ],
          "histogram2dcontour": [
           {
            "colorbar": {
             "outlinewidth": 0,
             "ticks": ""
            },
            "colorscale": [
             [
              0,
              "#0d0887"
             ],
             [
              0.1111111111111111,
              "#46039f"
             ],
             [
              0.2222222222222222,
              "#7201a8"
             ],
             [
              0.3333333333333333,
              "#9c179e"
             ],
             [
              0.4444444444444444,
              "#bd3786"
             ],
             [
              0.5555555555555556,
              "#d8576b"
             ],
             [
              0.6666666666666666,
              "#ed7953"
             ],
             [
              0.7777777777777778,
              "#fb9f3a"
             ],
             [
              0.8888888888888888,
              "#fdca26"
             ],
             [
              1,
              "#f0f921"
             ]
            ],
            "type": "histogram2dcontour"
           }
          ],
          "mesh3d": [
           {
            "colorbar": {
             "outlinewidth": 0,
             "ticks": ""
            },
            "type": "mesh3d"
           }
          ],
          "parcoords": [
           {
            "line": {
             "colorbar": {
              "outlinewidth": 0,
              "ticks": ""
             }
            },
            "type": "parcoords"
           }
          ],
          "pie": [
           {
            "automargin": true,
            "type": "pie"
           }
          ],
          "scatter": [
           {
            "fillpattern": {
             "fillmode": "overlay",
             "size": 10,
             "solidity": 0.2
            },
            "type": "scatter"
           }
          ],
          "scatter3d": [
           {
            "line": {
             "colorbar": {
              "outlinewidth": 0,
              "ticks": ""
             }
            },
            "marker": {
             "colorbar": {
              "outlinewidth": 0,
              "ticks": ""
             }
            },
            "type": "scatter3d"
           }
          ],
          "scattercarpet": [
           {
            "marker": {
             "colorbar": {
              "outlinewidth": 0,
              "ticks": ""
             }
            },
            "type": "scattercarpet"
           }
          ],
          "scattergeo": [
           {
            "marker": {
             "colorbar": {
              "outlinewidth": 0,
              "ticks": ""
             }
            },
            "type": "scattergeo"
           }
          ],
          "scattergl": [
           {
            "marker": {
             "colorbar": {
              "outlinewidth": 0,
              "ticks": ""
             }
            },
            "type": "scattergl"
           }
          ],
          "scattermapbox": [
           {
            "marker": {
             "colorbar": {
              "outlinewidth": 0,
              "ticks": ""
             }
            },
            "type": "scattermapbox"
           }
          ],
          "scatterpolar": [
           {
            "marker": {
             "colorbar": {
              "outlinewidth": 0,
              "ticks": ""
             }
            },
            "type": "scatterpolar"
           }
          ],
          "scatterpolargl": [
           {
            "marker": {
             "colorbar": {
              "outlinewidth": 0,
              "ticks": ""
             }
            },
            "type": "scatterpolargl"
           }
          ],
          "scatterternary": [
           {
            "marker": {
             "colorbar": {
              "outlinewidth": 0,
              "ticks": ""
             }
            },
            "type": "scatterternary"
           }
          ],
          "surface": [
           {
            "colorbar": {
             "outlinewidth": 0,
             "ticks": ""
            },
            "colorscale": [
             [
              0,
              "#0d0887"
             ],
             [
              0.1111111111111111,
              "#46039f"
             ],
             [
              0.2222222222222222,
              "#7201a8"
             ],
             [
              0.3333333333333333,
              "#9c179e"
             ],
             [
              0.4444444444444444,
              "#bd3786"
             ],
             [
              0.5555555555555556,
              "#d8576b"
             ],
             [
              0.6666666666666666,
              "#ed7953"
             ],
             [
              0.7777777777777778,
              "#fb9f3a"
             ],
             [
              0.8888888888888888,
              "#fdca26"
             ],
             [
              1,
              "#f0f921"
             ]
            ],
            "type": "surface"
           }
          ],
          "table": [
           {
            "cells": {
             "fill": {
              "color": "#EBF0F8"
             },
             "line": {
              "color": "white"
             }
            },
            "header": {
             "fill": {
              "color": "#C8D4E3"
             },
             "line": {
              "color": "white"
             }
            },
            "type": "table"
           }
          ]
         },
         "layout": {
          "annotationdefaults": {
           "arrowcolor": "#2a3f5f",
           "arrowhead": 0,
           "arrowwidth": 1
          },
          "autotypenumbers": "strict",
          "coloraxis": {
           "colorbar": {
            "outlinewidth": 0,
            "ticks": ""
           }
          },
          "colorscale": {
           "diverging": [
            [
             0,
             "#8e0152"
            ],
            [
             0.1,
             "#c51b7d"
            ],
            [
             0.2,
             "#de77ae"
            ],
            [
             0.3,
             "#f1b6da"
            ],
            [
             0.4,
             "#fde0ef"
            ],
            [
             0.5,
             "#f7f7f7"
            ],
            [
             0.6,
             "#e6f5d0"
            ],
            [
             0.7,
             "#b8e186"
            ],
            [
             0.8,
             "#7fbc41"
            ],
            [
             0.9,
             "#4d9221"
            ],
            [
             1,
             "#276419"
            ]
           ],
           "sequential": [
            [
             0,
             "#0d0887"
            ],
            [
             0.1111111111111111,
             "#46039f"
            ],
            [
             0.2222222222222222,
             "#7201a8"
            ],
            [
             0.3333333333333333,
             "#9c179e"
            ],
            [
             0.4444444444444444,
             "#bd3786"
            ],
            [
             0.5555555555555556,
             "#d8576b"
            ],
            [
             0.6666666666666666,
             "#ed7953"
            ],
            [
             0.7777777777777778,
             "#fb9f3a"
            ],
            [
             0.8888888888888888,
             "#fdca26"
            ],
            [
             1,
             "#f0f921"
            ]
           ],
           "sequentialminus": [
            [
             0,
             "#0d0887"
            ],
            [
             0.1111111111111111,
             "#46039f"
            ],
            [
             0.2222222222222222,
             "#7201a8"
            ],
            [
             0.3333333333333333,
             "#9c179e"
            ],
            [
             0.4444444444444444,
             "#bd3786"
            ],
            [
             0.5555555555555556,
             "#d8576b"
            ],
            [
             0.6666666666666666,
             "#ed7953"
            ],
            [
             0.7777777777777778,
             "#fb9f3a"
            ],
            [
             0.8888888888888888,
             "#fdca26"
            ],
            [
             1,
             "#f0f921"
            ]
           ]
          },
          "colorway": [
           "#636efa",
           "#EF553B",
           "#00cc96",
           "#ab63fa",
           "#FFA15A",
           "#19d3f3",
           "#FF6692",
           "#B6E880",
           "#FF97FF",
           "#FECB52"
          ],
          "font": {
           "color": "#2a3f5f"
          },
          "geo": {
           "bgcolor": "white",
           "lakecolor": "white",
           "landcolor": "#E5ECF6",
           "showlakes": true,
           "showland": true,
           "subunitcolor": "white"
          },
          "hoverlabel": {
           "align": "left"
          },
          "hovermode": "closest",
          "mapbox": {
           "style": "light"
          },
          "paper_bgcolor": "white",
          "plot_bgcolor": "#E5ECF6",
          "polar": {
           "angularaxis": {
            "gridcolor": "white",
            "linecolor": "white",
            "ticks": ""
           },
           "bgcolor": "#E5ECF6",
           "radialaxis": {
            "gridcolor": "white",
            "linecolor": "white",
            "ticks": ""
           }
          },
          "scene": {
           "xaxis": {
            "backgroundcolor": "#E5ECF6",
            "gridcolor": "white",
            "gridwidth": 2,
            "linecolor": "white",
            "showbackground": true,
            "ticks": "",
            "zerolinecolor": "white"
           },
           "yaxis": {
            "backgroundcolor": "#E5ECF6",
            "gridcolor": "white",
            "gridwidth": 2,
            "linecolor": "white",
            "showbackground": true,
            "ticks": "",
            "zerolinecolor": "white"
           },
           "zaxis": {
            "backgroundcolor": "#E5ECF6",
            "gridcolor": "white",
            "gridwidth": 2,
            "linecolor": "white",
            "showbackground": true,
            "ticks": "",
            "zerolinecolor": "white"
           }
          },
          "shapedefaults": {
           "line": {
            "color": "#2a3f5f"
           }
          },
          "ternary": {
           "aaxis": {
            "gridcolor": "white",
            "linecolor": "white",
            "ticks": ""
           },
           "baxis": {
            "gridcolor": "white",
            "linecolor": "white",
            "ticks": ""
           },
           "bgcolor": "#E5ECF6",
           "caxis": {
            "gridcolor": "white",
            "linecolor": "white",
            "ticks": ""
           }
          },
          "title": {
           "x": 0.05
          },
          "xaxis": {
           "automargin": true,
           "gridcolor": "white",
           "linecolor": "white",
           "ticks": "",
           "title": {
            "standoff": 15
           },
           "zerolinecolor": "white",
           "zerolinewidth": 2
          },
          "yaxis": {
           "automargin": true,
           "gridcolor": "white",
           "linecolor": "white",
           "ticks": "",
           "title": {
            "standoff": 15
           },
           "zerolinecolor": "white",
           "zerolinewidth": 2
          }
         }
        },
        "updatemenus": [
         {
          "buttons": [
           {
            "args": [
             {
              "visible": [
               true,
               true,
               true,
               true,
               true,
               true,
               true,
               true,
               false,
               false,
               false,
               false,
               false,
               false,
               false,
               false,
               false,
               false,
               false,
               false,
               false,
               false,
               false,
               false,
               false,
               false,
               false,
               false,
               false,
               false,
               false,
               false,
               false,
               false,
               false,
               false,
               false,
               false,
               false,
               false,
               false,
               false,
               false,
               false,
               false,
               false,
               false,
               false,
               false,
               false,
               false,
               false,
               false,
               false,
               false,
               false,
               false,
               false,
               false,
               false,
               false,
               false,
               false,
               false,
               false,
               false,
               false,
               false,
               false,
               false,
               false,
               false,
               false,
               false,
               false,
               false,
               false,
               false,
               false,
               false,
               false,
               false,
               false,
               false,
               false,
               false,
               false,
               false,
               false,
               false,
               false,
               false,
               false,
               false,
               false,
               false,
               false,
               false,
               false,
               false,
               false,
               false,
               false,
               false
              ]
             }
            ],
            "label": "Revenue",
            "method": "update"
           },
           {
            "args": [
             {
              "visible": [
               false,
               false,
               false,
               false,
               false,
               false,
               false,
               false,
               true,
               true,
               true,
               true,
               true,
               true,
               true,
               true,
               false,
               false,
               false,
               false,
               false,
               false,
               false,
               false,
               false,
               false,
               false,
               false,
               false,
               false,
               false,
               false,
               false,
               false,
               false,
               false,
               false,
               false,
               false,
               false,
               false,
               false,
               false,
               false,
               false,
               false,
               false,
               false,
               false,
               false,
               false,
               false,
               false,
               false,
               false,
               false,
               false,
               false,
               false,
               false,
               false,
               false,
               false,
               false,
               false,
               false,
               false,
               false,
               false,
               false,
               false,
               false,
               false,
               false,
               false,
               false,
               false,
               false,
               false,
               false,
               false,
               false,
               false,
               false,
               false,
               false,
               false,
               false,
               false,
               false,
               false,
               false,
               false,
               false,
               false,
               false,
               false,
               false,
               false,
               false,
               false,
               false,
               false,
               false
              ]
             }
            ],
            "label": "Interest",
            "method": "update"
           },
           {
            "args": [
             {
              "visible": [
               false,
               false,
               false,
               false,
               false,
               false,
               false,
               false,
               false,
               false,
               false,
               false,
               false,
               false,
               false,
               false,
               true,
               true,
               true,
               true,
               true,
               true,
               true,
               true,
               false,
               false,
               false,
               false,
               false,
               false,
               false,
               false,
               false,
               false,
               false,
               false,
               false,
               false,
               false,
               false,
               false,
               false,
               false,
               false,
               false,
               false,
               false,
               false,
               false,
               false,
               false,
               false,
               false,
               false,
               false,
               false,
               false,
               false,
               false,
               false,
               false,
               false,
               false,
               false,
               false,
               false,
               false,
               false,
               false,
               false,
               false,
               false,
               false,
               false,
               false,
               false,
               false,
               false,
               false,
               false,
               false,
               false,
               false,
               false,
               false,
               false,
               false,
               false,
               false,
               false,
               false,
               false,
               false,
               false,
               false,
               false,
               false,
               false,
               false,
               false,
               false,
               false,
               false,
               false
              ]
             }
            ],
            "label": "Expenses",
            "method": "update"
           },
           {
            "args": [
             {
              "visible": [
               false,
               false,
               false,
               false,
               false,
               false,
               false,
               false,
               false,
               false,
               false,
               false,
               false,
               false,
               false,
               false,
               false,
               false,
               false,
               false,
               false,
               false,
               false,
               false,
               true,
               true,
               true,
               true,
               true,
               true,
               true,
               true,
               false,
               false,
               false,
               false,
               false,
               false,
               false,
               false,
               false,
               false,
               false,
               false,
               false,
               false,
               false,
               false,
               false,
               false,
               false,
               false,
               false,
               false,
               false,
               false,
               false,
               false,
               false,
               false,
               false,
               false,
               false,
               false,
               false,
               false,
               false,
               false,
               false,
               false,
               false,
               false,
               false,
               false,
               false,
               false,
               false,
               false,
               false,
               false,
               false,
               false,
               false,
               false,
               false,
               false,
               false,
               false,
               false,
               false,
               false,
               false,
               false,
               false,
               false,
               false,
               false,
               false,
               false,
               false,
               false,
               false,
               false,
               false
              ]
             }
            ],
            "label": "Financing Profit",
            "method": "update"
           },
           {
            "args": [
             {
              "visible": [
               false,
               false,
               false,
               false,
               false,
               false,
               false,
               false,
               false,
               false,
               false,
               false,
               false,
               false,
               false,
               false,
               false,
               false,
               false,
               false,
               false,
               false,
               false,
               false,
               false,
               false,
               false,
               false,
               false,
               false,
               false,
               false,
               true,
               true,
               true,
               true,
               true,
               true,
               true,
               true,
               false,
               false,
               false,
               false,
               false,
               false,
               false,
               false,
               false,
               false,
               false,
               false,
               false,
               false,
               false,
               false,
               false,
               false,
               false,
               false,
               false,
               false,
               false,
               false,
               false,
               false,
               false,
               false,
               false,
               false,
               false,
               false,
               false,
               false,
               false,
               false,
               false,
               false,
               false,
               false,
               false,
               false,
               false,
               false,
               false,
               false,
               false,
               false,
               false,
               false,
               false,
               false,
               false,
               false,
               false,
               false,
               false,
               false,
               false,
               false,
               false,
               false,
               false,
               false
              ]
             }
            ],
            "label": "Financing Margin %",
            "method": "update"
           },
           {
            "args": [
             {
              "visible": [
               false,
               false,
               false,
               false,
               false,
               false,
               false,
               false,
               false,
               false,
               false,
               false,
               false,
               false,
               false,
               false,
               false,
               false,
               false,
               false,
               false,
               false,
               false,
               false,
               false,
               false,
               false,
               false,
               false,
               false,
               false,
               false,
               false,
               false,
               false,
               false,
               false,
               false,
               false,
               false,
               true,
               true,
               true,
               true,
               true,
               true,
               true,
               true,
               false,
               false,
               false,
               false,
               false,
               false,
               false,
               false,
               false,
               false,
               false,
               false,
               false,
               false,
               false,
               false,
               false,
               false,
               false,
               false,
               false,
               false,
               false,
               false,
               false,
               false,
               false,
               false,
               false,
               false,
               false,
               false,
               false,
               false,
               false,
               false,
               false,
               false,
               false,
               false,
               false,
               false,
               false,
               false,
               false,
               false,
               false,
               false,
               false,
               false,
               false,
               false,
               false,
               false,
               false,
               false
              ]
             }
            ],
            "label": "Other Income",
            "method": "update"
           },
           {
            "args": [
             {
              "visible": [
               false,
               false,
               false,
               false,
               false,
               false,
               false,
               false,
               false,
               false,
               false,
               false,
               false,
               false,
               false,
               false,
               false,
               false,
               false,
               false,
               false,
               false,
               false,
               false,
               false,
               false,
               false,
               false,
               false,
               false,
               false,
               false,
               false,
               false,
               false,
               false,
               false,
               false,
               false,
               false,
               false,
               false,
               false,
               false,
               false,
               false,
               false,
               false,
               true,
               true,
               true,
               true,
               true,
               true,
               true,
               true,
               false,
               false,
               false,
               false,
               false,
               false,
               false,
               false,
               false,
               false,
               false,
               false,
               false,
               false,
               false,
               false,
               false,
               false,
               false,
               false,
               false,
               false,
               false,
               false,
               false,
               false,
               false,
               false,
               false,
               false,
               false,
               false,
               false,
               false,
               false,
               false,
               false,
               false,
               false,
               false,
               false,
               false,
               false,
               false,
               false,
               false,
               false,
               false
              ]
             }
            ],
            "label": "Depreciation",
            "method": "update"
           },
           {
            "args": [
             {
              "visible": [
               false,
               false,
               false,
               false,
               false,
               false,
               false,
               false,
               false,
               false,
               false,
               false,
               false,
               false,
               false,
               false,
               false,
               false,
               false,
               false,
               false,
               false,
               false,
               false,
               false,
               false,
               false,
               false,
               false,
               false,
               false,
               false,
               false,
               false,
               false,
               false,
               false,
               false,
               false,
               false,
               false,
               false,
               false,
               false,
               false,
               false,
               false,
               false,
               false,
               false,
               false,
               false,
               false,
               false,
               false,
               false,
               true,
               true,
               true,
               true,
               true,
               true,
               true,
               true,
               false,
               false,
               false,
               false,
               false,
               false,
               false,
               false,
               false,
               false,
               false,
               false,
               false,
               false,
               false,
               false,
               false,
               false,
               false,
               false,
               false,
               false,
               false,
               false,
               false,
               false,
               false,
               false,
               false,
               false,
               false,
               false,
               false,
               false,
               false,
               false,
               false,
               false,
               false,
               false
              ]
             }
            ],
            "label": "Profit before tax",
            "method": "update"
           },
           {
            "args": [
             {
              "visible": [
               false,
               false,
               false,
               false,
               false,
               false,
               false,
               false,
               false,
               false,
               false,
               false,
               false,
               false,
               false,
               false,
               false,
               false,
               false,
               false,
               false,
               false,
               false,
               false,
               false,
               false,
               false,
               false,
               false,
               false,
               false,
               false,
               false,
               false,
               false,
               false,
               false,
               false,
               false,
               false,
               false,
               false,
               false,
               false,
               false,
               false,
               false,
               false,
               false,
               false,
               false,
               false,
               false,
               false,
               false,
               false,
               false,
               false,
               false,
               false,
               false,
               false,
               false,
               false,
               true,
               true,
               true,
               true,
               true,
               true,
               true,
               true,
               false,
               false,
               false,
               false,
               false,
               false,
               false,
               false,
               false,
               false,
               false,
               false,
               false,
               false,
               false,
               false,
               false,
               false,
               false,
               false,
               false,
               false,
               false,
               false,
               false,
               false,
               false,
               false,
               false,
               false,
               false,
               false
              ]
             }
            ],
            "label": "Tax %",
            "method": "update"
           },
           {
            "args": [
             {
              "visible": [
               false,
               false,
               false,
               false,
               false,
               false,
               false,
               false,
               false,
               false,
               false,
               false,
               false,
               false,
               false,
               false,
               false,
               false,
               false,
               false,
               false,
               false,
               false,
               false,
               false,
               false,
               false,
               false,
               false,
               false,
               false,
               false,
               false,
               false,
               false,
               false,
               false,
               false,
               false,
               false,
               false,
               false,
               false,
               false,
               false,
               false,
               false,
               false,
               false,
               false,
               false,
               false,
               false,
               false,
               false,
               false,
               false,
               false,
               false,
               false,
               false,
               false,
               false,
               false,
               false,
               false,
               false,
               false,
               false,
               false,
               false,
               false,
               true,
               true,
               true,
               true,
               true,
               true,
               true,
               true,
               false,
               false,
               false,
               false,
               false,
               false,
               false,
               false,
               false,
               false,
               false,
               false,
               false,
               false,
               false,
               false,
               false,
               false,
               false,
               false,
               false,
               false,
               false,
               false
              ]
             }
            ],
            "label": "Net Profit",
            "method": "update"
           },
           {
            "args": [
             {
              "visible": [
               false,
               false,
               false,
               false,
               false,
               false,
               false,
               false,
               false,
               false,
               false,
               false,
               false,
               false,
               false,
               false,
               false,
               false,
               false,
               false,
               false,
               false,
               false,
               false,
               false,
               false,
               false,
               false,
               false,
               false,
               false,
               false,
               false,
               false,
               false,
               false,
               false,
               false,
               false,
               false,
               false,
               false,
               false,
               false,
               false,
               false,
               false,
               false,
               false,
               false,
               false,
               false,
               false,
               false,
               false,
               false,
               false,
               false,
               false,
               false,
               false,
               false,
               false,
               false,
               false,
               false,
               false,
               false,
               false,
               false,
               false,
               false,
               false,
               false,
               false,
               false,
               false,
               false,
               false,
               false,
               true,
               true,
               true,
               true,
               true,
               true,
               true,
               true,
               false,
               false,
               false,
               false,
               false,
               false,
               false,
               false,
               false,
               false,
               false,
               false,
               false,
               false,
               false,
               false
              ]
             }
            ],
            "label": "EPS in Rs",
            "method": "update"
           },
           {
            "args": [
             {
              "visible": [
               false,
               false,
               false,
               false,
               false,
               false,
               false,
               false,
               false,
               false,
               false,
               false,
               false,
               false,
               false,
               false,
               false,
               false,
               false,
               false,
               false,
               false,
               false,
               false,
               false,
               false,
               false,
               false,
               false,
               false,
               false,
               false,
               false,
               false,
               false,
               false,
               false,
               false,
               false,
               false,
               false,
               false,
               false,
               false,
               false,
               false,
               false,
               false,
               false,
               false,
               false,
               false,
               false,
               false,
               false,
               false,
               false,
               false,
               false,
               false,
               false,
               false,
               false,
               false,
               false,
               false,
               false,
               false,
               false,
               false,
               false,
               false,
               false,
               false,
               false,
               false,
               false,
               false,
               false,
               false,
               false,
               false,
               false,
               false,
               false,
               false,
               false,
               false,
               true,
               true,
               true,
               true,
               true,
               true,
               true,
               true,
               false,
               false,
               false,
               false,
               false,
               false,
               false,
               false
              ]
             }
            ],
            "label": "Gross NPA %",
            "method": "update"
           },
           {
            "args": [
             {
              "visible": [
               false,
               false,
               false,
               false,
               false,
               false,
               false,
               false,
               false,
               false,
               false,
               false,
               false,
               false,
               false,
               false,
               false,
               false,
               false,
               false,
               false,
               false,
               false,
               false,
               false,
               false,
               false,
               false,
               false,
               false,
               false,
               false,
               false,
               false,
               false,
               false,
               false,
               false,
               false,
               false,
               false,
               false,
               false,
               false,
               false,
               false,
               false,
               false,
               false,
               false,
               false,
               false,
               false,
               false,
               false,
               false,
               false,
               false,
               false,
               false,
               false,
               false,
               false,
               false,
               false,
               false,
               false,
               false,
               false,
               false,
               false,
               false,
               false,
               false,
               false,
               false,
               false,
               false,
               false,
               false,
               false,
               false,
               false,
               false,
               false,
               false,
               false,
               false,
               false,
               false,
               false,
               false,
               false,
               false,
               false,
               false,
               true,
               true,
               true,
               true,
               true,
               true,
               true,
               true
              ]
             }
            ],
            "label": "Net NPA %",
            "method": "update"
           }
          ],
          "direction": "down",
          "showactive": true
         }
        ],
        "xaxis": {
         "autorange": true,
         "range": [
          -0.5,
          12.5
         ],
         "type": "category"
        },
        "yaxis": {
         "autorange": true,
         "range": [
          -14325.777777777777,
          118149.77777777778
         ],
         "type": "linear"
        }
       }
      },
      "image/png": "[encoded data removed]",
      "text/html": [
       "<div>                            <div id=\"621c2483-53bb-4de9-a160-f49b6421bc97\" class=\"plotly-graph-div\" style=\"height:525px; width:100%;\"></div>            <script type=\"text/javascript\">                require([\"plotly\"], function(Plotly) {                    window.PLOTLYENV=window.PLOTLYENV || {};                                    if (document.getElementById(\"621c2483-53bb-4de9-a160-f49b6421bc97\")) {                    Plotly.newPlot(                        \"621c2483-53bb-4de9-a160-f49b6421bc97\",                        [{\"name\":\"HDFCBANK Revenue\",\"x\":[\"Jun 2021\",\"Sep 2021\",\"Dec 2021\",\"Mar 2022\",\"Jun 2022\",\"Sep 2022\",\"Dec 2022\",\"Mar 2023\",\"Jun 2023\",\"Sep 2023\",\"Dec 2023\",\"Mar 2024\",\"Jun 2024\"],\"y\":[30483.0,31353.0,32468.0,33449.0,35172.0,38586.0,42708.0,45119.0,48587.0,67698.0,70583.0,71473.0,73033.0],\"type\":\"bar\"},{\"name\":\"ICICIBANK Revenue\",\"x\":[\"Jun 2021\",\"Sep 2021\",\"Dec 2021\",\"Mar 2022\",\"Jun 2022\",\"Sep 2022\",\"Dec 2022\",\"Mar 2023\",\"Jun 2023\",\"Sep 2023\",\"Dec 2023\",\"Mar 2024\",\"Jun 2024\"],\"y\":[20383.0,21234.0,22083.0,22675.0,23672.0,26033.0,28506.0,31021.0,33328.0,34920.0,36695.0,37948.0,38996.0],\"type\":\"bar\"},{\"name\":\"KOTAKBANK Revenue\",\"x\":[\"Jun 2021\",\"Sep 2021\",\"Dec 2021\",\"Mar 2022\",\"Jun 2022\",\"Sep 2022\",\"Dec 2022\",\"Mar 2023\",\"Jun 2023\",\"Sep 2023\",\"Dec 2023\",\"Mar 2024\",\"Jun 2024\"],\"y\":[6480.0,6596.0,6897.0,7066.0,7338.0,8093.0,8999.0,9821.0,10500.0,11193.0,11799.0,12307.0,12746.0],\"type\":\"bar\"},{\"name\":\"AXISBANK Revenue\",\"x\":[\"Jun 2021\",\"Sep 2021\",\"Dec 2021\",\"Mar 2022\",\"Jun 2022\",\"Sep 2022\",\"Dec 2022\",\"Mar 2023\",\"Jun 2023\",\"Sep 2023\",\"Dec 2023\",\"Mar 2024\",\"Jun 2024\"],\"y\":[16003.0,16336.0,17261.0,17776.0,18729.0,20239.0,22226.0,23970.0,25557.0,26626.0,27961.0,29225.0,30061.0],\"type\":\"bar\"},{\"name\":\"INDUSINDBK Revenue\",\"x\":[\"Jun 2021\",\"Sep 2021\",\"Dec 2021\",\"Mar 2022\",\"Jun 2022\",\"Sep 2022\",\"Dec 2022\",\"Mar 2023\",\"Jun 2023\",\"Sep 2023\",\"Dec 2023\",\"Mar 2024\",\"Jun 2024\"],\"y\":[7575.0,7650.0,7737.0,7860.0,8182.0,8708.0,9457.0,10021.0,10730.0,11248.0,11572.0,12199.0,12547.0],\"type\":\"bar\"},{\"name\":\"SBIN Revenue\",\"x\":[\"Jun 2021\",\"Sep 2021\",\"Dec 2021\",\"Mar 2022\",\"Jun 2022\",\"Sep 2022\",\"Dec 2022\",\"Mar 2023\",\"Jun 2023\",\"Sep 2023\",\"Dec 2023\",\"Mar 2024\",\"Jun 2024\"],\"y\":[65564.0,69481.0,69678.0,70733.0,72676.0,79860.0,86616.0,92951.0,95975.0,101379.0,106734.0,111043.0,111526.0],\"type\":\"bar\"},{\"name\":\"BANKBARODA Revenue\",\"x\":[\"Jun 2021\",\"Sep 2021\",\"Dec 2021\",\"Mar 2022\",\"Jun 2022\",\"Sep 2022\",\"Dec 2022\",\"Mar 2023\",\"Jun 2023\",\"Sep 2023\",\"Dec 2023\",\"Mar 2024\",\"Jun 2024\"],\"y\":[17053.0,16692.0,17963.0,18174.0,18937.0,21254.0,23540.0,25857.0,26556.0,27862.0,28605.0,29583.0,29629.0],\"type\":\"bar\"},{\"name\":\"PNB Revenue\",\"x\":[\"Jun 2021\",\"Sep 2021\",\"Dec 2021\",\"Mar 2022\",\"Jun 2022\",\"Sep 2022\",\"Dec 2022\",\"Mar 2023\",\"Jun 2023\",\"Sep 2023\",\"Dec 2023\",\"Mar 2024\",\"Jun 2024\"],\"y\":[18929.0,17980.0,19325.0,18645.0,18757.0,20154.0,22384.0,23849.0,25145.0,26355.0,27288.0,28113.0,28556.0],\"type\":\"bar\"},{\"name\":\"HDFCBANK Interest\",\"x\":[\"Jun 2021\",\"Sep 2021\",\"Dec 2021\",\"Mar 2022\",\"Jun 2022\",\"Sep 2022\",\"Dec 2022\",\"Mar 2023\",\"Jun 2023\",\"Sep 2023\",\"Dec 2023\",\"Mar 2024\",\"Jun 2024\"],\"y\":[13474.0,13669.0,14025.0,14576.0,15691.0,17565.0,19720.0,21768.0,24988.0,40313.0,42111.0,42396.0,43196.0],\"type\":\"bar\"},{\"name\":\"ICICIBANK Interest\",\"x\":[\"Jun 2021\",\"Sep 2021\",\"Dec 2021\",\"Mar 2022\",\"Jun 2022\",\"Sep 2022\",\"Dec 2022\",\"Mar 2023\",\"Jun 2023\",\"Sep 2023\",\"Dec 2023\",\"Mar 2024\",\"Jun 2024\"],\"y\":[9448.0,9544.0,9847.0,10070.0,10462.0,11246.0,12041.0,13354.0,15101.0,16612.0,18016.0,18856.0,19443.0],\"type\":\"bar\"},{\"name\":\"KOTAKBANK Interest\",\"x\":[\"Jun 2021\",\"Sep 2021\",\"Dec 2021\",\"Mar 2022\",\"Jun 2022\",\"Sep 2022\",\"Dec 2022\",\"Mar 2023\",\"Jun 2023\",\"Sep 2023\",\"Dec 2023\",\"Mar 2024\",\"Jun 2024\"],\"y\":[2538.0,2576.0,2563.0,2545.0,2641.0,2993.0,3346.0,3718.0,4266.0,4896.0,5246.0,5398.0,5904.0],\"type\":\"bar\"},{\"name\":\"AXISBANK Interest\",\"x\":[\"Jun 2021\",\"Sep 2021\",\"Dec 2021\",\"Mar 2022\",\"Jun 2022\",\"Sep 2022\",\"Dec 2022\",\"Mar 2023\",\"Jun 2023\",\"Sep 2023\",\"Dec 2023\",\"Mar 2024\",\"Jun 2024\"],\"y\":[8243.0,8436.0,8609.0,8957.0,9345.0,9879.0,10767.0,12228.0,13598.0,14312.0,15429.0,16136.0,16612.0],\"type\":\"bar\"},{\"name\":\"INDUSINDBK Interest\",\"x\":[\"Jun 2021\",\"Sep 2021\",\"Dec 2021\",\"Mar 2022\",\"Jun 2022\",\"Sep 2022\",\"Dec 2022\",\"Mar 2023\",\"Jun 2023\",\"Sep 2023\",\"Dec 2023\",\"Mar 2024\",\"Jun 2024\"],\"y\":[4011.0,3992.0,3944.0,3875.0,4057.0,4406.0,4962.0,5351.0,5863.0,6171.0,6277.0,6822.0,7139.0],\"type\":\"bar\"},{\"name\":\"SBIN Interest\",\"x\":[\"Jun 2021\",\"Sep 2021\",\"Dec 2021\",\"Mar 2022\",\"Jun 2022\",\"Sep 2022\",\"Dec 2022\",\"Mar 2023\",\"Jun 2023\",\"Sep 2023\",\"Dec 2023\",\"Mar 2024\",\"Jun 2024\"],\"y\":[37926.0,38298.0,38991.0,39535.0,41480.0,44676.0,48547.0,52559.0,57070.0,61879.0,66918.0,69387.0,70401.0],\"type\":\"bar\"},{\"name\":\"BANKBARODA Interest\",\"x\":[\"Jun 2021\",\"Sep 2021\",\"Dec 2021\",\"Mar 2022\",\"Jun 2022\",\"Sep 2022\",\"Dec 2022\",\"Mar 2023\",\"Jun 2023\",\"Sep 2023\",\"Dec 2023\",\"Mar 2024\",\"Jun 2024\"],\"y\":[9161.0,9126.0,9411.0,9562.0,10099.0,11080.0,12722.0,14332.0,15559.0,17031.0,17504.0,17791.0,18029.0],\"type\":\"bar\"},{\"name\":\"PNB Interest\",\"x\":[\"Jun 2021\",\"Sep 2021\",\"Dec 2021\",\"Mar 2022\",\"Jun 2022\",\"Sep 2022\",\"Dec 2022\",\"Mar 2023\",\"Jun 2023\",\"Sep 2023\",\"Dec 2023\",\"Mar 2024\",\"Jun 2024\"],\"y\":[11694.0,11628.0,11522.0,11341.0,11214.0,11883.0,13205.0,14350.0,15641.0,16432.0,16995.0,17750.0,18080.0],\"type\":\"bar\"},{\"name\":\"HDFCBANK Expenses\",\"x\":[\"Jun 2021\",\"Sep 2021\",\"Dec 2021\",\"Mar 2022\",\"Jun 2022\",\"Sep 2022\",\"Dec 2022\",\"Mar 2023\",\"Jun 2023\",\"Sep 2023\",\"Dec 2023\",\"Mar 2024\",\"Jun 2024\"],\"y\":[12991.0,13203.0,12845.0,13465.0,13690.0,14465.0,15270.0,16147.0,16917.0,18303.0,20178.0,31480.0,19223.0],\"type\":\"bar\"},{\"name\":\"ICICIBANK Expenses\",\"x\":[\"Jun 2021\",\"Sep 2021\",\"Dec 2021\",\"Mar 2022\",\"Jun 2022\",\"Sep 2022\",\"Dec 2022\",\"Mar 2023\",\"Jun 2023\",\"Sep 2023\",\"Dec 2023\",\"Mar 2024\",\"Jun 2024\"],\"y\":[8889.0,9286.0,9082.0,8118.0,8710.0,9806.0,10475.0,10548.0,10815.0,10438.0,11101.0,10421.0,11862.0],\"type\":\"bar\"},{\"name\":\"KOTAKBANK Expenses\",\"x\":[\"Jun 2021\",\"Sep 2021\",\"Dec 2021\",\"Mar 2022\",\"Jun 2022\",\"Sep 2022\",\"Dec 2022\",\"Mar 2023\",\"Jun 2023\",\"Sep 2023\",\"Dec 2023\",\"Mar 2024\",\"Jun 2024\"],\"y\":[3107.0,3137.0,2865.0,2579.0,3181.0,3501.0,3900.0,3789.0,4332.0,4368.0,4863.0,4690.0,5096.0],\"type\":\"bar\"},{\"name\":\"AXISBANK Expenses\",\"x\":[\"Jun 2021\",\"Sep 2021\",\"Dec 2021\",\"Mar 2022\",\"Jun 2022\",\"Sep 2022\",\"Dec 2022\",\"Mar 2023\",\"Jun 2023\",\"Sep 2023\",\"Dec 2023\",\"Mar 2024\",\"Jun 2024\"],\"y\":[8235.0,7506.0,7666.0,7564.0,6785.0,7049.0,8191.0,7668.0,9267.0,9531.0,9974.0,10504.0,11165.0],\"type\":\"bar\"},{\"name\":\"INDUSINDBK Expenses\",\"x\":[\"Jun 2021\",\"Sep 2021\",\"Dec 2021\",\"Mar 2022\",\"Jun 2022\",\"Sep 2022\",\"Dec 2022\",\"Mar 2023\",\"Jun 2023\",\"Sep 2023\",\"Dec 2023\",\"Mar 2024\",\"Jun 2024\"],\"y\":[3994.0,4028.0,4119.0,4020.0,3911.0,3934.0,3956.0,4097.0,4238.0,4451.0,4623.0,4749.0,4972.0],\"type\":\"bar\"},{\"name\":\"SBIN Expenses\",\"x\":[\"Jun 2021\",\"Sep 2021\",\"Dec 2021\",\"Mar 2022\",\"Jun 2022\",\"Sep 2022\",\"Dec 2022\",\"Mar 2023\",\"Jun 2023\",\"Sep 2023\",\"Dec 2023\",\"Mar 2024\",\"Jun 2024\"],\"y\":[30518.0,21501.0,27813.0,30599.0,25148.0,25976.0,30078.0,33049.0,28173.0,30989.0,31626.0,31887.0,29288.0],\"type\":\"bar\"},{\"name\":\"BANKBARODA Expenses\",\"x\":[\"Jun 2021\",\"Sep 2021\",\"Dec 2021\",\"Mar 2022\",\"Jun 2022\",\"Sep 2022\",\"Dec 2022\",\"Mar 2023\",\"Jun 2023\",\"Sep 2023\",\"Dec 2023\",\"Mar 2024\",\"Jun 2024\"],\"y\":[9159.0,8229.0,8095.0,9235.0,7178.0,7597.0,8542.0,8339.0,8441.0,9143.0,7563.0,9180.0,7937.0],\"type\":\"bar\"},{\"name\":\"PNB Expenses\",\"x\":[\"Jun 2021\",\"Sep 2021\",\"Dec 2021\",\"Mar 2022\",\"Jun 2022\",\"Sep 2022\",\"Dec 2022\",\"Mar 2023\",\"Jun 2023\",\"Sep 2023\",\"Dec 2023\",\"Mar 2024\",\"Jun 2024\"],\"y\":[9701.0,8875.0,8781.0,9341.0,9491.0,10457.0,11515.0,10883.0,10935.0,10179.0,9375.0,9783.0,8817.0],\"type\":\"bar\"},{\"name\":\"HDFCBANK Financing Profit\",\"x\":[\"Jun 2021\",\"Sep 2021\",\"Dec 2021\",\"Mar 2022\",\"Jun 2022\",\"Sep 2022\",\"Dec 2022\",\"Mar 2023\",\"Jun 2023\",\"Sep 2023\",\"Dec 2023\",\"Mar 2024\",\"Jun 2024\"],\"y\":[4018.0,4482.0,5598.0,5408.0,5792.0,6556.0,7718.0,7204.0,6682.0,9082.0,8294.0,-2404.0,10614.0],\"type\":\"bar\"},{\"name\":\"ICICIBANK Financing Profit\",\"x\":[\"Jun 2021\",\"Sep 2021\",\"Dec 2021\",\"Mar 2022\",\"Jun 2022\",\"Sep 2022\",\"Dec 2022\",\"Mar 2023\",\"Jun 2023\",\"Sep 2023\",\"Dec 2023\",\"Mar 2024\",\"Jun 2024\"],\"y\":[2047.0,2404.0,3154.0,4487.0,4500.0,4981.0,5990.0,7119.0,7411.0,7870.0,7577.0,8671.0,7691.0],\"type\":\"bar\"},{\"name\":\"KOTAKBANK Financing Profit\",\"x\":[\"Jun 2021\",\"Sep 2021\",\"Dec 2021\",\"Mar 2022\",\"Jun 2022\",\"Sep 2022\",\"Dec 2022\",\"Mar 2023\",\"Jun 2023\",\"Sep 2023\",\"Dec 2023\",\"Mar 2024\",\"Jun 2024\"],\"y\":[835.0,884.0,1469.0,1942.0,1516.0,1598.0,1753.0,2314.0,1902.0,1929.0,1690.0,2220.0,1747.0],\"type\":\"bar\"},{\"name\":\"AXISBANK Financing Profit\",\"x\":[\"Jun 2021\",\"Sep 2021\",\"Dec 2021\",\"Mar 2022\",\"Jun 2022\",\"Sep 2022\",\"Dec 2022\",\"Mar 2023\",\"Jun 2023\",\"Sep 2023\",\"Dec 2023\",\"Mar 2024\",\"Jun 2024\"],\"y\":[-474.0,395.0,986.0,1255.0,2599.0,3311.0,3268.0,4074.0,2692.0,2783.0,2558.0,2585.0,2283.0],\"type\":\"bar\"},{\"name\":\"INDUSINDBK Financing Profit\",\"x\":[\"Jun 2021\",\"Sep 2021\",\"Dec 2021\",\"Mar 2022\",\"Jun 2022\",\"Sep 2022\",\"Dec 2022\",\"Mar 2023\",\"Jun 2023\",\"Sep 2023\",\"Dec 2023\",\"Mar 2024\",\"Jun 2024\"],\"y\":[-430.0,-370.0,-326.0,-35.0,214.0,368.0,539.0,572.0,629.0,625.0,672.0,628.0,436.0],\"type\":\"bar\"},{\"name\":\"SBIN Financing Profit\",\"x\":[\"Jun 2021\",\"Sep 2021\",\"Dec 2021\",\"Mar 2022\",\"Jun 2022\",\"Sep 2022\",\"Dec 2022\",\"Mar 2023\",\"Jun 2023\",\"Sep 2023\",\"Dec 2023\",\"Mar 2024\",\"Jun 2024\"],\"y\":[-2880.0,9683.0,2874.0,599.0,6048.0,9207.0,7991.0,7344.0,10732.0,8511.0,8189.0,9769.0,11837.0],\"type\":\"bar\"},{\"name\":\"BANKBARODA Financing Profit\",\"x\":[\"Jun 2021\",\"Sep 2021\",\"Dec 2021\",\"Mar 2022\",\"Jun 2022\",\"Sep 2022\",\"Dec 2022\",\"Mar 2023\",\"Jun 2023\",\"Sep 2023\",\"Dec 2023\",\"Mar 2024\",\"Jun 2024\"],\"y\":[-1268.0,-663.0,457.0,-624.0,1661.0,2578.0,2276.0,3186.0,2555.0,1688.0,3538.0,2613.0,3663.0],\"type\":\"bar\"},{\"name\":\"PNB Financing Profit\",\"x\":[\"Jun 2021\",\"Sep 2021\",\"Dec 2021\",\"Mar 2022\",\"Jun 2022\",\"Sep 2022\",\"Dec 2022\",\"Mar 2023\",\"Jun 2023\",\"Sep 2023\",\"Dec 2023\",\"Mar 2024\",\"Jun 2024\"],\"y\":[-2467.0,-2522.0,-978.0,-2037.0,-1948.0,-2186.0,-2335.0,-1384.0,-1431.0,-256.0,918.0,580.0,1659.0],\"type\":\"bar\"},{\"name\":\"HDFCBANK Financing Margin %\",\"x\":[\"Jun 2021\",\"Sep 2021\",\"Dec 2021\",\"Mar 2022\",\"Jun 2022\",\"Sep 2022\",\"Dec 2022\",\"Mar 2023\",\"Jun 2023\",\"Sep 2023\",\"Dec 2023\",\"Mar 2024\",\"Jun 2024\"],\"y\":[13.0,14.0,17.0,16.0,16.0,17.0,18.0,16.0,14.0,13.0,12.0,-3.0,15.0],\"type\":\"bar\"},{\"name\":\"ICICIBANK Financing Margin %\",\"x\":[\"Jun 2021\",\"Sep 2021\",\"Dec 2021\",\"Mar 2022\",\"Jun 2022\",\"Sep 2022\",\"Dec 2022\",\"Mar 2023\",\"Jun 2023\",\"Sep 2023\",\"Dec 2023\",\"Mar 2024\",\"Jun 2024\"],\"y\":[10.0,11.0,14.0,20.0,19.0,19.0,21.0,23.0,22.0,23.0,21.0,23.0,20.0],\"type\":\"bar\"},{\"name\":\"KOTAKBANK Financing Margin %\",\"x\":[\"Jun 2021\",\"Sep 2021\",\"Dec 2021\",\"Mar 2022\",\"Jun 2022\",\"Sep 2022\",\"Dec 2022\",\"Mar 2023\",\"Jun 2023\",\"Sep 2023\",\"Dec 2023\",\"Mar 2024\",\"Jun 2024\"],\"y\":[13.0,13.0,21.0,27.0,21.0,20.0,19.0,24.0,18.0,17.0,14.0,18.0,14.0],\"type\":\"bar\"},{\"name\":\"AXISBANK Financing Margin %\",\"x\":[\"Jun 2021\",\"Sep 2021\",\"Dec 2021\",\"Mar 2022\",\"Jun 2022\",\"Sep 2022\",\"Dec 2022\",\"Mar 2023\",\"Jun 2023\",\"Sep 2023\",\"Dec 2023\",\"Mar 2024\",\"Jun 2024\"],\"y\":[-3.0,2.0,6.0,7.0,14.0,16.0,15.0,17.0,11.0,10.0,9.0,9.0,8.0],\"type\":\"bar\"},{\"name\":\"INDUSINDBK Financing Margin %\",\"x\":[\"Jun 2021\",\"Sep 2021\",\"Dec 2021\",\"Mar 2022\",\"Jun 2022\",\"Sep 2022\",\"Dec 2022\",\"Mar 2023\",\"Jun 2023\",\"Sep 2023\",\"Dec 2023\",\"Mar 2024\",\"Jun 2024\"],\"y\":[-6.0,-5.0,-4.0,0.0,3.0,4.0,6.0,6.0,6.0,6.0,6.0,5.0,3.0],\"type\":\"bar\"},{\"name\":\"SBIN Financing Margin %\",\"x\":[\"Jun 2021\",\"Sep 2021\",\"Dec 2021\",\"Mar 2022\",\"Jun 2022\",\"Sep 2022\",\"Dec 2022\",\"Mar 2023\",\"Jun 2023\",\"Sep 2023\",\"Dec 2023\",\"Mar 2024\",\"Jun 2024\"],\"y\":[-4.0,14.0,4.0,1.0,8.0,12.0,9.0,8.0,11.0,8.0,8.0,9.0,11.0],\"type\":\"bar\"},{\"name\":\"BANKBARODA Financing Margin %\",\"x\":[\"Jun 2021\",\"Sep 2021\",\"Dec 2021\",\"Mar 2022\",\"Jun 2022\",\"Sep 2022\",\"Dec 2022\",\"Mar 2023\",\"Jun 2023\",\"Sep 2023\",\"Dec 2023\",\"Mar 2024\",\"Jun 2024\"],\"y\":[-7.0,-4.0,3.0,-3.0,9.0,12.0,10.0,12.0,10.0,6.0,12.0,9.0,12.0],\"type\":\"bar\"},{\"name\":\"PNB Financing Margin %\",\"x\":[\"Jun 2021\",\"Sep 2021\",\"Dec 2021\",\"Mar 2022\",\"Jun 2022\",\"Sep 2022\",\"Dec 2022\",\"Mar 2023\",\"Jun 2023\",\"Sep 2023\",\"Dec 2023\",\"Mar 2024\",\"Jun 2024\"],\"y\":[-13.0,-14.0,-5.0,-11.0,-10.0,-11.0,-10.0,-6.0,-6.0,-1.0,3.0,2.0,6.0],\"type\":\"bar\"},{\"name\":\"HDFCBANK Other Income\",\"x\":[\"Jun 2021\",\"Sep 2021\",\"Dec 2021\",\"Mar 2022\",\"Jun 2022\",\"Sep 2022\",\"Dec 2022\",\"Mar 2023\",\"Jun 2023\",\"Sep 2023\",\"Dec 2023\",\"Mar 2024\",\"Jun 2024\"],\"y\":[6288.0,7401.0,8184.0,7637.0,6388.0,7596.0,8500.0,8731.0,9230.0,10708.0,11137.0,18166.0,10668.0],\"type\":\"bar\"},{\"name\":\"ICICIBANK Other Income\",\"x\":[\"Jun 2021\",\"Sep 2021\",\"Dec 2021\",\"Mar 2022\",\"Jun 2022\",\"Sep 2022\",\"Dec 2022\",\"Mar 2023\",\"Jun 2023\",\"Sep 2023\",\"Dec 2023\",\"Mar 2024\",\"Jun 2024\"],\"y\":[3996.0,4797.0,4987.0,4737.0,4665.0,5055.0,5024.0,5088.0,5435.0,5777.0,6097.0,5649.0,7002.0],\"type\":\"bar\"},{\"name\":\"KOTAKBANK Other Income\",\"x\":[\"Jun 2021\",\"Sep 2021\",\"Dec 2021\",\"Mar 2022\",\"Jun 2022\",\"Sep 2022\",\"Dec 2022\",\"Mar 2023\",\"Jun 2023\",\"Sep 2023\",\"Dec 2023\",\"Mar 2024\",\"Jun 2024\"],\"y\":[1352.0,1813.0,1364.0,1704.0,1244.0,1832.0,1948.0,2186.0,2683.0,2315.0,2297.0,2978.0,6449.0],\"type\":\"bar\"},{\"name\":\"AXISBANK Other Income\",\"x\":[\"Jun 2021\",\"Sep 2021\",\"Dec 2021\",\"Mar 2022\",\"Jun 2022\",\"Sep 2022\",\"Dec 2022\",\"Mar 2023\",\"Jun 2023\",\"Sep 2023\",\"Dec 2023\",\"Mar 2024\",\"Jun 2024\"],\"y\":[3358.0,3798.0,3840.0,4223.0,2928.0,3855.0,4572.0,-7702.0,5087.0,5034.0,5555.0,6766.0,5783.0],\"type\":\"bar\"},{\"name\":\"INDUSINDBK Other Income\",\"x\":[\"Jun 2021\",\"Sep 2021\",\"Dec 2021\",\"Mar 2022\",\"Jun 2022\",\"Sep 2022\",\"Dec 2022\",\"Mar 2023\",\"Jun 2023\",\"Sep 2023\",\"Dec 2023\",\"Mar 2024\",\"Jun 2024\"],\"y\":[1716.0,1841.0,1877.0,1900.0,1929.0,2011.0,2076.0,2151.0,2210.0,2282.0,2396.0,2500.0,2441.0],\"type\":\"bar\"},{\"name\":\"SBIN Other Income\",\"x\":[\"Jun 2021\",\"Sep 2021\",\"Dec 2021\",\"Mar 2022\",\"Jun 2022\",\"Sep 2022\",\"Dec 2022\",\"Mar 2023\",\"Jun 2023\",\"Sep 2023\",\"Dec 2023\",\"Mar 2024\",\"Jun 2024\"],\"y\":[11803.0,789.0,8673.0,11880.0,2312.0,8874.0,11468.0,13961.0,12063.0,10791.0,4359.0,17369.0,11162.0],\"type\":\"bar\"},{\"name\":\"BANKBARODA Other Income\",\"x\":[\"Jun 2021\",\"Sep 2021\",\"Dec 2021\",\"Mar 2022\",\"Jun 2022\",\"Sep 2022\",\"Dec 2022\",\"Mar 2023\",\"Jun 2023\",\"Sep 2023\",\"Dec 2023\",\"Mar 2024\",\"Jun 2024\"],\"y\":[2863.0,3579.0,2519.0,2522.0,1182.0,1826.0,3552.0,3466.0,3322.0,4171.0,2810.0,4191.0,2487.0],\"type\":\"bar\"},{\"name\":\"PNB Other Income\",\"x\":[\"Jun 2021\",\"Sep 2021\",\"Dec 2021\",\"Mar 2022\",\"Jun 2022\",\"Sep 2022\",\"Dec 2022\",\"Mar 2023\",\"Jun 2023\",\"Sep 2023\",\"Dec 2023\",\"Mar 2024\",\"Jun 2024\"],\"y\":[3887.0,3282.0,2701.0,2450.0,2537.0,2847.0,3338.0,3420.0,3434.0,3028.0,2674.0,4248.0,3610.0],\"type\":\"bar\"},{\"name\":\"HDFCBANK Depreciation\",\"x\":[\"Jun 2021\",\"Sep 2021\",\"Dec 2021\",\"Mar 2022\",\"Jun 2022\",\"Sep 2022\",\"Dec 2022\",\"Mar 2023\",\"Jun 2023\",\"Sep 2023\",\"Dec 2023\",\"Mar 2024\",\"Jun 2024\"],\"y\":[0.0,0.0,0.0,0.0,0.0,0.0,0.0,0.0,0.0,0.0,0.0,0.0,0.0],\"type\":\"bar\"},{\"name\":\"ICICIBANK Depreciation\",\"x\":[\"Jun 2021\",\"Sep 2021\",\"Dec 2021\",\"Mar 2022\",\"Jun 2022\",\"Sep 2022\",\"Dec 2022\",\"Mar 2023\",\"Jun 2023\",\"Sep 2023\",\"Dec 2023\",\"Mar 2024\",\"Jun 2024\"],\"y\":[0.0,0.0,0.0,0.0,0.0,0.0,0.0,0.0,0.0,0.0,0.0,0.0,0.0],\"type\":\"bar\"},{\"name\":\"KOTAKBANK Depreciation\",\"x\":[\"Jun 2021\",\"Sep 2021\",\"Dec 2021\",\"Mar 2022\",\"Jun 2022\",\"Sep 2022\",\"Dec 2022\",\"Mar 2023\",\"Jun 2023\",\"Sep 2023\",\"Dec 2023\",\"Mar 2024\",\"Jun 2024\"],\"y\":[0.0,0.0,0.0,0.0,0.0,0.0,0.0,0.0,0.0,0.0,0.0,0.0,0.0],\"type\":\"bar\"},{\"name\":\"AXISBANK Depreciation\",\"x\":[\"Jun 2021\",\"Sep 2021\",\"Dec 2021\",\"Mar 2022\",\"Jun 2022\",\"Sep 2022\",\"Dec 2022\",\"Mar 2023\",\"Jun 2023\",\"Sep 2023\",\"Dec 2023\",\"Mar 2024\",\"Jun 2024\"],\"y\":[0.0,0.0,0.0,0.0,0.0,0.0,0.0,0.0,0.0,0.0,0.0,0.0,0.0],\"type\":\"bar\"},{\"name\":\"INDUSINDBK Depreciation\",\"x\":[\"Jun 2021\",\"Sep 2021\",\"Dec 2021\",\"Mar 2022\",\"Jun 2022\",\"Sep 2022\",\"Dec 2022\",\"Mar 2023\",\"Jun 2023\",\"Sep 2023\",\"Dec 2023\",\"Mar 2024\",\"Jun 2024\"],\"y\":[0.0,0.0,0.0,0.0,0.0,0.0,0.0,0.0,0.0,0.0,0.0,0.0,0.0],\"type\":\"bar\"},{\"name\":\"SBIN Depreciation\",\"x\":[\"Jun 2021\",\"Sep 2021\",\"Dec 2021\",\"Mar 2022\",\"Jun 2022\",\"Sep 2022\",\"Dec 2022\",\"Mar 2023\",\"Jun 2023\",\"Sep 2023\",\"Dec 2023\",\"Mar 2024\",\"Jun 2024\"],\"y\":[0.0,0.0,0.0,0.0,0.0,0.0,0.0,0.0,0.0,0.0,0.0,0.0,0.0],\"type\":\"bar\"},{\"name\":\"BANKBARODA Depreciation\",\"x\":[\"Jun 2021\",\"Sep 2021\",\"Dec 2021\",\"Mar 2022\",\"Jun 2022\",\"Sep 2022\",\"Dec 2022\",\"Mar 2023\",\"Jun 2023\",\"Sep 2023\",\"Dec 2023\",\"Mar 2024\",\"Jun 2024\"],\"y\":[0.0,0.0,0.0,0.0,0.0,0.0,0.0,0.0,0.0,0.0,0.0,0.0,0.0],\"type\":\"bar\"},{\"name\":\"PNB Depreciation\",\"x\":[\"Jun 2021\",\"Sep 2021\",\"Dec 2021\",\"Mar 2022\",\"Jun 2022\",\"Sep 2022\",\"Dec 2022\",\"Mar 2023\",\"Jun 2023\",\"Sep 2023\",\"Dec 2023\",\"Mar 2024\",\"Jun 2024\"],\"y\":[0.0,0.0,0.0,0.0,0.0,0.0,0.0,0.0,0.0,0.0,0.0,0.0,0.0],\"type\":\"bar\"},{\"name\":\"HDFCBANK Profit before tax\",\"x\":[\"Jun 2021\",\"Sep 2021\",\"Dec 2021\",\"Mar 2022\",\"Jun 2022\",\"Sep 2022\",\"Dec 2022\",\"Mar 2023\",\"Jun 2023\",\"Sep 2023\",\"Dec 2023\",\"Mar 2024\",\"Jun 2024\"],\"y\":[10306.0,11883.0,13782.0,13045.0,12180.0,14152.0,16218.0,15936.0,15912.0,19790.0,19431.0,15763.0,21283.0],\"type\":\"bar\"},{\"name\":\"ICICIBANK Profit before tax\",\"x\":[\"Jun 2021\",\"Sep 2021\",\"Dec 2021\",\"Mar 2022\",\"Jun 2022\",\"Sep 2022\",\"Dec 2022\",\"Mar 2023\",\"Jun 2023\",\"Sep 2023\",\"Dec 2023\",\"Mar 2024\",\"Jun 2024\"],\"y\":[6043.0,7201.0,8141.0,9224.0,9165.0,10036.0,11014.0,12207.0,12847.0,13647.0,13674.0,14320.0,14693.0],\"type\":\"bar\"},{\"name\":\"KOTAKBANK Profit before tax\",\"x\":[\"Jun 2021\",\"Sep 2021\",\"Dec 2021\",\"Mar 2022\",\"Jun 2022\",\"Sep 2022\",\"Dec 2022\",\"Mar 2023\",\"Jun 2023\",\"Sep 2023\",\"Dec 2023\",\"Mar 2024\",\"Jun 2024\"],\"y\":[2186.0,2696.0,2833.0,3646.0,2760.0,3431.0,3701.0,4500.0,4585.0,4244.0,3987.0,5198.0,8196.0],\"type\":\"bar\"},{\"name\":\"AXISBANK Profit before tax\",\"x\":[\"Jun 2021\",\"Sep 2021\",\"Dec 2021\",\"Mar 2022\",\"Jun 2022\",\"Sep 2022\",\"Dec 2022\",\"Mar 2023\",\"Jun 2023\",\"Sep 2023\",\"Dec 2023\",\"Mar 2024\",\"Jun 2024\"],\"y\":[2884.0,4193.0,4827.0,5479.0,5528.0,7166.0,7840.0,-3628.0,7779.0,7817.0,8113.0,9350.0,8067.0],\"type\":\"bar\"},{\"name\":\"INDUSINDBK Profit before tax\",\"x\":[\"Jun 2021\",\"Sep 2021\",\"Dec 2021\",\"Mar 2022\",\"Jun 2022\",\"Sep 2022\",\"Dec 2022\",\"Mar 2023\",\"Jun 2023\",\"Sep 2023\",\"Dec 2023\",\"Mar 2024\",\"Jun 2024\"],\"y\":[1287.0,1471.0,1551.0,1865.0,2143.0,2379.0,2616.0,2723.0,2838.0,2907.0,3068.0,3128.0,2877.0],\"type\":\"bar\"},{\"name\":\"SBIN Profit before tax\",\"x\":[\"Jun 2021\",\"Sep 2021\",\"Dec 2021\",\"Mar 2022\",\"Jun 2022\",\"Sep 2022\",\"Dec 2022\",\"Mar 2023\",\"Jun 2023\",\"Sep 2023\",\"Dec 2023\",\"Mar 2024\",\"Jun 2024\"],\"y\":[8923.0,10472.0,11548.0,12479.0,8360.0,18081.0,19459.0,21305.0,22796.0,19301.0,12548.0,27138.0,22999.0],\"type\":\"bar\"},{\"name\":\"BANKBARODA Profit before tax\",\"x\":[\"Jun 2021\",\"Sep 2021\",\"Dec 2021\",\"Mar 2022\",\"Jun 2022\",\"Sep 2022\",\"Dec 2022\",\"Mar 2023\",\"Jun 2023\",\"Sep 2023\",\"Dec 2023\",\"Mar 2024\",\"Jun 2024\"],\"y\":[1595.0,2916.0,2976.0,1899.0,2843.0,4403.0,5828.0,6652.0,5878.0,5859.0,6349.0,6804.0,6151.0],\"type\":\"bar\"},{\"name\":\"PNB Profit before tax\",\"x\":[\"Jun 2021\",\"Sep 2021\",\"Dec 2021\",\"Mar 2022\",\"Jun 2022\",\"Sep 2022\",\"Dec 2022\",\"Mar 2023\",\"Jun 2023\",\"Sep 2023\",\"Dec 2023\",\"Mar 2024\",\"Jun 2024\"],\"y\":[1421.0,760.0,1723.0,413.0,589.0,661.0,1003.0,2036.0,2003.0,2772.0,3592.0,4828.0,5269.0],\"type\":\"bar\"},{\"name\":\"HDFCBANK Tax %\",\"x\":[\"Jun 2021\",\"Sep 2021\",\"Dec 2021\",\"Mar 2022\",\"Jun 2022\",\"Sep 2022\",\"Dec 2022\",\"Mar 2023\",\"Jun 2023\",\"Sep 2023\",\"Dec 2023\",\"Mar 2024\",\"Jun 2024\"],\"y\":[25.0,26.0,25.0,23.0,24.0,25.0,24.0,24.0,25.0,19.0,16.0,-5.0,24.0],\"type\":\"bar\"},{\"name\":\"ICICIBANK Tax %\",\"x\":[\"Jun 2021\",\"Sep 2021\",\"Dec 2021\",\"Mar 2022\",\"Jun 2022\",\"Sep 2022\",\"Dec 2022\",\"Mar 2023\",\"Jun 2023\",\"Sep 2023\",\"Dec 2023\",\"Mar 2024\",\"Jun 2024\"],\"y\":[24.0,23.0,24.0,24.0,25.0,25.0,25.0,25.0,25.0,25.0,25.0,25.0,25.0],\"type\":\"bar\"},{\"name\":\"KOTAKBANK Tax %\",\"x\":[\"Jun 2021\",\"Sep 2021\",\"Dec 2021\",\"Mar 2022\",\"Jun 2022\",\"Sep 2022\",\"Dec 2022\",\"Mar 2023\",\"Jun 2023\",\"Sep 2023\",\"Dec 2023\",\"Mar 2024\",\"Jun 2024\"],\"y\":[25.0,25.0,25.0,24.0,25.0,25.0,25.0,22.0,25.0,25.0,25.0,20.0,24.0],\"type\":\"bar\"},{\"name\":\"AXISBANK Tax %\",\"x\":[\"Jun 2021\",\"Sep 2021\",\"Dec 2021\",\"Mar 2022\",\"Jun 2022\",\"Sep 2022\",\"Dec 2022\",\"Mar 2023\",\"Jun 2023\",\"Sep 2023\",\"Dec 2023\",\"Mar 2024\",\"Jun 2024\"],\"y\":[25.0,25.0,25.0,25.0,25.0,26.0,25.0,58.0,25.0,25.0,25.0,24.0,25.0],\"type\":\"bar\"},{\"name\":\"INDUSINDBK Tax %\",\"x\":[\"Jun 2021\",\"Sep 2021\",\"Dec 2021\",\"Mar 2022\",\"Jun 2022\",\"Sep 2022\",\"Dec 2022\",\"Mar 2023\",\"Jun 2023\",\"Sep 2023\",\"Dec 2023\",\"Mar 2024\",\"Jun 2024\"],\"y\":[24.0,24.0,25.0,27.0,25.0,25.0,25.0,25.0,25.0,25.0,25.0,25.0,25.0],\"type\":\"bar\"},{\"name\":\"SBIN Tax %\",\"x\":[\"Jun 2021\",\"Sep 2021\",\"Dec 2021\",\"Mar 2022\",\"Jun 2022\",\"Sep 2022\",\"Dec 2022\",\"Mar 2023\",\"Jun 2023\",\"Sep 2023\",\"Dec 2023\",\"Mar 2024\",\"Jun 2024\"],\"y\":[27.0,27.0,27.0,27.0,27.0,27.0,27.0,22.0,26.0,26.0,27.0,24.0,26.0],\"type\":\"bar\"},{\"name\":\"BANKBARODA Tax %\",\"x\":[\"Jun 2021\",\"Sep 2021\",\"Dec 2021\",\"Mar 2022\",\"Jun 2022\",\"Sep 2022\",\"Dec 2022\",\"Mar 2023\",\"Jun 2023\",\"Sep 2023\",\"Dec 2023\",\"Mar 2024\",\"Jun 2024\"],\"y\":[24.0,28.0,26.0,6.0,24.0,25.0,34.0,28.0,31.0,27.0,28.0,28.0,28.0],\"type\":\"bar\"},{\"name\":\"PNB Tax %\",\"x\":[\"Jun 2021\",\"Sep 2021\",\"Dec 2021\",\"Mar 2022\",\"Jun 2022\",\"Sep 2022\",\"Dec 2022\",\"Mar 2023\",\"Jun 2023\",\"Sep 2023\",\"Dec 2023\",\"Mar 2024\",\"Jun 2024\"],\"y\":[28.0,-45.0,35.0,51.0,48.0,38.0,37.0,43.0,37.0,37.0,38.0,38.0,38.0],\"type\":\"bar\"},{\"name\":\"HDFCBANK Net Profit\",\"x\":[\"Jun 2021\",\"Sep 2021\",\"Dec 2021\",\"Mar 2022\",\"Jun 2022\",\"Sep 2022\",\"Dec 2022\",\"Mar 2023\",\"Jun 2023\",\"Sep 2023\",\"Dec 2023\",\"Mar 2024\",\"Jun 2024\"],\"y\":[7730.0,8834.0,10342.0,10055.0,9196.0,10606.0,12259.0,12047.0,11952.0,15976.0,16373.0,16512.0,16175.0],\"type\":\"bar\"},{\"name\":\"ICICIBANK Net Profit\",\"x\":[\"Jun 2021\",\"Sep 2021\",\"Dec 2021\",\"Mar 2022\",\"Jun 2022\",\"Sep 2022\",\"Dec 2022\",\"Mar 2023\",\"Jun 2023\",\"Sep 2023\",\"Dec 2023\",\"Mar 2024\",\"Jun 2024\"],\"y\":[4616.0,5511.0,6194.0,7019.0,6905.0,7558.0,8312.0,9122.0,9648.0,10261.0,10272.0,10708.0,11059.0],\"type\":\"bar\"},{\"name\":\"KOTAKBANK Net Profit\",\"x\":[\"Jun 2021\",\"Sep 2021\",\"Dec 2021\",\"Mar 2022\",\"Jun 2022\",\"Sep 2022\",\"Dec 2022\",\"Mar 2023\",\"Jun 2023\",\"Sep 2023\",\"Dec 2023\",\"Mar 2024\",\"Jun 2024\"],\"y\":[1642.0,2032.0,2131.0,2767.0,2071.0,2581.0,2792.0,3496.0,3452.0,3191.0,3005.0,4133.0,6250.0],\"type\":\"bar\"},{\"name\":\"AXISBANK Net Profit\",\"x\":[\"Jun 2021\",\"Sep 2021\",\"Dec 2021\",\"Mar 2022\",\"Jun 2022\",\"Sep 2022\",\"Dec 2022\",\"Mar 2023\",\"Jun 2023\",\"Sep 2023\",\"Dec 2023\",\"Mar 2024\",\"Jun 2024\"],\"y\":[2160.0,3133.0,3614.0,4118.0,4125.0,5330.0,5853.0,-5728.0,5797.0,5864.0,6071.0,7130.0,6035.0],\"type\":\"bar\"},{\"name\":\"INDUSINDBK Net Profit\",\"x\":[\"Jun 2021\",\"Sep 2021\",\"Dec 2021\",\"Mar 2022\",\"Jun 2022\",\"Sep 2022\",\"Dec 2022\",\"Mar 2023\",\"Jun 2023\",\"Sep 2023\",\"Dec 2023\",\"Mar 2024\",\"Jun 2024\"],\"y\":[975.0,1114.0,1161.0,1361.0,1603.0,1787.0,1959.0,2041.0,2124.0,2181.0,2298.0,2347.0,2152.0],\"type\":\"bar\"},{\"name\":\"SBIN Net Profit\",\"x\":[\"Jun 2021\",\"Sep 2021\",\"Dec 2021\",\"Mar 2022\",\"Jun 2022\",\"Sep 2022\",\"Dec 2022\",\"Mar 2023\",\"Jun 2023\",\"Sep 2023\",\"Dec 2023\",\"Mar 2024\",\"Jun 2024\"],\"y\":[6504.0,7627.0,8432.0,9114.0,6068.0,13265.0,14205.0,16695.0,16884.0,14330.0,9164.0,20698.0,17035.0],\"type\":\"bar\"},{\"name\":\"BANKBARODA Net Profit\",\"x\":[\"Jun 2021\",\"Sep 2021\",\"Dec 2021\",\"Mar 2022\",\"Jun 2022\",\"Sep 2022\",\"Dec 2022\",\"Mar 2023\",\"Jun 2023\",\"Sep 2023\",\"Dec 2023\",\"Mar 2024\",\"Jun 2024\"],\"y\":[1209.0,2088.0,2197.0,1779.0,2168.0,3313.0,3853.0,4775.0,4070.0,4253.0,4579.0,4886.0,4458.0],\"type\":\"bar\"},{\"name\":\"PNB Net Profit\",\"x\":[\"Jun 2021\",\"Sep 2021\",\"Dec 2021\",\"Mar 2022\",\"Jun 2022\",\"Sep 2022\",\"Dec 2022\",\"Mar 2023\",\"Jun 2023\",\"Sep 2023\",\"Dec 2023\",\"Mar 2024\",\"Jun 2024\"],\"y\":[1023.0,1105.0,1127.0,202.0,308.0,411.0,629.0,1159.0,1255.0,1756.0,2223.0,3010.0,3252.0],\"type\":\"bar\"},{\"name\":\"HDFCBANK EPS in Rs\",\"x\":[\"Jun 2021\",\"Sep 2021\",\"Dec 2021\",\"Mar 2022\",\"Jun 2022\",\"Sep 2022\",\"Dec 2022\",\"Mar 2023\",\"Jun 2023\",\"Sep 2023\",\"Dec 2023\",\"Mar 2024\",\"Jun 2024\"],\"y\":[13.99,15.95,18.66,18.13,16.56,19.04,21.98,21.59,21.37,21.07,21.56,21.73,21.26],\"type\":\"bar\"},{\"name\":\"ICICIBANK EPS in Rs\",\"x\":[\"Jun 2021\",\"Sep 2021\",\"Dec 2021\",\"Mar 2022\",\"Jun 2022\",\"Sep 2022\",\"Dec 2022\",\"Mar 2023\",\"Jun 2023\",\"Sep 2023\",\"Dec 2023\",\"Mar 2024\",\"Jun 2024\"],\"y\":[6.67,7.95,8.92,10.1,9.93,10.85,11.91,13.06,13.79,14.65,14.64,15.25,15.72],\"type\":\"bar\"},{\"name\":\"KOTAKBANK EPS in Rs\",\"x\":[\"Jun 2021\",\"Sep 2021\",\"Dec 2021\",\"Mar 2022\",\"Jun 2022\",\"Sep 2022\",\"Dec 2022\",\"Mar 2023\",\"Jun 2023\",\"Sep 2023\",\"Dec 2023\",\"Mar 2024\",\"Jun 2024\"],\"y\":[8.28,10.25,10.74,13.94,10.43,13.0,14.06,17.6,17.37,16.06,15.12,20.79,31.44],\"type\":\"bar\"},{\"name\":\"AXISBANK EPS in Rs\",\"x\":[\"Jun 2021\",\"Sep 2021\",\"Dec 2021\",\"Mar 2022\",\"Jun 2022\",\"Sep 2022\",\"Dec 2022\",\"Mar 2023\",\"Jun 2023\",\"Sep 2023\",\"Dec 2023\",\"Mar 2024\",\"Jun 2024\"],\"y\":[7.05,10.22,11.78,13.41,13.43,17.35,19.03,-18.62,18.82,19.03,19.69,23.1,19.53],\"type\":\"bar\"},{\"name\":\"INDUSINDBK EPS in Rs\",\"x\":[\"Jun 2021\",\"Sep 2021\",\"Dec 2021\",\"Mar 2022\",\"Jun 2022\",\"Sep 2022\",\"Dec 2022\",\"Mar 2023\",\"Jun 2023\",\"Sep 2023\",\"Dec 2023\",\"Mar 2024\",\"Jun 2024\"],\"y\":[12.6,14.38,14.99,17.57,20.68,23.05,25.27,26.3,27.37,28.07,29.55,30.15,27.64],\"type\":\"bar\"},{\"name\":\"SBIN EPS in Rs\",\"x\":[\"Jun 2021\",\"Sep 2021\",\"Dec 2021\",\"Mar 2022\",\"Jun 2022\",\"Sep 2022\",\"Dec 2022\",\"Mar 2023\",\"Jun 2023\",\"Sep 2023\",\"Dec 2023\",\"Mar 2024\",\"Jun 2024\"],\"y\":[7.29,8.55,9.45,10.21,6.8,14.86,15.92,18.71,18.92,16.06,10.27,23.19,19.09],\"type\":\"bar\"},{\"name\":\"BANKBARODA EPS in Rs\",\"x\":[\"Jun 2021\",\"Sep 2021\",\"Dec 2021\",\"Mar 2022\",\"Jun 2022\",\"Sep 2022\",\"Dec 2022\",\"Mar 2023\",\"Jun 2023\",\"Sep 2023\",\"Dec 2023\",\"Mar 2024\",\"Jun 2024\"],\"y\":[2.34,4.04,4.25,3.44,4.19,6.41,7.45,9.23,7.87,8.22,8.86,9.45,8.62],\"type\":\"bar\"},{\"name\":\"PNB EPS in Rs\",\"x\":[\"Jun 2021\",\"Sep 2021\",\"Dec 2021\",\"Mar 2022\",\"Jun 2022\",\"Sep 2022\",\"Dec 2022\",\"Mar 2023\",\"Jun 2023\",\"Sep 2023\",\"Dec 2023\",\"Mar 2024\",\"Jun 2024\"],\"y\":[0.93,1.0,1.02,0.18,0.28,0.37,0.57,1.05,1.14,1.59,2.02,2.73,2.95],\"type\":\"bar\"},{\"name\":\"HDFCBANK Gross NPA %\",\"x\":[\"Jun 2021\",\"Sep 2021\",\"Dec 2021\",\"Mar 2022\",\"Jun 2022\",\"Sep 2022\",\"Dec 2022\",\"Mar 2023\",\"Jun 2023\",\"Sep 2023\",\"Dec 2023\",\"Mar 2024\",\"Jun 2024\"],\"y\":[1.47,1.35,1.26,1.17,1.28,1.23,1.23,1.12,1.17,1.34,1.26,1.24,1.33],\"type\":\"bar\"},{\"name\":\"ICICIBANK Gross NPA %\",\"x\":[\"Jun 2021\",\"Sep 2021\",\"Dec 2021\",\"Mar 2022\",\"Jun 2022\",\"Sep 2022\",\"Dec 2022\",\"Mar 2023\",\"Jun 2023\",\"Sep 2023\",\"Dec 2023\",\"Mar 2024\",\"Jun 2024\"],\"y\":[5.15,4.82,4.13,3.6,3.41,3.19,3.07,2.81,2.76,2.48,2.3,2.16,2.15],\"type\":\"bar\"},{\"name\":\"KOTAKBANK Gross NPA %\",\"x\":[\"Jun 2021\",\"Sep 2021\",\"Dec 2021\",\"Mar 2022\",\"Jun 2022\",\"Sep 2022\",\"Dec 2022\",\"Mar 2023\",\"Jun 2023\",\"Sep 2023\",\"Dec 2023\",\"Mar 2024\",\"Jun 2024\"],\"y\":[3.56,3.19,2.71,2.34,2.24,2.08,1.9,1.78,1.77,1.72,1.73,1.39,1.39],\"type\":\"bar\"},{\"name\":\"AXISBANK Gross NPA %\",\"x\":[\"Jun 2021\",\"Sep 2021\",\"Dec 2021\",\"Mar 2022\",\"Jun 2022\",\"Sep 2022\",\"Dec 2022\",\"Mar 2023\",\"Jun 2023\",\"Sep 2023\",\"Dec 2023\",\"Mar 2024\",\"Jun 2024\"],\"y\":[3.85,3.53,3.17,2.82,2.76,2.5,2.38,2.02,1.96,1.73,1.58,1.43,1.54],\"type\":\"bar\"},{\"name\":\"INDUSINDBK Gross NPA %\",\"x\":[\"Jun 2021\",\"Sep 2021\",\"Dec 2021\",\"Mar 2022\",\"Jun 2022\",\"Sep 2022\",\"Dec 2022\",\"Mar 2023\",\"Jun 2023\",\"Sep 2023\",\"Dec 2023\",\"Mar 2024\",\"Jun 2024\"],\"y\":[2.88,2.77,2.48,2.27,2.35,2.11,2.06,1.98,1.94,1.93,1.92,1.92,2.02],\"type\":\"bar\"},{\"name\":\"SBIN Gross NPA %\",\"x\":[\"Jun 2021\",\"Sep 2021\",\"Dec 2021\",\"Mar 2022\",\"Jun 2022\",\"Sep 2022\",\"Dec 2022\",\"Mar 2023\",\"Jun 2023\",\"Sep 2023\",\"Dec 2023\",\"Mar 2024\",\"Jun 2024\"],\"y\":[5.32,4.9,4.5,3.97,3.91,3.52,3.14,2.78,2.76,2.55,2.42,2.24,2.21],\"type\":\"bar\"},{\"name\":\"BANKBARODA Gross NPA %\",\"x\":[\"Jun 2021\",\"Sep 2021\",\"Dec 2021\",\"Mar 2022\",\"Jun 2022\",\"Sep 2022\",\"Dec 2022\",\"Mar 2023\",\"Jun 2023\",\"Sep 2023\",\"Dec 2023\",\"Mar 2024\",\"Jun 2024\"],\"y\":[8.86,8.11,7.25,6.61,6.26,5.31,4.53,3.79,3.51,3.32,3.08,2.92,2.88],\"type\":\"bar\"},{\"name\":\"PNB Gross NPA %\",\"x\":[\"Jun 2021\",\"Sep 2021\",\"Dec 2021\",\"Mar 2022\",\"Jun 2022\",\"Sep 2022\",\"Dec 2022\",\"Mar 2023\",\"Jun 2023\",\"Sep 2023\",\"Dec 2023\",\"Mar 2024\",\"Jun 2024\"],\"y\":[14.33,13.63,12.88,11.78,11.27,10.48,9.76,8.74,7.73,6.96,6.24,5.73,4.98],\"type\":\"bar\"},{\"name\":\"HDFCBANK Net NPA %\",\"x\":[\"Jun 2021\",\"Sep 2021\",\"Dec 2021\",\"Mar 2022\",\"Jun 2022\",\"Sep 2022\",\"Dec 2022\",\"Mar 2023\",\"Jun 2023\",\"Sep 2023\",\"Dec 2023\",\"Mar 2024\",\"Jun 2024\"],\"y\":[0.48,0.4,0.37,0.32,0.35,0.33,0.33,0.27,0.3,0.35,0.31,0.33,0.39],\"type\":\"bar\"},{\"name\":\"ICICIBANK Net NPA %\",\"x\":[\"Jun 2021\",\"Sep 2021\",\"Dec 2021\",\"Mar 2022\",\"Jun 2022\",\"Sep 2022\",\"Dec 2022\",\"Mar 2023\",\"Jun 2023\",\"Sep 2023\",\"Dec 2023\",\"Mar 2024\",\"Jun 2024\"],\"y\":[1.16,0.99,0.85,0.76,0.7,0.61,0.55,0.48,0.48,0.43,0.44,0.42,0.43],\"type\":\"bar\"},{\"name\":\"KOTAKBANK Net NPA %\",\"x\":[\"Jun 2021\",\"Sep 2021\",\"Dec 2021\",\"Mar 2022\",\"Jun 2022\",\"Sep 2022\",\"Dec 2022\",\"Mar 2023\",\"Jun 2023\",\"Sep 2023\",\"Dec 2023\",\"Mar 2024\",\"Jun 2024\"],\"y\":[1.28,1.06,0.79,0.64,0.62,0.55,0.43,0.37,0.4,0.37,0.34,0.34,0.35],\"type\":\"bar\"},{\"name\":\"AXISBANK Net NPA %\",\"x\":[\"Jun 2021\",\"Sep 2021\",\"Dec 2021\",\"Mar 2022\",\"Jun 2022\",\"Sep 2022\",\"Dec 2022\",\"Mar 2023\",\"Jun 2023\",\"Sep 2023\",\"Dec 2023\",\"Mar 2024\",\"Jun 2024\"],\"y\":[1.2,1.08,0.91,0.73,0.64,0.51,0.47,0.39,0.41,0.36,0.36,0.31,0.34],\"type\":\"bar\"},{\"name\":\"INDUSINDBK Net NPA %\",\"x\":[\"Jun 2021\",\"Sep 2021\",\"Dec 2021\",\"Mar 2022\",\"Jun 2022\",\"Sep 2022\",\"Dec 2022\",\"Mar 2023\",\"Jun 2023\",\"Sep 2023\",\"Dec 2023\",\"Mar 2024\",\"Jun 2024\"],\"y\":[0.84,0.8,0.71,0.64,0.67,0.61,0.62,0.59,0.58,0.57,0.57,0.57,0.6],\"type\":\"bar\"},{\"name\":\"SBIN Net NPA %\",\"x\":[\"Jun 2021\",\"Sep 2021\",\"Dec 2021\",\"Mar 2022\",\"Jun 2022\",\"Sep 2022\",\"Dec 2022\",\"Mar 2023\",\"Jun 2023\",\"Sep 2023\",\"Dec 2023\",\"Mar 2024\",\"Jun 2024\"],\"y\":[1.77,1.52,1.34,1.02,1.0,0.8,0.77,0.67,0.71,0.64,0.64,0.57,0.57],\"type\":\"bar\"},{\"name\":\"BANKBARODA Net NPA %\",\"x\":[\"Jun 2021\",\"Sep 2021\",\"Dec 2021\",\"Mar 2022\",\"Jun 2022\",\"Sep 2022\",\"Dec 2022\",\"Mar 2023\",\"Jun 2023\",\"Sep 2023\",\"Dec 2023\",\"Mar 2024\",\"Jun 2024\"],\"y\":[3.03,2.83,2.25,1.72,1.58,1.16,0.99,0.89,0.78,0.76,0.7,0.68,0.69],\"type\":\"bar\"},{\"name\":\"PNB Net NPA %\",\"x\":[\"Jun 2021\",\"Sep 2021\",\"Dec 2021\",\"Mar 2022\",\"Jun 2022\",\"Sep 2022\",\"Dec 2022\",\"Mar 2023\",\"Jun 2023\",\"Sep 2023\",\"Dec 2023\",\"Mar 2024\",\"Jun 2024\"],\"y\":[5.84,5.49,4.9,4.8,4.28,3.8,3.3,2.72,1.98,1.47,0.96,0.73,0.6],\"type\":\"bar\"}],                        {\"template\":{\"data\":{\"histogram2dcontour\":[{\"type\":\"histogram2dcontour\",\"colorbar\":{\"outlinewidth\":0,\"ticks\":\"\"},\"colorscale\":[[0.0,\"#0d0887\"],[0.1111111111111111,\"#46039f\"],[0.2222222222222222,\"#7201a8\"],[0.3333333333333333,\"#9c179e\"],[0.4444444444444444,\"#bd3786\"],[0.5555555555555556,\"#d8576b\"],[0.6666666666666666,\"#ed7953\"],[0.7777777777777778,\"#fb9f3a\"],[0.8888888888888888,\"#fdca26\"],[1.0,\"#f0f921\"]]}],\"choropleth\":[{\"type\":\"choropleth\",\"colorbar\":{\"outlinewidth\":0,\"ticks\":\"\"}}],\"histogram2d\":[{\"type\":\"histogram2d\",\"colorbar\":{\"outlinewidth\":0,\"ticks\":\"\"},\"colorscale\":[[0.0,\"#0d0887\"],[0.1111111111111111,\"#46039f\"],[0.2222222222222222,\"#7201a8\"],[0.3333333333333333,\"#9c179e\"],[0.4444444444444444,\"#bd3786\"],[0.5555555555555556,\"#d8576b\"],[0.6666666666666666,\"#ed7953\"],[0.7777777777777778,\"#fb9f3a\"],[0.8888888888888888,\"#fdca26\"],[1.0,\"#f0f921\"]]}],\"heatmap\":[{\"type\":\"heatmap\",\"colorbar\":{\"outlinewidth\":0,\"ticks\":\"\"},\"colorscale\":[[0.0,\"#0d0887\"],[0.1111111111111111,\"#46039f\"],[0.2222222222222222,\"#7201a8\"],[0.3333333333333333,\"#9c179e\"],[0.4444444444444444,\"#bd3786\"],[0.5555555555555556,\"#d8576b\"],[0.6666666666666666,\"#ed7953\"],[0.7777777777777778,\"#fb9f3a\"],[0.8888888888888888,\"#fdca26\"],[1.0,\"#f0f921\"]]}],\"heatmapgl\":[{\"type\":\"heatmapgl\",\"colorbar\":{\"outlinewidth\":0,\"ticks\":\"\"},\"colorscale\":[[0.0,\"#0d0887\"],[0.1111111111111111,\"#46039f\"],[0.2222222222222222,\"#7201a8\"],[0.3333333333333333,\"#9c179e\"],[0.4444444444444444,\"#bd3786\"],[0.5555555555555556,\"#d8576b\"],[0.6666666666666666,\"#ed7953\"],[0.7777777777777778,\"#fb9f3a\"],[0.8888888888888888,\"#fdca26\"],[1.0,\"#f0f921\"]]}],\"contourcarpet\":[{\"type\":\"contourcarpet\",\"colorbar\":{\"outlinewidth\":0,\"ticks\":\"\"}}],\"contour\":[{\"type\":\"contour\",\"colorbar\":{\"outlinewidth\":0,\"ticks\":\"\"},\"colorscale\":[[0.0,\"#0d0887\"],[0.1111111111111111,\"#46039f\"],[0.2222222222222222,\"#7201a8\"],[0.3333333333333333,\"#9c179e\"],[0.4444444444444444,\"#bd3786\"],[0.5555555555555556,\"#d8576b\"],[0.6666666666666666,\"#ed7953\"],[0.7777777777777778,\"#fb9f3a\"],[0.8888888888888888,\"#fdca26\"],[1.0,\"#f0f921\"]]}],\"surface\":[{\"type\":\"surface\",\"colorbar\":{\"outlinewidth\":0,\"ticks\":\"\"},\"colorscale\":[[0.0,\"#0d0887\"],[0.1111111111111111,\"#46039f\"],[0.2222222222222222,\"#7201a8\"],[0.3333333333333333,\"#9c179e\"],[0.4444444444444444,\"#bd3786\"],[0.5555555555555556,\"#d8576b\"],[0.6666666666666666,\"#ed7953\"],[0.7777777777777778,\"#fb9f3a\"],[0.8888888888888888,\"#fdca26\"],[1.0,\"#f0f921\"]]}],\"mesh3d\":[{\"type\":\"mesh3d\",\"colorbar\":{\"outlinewidth\":0,\"ticks\":\"\"}}],\"scatter\":[{\"fillpattern\":{\"fillmode\":\"overlay\",\"size\":10,\"solidity\":0.2},\"type\":\"scatter\"}],\"parcoords\":[{\"type\":\"parcoords\",\"line\":{\"colorbar\":{\"outlinewidth\":0,\"ticks\":\"\"}}}],\"scatterpolargl\":[{\"type\":\"scatterpolargl\",\"marker\":{\"colorbar\":{\"outlinewidth\":0,\"ticks\":\"\"}}}],\"bar\":[{\"error_x\":{\"color\":\"#2a3f5f\"},\"error_y\":{\"color\":\"#2a3f5f\"},\"marker\":{\"line\":{\"color\":\"#E5ECF6\",\"width\":0.5},\"pattern\":{\"fillmode\":\"overlay\",\"size\":10,\"solidity\":0.2}},\"type\":\"bar\"}],\"scattergeo\":[{\"type\":\"scattergeo\",\"marker\":{\"colorbar\":{\"outlinewidth\":0,\"ticks\":\"\"}}}],\"scatterpolar\":[{\"type\":\"scatterpolar\",\"marker\":{\"colorbar\":{\"outlinewidth\":0,\"ticks\":\"\"}}}],\"histogram\":[{\"marker\":{\"pattern\":{\"fillmode\":\"overlay\",\"size\":10,\"solidity\":0.2}},\"type\":\"histogram\"}],\"scattergl\":[{\"type\":\"scattergl\",\"marker\":{\"colorbar\":{\"outlinewidth\":0,\"ticks\":\"\"}}}],\"scatter3d\":[{\"type\":\"scatter3d\",\"line\":{\"colorbar\":{\"outlinewidth\":0,\"ticks\":\"\"}},\"marker\":{\"colorbar\":{\"outlinewidth\":0,\"ticks\":\"\"}}}],\"scattermapbox\":[{\"type\":\"scattermapbox\",\"marker\":{\"colorbar\":{\"outlinewidth\":0,\"ticks\":\"\"}}}],\"scatterternary\":[{\"type\":\"scatterternary\",\"marker\":{\"colorbar\":{\"outlinewidth\":0,\"ticks\":\"\"}}}],\"scattercarpet\":[{\"type\":\"scattercarpet\",\"marker\":{\"colorbar\":{\"outlinewidth\":0,\"ticks\":\"\"}}}],\"carpet\":[{\"aaxis\":{\"endlinecolor\":\"#2a3f5f\",\"gridcolor\":\"white\",\"linecolor\":\"white\",\"minorgridcolor\":\"white\",\"startlinecolor\":\"#2a3f5f\"},\"baxis\":{\"endlinecolor\":\"#2a3f5f\",\"gridcolor\":\"white\",\"linecolor\":\"white\",\"minorgridcolor\":\"white\",\"startlinecolor\":\"#2a3f5f\"},\"type\":\"carpet\"}],\"table\":[{\"cells\":{\"fill\":{\"color\":\"#EBF0F8\"},\"line\":{\"color\":\"white\"}},\"header\":{\"fill\":{\"color\":\"#C8D4E3\"},\"line\":{\"color\":\"white\"}},\"type\":\"table\"}],\"barpolar\":[{\"marker\":{\"line\":{\"color\":\"#E5ECF6\",\"width\":0.5},\"pattern\":{\"fillmode\":\"overlay\",\"size\":10,\"solidity\":0.2}},\"type\":\"barpolar\"}],\"pie\":[{\"automargin\":true,\"type\":\"pie\"}]},\"layout\":{\"autotypenumbers\":\"strict\",\"colorway\":[\"#636efa\",\"#EF553B\",\"#00cc96\",\"#ab63fa\",\"#FFA15A\",\"#19d3f3\",\"#FF6692\",\"#B6E880\",\"#FF97FF\",\"#FECB52\"],\"font\":{\"color\":\"#2a3f5f\"},\"hovermode\":\"closest\",\"hoverlabel\":{\"align\":\"left\"},\"paper_bgcolor\":\"white\",\"plot_bgcolor\":\"#E5ECF6\",\"polar\":{\"bgcolor\":\"#E5ECF6\",\"angularaxis\":{\"gridcolor\":\"white\",\"linecolor\":\"white\",\"ticks\":\"\"},\"radialaxis\":{\"gridcolor\":\"white\",\"linecolor\":\"white\",\"ticks\":\"\"}},\"ternary\":{\"bgcolor\":\"#E5ECF6\",\"aaxis\":{\"gridcolor\":\"white\",\"linecolor\":\"white\",\"ticks\":\"\"},\"baxis\":{\"gridcolor\":\"white\",\"linecolor\":\"white\",\"ticks\":\"\"},\"caxis\":{\"gridcolor\":\"white\",\"linecolor\":\"white\",\"ticks\":\"\"}},\"coloraxis\":{\"colorbar\":{\"outlinewidth\":0,\"ticks\":\"\"}},\"colorscale\":{\"sequential\":[[0.0,\"#0d0887\"],[0.1111111111111111,\"#46039f\"],[0.2222222222222222,\"#7201a8\"],[0.3333333333333333,\"#9c179e\"],[0.4444444444444444,\"#bd3786\"],[0.5555555555555556,\"#d8576b\"],[0.6666666666666666,\"#ed7953\"],[0.7777777777777778,\"#fb9f3a\"],[0.8888888888888888,\"#fdca26\"],[1.0,\"#f0f921\"]],\"sequentialminus\":[[0.0,\"#0d0887\"],[0.1111111111111111,\"#46039f\"],[0.2222222222222222,\"#7201a8\"],[0.3333333333333333,\"#9c179e\"],[0.4444444444444444,\"#bd3786\"],[0.5555555555555556,\"#d8576b\"],[0.6666666666666666,\"#ed7953\"],[0.7777777777777778,\"#fb9f3a\"],[0.8888888888888888,\"#fdca26\"],[1.0,\"#f0f921\"]],\"diverging\":[[0,\"#8e0152\"],[0.1,\"#c51b7d\"],[0.2,\"#de77ae\"],[0.3,\"#f1b6da\"],[0.4,\"#fde0ef\"],[0.5,\"#f7f7f7\"],[0.6,\"#e6f5d0\"],[0.7,\"#b8e186\"],[0.8,\"#7fbc41\"],[0.9,\"#4d9221\"],[1,\"#276419\"]]},\"xaxis\":{\"gridcolor\":\"white\",\"linecolor\":\"white\",\"ticks\":\"\",\"title\":{\"standoff\":15},\"zerolinecolor\":\"white\",\"automargin\":true,\"zerolinewidth\":2},\"yaxis\":{\"gridcolor\":\"white\",\"linecolor\":\"white\",\"ticks\":\"\",\"title\":{\"standoff\":15},\"zerolinecolor\":\"white\",\"automargin\":true,\"zerolinewidth\":2},\"scene\":{\"xaxis\":{\"backgroundcolor\":\"#E5ECF6\",\"gridcolor\":\"white\",\"linecolor\":\"white\",\"showbackground\":true,\"ticks\":\"\",\"zerolinecolor\":\"white\",\"gridwidth\":2},\"yaxis\":{\"backgroundcolor\":\"#E5ECF6\",\"gridcolor\":\"white\",\"linecolor\":\"white\",\"showbackground\":true,\"ticks\":\"\",\"zerolinecolor\":\"white\",\"gridwidth\":2},\"zaxis\":{\"backgroundcolor\":\"#E5ECF6\",\"gridcolor\":\"white\",\"linecolor\":\"white\",\"showbackground\":true,\"ticks\":\"\",\"zerolinecolor\":\"white\",\"gridwidth\":2}},\"shapedefaults\":{\"line\":{\"color\":\"#2a3f5f\"}},\"annotationdefaults\":{\"arrowcolor\":\"#2a3f5f\",\"arrowhead\":0,\"arrowwidth\":1},\"geo\":{\"bgcolor\":\"white\",\"landcolor\":\"#E5ECF6\",\"subunitcolor\":\"white\",\"showland\":true,\"showlakes\":true,\"lakecolor\":\"white\"},\"title\":{\"x\":0.05},\"mapbox\":{\"style\":\"light\"}}},\"updatemenus\":[{\"buttons\":[{\"args\":[{\"visible\":[true,true,true,true,true,true,true,true,false,false,false,false,false,false,false,false,false,false,false,false,false,false,false,false,false,false,false,false,false,false,false,false,false,false,false,false,false,false,false,false,false,false,false,false,false,false,false,false,false,false,false,false,false,false,false,false,false,false,false,false,false,false,false,false,false,false,false,false,false,false,false,false,false,false,false,false,false,false,false,false,false,false,false,false,false,false,false,false,false,false,false,false,false,false,false,false,false,false,false,false,false,false,false,false]}],\"label\":\"Revenue\",\"method\":\"update\"},{\"args\":[{\"visible\":[false,false,false,false,false,false,false,false,true,true,true,true,true,true,true,true,false,false,false,false,false,false,false,false,false,false,false,false,false,false,false,false,false,false,false,false,false,false,false,false,false,false,false,false,false,false,false,false,false,false,false,false,false,false,false,false,false,false,false,false,false,false,false,false,false,false,false,false,false,false,false,false,false,false,false,false,false,false,false,false,false,false,false,false,false,false,false,false,false,false,false,false,false,false,false,false,false,false,false,false,false,false,false,false]}],\"label\":\"Interest\",\"method\":\"update\"},{\"args\":[{\"visible\":[false,false,false,false,false,false,false,false,false,false,false,false,false,false,false,false,true,true,true,true,true,true,true,true,false,false,false,false,false,false,false,false,false,false,false,false,false,false,false,false,false,false,false,false,false,false,false,false,false,false,false,false,false,false,false,false,false,false,false,false,false,false,false,false,false,false,false,false,false,false,false,false,false,false,false,false,false,false,false,false,false,false,false,false,false,false,false,false,false,false,false,false,false,false,false,false,false,false,false,false,false,false,false,false]}],\"label\":\"Expenses\",\"method\":\"update\"},{\"args\":[{\"visible\":[false,false,false,false,false,false,false,false,false,false,false,false,false,false,false,false,false,false,false,false,false,false,false,false,true,true,true,true,true,true,true,true,false,false,false,false,false,false,false,false,false,false,false,false,false,false,false,false,false,false,false,false,false,false,false,false,false,false,false,false,false,false,false,false,false,false,false,false,false,false,false,false,false,false,false,false,false,false,false,false,false,false,false,false,false,false,false,false,false,false,false,false,false,false,false,false,false,false,false,false,false,false,false,false]}],\"label\":\"Financing Profit\",\"method\":\"update\"},{\"args\":[{\"visible\":[false,false,false,false,false,false,false,false,false,false,false,false,false,false,false,false,false,false,false,false,false,false,false,false,false,false,false,false,false,false,false,false,true,true,true,true,true,true,true,true,false,false,false,false,false,false,false,false,false,false,false,false,false,false,false,false,false,false,false,false,false,false,false,false,false,false,false,false,false,false,false,false,false,false,false,false,false,false,false,false,false,false,false,false,false,false,false,false,false,false,false,false,false,false,false,false,false,false,false,false,false,false,false,false]}],\"label\":\"Financing Margin %\",\"method\":\"update\"},{\"args\":[{\"visible\":[false,false,false,false,false,false,false,false,false,false,false,false,false,false,false,false,false,false,false,false,false,false,false,false,false,false,false,false,false,false,false,false,false,false,false,false,false,false,false,false,true,true,true,true,true,true,true,true,false,false,false,false,false,false,false,false,false,false,false,false,false,false,false,false,false,false,false,false,false,false,false,false,false,false,false,false,false,false,false,false,false,false,false,false,false,false,false,false,false,false,false,false,false,false,false,false,false,false,false,false,false,false,false,false]}],\"label\":\"Other Income\",\"method\":\"update\"},{\"args\":[{\"visible\":[false,false,false,false,false,false,false,false,false,false,false,false,false,false,false,false,false,false,false,false,false,false,false,false,false,false,false,false,false,false,false,false,false,false,false,false,false,false,false,false,false,false,false,false,false,false,false,false,true,true,true,true,true,true,true,true,false,false,false,false,false,false,false,false,false,false,false,false,false,false,false,false,false,false,false,false,false,false,false,false,false,false,false,false,false,false,false,false,false,false,false,false,false,false,false,false,false,false,false,false,false,false,false,false]}],\"label\":\"Depreciation\",\"method\":\"update\"},{\"args\":[{\"visible\":[false,false,false,false,false,false,false,false,false,false,false,false,false,false,false,false,false,false,false,false,false,false,false,false,false,false,false,false,false,false,false,false,false,false,false,false,false,false,false,false,false,false,false,false,false,false,false,false,false,false,false,false,false,false,false,false,true,true,true,true,true,true,true,true,false,false,false,false,false,false,false,false,false,false,false,false,false,false,false,false,false,false,false,false,false,false,false,false,false,false,false,false,false,false,false,false,false,false,false,false,false,false,false,false]}],\"label\":\"Profit before tax\",\"method\":\"update\"},{\"args\":[{\"visible\":[false,false,false,false,false,false,false,false,false,false,false,false,false,false,false,false,false,false,false,false,false,false,false,false,false,false,false,false,false,false,false,false,false,false,false,false,false,false,false,false,false,false,false,false,false,false,false,false,false,false,false,false,false,false,false,false,false,false,false,false,false,false,false,false,true,true,true,true,true,true,true,true,false,false,false,false,false,false,false,false,false,false,false,false,false,false,false,false,false,false,false,false,false,false,false,false,false,false,false,false,false,false,false,false]}],\"label\":\"Tax %\",\"method\":\"update\"},{\"args\":[{\"visible\":[false,false,false,false,false,false,false,false,false,false,false,false,false,false,false,false,false,false,false,false,false,false,false,false,false,false,false,false,false,false,false,false,false,false,false,false,false,false,false,false,false,false,false,false,false,false,false,false,false,false,false,false,false,false,false,false,false,false,false,false,false,false,false,false,false,false,false,false,false,false,false,false,true,true,true,true,true,true,true,true,false,false,false,false,false,false,false,false,false,false,false,false,false,false,false,false,false,false,false,false,false,false,false,false]}],\"label\":\"Net Profit\",\"method\":\"update\"},{\"args\":[{\"visible\":[false,false,false,false,false,false,false,false,false,false,false,false,false,false,false,false,false,false,false,false,false,false,false,false,false,false,false,false,false,false,false,false,false,false,false,false,false,false,false,false,false,false,false,false,false,false,false,false,false,false,false,false,false,false,false,false,false,false,false,false,false,false,false,false,false,false,false,false,false,false,false,false,false,false,false,false,false,false,false,false,true,true,true,true,true,true,true,true,false,false,false,false,false,false,false,false,false,false,false,false,false,false,false,false]}],\"label\":\"EPS in Rs\",\"method\":\"update\"},{\"args\":[{\"visible\":[false,false,false,false,false,false,false,false,false,false,false,false,false,false,false,false,false,false,false,false,false,false,false,false,false,false,false,false,false,false,false,false,false,false,false,false,false,false,false,false,false,false,false,false,false,false,false,false,false,false,false,false,false,false,false,false,false,false,false,false,false,false,false,false,false,false,false,false,false,false,false,false,false,false,false,false,false,false,false,false,false,false,false,false,false,false,false,false,true,true,true,true,true,true,true,true,false,false,false,false,false,false,false,false]}],\"label\":\"Gross NPA %\",\"method\":\"update\"},{\"args\":[{\"visible\":[false,false,false,false,false,false,false,false,false,false,false,false,false,false,false,false,false,false,false,false,false,false,false,false,false,false,false,false,false,false,false,false,false,false,false,false,false,false,false,false,false,false,false,false,false,false,false,false,false,false,false,false,false,false,false,false,false,false,false,false,false,false,false,false,false,false,false,false,false,false,false,false,false,false,false,false,false,false,false,false,false,false,false,false,false,false,false,false,false,false,false,false,false,false,false,false,true,true,true,true,true,true,true,true]}],\"label\":\"Net NPA %\",\"method\":\"update\"}],\"direction\":\"down\",\"showactive\":true}]},                        {\"responsive\": true}                    ).then(function(){\n",
       "                            \n",
       "var gd = document.getElementById('621c2483-53bb-4de9-a160-f49b6421bc97');\n",
       "var x = new MutationObserver(function (mutations, observer) {{\n",
       "        var display = window.getComputedStyle(gd).display;\n",
       "        if (!display || display === 'none') {{\n",
       "            console.log([gd, 'removed!']);\n",
       "            Plotly.purge(gd);\n",
       "            observer.disconnect();\n",
       "        }}\n",
       "}});\n",
       "\n",
       "// Listen for the removal of the full notebook cells\n",
       "var notebookContainer = gd.closest('#notebook-container');\n",
       "if (notebookContainer) {{\n",
       "    x.observe(notebookContainer, {childList: true});\n",
       "}}\n",
       "\n",
       "// Listen for the clearing of the current output cell\n",
       "var outputEl = gd.closest('.output');\n",
       "if (outputEl) {{\n",
       "    x.observe(outputEl, {childList: true});\n",
       "}}\n",
       "\n",
       "                        })                };                });            </script>        </div>"
      ]
     },
     "metadata": {},
     "output_type": "display_data"
    },
    {
     "data": {
      "text/plain": [
       "'MultiCategoryPlot.html'"
      ]
     },
     "execution_count": 56,
     "metadata": {},
     "output_type": "execute_result"
    }
   ],
   "source": [
    "\n",
    "\n",
    "fig = go.Figure()\n",
    "\n",
    "\n",
    "# List of quarters\n",
    "x = df.columns[2:]\n",
    "\n",
    "# Add traces for each metric\n",
    "for result in df['Quarterly Results'].unique():\n",
    "    for stock in df['Stockname'].unique():\n",
    "        fig.add_trace(go.Bar(\n",
    "            x=x,\n",
    "            y=df[(df['Stockname'] == stock) & (df['Quarterly Results'] == result)].iloc[0, 2:],\n",
    "            name=f'{stock} {result}'\n",
    "        ))\n",
    "\n",
    "# Add buttons to toggle the visibility\n",
    "buttons = [{'label': label, 'method': 'update',\n",
    "            'args': [{'visible': [label in trace.name for trace in fig.data]}]}\n",
    "           for label in df['Quarterly Results'].unique()]\n",
    "\n",
    "updatemenus = [{'buttons': buttons,\n",
    "                'direction': \"down\",\n",
    "                'showactive': True, }]\n",
    "\n",
    "# update layout with buttons, and show the figure\n",
    "fig.update_layout(updatemenus=updatemenus)\n",
    "fig.show()\n",
    "\n",
    "pyo.plot(fig, filename='MultiCategoryPlot.html')"
   ]
  },
  {
   "cell_type": "code",
   "execution_count": null,
   "id": "7ccafc1d-3ece-43dd-92ef-db851c22fdbc",
   "metadata": {},
   "outputs": [],
   "source": [
    " \n"
   ]
  }
 ],
 "metadata": {
  "kernelspec": {
   "display_name": "Python 3 (ipykernel)",
   "language": "python",
   "name": "python3"
  },
  "language_info": {
   "codemirror_mode": {
    "name": "ipython",
    "version": 3
   },
   "file_extension": ".py",
   "mimetype": "text/x-python",
   "name": "python",
   "nbconvert_exporter": "python",
   "pygments_lexer": "ipython3",
   "version": "3.11.4"
  }
 },
 "nbformat": 4,
 "nbformat_minor": 5
}
