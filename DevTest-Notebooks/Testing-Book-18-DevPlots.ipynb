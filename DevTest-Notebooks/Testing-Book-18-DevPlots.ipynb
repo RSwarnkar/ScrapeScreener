{
 "cells": [
  {
   "cell_type": "code",
   "execution_count": 1,
   "id": "48e38a9c-4ec5-4a42-986b-c16e1991e612",
   "metadata": {},
   "outputs": [],
   "source": [
    "import pandas as pd\n",
    "import numpy as np\n",
    "from bs4 import BeautifulSoup\n",
    "import requests as rq\n",
    "import re\n",
    "import datetime\n",
    "import os\n",
    "import time\n",
    "\n",
    "import plotly.offline as pyo \n",
    "import plotly.graph_objects as go\n",
    "from plotly.subplots import make_subplots\n",
    "\n",
    "color_set = {\n",
    "        \"dark_red\"       : \"#6f1926\",\n",
    "        \"red\"            : \"#de324c\",\n",
    "        \"orange\"         : \"#f4895f\",\n",
    "        \"yellow\"         : \"#f8e16f\",\n",
    "        \"bright_green\"   : \"#8bc34a\",\n",
    "        \"dark_green\"     : \"#009688\", #\"#318a01\",\n",
    "        \"blue\"           : \"#369acc\",\n",
    "        \"sky_blue\"       : \"#80d9ff\",\n",
    "        \"dark_blue\"      : \"#0057e5\",\n",
    "        \"violet\"         : \"#9656a2\",\n",
    "        \"purple\"         : \"#7b4fff\",\n",
    "        \"black\"          : \"#212020\",\n",
    "        \"gray\"           : \"#777675\"\n",
    "    }"
   ]
  },
  {
   "cell_type": "code",
   "execution_count": 2,
   "id": "66631e22-bc2b-46eb-a6a0-7fc912d65224",
   "metadata": {},
   "outputs": [],
   "source": [
    "stock_excel_filepath = '../Output/RawReports-05-ScrapeSummerizeStockSet/SummaryReport-20240906-081114.xlsx'\n",
    "stock_excel_filepath = '../Output/RawReports-05-ScrapeSummerizeStockSet/SummaryReport-20240906-084343.xlsx'\n",
    "stock_excel_filepath = '../Output/RawReports-05-ScrapeSummerizeStockSet/SummaryReport-20240906-084944.xlsx'\n",
    "stock_excel_filepath = '../Output/RawReports-05-ScrapeSummerizeStockSet/SummaryReport-20240907-095717.xlsx'"
   ]
  },
  {
   "cell_type": "code",
   "execution_count": 3,
   "id": "b1c1353e-355b-4d2e-8262-6e3ee5f8cf03",
   "metadata": {},
   "outputs": [],
   "source": [
    "xls = pd.ExcelFile(stock_excel_filepath)\n",
    "\n",
    "df_basic_info               = pd.read_excel(xls, \"Basic Info\") # Top Ratios\n",
    "df_top_ratios               = pd.read_excel(xls, \"Top Ratios\") # Top Ratios\n",
    "df_quaterly_results         = pd.read_excel(xls, \"Quarterly Results\") # Quarterly Results\n",
    "df_profit_n_loss            = pd.read_excel(xls, \"Profit & Loss\") # Profit & Loss\n",
    "df_compounded_sales_growth  = pd.read_excel(xls, \"Compounded Sales Growth\") # Compounded Sales Growth\n",
    "df_compounded_profit_growth = pd.read_excel(xls, \"Compounded Profit Growth\") # Compounded Profit Growth\n",
    "df_stock_price_cagr         = pd.read_excel(xls, \"Stock Price CAGR\") # Stock Price CAGR\n",
    "df_return_on_equity         = pd.read_excel(xls, \"Return on Equity\") # Return on Equity\n",
    "df_balance_sheet            = pd.read_excel(xls, \"Balance Sheet\") # Balance Sheet\n",
    "df_cash_flows               = pd.read_excel(xls, \"Cash Flows\") # Cash Flows\n",
    "df_ratios                   = pd.read_excel(xls, \"Ratios\") # Ratios\n",
    "df_shareholding_pattern     = pd.read_excel(xls, \"Shareholding Pattern\") # Shareholding Pattern"
   ]
  },
  {
   "cell_type": "code",
   "execution_count": 14,
   "id": "73e18840-2c6d-4dea-a594-59ad15fc00c5",
   "metadata": {
    "scrolled": true
   },
   "outputs": [
    {
     "data": {
      "text/html": [
       "<div>\n",
       "<style scoped>\n",
       "    .dataframe tbody tr th:only-of-type {\n",
       "        vertical-align: middle;\n",
       "    }\n",
       "\n",
       "    .dataframe tbody tr th {\n",
       "        vertical-align: top;\n",
       "    }\n",
       "\n",
       "    .dataframe thead th {\n",
       "        text-align: right;\n",
       "    }\n",
       "</style>\n",
       "<table border=\"1\" class=\"dataframe\">\n",
       "  <thead>\n",
       "    <tr style=\"text-align: right;\">\n",
       "      <th></th>\n",
       "      <th>Stockname</th>\n",
       "      <th>Stock Report Type</th>\n",
       "      <th>Stock Url</th>\n",
       "      <th>Sector</th>\n",
       "      <th>Industry</th>\n",
       "    </tr>\n",
       "  </thead>\n",
       "  <tbody>\n",
       "    <tr>\n",
       "      <th>0</th>\n",
       "      <td>UNITDSPR</td>\n",
       "      <td>consolidated</td>\n",
       "      <td>https://www.screener.in/company/UNITDSPR/conso...</td>\n",
       "      <td>Null</td>\n",
       "      <td>Null</td>\n",
       "    </tr>\n",
       "    <tr>\n",
       "      <th>1</th>\n",
       "      <td>UBL</td>\n",
       "      <td>consolidated</td>\n",
       "      <td>https://www.screener.in/company/UBL/consolidated/</td>\n",
       "      <td>Null</td>\n",
       "      <td>Null</td>\n",
       "    </tr>\n",
       "    <tr>\n",
       "      <th>2</th>\n",
       "      <td>RADICO</td>\n",
       "      <td>standalone</td>\n",
       "      <td>https://www.screener.in/company/RADICO/</td>\n",
       "      <td>Null</td>\n",
       "      <td>Null</td>\n",
       "    </tr>\n",
       "    <tr>\n",
       "      <th>3</th>\n",
       "      <td>SULA</td>\n",
       "      <td>standalone</td>\n",
       "      <td>https://www.screener.in/company/SULA/</td>\n",
       "      <td>Null</td>\n",
       "      <td>Null</td>\n",
       "    </tr>\n",
       "  </tbody>\n",
       "</table>\n",
       "</div>"
      ],
      "text/plain": [
       "  Stockname Stock Report Type  \\\n",
       "0  UNITDSPR      consolidated   \n",
       "1       UBL      consolidated   \n",
       "2    RADICO        standalone   \n",
       "3      SULA        standalone   \n",
       "\n",
       "                                           Stock Url Sector Industry  \n",
       "0  https://www.screener.in/company/UNITDSPR/conso...   Null     Null  \n",
       "1  https://www.screener.in/company/UBL/consolidated/   Null     Null  \n",
       "2            https://www.screener.in/company/RADICO/   Null     Null  \n",
       "3              https://www.screener.in/company/SULA/   Null     Null  "
      ]
     },
     "execution_count": 14,
     "metadata": {},
     "output_type": "execute_result"
    }
   ],
   "source": [
    "df_basic_info"
   ]
  },
  {
   "cell_type": "code",
   "execution_count": null,
   "id": "17652e71-6bbd-4709-8029-06d59cf49ceb",
   "metadata": {},
   "outputs": [],
   "source": [
    "<table>\n",
    "  <tr>\n",
    "    <th>Stock Symbol</th>\n",
    "    <th>Link</th>\n",
    "  </tr>\n",
    "  <tr>\n",
    "    <td>Alfreds Futterkiste</td>\n",
    "    <td>Maria Anders</td>\n",
    "  </tr>\n",
    "  <tr>\n",
    "    <td>Centro comercial Moctezuma</td>\n",
    "    <td>Francisco Chang</td>\n",
    "    <td>Mexico</td>\n",
    "  </tr>\n",
    "</table>\n",
    "\n",
    "\n"
   ]
  },
  {
   "cell_type": "code",
   "execution_count": 23,
   "id": "73910e23-9a24-45c1-a7b1-9d2b9a75f81d",
   "metadata": {},
   "outputs": [
    {
     "name": "stdout",
     "output_type": "stream",
     "text": [
      "<table style='padding: 15px; border: 1px solid black; font-family: Arial;'><tr><th>Stock Symbol</th><th>Link</th></tr><tr><td>UNITDSPR</td><td><a href='https://www.screener.in/company/UNITDSPR/consolidated/' target='_blank'>Go to Screener.in - UNITDSPR</a></td></tr><tr><td>UBL</td><td><a href='https://www.screener.in/company/UBL/consolidated/' target='_blank'>Go to Screener.in - UBL</a></td></tr><tr><td>RADICO</td><td><a href='https://www.screener.in/company/RADICO/' target='_blank'>Go to Screener.in - RADICO</a></td></tr><tr><td>SULA</td><td><a href='https://www.screener.in/company/SULA/' target='_blank'>Go to Screener.in - SULA</a></td></tr></table><br /><hr /><br />\n"
     ]
    }
   ],
   "source": [
    "stock_info = \"<table style='padding: 15px; border: 1px solid black; font-family: Arial;'><tr><th>Stock Symbol</th><th>Link</th></tr>\"\n",
    "for idx, row in df_basic_info.iterrows():\n",
    "    stock_name = row['Stockname']\n",
    "    stock_url = row['Stock Url']\n",
    "    temp = f\"<tr><td>{stock_name}</td><td><a href='{stock_url}' target='_blank'>Go to Screener.in - {stock_name}</a></td></tr>\"\n",
    "    stock_info = stock_info + temp\n",
    "    \n",
    "stock_info = stock_info + \"</table><br /><hr /><br />\"\n",
    "\n",
    "print(stock_info)\n"
   ]
  },
  {
   "cell_type": "code",
   "execution_count": null,
   "id": "873d5bbd-196b-426f-b561-17237d898a63",
   "metadata": {},
   "outputs": [],
   "source": []
  },
  {
   "cell_type": "code",
   "execution_count": null,
   "id": "e970ddc1-b217-4c0a-beda-544a20ad2512",
   "metadata": {},
   "outputs": [],
   "source": []
  }
 ],
 "metadata": {
  "kernelspec": {
   "display_name": "Python 3 (ipykernel)",
   "language": "python",
   "name": "python3"
  },
  "language_info": {
   "codemirror_mode": {
    "name": "ipython",
    "version": 3
   },
   "file_extension": ".py",
   "mimetype": "text/x-python",
   "name": "python",
   "nbconvert_exporter": "python",
   "pygments_lexer": "ipython3",
   "version": "3.11.4"
  }
 },
 "nbformat": 4,
 "nbformat_minor": 5
}
