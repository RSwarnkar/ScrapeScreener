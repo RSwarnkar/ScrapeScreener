{
 "cells": [
  {
   "cell_type": "markdown",
   "id": "1a058afb-05ca-4f5d-b5be-e73b9cbfb596",
   "metadata": {},
   "source": [
    "# Analyze EPS (Earnings Per Share):"
   ]
  },
  {
   "cell_type": "markdown",
   "id": "15785b49-86bf-4435-96e6-09041ac4da4b",
   "metadata": {},
   "source": [
    "Read all Excels \n",
    "\n",
    "Add stock name column \n",
    "\n",
    "Read the EPS for all companies \n",
    "\n",
    "Consolidate into the dataframe \n",
    "\n",
    "compute pct increase \n",
    "\n",
    "plot this and compare "
   ]
  },
  {
   "cell_type": "code",
   "execution_count": 1,
   "id": "1fac0f85-efb6-4403-9b08-4c89a8c88ed5",
   "metadata": {},
   "outputs": [],
   "source": [
    "# Imports"
   ]
  },
  {
   "cell_type": "code",
   "execution_count": 1,
   "id": "ea8f7429-7b5f-43ed-a27d-0dbba2b5937c",
   "metadata": {},
   "outputs": [],
   "source": [
    "import requests as rq\n",
    "import pandas as pd \n",
    "import time\n",
    "import datetime\n",
    "from bs4 import BeautifulSoup\n",
    "import re\n",
    "import os\n"
   ]
  },
  {
   "cell_type": "code",
   "execution_count": 9,
   "id": "ddb129f5-278d-48c9-9d9d-365b6c73ce2d",
   "metadata": {},
   "outputs": [
    {
     "data": {
      "text/html": [
       "<div>\n",
       "<style scoped>\n",
       "    .dataframe tbody tr th:only-of-type {\n",
       "        vertical-align: middle;\n",
       "    }\n",
       "\n",
       "    .dataframe tbody tr th {\n",
       "        vertical-align: top;\n",
       "    }\n",
       "\n",
       "    .dataframe thead th {\n",
       "        text-align: right;\n",
       "    }\n",
       "</style>\n",
       "<table border=\"1\" class=\"dataframe\">\n",
       "  <thead>\n",
       "    <tr style=\"text-align: right;\">\n",
       "      <th></th>\n",
       "      <th>Screener Stock Symbol</th>\n",
       "      <th>Url Segment</th>\n",
       "    </tr>\n",
       "  </thead>\n",
       "  <tbody>\n",
       "    <tr>\n",
       "      <th>0</th>\n",
       "      <td>526433</td>\n",
       "      <td>consolidated</td>\n",
       "    </tr>\n",
       "    <tr>\n",
       "      <th>1</th>\n",
       "      <td>532407</td>\n",
       "      <td>consolidated</td>\n",
       "    </tr>\n",
       "    <tr>\n",
       "      <th>2</th>\n",
       "      <td>544021</td>\n",
       "      <td>consolidated</td>\n",
       "    </tr>\n",
       "    <tr>\n",
       "      <th>3</th>\n",
       "      <td>AARTIDRUGS</td>\n",
       "      <td>consolidated</td>\n",
       "    </tr>\n",
       "    <tr>\n",
       "      <th>4</th>\n",
       "      <td>AARTIIND</td>\n",
       "      <td>consolidated</td>\n",
       "    </tr>\n",
       "  </tbody>\n",
       "</table>\n",
       "</div>"
      ],
      "text/plain": [
       "  Screener Stock Symbol   Url Segment\n",
       "0                526433  consolidated\n",
       "1                532407  consolidated\n",
       "2                544021  consolidated\n",
       "3            AARTIDRUGS  consolidated\n",
       "4              AARTIIND  consolidated"
      ]
     },
     "execution_count": 9,
     "metadata": {},
     "output_type": "execute_result"
    }
   ],
   "source": [
    "folder_path = \"output/07082024084502\" ## UPDATE THIS \n",
    "\n",
    "df = pd.read_csv(\"screener-stocks-list.csv\")\n",
    "df.head(5)\n"
   ]
  },
  {
   "cell_type": "code",
   "execution_count": 10,
   "id": "f97614b4-bb08-4a36-aaa7-fcb6dea98165",
   "metadata": {},
   "outputs": [],
   "source": [
    "df_quaterly_results = pd.DataFrame([])\n",
    "\n",
    "for index, row in df.iterrows():\n",
    "    stock_symbol = row[\"Screener Stock Symbol\"]\n",
    "    filepath = folder_path + \"/\" + stock_symbol + \".xlsx\"\n",
    "    df_data =  pd.read_excel(filepath, sheet_name=\"Quarterly Results\")\n",
    "    \n",
    "    # Add stockname column and move into 2nd position: \n",
    "    df_data['Stockname'] = stock_symbol\n",
    "    column_to_move = df_data.pop(\"Stockname\")\n",
    "    df_data.insert(1, \"Stockname\", column_to_move)\n",
    "    df_quaterly_results = pd.concat([df_quaterly_results, df_data], ignore_index=True, sort=False)\n",
    "    \n",
    "    "
   ]
  },
  {
   "cell_type": "code",
   "execution_count": 11,
   "id": "5b4e8d1e-3690-43f8-b15f-4d8cd66ac2d9",
   "metadata": {},
   "outputs": [
    {
     "name": "stdout",
     "output_type": "stream",
     "text": [
      "1805\n"
     ]
    }
   ],
   "source": [
    "print(len(df_quaterly_results))"
   ]
  },
  {
   "cell_type": "code",
   "execution_count": 12,
   "id": "e0a31f95-d793-4889-aa34-72c9f3ac17c7",
   "metadata": {},
   "outputs": [
    {
     "data": {
      "text/html": [
       "<div>\n",
       "<style scoped>\n",
       "    .dataframe tbody tr th:only-of-type {\n",
       "        vertical-align: middle;\n",
       "    }\n",
       "\n",
       "    .dataframe tbody tr th {\n",
       "        vertical-align: top;\n",
       "    }\n",
       "\n",
       "    .dataframe thead th {\n",
       "        text-align: right;\n",
       "    }\n",
       "</style>\n",
       "<table border=\"1\" class=\"dataframe\">\n",
       "  <thead>\n",
       "    <tr style=\"text-align: right;\">\n",
       "      <th></th>\n",
       "      <th>Quarterly Results</th>\n",
       "      <th>Stockname</th>\n",
       "      <th>Mar 2021</th>\n",
       "      <th>Jun 2021</th>\n",
       "      <th>Sep 2021</th>\n",
       "      <th>Dec 2021</th>\n",
       "      <th>Mar 2022</th>\n",
       "      <th>Jun 2022</th>\n",
       "      <th>Sep 2022</th>\n",
       "      <th>Dec 2022</th>\n",
       "      <th>...</th>\n",
       "      <th>Dec 2012</th>\n",
       "      <th>Mar 2013</th>\n",
       "      <th>Jun 2013</th>\n",
       "      <th>Sep 2013</th>\n",
       "      <th>Dec 2013</th>\n",
       "      <th>Mar 2014</th>\n",
       "      <th>Dec 2014</th>\n",
       "      <th>Mar 2015</th>\n",
       "      <th>Jun 2014</th>\n",
       "      <th>Sep 2014</th>\n",
       "    </tr>\n",
       "  </thead>\n",
       "  <tbody>\n",
       "    <tr>\n",
       "      <th>count</th>\n",
       "      <td>1768</td>\n",
       "      <td>1805</td>\n",
       "      <td>429</td>\n",
       "      <td>1434</td>\n",
       "      <td>1434</td>\n",
       "      <td>1456</td>\n",
       "      <td>1488</td>\n",
       "      <td>1509</td>\n",
       "      <td>1499</td>\n",
       "      <td>1522</td>\n",
       "      <td>...</td>\n",
       "      <td>22</td>\n",
       "      <td>22</td>\n",
       "      <td>22</td>\n",
       "      <td>22</td>\n",
       "      <td>22</td>\n",
       "      <td>22</td>\n",
       "      <td>22</td>\n",
       "      <td>22</td>\n",
       "      <td>11</td>\n",
       "      <td>11</td>\n",
       "    </tr>\n",
       "    <tr>\n",
       "      <th>unique</th>\n",
       "      <td>17</td>\n",
       "      <td>149</td>\n",
       "      <td>311</td>\n",
       "      <td>880</td>\n",
       "      <td>880</td>\n",
       "      <td>893</td>\n",
       "      <td>926</td>\n",
       "      <td>911</td>\n",
       "      <td>942</td>\n",
       "      <td>953</td>\n",
       "      <td>...</td>\n",
       "      <td>22</td>\n",
       "      <td>22</td>\n",
       "      <td>22</td>\n",
       "      <td>22</td>\n",
       "      <td>22</td>\n",
       "      <td>21</td>\n",
       "      <td>21</td>\n",
       "      <td>22</td>\n",
       "      <td>11</td>\n",
       "      <td>11</td>\n",
       "    </tr>\n",
       "    <tr>\n",
       "      <th>top</th>\n",
       "      <td>Tax %</td>\n",
       "      <td>IDFCFIRSTB</td>\n",
       "      <td>4</td>\n",
       "      <td>0</td>\n",
       "      <td>26%</td>\n",
       "      <td>26%</td>\n",
       "      <td>26%</td>\n",
       "      <td>25%</td>\n",
       "      <td>0</td>\n",
       "      <td>26%</td>\n",
       "      <td>...</td>\n",
       "      <td>19.51</td>\n",
       "      <td>16.61</td>\n",
       "      <td>15.67</td>\n",
       "      <td>20.27</td>\n",
       "      <td>12.35</td>\n",
       "      <td>0</td>\n",
       "      <td>0</td>\n",
       "      <td>8.34</td>\n",
       "      <td>191</td>\n",
       "      <td>206</td>\n",
       "    </tr>\n",
       "    <tr>\n",
       "      <th>freq</th>\n",
       "      <td>146</td>\n",
       "      <td>14</td>\n",
       "      <td>7</td>\n",
       "      <td>26</td>\n",
       "      <td>28</td>\n",
       "      <td>32</td>\n",
       "      <td>24</td>\n",
       "      <td>32</td>\n",
       "      <td>25</td>\n",
       "      <td>26</td>\n",
       "      <td>...</td>\n",
       "      <td>1</td>\n",
       "      <td>1</td>\n",
       "      <td>1</td>\n",
       "      <td>1</td>\n",
       "      <td>1</td>\n",
       "      <td>2</td>\n",
       "      <td>2</td>\n",
       "      <td>1</td>\n",
       "      <td>1</td>\n",
       "      <td>1</td>\n",
       "    </tr>\n",
       "  </tbody>\n",
       "</table>\n",
       "<p>4 rows × 44 columns</p>\n",
       "</div>"
      ],
      "text/plain": [
       "       Quarterly Results   Stockname Mar 2021 Jun 2021 Sep 2021 Dec 2021  \\\n",
       "count               1768        1805      429     1434     1434     1456   \n",
       "unique                17         149      311      880      880      893   \n",
       "top                Tax %  IDFCFIRSTB        4        0      26%      26%   \n",
       "freq                 146          14        7       26       28       32   \n",
       "\n",
       "       Mar 2022 Jun 2022 Sep 2022 Dec 2022  ... Dec 2012 Mar 2013 Jun 2013  \\\n",
       "count      1488     1509     1499     1522  ...       22       22       22   \n",
       "unique      926      911      942      953  ...       22       22       22   \n",
       "top         26%      25%        0      26%  ...    19.51    16.61    15.67   \n",
       "freq         24       32       25       26  ...        1        1        1   \n",
       "\n",
       "       Sep 2013 Dec 2013 Mar 2014 Dec 2014 Mar 2015 Jun 2014 Sep 2014  \n",
       "count        22       22       22       22       22       11       11  \n",
       "unique       22       22       21       21       22       11       11  \n",
       "top       20.27    12.35        0        0     8.34      191      206  \n",
       "freq          1        1        2        2        1        1        1  \n",
       "\n",
       "[4 rows x 44 columns]"
      ]
     },
     "execution_count": 12,
     "metadata": {},
     "output_type": "execute_result"
    }
   ],
   "source": [
    "df_quaterly_results.describe()"
   ]
  },
  {
   "cell_type": "code",
   "execution_count": 13,
   "id": "8635c95b-02ea-4aca-8874-ad06cff03ba3",
   "metadata": {},
   "outputs": [
    {
     "data": {
      "text/plain": [
       "Index(['Quarterly Results', 'Stockname', 'Mar 2021', 'Jun 2021', 'Sep 2021',\n",
       "       'Dec 2021', 'Mar 2022', 'Jun 2022', 'Sep 2022', 'Dec 2022', 'Mar 2023',\n",
       "       'Jun 2023', 'Sep 2023', 'Dec 2023', 'Mar 2024', 'Jun 2024', 'Dec 2011',\n",
       "       'Mar 2019', 'Jun 2019', 'Sep 2019', 'Jun 2018', 'Sep 2018', 'Dec 2018',\n",
       "       'Dec 2019', 'Mar 2020', 'Revenue', 'Dec 2020', 'Jun 2020', 'Sep 2020',\n",
       "       'Sales +', 'Sep 2011', 'Mar 2012', 'Jun 2012', 'Sep 2012', 'Dec 2012',\n",
       "       'Mar 2013', 'Jun 2013', 'Sep 2013', 'Dec 2013', 'Mar 2014', 'Dec 2014',\n",
       "       'Mar 2015', 'Jun 2014', 'Sep 2014'],\n",
       "      dtype='object')"
      ]
     },
     "execution_count": 13,
     "metadata": {},
     "output_type": "execute_result"
    }
   ],
   "source": [
    "df_quaterly_results.columns"
   ]
  },
  {
   "cell_type": "code",
   "execution_count": 14,
   "id": "63272804-6f8d-40a2-baa7-777789f128ae",
   "metadata": {},
   "outputs": [],
   "source": [
    "df_quaterly_results.to_csv(\"temp-database.csv\",index=False,sep=\",\")"
   ]
  },
  {
   "cell_type": "code",
   "execution_count": null,
   "id": "de167b3e-331a-49bc-ac47-e471c7cd1dfa",
   "metadata": {},
   "outputs": [],
   "source": []
  }
 ],
 "metadata": {
  "kernelspec": {
   "display_name": "rswarnka",
   "language": "python",
   "name": "rswarnka"
  },
  "language_info": {
   "codemirror_mode": {
    "name": "ipython",
    "version": 3
   },
   "file_extension": ".py",
   "mimetype": "text/x-python",
   "name": "python",
   "nbconvert_exporter": "python",
   "pygments_lexer": "ipython3",
   "version": "3.11.4"
  }
 },
 "nbformat": 4,
 "nbformat_minor": 5
}
