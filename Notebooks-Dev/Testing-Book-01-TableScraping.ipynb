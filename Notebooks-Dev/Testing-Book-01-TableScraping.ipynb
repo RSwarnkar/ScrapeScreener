{
 "cells": [
  {
   "cell_type": "markdown",
   "id": "9473cd2e-f9b4-4cb6-99c3-4d652716306a",
   "metadata": {},
   "source": [
    "# Testing Book: "
   ]
  },
  {
   "cell_type": "code",
   "execution_count": 1,
   "id": "9a4abb2c-cb21-4644-b4e7-1dd4d2c2e954",
   "metadata": {},
   "outputs": [],
   "source": [
    "import requests as rq\n",
    "import pandas as pd \n"
   ]
  },
  {
   "cell_type": "markdown",
   "id": "423171ef-9bf4-4e1f-aa25-fc37a3a01073",
   "metadata": {},
   "source": [
    "## Scrape all tables: "
   ]
  },
  {
   "cell_type": "code",
   "execution_count": 2,
   "id": "c313a388-4734-4580-830d-7afc0a0d398a",
   "metadata": {},
   "outputs": [
    {
     "name": "stdout",
     "output_type": "stream",
     "text": [
      "Loading Page for  DMART\n",
      "11\n"
     ]
    }
   ],
   "source": [
    "stock_symbol = \"DMART\"\n",
    "url = \"https://www.screener.in/company/\"+stock_symbol+\"/consolidated/\"\n",
    "print(\"Loading Page for \",stock_symbol)\n",
    "tables = pd.read_html(url)\n",
    "print(len(tables))\n",
    "# print(tables[9]) # 0 to 11\n",
    "\n",
    "df_quaterly_results         = tables[0] # Quarterly Results\n",
    "df_profit_n_loss            = tables[1] # Profit & Loss\n",
    "df_compounded_sales_growth  = tables[2] # Compounded Sales Growth\n",
    "df_compounded_profit_growth = tables[3] # Compounded Profit Growth\n",
    "df_stock_price_cagr         = tables[4] # Stock Price CAGR\n",
    "df_return_on_equity         = tables[5] # Return on Equity\n",
    "df_balance_sheet            = tables[6] # Balance Sheet\n",
    "df_cash_flows               = tables[7] # Cash Flows\n",
    "df_ratios                   = tables[8] # Ratios\n",
    "df_shareholding_pattern     = tables[9] # Shareholding Pattern\n",
    "#df_shareholding_pattern_yoy = tables[10] # Shareholding Pattern"
   ]
  },
  {
   "cell_type": "code",
   "execution_count": null,
   "id": "6fb711d4-7099-4536-8eac-8c0444efc089",
   "metadata": {},
   "outputs": [],
   "source": []
  }
 ],
 "metadata": {
  "kernelspec": {
   "display_name": "rswarnka",
   "language": "python",
   "name": "rswarnka"
  },
  "language_info": {
   "codemirror_mode": {
    "name": "ipython",
    "version": 3
   },
   "file_extension": ".py",
   "mimetype": "text/x-python",
   "name": "python",
   "nbconvert_exporter": "python",
   "pygments_lexer": "ipython3",
   "version": "3.11.4"
  }
 },
 "nbformat": 4,
 "nbformat_minor": 5
}
