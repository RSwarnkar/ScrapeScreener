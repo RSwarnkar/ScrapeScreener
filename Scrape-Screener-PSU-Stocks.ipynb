{
 "cells": [
  {
   "cell_type": "markdown",
   "id": "0b95b543-b497-433f-bf9d-95d104967229",
   "metadata": {},
   "source": [
    "# Scrape Screener\n",
    "## Jupyter notebook that scrapes stocks data from Screener.in "
   ]
  },
  {
   "cell_type": "markdown",
   "id": "058cb0ff-b307-4e5a-9889-055c499f119b",
   "metadata": {},
   "source": [
    "* Sheet 1: Top Ratios \r\n",
    "* Sheet 2: Quarterly Results\r\n",
    "* Sheet 3: Profit & Loss\r\n",
    "* Sheet 4: Compounded Sales Growth\r\n",
    "* Sheet 5: Compounded Profit Growth\r\n",
    "* Sheet 6: Stock Price CAGR \r\n",
    "* Sheet 7: Return on Equity\r\n",
    "* Sheet 8: Balance Sheet\r\n",
    "* Sheet 9: Cash Flows\r\n",
    "* Sheet 10: Ratios\r\n",
    "* Sheet 11: Shareholding Pattern\r\n",
    "ng Pattern"
   ]
  },
  {
   "cell_type": "markdown",
   "id": "3248e3e6-7420-43c1-8e08-84de85234c66",
   "metadata": {},
   "source": [
    "### 1.1 Imports: "
   ]
  },
  {
   "cell_type": "code",
   "execution_count": 1,
   "id": "9a4abb2c-cb21-4644-b4e7-1dd4d2c2e954",
   "metadata": {},
   "outputs": [],
   "source": [
    "import requests as rq\n",
    "import pandas as pd \n",
    "import time\n",
    "import datetime\n",
    "from bs4 import BeautifulSoup\n",
    "import re\n",
    "import os\n"
   ]
  },
  {
   "cell_type": "markdown",
   "id": "0e341645-7e6f-4859-9301-245d9582c803",
   "metadata": {},
   "source": [
    "### 1.2 Read Stock List: "
   ]
  },
  {
   "cell_type": "code",
   "execution_count": 2,
   "id": "86feab31-0ab8-4f9f-a717-bfa808e87503",
   "metadata": {},
   "outputs": [
    {
     "data": {
      "text/html": [
       "<div>\n",
       "<style scoped>\n",
       "    .dataframe tbody tr th:only-of-type {\n",
       "        vertical-align: middle;\n",
       "    }\n",
       "\n",
       "    .dataframe tbody tr th {\n",
       "        vertical-align: top;\n",
       "    }\n",
       "\n",
       "    .dataframe thead th {\n",
       "        text-align: right;\n",
       "    }\n",
       "</style>\n",
       "<table border=\"1\" class=\"dataframe\">\n",
       "  <thead>\n",
       "    <tr style=\"text-align: right;\">\n",
       "      <th></th>\n",
       "      <th>Screener Stock Symbol</th>\n",
       "      <th>Url Segment</th>\n",
       "    </tr>\n",
       "  </thead>\n",
       "  <tbody>\n",
       "    <tr>\n",
       "      <th>0</th>\n",
       "      <td>BANKBARODA</td>\n",
       "      <td>Consolidated</td>\n",
       "    </tr>\n",
       "    <tr>\n",
       "      <th>1</th>\n",
       "      <td>SBIN</td>\n",
       "      <td>Consolidated</td>\n",
       "    </tr>\n",
       "    <tr>\n",
       "      <th>2</th>\n",
       "      <td>BPCL</td>\n",
       "      <td>Consolidated</td>\n",
       "    </tr>\n",
       "  </tbody>\n",
       "</table>\n",
       "</div>"
      ],
      "text/plain": [
       "  Screener Stock Symbol   Url Segment\n",
       "0            BANKBARODA  Consolidated\n",
       "1                  SBIN  Consolidated\n",
       "2                  BPCL  Consolidated"
      ]
     },
     "execution_count": 2,
     "metadata": {},
     "output_type": "execute_result"
    }
   ],
   "source": [
    "df = pd.read_csv(\"psu-stocks-list.csv\")\n",
    "df.head(3)"
   ]
  },
  {
   "cell_type": "markdown",
   "id": "47516550-7749-4695-a6cd-b245de2bd78b",
   "metadata": {},
   "source": [
    "### 1.3 Scrape and create reports: "
   ]
  },
  {
   "cell_type": "code",
   "execution_count": 3,
   "id": "7179adbf-405a-43b2-af6c-182e97a2a1f5",
   "metadata": {},
   "outputs": [
    {
     "name": "stdout",
     "output_type": "stream",
     "text": [
      "Loading Page for  BANKBARODA\n",
      "Loading Page for  SBIN\n",
      "Loading Page for  BPCL\n",
      "Loading Page for  MMTC\n",
      "Loading Page for  RCF\n",
      "Loading Page for  BEL\n",
      "Loading Page for  SAIL\n",
      "Loading Page for  NLCINDIA\n",
      "Loading Page for  NATIONALUM\n",
      "Loading Page for  HINDPETRO\n",
      "Loading Page for  BHEL\n",
      "Loading Page for  ITI\n",
      "Loading Page for  MRPL\n",
      "Loading Page for  HINDCOPPER\n",
      "Loading Page for  OIL\n",
      "Loading Page for  POWERGRID\n",
      "Loading Page for  CANBK\n",
      "Loading Page for  UCOBANK\n",
      "Loading Page for  GICRE\n",
      "Loading Page for  UNIONBANK\n",
      "Loading Page for  IRCON\n",
      "Loading Page for  CENTRALBK\n",
      "Loading Page for  MAHABANK\n",
      "Loading Page for  BANKINDIA\n",
      "Loading Page for  COCHINSHIP\n",
      "Loading Page for  PSB\n",
      "Loading Page for  IOB\n",
      "Loading Page for  INDIANB\n",
      "Loading Page for  ONGC\n",
      "Loading Page for  PNB\n",
      "Loading Page for  NTPC\n",
      "Loading Page for  IOC\n",
      "Loading Page for  COALINDIA\n",
      "Loading Page for  LICI\n",
      "Loading Page for  ENGINERSIN\n",
      "Loading Page for  HAL\n",
      "Loading Page for  NMDC\n",
      "Loading Page for  PFC\n",
      "Loading Page for  SJVN\n",
      "Loading Page for  HUDCO\n",
      "Loading Page for  NIACL\n",
      "Loading Page for  GAIL\n",
      "Loading Page for  KIOCL\n",
      "Loading Page for  NHPC\n",
      "Loading Page for  CONCOR\n",
      "Loading Page for  IRFC\n",
      "Loading Page for  MAZDOCK\n",
      "Loading Page for  NBCC\n",
      "Loading Page for  MIDHANI\n",
      "Loading Page for  BDL\n",
      "Loading Page for  RECLTD\n",
      "Loading Page for  IRCTC\n",
      "Loading Page for  RITES\n",
      "Loading Page for  RVNL\n",
      "Loading Page for  GUJGASLTD\n",
      "Loading Page for  SCI\n",
      "All Done!\n"
     ]
    }
   ],
   "source": [
    "i = 0\n",
    "writer = None\n",
    "dir_path = \"output/\"+datetime.datetime.now().strftime(\"%d%m%Y%H%M%S\")+\"/\"\n",
    "\n",
    "if not os.path.exists(dir_path):\n",
    "    os.makedirs(dir_path)\n",
    "\n",
    "for index, row in df.iterrows():\n",
    "    stock_symbol = row[\"Screener Stock Symbol\"]\n",
    "    url_segment = row[\"Url Segment\"]\n",
    "    if url_segment==\"consolidated\":\n",
    "        url =  \"https://www.screener.in/company/\"+stock_symbol+\"/consolidated/\"\n",
    "    else:\n",
    "        url =  \"https://www.screener.in/company/\"+stock_symbol+\"/\"\n",
    "    # print(url)\n",
    "    print(\"Loading Page for \",stock_symbol)\n",
    "    tables = pd.read_html(url)\n",
    "    time.sleep(1) # Seconds\n",
    "    # Get all Tables in separate dataframes\n",
    "    df_quaterly_results         = tables[0] # Quarterly Results\n",
    "    df_profit_n_loss            = tables[1] # Profit & Loss\n",
    "    df_compounded_sales_growth  = tables[2] # Compounded Sales Growth\n",
    "    df_compounded_profit_growth = tables[3] # Compounded Profit Growth\n",
    "    df_stock_price_cagr         = tables[4] # Stock Price CAGR\n",
    "    df_return_on_equity         = tables[5] # Return on Equity\n",
    "    df_balance_sheet            = tables[6] # Balance Sheet\n",
    "    df_cash_flows               = tables[7] # Cash Flows\n",
    "    df_ratios                   = tables[8] # Ratios\n",
    "    df_shareholding_pattern     = tables[9] # Shareholding Pattern\n",
    "    \n",
    "    # Cleanup table: Quarterly Results\n",
    "    df_quaterly_results.rename(columns={'Unnamed: 0':'Quarterly Results'}, inplace=True)\n",
    "    df_quaterly_results.replace(u\"\\u00A0\\+\", \"\", regex=True,inplace=True) \n",
    "    \n",
    "    # Cleanup table: Profit & Loss\n",
    "    df_profit_n_loss.rename(columns={'Unnamed: 0':'Profit and Loss'}, inplace=True)\n",
    "    df_profit_n_loss.replace(u\"\\u00A0\\+\", \"\", regex=True,inplace=True) \n",
    "\n",
    "    # Cleanup table: Compounded Sales Growth\n",
    "    df_compounded_sales_growth.replace(\":\", \"\", regex=True,inplace=True) \n",
    "    \n",
    "    # Cleanup table: Compounded Profit Growth\n",
    "    df_compounded_profit_growth.replace(\":\", \"\", regex=True,inplace=True) \n",
    "    \n",
    "    # Cleanup table: Stock Price CAGR\n",
    "    df_stock_price_cagr.replace(\":\", \"\", regex=True,inplace=True) \n",
    "    \n",
    "    # Cleanup table: Return on Equity\n",
    "    df_return_on_equity.replace(\":\", \"\", regex=True,inplace=True) \n",
    "    \n",
    "    # Cleanup table: Balance Sheet\n",
    "    df_balance_sheet.rename(columns={'Unnamed: 0':'Balance Sheet'}, inplace=True)\n",
    "    df_balance_sheet.replace(u\"\\u00A0\\+\", \"\", regex=True,inplace=True) \n",
    "    \n",
    "    # Cleanup table: Cash Flows\n",
    "    df_cash_flows.rename(columns={'Unnamed: 0':'Cash Flows'}, inplace=True)\n",
    "    df_cash_flows.replace(u\"\\u00A0\\+\", \"\", regex=True,inplace=True) \n",
    "    \n",
    "    # Cleanup table: Ratios\n",
    "    df_ratios.rename(columns={'Unnamed: 0':'Ratios'}, inplace=True)\n",
    "    \n",
    "    # Cleanup table: Shareholding Pattern\n",
    "    df_shareholding_pattern.rename(columns={'Unnamed: 0':'Shareholding Pattern'}, inplace=True)\n",
    "    df_shareholding_pattern.replace(u\"\\u00A0\\+\", \"\", regex=True,inplace=True)\n",
    "    \n",
    "    sheet_names = [\"Quarterly Results\", \"Profit & Loss\", \"Compounded Sales Growth\", \"Compounded Profit Growth\", \n",
    "                   \"Stock Price CAGR\", \"Return on Equity\", \"Balance Sheet\", \"Cash Flows\", \"Ratios\", \"Shareholding Pattern\"]\n",
    "    dataframes  = [df_quaterly_results, df_profit_n_loss , df_compounded_sales_growth, df_compounded_profit_growth, \n",
    "                   df_stock_price_cagr, df_return_on_equity, df_balance_sheet, df_cash_flows, df_ratios, df_shareholding_pattern]\n",
    "    \n",
    "    writer = pd.ExcelWriter(dir_path + stock_symbol + \".xlsx\" , engine='xlsxwriter')\n",
    "    for i, frame in enumerate(dataframes):\n",
    "        frame.to_excel(writer, sheet_name = sheet_names[i], index=False)\n",
    "    writer.close()\n",
    "    writer.handles = None\n",
    "\n",
    "print(\"All Done!\")\n",
    "\n"
   ]
  },
  {
   "cell_type": "markdown",
   "id": "9473cd2e-f9b4-4cb6-99c3-4d652716306a",
   "metadata": {},
   "source": [
    "## 2.0 Testing Area: "
   ]
  },
  {
   "cell_type": "markdown",
   "id": "f5b8f1bf-58a5-4922-8b83-677d968de274",
   "metadata": {},
   "source": [
    "### 2.1 Fetch List Items: "
   ]
  },
  {
   "cell_type": "code",
   "execution_count": 3,
   "id": "6c823328-403d-4136-92fb-33db88c16e55",
   "metadata": {},
   "outputs": [
    {
     "name": "stdout",
     "output_type": "stream",
     "text": [
      " Market Cap ₹ 3,19,278 Cr. \n",
      " Current Price ₹ 4,910 \n",
      " High / Low ₹ 5,220 / 3,491 \n",
      " Stock P/E 120 \n",
      " Book Value ₹ 287 \n",
      " Dividend Yield 0.00 % \n",
      " ROCE 19.4 % \n",
      " ROE 14.5 % \n",
      " Face Value ₹ 10.0 \n"
     ]
    }
   ],
   "source": [
    "stock_symbol = \"DMART\"\n",
    "url = \"https://www.screener.in/company/\"+stock_symbol+\"/consolidated/\"\n",
    "\n",
    "response = rq.get(url)\n",
    "# Parse the HTML content\n",
    "soup = BeautifulSoup(response.content, \"html.parser\")\n",
    "# Find the unordered list\n",
    "ul = soup.find(\"ul#top-ratios\")  # You might need to use a more specific selector like ul.my-list\n",
    "for ul in soup.findAll('ul', id='top-ratios'):\n",
    "    for li in ul.findAll('li'):\n",
    "        li_parsed_text = li.text\n",
    "        print(re.sub('[\\s ]+', ' ', li_parsed_text))\n",
    "        #print(li_parsed_text)"
   ]
  },
  {
   "cell_type": "markdown",
   "id": "423171ef-9bf4-4e1f-aa25-fc37a3a01073",
   "metadata": {},
   "source": [
    "### 2.2 Test tables: "
   ]
  },
  {
   "cell_type": "code",
   "execution_count": 5,
   "id": "c313a388-4734-4580-830d-7afc0a0d398a",
   "metadata": {},
   "outputs": [
    {
     "name": "stdout",
     "output_type": "stream",
     "text": [
      "Loading Page for  DMART\n",
      "11\n"
     ]
    }
   ],
   "source": [
    "stock_symbol = \"DMART\"\n",
    "url = \"https://www.screener.in/company/\"+stock_symbol+\"/consolidated/\"\n",
    "print(\"Loading Page for \",stock_symbol)\n",
    "tables = pd.read_html(url)\n",
    "print(len(tables))\n",
    "# print(tables[9]) # 0 to 11\n",
    "\n",
    "df_quaterly_results         = tables[0] # Quarterly Results\n",
    "df_profit_n_loss            = tables[1] # Profit & Loss\n",
    "df_compounded_sales_growth  = tables[2] # Compounded Sales Growth\n",
    "df_compounded_profit_growth = tables[3] # Compounded Profit Growth\n",
    "df_stock_price_cagr         = tables[4] # Stock Price CAGR\n",
    "df_return_on_equity         = tables[5] # Return on Equity\n",
    "df_balance_sheet            = tables[6] # Balance Sheet\n",
    "df_cash_flows               = tables[7] # Cash Flows\n",
    "df_ratios                   = tables[8] # Ratios\n",
    "df_shareholding_pattern     = tables[9] # Shareholding Pattern\n",
    "#df_shareholding_pattern_yoy = tables[10] # Shareholding Pattern"
   ]
  },
  {
   "cell_type": "code",
   "execution_count": null,
   "id": "6fb711d4-7099-4536-8eac-8c0444efc089",
   "metadata": {},
   "outputs": [],
   "source": []
  }
 ],
 "metadata": {
  "kernelspec": {
   "display_name": "rswarnka",
   "language": "python",
   "name": "rswarnka"
  },
  "language_info": {
   "codemirror_mode": {
    "name": "ipython",
    "version": 3
   },
   "file_extension": ".py",
   "mimetype": "text/x-python",
   "name": "python",
   "nbconvert_exporter": "python",
   "pygments_lexer": "ipython3",
   "version": "3.11.4"
  }
 },
 "nbformat": 4,
 "nbformat_minor": 5
}
